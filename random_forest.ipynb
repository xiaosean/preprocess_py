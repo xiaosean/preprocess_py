{
 "cells": [
  {
   "cell_type": "markdown",
   "metadata": {},
   "source": [
    "# Read & Clear Data"
   ]
  },
  {
   "cell_type": "code",
   "execution_count": 1,
   "metadata": {
    "collapsed": true
   },
   "outputs": [],
   "source": [
    "import numpy as np\n",
    "import pandas as pd\n",
    "import feather \n",
    "import matplotlib.pyplot as plt  \n",
    "from time import time\n",
    "from mailerWithUtf8 import mail\n",
    "\n",
    "from sklearn.preprocessing import LabelEncoder\n",
    "from sklearn.ensemble import RandomForestClassifier\n",
    "from sklearn.model_selection import train_test_split  \n",
    "from sklearn.externals import joblib\n",
    "from sklearn import preprocessing\n",
    "from sklearn.metrics import confusion_matrix\n",
    "from sklearn.model_selection import cross_val_score\n",
    "import os"
   ]
  },
  {
   "cell_type": "code",
   "execution_count": 2,
   "metadata": {
    "collapsed": true
   },
   "outputs": [],
   "source": [
    "def save_dataframe(df, out_filename):\n",
    "   # write to csv and no index\n",
    "    t0 = time()\n",
    "    df.to_csv(out_filename + \".csv\", index=False, encoding='utf-8')\n",
    "#     df.to_csv(out_filename + \".csv\", encoding='utf-8')\n",
    "    print(\"time for output csv file: %.2f\" % (time()-t0))"
   ]
  },
  {
   "cell_type": "code",
   "execution_count": 3,
   "metadata": {},
   "outputs": [
    {
     "name": "stdout",
     "output_type": "stream",
     "text": [
      "load feather %s seconds 0.5397324562072754\n"
     ]
    }
   ],
   "source": [
    "# start_time = time()\n",
    "# path = \"C:/Users/VIPLAB/Desktop/preprocess_py/marketing_analyze/\"\n",
    "# filename = '0713_april_marketing_anylze_full_table_group12_select_max_min.feather' \n",
    "\n",
    "# train_df = feather.read_dataframe(path + filename)\n",
    "# # df = pd.read_csv(path + filename, error_bad_lines=False)\n",
    "\n",
    "# print('load feather %s seconds', format(time() - start_time))"
   ]
  },
  {
   "cell_type": "code",
   "execution_count": 3,
   "metadata": {},
   "outputs": [
    {
     "name": "stdout",
     "output_type": "stream",
     "text": [
      "load feather %s seconds 2.287687063217163\n"
     ]
    }
   ],
   "source": [
    "start_time = time()\n",
    "path = \"C:/Users/VIPLAB/Desktop/preprocess_py/marketing_analyze/\"\n",
    "filename = '0713_april_marketing_anylze_full_table_group12_select_max_min_train.feather' \n",
    "\n",
    "train_df = feather.read_dataframe(path + filename)\n",
    "# df = pd.read_csv(path + filename, error_bad_lines=False)\n",
    "\n",
    "print('load feather %s seconds', format(time() - start_time))\n"
   ]
  },
  {
   "cell_type": "code",
   "execution_count": 4,
   "metadata": {},
   "outputs": [
    {
     "name": "stdout",
     "output_type": "stream",
     "text": [
      "load feather %s seconds 2.8696556091308594\n"
     ]
    }
   ],
   "source": [
    "filename = '0713_april_marketing_anylze_full_table_group12_select_max_min_test.feather' \n",
    "# filename = '0714_april_marketing_anylze_full_table_group12_select_category_max_min_test.csv' \n",
    "# filename = '0713_april_marketing_anylze_full_table_group12_max_min.feather' \n",
    "\n",
    "test_df = feather.read_dataframe(path + filename)\n",
    "# test_df = pd.read_csv(path + filename, error_bad_lines=False)\n",
    "\n",
    "print('load feather %s seconds', format(time() - start_time))"
   ]
  },
  {
   "cell_type": "code",
   "execution_count": null,
   "metadata": {
    "collapsed": true
   },
   "outputs": [],
   "source": []
  },
  {
   "cell_type": "code",
   "execution_count": 4,
   "metadata": {
    "collapsed": true
   },
   "outputs": [],
   "source": [
    "wants_col = ['SRV_TYPE_DESC',\n",
    " 'GENDER_CODE',\n",
    " 'AGE',\n",
    " 'TENURE_SCV',\n",
    " 'BILL_CITY_NAME',\n",
    " 'DORMANT_MONTH_CNT_MKT',\n",
    " 'IMEI_MFG_NAME',\n",
    " 'IMEI_BAND',\n",
    " 'CHURN_CLM_IND',\n",
    " 'PTY_NP_IN_IND',\n",
    " 'PTY_NP_OUT_IND',\n",
    " 'MDS_CURR_RENEW_CNT',\n",
    " 'PROM_CURR_EXP_MONTH_CNT',\n",
    " 'CURR_PROM_COMMIT_MONTHS',\n",
    " 'NET_INV_AMT',\n",
    " 'AGENCY_AMT',\n",
    " 'MT_STM_AMT',\n",
    " 'VOICE_RC_AMT',\n",
    " 'DATA_RC_AMT',\n",
    " 'ONNET_AMT',\n",
    " 'OFFNETM_AMT',\n",
    " 'PSTN_AMT',\n",
    " 'INT_ROAM_AMT',\n",
    " 'IDD_AMT',\n",
    " 'DATA_INV_AMT',\n",
    " 'VOICE_INV_AMT',\n",
    " 'GOOGLE_PLAY_IND',\n",
    " 'MO_TTL_DURATION',\n",
    " 'MO_ONNET_DUR',\n",
    " 'MO_OFFNET_DUR',\n",
    " 'PSTN_DUR',\n",
    " 'MO_TTL_COUNT',\n",
    " 'MO_ONNET_CNT',\n",
    " 'MO_OFFNET_CNT',\n",
    " 'PSTN_CNT',\n",
    " 'MT_TTL_DURATION',\n",
    " 'MT_ONNET_DUR',\n",
    " 'MT_OFFNET_DUR',\n",
    " 'MT_PSTN_DUR',\n",
    " 'MT_TTL_COUNT',\n",
    " 'MT_ONNET_CNT',\n",
    " 'MT_OFFNET_CNT',\n",
    " 'MT_PSTN_CNT',\n",
    " 'MOST_MO_OPERATOR',\n",
    " 'MOST_MT_OPERATOR',\n",
    " 'MOC_FET_DUR',\n",
    " 'MOC_TWM_DUR',\n",
    " 'MOC_CHM_DUR',\n",
    " 'MOC_OTH_DUR',\n",
    " 'MOC_PSTN_DUR',\n",
    " 'MOST_MO_DUR',\n",
    " 'MTC_FET_DUR',\n",
    " 'MTC_TWM_DUR',\n",
    " 'MTC_CHM_DUR',\n",
    " 'MTC_PSTN_DUR',\n",
    " 'MOST_MT_DUR',\n",
    " 'CUST_TYPE',\n",
    " 'FLAT_RATE_4G_IND',\n",
    " 'FLAT_RATE_3G_IND',\n",
    " 'VOICE_MONTHLY_FEE',\n",
    " 'DATA_MONTHLY_FEE',\n",
    " 'DATA_RATING_USAGE_MB',\n",
    " 'HS_CHG_CNT',\n",
    " 'AVG_HS_USE_MONTH',\n",
    " 'Groups']\n"
   ]
  },
  {
   "cell_type": "code",
   "execution_count": 5,
   "metadata": {
    "collapsed": true
   },
   "outputs": [],
   "source": [
    "train_df = train_df[wants_col]"
   ]
  },
  {
   "cell_type": "code",
   "execution_count": 7,
   "metadata": {
    "collapsed": true
   },
   "outputs": [],
   "source": [
    "# test_df = test_df[wants_col]"
   ]
  },
  {
   "cell_type": "code",
   "execution_count": null,
   "metadata": {
    "collapsed": true
   },
   "outputs": [],
   "source": []
  },
  {
   "cell_type": "code",
   "execution_count": 8,
   "metadata": {
    "collapsed": true
   },
   "outputs": [],
   "source": [
    "train_groups_backup = pd.DataFrame()\n",
    "train_groups_backup[\"Groups\"] = train_df[\"Groups\"]"
   ]
  },
  {
   "cell_type": "code",
   "execution_count": 9,
   "metadata": {
    "collapsed": true
   },
   "outputs": [],
   "source": [
    "test_groups_backup = pd.DataFrame()\n",
    "test_groups_backup[\"Groups\"] = test_df[\"Groups\"]"
   ]
  },
  {
   "cell_type": "code",
   "execution_count": null,
   "metadata": {
    "collapsed": true
   },
   "outputs": [],
   "source": []
  },
  {
   "cell_type": "code",
   "execution_count": 10,
   "metadata": {},
   "outputs": [
    {
     "data": {
      "text/plain": [
       "65"
      ]
     },
     "execution_count": 10,
     "metadata": {},
     "output_type": "execute_result"
    }
   ],
   "source": [
    "len(list(train_df.columns))"
   ]
  },
  {
   "cell_type": "code",
   "execution_count": null,
   "metadata": {
    "collapsed": true
   },
   "outputs": [],
   "source": []
  },
  {
   "cell_type": "code",
   "execution_count": null,
   "metadata": {
    "collapsed": true
   },
   "outputs": [],
   "source": []
  },
  {
   "cell_type": "code",
   "execution_count": 11,
   "metadata": {
    "collapsed": true
   },
   "outputs": [],
   "source": [
    "train_df[\"Groups\"] = train_groups_backup[\"Groups\"]\n",
    "test_df[\"Groups\"] = test_groups_backup[\"Groups\"]"
   ]
  },
  {
   "cell_type": "code",
   "execution_count": 12,
   "metadata": {
    "collapsed": true
   },
   "outputs": [],
   "source": [
    "CLASSIFIER = \"RANDOM_FOREST\"\n",
    "CURRENT_MODE = \"SELECT_MODE\"\n",
    "# groups_idx = 10"
   ]
  },
  {
   "cell_type": "code",
   "execution_count": 13,
   "metadata": {
    "collapsed": true
   },
   "outputs": [],
   "source": [
    "groups = train_df[\"Groups\"].unique()"
   ]
  },
  {
   "cell_type": "code",
   "execution_count": 14,
   "metadata": {},
   "outputs": [
    {
     "ename": "NameError",
     "evalue": "name 'groups_idx' is not defined",
     "output_type": "error",
     "traceback": [
      "\u001b[1;31m---------------------------------------------------------------------------\u001b[0m",
      "\u001b[1;31mNameError\u001b[0m                                 Traceback (most recent call last)",
      "\u001b[1;32m<ipython-input-14-c8fd0e912c0d>\u001b[0m in \u001b[0;36m<module>\u001b[1;34m()\u001b[0m\n\u001b[1;32m----> 1\u001b[1;33m \u001b[0mtarget_groups\u001b[0m \u001b[1;33m=\u001b[0m \u001b[0mgroups\u001b[0m\u001b[1;33m[\u001b[0m\u001b[0mgroups_idx\u001b[0m\u001b[1;33m]\u001b[0m\u001b[1;33m\u001b[0m\u001b[0m\n\u001b[0m",
      "\u001b[1;31mNameError\u001b[0m: name 'groups_idx' is not defined"
     ]
    }
   ],
   "source": [
    "target_groups = groups[groups_idx]"
   ]
  },
  {
   "cell_type": "code",
   "execution_count": 14,
   "metadata": {
    "collapsed": true
   },
   "outputs": [],
   "source": [
    "out_filename = CLASSIFIER + \"_\" + CURRENT_MODE + '_'"
   ]
  },
  {
   "cell_type": "code",
   "execution_count": 15,
   "metadata": {
    "collapsed": true
   },
   "outputs": [],
   "source": [
    "out_path = \"clf_random_forest_model/all/\" \n",
    "if not os.path.exists(out_path):\n",
    "    os.makedirs(out_path)"
   ]
  },
  {
   "cell_type": "code",
   "execution_count": 71,
   "metadata": {
    "collapsed": true
   },
   "outputs": [],
   "source": [
    "out_path = \"clf_random_forest_model/\" + target_groups + \"/\" \n",
    "if not os.path.exists(out_path):\n",
    "    os.makedirs(out_path)"
   ]
  },
  {
   "cell_type": "code",
   "execution_count": null,
   "metadata": {
    "collapsed": true
   },
   "outputs": [],
   "source": []
  },
  {
   "cell_type": "markdown",
   "metadata": {},
   "source": [
    "# for each group build tree"
   ]
  },
  {
   "cell_type": "code",
   "execution_count": 17,
   "metadata": {
    "collapsed": true
   },
   "outputs": [],
   "source": [
    "\n",
    "map_target_groups = []\n",
    "for group in groups:\n",
    "    if(group == target_groups):\n",
    "        map_target_groups.append(group)\n",
    "    else:\n",
    "        map_target_groups.append(\"None\")\n",
    "d = dict(zip(groups, map_target_groups))\n",
    "train_df[\"Groups\"] = train_df[\"Groups\"].map(d)\n",
    "test_df[\"Groups\"] = test_df[\"Groups\"].map(d)"
   ]
  },
  {
   "cell_type": "code",
   "execution_count": 18,
   "metadata": {},
   "outputs": [
    {
     "data": {
      "text/html": [
       "<div>\n",
       "<style>\n",
       "    .dataframe thead tr:only-child th {\n",
       "        text-align: right;\n",
       "    }\n",
       "\n",
       "    .dataframe thead th {\n",
       "        text-align: left;\n",
       "    }\n",
       "\n",
       "    .dataframe tbody tr th {\n",
       "        vertical-align: top;\n",
       "    }\n",
       "</style>\n",
       "<table border=\"1\" class=\"dataframe\">\n",
       "  <thead>\n",
       "    <tr style=\"text-align: right;\">\n",
       "      <th></th>\n",
       "      <th>RENEW_IND</th>\n",
       "      <th>GA_IND</th>\n",
       "      <th>ACTV_TYPE</th>\n",
       "      <th>CHURN_IND</th>\n",
       "      <th>CHURN_TYPE</th>\n",
       "      <th>SUSPEND_IND</th>\n",
       "      <th>TARGET_OPR_ID</th>\n",
       "      <th>SRV_TYPE_DESC</th>\n",
       "      <th>RPS_NAME</th>\n",
       "      <th>SUBSCR_STATUS_CODE</th>\n",
       "      <th>...</th>\n",
       "      <th>L2M_DEVICE_MAKER</th>\n",
       "      <th>L2M_DEVICE_MODEL</th>\n",
       "      <th>L2M_DEVICE_PRICE_TIER</th>\n",
       "      <th>L2M_DEVICE_TYPE</th>\n",
       "      <th>HS_CHG_CNT</th>\n",
       "      <th>AVG_HS_USE_MONTH</th>\n",
       "      <th>ZONE_ACTV_IVR_COUNTRY</th>\n",
       "      <th>ZONE_ACTV_IVR_REGION</th>\n",
       "      <th>STORE_TYPE</th>\n",
       "      <th>SPAUTH_IND</th>\n",
       "    </tr>\n",
       "    <tr>\n",
       "      <th>Groups</th>\n",
       "      <th></th>\n",
       "      <th></th>\n",
       "      <th></th>\n",
       "      <th></th>\n",
       "      <th></th>\n",
       "      <th></th>\n",
       "      <th></th>\n",
       "      <th></th>\n",
       "      <th></th>\n",
       "      <th></th>\n",
       "      <th></th>\n",
       "      <th></th>\n",
       "      <th></th>\n",
       "      <th></th>\n",
       "      <th></th>\n",
       "      <th></th>\n",
       "      <th></th>\n",
       "      <th></th>\n",
       "      <th></th>\n",
       "      <th></th>\n",
       "      <th></th>\n",
       "    </tr>\n",
       "  </thead>\n",
       "  <tbody>\n",
       "    <tr>\n",
       "      <th>News</th>\n",
       "      <td>45705</td>\n",
       "      <td>45705</td>\n",
       "      <td>45705</td>\n",
       "      <td>45705</td>\n",
       "      <td>45705</td>\n",
       "      <td>45705</td>\n",
       "      <td>45705</td>\n",
       "      <td>45705</td>\n",
       "      <td>45705</td>\n",
       "      <td>45705</td>\n",
       "      <td>...</td>\n",
       "      <td>45705</td>\n",
       "      <td>45705</td>\n",
       "      <td>45705</td>\n",
       "      <td>45705</td>\n",
       "      <td>45705</td>\n",
       "      <td>45705</td>\n",
       "      <td>45705</td>\n",
       "      <td>45705</td>\n",
       "      <td>45705</td>\n",
       "      <td>45705</td>\n",
       "    </tr>\n",
       "    <tr>\n",
       "      <th>None</th>\n",
       "      <td>1461571</td>\n",
       "      <td>1461571</td>\n",
       "      <td>1461571</td>\n",
       "      <td>1461571</td>\n",
       "      <td>1461571</td>\n",
       "      <td>1461571</td>\n",
       "      <td>1461571</td>\n",
       "      <td>1461571</td>\n",
       "      <td>1461571</td>\n",
       "      <td>1461571</td>\n",
       "      <td>...</td>\n",
       "      <td>1461571</td>\n",
       "      <td>1461571</td>\n",
       "      <td>1461571</td>\n",
       "      <td>1461571</td>\n",
       "      <td>1461571</td>\n",
       "      <td>1461571</td>\n",
       "      <td>1461571</td>\n",
       "      <td>1461571</td>\n",
       "      <td>1461571</td>\n",
       "      <td>1461571</td>\n",
       "    </tr>\n",
       "  </tbody>\n",
       "</table>\n",
       "<p>2 rows × 268 columns</p>\n",
       "</div>"
      ],
      "text/plain": [
       "        RENEW_IND   GA_IND  ACTV_TYPE  CHURN_IND  CHURN_TYPE  SUSPEND_IND  \\\n",
       "Groups                                                                      \n",
       "News        45705    45705      45705      45705       45705        45705   \n",
       "None      1461571  1461571    1461571    1461571     1461571      1461571   \n",
       "\n",
       "        TARGET_OPR_ID  SRV_TYPE_DESC  RPS_NAME  SUBSCR_STATUS_CODE  \\\n",
       "Groups                                                               \n",
       "News            45705          45705     45705               45705   \n",
       "None          1461571        1461571   1461571             1461571   \n",
       "\n",
       "           ...      L2M_DEVICE_MAKER  L2M_DEVICE_MODEL  L2M_DEVICE_PRICE_TIER  \\\n",
       "Groups     ...                                                                  \n",
       "News       ...                 45705             45705                  45705   \n",
       "None       ...               1461571           1461571                1461571   \n",
       "\n",
       "        L2M_DEVICE_TYPE  HS_CHG_CNT  AVG_HS_USE_MONTH  ZONE_ACTV_IVR_COUNTRY  \\\n",
       "Groups                                                                         \n",
       "News              45705       45705             45705                  45705   \n",
       "None            1461571     1461571           1461571                1461571   \n",
       "\n",
       "        ZONE_ACTV_IVR_REGION  STORE_TYPE  SPAUTH_IND  \n",
       "Groups                                                \n",
       "News                   45705       45705       45705  \n",
       "None                 1461571     1461571     1461571  \n",
       "\n",
       "[2 rows x 268 columns]"
      ]
     },
     "execution_count": 18,
     "metadata": {},
     "output_type": "execute_result"
    }
   ],
   "source": [
    "train_df.groupby(\"Groups\").count()"
   ]
  },
  {
   "cell_type": "code",
   "execution_count": 19,
   "metadata": {
    "collapsed": true
   },
   "outputs": [],
   "source": [
    "# test_class_count = test_df.groupby(\"Groups\").count()[test_df.columns[0:1]].values.flatten()"
   ]
  },
  {
   "cell_type": "code",
   "execution_count": null,
   "metadata": {
    "collapsed": true
   },
   "outputs": [],
   "source": []
  },
  {
   "cell_type": "code",
   "execution_count": null,
   "metadata": {
    "collapsed": true
   },
   "outputs": [],
   "source": []
  },
  {
   "cell_type": "code",
   "execution_count": null,
   "metadata": {
    "collapsed": true
   },
   "outputs": [],
   "source": []
  },
  {
   "cell_type": "code",
   "execution_count": 16,
   "metadata": {
    "collapsed": true
   },
   "outputs": [],
   "source": [
    "train_x, train_y = train_df.iloc[:, 0:-1].values, train_df.iloc[:, -1].values"
   ]
  },
  {
   "cell_type": "code",
   "execution_count": 17,
   "metadata": {
    "collapsed": true
   },
   "outputs": [],
   "source": [
    "test_x, test_y = test_df.iloc[:, 0:-1].values, test_df.iloc[:, -1].values"
   ]
  },
  {
   "cell_type": "markdown",
   "metadata": {},
   "source": [
    "# convert y to numeric# "
   ]
  },
  {
   "cell_type": "code",
   "execution_count": 18,
   "metadata": {
    "collapsed": true
   },
   "outputs": [],
   "source": [
    "le = preprocessing.LabelEncoder()\n",
    "le.fit(train_df[\"Groups\"].unique())\n",
    "train_numeric_y = le.transform(train_y)\n",
    "test_numeric_y = le.transform(test_y) "
   ]
  },
  {
   "cell_type": "markdown",
   "metadata": {},
   "source": [
    "# build Random Forest Classifier\n"
   ]
  },
  {
   "cell_type": "code",
   "execution_count": 19,
   "metadata": {
    "collapsed": true
   },
   "outputs": [],
   "source": [
    "clf = RandomForestClassifier(n_jobs=-1,n_estimators=500)"
   ]
  },
  {
   "cell_type": "code",
   "execution_count": 20,
   "metadata": {},
   "outputs": [
    {
     "data": {
      "text/plain": [
       "RandomForestClassifier(bootstrap=True, class_weight=None, criterion='gini',\n",
       "            max_depth=None, max_features='auto', max_leaf_nodes=None,\n",
       "            min_impurity_split=1e-07, min_samples_leaf=1,\n",
       "            min_samples_split=2, min_weight_fraction_leaf=0.0,\n",
       "            n_estimators=500, n_jobs=-1, oob_score=False,\n",
       "            random_state=None, verbose=0, warm_start=False)"
      ]
     },
     "execution_count": 20,
     "metadata": {},
     "output_type": "execute_result"
    }
   ],
   "source": [
    "start_time = time()\n",
    "clf.fit(train_x, train_numeric_y)\n"
   ]
  },
  {
   "cell_type": "markdown",
   "metadata": {},
   "source": [
    "# saving classifier"
   ]
  },
  {
   "cell_type": "code",
   "execution_count": null,
   "metadata": {
    "collapsed": true
   },
   "outputs": [],
   "source": [
    "# joblib.dump(clf, out_path + out_filename + 'CLF.pkl') \n",
    "# clf = joblib.load('filename.pkl') \n"
   ]
  },
  {
   "cell_type": "code",
   "execution_count": null,
   "metadata": {
    "collapsed": true
   },
   "outputs": [],
   "source": [
    "clf_info = str((\"Accuracy on training set: %f\" % clf.score(train_x, train_numeric_y))) + '\\n'\n",
    "clf_info += str((\"Accuracy on test set: %f\" % clf.score(test_x, test_numeric_y))) + '\\n'\n",
    "clf_info += str(('fit time %s seconds' % format(time() - start_time))) + '\\n'\n",
    "print(clf_info)"
   ]
  },
  {
   "cell_type": "code",
   "execution_count": null,
   "metadata": {
    "collapsed": true
   },
   "outputs": [],
   "source": [
    "predict_y = clf.predict(test_x)"
   ]
  },
  {
   "cell_type": "code",
   "execution_count": null,
   "metadata": {
    "collapsed": true
   },
   "outputs": [],
   "source": [
    "predict_y "
   ]
  },
  {
   "cell_type": "code",
   "execution_count": null,
   "metadata": {
    "collapsed": true
   },
   "outputs": [],
   "source": [
    "test_numeric_y"
   ]
  },
  {
   "cell_type": "markdown",
   "metadata": {},
   "source": [
    "# get feature importances"
   ]
  },
  {
   "cell_type": "code",
   "execution_count": null,
   "metadata": {
    "collapsed": true
   },
   "outputs": [],
   "source": [
    "important_dict = dict(zip(train_df.columns[:-1], clf.feature_importances_))"
   ]
  },
  {
   "cell_type": "code",
   "execution_count": null,
   "metadata": {
    "collapsed": true
   },
   "outputs": [],
   "source": [
    "important_dict"
   ]
  },
  {
   "cell_type": "code",
   "execution_count": null,
   "metadata": {
    "collapsed": true
   },
   "outputs": [],
   "source": [
    "important_list = sorted(important_dict.items(), key=lambda x: x[1])"
   ]
  },
  {
   "cell_type": "code",
   "execution_count": null,
   "metadata": {
    "collapsed": true
   },
   "outputs": [],
   "source": [
    "important_list.reverse()"
   ]
  },
  {
   "cell_type": "code",
   "execution_count": null,
   "metadata": {
    "collapsed": true
   },
   "outputs": [],
   "source": [
    "clf_info += '\\n\\nFeature Importances\\n===================\\n'\n",
    "for row in important_list:\n",
    "    clf_info += str(row) + \"\\n\"\n",
    "    print(str(row))"
   ]
  },
  {
   "cell_type": "code",
   "execution_count": null,
   "metadata": {
    "collapsed": true
   },
   "outputs": [],
   "source": [
    "feature_df = pd.DataFrame(important_list, columns = [\"COLUMN\", \"IMPORTANT_VALUE\"])"
   ]
  },
  {
   "cell_type": "code",
   "execution_count": null,
   "metadata": {
    "collapsed": true
   },
   "outputs": [],
   "source": [
    "t0 = time()\n",
    "feature_df.to_csv(out_path + out_filename + \"feature_important_descent.csv\", index=False)\n",
    "print(\"time for output csv file: %.2f\" % (time()-t0))"
   ]
  },
  {
   "cell_type": "code",
   "execution_count": 35,
   "metadata": {},
   "outputs": [
    {
     "ename": "NameError",
     "evalue": "name 'target_groups' is not defined",
     "output_type": "error",
     "traceback": [
      "\u001b[1;31m---------------------------------------------------------------------------\u001b[0m",
      "\u001b[1;31mNameError\u001b[0m                                 Traceback (most recent call last)",
      "\u001b[1;32m<ipython-input-35-e58a5286020e>\u001b[0m in \u001b[0;36m<module>\u001b[1;34m()\u001b[0m\n\u001b[0;32m      1\u001b[0m \u001b[0mcpy_dict\u001b[0m \u001b[1;33m=\u001b[0m \u001b[0mdict\u001b[0m\u001b[1;33m(\u001b[0m\u001b[0mimportant_list\u001b[0m\u001b[1;33m)\u001b[0m\u001b[1;33m\u001b[0m\u001b[0m\n\u001b[1;32m----> 2\u001b[1;33m \u001b[0mcpy_dict\u001b[0m\u001b[1;33m[\u001b[0m\u001b[1;34m\"Groups\"\u001b[0m\u001b[1;33m]\u001b[0m \u001b[1;33m=\u001b[0m \u001b[0mtarget_groups\u001b[0m\u001b[1;33m\u001b[0m\u001b[0m\n\u001b[0m\u001b[0;32m      3\u001b[0m \u001b[0mfeature_df\u001b[0m \u001b[1;33m=\u001b[0m \u001b[0mpd\u001b[0m\u001b[1;33m.\u001b[0m\u001b[0mDataFrame\u001b[0m\u001b[1;33m(\u001b[0m\u001b[0mcpy_dict\u001b[0m\u001b[1;33m,\u001b[0m \u001b[0mindex\u001b[0m \u001b[1;33m=\u001b[0m \u001b[1;33m[\u001b[0m\u001b[1;36m0\u001b[0m\u001b[1;33m]\u001b[0m\u001b[1;33m)\u001b[0m\u001b[1;33m\u001b[0m\u001b[0m\n",
      "\u001b[1;31mNameError\u001b[0m: name 'target_groups' is not defined"
     ]
    }
   ],
   "source": [
    "# cpy_dict = dict(important_list)\n",
    "# cpy_dict[\"Groups\"] = target_groups\n",
    "# feature_df = pd.DataFrame(cpy_dict, index = [0])"
   ]
  },
  {
   "cell_type": "code",
   "execution_count": null,
   "metadata": {
    "collapsed": true
   },
   "outputs": [],
   "source": [
    "# cpy_dict = dict(important_list)\n",
    "# # cpy_dict[\"Groups\"] = target_groups\n",
    "# feature_df = pd.DataFrame(cpy_dict, index = [0])"
   ]
  },
  {
   "cell_type": "code",
   "execution_count": null,
   "metadata": {
    "collapsed": true,
    "scrolled": true
   },
   "outputs": [],
   "source": [
    "# t0 = time()\n",
    "# feature_df.to_csv(out_path + out_filename + \"feature_important_one_row.csv\", index=False)\n",
    "# print(\"time for output csv file: %.2f\" % (time()-t0))"
   ]
  },
  {
   "cell_type": "code",
   "execution_count": null,
   "metadata": {
    "collapsed": true
   },
   "outputs": [],
   "source": [
    "clf.n_classes_"
   ]
  },
  {
   "cell_type": "code",
   "execution_count": null,
   "metadata": {
    "collapsed": true
   },
   "outputs": [],
   "source": [
    "clf.n_outputs_"
   ]
  },
  {
   "cell_type": "code",
   "execution_count": null,
   "metadata": {
    "collapsed": true
   },
   "outputs": [],
   "source": []
  },
  {
   "cell_type": "code",
   "execution_count": null,
   "metadata": {
    "collapsed": true
   },
   "outputs": [],
   "source": []
  },
  {
   "cell_type": "code",
   "execution_count": null,
   "metadata": {
    "collapsed": true
   },
   "outputs": [],
   "source": [
    "cnf_matrix = confusion_matrix(test_numeric_y, predict_y )\n",
    "cnf_matrix"
   ]
  },
  {
   "cell_type": "code",
   "execution_count": null,
   "metadata": {
    "collapsed": true
   },
   "outputs": [],
   "source": [
    "group_encoder = []\n",
    "for idx, row in enumerate(cnf_matrix):\n",
    "#     success predict\n",
    "#     print(row[idx])\n",
    "    current_group = str(le.inverse_transform(idx))\n",
    "    group_encoder.append(current_group)\n",
    "#     current_group = groups[idx]\n",
    "\n",
    "    print(current_group)\n",
    "\n",
    "    idx_count_in_group = len(test_df[test_df[\"Groups\"] == current_group])\n",
    "    clf_info +=  \"\\n\\n\" + str(\"class = %s count = [%s / %s]\" % (current_group, row[idx], idx_count_in_group))\n",
    "    clf_info +=  \"\\n\\n\" + str(\"predict %s accurancy = %s\" % (current_group, row[idx] / idx_count_in_group))\n",
    "    print(\"class = %s count = [%s / %s]\" % (current_group,row[idx],str(idx_count_in_group)))\n",
    "    print(\"predict %s accurancy = %s\" % (current_group, row[idx] / idx_count_in_group))\n",
    "    print()"
   ]
  },
  {
   "cell_type": "code",
   "execution_count": null,
   "metadata": {
    "collapsed": true,
    "scrolled": true
   },
   "outputs": [],
   "source": [
    "cnf_pd = pd.DataFrame(cnf_matrix)"
   ]
  },
  {
   "cell_type": "code",
   "execution_count": null,
   "metadata": {
    "collapsed": true
   },
   "outputs": [],
   "source": [
    "cnf_pd.columns = group_encoder"
   ]
  },
  {
   "cell_type": "code",
   "execution_count": null,
   "metadata": {
    "collapsed": true
   },
   "outputs": [],
   "source": [
    "cnf_pd.index = group_encoder"
   ]
  },
  {
   "cell_type": "code",
   "execution_count": null,
   "metadata": {
    "collapsed": true
   },
   "outputs": [],
   "source": [
    "cnf_pd"
   ]
  },
  {
   "cell_type": "code",
   "execution_count": null,
   "metadata": {
    "collapsed": true
   },
   "outputs": [],
   "source": [
    "md_info = clf_info.replace(\"\\n\", \"<br>\")\n",
    "with open(out_path + out_filename + 'readme.md', 'w+') as f:\n",
    "     f.write(md_info)\n",
    "f.closed"
   ]
  },
  {
   "cell_type": "code",
   "execution_count": null,
   "metadata": {
    "collapsed": true
   },
   "outputs": [],
   "source": [
    "from winsound import Beep\n",
    "Beep(440, 500) \n",
    "Beep(440, 500) \n",
    "Beep(440, 500) \n",
    "Beep(349, 350) \n",
    "Beep(523, 150) \n",
    "Beep(440, 500) \n",
    "Beep(349, 350) \n",
    "Beep(523, 150) \n",
    "Beep(440, 1000) \n",
    "Beep(659, 500) \n",
    "Beep(659, 500) \n",
    "Beep(659, 500) \n",
    "Beep(698, 350) \n",
    "Beep(523, 150) \n",
    "Beep(415, 500) \n",
    "Beep(349, 350) \n",
    "Beep(523, 150) \n",
    "Beep(440, 1000)"
   ]
  },
  {
   "cell_type": "code",
   "execution_count": 95,
   "metadata": {},
   "outputs": [
    {
     "data": {
      "image/png": "[encoded data removed]",
      "text/plain": [
       "<matplotlib.figure.Figure at 0x1d376e9d1d0>"
      ]
     },
     "metadata": {},
     "output_type": "display_data"
    }
   ],
   "source": [
    "plt.plot(clf.feature_importances_, 'o')  \n",
    "# for i in \n",
    "plt.xticks(range(train_x.shape[1]), train_df.columns[:-1], rotation=90)  \n",
    "plt.ylim(0, 1)  \n",
    "plt.show()  "
   ]
  },
  {
   "cell_type": "code",
   "execution_count": null,
   "metadata": {
    "collapsed": true
   },
   "outputs": [],
   "source": []
  }
 ],
 "metadata": {
  "kernelspec": {
   "display_name": "Python 3",
   "language": "python",
   "name": "python3"
  },
  "language_info": {
   "codemirror_mode": {
    "name": "ipython",
    "version": 3
   },
   "file_extension": ".py",
   "mimetype": "text/x-python",
   "name": "python",
   "nbconvert_exporter": "python",
   "pygments_lexer": "ipython3",
   "version": "3.5.3"
  }
 },
 "nbformat": 4,
 "nbformat_minor": 2
}
