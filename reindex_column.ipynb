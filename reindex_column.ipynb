{
 "cells": [
  {
   "cell_type": "code",
   "execution_count": 85,
   "metadata": {
    "collapsed": true
   },
   "outputs": [],
   "source": [
    "import os.path\n",
    "import numpy as np\n",
    "import pandas as pd\n",
    "from time import time"
   ]
  },
  {
   "cell_type": "code",
   "execution_count": 86,
   "metadata": {
    "collapsed": true
   },
   "outputs": [],
   "source": [
    "# set configure\n",
    "path = \"./CDR_MONTHLY_AGGR/\"\n",
    "filename = \"weekday_end_april_div_week\"\n",
    "# path = \"./\"\n",
    "# filename = \"dm_subscr_mtc_mly_COMPLETED_revise\"\n",
    "relative_filename = path + filename + \".csv\"\n",
    "out_filename = relative_filename\n",
    "\n",
    "# relative_filename = path + filename + \".txt\"\n",
    "# wants_cols = ['DATA_MONTH', 'MINING_DW_SUBSCR_NO', 'AGE', \"MO_TTL_DURATION\",\"MO_ONNET_DUR\",\"MO_OFFNET_DUR\",\"PSTN_DUR\",\"MO_TTL_COUNT\",\"MO_ONNET_CNT\",\"MO_OFFNET_CNT\",\"PSTN_CNT\",\"MT_TTL_DURATION\",\"MT_ONNET_DUR\",\"MT_OFFNET_DUR\",\"MT_PSTN_DUR\",\"MT_TTL_COUNT\",\"MT_ONNET_CNT\",\"MT_OFFNET_CNT\",\"MT_PSTN_CNT\",\"MOC_FET_DUR\",\"MOC_TWM_DUR\",\"MOC_CHM_DUR\",\"MOC_OTH_DUR\",\"MOC_PSTN_DUR\",\"MOST_MO_DUR\",\"MTC_FET_DUR\",\"MTC_TWM_DUR\",\"MTC_CHM_DUR\",\"MTC_PSTN_DUR\",\"MOST_MT_DUR\"]"
   ]
  },
  {
   "cell_type": "code",
   "execution_count": 87,
   "metadata": {
    "scrolled": false
   },
   "outputs": [
    {
     "name": "stdout",
     "output_type": "stream",
     "text": [
      "time for read csv: 5.50\n"
     ]
    },
    {
     "name": "stderr",
     "output_type": "stream",
     "text": [
      "C:\\Users\\VIPLAB\\AppData\\Local\\conda\\conda\\envs\\py36\\lib\\site-packages\\IPython\\core\\interactiveshell.py:2717: DtypeWarning: Columns (0) have mixed types. Specify dtype option on import or set low_memory=False.\n",
      "  interactivity=interactivity, compiler=compiler, result=result)\n"
     ]
    }
   ],
   "source": [
    "# read csv file and print cost time\n",
    "t0 = time()\n",
    "# df = pd.read_csv(relative_filename, usecols = wants_cols, error_bad_lines=False, nrows = 100000)\n",
    "df = pd.read_csv(relative_filename, error_bad_lines=False)\n",
    "# df = pd.read_csv(relative_filename, error_bad_lines=False)\n",
    "print(\"time for read csv: %.2f\" % (time()-t0))\n"
   ]
  },
  {
   "cell_type": "code",
   "execution_count": 88,
   "metadata": {},
   "outputs": [
    {
     "data": {
      "text/html": [
       "<div>\n",
       "<style>\n",
       "    .dataframe thead tr:only-child th {\n",
       "        text-align: right;\n",
       "    }\n",
       "\n",
       "    .dataframe thead th {\n",
       "        text-align: left;\n",
       "    }\n",
       "\n",
       "    .dataframe tbody tr th {\n",
       "        vertical-align: top;\n",
       "    }\n",
       "</style>\n",
       "<table border=\"1\" class=\"dataframe\">\n",
       "  <thead>\n",
       "    <tr style=\"text-align: right;\">\n",
       "      <th></th>\n",
       "      <th>MINING_DW_SUBSCR_NO</th>\n",
       "      <th>DNA_Friday</th>\n",
       "      <th>DNA_Monday</th>\n",
       "      <th>DNA_Saturday</th>\n",
       "      <th>DNA_Sunday</th>\n",
       "      <th>DNA_Thursday</th>\n",
       "      <th>DNA_Tuesday</th>\n",
       "      <th>DNA_Wednesday</th>\n",
       "    </tr>\n",
       "  </thead>\n",
       "  <tbody>\n",
       "    <tr>\n",
       "      <th>0</th>\n",
       "      <td>3121277938</td>\n",
       "      <td>33.25</td>\n",
       "      <td>112.50</td>\n",
       "      <td>41.4</td>\n",
       "      <td>9.8</td>\n",
       "      <td>46.50</td>\n",
       "      <td>44.00</td>\n",
       "      <td>52.25</td>\n",
       "    </tr>\n",
       "    <tr>\n",
       "      <th>1</th>\n",
       "      <td>8135076466</td>\n",
       "      <td>31.75</td>\n",
       "      <td>26.50</td>\n",
       "      <td>11.6</td>\n",
       "      <td>0.2</td>\n",
       "      <td>24.25</td>\n",
       "      <td>60.25</td>\n",
       "      <td>24.00</td>\n",
       "    </tr>\n",
       "    <tr>\n",
       "      <th>2</th>\n",
       "      <td>3219174969</td>\n",
       "      <td>0.00</td>\n",
       "      <td>11.00</td>\n",
       "      <td>0.0</td>\n",
       "      <td>0.0</td>\n",
       "      <td>0.25</td>\n",
       "      <td>8.75</td>\n",
       "      <td>2.25</td>\n",
       "    </tr>\n",
       "    <tr>\n",
       "      <th>3</th>\n",
       "      <td>10000523342</td>\n",
       "      <td>9.50</td>\n",
       "      <td>5.50</td>\n",
       "      <td>4.2</td>\n",
       "      <td>11.4</td>\n",
       "      <td>33.75</td>\n",
       "      <td>23.25</td>\n",
       "      <td>36.00</td>\n",
       "    </tr>\n",
       "    <tr>\n",
       "      <th>4</th>\n",
       "      <td>10001244569</td>\n",
       "      <td>2.50</td>\n",
       "      <td>2.25</td>\n",
       "      <td>1.6</td>\n",
       "      <td>7.0</td>\n",
       "      <td>2.75</td>\n",
       "      <td>12.25</td>\n",
       "      <td>19.50</td>\n",
       "    </tr>\n",
       "  </tbody>\n",
       "</table>\n",
       "</div>"
      ],
      "text/plain": [
       "  MINING_DW_SUBSCR_NO  DNA_Friday  DNA_Monday  DNA_Saturday  DNA_Sunday  \\\n",
       "0          3121277938       33.25      112.50          41.4         9.8   \n",
       "1          8135076466       31.75       26.50          11.6         0.2   \n",
       "2          3219174969        0.00       11.00           0.0         0.0   \n",
       "3         10000523342        9.50        5.50           4.2        11.4   \n",
       "4         10001244569        2.50        2.25           1.6         7.0   \n",
       "\n",
       "   DNA_Thursday  DNA_Tuesday  DNA_Wednesday  \n",
       "0         46.50        44.00          52.25  \n",
       "1         24.25        60.25          24.00  \n",
       "2          0.25         8.75           2.25  \n",
       "3         33.75        23.25          36.00  \n",
       "4          2.75        12.25          19.50  "
      ]
     },
     "execution_count": 88,
     "metadata": {},
     "output_type": "execute_result"
    }
   ],
   "source": [
    "df.head()"
   ]
  },
  {
   "cell_type": "code",
   "execution_count": 89,
   "metadata": {},
   "outputs": [
    {
     "data": {
      "text/plain": [
       "['MINING_DW_SUBSCR_NO',\n",
       " 'DNA_Friday',\n",
       " 'DNA_Monday',\n",
       " 'DNA_Saturday',\n",
       " 'DNA_Sunday',\n",
       " 'DNA_Thursday',\n",
       " 'DNA_Tuesday',\n",
       " 'DNA_Wednesday']"
      ]
     },
     "execution_count": 89,
     "metadata": {},
     "output_type": "execute_result"
    }
   ],
   "source": [
    "list(df.columns)"
   ]
  },
  {
   "cell_type": "code",
   "execution_count": 65,
   "metadata": {
    "collapsed": true
   },
   "outputs": [],
   "source": [
    "df = df[[\n",
    "    'MINING_DW_SUBSCR_NO',\n",
    " 'VOICE_MO_HOUR_MON_CNT',\n",
    " 'VOICE_MO_HOUR_TUE_CNT',\n",
    " 'VOICE_MO_HOUR_WED_CNT',\n",
    " 'VOICE_MO_HOUR_THU_CNT',\n",
    " 'VOICE_MO_HOUR_FRI_CNT',\n",
    " 'VOICE_MO_HOUR_SAT_CNT',\n",
    "     'VOICE_MO_HOUR_SUN_CNT',\n",
    "\n",
    " 'VOICE_MO_HOUR_MON_TIME',\n",
    " 'VOICE_MO_HOUR_TUE_TIME',\n",
    " 'VOICE_MO_HOUR_WED_TIME',\n",
    " 'VOICE_MO_HOUR_THU_TIME',\n",
    " 'VOICE_MO_HOUR_FRI_TIME',\n",
    " 'VOICE_MO_HOUR_SAT_TIME',\n",
    "     'VOICE_MO_HOUR_SUN_TIME',\n",
    " 'VOICE_MO_workday_cnt',\n",
    " 'VOICE_MO_workday_cnt_avg',\n",
    " 'VOICE_MO_workday_time',\n",
    " 'VOICE_MO_workday_time_avg',\n",
    " 'VOICE_MO_holiday_cnt',\n",
    " 'VOICE_MO_holiday_cnt_avg',\n",
    " 'VOICE_MO_holiday_time',\n",
    " 'VOICE_MO_holiday_time_avg']]\n"
   ]
  },
  {
   "cell_type": "code",
   "execution_count": 90,
   "metadata": {
    "collapsed": true
   },
   "outputs": [],
   "source": [
    "df = df[['MINING_DW_SUBSCR_NO', 'DNA_Monday', 'DNA_Tuesday', 'DNA_Wednesday', 'DNA_Thursday', 'DNA_Friday', 'DNA_Saturday', 'DNA_Sunday']]\n"
   ]
  },
  {
   "cell_type": "code",
   "execution_count": 91,
   "metadata": {},
   "outputs": [
    {
     "data": {
      "text/html": [
       "<div>\n",
       "<style>\n",
       "    .dataframe thead tr:only-child th {\n",
       "        text-align: right;\n",
       "    }\n",
       "\n",
       "    .dataframe thead th {\n",
       "        text-align: left;\n",
       "    }\n",
       "\n",
       "    .dataframe tbody tr th {\n",
       "        vertical-align: top;\n",
       "    }\n",
       "</style>\n",
       "<table border=\"1\" class=\"dataframe\">\n",
       "  <thead>\n",
       "    <tr style=\"text-align: right;\">\n",
       "      <th></th>\n",
       "      <th>MINING_DW_SUBSCR_NO</th>\n",
       "      <th>DNA_Monday</th>\n",
       "      <th>DNA_Tuesday</th>\n",
       "      <th>DNA_Wednesday</th>\n",
       "      <th>DNA_Thursday</th>\n",
       "      <th>DNA_Friday</th>\n",
       "      <th>DNA_Saturday</th>\n",
       "      <th>DNA_Sunday</th>\n",
       "    </tr>\n",
       "  </thead>\n",
       "  <tbody>\n",
       "    <tr>\n",
       "      <th>0</th>\n",
       "      <td>3121277938</td>\n",
       "      <td>112.50</td>\n",
       "      <td>44.00</td>\n",
       "      <td>52.25</td>\n",
       "      <td>46.50</td>\n",
       "      <td>33.25</td>\n",
       "      <td>41.4</td>\n",
       "      <td>9.8</td>\n",
       "    </tr>\n",
       "    <tr>\n",
       "      <th>1</th>\n",
       "      <td>8135076466</td>\n",
       "      <td>26.50</td>\n",
       "      <td>60.25</td>\n",
       "      <td>24.00</td>\n",
       "      <td>24.25</td>\n",
       "      <td>31.75</td>\n",
       "      <td>11.6</td>\n",
       "      <td>0.2</td>\n",
       "    </tr>\n",
       "    <tr>\n",
       "      <th>2</th>\n",
       "      <td>3219174969</td>\n",
       "      <td>11.00</td>\n",
       "      <td>8.75</td>\n",
       "      <td>2.25</td>\n",
       "      <td>0.25</td>\n",
       "      <td>0.00</td>\n",
       "      <td>0.0</td>\n",
       "      <td>0.0</td>\n",
       "    </tr>\n",
       "    <tr>\n",
       "      <th>3</th>\n",
       "      <td>10000523342</td>\n",
       "      <td>5.50</td>\n",
       "      <td>23.25</td>\n",
       "      <td>36.00</td>\n",
       "      <td>33.75</td>\n",
       "      <td>9.50</td>\n",
       "      <td>4.2</td>\n",
       "      <td>11.4</td>\n",
       "    </tr>\n",
       "    <tr>\n",
       "      <th>4</th>\n",
       "      <td>10001244569</td>\n",
       "      <td>2.25</td>\n",
       "      <td>12.25</td>\n",
       "      <td>19.50</td>\n",
       "      <td>2.75</td>\n",
       "      <td>2.50</td>\n",
       "      <td>1.6</td>\n",
       "      <td>7.0</td>\n",
       "    </tr>\n",
       "  </tbody>\n",
       "</table>\n",
       "</div>"
      ],
      "text/plain": [
       "  MINING_DW_SUBSCR_NO  DNA_Monday  DNA_Tuesday  DNA_Wednesday  DNA_Thursday  \\\n",
       "0          3121277938      112.50        44.00          52.25         46.50   \n",
       "1          8135076466       26.50        60.25          24.00         24.25   \n",
       "2          3219174969       11.00         8.75           2.25          0.25   \n",
       "3         10000523342        5.50        23.25          36.00         33.75   \n",
       "4         10001244569        2.25        12.25          19.50          2.75   \n",
       "\n",
       "   DNA_Friday  DNA_Saturday  DNA_Sunday  \n",
       "0       33.25          41.4         9.8  \n",
       "1       31.75          11.6         0.2  \n",
       "2        0.00           0.0         0.0  \n",
       "3        9.50           4.2        11.4  \n",
       "4        2.50           1.6         7.0  "
      ]
     },
     "execution_count": 91,
     "metadata": {},
     "output_type": "execute_result"
    }
   ],
   "source": [
    "df.head()"
   ]
  },
  {
   "cell_type": "code",
   "execution_count": 92,
   "metadata": {},
   "outputs": [
    {
     "data": {
      "text/plain": [
       "MINING_DW_SUBSCR_NO     object\n",
       "DNA_Monday             float64\n",
       "DNA_Tuesday            float64\n",
       "DNA_Wednesday          float64\n",
       "DNA_Thursday           float64\n",
       "DNA_Friday             float64\n",
       "DNA_Saturday           float64\n",
       "DNA_Sunday             float64\n",
       "dtype: object"
      ]
     },
     "execution_count": 92,
     "metadata": {},
     "output_type": "execute_result"
    }
   ],
   "source": [
    "df.dtypes"
   ]
  },
  {
   "cell_type": "code",
   "execution_count": 93,
   "metadata": {},
   "outputs": [
    {
     "name": "stdout",
     "output_type": "stream",
     "text": [
      "time for output csv file: 25.33\n"
     ]
    }
   ],
   "source": [
    "# write to csv and no index\n",
    "t0 = time()\n",
    "df.to_csv(out_filename, index=False)\n",
    "print(\"time for output csv file: %.2f\" % (time()-t0))"
   ]
  },
  {
   "cell_type": "code",
   "execution_count": 94,
   "metadata": {
    "collapsed": true
   },
   "outputs": [],
   "source": [
    "del df"
   ]
  },
  {
   "cell_type": "code",
   "execution_count": null,
   "metadata": {
    "collapsed": true
   },
   "outputs": [],
   "source": []
  },
  {
   "cell_type": "code",
   "execution_count": null,
   "metadata": {
    "collapsed": true
   },
   "outputs": [],
   "source": []
  }
 ],
 "metadata": {
  "kernelspec": {
   "display_name": "Python 3",
   "language": "python",
   "name": "python3"
  },
  "language_info": {
   "codemirror_mode": {
    "name": "ipython",
    "version": 3
   },
   "file_extension": ".py",
   "mimetype": "text/x-python",
   "name": "python",
   "nbconvert_exporter": "python",
   "pygments_lexer": "ipython3",
   "version": "3.6.1"
  }
 },
 "nbformat": 4,
 "nbformat_minor": 2
}
