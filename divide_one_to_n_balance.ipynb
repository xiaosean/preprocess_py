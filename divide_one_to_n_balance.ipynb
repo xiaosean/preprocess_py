{
 "cells": [
  {
   "cell_type": "markdown",
   "metadata": {},
   "source": [
    "# Read & Clear Data"
   ]
  },
  {
   "cell_type": "code",
   "execution_count": 1,
   "metadata": {
    "collapsed": true
   },
   "outputs": [],
   "source": [
    "import os.path\n",
    "import numpy as np\n",
    "import pandas as pd\n",
    "import feather \n",
    "from time import time\n",
    "from sklearn.model_selection import train_test_split\n",
    "import feather"
   ]
  },
  {
   "cell_type": "code",
   "execution_count": 2,
   "metadata": {
    "collapsed": true
   },
   "outputs": [],
   "source": [
    "def save_dataframe(df, out_filename):\n",
    "   # write to csv and no index\n",
    "    t0 = time()\n",
    "    df.to_csv(out_filename + \".csv\", index=False, encoding='utf-8')\n",
    "#     df.to_csv(out_filename + \".csv\", encoding='utf-8')\n",
    "    print(\"time for output csv file: %.2f\" % (time()-t0))"
   ]
  },
  {
   "cell_type": "code",
   "execution_count": 3,
   "metadata": {},
   "outputs": [
    {
     "name": "stdout",
     "output_type": "stream",
     "text": [
      "C:/Users/VIPLAB/Desktop/preprocess_py/marketing_analyze/0725_april_marketing_anylze_select_294_table_group11_max_min.csv\n"
     ]
    }
   ],
   "source": [
    "# set configure\n",
    "# path = \"./CDR_MONTHLY_AGGR/\"\n",
    "# path = \"D:/0625_fet_analyze/CDR_FINAL/\"\n",
    "# path = \"C:/Users/VIPLAB/Downloads/Spark_data/\"\n",
    "# path = \"./marketing_analyze/\"\n",
    "path = \"C:/Users/VIPLAB/Desktop/preprocess_py/marketing_analyze/\"\n",
    "filename = \"0725_april_marketing_anylze_select_294_table_group11_max_min\"\n",
    "out_filename = filename\n",
    "# path = \"./\"\n",
    "# filename = \"dm_subscr_mtc_mly_COMPLETED_revise\"\n",
    "relative_filename = path + filename + \".csv\"\n",
    "# relative_filename = path + filename + \".txt\"\n",
    "# relative_filename = path + filename + \".feather\"\n",
    "print(relative_filename)"
   ]
  },
  {
   "cell_type": "code",
   "execution_count": 4,
   "metadata": {},
   "outputs": [
    {
     "name": "stdout",
     "output_type": "stream",
     "text": [
      "time for read csv: 88.14\n"
     ]
    }
   ],
   "source": [
    "t0 = time()\n",
    "df = pd.read_csv(relative_filename, error_bad_lines=False)\n",
    "# df = pd.read_csv(relative_filename, usecols = wants_cols, error_bad_lines=False)\n",
    "# df = feather.read_dataframe(relative_filename)\n",
    "\n",
    "print(\"time for read csv: %.2f\" % (time()-t0))"
   ]
  },
  {
   "cell_type": "code",
   "execution_count": 5,
   "metadata": {},
   "outputs": [
    {
     "data": {
      "text/html": [
       "<div>\n",
       "<style>\n",
       "    .dataframe thead tr:only-child th {\n",
       "        text-align: right;\n",
       "    }\n",
       "\n",
       "    .dataframe thead th {\n",
       "        text-align: left;\n",
       "    }\n",
       "\n",
       "    .dataframe tbody tr th {\n",
       "        vertical-align: top;\n",
       "    }\n",
       "</style>\n",
       "<table border=\"1\" class=\"dataframe\">\n",
       "  <thead>\n",
       "    <tr style=\"text-align: right;\">\n",
       "      <th></th>\n",
       "      <th>DATA_MONTH</th>\n",
       "      <th>RENEW_IND</th>\n",
       "      <th>GA_IND</th>\n",
       "      <th>ACTV_TYPE</th>\n",
       "      <th>GA_DATE</th>\n",
       "      <th>CHURN_IND</th>\n",
       "      <th>CHURN_TYPE</th>\n",
       "      <th>INACTV_DATE</th>\n",
       "      <th>MKT_CHURN_DATE</th>\n",
       "      <th>SUSPEND_IND</th>\n",
       "      <th>...</th>\n",
       "      <th>L2M_DEVICE_MODEL</th>\n",
       "      <th>L2M_DEVICE_PRICE_TIER</th>\n",
       "      <th>L2M_DEVICE_TYPE</th>\n",
       "      <th>HS_CHG_CNT</th>\n",
       "      <th>AVG_HS_USE_MONTH</th>\n",
       "      <th>AVG_HS_USE_MONTH_EX_CURR</th>\n",
       "      <th>ZONE_ACTV_IVR_COUNTRY</th>\n",
       "      <th>ZONE_ACTV_IVR_REGION</th>\n",
       "      <th>STORE_TYPE</th>\n",
       "      <th>SPAUTH_IND</th>\n",
       "    </tr>\n",
       "    <tr>\n",
       "      <th>Groups</th>\n",
       "      <th></th>\n",
       "      <th></th>\n",
       "      <th></th>\n",
       "      <th></th>\n",
       "      <th></th>\n",
       "      <th></th>\n",
       "      <th></th>\n",
       "      <th></th>\n",
       "      <th></th>\n",
       "      <th></th>\n",
       "      <th></th>\n",
       "      <th></th>\n",
       "      <th></th>\n",
       "      <th></th>\n",
       "      <th></th>\n",
       "      <th></th>\n",
       "      <th></th>\n",
       "      <th></th>\n",
       "      <th></th>\n",
       "      <th></th>\n",
       "      <th></th>\n",
       "    </tr>\n",
       "  </thead>\n",
       "  <tbody>\n",
       "    <tr>\n",
       "      <th>Adult</th>\n",
       "      <td>54309</td>\n",
       "      <td>54309</td>\n",
       "      <td>54309</td>\n",
       "      <td>54309</td>\n",
       "      <td>54309</td>\n",
       "      <td>54309</td>\n",
       "      <td>54309</td>\n",
       "      <td>54309</td>\n",
       "      <td>54309</td>\n",
       "      <td>54309</td>\n",
       "      <td>...</td>\n",
       "      <td>54309</td>\n",
       "      <td>54309</td>\n",
       "      <td>54309</td>\n",
       "      <td>54309</td>\n",
       "      <td>54309</td>\n",
       "      <td>54309</td>\n",
       "      <td>54309</td>\n",
       "      <td>54309</td>\n",
       "      <td>54309</td>\n",
       "      <td>54309</td>\n",
       "    </tr>\n",
       "    <tr>\n",
       "      <th>Game</th>\n",
       "      <td>87618</td>\n",
       "      <td>87618</td>\n",
       "      <td>87618</td>\n",
       "      <td>87618</td>\n",
       "      <td>87618</td>\n",
       "      <td>87618</td>\n",
       "      <td>87618</td>\n",
       "      <td>87618</td>\n",
       "      <td>87618</td>\n",
       "      <td>87618</td>\n",
       "      <td>...</td>\n",
       "      <td>87618</td>\n",
       "      <td>87618</td>\n",
       "      <td>87618</td>\n",
       "      <td>87618</td>\n",
       "      <td>87618</td>\n",
       "      <td>87618</td>\n",
       "      <td>87618</td>\n",
       "      <td>87618</td>\n",
       "      <td>87618</td>\n",
       "      <td>87618</td>\n",
       "    </tr>\n",
       "    <tr>\n",
       "      <th>HomeLife</th>\n",
       "      <td>74949</td>\n",
       "      <td>74949</td>\n",
       "      <td>74949</td>\n",
       "      <td>74949</td>\n",
       "      <td>74949</td>\n",
       "      <td>74949</td>\n",
       "      <td>74949</td>\n",
       "      <td>74949</td>\n",
       "      <td>74949</td>\n",
       "      <td>74949</td>\n",
       "      <td>...</td>\n",
       "      <td>74949</td>\n",
       "      <td>74949</td>\n",
       "      <td>74949</td>\n",
       "      <td>74949</td>\n",
       "      <td>74949</td>\n",
       "      <td>74949</td>\n",
       "      <td>74949</td>\n",
       "      <td>74949</td>\n",
       "      <td>74949</td>\n",
       "      <td>74949</td>\n",
       "    </tr>\n",
       "    <tr>\n",
       "      <th>Infrequent_User</th>\n",
       "      <td>145107</td>\n",
       "      <td>145107</td>\n",
       "      <td>145107</td>\n",
       "      <td>145107</td>\n",
       "      <td>145107</td>\n",
       "      <td>145107</td>\n",
       "      <td>145107</td>\n",
       "      <td>145107</td>\n",
       "      <td>145107</td>\n",
       "      <td>145107</td>\n",
       "      <td>...</td>\n",
       "      <td>145107</td>\n",
       "      <td>145107</td>\n",
       "      <td>145107</td>\n",
       "      <td>145107</td>\n",
       "      <td>145107</td>\n",
       "      <td>145107</td>\n",
       "      <td>145107</td>\n",
       "      <td>145107</td>\n",
       "      <td>145107</td>\n",
       "      <td>145107</td>\n",
       "    </tr>\n",
       "    <tr>\n",
       "      <th>InstantMessage-High</th>\n",
       "      <td>424699</td>\n",
       "      <td>424699</td>\n",
       "      <td>424699</td>\n",
       "      <td>424699</td>\n",
       "      <td>424699</td>\n",
       "      <td>424699</td>\n",
       "      <td>424699</td>\n",
       "      <td>424699</td>\n",
       "      <td>424699</td>\n",
       "      <td>424699</td>\n",
       "      <td>...</td>\n",
       "      <td>424699</td>\n",
       "      <td>424699</td>\n",
       "      <td>424699</td>\n",
       "      <td>424699</td>\n",
       "      <td>424699</td>\n",
       "      <td>424699</td>\n",
       "      <td>424699</td>\n",
       "      <td>424699</td>\n",
       "      <td>424699</td>\n",
       "      <td>424699</td>\n",
       "    </tr>\n",
       "    <tr>\n",
       "      <th>InstantMessage-Low</th>\n",
       "      <td>431903</td>\n",
       "      <td>431903</td>\n",
       "      <td>431903</td>\n",
       "      <td>431903</td>\n",
       "      <td>431903</td>\n",
       "      <td>431903</td>\n",
       "      <td>431903</td>\n",
       "      <td>431903</td>\n",
       "      <td>431903</td>\n",
       "      <td>431903</td>\n",
       "      <td>...</td>\n",
       "      <td>431903</td>\n",
       "      <td>431903</td>\n",
       "      <td>431903</td>\n",
       "      <td>431903</td>\n",
       "      <td>431903</td>\n",
       "      <td>431903</td>\n",
       "      <td>431903</td>\n",
       "      <td>431903</td>\n",
       "      <td>431903</td>\n",
       "      <td>431903</td>\n",
       "    </tr>\n",
       "    <tr>\n",
       "      <th>Map</th>\n",
       "      <td>103786</td>\n",
       "      <td>103786</td>\n",
       "      <td>103786</td>\n",
       "      <td>103786</td>\n",
       "      <td>103786</td>\n",
       "      <td>103786</td>\n",
       "      <td>103786</td>\n",
       "      <td>103786</td>\n",
       "      <td>103786</td>\n",
       "      <td>103786</td>\n",
       "      <td>...</td>\n",
       "      <td>103786</td>\n",
       "      <td>103786</td>\n",
       "      <td>103786</td>\n",
       "      <td>103786</td>\n",
       "      <td>103786</td>\n",
       "      <td>103786</td>\n",
       "      <td>103786</td>\n",
       "      <td>103786</td>\n",
       "      <td>103786</td>\n",
       "      <td>103786</td>\n",
       "    </tr>\n",
       "    <tr>\n",
       "      <th>News</th>\n",
       "      <td>57174</td>\n",
       "      <td>57174</td>\n",
       "      <td>57174</td>\n",
       "      <td>57174</td>\n",
       "      <td>57174</td>\n",
       "      <td>57174</td>\n",
       "      <td>57174</td>\n",
       "      <td>57174</td>\n",
       "      <td>57174</td>\n",
       "      <td>57174</td>\n",
       "      <td>...</td>\n",
       "      <td>57174</td>\n",
       "      <td>57174</td>\n",
       "      <td>57174</td>\n",
       "      <td>57174</td>\n",
       "      <td>57174</td>\n",
       "      <td>57174</td>\n",
       "      <td>57174</td>\n",
       "      <td>57174</td>\n",
       "      <td>57174</td>\n",
       "      <td>57174</td>\n",
       "    </tr>\n",
       "    <tr>\n",
       "      <th>No_ignificant_preference</th>\n",
       "      <td>266966</td>\n",
       "      <td>266966</td>\n",
       "      <td>266966</td>\n",
       "      <td>266966</td>\n",
       "      <td>266966</td>\n",
       "      <td>266966</td>\n",
       "      <td>266966</td>\n",
       "      <td>266966</td>\n",
       "      <td>266966</td>\n",
       "      <td>266966</td>\n",
       "      <td>...</td>\n",
       "      <td>266966</td>\n",
       "      <td>266966</td>\n",
       "      <td>266966</td>\n",
       "      <td>266966</td>\n",
       "      <td>266966</td>\n",
       "      <td>266966</td>\n",
       "      <td>266966</td>\n",
       "      <td>266966</td>\n",
       "      <td>266966</td>\n",
       "      <td>266966</td>\n",
       "    </tr>\n",
       "    <tr>\n",
       "      <th>Portal</th>\n",
       "      <td>98614</td>\n",
       "      <td>98614</td>\n",
       "      <td>98614</td>\n",
       "      <td>98614</td>\n",
       "      <td>98614</td>\n",
       "      <td>98614</td>\n",
       "      <td>98614</td>\n",
       "      <td>98614</td>\n",
       "      <td>98614</td>\n",
       "      <td>98614</td>\n",
       "      <td>...</td>\n",
       "      <td>98614</td>\n",
       "      <td>98614</td>\n",
       "      <td>98614</td>\n",
       "      <td>98614</td>\n",
       "      <td>98614</td>\n",
       "      <td>98614</td>\n",
       "      <td>98614</td>\n",
       "      <td>98614</td>\n",
       "      <td>98614</td>\n",
       "      <td>98614</td>\n",
       "    </tr>\n",
       "    <tr>\n",
       "      <th>Social-media</th>\n",
       "      <td>138970</td>\n",
       "      <td>138970</td>\n",
       "      <td>138970</td>\n",
       "      <td>138970</td>\n",
       "      <td>138970</td>\n",
       "      <td>138970</td>\n",
       "      <td>138970</td>\n",
       "      <td>138970</td>\n",
       "      <td>138970</td>\n",
       "      <td>138970</td>\n",
       "      <td>...</td>\n",
       "      <td>138970</td>\n",
       "      <td>138970</td>\n",
       "      <td>138970</td>\n",
       "      <td>138970</td>\n",
       "      <td>138970</td>\n",
       "      <td>138970</td>\n",
       "      <td>138970</td>\n",
       "      <td>138970</td>\n",
       "      <td>138970</td>\n",
       "      <td>138970</td>\n",
       "    </tr>\n",
       "  </tbody>\n",
       "</table>\n",
       "<p>11 rows × 293 columns</p>\n",
       "</div>"
      ],
      "text/plain": [
       "                          DATA_MONTH  RENEW_IND  GA_IND  ACTV_TYPE  GA_DATE  \\\n",
       "Groups                                                                        \n",
       "Adult                          54309      54309   54309      54309    54309   \n",
       "Game                           87618      87618   87618      87618    87618   \n",
       "HomeLife                       74949      74949   74949      74949    74949   \n",
       "Infrequent_User               145107     145107  145107     145107   145107   \n",
       "InstantMessage-High           424699     424699  424699     424699   424699   \n",
       "InstantMessage-Low            431903     431903  431903     431903   431903   \n",
       "Map                           103786     103786  103786     103786   103786   \n",
       "News                           57174      57174   57174      57174    57174   \n",
       "No_ignificant_preference      266966     266966  266966     266966   266966   \n",
       "Portal                         98614      98614   98614      98614    98614   \n",
       "Social-media                  138970     138970  138970     138970   138970   \n",
       "\n",
       "                          CHURN_IND  CHURN_TYPE  INACTV_DATE  MKT_CHURN_DATE  \\\n",
       "Groups                                                                         \n",
       "Adult                         54309       54309        54309           54309   \n",
       "Game                          87618       87618        87618           87618   \n",
       "HomeLife                      74949       74949        74949           74949   \n",
       "Infrequent_User              145107      145107       145107          145107   \n",
       "InstantMessage-High          424699      424699       424699          424699   \n",
       "InstantMessage-Low           431903      431903       431903          431903   \n",
       "Map                          103786      103786       103786          103786   \n",
       "News                          57174       57174        57174           57174   \n",
       "No_ignificant_preference     266966      266966       266966          266966   \n",
       "Portal                        98614       98614        98614           98614   \n",
       "Social-media                 138970      138970       138970          138970   \n",
       "\n",
       "                          SUSPEND_IND     ...      L2M_DEVICE_MODEL  \\\n",
       "Groups                                    ...                         \n",
       "Adult                           54309     ...                 54309   \n",
       "Game                            87618     ...                 87618   \n",
       "HomeLife                        74949     ...                 74949   \n",
       "Infrequent_User                145107     ...                145107   \n",
       "InstantMessage-High            424699     ...                424699   \n",
       "InstantMessage-Low             431903     ...                431903   \n",
       "Map                            103786     ...                103786   \n",
       "News                            57174     ...                 57174   \n",
       "No_ignificant_preference       266966     ...                266966   \n",
       "Portal                          98614     ...                 98614   \n",
       "Social-media                   138970     ...                138970   \n",
       "\n",
       "                          L2M_DEVICE_PRICE_TIER  L2M_DEVICE_TYPE  HS_CHG_CNT  \\\n",
       "Groups                                                                         \n",
       "Adult                                     54309            54309       54309   \n",
       "Game                                      87618            87618       87618   \n",
       "HomeLife                                  74949            74949       74949   \n",
       "Infrequent_User                          145107           145107      145107   \n",
       "InstantMessage-High                      424699           424699      424699   \n",
       "InstantMessage-Low                       431903           431903      431903   \n",
       "Map                                      103786           103786      103786   \n",
       "News                                      57174            57174       57174   \n",
       "No_ignificant_preference                 266966           266966      266966   \n",
       "Portal                                    98614            98614       98614   \n",
       "Social-media                             138970           138970      138970   \n",
       "\n",
       "                          AVG_HS_USE_MONTH  AVG_HS_USE_MONTH_EX_CURR  \\\n",
       "Groups                                                                 \n",
       "Adult                                54309                     54309   \n",
       "Game                                 87618                     87618   \n",
       "HomeLife                             74949                     74949   \n",
       "Infrequent_User                     145107                    145107   \n",
       "InstantMessage-High                 424699                    424699   \n",
       "InstantMessage-Low                  431903                    431903   \n",
       "Map                                 103786                    103786   \n",
       "News                                 57174                     57174   \n",
       "No_ignificant_preference            266966                    266966   \n",
       "Portal                               98614                     98614   \n",
       "Social-media                        138970                    138970   \n",
       "\n",
       "                          ZONE_ACTV_IVR_COUNTRY  ZONE_ACTV_IVR_REGION  \\\n",
       "Groups                                                                  \n",
       "Adult                                     54309                 54309   \n",
       "Game                                      87618                 87618   \n",
       "HomeLife                                  74949                 74949   \n",
       "Infrequent_User                          145107                145107   \n",
       "InstantMessage-High                      424699                424699   \n",
       "InstantMessage-Low                       431903                431903   \n",
       "Map                                      103786                103786   \n",
       "News                                      57174                 57174   \n",
       "No_ignificant_preference                 266966                266966   \n",
       "Portal                                    98614                 98614   \n",
       "Social-media                             138970                138970   \n",
       "\n",
       "                          STORE_TYPE  SPAUTH_IND  \n",
       "Groups                                            \n",
       "Adult                          54309       54309  \n",
       "Game                           87618       87618  \n",
       "HomeLife                       74949       74949  \n",
       "Infrequent_User               145107      145107  \n",
       "InstantMessage-High           424699      424699  \n",
       "InstantMessage-Low            431903      431903  \n",
       "Map                           103786      103786  \n",
       "News                           57174       57174  \n",
       "No_ignificant_preference      266966      266966  \n",
       "Portal                         98614       98614  \n",
       "Social-media                  138970      138970  \n",
       "\n",
       "[11 rows x 293 columns]"
      ]
     },
     "execution_count": 5,
     "metadata": {},
     "output_type": "execute_result"
    }
   ],
   "source": [
    "df.groupby(\"Groups\").count()"
   ]
  },
  {
   "cell_type": "markdown",
   "metadata": {},
   "source": [
    "# pick the target group"
   ]
  },
  {
   "cell_type": "code",
   "execution_count": 50,
   "metadata": {
    "collapsed": true
   },
   "outputs": [],
   "source": [
    "target_group = \"Adult\"\n",
    "sample_count = 1"
   ]
  },
  {
   "cell_type": "code",
   "execution_count": 7,
   "metadata": {},
   "outputs": [],
   "source": [
    "sample_df = pd.DataFrame(columns = df.columns)"
   ]
  },
  {
   "cell_type": "code",
   "execution_count": 8,
   "metadata": {
    "collapsed": true
   },
   "outputs": [],
   "source": [
    "sample_df = sample_df.append(df[df[\"Groups\"] == \"Adult\"])"
   ]
  },
  {
   "cell_type": "code",
   "execution_count": 24,
   "metadata": {
    "collapsed": true
   },
   "outputs": [],
   "source": [
    "target_groups_count = len(df[df[\"Groups\"] == target_group])"
   ]
  },
  {
   "cell_type": "code",
   "execution_count": 9,
   "metadata": {},
   "outputs": [
    {
     "data": {
      "text/plain": [
       "54309"
      ]
     },
     "execution_count": 9,
     "metadata": {},
     "output_type": "execute_result"
    }
   ],
   "source": [
    "# get specific group\n",
    "len(sample_df)"
   ]
  },
  {
   "cell_type": "markdown",
   "metadata": {},
   "source": [
    "# pick other group proportion"
   ]
  },
  {
   "cell_type": "code",
   "execution_count": 19,
   "metadata": {
    "collapsed": true
   },
   "outputs": [],
   "source": [
    "other_groups = list(df[\"Groups\"].unique())\n",
    "other_groups.remove(target_group)"
   ]
  },
  {
   "cell_type": "code",
   "execution_count": 20,
   "metadata": {},
   "outputs": [
    {
     "data": {
      "text/plain": [
       "['InstantMessage-Low',\n",
       " 'Infrequent_User',\n",
       " 'No_ignificant_preference',\n",
       " 'InstantMessage-High',\n",
       " 'Social-media',\n",
       " 'Map',\n",
       " 'News',\n",
       " 'HomeLife',\n",
       " 'Game',\n",
       " 'Portal']"
      ]
     },
     "execution_count": 20,
     "metadata": {},
     "output_type": "execute_result"
    }
   ],
   "source": [
    "other_groups"
   ]
  },
  {
   "cell_type": "code",
   "execution_count": 21,
   "metadata": {
    "collapsed": true
   },
   "outputs": [],
   "source": [
    "other_groups_count = len(df[df[\"Groups\"] != target_group])"
   ]
  },
  {
   "cell_type": "code",
   "execution_count": 22,
   "metadata": {},
   "outputs": [
    {
     "data": {
      "text/plain": [
       "1829786"
      ]
     },
     "execution_count": 22,
     "metadata": {},
     "output_type": "execute_result"
    }
   ],
   "source": [
    "other_groups_count"
   ]
  },
  {
   "cell_type": "code",
   "execution_count": 28,
   "metadata": {},
   "outputs": [],
   "source": [
    "for other_group in other_groups:\n",
    "    group_ratio = len(df[df[\"Groups\"] == other_group]) / other_groups_count\n",
    "    random_group = df[df[\"Groups\"] == other_group].sample(n = int(group_ratio*target_groups_count))\n",
    "    sample_df = sample_df.append(random_group)"
   ]
  },
  {
   "cell_type": "code",
   "execution_count": 29,
   "metadata": {},
   "outputs": [
    {
     "data": {
      "text/plain": [
       "108612"
      ]
     },
     "execution_count": 29,
     "metadata": {},
     "output_type": "execute_result"
    }
   ],
   "source": [
    "len(sample_df)"
   ]
  },
  {
   "cell_type": "code",
   "execution_count": 42,
   "metadata": {},
   "outputs": [],
   "source": [
    "group_list = other_groups.copy()\n",
    "group_list.append(target_group)\n",
    "group_list_val = [\"Others\" for i in other_groups]\n",
    "group_list_val.append(target_group)"
   ]
  },
  {
   "cell_type": "code",
   "execution_count": 44,
   "metadata": {},
   "outputs": [],
   "source": [
    "d = dict(zip(group_list, group_list_val))\n",
    "sample_df[\"Groups\"] = sample_df[\"Groups\"].map(d)"
   ]
  },
  {
   "cell_type": "code",
   "execution_count": 49,
   "metadata": {},
   "outputs": [
    {
     "data": {
      "text/html": [
       "<div>\n",
       "<style>\n",
       "    .dataframe thead tr:only-child th {\n",
       "        text-align: right;\n",
       "    }\n",
       "\n",
       "    .dataframe thead th {\n",
       "        text-align: left;\n",
       "    }\n",
       "\n",
       "    .dataframe tbody tr th {\n",
       "        vertical-align: top;\n",
       "    }\n",
       "</style>\n",
       "<table border=\"1\" class=\"dataframe\">\n",
       "  <thead>\n",
       "    <tr style=\"text-align: right;\">\n",
       "      <th></th>\n",
       "      <th>DATA_MONTH</th>\n",
       "      <th>RENEW_IND</th>\n",
       "      <th>GA_IND</th>\n",
       "      <th>ACTV_TYPE</th>\n",
       "      <th>GA_DATE</th>\n",
       "      <th>CHURN_IND</th>\n",
       "      <th>CHURN_TYPE</th>\n",
       "      <th>INACTV_DATE</th>\n",
       "      <th>MKT_CHURN_DATE</th>\n",
       "      <th>SUSPEND_IND</th>\n",
       "      <th>...</th>\n",
       "      <th>L2M_DEVICE_MODEL</th>\n",
       "      <th>L2M_DEVICE_PRICE_TIER</th>\n",
       "      <th>L2M_DEVICE_TYPE</th>\n",
       "      <th>HS_CHG_CNT</th>\n",
       "      <th>AVG_HS_USE_MONTH</th>\n",
       "      <th>AVG_HS_USE_MONTH_EX_CURR</th>\n",
       "      <th>ZONE_ACTV_IVR_COUNTRY</th>\n",
       "      <th>ZONE_ACTV_IVR_REGION</th>\n",
       "      <th>STORE_TYPE</th>\n",
       "      <th>SPAUTH_IND</th>\n",
       "    </tr>\n",
       "    <tr>\n",
       "      <th>Groups</th>\n",
       "      <th></th>\n",
       "      <th></th>\n",
       "      <th></th>\n",
       "      <th></th>\n",
       "      <th></th>\n",
       "      <th></th>\n",
       "      <th></th>\n",
       "      <th></th>\n",
       "      <th></th>\n",
       "      <th></th>\n",
       "      <th></th>\n",
       "      <th></th>\n",
       "      <th></th>\n",
       "      <th></th>\n",
       "      <th></th>\n",
       "      <th></th>\n",
       "      <th></th>\n",
       "      <th></th>\n",
       "      <th></th>\n",
       "      <th></th>\n",
       "      <th></th>\n",
       "    </tr>\n",
       "  </thead>\n",
       "  <tbody>\n",
       "    <tr>\n",
       "      <th>Adult</th>\n",
       "      <td>54309</td>\n",
       "      <td>54309</td>\n",
       "      <td>54309</td>\n",
       "      <td>54309</td>\n",
       "      <td>54309</td>\n",
       "      <td>54309</td>\n",
       "      <td>54309</td>\n",
       "      <td>54309</td>\n",
       "      <td>54309</td>\n",
       "      <td>54309</td>\n",
       "      <td>...</td>\n",
       "      <td>54309</td>\n",
       "      <td>54309</td>\n",
       "      <td>54309</td>\n",
       "      <td>54309</td>\n",
       "      <td>54309</td>\n",
       "      <td>54309</td>\n",
       "      <td>54309</td>\n",
       "      <td>54309</td>\n",
       "      <td>54309</td>\n",
       "      <td>54309</td>\n",
       "    </tr>\n",
       "    <tr>\n",
       "      <th>Others</th>\n",
       "      <td>54303</td>\n",
       "      <td>54303</td>\n",
       "      <td>54303</td>\n",
       "      <td>54303</td>\n",
       "      <td>54303</td>\n",
       "      <td>54303</td>\n",
       "      <td>54303</td>\n",
       "      <td>54303</td>\n",
       "      <td>54303</td>\n",
       "      <td>54303</td>\n",
       "      <td>...</td>\n",
       "      <td>54303</td>\n",
       "      <td>54303</td>\n",
       "      <td>54303</td>\n",
       "      <td>54303</td>\n",
       "      <td>54303</td>\n",
       "      <td>54303</td>\n",
       "      <td>54303</td>\n",
       "      <td>54303</td>\n",
       "      <td>54303</td>\n",
       "      <td>54303</td>\n",
       "    </tr>\n",
       "  </tbody>\n",
       "</table>\n",
       "<p>2 rows × 293 columns</p>\n",
       "</div>"
      ],
      "text/plain": [
       "        DATA_MONTH  RENEW_IND  GA_IND  ACTV_TYPE  GA_DATE  CHURN_IND  \\\n",
       "Groups                                                                 \n",
       "Adult        54309      54309   54309      54309    54309      54309   \n",
       "Others       54303      54303   54303      54303    54303      54303   \n",
       "\n",
       "        CHURN_TYPE  INACTV_DATE  MKT_CHURN_DATE  SUSPEND_IND     ...      \\\n",
       "Groups                                                           ...       \n",
       "Adult        54309        54309           54309        54309     ...       \n",
       "Others       54303        54303           54303        54303     ...       \n",
       "\n",
       "        L2M_DEVICE_MODEL  L2M_DEVICE_PRICE_TIER  L2M_DEVICE_TYPE  HS_CHG_CNT  \\\n",
       "Groups                                                                         \n",
       "Adult              54309                  54309            54309       54309   \n",
       "Others             54303                  54303            54303       54303   \n",
       "\n",
       "        AVG_HS_USE_MONTH  AVG_HS_USE_MONTH_EX_CURR  ZONE_ACTV_IVR_COUNTRY  \\\n",
       "Groups                                                                      \n",
       "Adult              54309                     54309                  54309   \n",
       "Others             54303                     54303                  54303   \n",
       "\n",
       "        ZONE_ACTV_IVR_REGION  STORE_TYPE  SPAUTH_IND  \n",
       "Groups                                                \n",
       "Adult                  54309       54309       54309  \n",
       "Others                 54303       54303       54303  \n",
       "\n",
       "[2 rows x 293 columns]"
      ]
     },
     "execution_count": 49,
     "metadata": {},
     "output_type": "execute_result"
    }
   ],
   "source": [
    "sample_df.groupby(\"Groups\").count()"
   ]
  },
  {
   "cell_type": "code",
   "execution_count": 51,
   "metadata": {},
   "outputs": [
    {
     "name": "stdout",
     "output_type": "stream",
     "text": [
      "time for output csv file: 26.90\n"
     ]
    }
   ],
   "source": [
    "save_dataframe(sample_df, path + out_filename + \"_sample_adult_others_\" + str(sample_count))"
   ]
  },
  {
   "cell_type": "code",
   "execution_count": null,
   "metadata": {
    "collapsed": true
   },
   "outputs": [],
   "source": [
    "from winsound import Beep\n",
    "Beep(440, 500) \n",
    "Beep(440, 500) \n",
    "Beep(440, 500) \n",
    "Beep(349, 350) \n",
    "Beep(523, 150) \n",
    "Beep(440, 500) \n",
    "Beep(349, 350) \n",
    "Beep(523, 150) \n",
    "Beep(440, 1000) \n",
    "Beep(659, 500) \n",
    "Beep(659, 500) \n",
    "Beep(659, 500) \n",
    "Beep(698, 350) \n",
    "Beep(523, 150) \n",
    "Beep(415, 500) \n",
    "Beep(349, 350) \n",
    "Beep(523, 150) \n",
    "Beep(440, 1000)"
   ]
  },
  {
   "cell_type": "code",
   "execution_count": null,
   "metadata": {
    "collapsed": true
   },
   "outputs": [],
   "source": []
  }
 ],
 "metadata": {
  "kernelspec": {
   "display_name": "Python 3",
   "language": "python",
   "name": "python3"
  },
  "language_info": {
   "codemirror_mode": {
    "name": "ipython",
    "version": 3
   },
   "file_extension": ".py",
   "mimetype": "text/x-python",
   "name": "python",
   "nbconvert_exporter": "python",
   "pygments_lexer": "ipython3",
   "version": "3.5.3"
  }
 },
 "nbformat": 4,
 "nbformat_minor": 2
}
