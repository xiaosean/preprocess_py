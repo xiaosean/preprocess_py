{
 "cells": [
  {
   "cell_type": "code",
   "execution_count": 58,
   "metadata": {
    "collapsed": true
   },
   "outputs": [],
   "source": [
    "import os.path\n",
    "import numpy as np\n",
    "import pandas as pd\n",
    "import time\n",
    "import os\n",
    "from os import listdir\n",
    "from os.path import isfile, join"
   ]
  },
  {
   "cell_type": "code",
   "execution_count": 59,
   "metadata": {
    "collapsed": true
   },
   "outputs": [],
   "source": [
    "def file_csv_list(target_path):\n",
    "    return [f for f in listdir(target_path) if isfile(join(target_path, f))]"
   ]
  },
  {
   "cell_type": "code",
   "execution_count": 78,
   "metadata": {
    "collapsed": true
   },
   "outputs": [],
   "source": [
    "def read_csv(filename):\n",
    "    # read revise csv file and print cost time\n",
    "    t0 = time.time()\n",
    "    df = pd.read_csv(filename, error_bad_lines=False)\n",
    "    write_to_log(\"time for read csv file: %.2f\" % (time.time()-t0))\n",
    "    return df"
   ]
  },
  {
   "cell_type": "code",
   "execution_count": 79,
   "metadata": {
    "collapsed": true
   },
   "outputs": [],
   "source": [
    "def remove_date_column(df):\n",
    "    # we don't use VOICE_DATE/VOICE_MONTH bcz it is a monthly data\n",
    "    if(\"VOICE_DATE\" in df.columns):\n",
    "        df = df.drop('VOICE_DATE', 1)\n",
    "#         print(\"Drop VOICE_DATE\")\n",
    "    if(\"VOICE_MONTH\" in df.columns):\n",
    "        df = df.drop('VOICE_MONTH', 1)\n",
    "#         print(\"Drop VOICE_MONTH\")\n",
    "    if(\"DATA_MONTH\" in df.columns):\n",
    "        df = df.drop('DATA_MONTH', 1)\n",
    "#         print(\"Drop DATA_MONTH\")\n",
    "    return df"
   ]
  },
  {
   "cell_type": "code",
   "execution_count": 80,
   "metadata": {
    "collapsed": true
   },
   "outputs": [],
   "source": [
    "def save_dataframe(df, out_filename):\n",
    "   # write to csv and no index\n",
    "    t0 = time.time()\n",
    "    # aggr_df.to_csv(out_filename + \".csv\", index=False, encoding='utf-8')\n",
    "    df.to_csv(out_filename + \".csv\", encoding='utf-8')\n",
    "#     print(\"time for output csv file: %.2f\" % (time.time()-t0))\n",
    "    write_to_log(\"time for output csv file: %.2f\" % (time.time()-t0))"
   ]
  },
  {
   "cell_type": "code",
   "execution_count": 81,
   "metadata": {
    "collapsed": true
   },
   "outputs": [],
   "source": [
    "def get_table_path():\n",
    "    with open('./preprocess_path_file.txt') as f:\n",
    "        read_data = f.read()\n",
    "        read_data = read_data.replace(\"\\r\",\"\")\n",
    "        read_data = read_data.replace('\"',\"\")\n",
    "        read_data = read_data.replace(\"\\n\",\"\")\n",
    "    table_list = read_data.split(\",\")\n",
    "    table_dict = {}\n",
    "    for table in table_list:\n",
    "        table_name, table_path = table.split(\"=\")\n",
    "        table_dict[table_name] = table_path\n",
    "    return table_dict"
   ]
  },
  {
   "cell_type": "code",
   "execution_count": 82,
   "metadata": {
    "collapsed": true
   },
   "outputs": [],
   "source": [
    "def write_to_log(msg):\n",
    "    current_time = time.strftime(\"%Y-%m-%d %H:%M:%S\", time.gmtime(time.time()))\n",
    "    with open(\"log.txt\", \"a\") as log_file:\n",
    "        log_file.write(current_time + \"\\t\" + msg + \"\\n\")"
   ]
  },
  {
   "cell_type": "code",
   "execution_count": null,
   "metadata": {
    "collapsed": true
   },
   "outputs": [],
   "source": []
  },
  {
   "cell_type": "code",
   "execution_count": 83,
   "metadata": {},
   "outputs": [
    {
     "name": "stdout",
     "output_type": "stream",
     "text": [
      "Start Date_aggregate.py\n"
     ]
    }
   ],
   "source": [
    "print(\"Start Date_aggregate.py\")\n",
    "write_to_log(\"Start Date_aggregate.py\")\n",
    "write_to_log(\"Start load path configure\")\n",
    "table_dict = get_table_path()\n",
    "NEED_AGGR_CSV_PATH = table_dict[\"NEED_AGGR_CSV_PATH\"]\n",
    "write_to_log(\"Finish load path configure\")"
   ]
  },
  {
   "cell_type": "code",
   "execution_count": null,
   "metadata": {
    "collapsed": true
   },
   "outputs": [],
   "source": []
  },
  {
   "cell_type": "code",
   "execution_count": 84,
   "metadata": {
    "collapsed": true,
    "scrolled": true
   },
   "outputs": [],
   "source": [
    "# set configure\n",
    "# path = \"../DATA_FULL/\"\n",
    "# path = \"./CDR_MONTHLY/\"\n",
    "path = NEED_AGGR_CSV_PATH\n",
    "# filename = \"dm_subscr_moc_mly_COMPLETED_revise_month_4\"\n",
    "# relative_filename = path + filename + \".csv\"\n",
    "\n",
    "out_path = \"./CDR_MONTHLY_AGGR/\"\n",
    "if not os.path.exists(out_path):\n",
    "    print(\"no dir -> CDR_MONTHLY_AGGR  make a dir\")\n",
    "    os.mkdir(out_path)\n"
   ]
  },
  {
   "cell_type": "code",
   "execution_count": null,
   "metadata": {
    "collapsed": true
   },
   "outputs": [],
   "source": []
  },
  {
   "cell_type": "code",
   "execution_count": 85,
   "metadata": {},
   "outputs": [],
   "source": [
    "for filename in file_csv_list(path):\n",
    "    if \".csv\" in filename:\n",
    "        filename_none_postfix = filename[:-4]\n",
    "        out_filename =  out_path + filename_none_postfix + \"_aggregate\"\n",
    "        df = read_csv(path + filename)\n",
    "        df = remove_date_column(df)\n",
    "        df = df.groupby('MINING_DW_SUBSCR_NO').sum()\n",
    "        if \"HOUR\" in filename:\n",
    "            for i in df.columns:\n",
    "                if(i != 'MINING_DW_SUBSCR_NO'):\n",
    "                    df[i] /= 30\n",
    "\n",
    "        save_dataframe(df, out_filename)"
   ]
  },
  {
   "cell_type": "code",
   "execution_count": 86,
   "metadata": {},
   "outputs": [
    {
     "name": "stdout",
     "output_type": "stream",
     "text": [
      "Finish Date_aggregate.py\n"
     ]
    }
   ],
   "source": [
    "print(\"Finish Date_aggregate.py\")\n",
    "write_to_log(\"Finish Date_aggregate.py\")"
   ]
  },
  {
   "cell_type": "code",
   "execution_count": null,
   "metadata": {
    "collapsed": true
   },
   "outputs": [],
   "source": []
  }
 ],
 "metadata": {
  "kernelspec": {
   "display_name": "Python 3",
   "language": "python",
   "name": "python3"
  },
  "language_info": {
   "codemirror_mode": {
    "name": "ipython",
    "version": 3
   },
   "file_extension": ".py",
   "mimetype": "text/x-python",
   "name": "python",
   "nbconvert_exporter": "python",
   "pygments_lexer": "ipython3",
   "version": "3.6.1"
  }
 },
 "nbformat": 4,
 "nbformat_minor": 2
}
