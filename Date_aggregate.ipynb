{
 "cells": [
  {
   "cell_type": "code",
   "execution_count": 36,
   "metadata": {
    "collapsed": true
   },
   "outputs": [],
   "source": [
    "import os.path\n",
    "import numpy as np\n",
    "import pandas as pd\n",
    "from time import time\n",
    "from os import listdir\n",
    "from os.path import isfile, join"
   ]
  },
  {
   "cell_type": "code",
   "execution_count": 37,
   "metadata": {},
   "outputs": [],
   "source": [
    "def file_csv_list(target_path):\n",
    "    return [f for f in listdir(target_path) if isfile(join(target_path, f))]"
   ]
  },
  {
   "cell_type": "code",
   "execution_count": 38,
   "metadata": {},
   "outputs": [],
   "source": [
    "def read_csv(filename):\n",
    "    # read revise csv file and print cost time\n",
    "    t0 = time()\n",
    "    df = pd.read_csv(filename, error_bad_lines=False)\n",
    "    print(\"time for read csv: %.2f\" % (time()-t0))\n",
    "    return df"
   ]
  },
  {
   "cell_type": "code",
   "execution_count": 39,
   "metadata": {},
   "outputs": [],
   "source": [
    "def remove_date_column(df):\n",
    "    # we don't use VOICE_DATE/VOICE_MONTH bcz it is a monthly data\n",
    "    if(\"VOICE_DATE\" in df.columns):\n",
    "        df = df.drop('VOICE_DATE', 1)\n",
    "        print(\"Drop VOICE_DATE\")\n",
    "    if(\"VOICE_MONTH\" in df.columns):\n",
    "        df = df.drop('VOICE_MONTH', 1)\n",
    "        print(\"Drop VOICE_MONTH\")\n",
    "    return df"
   ]
  },
  {
   "cell_type": "code",
   "execution_count": 40,
   "metadata": {
    "collapsed": true
   },
   "outputs": [],
   "source": [
    "def save_dataframe(df, out_filename):\n",
    "   # write to csv and no index\n",
    "    t0 = time()\n",
    "    # aggr_df.to_csv(out_filename + \".csv\", index=False, encoding='utf-8')\n",
    "    df.to_csv(out_filename + \".csv\", encoding='utf-8')\n",
    "    print(\"time for output csv file: %.2f\" % (time()-t0))"
   ]
  },
  {
   "cell_type": "code",
   "execution_count": 41,
   "metadata": {},
   "outputs": [
    {
     "name": "stdout",
     "output_type": "stream",
     "text": [
      "time for read csv: 15.84\n",
      "Drop VOICE_DATE\n",
      "time for output csv file: 8.97\n",
      "time for read csv: 15.42\n",
      "Drop VOICE_DATE\n",
      "time for output csv file: 9.37\n",
      "time for read csv: 17.33\n",
      "Drop VOICE_DATE\n",
      "time for output csv file: 9.31\n",
      "time for read csv: 17.13\n",
      "Drop VOICE_DATE\n",
      "time for output csv file: 9.38\n",
      "time for read csv: 6.09\n",
      "Drop VOICE_MONTH\n",
      "time for output csv file: 35.16\n",
      "time for read csv: 5.95\n",
      "Drop VOICE_MONTH\n",
      "time for output csv file: 34.29\n",
      "time for read csv: 5.90\n",
      "Drop VOICE_MONTH\n",
      "time for output csv file: 34.10\n",
      "time for read csv: 5.88\n",
      "Drop VOICE_MONTH\n",
      "time for output csv file: 35.62\n",
      "time for read csv: 26.42\n",
      "Drop VOICE_DATE\n",
      "time for output csv file: 10.70\n",
      "time for read csv: 0.64\n",
      "Drop VOICE_DATE\n",
      "time for output csv file: 4.66\n",
      "time for read csv: 24.44\n",
      "Drop VOICE_DATE\n",
      "time for output csv file: 11.11\n",
      "time for read csv: 23.60\n",
      "Drop VOICE_DATE\n",
      "time for output csv file: 11.01\n",
      "time for read csv: 6.26\n",
      "Drop VOICE_MONTH\n",
      "time for output csv file: 34.22\n",
      "time for read csv: 2.01\n",
      "Drop VOICE_MONTH\n",
      "time for output csv file: 14.28\n",
      "time for read csv: 5.93\n",
      "Drop VOICE_MONTH\n",
      "time for output csv file: 34.23\n",
      "time for read csv: 5.86\n",
      "Drop VOICE_MONTH\n",
      "time for output csv file: 33.56\n"
     ]
    }
   ],
   "source": [
    "# set configure\n",
    "# path = \"../DATA_FULL/\"\n",
    "path = \"./CDR_MONTHLY/\"\n",
    "# filename = \"CDR_MO_HOUR_revise_month_1\"\n",
    "# relative_filename = path + filename + \".csv\"\n",
    "out_path = \"./CDR_MONTHLY_AGGR/\"\n",
    "for filename in file_csv_list(path):\n",
    "    if \".csv\" in filename:\n",
    "        filename_none_postfix = filename[:-4]\n",
    "        out_filename =  out_path + filename_none_postfix + \"_aggregate\"\n",
    "        df = read_csv(path + filename)\n",
    "        df = remove_date_column(df)\n",
    "        df = df.groupby('MINING_DW_SUBSCR_NO').sum()\n",
    "        save_dataframe(df, out_filename)"
   ]
  },
  {
   "cell_type": "code",
   "execution_count": null,
   "metadata": {
    "collapsed": true
   },
   "outputs": [],
   "source": []
  }
 ],
 "metadata": {
  "kernelspec": {
   "display_name": "Python 3",
   "language": "python",
   "name": "python3"
  },
  "language_info": {
   "codemirror_mode": {
    "name": "ipython",
    "version": 3
   },
   "file_extension": ".py",
   "mimetype": "text/x-python",
   "name": "python",
   "nbconvert_exporter": "python",
   "pygments_lexer": "ipython3",
   "version": "3.6.1"
  }
 },
 "nbformat": 4,
 "nbformat_minor": 2
}
