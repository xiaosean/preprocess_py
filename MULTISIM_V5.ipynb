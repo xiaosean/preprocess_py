{
 "cells": [
  {
   "cell_type": "code",
   "execution_count": null,
   "metadata": {
    "collapsed": true
   },
   "outputs": [],
   "source": [
    "import pandas as pd\n",
    "import numpy as np\n",
    "import os\n",
    "import glob\n",
    "import itertools as it\n",
    "\n",
    "pd.set_option('display.float_format', lambda x: '%.1f' % x)"
   ]
  },
  {
   "cell_type": "code",
   "execution_count": null,
   "metadata": {},
   "outputs": [],
   "source": [
    "table = {}\n",
    "#files\n",
    "files = glob.glob(\"D:/MULTISIM_CHECK/rawdata_2/*.txt\")\n",
    "#db\n",
    "#db = ['']\n",
    "for index, elem in enumerate(files):\n",
    "    #files\n",
    "    name = elem.split('\\\\', 1)[1].split('.', 1)[0]\n",
    "    table[name] = pd.read_csv(elem)\n",
    "print(table.keys())\n",
    "#dict_keys(['ALL_MDS', 'CDR_2SIM_CALL_INT', 'CDR_2SIM_DIALING_CALL', \n",
    "#'CDR_2SIM_LOCATION_INT_02_WITHMI', 'CDR_3SIM_CALL_INT', 'CDR_3SIM_DIALING_CALL', 'CDR_3SIM_LOCATION_INT_02_WITHMI'])"
   ]
  },
  {
   "cell_type": "code",
   "execution_count": null,
   "metadata": {
    "collapsed": true
   },
   "outputs": [],
   "source": [
    "base_mds = table['ALL_MDS']\n",
    "all_multi_base = base_mds.query('PTY_CBU_PO_CNT > 1 and SUBSCR_STATUS_CODE == \"A\" and DORMANT_MONTH_CNT_MKT < 2 and TENURE_SCV >= 3 and RPS_NAME == \"CONSUMER MOBILITY\"')"
   ]
  },
  {
   "cell_type": "code",
   "execution_count": null,
   "metadata": {
    "collapsed": true
   },
   "outputs": [],
   "source": [
    "multi_base = base_mds.query('SUBSCR_STATUS_CODE == \"A\" and DORMANT_MONTH_CNT_MKT < 2 and TENURE_SCV >= 3 and PTY_CBU_PO_CNT > 1 and PTY_CBU_PO_CNT < 4 and RPS_NAME == \"CONSUMER MOBILITY\"')\n",
    "multi_base = multi_base[['DW_PARTY_ID', 'MINING_DW_SUBSCR_NO','PTY_CBU_PO_CNT','CUST_TYPE']]\n",
    "multi_base = multi_base.sort_values(['DW_PARTY_ID'])\n",
    "multi_base.head(5)"
   ]
  },
  {
   "cell_type": "code",
   "execution_count": null,
   "metadata": {
    "collapsed": true
   },
   "outputs": [],
   "source": [
    "party_cust_type = pd.DataFrame(multi_base.groupby(['DW_PARTY_ID'])['CUST_TYPE'].apply(list).reset_index()).rename(columns={'CUST_TYPE': 'PARTY_CUST_TYPE'})\n",
    "party_cust_type.head(5)"
   ]
  },
  {
   "cell_type": "code",
   "execution_count": null,
   "metadata": {
    "collapsed": true
   },
   "outputs": [],
   "source": [
    "multi_sims_base = pd.merge(multi_base.iloc[:,0:-1], party_cust_type, how='left', on=['DW_PARTY_ID'])\n",
    "multi_sims_base['SEGMENT_TYPE'] = 0\n",
    "multi_sims_base.shape"
   ]
  },
  {
   "cell_type": "code",
   "execution_count": null,
   "metadata": {
    "collapsed": true
   },
   "outputs": [],
   "source": [
    "multi_sims_base['REAL_PTY_CBU_PO_CNT'] =  multi_sims_base['PARTY_CUST_TYPE'].str.len()"
   ]
  },
  {
   "cell_type": "code",
   "execution_count": null,
   "metadata": {
    "collapsed": true
   },
   "outputs": [],
   "source": [
    "single_sims = multi_sims_base.query('REAL_PTY_CBU_PO_CNT == 1')\n",
    "two_sims = multi_sims_base.query('REAL_PTY_CBU_PO_CNT == 2')\n",
    "three_sims = multi_sims_base.query('REAL_PTY_CBU_PO_CNT == 3')"
   ]
  },
  {
   "cell_type": "code",
   "execution_count": null,
   "metadata": {
    "collapsed": true
   },
   "outputs": [],
   "source": [
    "single_sims.shape"
   ]
  },
  {
   "cell_type": "code",
   "execution_count": null,
   "metadata": {
    "collapsed": true
   },
   "outputs": [],
   "source": [
    "two_sims.shape"
   ]
  },
  {
   "cell_type": "markdown",
   "metadata": {},
   "source": [
    "### change mds table structure to similar with other table for join purpose"
   ]
  },
  {
   "cell_type": "code",
   "execution_count": null,
   "metadata": {
    "collapsed": true
   },
   "outputs": [],
   "source": [
    "two_sims['variable'] = [\"MINING_DW_SUBSCR_NO_A\",\"MINING_DW_SUBSCR_NO_B\"]*int(len(two_sims)/2)"
   ]
  },
  {
   "cell_type": "code",
   "execution_count": null,
   "metadata": {
    "collapsed": true
   },
   "outputs": [],
   "source": [
    "base_two_sims = two_sims.pivot(index='DW_PARTY_ID', columns='variable', values='MINING_DW_SUBSCR_NO').reset_index()"
   ]
  },
  {
   "cell_type": "code",
   "execution_count": null,
   "metadata": {
    "collapsed": true
   },
   "outputs": [],
   "source": [
    "three_sims['variable'] = [\"MINING_DW_SUBSCR_NO_A\",\"MINING_DW_SUBSCR_NO_B\", \"MINING_DW_SUBSCR_NO_C\"]*int(len(three_sims)/3)"
   ]
  },
  {
   "cell_type": "code",
   "execution_count": null,
   "metadata": {
    "collapsed": true
   },
   "outputs": [],
   "source": [
    "base_three_sims = three_sims.pivot(index='DW_PARTY_ID', columns='variable', values='MINING_DW_SUBSCR_NO').reset_index()"
   ]
  },
  {
   "cell_type": "code",
   "execution_count": null,
   "metadata": {
    "collapsed": true
   },
   "outputs": [],
   "source": [
    "base_three_sims.shape[0] * 3"
   ]
  },
  {
   "cell_type": "markdown",
   "metadata": {},
   "source": [
    "# Location"
   ]
  },
  {
   "cell_type": "code",
   "execution_count": null,
   "metadata": {
    "collapsed": true
   },
   "outputs": [],
   "source": [
    "table[\"CDR_2SIM_LOCATION_INT_02_WITHMI\"].shape"
   ]
  },
  {
   "cell_type": "code",
   "execution_count": null,
   "metadata": {
    "collapsed": true
   },
   "outputs": [],
   "source": [
    "two_sims_location = pd.merge(base_two_sims, table[\"CDR_2SIM_LOCATION_INT_02_WITHMI\"], \n",
    "                             how='left',on=['DW_PARTY_ID','MINING_DW_SUBSCR_NO_A','MINING_DW_SUBSCR_NO_B'])\n",
    "two_sims_location = two_sims_location.fillna(0)\n",
    "two_sims_location.shape"
   ]
  },
  {
   "cell_type": "code",
   "execution_count": null,
   "metadata": {
    "collapsed": true
   },
   "outputs": [],
   "source": [
    "three_sims_location = pd.merge(base_three_sims, table[\"CDR_3SIM_LOCATION_INT_02_WITHMI\"], how='left',\n",
    "                                       on=['DW_PARTY_ID','MINING_DW_SUBSCR_NO_A','MINING_DW_SUBSCR_NO_B','MINING_DW_SUBSCR_NO_C'])\n",
    "three_sims_location = three_sims_location.fillna(0)\n",
    "three_sims_location.shape"
   ]
  },
  {
   "cell_type": "code",
   "execution_count": null,
   "metadata": {
    "collapsed": true
   },
   "outputs": [],
   "source": [
    "two_sims_location['ALL_LOCATION'] =  two_sims_location['A_LOCATION_DATA'] + two_sims_location['B_LOCATION_DATA'] + two_sims_location['A_LOCATION_VOICE'] + two_sims_location['B_LOCATION_VOICE']\n",
    "two_sims_location['AVG_INTERSECTION'] = two_sims_location['INTERSECTION'] / (two_sims_location['ALL_LOCATION'] / 2)"
   ]
  },
  {
   "cell_type": "code",
   "execution_count": null,
   "metadata": {
    "collapsed": true
   },
   "outputs": [],
   "source": [
    "three_sims_location.head(5)"
   ]
  },
  {
   "cell_type": "code",
   "execution_count": null,
   "metadata": {
    "collapsed": true
   },
   "outputs": [],
   "source": [
    "#AB\n",
    "three_sims_location['AB_ALL_LOCATION'] = three_sims_location['A_LOCATION_DATA'] \\\n",
    "+ three_sims_location['A_LOCATION_VOICE'] \\\n",
    "+ three_sims_location['B_LOCATION_DATA'] \\\n",
    "+ three_sims_location['B_LOCATION_VOICE'] \n",
    "three_sims_location['AB_AVG_INTERSECTION'] = three_sims_location['AB_INTERSECTION'] \\\n",
    "/ (three_sims_location['AB_ALL_LOCATION'] / 2)\n",
    "\n",
    "#BC\n",
    "three_sims_location['BC_ALL_LOCATION'] = three_sims_location['B_LOCATION_DATA'] \\\n",
    "+ three_sims_location['B_LOCATION_VOICE'] \\\n",
    "+ three_sims_location['C_LOCATION_DATA'] \\\n",
    "+ three_sims_location['C_LOCATION_VOICE'] \n",
    "three_sims_location['BC_AVG_INTERSECTION'] = three_sims_location['BC_INTERSECTION'] \\\n",
    "/ (three_sims_location['BC_ALL_LOCATION'] / 2)\n",
    "\n",
    "#AC\n",
    "\n",
    "three_sims_location['AC_ALL_LOCATION'] = three_sims_location['A_LOCATION_DATA'] \\\n",
    "+ three_sims_location['A_LOCATION_VOICE'] \\\n",
    "+ three_sims_location['C_LOCATION_DATA'] \\\n",
    "+ three_sims_location['C_LOCATION_VOICE'] \n",
    "three_sims_location['AC_AVG_INTERSECTION'] = three_sims_location['AC_INTERSECTION'] \\\n",
    "/(three_sims_location['AC_ALL_LOCATION'] / 2)"
   ]
  },
  {
   "cell_type": "code",
   "execution_count": null,
   "metadata": {
    "collapsed": true
   },
   "outputs": [],
   "source": [
    "three_sims_location.head(10)"
   ]
  },
  {
   "cell_type": "code",
   "execution_count": null,
   "metadata": {
    "collapsed": true
   },
   "outputs": [],
   "source": [
    "loc_intersection = pd.concat([two_sims_location.loc[:,'AVG_INTERSECTION'], three_sims_location.loc[:, 'AB_AVG_INTERSECTION'], three_sims_location.loc[:,'BC_AVG_INTERSECTION'], three_sims_location.loc[:,'AC_AVG_INTERSECTION']])"
   ]
  },
  {
   "cell_type": "code",
   "execution_count": null,
   "metadata": {
    "collapsed": true
   },
   "outputs": [],
   "source": [
    "loc_intersection.shape"
   ]
  },
  {
   "cell_type": "markdown",
   "metadata": {},
   "source": [
    "# Call Intersection"
   ]
  },
  {
   "cell_type": "code",
   "execution_count": null,
   "metadata": {
    "collapsed": true
   },
   "outputs": [],
   "source": [
    "table['CDR_2SIM_CALL_INT'].head(5)                      "
   ]
  },
  {
   "cell_type": "code",
   "execution_count": null,
   "metadata": {
    "collapsed": true
   },
   "outputs": [],
   "source": [
    "two_sims_call = pd.merge(base_two_sims, table[\"CDR_2SIM_CALL_INT\"], how='left',\n",
    "                                       on=['DW_PARTY_ID', 'MINING_DW_SUBSCR_NO_A', 'MINING_DW_SUBSCR_NO_B'])\n",
    "two_sims_call = two_sims_call.fillna(0)\n",
    "two_sims_call.shape"
   ]
  },
  {
   "cell_type": "code",
   "execution_count": null,
   "metadata": {
    "collapsed": true
   },
   "outputs": [],
   "source": [
    "table[\"CDR_3SIM_CALL_INT\"].shape"
   ]
  },
  {
   "cell_type": "code",
   "execution_count": null,
   "metadata": {
    "collapsed": true
   },
   "outputs": [],
   "source": [
    "three_sims_call = pd.merge(base_three_sims, table[\"CDR_3SIM_CALL_INT\"], how='left',\n",
    "                                       on=['DW_PARTY_ID', 'MINING_DW_SUBSCR_NO_A', 'MINING_DW_SUBSCR_NO_B' , 'MINING_DW_SUBSCR_NO_C'])\n",
    "three_sims_call = three_sims_call.fillna(0)\n",
    "three_sims_call.shape"
   ]
  },
  {
   "cell_type": "code",
   "execution_count": null,
   "metadata": {
    "collapsed": true
   },
   "outputs": [],
   "source": [
    "two_sims_call['ALL_CALL'] =  two_sims_call['A_CALL_RECORD'] + two_sims_call['B_CALL_RECORD'] \n",
    "two_sims_call['AVG_INTERSECTION'] = two_sims_call['INTERSECTION'] / (two_sims_call['ALL_CALL'] / 2)"
   ]
  },
  {
   "cell_type": "code",
   "execution_count": null,
   "metadata": {
    "collapsed": true
   },
   "outputs": [],
   "source": [
    "three_sims_call.head(5)"
   ]
  },
  {
   "cell_type": "code",
   "execution_count": null,
   "metadata": {
    "collapsed": true
   },
   "outputs": [],
   "source": [
    "#AB\n",
    "three_sims_call['AB_ALL_CALL'] = three_sims_call['A_CALL_RECORD'] + three_sims_call['B_CALL_RECORD']  \n",
    "three_sims_call['AB_AVG_INTERSECTION'] = three_sims_call['AB_INTERSECTION'] / (three_sims_call['AB_ALL_CALL'] / 2)\n",
    "\n",
    "#BC\n",
    "three_sims_call['BC_ALL_CALL'] = three_sims_call['B_CALL_RECORD'] + three_sims_call['C_CALL_RECORD']\n",
    "three_sims_call['BC_AVG_INTERSECTION'] = three_sims_call['BC_INTERSECTION'] / (three_sims_call['BC_ALL_CALL'] / 2)\n",
    "\n",
    "#AC\n",
    "three_sims_call['AC_ALL_CALL'] = three_sims_call['A_CALL_RECORD'] + three_sims_call['C_CALL_RECORD'] \n",
    "three_sims_call['AC_AVG_INTERSECTION'] = three_sims_call['AC_INTERSECTION'] /(three_sims_call['AC_ALL_CALL'] / 2)"
   ]
  },
  {
   "cell_type": "code",
   "execution_count": null,
   "metadata": {
    "collapsed": true
   },
   "outputs": [],
   "source": [
    "call_intersection = pd.concat([two_sims_call.loc[:,'AVG_INTERSECTION'], \n",
    "                               three_sims_call.loc[:, 'AB_AVG_INTERSECTION'],\n",
    "                               three_sims_call.loc[:,'BC_AVG_INTERSECTION'], \n",
    "                               three_sims_call.loc[:,'AC_AVG_INTERSECTION']])"
   ]
  },
  {
   "cell_type": "code",
   "execution_count": null,
   "metadata": {
    "collapsed": true
   },
   "outputs": [],
   "source": [
    "call_intersection.shape"
   ]
  },
  {
   "cell_type": "markdown",
   "metadata": {},
   "source": [
    "***"
   ]
  },
  {
   "cell_type": "markdown",
   "metadata": {},
   "source": [
    "# fill na distribution"
   ]
  },
  {
   "cell_type": "code",
   "execution_count": null,
   "metadata": {
    "collapsed": true
   },
   "outputs": [],
   "source": [
    "# all\n",
    "call_int = call_intersection.fillna(0)\n",
    "loc_int = loc_intersection.fillna(0)\n",
    "\n",
    "# #only two sims\n",
    "# call_int = two_sims_call.loc[:,'AVG_INTERSECTION'].fillna(0)\n",
    "# loc_int = two_sims_location.loc[:,'AVG_INTERSECTION'].fillna(0)\n",
    "\n",
    "# #only three sims\n",
    "# call_int = pd.concat([three_sims_call.loc[:,'AB_AVG_INTERSECTION'],\n",
    "#                      three_sims_call.loc[:,'BC_AVG_INTERSECTION'], \n",
    "#                      three_sims_call.loc[:,'AC_AVG_INTERSECTION']]).fillna(0)\n",
    "\n",
    "# loc_int =  pd.concat([three_sims_location.loc[:, 'AB_AVG_INTERSECTION'], \n",
    "#                       three_sims_location.loc[:,'BC_AVG_INTERSECTION'], three_sims_location.loc[:,'AC_AVG_INTERSECTION']]).fillna(0)\n",
    "\n"
   ]
  },
  {
   "cell_type": "markdown",
   "metadata": {},
   "source": [
    "# drop na distribution"
   ]
  },
  {
   "cell_type": "raw",
   "metadata": {},
   "source": [
    "# # all\n",
    "# call_int = call_intersection.dropna()\n",
    "# loc_int = loc_intersection.dropna()\n",
    "\n",
    "# #only two sims\n",
    "# call_int = two_sims_call.loc[:,'AVG_INTERSECTION'].dropna(0)\n",
    "# loc_int = two_sims_location.loc[:,'AVG_INTERSECTION'].dropna(0)\n",
    "\n",
    "#only three sims\n",
    "# call_int = pd.concat([three_sims_call.loc[:,'AB_AVG_INTERSECTION'],\n",
    "#                      three_sims_call.loc[:,'BC_AVG_INTERSECTION'], \n",
    "#                      three_sims_call.loc[:,'AC_AVG_INTERSECTION']]).dropna(0)\n",
    "\n",
    "# loc_int =  pd.concat([three_sims_location.loc[:, 'AB_AVG_INTERSECTION'], \n",
    "#                       three_sims_location.loc[:,'BC_AVG_INTERSECTION'], three_sims_location.loc[:,'AC_AVG_INTERSECTION']]).dropna(0)\n"
   ]
  },
  {
   "cell_type": "code",
   "execution_count": null,
   "metadata": {
    "collapsed": true
   },
   "outputs": [],
   "source": [
    "def check_ci_bound(data, ci=0.95):\n",
    "    _data = pd.DataFrame(np.sort(data).tolist(), columns = [\"value\"])\n",
    "    _data['interval'] = np.ceil(_data['value']/0.05)*0.05\n",
    "    return _data.iloc[int(np.floor(ci * len(_data) )), 1]"
   ]
  },
  {
   "cell_type": "code",
   "execution_count": null,
   "metadata": {
    "collapsed": true
   },
   "outputs": [],
   "source": [
    "from __future__ import division, print_function\n",
    "from matplotlib import pyplot as plt\n",
    "# In a notebook environment, display the plots inline\n",
    "%matplotlib inline\n",
    "\n",
    "# Set some parameters to apply to all plots. These can be overridden\n",
    "# in each plot if desired\n",
    "import matplotlib\n",
    "# Plot size to 14\" x 7\"\n",
    "matplotlib.rc('figure', figsize = (14, 7))\n",
    "# Font size to 14\n",
    "matplotlib.rc('font', size = 14)\n",
    "# Do not display top and right frame lines\n",
    "matplotlib.rc('axes.spines', top = False, right = False)\n",
    "# Remove grid lines\n",
    "matplotlib.rc('axes', grid = False)\n",
    "# Set backgound color to white\n",
    "matplotlib.rc('axes', facecolor = 'white')"
   ]
  },
  {
   "cell_type": "code",
   "execution_count": null,
   "metadata": {
    "collapsed": true,
    "scrolled": false
   },
   "outputs": [],
   "source": [
    "# Define a function for a histogram\n",
    "def histogram(data, x_label, y_label, title, bound):\n",
    "    _, ax = plt.subplots()\n",
    "    ax.hist(data, color = '#539caf')\n",
    "    ax.set_ylabel(y_label)\n",
    "    ax.set_xlabel(x_label)\n",
    "    ax.set_title(title)\n",
    "    ax.axvline(data.mean(), color='b', linestyle='dashed', linewidth=2, label=\"mean\")\n",
    "    ax.annotate('Mean', xy=(data.mean(), len(data)*0.05), xytext=(data.mean() + 0.05, len(data)*0.05),\n",
    "            arrowprops=dict(facecolor='black', shrink=0.05),\n",
    "            )\n",
    "    y = 1\n",
    "    for b in bound:\n",
    "        b_value = check_ci_bound(data, b)\n",
    "        ax.axvline(b_value, color='r', linestyle='dashed', linewidth=2, label=\"mean\")\n",
    "        ax.annotate('Confidence Interval ' + str(b), xy=(b_value, len(data)*0.05), xytext=(b_value + 0.05, (len(data)*0.05) * y),\n",
    "                arrowprops=dict(facecolor='black', shrink=0.05),\n",
    "                )\n",
    "        y +=1"
   ]
  },
  {
   "cell_type": "code",
   "execution_count": null,
   "metadata": {
    "collapsed": true,
    "scrolled": false
   },
   "outputs": [],
   "source": [
    "# Call the function to create plot\n",
    "histogram(data = loc_int\n",
    "           , x_label = 'Percentage of location similarity'\n",
    "           , y_label = 'Number of people'\n",
    "           , title = 'Distribution of location similarity'\n",
    "           , bound = [0.95, 0.9])"
   ]
  },
  {
   "cell_type": "code",
   "execution_count": null,
   "metadata": {
    "collapsed": true
   },
   "outputs": [],
   "source": [
    "# Call the function to create plot\n",
    "histogram(data = call_int\n",
    "           , x_label = 'Percentage of contact list similarity'\n",
    "           , y_label = 'Number of people'\n",
    "           , title = 'Distribution of contact list similarity'\n",
    "           , bound = [0.95,0.9])\n"
   ]
  },
  {
   "cell_type": "code",
   "execution_count": null,
   "metadata": {
    "collapsed": true
   },
   "outputs": [],
   "source": [
    "call_bound = check_ci_bound(call_int, 0.95)\n",
    "loc_bound = check_ci_bound(loc_int, 0.95)"
   ]
  },
  {
   "cell_type": "markdown",
   "metadata": {},
   "source": [
    "***"
   ]
  },
  {
   "cell_type": "markdown",
   "metadata": {},
   "source": [
    "***"
   ]
  },
  {
   "cell_type": "markdown",
   "metadata": {},
   "source": [
    "# TWO SIMS"
   ]
  },
  {
   "cell_type": "markdown",
   "metadata": {},
   "source": [
    "## location"
   ]
  },
  {
   "cell_type": "code",
   "execution_count": null,
   "metadata": {
    "collapsed": true
   },
   "outputs": [],
   "source": [
    "fin_two_sims_location = two_sims_location[['DW_PARTY_ID', 'MINING_DW_SUBSCR_NO_A', 'MINING_DW_SUBSCR_NO_B', \n",
    "                                           'ALL_LOCATION', 'AVG_INTERSECTION' ]]\n",
    "fin_two_sims_location = fin_two_sims_location.rename(columns={'AVG_INTERSECTION' : 'LOC_AVG_INTERSECTION'})"
   ]
  },
  {
   "cell_type": "code",
   "execution_count": null,
   "metadata": {
    "collapsed": true
   },
   "outputs": [],
   "source": [
    "fin_two_sims_location.set_index(['DW_PARTY_ID', 'LOC_AVG_INTERSECTION'], inplace=True)\n",
    "loc_result = pd.DataFrame(pd.concat([fin_two_sims_location.MINING_DW_SUBSCR_NO_A, fin_two_sims_location.MINING_DW_SUBSCR_NO_B]), \n",
    "             columns=['MINING_DW_SUBSCR_NO']).reset_index()"
   ]
  },
  {
   "cell_type": "code",
   "execution_count": null,
   "metadata": {
    "collapsed": true
   },
   "outputs": [],
   "source": [
    "loc_result.loc[loc_result.LOC_AVG_INTERSECTION >= loc_bound, 'LOC_AVG_INTERSECTION'] = 1\n",
    "loc_result.loc[loc_result.LOC_AVG_INTERSECTION < loc_bound, 'LOC_AVG_INTERSECTION'] = 0\n",
    "loc_result = loc_result[['DW_PARTY_ID', 'MINING_DW_SUBSCR_NO', 'LOC_AVG_INTERSECTION']]\n",
    "loc_result = loc_result.fillna(0)"
   ]
  },
  {
   "cell_type": "code",
   "execution_count": null,
   "metadata": {
    "collapsed": true
   },
   "outputs": [],
   "source": [
    "loc_result.groupby(['LOC_AVG_INTERSECTION']).size()"
   ]
  },
  {
   "cell_type": "markdown",
   "metadata": {},
   "source": [
    "## call"
   ]
  },
  {
   "cell_type": "code",
   "execution_count": null,
   "metadata": {
    "collapsed": true
   },
   "outputs": [],
   "source": [
    "fin_two_sims_call = two_sims_call[['DW_PARTY_ID', 'MINING_DW_SUBSCR_NO_A', 'MINING_DW_SUBSCR_NO_B', \n",
    "                                           'ALL_CALL', 'AVG_INTERSECTION' ]]\n",
    "fin_two_sims_call= fin_two_sims_call.rename(columns={'AVG_INTERSECTION' : 'CALL_AVG_INTERSECTION'})"
   ]
  },
  {
   "cell_type": "code",
   "execution_count": null,
   "metadata": {
    "collapsed": true
   },
   "outputs": [],
   "source": [
    "fin_two_sims_call.set_index(['DW_PARTY_ID', 'CALL_AVG_INTERSECTION'], inplace=True)\n",
    "call_result = pd.DataFrame(pd.concat([fin_two_sims_call.MINING_DW_SUBSCR_NO_A, fin_two_sims_call.MINING_DW_SUBSCR_NO_B]), \n",
    "             columns=['MINING_DW_SUBSCR_NO']).reset_index()"
   ]
  },
  {
   "cell_type": "code",
   "execution_count": null,
   "metadata": {
    "collapsed": true
   },
   "outputs": [],
   "source": [
    "call_result.loc[call_result.CALL_AVG_INTERSECTION >= call_bound, 'CALL_AVG_INTERSECTION'] = 1\n",
    "call_result.loc[call_result.CALL_AVG_INTERSECTION < call_bound, 'CALL_AVG_INTERSECTION'] = 0\n",
    "call_result = call_result[['DW_PARTY_ID', 'MINING_DW_SUBSCR_NO', 'CALL_AVG_INTERSECTION']]\n",
    "call_result = call_result.fillna(0)"
   ]
  },
  {
   "cell_type": "code",
   "execution_count": null,
   "metadata": {
    "collapsed": true
   },
   "outputs": [],
   "source": [
    "call_result.groupby(['CALL_AVG_INTERSECTION']).size()"
   ]
  },
  {
   "cell_type": "markdown",
   "metadata": {},
   "source": [
    "# SELF CALL"
   ]
  },
  {
   "cell_type": "code",
   "execution_count": null,
   "metadata": {
    "collapsed": true
   },
   "outputs": [],
   "source": [
    "self_call = table['CDR_2SIM_DIALING_CALL']\n",
    "self_call = self_call.sort_values(['DW_PARTY_ID'])\n",
    "\n",
    "self_call_df = pd.merge(base_two_sims, self_call, how='left', \n",
    "                             on=['DW_PARTY_ID','MINING_DW_SUBSCR_NO_A','MINING_DW_SUBSCR_NO_B'])\n",
    "self_call_df = self_call_df.fillna(0)\n",
    "self_call_df.set_index(['DW_PARTY_ID', 'SELF_CALL'], inplace=True)\n",
    "self_call_result = pd.DataFrame(pd.concat([self_call_df.MINING_DW_SUBSCR_NO_A, self_call_df.MINING_DW_SUBSCR_NO_B]), \n",
    "             columns=['MINING_DW_SUBSCR_NO']).reset_index()\n",
    "self_call_result.loc[self_call_result.SELF_CALL > 0, 'SELF_CALL'] = 1\n",
    "self_call_result.loc[self_call_result.SELF_CALL == 0, 'SELF_CALL'] = 0"
   ]
  },
  {
   "cell_type": "code",
   "execution_count": null,
   "metadata": {
    "collapsed": true
   },
   "outputs": [],
   "source": [
    "self_call_result.groupby(['SELF_CALL']).size()"
   ]
  },
  {
   "cell_type": "markdown",
   "metadata": {},
   "source": [
    "## FINAL TWO SIMS"
   ]
  },
  {
   "cell_type": "code",
   "execution_count": null,
   "metadata": {
    "collapsed": true
   },
   "outputs": [],
   "source": [
    "final_df_two = pd.merge(loc_result, call_result, how='left', \n",
    "                        on=['DW_PARTY_ID','MINING_DW_SUBSCR_NO'])\n",
    "final_df_two = pd.merge(final_df_two, self_call_result, how='left', \n",
    "                        on=['DW_PARTY_ID','MINING_DW_SUBSCR_NO'])"
   ]
  },
  {
   "cell_type": "code",
   "execution_count": null,
   "metadata": {
    "collapsed": true
   },
   "outputs": [],
   "source": [
    "final_df_two.shape"
   ]
  },
  {
   "cell_type": "code",
   "execution_count": null,
   "metadata": {
    "collapsed": true
   },
   "outputs": [],
   "source": [
    "final_df_two.loc[((final_df_two.CALL_AVG_INTERSECTION == 0) & (final_df_two.LOC_AVG_INTERSECTION == 1) & (final_df_two.SELF_CALL == 0)), \n",
    "             \"SEGMENT_TYPE\"] = \"same\"\n",
    "final_df_two.loc[((final_df_two.CALL_AVG_INTERSECTION == 0) & (final_df_two.LOC_AVG_INTERSECTION == 1) & (final_df_two.SELF_CALL == 1)), \n",
    "             \"SEGMENT_TYPE\"] = \"not same\"\n",
    "final_df_two.loc[((final_df_two.CALL_AVG_INTERSECTION == 1) & (final_df_two.LOC_AVG_INTERSECTION == 1)), \n",
    "             \"SEGMENT_TYPE\"] = \"same\"\n",
    "final_df_two.loc[((final_df_two.CALL_AVG_INTERSECTION == 1) & (final_df_two.LOC_AVG_INTERSECTION == 0)), \n",
    "             \"SEGMENT_TYPE\"] = \"same\"\n",
    "final_df_two.loc[((final_df_two.CALL_AVG_INTERSECTION == 0) & (final_df_two.LOC_AVG_INTERSECTION == 0)), \n",
    "             \"SEGMENT_TYPE\"] = \"not same\"\n"
   ]
  },
  {
   "cell_type": "markdown",
   "metadata": {},
   "source": [
    "***"
   ]
  },
  {
   "cell_type": "markdown",
   "metadata": {},
   "source": [
    "# THREE SIMS"
   ]
  },
  {
   "cell_type": "markdown",
   "metadata": {},
   "source": [
    "## location"
   ]
  },
  {
   "cell_type": "markdown",
   "metadata": {},
   "source": [
    "Check similarity based on the bound determined"
   ]
  },
  {
   "cell_type": "code",
   "execution_count": null,
   "metadata": {
    "collapsed": true
   },
   "outputs": [],
   "source": [
    "fin_three_sims_location = three_sims_location[['DW_PARTY_ID', 'MINING_DW_SUBSCR_NO_A', 'MINING_DW_SUBSCR_NO_B', \n",
    "                                               'MINING_DW_SUBSCR_NO_C','AB_AVG_INTERSECTION',\n",
    "                                              'BC_AVG_INTERSECTION', 'AC_AVG_INTERSECTION']]\n",
    "fin_three_sims_location = fin_three_sims_location.rename(columns={'AB_AVG_INTERSECTION' : 'AB_LOC_AVG_INTERSECTION'})\n",
    "fin_three_sims_location = fin_three_sims_location.rename(columns={'BC_AVG_INTERSECTION' : 'BC_LOC_AVG_INTERSECTION'})\n",
    "fin_three_sims_location = fin_three_sims_location.rename(columns={'AC_AVG_INTERSECTION' : 'AC_LOC_AVG_INTERSECTION'})\n",
    "fin_three_sims_location = fin_three_sims_location.fillna(0)"
   ]
  },
  {
   "cell_type": "code",
   "execution_count": null,
   "metadata": {
    "collapsed": true
   },
   "outputs": [],
   "source": [
    "fin_three_sims_location.loc[fin_three_sims_location.AB_LOC_AVG_INTERSECTION >= loc_bound, \n",
    "                            'AB_LOC_AVG_INTERSECTION'] = 1\n",
    "fin_three_sims_location.loc[fin_three_sims_location.AB_LOC_AVG_INTERSECTION < loc_bound, \n",
    "                            'AB_LOC_AVG_INTERSECTION'] = 0\n",
    "fin_three_sims_location.loc[fin_three_sims_location.BC_LOC_AVG_INTERSECTION >= loc_bound, \n",
    "                            'BC_LOC_AVG_INTERSECTION'] = 1\n",
    "fin_three_sims_location.loc[fin_three_sims_location.BC_LOC_AVG_INTERSECTION < loc_bound, \n",
    "                            'BC_LOC_AVG_INTERSECTION'] = 0\n",
    "fin_three_sims_location.loc[fin_three_sims_location.AC_LOC_AVG_INTERSECTION >= loc_bound, \n",
    "                            'AC_LOC_AVG_INTERSECTION'] = 1\n",
    "fin_three_sims_location.loc[fin_three_sims_location.AC_LOC_AVG_INTERSECTION < loc_bound, \n",
    "                            'AC_LOC_AVG_INTERSECTION'] = 0"
   ]
  },
  {
   "cell_type": "markdown",
   "metadata": {},
   "source": [
    "Determine all three sims same and not same [A B C]"
   ]
  },
  {
   "cell_type": "code",
   "execution_count": null,
   "metadata": {
    "collapsed": true,
    "scrolled": false
   },
   "outputs": [],
   "source": [
    "loc_three_same = fin_three_sims_location.query(\"AB_LOC_AVG_INTERSECTION == 1 and BC_LOC_AVG_INTERSECTION == 1 and AC_LOC_AVG_INTERSECTION == 1\")\n",
    "loc_three_notsame = fin_three_sims_location.query(\"AB_LOC_AVG_INTERSECTION == 0 and BC_LOC_AVG_INTERSECTION == 0 and AC_LOC_AVG_INTERSECTION == 0\")\n",
    "loc_three_diff = fin_three_sims_location.drop(loc_three_same.index)\n",
    "loc_three_diff = loc_three_diff.drop(loc_three_notsame.index)"
   ]
  },
  {
   "cell_type": "code",
   "execution_count": null,
   "metadata": {
    "collapsed": true
   },
   "outputs": [],
   "source": [
    "fin_loc_three_same = pd.DataFrame(pd.concat([loc_three_same.loc[:, 'MINING_DW_SUBSCR_NO_A'], \n",
    "                                   loc_three_same.loc[:, 'MINING_DW_SUBSCR_NO_B'],\n",
    "                                   loc_three_same.loc[:, 'MINING_DW_SUBSCR_NO_C']]), columns=['MINING_DW_SUBSCR_NO'])\n",
    "fin_loc_three_same['LOCATION_SIM'] = \"same\"\n",
    "fin_loc_three_notsame = pd.DataFrame(pd.concat([loc_three_notsame.loc[:, 'MINING_DW_SUBSCR_NO_A'], \n",
    "                                   loc_three_notsame.loc[:, 'MINING_DW_SUBSCR_NO_B'],\n",
    "                                   loc_three_notsame.loc[:, 'MINING_DW_SUBSCR_NO_C']]), columns=['MINING_DW_SUBSCR_NO'])\n",
    "fin_loc_three_notsame['LOCATION_SIM'] = \"not same\""
   ]
  },
  {
   "cell_type": "code",
   "execution_count": null,
   "metadata": {
    "collapsed": true
   },
   "outputs": [],
   "source": [
    "three_sims_loc_result = pd.concat([fin_loc_three_same, fin_loc_three_notsame])"
   ]
  },
  {
   "cell_type": "markdown",
   "metadata": {},
   "source": [
    "Determine the two sims same and one diff"
   ]
  },
  {
   "cell_type": "code",
   "execution_count": null,
   "metadata": {
    "collapsed": true
   },
   "outputs": [],
   "source": [
    "all_loc_diff = pd.DataFrame(pd.concat([loc_three_diff.loc[:, 'MINING_DW_SUBSCR_NO_A'], \n",
    "                                   loc_three_diff.loc[:, 'MINING_DW_SUBSCR_NO_B'],\n",
    "                                   loc_three_diff.loc[:, 'MINING_DW_SUBSCR_NO_C']]), columns=['MINING_DW_SUBSCR_NO'])\n",
    "all_loc_diff['LOCATION_SIM'] = 'same'\n",
    "all_loc_diff = all_loc_diff.set_index(['MINING_DW_SUBSCR_NO'])"
   ]
  },
  {
   "cell_type": "code",
   "execution_count": null,
   "metadata": {
    "collapsed": true
   },
   "outputs": [],
   "source": [
    "a_loc_diff = loc_three_diff.query('BC_LOC_AVG_INTERSECTION == 1')[['MINING_DW_SUBSCR_NO_A']].rename(\n",
    "columns={'MINING_DW_SUBSCR_NO_A' : 'MINING_DW_SUBSCR_NO'})\n",
    "b_loc_diff = loc_three_diff.query('AC_LOC_AVG_INTERSECTION == 1')[['MINING_DW_SUBSCR_NO_B']].rename(\n",
    "columns={'MINING_DW_SUBSCR_NO_B' : 'MINING_DW_SUBSCR_NO'})\n",
    "c_loc_diff = loc_three_diff.query('AB_LOC_AVG_INTERSECTION == 1')[['MINING_DW_SUBSCR_NO_C']].rename(\n",
    "columns={'MINING_DW_SUBSCR_NO_C' : 'MINING_DW_SUBSCR_NO'})\n",
    "new_loc_diff = pd.concat([a_loc_diff, b_loc_diff, c_loc_diff])\n",
    "new_loc_diff['LOCATION_SIM'] = 'not same'\n",
    "new_loc_diff = new_loc_diff.set_index(['MINING_DW_SUBSCR_NO'])"
   ]
  },
  {
   "cell_type": "code",
   "execution_count": null,
   "metadata": {
    "collapsed": true
   },
   "outputs": [],
   "source": [
    "all_loc_diff.update(new_loc_diff)\n",
    "all_loc_diff.reset_index(inplace=True)"
   ]
  },
  {
   "cell_type": "code",
   "execution_count": null,
   "metadata": {
    "collapsed": true
   },
   "outputs": [],
   "source": [
    "three_sims_loc_result = pd.concat([three_sims_loc_result,all_loc_diff])\n",
    "three_sims_loc_result.shape"
   ]
  },
  {
   "cell_type": "markdown",
   "metadata": {},
   "source": [
    "***"
   ]
  },
  {
   "cell_type": "markdown",
   "metadata": {},
   "source": [
    "## CALL"
   ]
  },
  {
   "cell_type": "markdown",
   "metadata": {},
   "source": [
    "Check similarity based on the bound determined"
   ]
  },
  {
   "cell_type": "code",
   "execution_count": null,
   "metadata": {
    "collapsed": true
   },
   "outputs": [],
   "source": [
    "fin_three_sims_call = three_sims_call[['DW_PARTY_ID', 'MINING_DW_SUBSCR_NO_A', 'MINING_DW_SUBSCR_NO_B', \n",
    "                                               'MINING_DW_SUBSCR_NO_C','AB_AVG_INTERSECTION',\n",
    "                                              'BC_AVG_INTERSECTION', 'AC_AVG_INTERSECTION']]\n",
    "fin_three_sims_call = fin_three_sims_call.rename(columns={'AB_AVG_INTERSECTION' : 'AB_CALL_AVG_INTERSECTION'})\n",
    "fin_three_sims_call = fin_three_sims_call.rename(columns={'BC_AVG_INTERSECTION' : 'BC_CALL_AVG_INTERSECTION'})\n",
    "fin_three_sims_call = fin_three_sims_call.rename(columns={'AC_AVG_INTERSECTION' : 'AC_CALL_AVG_INTERSECTION'})\n",
    "fin_three_sims_call = fin_three_sims_call.fillna(0)"
   ]
  },
  {
   "cell_type": "code",
   "execution_count": null,
   "metadata": {
    "collapsed": true
   },
   "outputs": [],
   "source": [
    "fin_three_sims_call.loc[fin_three_sims_call.AB_CALL_AVG_INTERSECTION >= call_bound, \n",
    "                            'AB_CALL_AVG_INTERSECTION'] = 1\n",
    "fin_three_sims_call.loc[fin_three_sims_call.AB_CALL_AVG_INTERSECTION < call_bound, \n",
    "                            'AB_CALL_AVG_INTERSECTION'] = 0\n",
    "fin_three_sims_call.loc[fin_three_sims_call.BC_CALL_AVG_INTERSECTION >= call_bound, \n",
    "                            'BC_CALL_AVG_INTERSECTION'] = 1\n",
    "fin_three_sims_call.loc[fin_three_sims_call.BC_CALL_AVG_INTERSECTION < call_bound, \n",
    "                            'BC_CALL_AVG_INTERSECTION'] = 0\n",
    "fin_three_sims_call.loc[fin_three_sims_call.AC_CALL_AVG_INTERSECTION >= call_bound, \n",
    "                            'AC_CALL_AVG_INTERSECTION'] = 1\n",
    "fin_three_sims_call.loc[fin_three_sims_call.AC_CALL_AVG_INTERSECTION < call_bound, \n",
    "                            'AC_CALL_AVG_INTERSECTION'] = 0"
   ]
  },
  {
   "cell_type": "code",
   "execution_count": null,
   "metadata": {
    "collapsed": true
   },
   "outputs": [],
   "source": [
    "call_three_same = fin_three_sims_call.query(\"AB_CALL_AVG_INTERSECTION == 1 and BC_CALL_AVG_INTERSECTION == 1 and AC_CALL_AVG_INTERSECTION == 1\")\n",
    "call_three_notsame = fin_three_sims_call.query(\"AB_CALL_AVG_INTERSECTION == 0 and BC_CALL_AVG_INTERSECTION == 0 and AC_CALL_AVG_INTERSECTION == 0\")\n",
    "call_three_diff = fin_three_sims_call.drop(call_three_same.index)\n",
    "call_three_diff = call_three_diff.drop(call_three_notsame.index)"
   ]
  },
  {
   "cell_type": "markdown",
   "metadata": {},
   "source": [
    "Determine all three sims same and not same [A B C]"
   ]
  },
  {
   "cell_type": "code",
   "execution_count": null,
   "metadata": {
    "collapsed": true
   },
   "outputs": [],
   "source": [
    "fin_call_three_same = pd.DataFrame(pd.concat([call_three_same.loc[:, 'MINING_DW_SUBSCR_NO_A'], \n",
    "                                   call_three_same.loc[:, 'MINING_DW_SUBSCR_NO_B'],\n",
    "                                   call_three_same.loc[:, 'MINING_DW_SUBSCR_NO_C']]), columns=['MINING_DW_SUBSCR_NO'])\n",
    "fin_call_three_same['CALL_SIM'] = \"same\"\n",
    "fin_call_three_notsame = pd.DataFrame(pd.concat([call_three_notsame.loc[:, 'MINING_DW_SUBSCR_NO_A'], \n",
    "                                   call_three_notsame.loc[:, 'MINING_DW_SUBSCR_NO_B'],\n",
    "                                   call_three_notsame.loc[:, 'MINING_DW_SUBSCR_NO_C']]), columns=['MINING_DW_SUBSCR_NO'])\n",
    "fin_call_three_notsame['CALL_SIM'] = \"not same\""
   ]
  },
  {
   "cell_type": "code",
   "execution_count": null,
   "metadata": {
    "collapsed": true
   },
   "outputs": [],
   "source": [
    "three_sims_call_result = pd.concat([fin_call_three_same, fin_call_three_notsame])"
   ]
  },
  {
   "cell_type": "markdown",
   "metadata": {},
   "source": [
    "Determine the two sims same and one diff"
   ]
  },
  {
   "cell_type": "code",
   "execution_count": null,
   "metadata": {
    "collapsed": true
   },
   "outputs": [],
   "source": [
    "all_call_diff = pd.DataFrame(pd.concat([call_three_diff.loc[:, 'MINING_DW_SUBSCR_NO_A'], \n",
    "                                   call_three_diff.loc[:, 'MINING_DW_SUBSCR_NO_B'],\n",
    "                                   call_three_diff.loc[:, 'MINING_DW_SUBSCR_NO_C']]), columns=['MINING_DW_SUBSCR_NO'])\n",
    "all_call_diff['CALL_SIM'] = 'same'\n",
    "all_call_diff = all_call_diff.set_index(['MINING_DW_SUBSCR_NO'])"
   ]
  },
  {
   "cell_type": "code",
   "execution_count": null,
   "metadata": {
    "collapsed": true
   },
   "outputs": [],
   "source": [
    "a_call_diff = call_three_diff.query('BC_CALL_AVG_INTERSECTION == 1')[['MINING_DW_SUBSCR_NO_A']].rename(\n",
    "columns={'MINING_DW_SUBSCR_NO_A' : 'MINING_DW_SUBSCR_NO'})\n",
    "b_call_diff = call_three_diff.query('AC_CALL_AVG_INTERSECTION == 1')[['MINING_DW_SUBSCR_NO_B']].rename(\n",
    "columns={'MINING_DW_SUBSCR_NO_B' : 'MINING_DW_SUBSCR_NO'})\n",
    "c_call_diff = call_three_diff.query('AB_CALL_AVG_INTERSECTION == 1')[['MINING_DW_SUBSCR_NO_C']].rename(\n",
    "columns={'MINING_DW_SUBSCR_NO_C' : 'MINING_DW_SUBSCR_NO'})\n",
    "new_call_diff = pd.concat([a_call_diff, b_call_diff, c_call_diff])\n",
    "new_call_diff['CALL_SIM'] = 'not same'\n",
    "new_call_diff = new_call_diff.set_index(['MINING_DW_SUBSCR_NO'])"
   ]
  },
  {
   "cell_type": "code",
   "execution_count": null,
   "metadata": {
    "collapsed": true
   },
   "outputs": [],
   "source": [
    "all_call_diff.update(new_call_diff)\n",
    "all_call_diff.reset_index(inplace=True)"
   ]
  },
  {
   "cell_type": "code",
   "execution_count": null,
   "metadata": {
    "collapsed": true
   },
   "outputs": [],
   "source": [
    "three_sims_call_result = pd.concat([three_sims_call_result, all_call_diff])\n",
    "three_sims_call_result.shape"
   ]
  },
  {
   "cell_type": "markdown",
   "metadata": {},
   "source": [
    "# self call"
   ]
  },
  {
   "cell_type": "code",
   "execution_count": null,
   "metadata": {
    "collapsed": true
   },
   "outputs": [],
   "source": [
    "self_call = table['CDR_3SIM_DIALING_CALL']\n",
    "self_call_df = pd.merge(base_three_sims, self_call, how='left', \n",
    "                             on=['DW_PARTY_ID','MINING_DW_SUBSCR_NO_A','MINING_DW_SUBSCR_NO_B', 'MINING_DW_SUBSCR_NO_C'])\n",
    "self_call_df = self_call_df.fillna(0)"
   ]
  },
  {
   "cell_type": "code",
   "execution_count": null,
   "metadata": {
    "collapsed": true
   },
   "outputs": [],
   "source": [
    "self_call_three_same = self_call_df.query(\"AB_SELF_CALL > 0 and BC_SELF_CALL > 0 and AC_SELF_CALL > 0\")\n",
    "self_call_three_notsame = self_call_df.query(\"AB_SELF_CALL == 0 and BC_SELF_CALL == 0 and AC_SELF_CALL == 0\")\n",
    "self_call_three_diff = self_call_df.drop(self_call_three_same.index)\n",
    "self_call_three_diff = self_call_three_diff.drop(self_call_three_notsame.index)"
   ]
  },
  {
   "cell_type": "code",
   "execution_count": null,
   "metadata": {
    "collapsed": true
   },
   "outputs": [],
   "source": [
    "fin_self_call_three_same = pd.DataFrame(pd.concat([self_call_three_same.loc[:, 'MINING_DW_SUBSCR_NO_A'], \n",
    "                                   self_call_three_same.loc[:, 'MINING_DW_SUBSCR_NO_B'],\n",
    "                                   self_call_three_same.loc[:, 'MINING_DW_SUBSCR_NO_C']]), columns=['MINING_DW_SUBSCR_NO'])\n",
    "fin_self_call_three_same['SELF_CALL_SIM'] = \"same\"\n",
    "fin_self_call_three_notsame = pd.DataFrame(pd.concat([self_call_three_notsame.loc[:, 'MINING_DW_SUBSCR_NO_A'], \n",
    "                                   self_call_three_notsame.loc[:, 'MINING_DW_SUBSCR_NO_B'],\n",
    "                                   self_call_three_notsame.loc[:, 'MINING_DW_SUBSCR_NO_C']]), columns=['MINING_DW_SUBSCR_NO'])\n",
    "fin_self_call_three_notsame['SELF_CALL_SIM'] = \"not same\""
   ]
  },
  {
   "cell_type": "code",
   "execution_count": null,
   "metadata": {
    "collapsed": true
   },
   "outputs": [],
   "source": [
    "three_sims_self_call_result = pd.concat([fin_self_call_three_same, fin_self_call_three_notsame])\n",
    "three_sims_self_call_result.shape"
   ]
  },
  {
   "cell_type": "code",
   "execution_count": null,
   "metadata": {
    "collapsed": true
   },
   "outputs": [],
   "source": [
    "all_self_call_diff = pd.DataFrame(pd.concat([self_call_three_diff.loc[:, 'MINING_DW_SUBSCR_NO_A'], \n",
    "                                   self_call_three_diff.loc[:, 'MINING_DW_SUBSCR_NO_B'],\n",
    "                                   self_call_three_diff.loc[:, 'MINING_DW_SUBSCR_NO_C']]), columns=['MINING_DW_SUBSCR_NO'])\n",
    "all_self_call_diff['SELF_CALL_SIM'] = 'same'\n",
    "all_self_call_diff = all_self_call_diff.set_index(['MINING_DW_SUBSCR_NO'])"
   ]
  },
  {
   "cell_type": "code",
   "execution_count": null,
   "metadata": {
    "collapsed": true
   },
   "outputs": [],
   "source": [
    "a_self_call_diff = self_call_three_diff.query('BC_SELF_CALL > 0')[['MINING_DW_SUBSCR_NO_A']].rename(\n",
    "columns={'MINING_DW_SUBSCR_NO_A' : 'MINING_DW_SUBSCR_NO'})\n",
    "b_self_call_diff = self_call_three_diff.query('AC_SELF_CALL > 0')[['MINING_DW_SUBSCR_NO_B']].rename(\n",
    "columns={'MINING_DW_SUBSCR_NO_B' : 'MINING_DW_SUBSCR_NO'})\n",
    "c_self_call_diff = self_call_three_diff.query('AB_SELF_CALL > 0')[['MINING_DW_SUBSCR_NO_C']].rename(\n",
    "columns={'MINING_DW_SUBSCR_NO_C' : 'MINING_DW_SUBSCR_NO'})\n",
    "new_self_call_diff = pd.concat([a_self_call_diff, b_self_call_diff, c_self_call_diff])\n",
    "new_self_call_diff['SELF_CALL_SIM'] = 'not same'\n",
    "new_self_call_diff = new_self_call_diff.set_index(['MINING_DW_SUBSCR_NO'])"
   ]
  },
  {
   "cell_type": "code",
   "execution_count": null,
   "metadata": {
    "collapsed": true
   },
   "outputs": [],
   "source": [
    "all_self_call_diff.update(new_call_diff)\n",
    "all_self_call_diff.reset_index(inplace=True)"
   ]
  },
  {
   "cell_type": "code",
   "execution_count": null,
   "metadata": {
    "collapsed": true
   },
   "outputs": [],
   "source": [
    "three_sims_self_call_result = pd.concat([three_sims_self_call_result, all_self_call_diff])\n",
    "three_sims_self_call_result.shape"
   ]
  },
  {
   "cell_type": "markdown",
   "metadata": {},
   "source": [
    "# final three sims"
   ]
  },
  {
   "cell_type": "code",
   "execution_count": null,
   "metadata": {
    "collapsed": true
   },
   "outputs": [],
   "source": [
    "final_three_sims = pd.merge(three_sims_loc_result, three_sims_call_result, on=['MINING_DW_SUBSCR_NO'])\n",
    "final_three_sims = pd.merge(final_three_sims, three_sims_self_call_result, on=['MINING_DW_SUBSCR_NO'])"
   ]
  },
  {
   "cell_type": "code",
   "execution_count": null,
   "metadata": {
    "collapsed": true
   },
   "outputs": [],
   "source": [
    "final_three_sims['SEGMENT_TYPE'] = 'same'\n",
    "final_three_sims.loc[(final_three_sims.LOCATION_SIM == \"not same\") & (final_three_sims.CALL_SIM == \"not same\"), \n",
    "                     'SEGMENT_TYPE'] = \"not same\"\n",
    "final_three_sims.loc[(final_three_sims.LOCATION_SIM == \"same\") & (final_three_sims.CALL_SIM == \"not same\") & (final_three_sims.SELF_CALL_SIM == \"same\"), \n",
    "                     'SEGMENT_TYPE'] = \"not same\""
   ]
  },
  {
   "cell_type": "code",
   "execution_count": null,
   "metadata": {
    "collapsed": true
   },
   "outputs": [],
   "source": [
    "final_three_sims.shape"
   ]
  },
  {
   "cell_type": "markdown",
   "metadata": {},
   "source": [
    "***"
   ]
  },
  {
   "cell_type": "markdown",
   "metadata": {},
   "source": [
    "***"
   ]
  },
  {
   "cell_type": "markdown",
   "metadata": {},
   "source": [
    "# COMBINE AND OUTPUT RESULT"
   ]
  },
  {
   "cell_type": "code",
   "execution_count": null,
   "metadata": {
    "collapsed": true
   },
   "outputs": [],
   "source": [
    "single_sims.loc[:,'SEGMENT_TYPE'] = \"not same\""
   ]
  },
  {
   "cell_type": "code",
   "execution_count": null,
   "metadata": {
    "collapsed": true
   },
   "outputs": [],
   "source": [
    "multi_sims_final = pd.concat([single_sims[['MINING_DW_SUBSCR_NO', 'SEGMENT_TYPE']], \n",
    "                              final_df_two[['MINING_DW_SUBSCR_NO',  'SEGMENT_TYPE']],\n",
    "                              final_three_sims[['MINING_DW_SUBSCR_NO', 'SEGMENT_TYPE']]\n",
    "                             ])"
   ]
  },
  {
   "cell_type": "code",
   "execution_count": null,
   "metadata": {
    "collapsed": true
   },
   "outputs": [],
   "source": [
    "multi_sims_final = pd.merge(multi_sims_base[['DW_PARTY_ID', 'MINING_DW_SUBSCR_NO', 'REAL_PTY_CBU_PO_CNT']], multi_sims_final, how='left', \n",
    "                             on=['MINING_DW_SUBSCR_NO'])"
   ]
  },
  {
   "cell_type": "code",
   "execution_count": null,
   "metadata": {
    "collapsed": true
   },
   "outputs": [],
   "source": [
    "multi_sims_final.groupby(['SEGMENT_TYPE']).size()"
   ]
  },
  {
   "cell_type": "code",
   "execution_count": null,
   "metadata": {
    "collapsed": true
   },
   "outputs": [],
   "source": [
    "multi_sims_final_grouped = pd.DataFrame(multi_sims_final.groupby(['DW_PARTY_ID','REAL_PTY_CBU_PO_CNT', 'SEGMENT_TYPE']).size().reset_index(name=\"COUNT_SIZE\"))"
   ]
  },
  {
   "cell_type": "code",
   "execution_count": null,
   "metadata": {
    "collapsed": true
   },
   "outputs": [],
   "source": [
    "multi_sims_final_grouped.to_csv(\"multi_sims_grouped.csv\", mode=\"w\")\n",
    "multi_sims_final.to_csv(\"multi_sims_segmentation.csv\", mode=\"w\")"
   ]
  },
  {
   "cell_type": "markdown",
   "metadata": {},
   "source": [
    "***"
   ]
  }
 ],
 "metadata": {
  "kernelspec": {
   "display_name": "Python 3",
   "language": "python",
   "name": "python3"
  },
  "language_info": {
   "codemirror_mode": {
    "name": "ipython",
    "version": 3
   },
   "file_extension": ".py",
   "mimetype": "text/x-python",
   "name": "python",
   "nbconvert_exporter": "python",
   "pygments_lexer": "ipython3",
   "version": "3.6.1"
  }
 },
 "nbformat": 4,
 "nbformat_minor": 2
}
