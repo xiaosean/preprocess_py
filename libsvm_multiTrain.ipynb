{
 "cells": [
  {
   "cell_type": "code",
   "execution_count": 1,
   "metadata": {
    "collapsed": true
   },
   "outputs": [],
   "source": [
    "from mailerWithUtf8 import mail\n",
    "import subprocess\n",
    "from time import time\n",
    "import multiprocessing\n"
   ]
  },
  {
   "cell_type": "code",
   "execution_count": 2,
   "metadata": {
    "collapsed": true
   },
   "outputs": [],
   "source": [
    "def show_output(process):\n",
    "#     process =subprocess.Popen(shlex.split(command), stdout=subprocess.PIPE)\n",
    "    while True:\n",
    "        output = process.stdout.readline()\n",
    "        if output == '' and process.poll() is not None:\n",
    "            break\n",
    "        if output:\n",
    "            print(output.strip())\n",
    "    rc = process.poll()\n",
    "    return rc"
   ]
  },
  {
   "cell_type": "code",
   "execution_count": 3,
   "metadata": {
    "collapsed": true
   },
   "outputs": [],
   "source": [
    "def shell_call(args):\n",
    "    p = subprocess.Popen(args, shell=True, stdout=subprocess.PIPE)\n",
    "    return p"
   ]
  },
  {
   "cell_type": "code",
   "execution_count": 4,
   "metadata": {
    "collapsed": true
   },
   "outputs": [],
   "source": [
    "svm_shell = \"..\\libsvm-3.22\\windows\\svm-train.exe\"\n",
    "train_dataset = \"pca_20_train.libsvm\"\n",
    "test_dataset = \"pca_20_test.libsvm\"\n",
    "model_out_name = \"pca_20_train_model\"\n",
    "option_c = \"-c\"\n",
    "option_c_value = \"10\"\n",
    "option_v = \"-v\"\n",
    "option_v_value = \"5\"\n",
    "svm_shell_ori = [svm_shell, train_dataset, model_out_name]\n",
    "svm_shell_c = [svm_shell, option_c, option_c_value, train_dataset, model_out_name+\"_\"+\"c\"+str(option_c_value)]\n",
    "svm_shell_v = [svm_shell, option_v, option_v_value, train_dataset, model_out_name+\"_\"+\"v\"+str(option_v_value)]\n",
    "svm_shell_c_v = [svm_shell, option_c, option_c_value, option_v, option_v_value, train_dataset, model_out_name+\"_\"+\"c\"+str(option_c_value)+\"v\"+str(option_v_value)]\n"
   ]
  },
  {
   "cell_type": "code",
   "execution_count": 5,
   "metadata": {
    "collapsed": true
   },
   "outputs": [],
   "source": [
    "# svm_shell_list = [svm_shell_c, svm_shell_v, svm_shell_c_v]\n",
    "svm_shell_list = [svm_shell_v, svm_shell_c_v]"
   ]
  },
  {
   "cell_type": "code",
   "execution_count": null,
   "metadata": {},
   "outputs": [
    {
     "name": "stdout",
     "output_type": "stream",
     "text": [
      "run svm_shell = ['..\\\\libsvm-3.22\\\\windows\\\\svm-train.exe', '-v', '5', 'pca_20_train.libsvm', 'pca_20_train_model_v5']\n",
      "run svm_shell = ['..\\\\libsvm-3.22\\\\windows\\\\svm-train.exe', '-c', '10', '-v', '5', 'pca_20_train.libsvm', 'pca_20_train_model_c10v5']\n"
     ]
    }
   ],
   "source": [
    "\n",
    "pool = multiprocessing.Pool(processes=6)\n",
    "result = []\n",
    "t0 = time()\n",
    "for svm_shell in svm_shell_list:\n",
    "    print(\"run svm_shell =\", svm_shell)\n",
    "    result.append(pool.apply_async(shell_call, (svm_shell, )))\n",
    "pool.close()\n",
    "pool.join()\n",
    "for res in result:\n",
    "    print(res.get())\n",
    "print(\"Sub-process(es) done.\")\n",
    "exe_time = time()-t0\n",
    "\n",
    "print(\"time for libsvm multiTrain: %.2f\" % (exe_time))"
   ]
  },
  {
   "cell_type": "code",
   "execution_count": null,
   "metadata": {
    "collapsed": true
   },
   "outputs": [],
   "source": [
    "# p1 = subprocess.Popen(svm_shell_c, shell=True, check=True, stdout=subprocess.PIPE)\n",
    "# p1 = subprocess.Popen(svm_shell_c, shell=True, stdout=subprocess.PIPE)"
   ]
  },
  {
   "cell_type": "code",
   "execution_count": null,
   "metadata": {
    "collapsed": true
   },
   "outputs": [],
   "source": [
    "# p2 = subprocess.Popen(svm_shell_v, shell=True, stdout=subprocess.PIPE)"
   ]
  },
  {
   "cell_type": "code",
   "execution_count": null,
   "metadata": {
    "collapsed": true
   },
   "outputs": [],
   "source": [
    "# p3 = subprocess.Popen(svm_shell_v, shell=True, stdout=subprocess.PIPE)"
   ]
  },
  {
   "cell_type": "code",
   "execution_count": null,
   "metadata": {
    "collapsed": true
   },
   "outputs": [],
   "source": [
    "# t0 = time()\n",
    "# p1.wait()\n",
    "# p2.wait()\n",
    "# p3.wait()\n",
    "# print(\"\\nprocess1 - output\")\n",
    "# show_output(p1)\n",
    "# print(\"\\nprocess2 - output\")\n",
    "# show_output(p2)\n",
    "# print(\"\\nprocess3 - output\")\n",
    "# show_output(p3)\n",
    "\n",
    "# exe_time = time()-t0\n",
    "\n",
    "# print(\"time for libsvm multiTrain: %.2f\" % (exe_time))\n"
   ]
  },
  {
   "cell_type": "code",
   "execution_count": null,
   "metadata": {
    "collapsed": true
   },
   "outputs": [],
   "source": [
    "mail_main = \"\"\"\n",
    "            svm_shell_c\n",
    "            svm_shFell_v\n",
    "            svm_shell_c_v\n",
    "            finish\n",
    "\"\"\"\n",
    "mail_main += \"exe time = \" + str(exe_time) + \" secs\""
   ]
  },
  {
   "cell_type": "code",
   "execution_count": null,
   "metadata": {
    "collapsed": true
   },
   "outputs": [],
   "source": [
    "test = mail()\n",
    "test.main(\"svm Train Finish\",\n",
    "            mail_main\n",
    "            )"
   ]
  },
  {
   "cell_type": "code",
   "execution_count": null,
   "metadata": {
    "collapsed": true
   },
   "outputs": [],
   "source": []
  }
 ],
 "metadata": {
  "kernelspec": {
   "display_name": "Python 3",
   "language": "python",
   "name": "python3"
  },
  "language_info": {
   "codemirror_mode": {
    "name": "ipython",
    "version": 3
   },
   "file_extension": ".py",
   "mimetype": "text/x-python",
   "name": "python",
   "nbconvert_exporter": "python",
   "pygments_lexer": "ipython3",
   "version": "3.6.1"
  }
 },
 "nbformat": 4,
 "nbformat_minor": 2
}
