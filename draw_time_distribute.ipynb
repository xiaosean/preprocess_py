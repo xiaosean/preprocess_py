{
 "cells": [
  {
   "cell_type": "code",
   "execution_count": 27,
   "metadata": {},
   "outputs": [
    {
     "name": "stdout",
     "output_type": "stream",
     "text": [
      "time for read csv: 10.98\n"
     ]
    }
   ],
   "source": [
    "import numpy as np\n",
    "import pandas as pd\n",
    "from time import time\n",
    "from sklearn.cluster import KMeans\n",
    "from pandas.computation import expressions as expr\n",
    "from bokeh.charts import Line, show, output_file, save\n",
    "import pprint as pp\n",
    "import sys\n",
    "from bokeh.palettes import Spectral11, Category10\n",
    "\n",
    "\n",
    "# set configure\n",
    "# path = \"./CDR_NORMALIZE_CONCAT/\"\n",
    "# path = \"./dna_Data/\"\n",
    "path = \"./CDR_FINAL/\"\n",
    "# path = \"./CDR_ANALYZE/\"\n",
    "# filename = sys.argv[1]\n",
    "# filename = \"CDR_CONCAT_TABLE_4_max_min.csv\"\n",
    "filename = 'voice_hour_24_cols.csv'\n",
    "# filename = \"table_with_kid_all_0625.csv\"\n",
    "relative_filename = path + filename  #+ \".csv\"\n",
    "# out_filename = \"mds_mly_minus20160901\"\n",
    "# after the numeric_st_idx's number will be tranform to int64\n",
    "# numeric_st_idx = 1\n",
    "# K = 8\n",
    "label_path = \"./kmean_label/\"\n",
    "output_path = \"./CDR_CONCAT_ANALYZE_GRAPH/\"\n",
    "\n",
    "# read revise csv file and print cost time\n",
    "# just load 5 data \n",
    "t0 = time()\n",
    "df = pd.read_csv(relative_filename, error_bad_lines=False)\n",
    "print(\"time for read csv: %.2f\" % (time()-t0))\n",
    "\n"
   ]
  },
  {
   "cell_type": "code",
   "execution_count": 28,
   "metadata": {},
   "outputs": [],
   "source": [
    "# select columns\n",
    "df = df.drop('MINING_DW_SUBSCR_NO', 1)\n",
    "\n",
    "xl = \"hour\"\n",
    "# xl = \"SUN      ~      SAT\"\n",
    "\n",
    "yl = \"time (second)\"\n",
    "\n",
    "\n",
    "title = \"VOICE HOURLY TIME\"\n",
    "\n",
    "\n",
    "\n"
   ]
  },
  {
   "cell_type": "code",
   "execution_count": 29,
   "metadata": {
    "collapsed": true
   },
   "outputs": [],
   "source": [
    "data = df.mean().values"
   ]
  },
  {
   "cell_type": "code",
   "execution_count": 30,
   "metadata": {},
   "outputs": [],
   "source": [
    "line = Line(data, ylabel = 'mean ' + yl, xlabel = xl, color = Category10[10], title = title)\n",
    "# line = Line(data, ylabel = 'mean ' + sys.argv[2], xlabel = xl)\n",
    "# line.legend.orientation = 'horizontal'\n",
    "legend = line.legend\n",
    "legend.plot = None\n",
    "# legend.location = (0 , 300)\n",
    "# line.add_layout(legend[0], \"right\")\n",
    "line.xaxis.axis_label_text_font_size = '20px'\n",
    "line.yaxis.axis_label_text_font_size = '20px'\n",
    "line.title.text_font_size = '30px'\n",
    "\n",
    "# save file\n",
    "# output_file(\"test_K\" + str(i + 1) + \".html\")\n",
    "output_file(output_path + filename[:-4] + \"_DNA_distribution.html\")\n",
    "\n",
    "# save(line)\n",
    "show(line)"
   ]
  },
  {
   "cell_type": "code",
   "execution_count": null,
   "metadata": {
    "collapsed": true
   },
   "outputs": [],
   "source": []
  }
 ],
 "metadata": {
  "kernelspec": {
   "display_name": "Python 3",
   "language": "python",
   "name": "python3"
  },
  "language_info": {
   "codemirror_mode": {
    "name": "ipython",
    "version": 3
   },
   "file_extension": ".py",
   "mimetype": "text/x-python",
   "name": "python",
   "nbconvert_exporter": "python",
   "pygments_lexer": "ipython3",
   "version": "3.6.1"
  }
 },
 "nbformat": 4,
 "nbformat_minor": 2
}
