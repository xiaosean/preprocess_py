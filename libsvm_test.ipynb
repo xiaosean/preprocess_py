{
 "cells": [
  {
   "cell_type": "code",
   "execution_count": 4,
   "metadata": {
    "collapsed": true
   },
   "outputs": [],
   "source": [
    "import os\n",
    "from time import time"
   ]
  },
  {
   "cell_type": "markdown",
   "metadata": {},
   "source": [
    "# TRAIN"
   ]
  },
  {
   "cell_type": "code",
   "execution_count": null,
   "metadata": {},
   "outputs": [],
   "source": [
    "t0 = time()\n",
    "os.system(\"..\\libsvm-3.22\\windows\\svm-train.exe pca_20_train.libsvm pca_20_train_model\")\n",
    "print(\"time for libsvm train: %.2f\" % (time()-t0))\n"
   ]
  },
  {
   "cell_type": "markdown",
   "metadata": {},
   "source": [
    "# PREDICTION and Accurancy"
   ]
  },
  {
   "cell_type": "markdown",
   "metadata": {},
   "source": [
    "predict same(train) data set and get accurancy"
   ]
  },
  {
   "cell_type": "code",
   "execution_count": null,
   "metadata": {
    "collapsed": true
   },
   "outputs": [],
   "source": [
    "t0 = time()\n",
    "os.system(\"..\\libsvm-3.22\\windows\\svm-predict.exe pca_20_train.libsvm pca_20_train_model pca_20_predict_train.out\")\n",
    "print(\"time for libsvm predict: %.2f\" % (time()-t0))"
   ]
  },
  {
   "cell_type": "code",
   "execution_count": null,
   "metadata": {
    "collapsed": true
   },
   "outputs": [],
   "source": [
    "predict test data set and get accurancy"
   ]
  },
  {
   "cell_type": "code",
   "execution_count": null,
   "metadata": {
    "collapsed": true
   },
   "outputs": [],
   "source": [
    "t0 = time()\n",
    "os.system(\"..\\libsvm-3.22\\windows\\svm-predict.exe pca_20_test.libsvm pca_20_train_model pca_20_predict_test.out\")\n",
    "print(\"time for libsvm predict: %.2f\" % (time()-t0))"
   ]
  },
  {
   "cell_type": "markdown",
   "metadata": {},
   "source": [
    "#  TRAIN -c 10"
   ]
  },
  {
   "cell_type": "code",
   "execution_count": null,
   "metadata": {
    "collapsed": true
   },
   "outputs": [],
   "source": [
    "t0 = time()\n",
    "os.system(\"..\\libsvm-3.22\\windows\\svm-train.exe -c 10 pca_20_train.libsvm pca_20_train_model_c10\")\n",
    "print(\"time for libsvm train: %.2f\" % (time()-t0))"
   ]
  },
  {
   "cell_type": "code",
   "execution_count": null,
   "metadata": {
    "collapsed": true
   },
   "outputs": [],
   "source": [
    "t0 = time()\n",
    "os.system(\"..\\libsvm-3.22\\windows\\svm-predict.exe pca_20_train.libsvm pca_20_train_model_c10 pca_20_predict_train.out\")\n",
    "print(\"time for libsvm predict: %.2f\" % (time()-t0))"
   ]
  },
  {
   "cell_type": "code",
   "execution_count": null,
   "metadata": {
    "collapsed": true
   },
   "outputs": [],
   "source": [
    "t0 = time()\n",
    "os.system(\"..\\libsvm-3.22\\windows\\svm-predict.exe pca_20_test.libsvm pca_20_train_model_c10 pca_20_predict_test.out\")\n",
    "print(\"time for libsvm predict: %.2f\" % (time()-t0))"
   ]
  },
  {
   "cell_type": "markdown",
   "metadata": {},
   "source": [
    "#  TRAIN -v 5"
   ]
  },
  {
   "cell_type": "code",
   "execution_count": null,
   "metadata": {
    "collapsed": true
   },
   "outputs": [],
   "source": [
    "t0 = time()\n",
    "os.system(\"..\\libsvm-3.22\\windows\\svm-train.exe -v 5 pca_20_train.libsvm pca_20_train_model_v5\")\n",
    "print(\"time for libsvm train: %.2f\" % (time()-t0))"
   ]
  },
  {
   "cell_type": "code",
   "execution_count": null,
   "metadata": {
    "collapsed": true
   },
   "outputs": [],
   "source": [
    "t0 = time()\n",
    "os.system(\"..\\libsvm-3.22\\windows\\svm-predict.exe pca_20_train.libsvm pca_20_train_model_v5 pca_20_predict_train.out\")\n",
    "print(\"time for libsvm predict: %.2f\" % (time()-t0))"
   ]
  },
  {
   "cell_type": "code",
   "execution_count": null,
   "metadata": {
    "collapsed": true
   },
   "outputs": [],
   "source": [
    "t0 = time()\n",
    "os.system(\"..\\libsvm-3.22\\windows\\svm-predict.exe pca_20_test.libsvm pca_20_train_model_v5 pca_20_predict_train.out\")\n",
    "print(\"time for libsvm predict: %.2f\" % (time()-t0))"
   ]
  },
  {
   "cell_type": "markdown",
   "metadata": {},
   "source": [
    "#  TRAIN -c 10  -v 5"
   ]
  },
  {
   "cell_type": "code",
   "execution_count": null,
   "metadata": {
    "collapsed": true
   },
   "outputs": [],
   "source": [
    "t0 = time()\n",
    "os.system(\"..\\libsvm-3.22\\windows\\svm-train.exe -c 10 -v 5 pca_20_train.libsvm pca_20_train_model_c10v5\")\n",
    "print(\"time for libsvm train: %.2f\" % (time()-t0))"
   ]
  },
  {
   "cell_type": "code",
   "execution_count": null,
   "metadata": {
    "collapsed": true
   },
   "outputs": [],
   "source": [
    "t0 = time()\n",
    "os.system(\"..\\libsvm-3.22\\windows\\svm-predict.exe pca_20_train.libsvm pca_20_train_model_c10v5 pca_20_predict_train.out\")\n",
    "print(\"time for libsvm predict: %.2f\" % (time()-t0))"
   ]
  },
  {
   "cell_type": "code",
   "execution_count": null,
   "metadata": {
    "collapsed": true
   },
   "outputs": [],
   "source": [
    "t0 = time()\n",
    "os.system(\"..\\libsvm-3.22\\windows\\svm-predict.exe pca_20_test.libsvm pca_20_train_model_c10v5 pca_20_predict_train.out\")\n",
    "print(\"time for libsvm predict: %.2f\" % (time()-t0))"
   ]
  },
  {
   "cell_type": "code",
   "execution_count": null,
   "metadata": {
    "collapsed": true
   },
   "outputs": [],
   "source": [
    "svm_shell = \"..\\libsvm-3.22\\windows\\svm-predict.exe\"\n",
    "train_dataset = \"pca_20_train.libsvm\"\n",
    "test_dataset = \"pca_20_test.libsvm\"\n",
    "model_out_name = \"pca_20_train_model\"\n",
    "option_c = \"-c\"\n",
    "option_c_value = \"10\"\n",
    "option_v = \"-v\"\n",
    "option_v_value = \"5\"\n",
    "svm_shell_ori = [svm_shell, train_dataset, model_out_name]\n",
    "svm_shell_c = [svm_shell, option_c, option_c_value, train_dataset, model_out_name+\"_\"+\"c\"+str(option_c_value)]\n",
    "svm_shell_v = [svm_shell, option_v, option_v_value, train_dataset, model_out_name+\"_\"+\"v\"+str(option_v_value)]\n",
    "svm_shell_c_v = [svm_shell, option_c, option_c_value, option_v, option_v_value, train_dataset, model_out_name+\"_\"+\"c\"+str(option_c_value)+\"v\"+str(option_v_value)]\n",
    "\n"
   ]
  },
  {
   "cell_type": "code",
   "execution_count": null,
   "metadata": {
    "collapsed": true
   },
   "outputs": [],
   "source": [
    "p1 = subprocess.Popen(svm_shell_c, shell=True, check=True, stdout=subprocess.PIPE)"
   ]
  },
  {
   "cell_type": "code",
   "execution_count": null,
   "metadata": {
    "collapsed": true
   },
   "outputs": [],
   "source": [
    "p2 = subprocess.Popen(svm_shell_v, shell=True, check=True, stdout=subprocess.PIPE)"
   ]
  },
  {
   "cell_type": "code",
   "execution_count": null,
   "metadata": {
    "collapsed": true
   },
   "outputs": [],
   "source": [
    "p3 = subprocess.Popen(svm_shell_v, shell=True, check=True, stdout=subprocess.PIPE)"
   ]
  }
 ],
 "metadata": {
  "kernelspec": {
   "display_name": "Python 3",
   "language": "python",
   "name": "python3"
  },
  "language_info": {
   "codemirror_mode": {
    "name": "ipython",
    "version": 3
   },
   "file_extension": ".py",
   "mimetype": "text/x-python",
   "name": "python",
   "nbconvert_exporter": "python",
   "pygments_lexer": "ipython3",
   "version": "3.6.1"
  }
 },
 "nbformat": 4,
 "nbformat_minor": 2
}
