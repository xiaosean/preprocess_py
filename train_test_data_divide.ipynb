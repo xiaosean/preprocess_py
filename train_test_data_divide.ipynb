{
 "cells": [
  {
   "cell_type": "markdown",
   "metadata": {},
   "source": [
    "# Read & Clear Data"
   ]
  },
  {
   "cell_type": "code",
   "execution_count": 23,
   "metadata": {
    "collapsed": true
   },
   "outputs": [],
   "source": [
    "import os.path\n",
    "import numpy as np\n",
    "import pandas as pd\n",
    "import feather \n",
    "from time import time\n",
    "from sklearn.model_selection import train_test_split\n",
    "import feather"
   ]
  },
  {
   "cell_type": "code",
   "execution_count": 24,
   "metadata": {
    "collapsed": true
   },
   "outputs": [],
   "source": [
    "def save_dataframe(df, out_filename):\n",
    "   # write to csv and no index\n",
    "    t0 = time()\n",
    "    df.to_csv(out_filename + \".csv\", index=False, encoding='utf-8')\n",
    "#     df.to_csv(out_filename + \".csv\", encoding='utf-8')\n",
    "    print(\"time for output csv file: %.2f\" % (time()-t0))"
   ]
  },
  {
   "cell_type": "code",
   "execution_count": 25,
   "metadata": {},
   "outputs": [
    {
     "name": "stdout",
     "output_type": "stream",
     "text": [
      "C:/Users/VIPLAB/Desktop/preprocess_py/marketing_analyze/0714_april_marketing_anylze_full_table_group12_select_category_max_min.csv\n"
     ]
    }
   ],
   "source": [
    "# set configure\n",
    "# path = \"./CDR_MONTHLY_AGGR/\"\n",
    "# path = \"D:/0625_fet_analyze/CDR_FINAL/\"\n",
    "# path = \"C:/Users/VIPLAB/Downloads/Spark_data/\"\n",
    "# path = \"./marketing_analyze/\"\n",
    "path = \"C:/Users/VIPLAB/Desktop/preprocess_py/marketing_analyze/\"\n",
    "filename = \"0714_april_marketing_anylze_full_table_group12_select_category_max_min\"\n",
    "out_filename = filename\n",
    "# path = \"./\"\n",
    "# filename = \"dm_subscr_mtc_mly_COMPLETED_revise\"\n",
    "relative_filename = path + filename + \".csv\"\n",
    "# relative_filename = path + filename + \".txt\"\n",
    "# relative_filename = path + filename + \".feather\"\n",
    "print(relative_filename)"
   ]
  },
  {
   "cell_type": "code",
   "execution_count": null,
   "metadata": {},
   "outputs": [],
   "source": [
    "t0 = time()\n",
    "df = pd.read_csv(relative_filename, error_bad_lines=False)\n",
    "# df = pd.read_csv(relative_filename, usecols = wants_cols, error_bad_lines=False)\n",
    "# df = feather.read_dataframe(relative_filename)\n",
    "\n",
    "print(\"time for read csv: %.2f\" % (time()-t0))"
   ]
  },
  {
   "cell_type": "code",
   "execution_count": 11,
   "metadata": {
    "collapsed": true
   },
   "outputs": [],
   "source": [
    "# out_filename = \"0714_april_marketing_anylze_full_table_group12_select_category_max_min\""
   ]
  },
  {
   "cell_type": "code",
   "execution_count": 9,
   "metadata": {
    "collapsed": true
   },
   "outputs": [],
   "source": [
    "wants_cols = ['SRV_TYPE_DESC',\n",
    " 'GENDER_CODE',\n",
    " 'AGE',\n",
    " 'TENURE_SCV',\n",
    " 'BILL_CITY_NAME',\n",
    " 'DORMANT_MONTH_CNT_MKT',\n",
    " 'IMEI_MFG_NAME',\n",
    " 'IMEI_BAND',\n",
    " 'CHURN_CLM_IND',\n",
    " 'PTY_NP_IN_IND',\n",
    " 'PTY_NP_OUT_IND',\n",
    " 'MDS_CURR_RENEW_CNT',\n",
    " 'PROM_CURR_EXP_MONTH_CNT',\n",
    " 'CURR_PROM_COMMIT_MONTHS',\n",
    " 'L1M_PROM_COMMIT_MONTHS',\n",
    " 'NET_INV_AMT',\n",
    " 'L1M_NET_INV_AMT',\n",
    " 'L2M_NET_INV_AMT',\n",
    " 'L3M_NET_INV_AMT',\n",
    " 'AGENCY_AMT',\n",
    " 'L3M_AVG_NET_INV_AMT',\n",
    " 'MT_STM_AMT',\n",
    " 'VOICE_RC_AMT',\n",
    " 'DATA_RC_AMT',\n",
    " 'ONNET_AMT',\n",
    " 'OFFNETM_AMT',\n",
    " 'PSTN_AMT',\n",
    " 'INT_ROAM_AMT',\n",
    " 'IDD_AMT',\n",
    " 'DATA_INV_AMT',\n",
    " 'VOICE_INV_AMT',\n",
    " 'GOOGLE_PLAY_IND',\n",
    " 'MO_TTL_DURATION',\n",
    " 'MO_ONNET_DUR',\n",
    " 'MO_OFFNET_DUR',\n",
    " 'PSTN_DUR',\n",
    " 'MO_TTL_COUNT',\n",
    " 'MO_ONNET_CNT',\n",
    " 'MO_OFFNET_CNT',\n",
    " 'PSTN_CNT',\n",
    " 'MT_TTL_DURATION',\n",
    " 'MT_ONNET_DUR',\n",
    " 'MT_OFFNET_DUR',\n",
    " 'MT_PSTN_DUR',\n",
    " 'MT_TTL_COUNT',\n",
    " 'MT_ONNET_CNT',\n",
    " 'MT_OFFNET_CNT',\n",
    " 'MT_PSTN_CNT',\n",
    " 'MOST_MO_OPERATOR',\n",
    " 'MOST_MT_OPERATOR',\n",
    " 'MOC_FET_DUR',\n",
    " 'MOC_TWM_DUR',\n",
    " 'MOC_CHM_DUR',\n",
    " 'MOC_OTH_DUR',\n",
    " 'MOC_PSTN_DUR',\n",
    " 'MOST_MO_DUR',\n",
    " 'MTC_FET_DUR',\n",
    " 'MTC_TWM_DUR',\n",
    " 'MTC_CHM_DUR',\n",
    " 'MTC_PSTN_DUR',\n",
    " 'MOST_MT_DUR',\n",
    " 'CUST_TYPE',\n",
    " 'FLAT_RATE_4G_IND',\n",
    " 'FLAT_RATE_3G_IND',\n",
    " 'VOICE_MONTHLY_FEE',\n",
    " 'DATA_MONTHLY_FEE',\n",
    " 'TOTAL_MONTHLY_FEE',\n",
    " 'DATA_RATING_USAGE_MB',\n",
    " 'HS_CHG_CNT',\n",
    " 'AVG_HS_USE_MONTH',\n",
    " 'Groups']\n"
   ]
  },
  {
   "cell_type": "code",
   "execution_count": null,
   "metadata": {},
   "outputs": [],
   "source": [
    "df.head()"
   ]
  },
  {
   "cell_type": "code",
   "execution_count": null,
   "metadata": {},
   "outputs": [],
   "source": [
    "len(df)"
   ]
  },
  {
   "cell_type": "code",
   "execution_count": null,
   "metadata": {
    "collapsed": true
   },
   "outputs": [],
   "source": [
    "df = df[df[\"Groups\"] != \"None\"]"
   ]
  },
  {
   "cell_type": "code",
   "execution_count": null,
   "metadata": {},
   "outputs": [],
   "source": [
    "len(df)"
   ]
  },
  {
   "cell_type": "code",
   "execution_count": null,
   "metadata": {},
   "outputs": [],
   "source": [
    "# verify deletion\n",
    "df.groupby('Groups').count()"
   ]
  },
  {
   "cell_type": "markdown",
   "metadata": {},
   "source": [
    "# Split Data"
   ]
  },
  {
   "cell_type": "code",
   "execution_count": null,
   "metadata": {
    "collapsed": true
   },
   "outputs": [],
   "source": [
    "# train, test = train_test_split(df, test_size = 0.4, random_state = 200)\n",
    "train, test = train_test_split(df, test_size = 0.33, random_state = 200)"
   ]
  },
  {
   "cell_type": "code",
   "execution_count": null,
   "metadata": {
    "collapsed": true
   },
   "outputs": [],
   "source": [
    "# train_x, train_y = train.iloc[:, 0:-1], train.iloc[:, -1]"
   ]
  },
  {
   "cell_type": "code",
   "execution_count": null,
   "metadata": {
    "collapsed": true
   },
   "outputs": [],
   "source": [
    "# test_x, test_y = test.iloc[:, 0:-1], test.iloc[:, -1]"
   ]
  },
  {
   "cell_type": "code",
   "execution_count": null,
   "metadata": {},
   "outputs": [],
   "source": [
    "len(train)"
   ]
  },
  {
   "cell_type": "code",
   "execution_count": null,
   "metadata": {},
   "outputs": [],
   "source": [
    "len(test)"
   ]
  },
  {
   "cell_type": "code",
   "execution_count": null,
   "metadata": {},
   "outputs": [],
   "source": [
    "train.groupby('Groups').count()"
   ]
  },
  {
   "cell_type": "code",
   "execution_count": null,
   "metadata": {},
   "outputs": [],
   "source": [
    "test.groupby('Groups').count()"
   ]
  },
  {
   "cell_type": "code",
   "execution_count": null,
   "metadata": {},
   "outputs": [],
   "source": [
    "train.head()"
   ]
  },
  {
   "cell_type": "code",
   "execution_count": null,
   "metadata": {},
   "outputs": [],
   "source": [
    "path = \"./marketing_analyze/\"\n",
    "# path = \"C:/Users/VIPLAB/Downloads/Spark_data/\"\n",
    "save_dataframe(train, path + out_filename + \"_train\")"
   ]
  },
  {
   "cell_type": "code",
   "execution_count": null,
   "metadata": {
    "collapsed": true
   },
   "outputs": [],
   "source": [
    "save_dataframe(test, path + out_filename + \"_test\")"
   ]
  },
  {
   "cell_type": "code",
   "execution_count": null,
   "metadata": {
    "collapsed": true
   },
   "outputs": [],
   "source": [
    "train_sample = train.sample(frac=0.1)\n",
    "len(train_sample)\n",
    "save_dataframe(train_sample, path + out_filename + \"_train_sample\")"
   ]
  },
  {
   "cell_type": "code",
   "execution_count": null,
   "metadata": {
    "collapsed": true
   },
   "outputs": [],
   "source": [
    "test_sample = test.sample(frac=0.1)\n",
    "len(test_sample)\n",
    "save_dataframe(test_sample, path + out_filename+ \"_test_sample\")"
   ]
  },
  {
   "cell_type": "code",
   "execution_count": null,
   "metadata": {
    "collapsed": true
   },
   "outputs": [],
   "source": [
    "print(len(train_sample))\n",
    "print(len(test_sample))"
   ]
  },
  {
   "cell_type": "code",
   "execution_count": null,
   "metadata": {
    "collapsed": true
   },
   "outputs": [],
   "source": []
  }
 ],
 "metadata": {
  "kernelspec": {
   "display_name": "Python 3",
   "language": "python",
   "name": "python3"
  },
  "language_info": {
   "codemirror_mode": {
    "name": "ipython",
    "version": 3
   },
   "file_extension": ".py",
   "mimetype": "text/x-python",
   "name": "python",
   "nbconvert_exporter": "python",
   "pygments_lexer": "ipython3",
   "version": "3.5.3"
  }
 },
 "nbformat": 4,
 "nbformat_minor": 2
}
