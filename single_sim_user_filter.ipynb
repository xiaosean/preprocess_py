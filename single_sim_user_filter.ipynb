{
 "cells": [
  {
   "cell_type": "code",
   "execution_count": 36,
   "metadata": {
    "collapsed": true
   },
   "outputs": [],
   "source": [
    "import os.path\n",
    "import numpy as np\n",
    "import pandas as pd\n",
    "from time import time"
   ]
  },
  {
   "cell_type": "code",
   "execution_count": 37,
   "metadata": {
    "collapsed": true
   },
   "outputs": [],
   "source": [
    "path = \"D:/NEW_DATA_FULL_2017_6_30/\"\n",
    "filename = \"MDS_April_All_SINGLE_SIM_COMPLETED\"\n",
    "# relative_filename = path + filename + \".csv\"\n",
    "relative_filename = path + filename + \".txt\"\n"
   ]
  },
  {
   "cell_type": "code",
   "execution_count": 38,
   "metadata": {
    "collapsed": true
   },
   "outputs": [],
   "source": [
    "want_cols = [\"MINING_DW_SUBSCR_NO\", \"PTY_CBU_PO_CNT\", \"RPS_NAME\", \"SUBSCR_STATUS_CODE\", \"TENURE_SCV\", \"DORMANT_MONTH_CNT_MKT\"]"
   ]
  },
  {
   "cell_type": "code",
   "execution_count": 29,
   "metadata": {},
   "outputs": [
    {
     "name": "stdout",
     "output_type": "stream",
     "text": [
      "time for read csv: 25.85\n"
     ]
    }
   ],
   "source": [
    "# read csv file and print cost time\n",
    "t0 = time()\n",
    "df = pd.read_csv(relative_filename, error_bad_lines=False, usecols = want_cols, sep = '\\t')\n",
    "print(\"time for read csv: %.2f\" % (time()-t0))"
   ]
  },
  {
   "cell_type": "code",
   "execution_count": 30,
   "metadata": {},
   "outputs": [
    {
     "data": {
      "text/html": [
       "<div>\n",
       "<style>\n",
       "    .dataframe thead tr:only-child th {\n",
       "        text-align: right;\n",
       "    }\n",
       "\n",
       "    .dataframe thead th {\n",
       "        text-align: left;\n",
       "    }\n",
       "\n",
       "    .dataframe tbody tr th {\n",
       "        vertical-align: top;\n",
       "    }\n",
       "</style>\n",
       "<table border=\"1\" class=\"dataframe\">\n",
       "  <thead>\n",
       "    <tr style=\"text-align: right;\">\n",
       "      <th></th>\n",
       "      <th>MINING_DW_SUBSCR_NO</th>\n",
       "      <th>RPS_NAME</th>\n",
       "      <th>SUBSCR_STATUS_CODE</th>\n",
       "      <th>TENURE_SCV</th>\n",
       "      <th>DORMANT_MONTH_CNT_MKT</th>\n",
       "      <th>PTY_CBU_PO_CNT</th>\n",
       "    </tr>\n",
       "  </thead>\n",
       "  <tbody>\n",
       "    <tr>\n",
       "      <th>0</th>\n",
       "      <td>8134330931</td>\n",
       "      <td>ENTERPRISE-SOLUTION-MVPN</td>\n",
       "      <td>A</td>\n",
       "      <td>21.0</td>\n",
       "      <td>0</td>\n",
       "      <td>1</td>\n",
       "    </tr>\n",
       "    <tr>\n",
       "      <th>1</th>\n",
       "      <td>2118544651</td>\n",
       "      <td>CONSUMER MOBILITY</td>\n",
       "      <td>A</td>\n",
       "      <td>226.0</td>\n",
       "      <td>0</td>\n",
       "      <td>1</td>\n",
       "    </tr>\n",
       "    <tr>\n",
       "      <th>2</th>\n",
       "      <td>10000337216</td>\n",
       "      <td>CONSUMER MOBILITY</td>\n",
       "      <td>A</td>\n",
       "      <td>7.0</td>\n",
       "      <td>0</td>\n",
       "      <td>1</td>\n",
       "    </tr>\n",
       "    <tr>\n",
       "      <th>3</th>\n",
       "      <td>3133428916</td>\n",
       "      <td>CONSUMER MOBILITY</td>\n",
       "      <td>A</td>\n",
       "      <td>24.1</td>\n",
       "      <td>0</td>\n",
       "      <td>1</td>\n",
       "    </tr>\n",
       "    <tr>\n",
       "      <th>4</th>\n",
       "      <td>3119268553</td>\n",
       "      <td>CONSUMER MOBILITY</td>\n",
       "      <td>A</td>\n",
       "      <td>94.1</td>\n",
       "      <td>3</td>\n",
       "      <td>1</td>\n",
       "    </tr>\n",
       "  </tbody>\n",
       "</table>\n",
       "</div>"
      ],
      "text/plain": [
       "   MINING_DW_SUBSCR_NO                  RPS_NAME SUBSCR_STATUS_CODE  \\\n",
       "0           8134330931  ENTERPRISE-SOLUTION-MVPN                  A   \n",
       "1           2118544651         CONSUMER MOBILITY                  A   \n",
       "2          10000337216         CONSUMER MOBILITY                  A   \n",
       "3           3133428916         CONSUMER MOBILITY                  A   \n",
       "4           3119268553         CONSUMER MOBILITY                  A   \n",
       "\n",
       "   TENURE_SCV  DORMANT_MONTH_CNT_MKT  PTY_CBU_PO_CNT  \n",
       "0        21.0                      0               1  \n",
       "1       226.0                      0               1  \n",
       "2         7.0                      0               1  \n",
       "3        24.1                      0               1  \n",
       "4        94.1                      3               1  "
      ]
     },
     "execution_count": 30,
     "metadata": {},
     "output_type": "execute_result"
    }
   ],
   "source": [
    "df.head()"
   ]
  },
  {
   "cell_type": "code",
   "execution_count": 10,
   "metadata": {
    "collapsed": true
   },
   "outputs": [],
   "source": []
  },
  {
   "cell_type": "code",
   "execution_count": 19,
   "metadata": {},
   "outputs": [
    {
     "data": {
      "text/plain": [
       "2596797"
      ]
     },
     "execution_count": 19,
     "metadata": {},
     "output_type": "execute_result"
    }
   ],
   "source": [
    "filter_df = df[df[\"PTY_CBU_PO_CNT\"] == 1]\n",
    "len(filter_df)"
   ]
  },
  {
   "cell_type": "code",
   "execution_count": 20,
   "metadata": {},
   "outputs": [
    {
     "data": {
      "text/plain": [
       "2528129"
      ]
     },
     "execution_count": 20,
     "metadata": {},
     "output_type": "execute_result"
    }
   ],
   "source": [
    "filter_df = df[df[\"RPS_NAME\"] == \"CONSUMER MOBILITY\"]\n",
    "len(filter_df)\n"
   ]
  },
  {
   "cell_type": "code",
   "execution_count": 21,
   "metadata": {},
   "outputs": [
    {
     "data": {
      "text/plain": [
       "2513147"
      ]
     },
     "execution_count": 21,
     "metadata": {},
     "output_type": "execute_result"
    }
   ],
   "source": [
    "filter_df = df[df[\"SUBSCR_STATUS_CODE\"] == \"A\"]\n",
    "len(filter_df)"
   ]
  },
  {
   "cell_type": "code",
   "execution_count": 22,
   "metadata": {},
   "outputs": [
    {
     "data": {
      "text/plain": [
       "2466315"
      ]
     },
     "execution_count": 22,
     "metadata": {},
     "output_type": "execute_result"
    }
   ],
   "source": [
    "filter_df = df[df[\"TENURE_SCV\"] >= 3]\n",
    "len(filter_df)"
   ]
  },
  {
   "cell_type": "code",
   "execution_count": 31,
   "metadata": {},
   "outputs": [
    {
     "data": {
      "text/plain": [
       "2246384"
      ]
     },
     "execution_count": 31,
     "metadata": {},
     "output_type": "execute_result"
    }
   ],
   "source": [
    "filter_df = df[(df[\"RPS_NAME\"] == \"CONSUMER MOBILITY\") & (df[\"SUBSCR_STATUS_CODE\"] == \"A\") & (df[\"TENURE_SCV\"] >= 3) & (df[\"DORMANT_MONTH_CNT_MKT\"] < 2)]\n",
    "len(filter_df)"
   ]
  },
  {
   "cell_type": "code",
   "execution_count": 32,
   "metadata": {},
   "outputs": [
    {
     "data": {
      "text/html": [
       "<div>\n",
       "<style>\n",
       "    .dataframe thead tr:only-child th {\n",
       "        text-align: right;\n",
       "    }\n",
       "\n",
       "    .dataframe thead th {\n",
       "        text-align: left;\n",
       "    }\n",
       "\n",
       "    .dataframe tbody tr th {\n",
       "        vertical-align: top;\n",
       "    }\n",
       "</style>\n",
       "<table border=\"1\" class=\"dataframe\">\n",
       "  <thead>\n",
       "    <tr style=\"text-align: right;\">\n",
       "      <th></th>\n",
       "      <th>MINING_DW_SUBSCR_NO</th>\n",
       "      <th>RPS_NAME</th>\n",
       "      <th>SUBSCR_STATUS_CODE</th>\n",
       "      <th>TENURE_SCV</th>\n",
       "      <th>DORMANT_MONTH_CNT_MKT</th>\n",
       "      <th>PTY_CBU_PO_CNT</th>\n",
       "    </tr>\n",
       "  </thead>\n",
       "  <tbody>\n",
       "    <tr>\n",
       "      <th>1</th>\n",
       "      <td>2118544651</td>\n",
       "      <td>CONSUMER MOBILITY</td>\n",
       "      <td>A</td>\n",
       "      <td>226.0</td>\n",
       "      <td>0</td>\n",
       "      <td>1</td>\n",
       "    </tr>\n",
       "    <tr>\n",
       "      <th>2</th>\n",
       "      <td>10000337216</td>\n",
       "      <td>CONSUMER MOBILITY</td>\n",
       "      <td>A</td>\n",
       "      <td>7.0</td>\n",
       "      <td>0</td>\n",
       "      <td>1</td>\n",
       "    </tr>\n",
       "    <tr>\n",
       "      <th>3</th>\n",
       "      <td>3133428916</td>\n",
       "      <td>CONSUMER MOBILITY</td>\n",
       "      <td>A</td>\n",
       "      <td>24.1</td>\n",
       "      <td>0</td>\n",
       "      <td>1</td>\n",
       "    </tr>\n",
       "    <tr>\n",
       "      <th>5</th>\n",
       "      <td>3135493626</td>\n",
       "      <td>CONSUMER MOBILITY</td>\n",
       "      <td>A</td>\n",
       "      <td>16.9</td>\n",
       "      <td>0</td>\n",
       "      <td>1</td>\n",
       "    </tr>\n",
       "    <tr>\n",
       "      <th>6</th>\n",
       "      <td>3125061767</td>\n",
       "      <td>CONSUMER MOBILITY</td>\n",
       "      <td>A</td>\n",
       "      <td>60.6</td>\n",
       "      <td>0</td>\n",
       "      <td>1</td>\n",
       "    </tr>\n",
       "  </tbody>\n",
       "</table>\n",
       "</div>"
      ],
      "text/plain": [
       "   MINING_DW_SUBSCR_NO           RPS_NAME SUBSCR_STATUS_CODE  TENURE_SCV  \\\n",
       "1           2118544651  CONSUMER MOBILITY                  A       226.0   \n",
       "2          10000337216  CONSUMER MOBILITY                  A         7.0   \n",
       "3           3133428916  CONSUMER MOBILITY                  A        24.1   \n",
       "5           3135493626  CONSUMER MOBILITY                  A        16.9   \n",
       "6           3125061767  CONSUMER MOBILITY                  A        60.6   \n",
       "\n",
       "   DORMANT_MONTH_CNT_MKT  PTY_CBU_PO_CNT  \n",
       "1                      0               1  \n",
       "2                      0               1  \n",
       "3                      0               1  \n",
       "5                      0               1  \n",
       "6                      0               1  "
      ]
     },
     "execution_count": 32,
     "metadata": {},
     "output_type": "execute_result"
    }
   ],
   "source": [
    "filter_df.head()"
   ]
  },
  {
   "cell_type": "code",
   "execution_count": 33,
   "metadata": {},
   "outputs": [
    {
     "data": {
      "text/plain": [
       "count    2.246384e+06\n",
       "mean     1.053916e-02\n",
       "std      1.021180e-01\n",
       "min      0.000000e+00\n",
       "25%      0.000000e+00\n",
       "50%      0.000000e+00\n",
       "75%      0.000000e+00\n",
       "max      1.000000e+00\n",
       "Name: DORMANT_MONTH_CNT_MKT, dtype: float64"
      ]
     },
     "execution_count": 33,
     "metadata": {},
     "output_type": "execute_result"
    }
   ],
   "source": [
    "filter_df[\"DORMANT_MONTH_CNT_MKT\"].describe()"
   ]
  },
  {
   "cell_type": "code",
   "execution_count": 35,
   "metadata": {},
   "outputs": [
    {
     "name": "stdout",
     "output_type": "stream",
     "text": [
      "time for output csv file: 8.32\n"
     ]
    }
   ],
   "source": [
    "t0 = time()\n",
    "path = \"./\"\n",
    "out_filename = \"20170728_single_sims_filter.csv\"\n",
    "filter_df.to_csv(path + out_filename, index=False)\n",
    "print(\"time for output csv file: %.2f\" % (time()-t0))"
   ]
  },
  {
   "cell_type": "code",
   "execution_count": null,
   "metadata": {
    "collapsed": true
   },
   "outputs": [],
   "source": []
  }
 ],
 "metadata": {
  "kernelspec": {
   "display_name": "Python 3",
   "language": "python",
   "name": "python3"
  },
  "language_info": {
   "codemirror_mode": {
    "name": "ipython",
    "version": 3
   },
   "file_extension": ".py",
   "mimetype": "text/x-python",
   "name": "python",
   "nbconvert_exporter": "python",
   "pygments_lexer": "ipython3",
   "version": "3.5.3"
  }
 },
 "nbformat": 4,
 "nbformat_minor": 2
}
