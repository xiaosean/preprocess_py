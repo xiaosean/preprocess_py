{
 "cells": [
  {
   "cell_type": "code",
   "execution_count": 7,
   "metadata": {
    "collapsed": true
   },
   "outputs": [],
   "source": [
    "import os.path\n",
    "import numpy as np\n",
    "import pandas as pd\n",
    "from time import time\n",
    "from os import listdir\n",
    "import glob\n",
    "from os.path import isfile, join"
   ]
  },
  {
   "cell_type": "code",
   "execution_count": 8,
   "metadata": {
    "collapsed": true
   },
   "outputs": [],
   "source": [
    "def read_csv(filename):\n",
    "    # read revise csv file and print cost time\n",
    "    t0 = time()\n",
    "    df = pd.read_csv(filename, error_bad_lines=False)\n",
    "    print(\"time for read csv: %.2f\" % (time()-t0))\n",
    "    return df"
   ]
  },
  {
   "cell_type": "code",
   "execution_count": 9,
   "metadata": {
    "collapsed": true
   },
   "outputs": [],
   "source": [
    "def file_csv_list(target_path):\n",
    "    return [f for f in listdir(target_path) if isfile(join(target_path, f))]"
   ]
  },
  {
   "cell_type": "code",
   "execution_count": 10,
   "metadata": {
    "collapsed": true
   },
   "outputs": [],
   "source": [
    "def save_dataframe(df, out_filename):\n",
    "   # write to csv and no index\n",
    "    t0 = time()\n",
    "    df.to_csv(out_filename + \".csv\", index=False, encoding='utf-8')\n",
    "#     df.to_csv(out_filename + \".csv\", encoding='utf-8')\n",
    "    print(\"time for output csv file: %.2f\" % (time()-t0))"
   ]
  },
  {
   "cell_type": "code",
   "execution_count": 11,
   "metadata": {
    "collapsed": true
   },
   "outputs": [],
   "source": [
    "def save_dataframe_with_id(df, out_filename):\n",
    "   # write to csv and no index\n",
    "    t0 = time()\n",
    "    df.to_csv(out_filename + \".csv\", encoding='utf-8')\n",
    "#     df.to_csv(out_filename + \".csv\", encoding='utf-8')\n",
    "    print(\"time for output csv file: %.2f\" % (time()-t0))"
   ]
  },
  {
   "cell_type": "code",
   "execution_count": 12,
   "metadata": {
    "collapsed": true
   },
   "outputs": [],
   "source": [
    "def paste_kid_to_df(df, filename):\n",
    "    \n",
    "    labels_ = np.load(filename)\n",
    "    df['label'] = labels_\n",
    "    df = df.fillna(0)\n",
    "    return df"
   ]
  },
  {
   "cell_type": "markdown",
   "metadata": {},
   "source": [
    "# batch write kid file"
   ]
  },
  {
   "cell_type": "code",
   "execution_count": 13,
   "metadata": {},
   "outputs": [
    {
     "name": "stdout",
     "output_type": "stream",
     "text": [
      "kid_1\n",
      "find npy file ./kid\\label_K6_de_with_kid_1_06281.npy\n",
      "time for read csv: 0.92\n",
      "time for output csv file: 5.06\n",
      "kid_2\n",
      "find npy file ./kid\\label_K5_de_with_kid_2_06281.npy\n",
      "time for read csv: 0.43\n",
      "time for output csv file: 2.39\n",
      "kid_3\n",
      "find npy file ./kid\\label_K5_de_with_kid_3_06281.npy\n",
      "time for read csv: 0.26\n",
      "time for output csv file: 1.38\n",
      "kid_4\n",
      "find npy file ./kid\\label_K5_de_with_kid_4_06281.npy\n",
      "time for read csv: 0.30\n",
      "time for output csv file: 1.52\n",
      "kid_5\n",
      "find npy file ./kid\\label_K5_de_with_kid_5_06281.npy\n",
      "time for read csv: 0.27\n",
      "time for output csv file: 1.41\n",
      "kid_6\n",
      "find npy file ./kid\\label_K5_de_with_kid_6_06281.npy\n",
      "time for read csv: 0.35\n",
      "time for output csv file: 1.93\n",
      "kid_7\n",
      "find npy file ./kid\\label_K5_de_with_kid_7_06281.npy\n",
      "time for read csv: 0.38\n",
      "time for output csv file: 2.11\n",
      "kid_8\n",
      "find npy file ./kid\\label_K5_de_with_kid_8_06281.npy\n",
      "time for read csv: 1.17\n",
      "time for output csv file: 6.32\n",
      "kid_None\n",
      "cannot match ./kid\\table_with_kid_None.csv to npy file\n",
      "kid_seldom\n",
      "cannot match ./kid\\table_with_kid_seldom.csv to npy file\n",
      "./kid\\test_kid\n",
      "cannot match ./kid\\test_kid.csv to npy file\n",
      "./kid\\test_single\n",
      "cannot match ./kid\\test_single.csv to npy file\n"
     ]
    }
   ],
   "source": [
    "# set configure\n",
    "# path = \"../DATA_FULL/\"\n",
    "path = \"./kid/\"\n",
    "out_path = path\n",
    "for file in glob.glob(path + \"*.csv\"):\n",
    "    keyword = \"_\".join(file.split(\"_\")[-2:]) \n",
    "#     filter .csv\n",
    "    keyword = keyword[:-4]\n",
    "    if(\"kid\" in keyword):\n",
    "        print(keyword)\n",
    "        npy_match_list = glob.glob(path + \"*\" + keyword + \"*.npy\")\n",
    "        if(len(npy_match_list) == 1):\n",
    "            print(\"find npy file\" , npy_match_list[0])\n",
    "            df = read_csv(file)\n",
    "            df = paste_kid_to_df(df, npy_match_list[0])\n",
    "            save_dataframe(df, out_path + keyword + \"_with_label\")\n",
    "        elif(len(npy_match_list) == 0):\n",
    "            print(\"cannot match %s to npy file\" % file)\n",
    "        if(len(npy_match_list) == 2):\n",
    "            print(\"match %s more than one npy file skip...\" % file)\n",
    "        \n",
    "   "
   ]
  },
  {
   "cell_type": "code",
   "execution_count": null,
   "metadata": {
    "collapsed": true
   },
   "outputs": [],
   "source": []
  },
  {
   "cell_type": "markdown",
   "metadata": {},
   "source": [
    "# LOAD MINING USER"
   ]
  },
  {
   "cell_type": "code",
   "execution_count": 204,
   "metadata": {
    "collapsed": true
   },
   "outputs": [],
   "source": [
    "# set configure\n",
    "# path = \"../DATA_FULL/\"\n",
    "path = \"./\"\n",
    "filename = \"DNA_KMEANS_RESULT_ID_NEW\"\n",
    "relative_filename = path + filename + \".csv\""
   ]
  },
  {
   "cell_type": "code",
   "execution_count": 205,
   "metadata": {
    "collapsed": true
   },
   "outputs": [],
   "source": [
    "user_df =  pd.read_csv(relative_filename, error_bad_lines=False)\n",
    "# user_df = user_df[user_df[\"MINING_DW_SUBSCR_NO\"] != \"MINING_DW_SUBSCR_NO\"]\n",
    "# user_df[\"MINING_DW_SUBSCR_NO\"] = user_df[\"MINING_DW_SUBSCR_NO\"].apply(np.int64)"
   ]
  },
  {
   "cell_type": "markdown",
   "metadata": {},
   "source": [
    "# check data is duplicate or not"
   ]
  },
  {
   "cell_type": "code",
   "execution_count": 206,
   "metadata": {},
   "outputs": [
    {
     "data": {
      "text/html": [
       "<div>\n",
       "<style>\n",
       "    .dataframe thead tr:only-child th {\n",
       "        text-align: right;\n",
       "    }\n",
       "\n",
       "    .dataframe thead th {\n",
       "        text-align: left;\n",
       "    }\n",
       "\n",
       "    .dataframe tbody tr th {\n",
       "        vertical-align: top;\n",
       "    }\n",
       "</style>\n",
       "<table border=\"1\" class=\"dataframe\">\n",
       "  <thead>\n",
       "    <tr style=\"text-align: right;\">\n",
       "      <th></th>\n",
       "      <th>MINING_DW_SUBSCR_NO</th>\n",
       "      <th>DW_PARTY_ID</th>\n",
       "      <th>Groups</th>\n",
       "    </tr>\n",
       "  </thead>\n",
       "  <tbody>\n",
       "  </tbody>\n",
       "</table>\n",
       "</div>"
      ],
      "text/plain": [
       "Empty DataFrame\n",
       "Columns: [MINING_DW_SUBSCR_NO, DW_PARTY_ID, Groups]\n",
       "Index: []"
      ]
     },
     "execution_count": 206,
     "metadata": {},
     "output_type": "execute_result"
    }
   ],
   "source": [
    "user_df[user_df[\"MINING_DW_SUBSCR_NO\"].duplicated(keep=False)]"
   ]
  },
  {
   "cell_type": "code",
   "execution_count": 207,
   "metadata": {},
   "outputs": [],
   "source": [
    "# set configure\n",
    "# path = \"../DATA_FULL/\"\n",
    "path = \"./kid/\"\n",
    "filename = \"kid_1_with_label\"\n",
    "relative_filename = path + filename + \".csv\"\n",
    "label_df =  pd.read_csv(relative_filename, error_bad_lines=False)\n",
    "# df[df.duplicated([\"MINING_DW_SUBSCR_NO\"], keep=False)]\n"
   ]
  },
  {
   "cell_type": "code",
   "execution_count": 208,
   "metadata": {},
   "outputs": [],
   "source": [
    "users_count = len(user_df)\n",
    "\n",
    "# user_df.sort_values([\"AGE\"], inplace = True)\n",
    "user_df = user_df.set_index(\"MINING_DW_SUBSCR_NO\")\n",
    "user_df.sort_index(inplace = True)\n",
    "\n",
    "# user_df[\"Groups\"] = np.nan\n",
    "# user_df[\"label\"] = np.nan\n",
    "user_df[\"Groups\"] = \"None\"\n",
    "user_df[\"label\"] = np.nan\n",
    "# user_df[\"label\"] = user_df[\"label\"].apply(np.int64)\n"
   ]
  },
  {
   "cell_type": "code",
   "execution_count": null,
   "metadata": {
    "collapsed": true
   },
   "outputs": [],
   "source": []
  },
  {
   "cell_type": "markdown",
   "metadata": {},
   "source": [
    "# paste all kid"
   ]
  },
  {
   "cell_type": "code",
   "execution_count": 209,
   "metadata": {},
   "outputs": [
    {
     "name": "stdout",
     "output_type": "stream",
     "text": [
      "filename = ./kid\\kid_1_with_label.csv , Groups = 1\n",
      "group_num = 1\n",
      "len(label_df[Groups]) = 407597\n"
     ]
    },
    {
     "name": "stderr",
     "output_type": "stream",
     "text": [
      "C:\\ProgramData\\Anaconda3\\lib\\site-packages\\pandas\\core\\frame.py:3863: SettingWithCopyWarning: \n",
      "A value is trying to be set on a copy of a slice from a DataFrame.\n",
      "Try using .loc[row_indexer,col_indexer] = value instead\n",
      "\n",
      "See the caveats in the documentation: http://pandas.pydata.org/pandas-docs/stable/indexing.html#indexing-view-versus-copy\n",
      "  raise_on_error=True)\n"
     ]
    },
    {
     "name": "stdout",
     "output_type": "stream",
     "text": [
      "filename = ./kid\\kid_2_with_label.csv , Groups = 2\n",
      "group_num = 2\n",
      "len(label_df[Groups]) = 184644\n",
      "filename = ./kid\\kid_3_with_label.csv , Groups = 3\n",
      "group_num = 3\n",
      "len(label_df[Groups]) = 105809\n",
      "filename = ./kid\\kid_4_with_label.csv , Groups = 4\n",
      "group_num = 4\n",
      "len(label_df[Groups]) = 116958\n",
      "filename = ./kid\\kid_5_with_label.csv , Groups = 5\n",
      "group_num = 5\n",
      "len(label_df[Groups]) = 110474\n",
      "filename = ./kid\\kid_6_with_label.csv , Groups = 6\n",
      "group_num = 6\n",
      "len(label_df[Groups]) = 146047\n",
      "filename = ./kid\\kid_7_with_label.csv , Groups = 7\n",
      "group_num = 7\n",
      "len(label_df[Groups]) = 164149\n",
      "filename = ./kid\\kid_8_with_label.csv , Groups = 8\n",
      "group_num = 8\n",
      "len(label_df[Groups]) = 490166\n"
     ]
    }
   ],
   "source": [
    "# set configure\n",
    "# path = \"../DATA_FULL/\"\n",
    "path = \"./kid/\"\n",
    "out_path = path\n",
    "for file in glob.glob(path + \"*.csv\"):\n",
    "    if(\"with_label\" in file):\n",
    "        # get Group id\n",
    "        group_num  = file.split(\"_\")[1].strip()\n",
    "        print(\"filename = %s , Groups = %s\" % (file, group_num))\n",
    "        wants_cols = [\"MINING_DW_SUBSCR_NO\", \"label\"]\n",
    "        label_df = pd.read_csv(file, error_bad_lines=False, usecols = wants_cols)\n",
    "        print(\"group_num =\", group_num)\n",
    "        label_df[\"Groups\"] = group_num\n",
    "        print(\"len(label_df[Groups]) =\", len(label_df[\"Groups\"]))\n",
    "\n",
    "#\n",
    "        label_df = label_df.set_index(\"MINING_DW_SUBSCR_NO\")\n",
    "        label_df.sort_index(inplace = True)\n",
    "#         label_df = label_df[label_df['MINING_DW_SUBSCR_NO'].isin(user_df['MINING_DW_SUBSCR_NO'])]\n",
    "#         label_df = label_df[label_df.index.isin(user_df.index)]\n",
    "        new_user_label = user_df[['Groups', 'label']]\n",
    "        new_user_label.update(label_df)\n",
    "        user_df[['Groups', 'label']] = new_user_label\n",
    "\n",
    "\n",
    "#         user_df[\"label\"].update(label_df[\"label\"], raise_conflict=True)\n",
    "#         user_df.update(label_df)\n",
    "\n",
    "\n",
    "#         break"
   ]
  },
  {
   "cell_type": "code",
   "execution_count": 210,
   "metadata": {},
   "outputs": [
    {
     "name": "stdout",
     "output_type": "stream",
     "text": [
      "2596797\n",
      "116958\n",
      "400403\n"
     ]
    }
   ],
   "source": [
    "print(len(user_df))\n",
    "print(len(user_df[user_df[\"Groups\"] == \"4\"]))\n",
    "print(len(user_df[user_df[\"label\"] == 1]))"
   ]
  },
  {
   "cell_type": "code",
   "execution_count": 211,
   "metadata": {},
   "outputs": [
    {
     "data": {
      "text/html": [
       "<div>\n",
       "<style>\n",
       "    .dataframe thead tr:only-child th {\n",
       "        text-align: right;\n",
       "    }\n",
       "\n",
       "    .dataframe thead th {\n",
       "        text-align: left;\n",
       "    }\n",
       "\n",
       "    .dataframe tbody tr th {\n",
       "        vertical-align: top;\n",
       "    }\n",
       "</style>\n",
       "<table border=\"1\" class=\"dataframe\">\n",
       "  <thead>\n",
       "    <tr style=\"text-align: right;\">\n",
       "      <th></th>\n",
       "      <th>DW_PARTY_ID</th>\n",
       "      <th>Groups</th>\n",
       "      <th>label</th>\n",
       "    </tr>\n",
       "    <tr>\n",
       "      <th>MINING_DW_SUBSCR_NO</th>\n",
       "      <th></th>\n",
       "      <th></th>\n",
       "      <th></th>\n",
       "    </tr>\n",
       "  </thead>\n",
       "  <tbody>\n",
       "    <tr>\n",
       "      <th>1179</th>\n",
       "      <td>648851</td>\n",
       "      <td>None</td>\n",
       "      <td>NaN</td>\n",
       "    </tr>\n",
       "    <tr>\n",
       "      <th>1181</th>\n",
       "      <td>3688656</td>\n",
       "      <td>2</td>\n",
       "      <td>1.0</td>\n",
       "    </tr>\n",
       "    <tr>\n",
       "      <th>11121</th>\n",
       "      <td>6913560</td>\n",
       "      <td>3</td>\n",
       "      <td>3.0</td>\n",
       "    </tr>\n",
       "    <tr>\n",
       "      <th>11145</th>\n",
       "      <td>1849166</td>\n",
       "      <td>None</td>\n",
       "      <td>NaN</td>\n",
       "    </tr>\n",
       "    <tr>\n",
       "      <th>11149</th>\n",
       "      <td>2143241</td>\n",
       "      <td>2</td>\n",
       "      <td>0.0</td>\n",
       "    </tr>\n",
       "  </tbody>\n",
       "</table>\n",
       "</div>"
      ],
      "text/plain": [
       "                     DW_PARTY_ID Groups  label\n",
       "MINING_DW_SUBSCR_NO                           \n",
       "1179                      648851   None    NaN\n",
       "1181                     3688656      2    1.0\n",
       "11121                    6913560      3    3.0\n",
       "11145                    1849166   None    NaN\n",
       "11149                    2143241      2    0.0"
      ]
     },
     "execution_count": 211,
     "metadata": {},
     "output_type": "execute_result"
    }
   ],
   "source": [
    "user_df.head()"
   ]
  },
  {
   "cell_type": "code",
   "execution_count": 212,
   "metadata": {},
   "outputs": [
    {
     "data": {
      "text/plain": [
       "DW_PARTY_ID      int64\n",
       "Groups          object\n",
       "label          float64\n",
       "dtype: object"
      ]
     },
     "execution_count": 212,
     "metadata": {},
     "output_type": "execute_result"
    }
   ],
   "source": [
    "user_df.dtypes"
   ]
  },
  {
   "cell_type": "code",
   "execution_count": 213,
   "metadata": {},
   "outputs": [],
   "source": [
    "user_df[\"label\"] = user_df[\"label\"].fillna(-1)\n",
    "user_df[\"label\"] = user_df[\"label\"].apply(np.int64)"
   ]
  },
  {
   "cell_type": "code",
   "execution_count": 214,
   "metadata": {},
   "outputs": [
    {
     "data": {
      "text/html": [
       "<div>\n",
       "<style>\n",
       "    .dataframe thead tr:only-child th {\n",
       "        text-align: right;\n",
       "    }\n",
       "\n",
       "    .dataframe thead th {\n",
       "        text-align: left;\n",
       "    }\n",
       "\n",
       "    .dataframe tbody tr th {\n",
       "        vertical-align: top;\n",
       "    }\n",
       "</style>\n",
       "<table border=\"1\" class=\"dataframe\">\n",
       "  <thead>\n",
       "    <tr style=\"text-align: right;\">\n",
       "      <th></th>\n",
       "      <th>DW_PARTY_ID</th>\n",
       "      <th>Groups</th>\n",
       "      <th>label</th>\n",
       "    </tr>\n",
       "    <tr>\n",
       "      <th>MINING_DW_SUBSCR_NO</th>\n",
       "      <th></th>\n",
       "      <th></th>\n",
       "      <th></th>\n",
       "    </tr>\n",
       "  </thead>\n",
       "  <tbody>\n",
       "    <tr>\n",
       "      <th>1179</th>\n",
       "      <td>648851</td>\n",
       "      <td>None</td>\n",
       "      <td>-1</td>\n",
       "    </tr>\n",
       "    <tr>\n",
       "      <th>1181</th>\n",
       "      <td>3688656</td>\n",
       "      <td>2</td>\n",
       "      <td>1</td>\n",
       "    </tr>\n",
       "    <tr>\n",
       "      <th>11121</th>\n",
       "      <td>6913560</td>\n",
       "      <td>3</td>\n",
       "      <td>3</td>\n",
       "    </tr>\n",
       "    <tr>\n",
       "      <th>11145</th>\n",
       "      <td>1849166</td>\n",
       "      <td>None</td>\n",
       "      <td>-1</td>\n",
       "    </tr>\n",
       "    <tr>\n",
       "      <th>11149</th>\n",
       "      <td>2143241</td>\n",
       "      <td>2</td>\n",
       "      <td>0</td>\n",
       "    </tr>\n",
       "  </tbody>\n",
       "</table>\n",
       "</div>"
      ],
      "text/plain": [
       "                     DW_PARTY_ID Groups  label\n",
       "MINING_DW_SUBSCR_NO                           \n",
       "1179                      648851   None     -1\n",
       "1181                     3688656      2      1\n",
       "11121                    6913560      3      3\n",
       "11145                    1849166   None     -1\n",
       "11149                    2143241      2      0"
      ]
     },
     "execution_count": 214,
     "metadata": {},
     "output_type": "execute_result"
    }
   ],
   "source": [
    "user_df.head()"
   ]
  },
  {
   "cell_type": "code",
   "execution_count": 215,
   "metadata": {},
   "outputs": [
    {
     "name": "stdout",
     "output_type": "stream",
     "text": [
      "time for output csv file: 5.56\n"
     ]
    }
   ],
   "source": [
    "save_dataframe_with_id(user_df, out_path +  \"single_id_age_group_label\")"
   ]
  },
  {
   "cell_type": "code",
   "execution_count": null,
   "metadata": {
    "collapsed": true
   },
   "outputs": [],
   "source": [
    "print(\"origin users_count\", users_count)\n",
    "print(\"current users_count\", len(user_df))"
   ]
  },
  {
   "cell_type": "code",
   "execution_count": 8,
   "metadata": {
    "collapsed": true
   },
   "outputs": [],
   "source": [
    "wants_cols = [\"MINING_DW_SUBSCR_NO\"]\n",
    "df =  pd.read_csv(relative_filename, usecols = wants_cols, error_bad_lines=False)"
   ]
  },
  {
   "cell_type": "code",
   "execution_count": 9,
   "metadata": {},
   "outputs": [
    {
     "data": {
      "text/html": [
       "<div>\n",
       "<style>\n",
       "    .dataframe thead tr:only-child th {\n",
       "        text-align: right;\n",
       "    }\n",
       "\n",
       "    .dataframe thead th {\n",
       "        text-align: left;\n",
       "    }\n",
       "\n",
       "    .dataframe tbody tr th {\n",
       "        vertical-align: top;\n",
       "    }\n",
       "</style>\n",
       "<table border=\"1\" class=\"dataframe\">\n",
       "  <thead>\n",
       "    <tr style=\"text-align: right;\">\n",
       "      <th></th>\n",
       "      <th>MINING_DW_SUBSCR_NO</th>\n",
       "    </tr>\n",
       "  </thead>\n",
       "  <tbody>\n",
       "    <tr>\n",
       "      <th>0</th>\n",
       "      <td>10000000027</td>\n",
       "    </tr>\n",
       "    <tr>\n",
       "      <th>1</th>\n",
       "      <td>10000000075</td>\n",
       "    </tr>\n",
       "    <tr>\n",
       "      <th>2</th>\n",
       "      <td>10000000084</td>\n",
       "    </tr>\n",
       "    <tr>\n",
       "      <th>3</th>\n",
       "      <td>10000000123</td>\n",
       "    </tr>\n",
       "    <tr>\n",
       "      <th>4</th>\n",
       "      <td>10000000164</td>\n",
       "    </tr>\n",
       "  </tbody>\n",
       "</table>\n",
       "</div>"
      ],
      "text/plain": [
       "   MINING_DW_SUBSCR_NO\n",
       "0          10000000027\n",
       "1          10000000075\n",
       "2          10000000084\n",
       "3          10000000123\n",
       "4          10000000164"
      ]
     },
     "execution_count": 9,
     "metadata": {},
     "output_type": "execute_result"
    }
   ],
   "source": [
    "df.head()"
   ]
  },
  {
   "cell_type": "code",
   "execution_count": 219,
   "metadata": {},
   "outputs": [
    {
     "name": "stdout",
     "output_type": "stream",
     "text": [
      "time for read csv: 0.94\n",
      "32089\n"
     ]
    }
   ],
   "source": [
    "path = \"./kid/\"\n",
    "filename = \"label_K6_de_with_kid_1_06281\"\n",
    "FILE = path + filename + \".npy\"\n",
    "labels_ = np.load(FILE)\n",
    "filename = \"table_with_kid_1\"\n",
    "relative_filename = path + filename + \".csv\"\n",
    "df = read_csv(relative_filename)\n",
    "df['label'] = labels_\n",
    "print(len(df[df['label'] == 5]))\n",
    "df = df.fillna(0)\n",
    "out_path = \"./CDR_FINAL/\"\n"
   ]
  },
  {
   "cell_type": "code",
   "execution_count": 11,
   "metadata": {},
   "outputs": [
    {
     "data": {
      "text/html": [
       "<div>\n",
       "<style>\n",
       "    .dataframe thead tr:only-child th {\n",
       "        text-align: right;\n",
       "    }\n",
       "\n",
       "    .dataframe thead th {\n",
       "        text-align: left;\n",
       "    }\n",
       "\n",
       "    .dataframe tbody tr th {\n",
       "        vertical-align: top;\n",
       "    }\n",
       "</style>\n",
       "<table border=\"1\" class=\"dataframe\">\n",
       "  <thead>\n",
       "    <tr style=\"text-align: right;\">\n",
       "      <th></th>\n",
       "      <th>MINING_DW_SUBSCR_NO</th>\n",
       "      <th>label</th>\n",
       "    </tr>\n",
       "  </thead>\n",
       "  <tbody>\n",
       "    <tr>\n",
       "      <th>0</th>\n",
       "      <td>10000000027</td>\n",
       "      <td>2</td>\n",
       "    </tr>\n",
       "    <tr>\n",
       "      <th>1</th>\n",
       "      <td>10000000075</td>\n",
       "      <td>0</td>\n",
       "    </tr>\n",
       "    <tr>\n",
       "      <th>2</th>\n",
       "      <td>10000000084</td>\n",
       "      <td>4</td>\n",
       "    </tr>\n",
       "    <tr>\n",
       "      <th>3</th>\n",
       "      <td>10000000123</td>\n",
       "      <td>3</td>\n",
       "    </tr>\n",
       "    <tr>\n",
       "      <th>4</th>\n",
       "      <td>10000000164</td>\n",
       "      <td>0</td>\n",
       "    </tr>\n",
       "  </tbody>\n",
       "</table>\n",
       "</div>"
      ],
      "text/plain": [
       "   MINING_DW_SUBSCR_NO  label\n",
       "0          10000000027      2\n",
       "1          10000000075      0\n",
       "2          10000000084      4\n",
       "3          10000000123      3\n",
       "4          10000000164      0"
      ]
     },
     "execution_count": 11,
     "metadata": {},
     "output_type": "execute_result"
    }
   ],
   "source": [
    "df.head()"
   ]
  },
  {
   "cell_type": "code",
   "execution_count": 16,
   "metadata": {},
   "outputs": [
    {
     "name": "stdout",
     "output_type": "stream",
     "text": [
      "time for output csv file: 0.22\n"
     ]
    }
   ],
   "source": []
  },
  {
   "cell_type": "code",
   "execution_count": null,
   "metadata": {
    "collapsed": true
   },
   "outputs": [],
   "source": []
  }
 ],
 "metadata": {
  "kernelspec": {
   "display_name": "Python 3",
   "language": "python",
   "name": "python3"
  },
  "language_info": {
   "codemirror_mode": {
    "name": "ipython",
    "version": 3
   },
   "file_extension": ".py",
   "mimetype": "text/x-python",
   "name": "python",
   "nbconvert_exporter": "python",
   "pygments_lexer": "ipython3",
   "version": "3.6.1"
  }
 },
 "nbformat": 4,
 "nbformat_minor": 2
}
