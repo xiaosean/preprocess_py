{
 "cells": [
  {
   "cell_type": "code",
   "execution_count": 220,
   "metadata": {
    "collapsed": true
   },
   "outputs": [],
   "source": [
    "import os.path\n",
    "import numpy as np\n",
    "import pandas as pd\n",
    "from time import time\n",
    "from os import listdir\n",
    "import glob\n",
    "from os.path import isfile, join"
   ]
  },
  {
   "cell_type": "code",
   "execution_count": 221,
   "metadata": {
    "collapsed": true
   },
   "outputs": [],
   "source": [
    "def read_csv(filename):\n",
    "    # read revise csv file and print cost time\n",
    "    t0 = time()\n",
    "    df = pd.read_csv(filename, error_bad_lines=False)\n",
    "    print(\"time for read csv: %.2f\" % (time()-t0))\n",
    "    return df"
   ]
  },
  {
   "cell_type": "code",
   "execution_count": 222,
   "metadata": {
    "collapsed": true
   },
   "outputs": [],
   "source": [
    "def file_csv_list(target_path):\n",
    "    return [f for f in listdir(target_path) if isfile(join(target_path, f))]"
   ]
  },
  {
   "cell_type": "code",
   "execution_count": 223,
   "metadata": {
    "collapsed": true
   },
   "outputs": [],
   "source": [
    "def save_dataframe(df, out_filename):\n",
    "   # write to csv and no index\n",
    "    t0 = time()\n",
    "    df.to_csv(out_filename + \".csv\", index=False, encoding='utf-8')\n",
    "#     df.to_csv(out_filename + \".csv\", encoding='utf-8')\n",
    "    print(\"time for output csv file: %.2f\" % (time()-t0))"
   ]
  },
  {
   "cell_type": "code",
   "execution_count": 224,
   "metadata": {
    "collapsed": true
   },
   "outputs": [],
   "source": [
    "def save_dataframe_with_id(df, out_filename):\n",
    "   # write to csv and no index\n",
    "    t0 = time()\n",
    "    df.to_csv(out_filename + \".csv\", encoding='utf-8')\n",
    "#     df.to_csv(out_filename + \".csv\", encoding='utf-8')\n",
    "    print(\"time for output csv file: %.2f\" % (time()-t0))"
   ]
  },
  {
   "cell_type": "code",
   "execution_count": 225,
   "metadata": {
    "collapsed": true
   },
   "outputs": [],
   "source": [
    "def paste_kid_to_df(df, filename):\n",
    "    \n",
    "    labels_ = np.load(filename)\n",
    "    df['label'] = labels_\n",
    "    df = df.fillna(0)\n",
    "    return df"
   ]
  },
  {
   "cell_type": "markdown",
   "metadata": {},
   "source": [
    "# batch write kid file"
   ]
  },
  {
   "cell_type": "code",
   "execution_count": 226,
   "metadata": {},
   "outputs": [
    {
     "name": "stdout",
     "output_type": "stream",
     "text": [
      "kid_1\n",
      "find npy file ./kid\\label_K6_de_with_kid_1_06281.npy\n",
      "time for read csv: 1.05\n",
      "time for output csv file: 5.26\n",
      "kid_2\n",
      "find npy file ./kid\\label_K5_de_with_kid_2_06281.npy\n",
      "time for read csv: 0.44\n",
      "time for output csv file: 2.42\n",
      "kid_3\n",
      "find npy file ./kid\\label_K5_de_with_kid_3_06281.npy\n",
      "time for read csv: 0.27\n",
      "time for output csv file: 1.40\n",
      "kid_4\n",
      "find npy file ./kid\\label_K5_de_with_kid_4_06281.npy\n",
      "time for read csv: 0.31\n",
      "time for output csv file: 1.51\n",
      "kid_5\n",
      "find npy file ./kid\\label_K5_de_with_kid_5_06281.npy\n",
      "time for read csv: 0.26\n",
      "time for output csv file: 1.36\n",
      "kid_6\n",
      "find npy file ./kid\\label_K5_de_with_kid_6_06281.npy\n",
      "time for read csv: 0.36\n",
      "time for output csv file: 1.87\n",
      "kid_7\n",
      "find npy file ./kid\\label_K5_de_with_kid_7_06281.npy\n",
      "time for read csv: 0.47\n",
      "time for output csv file: 2.20\n",
      "kid_8\n",
      "find npy file ./kid\\label_K5_de_with_kid_8_06281.npy\n",
      "time for read csv: 1.15\n",
      "time for output csv file: 6.23\n",
      "kid_None\n",
      "cannot match ./kid\\table_with_kid_None.csv to npy file\n",
      "kid_seldom\n",
      "cannot match ./kid\\table_with_kid_seldom.csv to npy file\n",
      "./kid\\test_kid\n",
      "cannot match ./kid\\test_kid.csv to npy file\n",
      "./kid\\test_single\n",
      "cannot match ./kid\\test_single.csv to npy file\n"
     ]
    }
   ],
   "source": [
    "# set configure\n",
    "# path = \"../DATA_FULL/\"\n",
    "path = \"./kid/\"\n",
    "out_path = path\n",
    "for file in glob.glob(path + \"*.csv\"):\n",
    "    keyword = \"_\".join(file.split(\"_\")[-2:]) \n",
    "#     filter .csv\n",
    "    keyword = keyword[:-4]\n",
    "    if(\"kid\" in keyword):\n",
    "        print(keyword)\n",
    "        npy_match_list = glob.glob(path + \"*\" + keyword + \"*.npy\")\n",
    "        if(len(npy_match_list) == 1):\n",
    "            print(\"find npy file\" , npy_match_list[0])\n",
    "            df = read_csv(file)\n",
    "            df = paste_kid_to_df(df, npy_match_list[0])\n",
    "            save_dataframe(df, out_path + keyword + \"_with_label\")\n",
    "        elif(len(npy_match_list) == 0):\n",
    "            print(\"cannot match %s to npy file\" % file)\n",
    "        if(len(npy_match_list) == 2):\n",
    "            print(\"match %s more than one npy file skip...\" % file)\n",
    "        \n",
    "   "
   ]
  },
  {
   "cell_type": "code",
   "execution_count": null,
   "metadata": {
    "collapsed": true
   },
   "outputs": [],
   "source": []
  },
  {
   "cell_type": "markdown",
   "metadata": {},
   "source": [
    "# LOAD MINING USER"
   ]
  },
  {
   "cell_type": "code",
   "execution_count": 253,
   "metadata": {
    "collapsed": true
   },
   "outputs": [],
   "source": [
    "# set configure\n",
    "# path = \"../DATA_FULL/\"\n",
    "# path = \"./\"\n",
    "# filename = \"DNA_KMEANS_RESULT_ID_NEW\"\n",
    "path = \"D:/NEW_DATA_FULL_2017_6_30/\"\n",
    "filename = \"MDS_April_age_SINGLE_SIM_COMPLETED\"\n",
    "# relative_filename = path + filename + \".csv\"\n",
    "relative_filename = path + filename + \".txt\""
   ]
  },
  {
   "cell_type": "code",
   "execution_count": 254,
   "metadata": {},
   "outputs": [],
   "source": [
    "# user_df =  pd.read_csv(relative_filename, error_bad_lines=False)\n",
    "user_df =  pd.read_csv(relative_filename, error_bad_lines=False, sep  = '\\t')\n",
    "\n",
    "# user_df = user_df[user_df[\"MINING_DW_SUBSCR_NO\"] != \"MINING_DW_SUBSCR_NO\"]\n",
    "# user_df[\"MINING_DW_SUBSCR_NO\"] = user_df[\"MINING_DW_SUBSCR_NO\"].apply(np.int64)"
   ]
  },
  {
   "cell_type": "code",
   "execution_count": 255,
   "metadata": {},
   "outputs": [
    {
     "data": {
      "text/html": [
       "<div>\n",
       "<style>\n",
       "    .dataframe thead tr:only-child th {\n",
       "        text-align: right;\n",
       "    }\n",
       "\n",
       "    .dataframe thead th {\n",
       "        text-align: left;\n",
       "    }\n",
       "\n",
       "    .dataframe tbody tr th {\n",
       "        vertical-align: top;\n",
       "    }\n",
       "</style>\n",
       "<table border=\"1\" class=\"dataframe\">\n",
       "  <thead>\n",
       "    <tr style=\"text-align: right;\">\n",
       "      <th></th>\n",
       "      <th>DATA_MONTH</th>\n",
       "      <th>MINING_DW_SUBSCR_NO</th>\n",
       "      <th>AGE</th>\n",
       "      <th>PTY_CBU_PO_CNT</th>\n",
       "    </tr>\n",
       "  </thead>\n",
       "  <tbody>\n",
       "    <tr>\n",
       "      <th>0</th>\n",
       "      <td>2017/4/1</td>\n",
       "      <td>8134330931</td>\n",
       "      <td>44</td>\n",
       "      <td>1</td>\n",
       "    </tr>\n",
       "    <tr>\n",
       "      <th>1</th>\n",
       "      <td>2017/4/1</td>\n",
       "      <td>2118544651</td>\n",
       "      <td>58</td>\n",
       "      <td>1</td>\n",
       "    </tr>\n",
       "    <tr>\n",
       "      <th>2</th>\n",
       "      <td>2017/4/1</td>\n",
       "      <td>10000337216</td>\n",
       "      <td>48</td>\n",
       "      <td>1</td>\n",
       "    </tr>\n",
       "    <tr>\n",
       "      <th>3</th>\n",
       "      <td>2017/4/1</td>\n",
       "      <td>3133428916</td>\n",
       "      <td>27</td>\n",
       "      <td>1</td>\n",
       "    </tr>\n",
       "    <tr>\n",
       "      <th>4</th>\n",
       "      <td>2017/4/1</td>\n",
       "      <td>3119268553</td>\n",
       "      <td>56</td>\n",
       "      <td>1</td>\n",
       "    </tr>\n",
       "  </tbody>\n",
       "</table>\n",
       "</div>"
      ],
      "text/plain": [
       "  DATA_MONTH  MINING_DW_SUBSCR_NO AGE  PTY_CBU_PO_CNT\n",
       "0   2017/4/1           8134330931  44               1\n",
       "1   2017/4/1           2118544651  58               1\n",
       "2   2017/4/1          10000337216  48               1\n",
       "3   2017/4/1           3133428916  27               1\n",
       "4   2017/4/1           3119268553  56               1"
      ]
     },
     "execution_count": 255,
     "metadata": {},
     "output_type": "execute_result"
    }
   ],
   "source": [
    "user_df.head()"
   ]
  },
  {
   "cell_type": "markdown",
   "metadata": {},
   "source": [
    "# check data is duplicate or not"
   ]
  },
  {
   "cell_type": "code",
   "execution_count": 256,
   "metadata": {},
   "outputs": [
    {
     "data": {
      "text/html": [
       "<div>\n",
       "<style>\n",
       "    .dataframe thead tr:only-child th {\n",
       "        text-align: right;\n",
       "    }\n",
       "\n",
       "    .dataframe thead th {\n",
       "        text-align: left;\n",
       "    }\n",
       "\n",
       "    .dataframe tbody tr th {\n",
       "        vertical-align: top;\n",
       "    }\n",
       "</style>\n",
       "<table border=\"1\" class=\"dataframe\">\n",
       "  <thead>\n",
       "    <tr style=\"text-align: right;\">\n",
       "      <th></th>\n",
       "      <th>DATA_MONTH</th>\n",
       "      <th>MINING_DW_SUBSCR_NO</th>\n",
       "      <th>AGE</th>\n",
       "      <th>PTY_CBU_PO_CNT</th>\n",
       "    </tr>\n",
       "  </thead>\n",
       "  <tbody>\n",
       "  </tbody>\n",
       "</table>\n",
       "</div>"
      ],
      "text/plain": [
       "Empty DataFrame\n",
       "Columns: [DATA_MONTH, MINING_DW_SUBSCR_NO, AGE, PTY_CBU_PO_CNT]\n",
       "Index: []"
      ]
     },
     "execution_count": 256,
     "metadata": {},
     "output_type": "execute_result"
    }
   ],
   "source": [
    "user_df[user_df[\"MINING_DW_SUBSCR_NO\"].duplicated(keep=False)]"
   ]
  },
  {
   "cell_type": "code",
   "execution_count": 257,
   "metadata": {},
   "outputs": [],
   "source": [
    "users_count = len(user_df)\n",
    "\n",
    "# user_df.sort_values([\"AGE\"], inplace = True)\n",
    "user_df = user_df.set_index(\"MINING_DW_SUBSCR_NO\")\n",
    "user_df.sort_index(inplace = True)\n",
    "\n",
    "# user_df[\"Groups\"] = np.nan\n",
    "# user_df[\"label\"] = np.nan\n",
    "user_df[\"Groups\"] = \"None\"\n",
    "user_df[\"label\"] = np.nan\n",
    "# user_df[\"label\"] = user_df[\"label\"].apply(np.int64)\n"
   ]
  },
  {
   "cell_type": "code",
   "execution_count": null,
   "metadata": {
    "collapsed": true
   },
   "outputs": [],
   "source": []
  },
  {
   "cell_type": "markdown",
   "metadata": {},
   "source": [
    "# paste all kid"
   ]
  },
  {
   "cell_type": "code",
   "execution_count": 258,
   "metadata": {},
   "outputs": [
    {
     "name": "stdout",
     "output_type": "stream",
     "text": [
      "filename = ./kid\\kid_1_with_label.csv , Groups = 1\n",
      "group_num = 1\n",
      "len(label_df[Groups]) = 407597\n"
     ]
    },
    {
     "name": "stderr",
     "output_type": "stream",
     "text": [
      "C:\\ProgramData\\Anaconda3\\lib\\site-packages\\pandas\\core\\frame.py:3863: SettingWithCopyWarning: \n",
      "A value is trying to be set on a copy of a slice from a DataFrame.\n",
      "Try using .loc[row_indexer,col_indexer] = value instead\n",
      "\n",
      "See the caveats in the documentation: http://pandas.pydata.org/pandas-docs/stable/indexing.html#indexing-view-versus-copy\n",
      "  raise_on_error=True)\n"
     ]
    },
    {
     "name": "stdout",
     "output_type": "stream",
     "text": [
      "filename = ./kid\\kid_2_with_label.csv , Groups = 2\n",
      "group_num = 2\n",
      "len(label_df[Groups]) = 184644\n",
      "filename = ./kid\\kid_3_with_label.csv , Groups = 3\n",
      "group_num = 3\n",
      "len(label_df[Groups]) = 105809\n",
      "filename = ./kid\\kid_4_with_label.csv , Groups = 4\n",
      "group_num = 4\n",
      "len(label_df[Groups]) = 116958\n",
      "filename = ./kid\\kid_5_with_label.csv , Groups = 5\n",
      "group_num = 5\n",
      "len(label_df[Groups]) = 110474\n",
      "filename = ./kid\\kid_6_with_label.csv , Groups = 6\n",
      "group_num = 6\n",
      "len(label_df[Groups]) = 146047\n",
      "filename = ./kid\\kid_7_with_label.csv , Groups = 7\n",
      "group_num = 7\n",
      "len(label_df[Groups]) = 164149\n",
      "filename = ./kid\\kid_8_with_label.csv , Groups = 8\n",
      "group_num = 8\n",
      "len(label_df[Groups]) = 490166\n"
     ]
    }
   ],
   "source": [
    "# set configure\n",
    "# path = \"../DATA_FULL/\"\n",
    "path = \"./kid/\"\n",
    "out_path = path\n",
    "for file in glob.glob(path + \"*.csv\"):\n",
    "    if(\"with_label\" in file):\n",
    "        # get Group id\n",
    "        group_num  = file.split(\"_\")[1].strip()\n",
    "        print(\"filename = %s , Groups = %s\" % (file, group_num))\n",
    "        wants_cols = [\"MINING_DW_SUBSCR_NO\", \"label\"]\n",
    "        label_df = pd.read_csv(file, error_bad_lines=False, usecols = wants_cols)\n",
    "        print(\"group_num =\", group_num)\n",
    "        label_df[\"Groups\"] = group_num\n",
    "        print(\"len(label_df[Groups]) =\", len(label_df[\"Groups\"]))\n",
    "\n",
    "#\n",
    "        label_df = label_df.set_index(\"MINING_DW_SUBSCR_NO\")\n",
    "        label_df.sort_index(inplace = True)\n",
    "#         label_df = label_df[label_df['MINING_DW_SUBSCR_NO'].isin(user_df['MINING_DW_SUBSCR_NO'])]\n",
    "#         label_df = label_df[label_df.index.isin(user_df.index)]\n",
    "        new_user_label = user_df[['Groups', 'label']]\n",
    "        new_user_label.update(label_df)\n",
    "        user_df[['Groups', 'label']] = new_user_label\n",
    "\n",
    "\n",
    "#         user_df[\"label\"].update(label_df[\"label\"], raise_conflict=True)\n",
    "#         user_df.update(label_df)\n",
    "\n",
    "\n",
    "#         break"
   ]
  },
  {
   "cell_type": "code",
   "execution_count": 259,
   "metadata": {},
   "outputs": [
    {
     "name": "stdout",
     "output_type": "stream",
     "text": [
      "2596797\n",
      "116958\n",
      "400403\n"
     ]
    }
   ],
   "source": [
    "print(len(user_df))\n",
    "print(len(user_df[user_df[\"Groups\"] == \"4\"]))\n",
    "print(len(user_df[user_df[\"label\"] == 1]))"
   ]
  },
  {
   "cell_type": "code",
   "execution_count": 260,
   "metadata": {},
   "outputs": [
    {
     "data": {
      "text/html": [
       "<div>\n",
       "<style>\n",
       "    .dataframe thead tr:only-child th {\n",
       "        text-align: right;\n",
       "    }\n",
       "\n",
       "    .dataframe thead th {\n",
       "        text-align: left;\n",
       "    }\n",
       "\n",
       "    .dataframe tbody tr th {\n",
       "        vertical-align: top;\n",
       "    }\n",
       "</style>\n",
       "<table border=\"1\" class=\"dataframe\">\n",
       "  <thead>\n",
       "    <tr style=\"text-align: right;\">\n",
       "      <th></th>\n",
       "      <th>DATA_MONTH</th>\n",
       "      <th>AGE</th>\n",
       "      <th>PTY_CBU_PO_CNT</th>\n",
       "      <th>Groups</th>\n",
       "      <th>label</th>\n",
       "    </tr>\n",
       "    <tr>\n",
       "      <th>MINING_DW_SUBSCR_NO</th>\n",
       "      <th></th>\n",
       "      <th></th>\n",
       "      <th></th>\n",
       "      <th></th>\n",
       "      <th></th>\n",
       "    </tr>\n",
       "  </thead>\n",
       "  <tbody>\n",
       "    <tr>\n",
       "      <th>1179</th>\n",
       "      <td>2017/4/1</td>\n",
       "      <td>43</td>\n",
       "      <td>1</td>\n",
       "      <td>None</td>\n",
       "      <td>NaN</td>\n",
       "    </tr>\n",
       "    <tr>\n",
       "      <th>1181</th>\n",
       "      <td>2017/4/1</td>\n",
       "      <td>38</td>\n",
       "      <td>1</td>\n",
       "      <td>2</td>\n",
       "      <td>1.0</td>\n",
       "    </tr>\n",
       "    <tr>\n",
       "      <th>11121</th>\n",
       "      <td>2017/4/1</td>\n",
       "      <td>47</td>\n",
       "      <td>1</td>\n",
       "      <td>3</td>\n",
       "      <td>3.0</td>\n",
       "    </tr>\n",
       "    <tr>\n",
       "      <th>11145</th>\n",
       "      <td>2017/4/1</td>\n",
       "      <td>54</td>\n",
       "      <td>1</td>\n",
       "      <td>None</td>\n",
       "      <td>NaN</td>\n",
       "    </tr>\n",
       "    <tr>\n",
       "      <th>11149</th>\n",
       "      <td>2017/4/1</td>\n",
       "      <td>55</td>\n",
       "      <td>1</td>\n",
       "      <td>2</td>\n",
       "      <td>0.0</td>\n",
       "    </tr>\n",
       "  </tbody>\n",
       "</table>\n",
       "</div>"
      ],
      "text/plain": [
       "                    DATA_MONTH AGE  PTY_CBU_PO_CNT Groups  label\n",
       "MINING_DW_SUBSCR_NO                                             \n",
       "1179                  2017/4/1  43               1   None    NaN\n",
       "1181                  2017/4/1  38               1      2    1.0\n",
       "11121                 2017/4/1  47               1      3    3.0\n",
       "11145                 2017/4/1  54               1   None    NaN\n",
       "11149                 2017/4/1  55               1      2    0.0"
      ]
     },
     "execution_count": 260,
     "metadata": {},
     "output_type": "execute_result"
    }
   ],
   "source": [
    "user_df.head()"
   ]
  },
  {
   "cell_type": "code",
   "execution_count": 261,
   "metadata": {},
   "outputs": [
    {
     "data": {
      "text/plain": [
       "DATA_MONTH         object\n",
       "AGE                object\n",
       "PTY_CBU_PO_CNT      int64\n",
       "Groups             object\n",
       "label             float64\n",
       "dtype: object"
      ]
     },
     "execution_count": 261,
     "metadata": {},
     "output_type": "execute_result"
    }
   ],
   "source": [
    "user_df.dtypes"
   ]
  },
  {
   "cell_type": "code",
   "execution_count": 262,
   "metadata": {},
   "outputs": [],
   "source": [
    "user_df[\"label\"] = user_df[\"label\"].fillna(-1)\n",
    "user_df[\"label\"] = user_df[\"label\"].apply(np.int64)"
   ]
  },
  {
   "cell_type": "code",
   "execution_count": 263,
   "metadata": {},
   "outputs": [
    {
     "data": {
      "text/html": [
       "<div>\n",
       "<style>\n",
       "    .dataframe thead tr:only-child th {\n",
       "        text-align: right;\n",
       "    }\n",
       "\n",
       "    .dataframe thead th {\n",
       "        text-align: left;\n",
       "    }\n",
       "\n",
       "    .dataframe tbody tr th {\n",
       "        vertical-align: top;\n",
       "    }\n",
       "</style>\n",
       "<table border=\"1\" class=\"dataframe\">\n",
       "  <thead>\n",
       "    <tr style=\"text-align: right;\">\n",
       "      <th></th>\n",
       "      <th>DATA_MONTH</th>\n",
       "      <th>AGE</th>\n",
       "      <th>PTY_CBU_PO_CNT</th>\n",
       "      <th>Groups</th>\n",
       "      <th>label</th>\n",
       "    </tr>\n",
       "    <tr>\n",
       "      <th>MINING_DW_SUBSCR_NO</th>\n",
       "      <th></th>\n",
       "      <th></th>\n",
       "      <th></th>\n",
       "      <th></th>\n",
       "      <th></th>\n",
       "    </tr>\n",
       "  </thead>\n",
       "  <tbody>\n",
       "    <tr>\n",
       "      <th>1179</th>\n",
       "      <td>2017/4/1</td>\n",
       "      <td>43</td>\n",
       "      <td>1</td>\n",
       "      <td>None</td>\n",
       "      <td>-1</td>\n",
       "    </tr>\n",
       "    <tr>\n",
       "      <th>1181</th>\n",
       "      <td>2017/4/1</td>\n",
       "      <td>38</td>\n",
       "      <td>1</td>\n",
       "      <td>2</td>\n",
       "      <td>1</td>\n",
       "    </tr>\n",
       "    <tr>\n",
       "      <th>11121</th>\n",
       "      <td>2017/4/1</td>\n",
       "      <td>47</td>\n",
       "      <td>1</td>\n",
       "      <td>3</td>\n",
       "      <td>3</td>\n",
       "    </tr>\n",
       "    <tr>\n",
       "      <th>11145</th>\n",
       "      <td>2017/4/1</td>\n",
       "      <td>54</td>\n",
       "      <td>1</td>\n",
       "      <td>None</td>\n",
       "      <td>-1</td>\n",
       "    </tr>\n",
       "    <tr>\n",
       "      <th>11149</th>\n",
       "      <td>2017/4/1</td>\n",
       "      <td>55</td>\n",
       "      <td>1</td>\n",
       "      <td>2</td>\n",
       "      <td>0</td>\n",
       "    </tr>\n",
       "  </tbody>\n",
       "</table>\n",
       "</div>"
      ],
      "text/plain": [
       "                    DATA_MONTH AGE  PTY_CBU_PO_CNT Groups  label\n",
       "MINING_DW_SUBSCR_NO                                             \n",
       "1179                  2017/4/1  43               1   None     -1\n",
       "1181                  2017/4/1  38               1      2      1\n",
       "11121                 2017/4/1  47               1      3      3\n",
       "11145                 2017/4/1  54               1   None     -1\n",
       "11149                 2017/4/1  55               1      2      0"
      ]
     },
     "execution_count": 263,
     "metadata": {},
     "output_type": "execute_result"
    }
   ],
   "source": [
    "user_df.head()"
   ]
  },
  {
   "cell_type": "code",
   "execution_count": 264,
   "metadata": {},
   "outputs": [
    {
     "name": "stdout",
     "output_type": "stream",
     "text": [
      "time for output csv file: 5.78\n"
     ]
    }
   ],
   "source": [
    "save_dataframe_with_id(user_df, out_path +  \"single_id_age_group_label\")"
   ]
  },
  {
   "cell_type": "code",
   "execution_count": 265,
   "metadata": {},
   "outputs": [
    {
     "name": "stdout",
     "output_type": "stream",
     "text": [
      "origin users_count 2596797\n",
      "current users_count 2596797\n"
     ]
    }
   ],
   "source": [
    "print(\"origin users_count\", users_count)\n",
    "print(\"current users_count\", len(user_df))"
   ]
  },
  {
   "cell_type": "code",
   "execution_count": 266,
   "metadata": {
    "collapsed": true
   },
   "outputs": [],
   "source": [
    "wants_cols = [\"MINING_DW_SUBSCR_NO\"]\n",
    "df =  pd.read_csv(relative_filename, usecols = wants_cols, error_bad_lines=False)"
   ]
  },
  {
   "cell_type": "code",
   "execution_count": 267,
   "metadata": {},
   "outputs": [
    {
     "data": {
      "text/html": [
       "<div>\n",
       "<style>\n",
       "    .dataframe thead tr:only-child th {\n",
       "        text-align: right;\n",
       "    }\n",
       "\n",
       "    .dataframe thead th {\n",
       "        text-align: left;\n",
       "    }\n",
       "\n",
       "    .dataframe tbody tr th {\n",
       "        vertical-align: top;\n",
       "    }\n",
       "</style>\n",
       "<table border=\"1\" class=\"dataframe\">\n",
       "  <thead>\n",
       "    <tr style=\"text-align: right;\">\n",
       "      <th></th>\n",
       "      <th>DATA_MONTH\tMINING_DW_SUBSCR_NO\tAGE\tPTY_CBU_PO_CNT</th>\n",
       "    </tr>\n",
       "  </thead>\n",
       "  <tbody>\n",
       "  </tbody>\n",
       "</table>\n",
       "</div>"
      ],
      "text/plain": [
       "Empty DataFrame\n",
       "Columns: [DATA_MONTH\tMINING_DW_SUBSCR_NO\tAGE\tPTY_CBU_PO_CNT]\n",
       "Index: []"
      ]
     },
     "execution_count": 267,
     "metadata": {},
     "output_type": "execute_result"
    }
   ],
   "source": [
    "df.head()"
   ]
  },
  {
   "cell_type": "code",
   "execution_count": 268,
   "metadata": {},
   "outputs": [
    {
     "name": "stdout",
     "output_type": "stream",
     "text": [
      "time for read csv: 0.92\n",
      "32089\n"
     ]
    }
   ],
   "source": [
    "path = \"./kid/\"\n",
    "filename = \"label_K6_de_with_kid_1_06281\"\n",
    "FILE = path + filename + \".npy\"\n",
    "labels_ = np.load(FILE)\n",
    "filename = \"table_with_kid_1\"\n",
    "relative_filename = path + filename + \".csv\"\n",
    "df = read_csv(relative_filename)\n",
    "df['label'] = labels_\n",
    "print(len(df[df['label'] == 5]))\n",
    "df = df.fillna(0)\n",
    "out_path = \"./CDR_FINAL/\"\n"
   ]
  },
  {
   "cell_type": "code",
   "execution_count": 269,
   "metadata": {},
   "outputs": [
    {
     "data": {
      "text/html": [
       "<div>\n",
       "<style>\n",
       "    .dataframe thead tr:only-child th {\n",
       "        text-align: right;\n",
       "    }\n",
       "\n",
       "    .dataframe thead th {\n",
       "        text-align: left;\n",
       "    }\n",
       "\n",
       "    .dataframe tbody tr th {\n",
       "        vertical-align: top;\n",
       "    }\n",
       "</style>\n",
       "<table border=\"1\" class=\"dataframe\">\n",
       "  <thead>\n",
       "    <tr style=\"text-align: right;\">\n",
       "      <th></th>\n",
       "      <th>MINING_DW_SUBSCR_NO</th>\n",
       "      <th>VOICE_workday_time</th>\n",
       "      <th>VOICE_holiday_time</th>\n",
       "      <th>DNA_workday_cnt</th>\n",
       "      <th>DNA_holiday_cnt</th>\n",
       "      <th>hour(7~11)_time</th>\n",
       "      <th>hour(12~13)_time</th>\n",
       "      <th>hour(14~19)_time</th>\n",
       "      <th>hour(20~3)_time</th>\n",
       "      <th>hour(4~6)_time</th>\n",
       "      <th>DNA_hour(7~11)_CNT</th>\n",
       "      <th>DNA_hour(12~13)_CNT</th>\n",
       "      <th>DNA_hour(14~19)_CNT</th>\n",
       "      <th>DNA_hour(20~3)_CNT</th>\n",
       "      <th>DNA_hour(4~6)_CNT</th>\n",
       "      <th>label</th>\n",
       "    </tr>\n",
       "  </thead>\n",
       "  <tbody>\n",
       "    <tr>\n",
       "      <th>0</th>\n",
       "      <td>10000000028</td>\n",
       "      <td>0.0</td>\n",
       "      <td>0.0</td>\n",
       "      <td>0.0</td>\n",
       "      <td>0.0</td>\n",
       "      <td>0.0</td>\n",
       "      <td>0.0</td>\n",
       "      <td>0.0</td>\n",
       "      <td>0.0</td>\n",
       "      <td>0.0</td>\n",
       "      <td>0.000000</td>\n",
       "      <td>0.000000</td>\n",
       "      <td>0.000000</td>\n",
       "      <td>0.000000</td>\n",
       "      <td>0.000000</td>\n",
       "      <td>3</td>\n",
       "    </tr>\n",
       "    <tr>\n",
       "      <th>1</th>\n",
       "      <td>10000000036</td>\n",
       "      <td>0.0</td>\n",
       "      <td>0.0</td>\n",
       "      <td>0.0</td>\n",
       "      <td>0.0</td>\n",
       "      <td>0.0</td>\n",
       "      <td>0.0</td>\n",
       "      <td>0.0</td>\n",
       "      <td>0.0</td>\n",
       "      <td>0.0</td>\n",
       "      <td>0.033321</td>\n",
       "      <td>0.034582</td>\n",
       "      <td>0.032353</td>\n",
       "      <td>0.061712</td>\n",
       "      <td>0.025474</td>\n",
       "      <td>3</td>\n",
       "    </tr>\n",
       "    <tr>\n",
       "      <th>2</th>\n",
       "      <td>10000000083</td>\n",
       "      <td>0.0</td>\n",
       "      <td>0.0</td>\n",
       "      <td>0.0</td>\n",
       "      <td>0.0</td>\n",
       "      <td>0.0</td>\n",
       "      <td>0.0</td>\n",
       "      <td>0.0</td>\n",
       "      <td>0.0</td>\n",
       "      <td>0.0</td>\n",
       "      <td>0.092683</td>\n",
       "      <td>0.000000</td>\n",
       "      <td>0.089431</td>\n",
       "      <td>0.000000</td>\n",
       "      <td>0.000000</td>\n",
       "      <td>3</td>\n",
       "    </tr>\n",
       "    <tr>\n",
       "      <th>3</th>\n",
       "      <td>10000000085</td>\n",
       "      <td>0.0</td>\n",
       "      <td>0.0</td>\n",
       "      <td>0.0</td>\n",
       "      <td>0.0</td>\n",
       "      <td>0.0</td>\n",
       "      <td>0.0</td>\n",
       "      <td>0.0</td>\n",
       "      <td>0.0</td>\n",
       "      <td>0.0</td>\n",
       "      <td>0.055422</td>\n",
       "      <td>0.049398</td>\n",
       "      <td>0.060509</td>\n",
       "      <td>0.019076</td>\n",
       "      <td>0.036145</td>\n",
       "      <td>4</td>\n",
       "    </tr>\n",
       "    <tr>\n",
       "      <th>4</th>\n",
       "      <td>10000000087</td>\n",
       "      <td>0.0</td>\n",
       "      <td>0.0</td>\n",
       "      <td>0.0</td>\n",
       "      <td>0.0</td>\n",
       "      <td>0.0</td>\n",
       "      <td>0.0</td>\n",
       "      <td>0.0</td>\n",
       "      <td>0.0</td>\n",
       "      <td>0.0</td>\n",
       "      <td>0.040991</td>\n",
       "      <td>0.026473</td>\n",
       "      <td>0.104611</td>\n",
       "      <td>0.007792</td>\n",
       "      <td>0.017364</td>\n",
       "      <td>3</td>\n",
       "    </tr>\n",
       "  </tbody>\n",
       "</table>\n",
       "</div>"
      ],
      "text/plain": [
       "   MINING_DW_SUBSCR_NO  VOICE_workday_time  VOICE_holiday_time  \\\n",
       "0          10000000028                 0.0                 0.0   \n",
       "1          10000000036                 0.0                 0.0   \n",
       "2          10000000083                 0.0                 0.0   \n",
       "3          10000000085                 0.0                 0.0   \n",
       "4          10000000087                 0.0                 0.0   \n",
       "\n",
       "   DNA_workday_cnt  DNA_holiday_cnt  hour(7~11)_time  hour(12~13)_time  \\\n",
       "0              0.0              0.0              0.0               0.0   \n",
       "1              0.0              0.0              0.0               0.0   \n",
       "2              0.0              0.0              0.0               0.0   \n",
       "3              0.0              0.0              0.0               0.0   \n",
       "4              0.0              0.0              0.0               0.0   \n",
       "\n",
       "   hour(14~19)_time  hour(20~3)_time  hour(4~6)_time  DNA_hour(7~11)_CNT  \\\n",
       "0               0.0              0.0             0.0            0.000000   \n",
       "1               0.0              0.0             0.0            0.033321   \n",
       "2               0.0              0.0             0.0            0.092683   \n",
       "3               0.0              0.0             0.0            0.055422   \n",
       "4               0.0              0.0             0.0            0.040991   \n",
       "\n",
       "   DNA_hour(12~13)_CNT  DNA_hour(14~19)_CNT  DNA_hour(20~3)_CNT  \\\n",
       "0             0.000000             0.000000            0.000000   \n",
       "1             0.034582             0.032353            0.061712   \n",
       "2             0.000000             0.089431            0.000000   \n",
       "3             0.049398             0.060509            0.019076   \n",
       "4             0.026473             0.104611            0.007792   \n",
       "\n",
       "   DNA_hour(4~6)_CNT  label  \n",
       "0           0.000000      3  \n",
       "1           0.025474      3  \n",
       "2           0.000000      3  \n",
       "3           0.036145      4  \n",
       "4           0.017364      3  "
      ]
     },
     "execution_count": 269,
     "metadata": {},
     "output_type": "execute_result"
    }
   ],
   "source": [
    "df.head()"
   ]
  },
  {
   "cell_type": "code",
   "execution_count": null,
   "metadata": {},
   "outputs": [],
   "source": []
  },
  {
   "cell_type": "code",
   "execution_count": null,
   "metadata": {
    "collapsed": true
   },
   "outputs": [],
   "source": []
  }
 ],
 "metadata": {
  "kernelspec": {
   "display_name": "Python 3",
   "language": "python",
   "name": "python3"
  },
  "language_info": {
   "codemirror_mode": {
    "name": "ipython",
    "version": 3
   },
   "file_extension": ".py",
   "mimetype": "text/x-python",
   "name": "python",
   "nbconvert_exporter": "python",
   "pygments_lexer": "ipython3",
   "version": "3.6.1"
  }
 },
 "nbformat": 4,
 "nbformat_minor": 2
}
