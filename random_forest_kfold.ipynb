{
 "cells": [
  {
   "cell_type": "markdown",
   "metadata": {},
   "source": [
    "# Read & Clear Data"
   ]
  },
  {
   "cell_type": "code",
   "execution_count": 40,
   "metadata": {
    "collapsed": true
   },
   "outputs": [],
   "source": [
    "import numpy as np\n",
    "import pandas as pd\n",
    "import feather \n",
    "import matplotlib.pyplot as plt  \n",
    "from time import time\n",
    "from mailerWithUtf8 import mail\n",
    "from sklearn.model_selection import GridSearchCV\n",
    "from sklearn.preprocessing import LabelEncoder\n",
    "from sklearn.ensemble import RandomForestClassifier\n",
    "from sklearn.model_selection import train_test_split  \n",
    "from sklearn.externals import joblib\n",
    "from sklearn import preprocessing\n",
    "from sklearn.metrics import confusion_matrix\n",
    "from sklearn.model_selection import cross_val_score\n",
    "from sklearn.model_selection import ShuffleSplit\n",
    "import os"
   ]
  },
  {
   "cell_type": "code",
   "execution_count": 41,
   "metadata": {
    "collapsed": true
   },
   "outputs": [],
   "source": [
    "def save_dataframe(df, out_filename):\n",
    "   # write to csv and no index\n",
    "    t0 = time()\n",
    "    df.to_csv(out_filename + \".csv\", index=False, encoding='utf-8')\n",
    "#     df.to_csv(out_filename + \".csv\", encoding='utf-8')\n",
    "    print(\"time for output csv file: %.2f\" % (time()-t0))"
   ]
  },
  {
   "cell_type": "code",
   "execution_count": 42,
   "metadata": {},
   "outputs": [
    {
     "name": "stdout",
     "output_type": "stream",
     "text": [
      "load feather %s seconds 0.6803898811340332\n"
     ]
    }
   ],
   "source": [
    "start_time = time()\n",
    "path = \"C:/Users/VIPLAB/Desktop/preprocess_py/marketing_analyze/\"\n",
    "# filename = '0713_april_marketing_anylze_full_table_group12_select_max_min.feather' \n",
    "filename = \"0719_april_marketing_anylze_full_table_group11_max_min.csv\"\n",
    "# train_df = feather.read_dataframe(path + filename)\n",
    "train_df = pd.read_csv(path + filename, error_bad_lines=False)\n",
    "\n",
    "print('load feather %s seconds', format(time() - start_time))"
   ]
  },
  {
   "cell_type": "code",
   "execution_count": 43,
   "metadata": {},
   "outputs": [
    {
     "name": "stdout",
     "output_type": "stream",
     "text": [
      "load feather %s seconds 0.8162863254547119\n"
     ]
    }
   ],
   "source": [
    "# filename = '0713_april_marketing_anylze_full_table_group12_max_min_test.feather' \n",
    "# filename = '0713_april_marketing_anylze_full_table_group12_select_max_min_test.feather' \n",
    "# filename = '0713_april_marketing_anylze_full_table_group12_max_min.feather' \n",
    "\n",
    "# test_df = feather.read_dataframe(path + filename)\n",
    "filename = \"0719_april_marketing_anylze_full_table_group11_max_min_test.csv\"\n",
    "test_df = pd.read_csv(path + filename, error_bad_lines=False)\n",
    "\n",
    "print('load feather %s seconds', format(time() - start_time))"
   ]
  },
  {
   "cell_type": "code",
   "execution_count": 44,
   "metadata": {
    "collapsed": true
   },
   "outputs": [],
   "source": [
    "wants_col = ['SRV_TYPE_DESC',\n",
    " 'GENDER_CODE',\n",
    " 'AGE',\n",
    " 'TENURE_SCV',\n",
    " 'BILL_CITY_NAME',\n",
    " 'DORMANT_MONTH_CNT_MKT',\n",
    " 'IMEI_MFG_NAME',\n",
    " 'IMEI_BAND',\n",
    " 'CHURN_CLM_IND',\n",
    " 'PTY_NP_IN_IND',\n",
    " 'PTY_NP_OUT_IND',\n",
    " 'MDS_CURR_RENEW_CNT',\n",
    " 'PROM_CURR_EXP_MONTH_CNT',\n",
    " 'CURR_PROM_COMMIT_MONTHS',\n",
    " 'NET_INV_AMT',\n",
    " 'AGENCY_AMT',\n",
    " 'MT_STM_AMT',\n",
    " 'VOICE_RC_AMT',\n",
    " 'DATA_RC_AMT',\n",
    " 'ONNET_AMT',\n",
    " 'OFFNETM_AMT',\n",
    " 'PSTN_AMT',\n",
    " 'INT_ROAM_AMT',\n",
    " 'IDD_AMT',\n",
    " 'DATA_INV_AMT',\n",
    " 'VOICE_INV_AMT',\n",
    " 'GOOGLE_PLAY_IND',\n",
    " 'MO_TTL_DURATION',\n",
    " 'MO_ONNET_DUR',\n",
    " 'MO_OFFNET_DUR',\n",
    " 'PSTN_DUR',\n",
    " 'MO_TTL_COUNT',\n",
    " 'MO_ONNET_CNT',\n",
    " 'MO_OFFNET_CNT',\n",
    " 'PSTN_CNT',\n",
    " 'MT_TTL_DURATION',\n",
    " 'MT_ONNET_DUR',\n",
    " 'MT_OFFNET_DUR',\n",
    " 'MT_PSTN_DUR',\n",
    " 'MT_TTL_COUNT',\n",
    " 'MT_ONNET_CNT',\n",
    " 'MT_OFFNET_CNT',\n",
    " 'MT_PSTN_CNT',\n",
    " 'MOST_MO_OPERATOR',\n",
    " 'MOST_MT_OPERATOR',\n",
    " 'MOC_FET_DUR',\n",
    " 'MOC_TWM_DUR',\n",
    " 'MOC_CHM_DUR',\n",
    " 'MOC_OTH_DUR',\n",
    " 'MOC_PSTN_DUR',\n",
    " 'MOST_MO_DUR',\n",
    " 'MTC_FET_DUR',\n",
    " 'MTC_TWM_DUR',\n",
    " 'MTC_CHM_DUR',\n",
    " 'MTC_PSTN_DUR',\n",
    " 'MOST_MT_DUR',\n",
    " 'CUST_TYPE',\n",
    " 'FLAT_RATE_4G_IND',\n",
    " 'FLAT_RATE_3G_IND',\n",
    " 'VOICE_MONTHLY_FEE',\n",
    " 'DATA_MONTHLY_FEE',\n",
    " 'DATA_RATING_USAGE_MB',\n",
    " 'HS_CHG_CNT',\n",
    " 'AVG_HS_USE_MONTH',\n",
    " 'Groups']\n"
   ]
  },
  {
   "cell_type": "code",
   "execution_count": 45,
   "metadata": {},
   "outputs": [],
   "source": [
    "train_df = train_df[wants_col]\n",
    "test_df = test_df[wants_col]"
   ]
  },
  {
   "cell_type": "code",
   "execution_count": 46,
   "metadata": {
    "collapsed": true
   },
   "outputs": [],
   "source": [
    "CLASSIFIER = \"RANDOM_FOREST\"\n",
    "CURRENT_MODE = \"SELECT_MODE\"\n"
   ]
  },
  {
   "cell_type": "code",
   "execution_count": 47,
   "metadata": {
    "collapsed": true
   },
   "outputs": [],
   "source": [
    "groups = train_df[\"Groups\"].unique()"
   ]
  },
  {
   "cell_type": "code",
   "execution_count": 48,
   "metadata": {
    "collapsed": true
   },
   "outputs": [],
   "source": [
    "out_filename = CLASSIFIER + \"_\" + CURRENT_MODE + '_'"
   ]
  },
  {
   "cell_type": "code",
   "execution_count": 49,
   "metadata": {
    "collapsed": true
   },
   "outputs": [],
   "source": [
    "out_path = \"clf_random_forest_model_kFold/all/\" \n",
    "if not os.path.exists(out_path):\n",
    "    os.makedirs(out_path)"
   ]
  },
  {
   "cell_type": "code",
   "execution_count": null,
   "metadata": {
    "collapsed": true
   },
   "outputs": [],
   "source": []
  },
  {
   "cell_type": "code",
   "execution_count": null,
   "metadata": {
    "collapsed": true
   },
   "outputs": [],
   "source": []
  },
  {
   "cell_type": "code",
   "execution_count": 50,
   "metadata": {
    "collapsed": true
   },
   "outputs": [],
   "source": [
    "train_x, train_y = train_df.iloc[:, 0:-1].values, train_df.iloc[:, -1].values"
   ]
  },
  {
   "cell_type": "code",
   "execution_count": 51,
   "metadata": {
    "collapsed": true
   },
   "outputs": [],
   "source": [
    "test_x, test_y = test_df.iloc[:, 0:-1].values, test_df.iloc[:, -1].values"
   ]
  },
  {
   "cell_type": "markdown",
   "metadata": {},
   "source": [
    "# convert y to numeric# "
   ]
  },
  {
   "cell_type": "code",
   "execution_count": 52,
   "metadata": {},
   "outputs": [],
   "source": [
    "le = preprocessing.LabelEncoder()\n",
    "le.fit(train_df[\"Groups\"].unique())\n",
    "train_numeric_y = le.transform(train_y)\n"
   ]
  },
  {
   "cell_type": "code",
   "execution_count": 53,
   "metadata": {
    "collapsed": true
   },
   "outputs": [],
   "source": [
    "test_numeric_y = le.transform(test_y) "
   ]
  },
  {
   "cell_type": "markdown",
   "metadata": {},
   "source": [
    "# build Random Forest Classifier\n"
   ]
  },
  {
   "cell_type": "code",
   "execution_count": 54,
   "metadata": {
    "collapsed": true
   },
   "outputs": [],
   "source": [
    "start_time = time()\n"
   ]
  },
  {
   "cell_type": "code",
   "execution_count": 55,
   "metadata": {
    "collapsed": true
   },
   "outputs": [],
   "source": [
    "rf = RandomForestClassifier(max_features='auto',\n",
    "                            oob_score=True,\n",
    "                            random_state=1,\n",
    "                            n_jobs=-1,\n",
    "                            n_estimators = 10)\n",
    "\n"
   ]
  },
  {
   "cell_type": "code",
   "execution_count": 56,
   "metadata": {
    "collapsed": true
   },
   "outputs": [],
   "source": [
    "param_grid = {\"criterion\" : [\"gini\"], \n",
    "              \"min_samples_leaf\" : [10], \n",
    "              \"min_samples_split\" : [2],\n",
    "#               \"max_depth\" : [10],\n",
    "              \"n_estimators\": [100]}"
   ]
  },
  {
   "cell_type": "code",
   "execution_count": 57,
   "metadata": {},
   "outputs": [],
   "source": [
    "gs = GridSearchCV(estimator=rf, param_grid=param_grid, scoring='accuracy', cv=5, n_jobs=-1)\n",
    "grid_clf = gs.fit(train_x, train_numeric_y)"
   ]
  },
  {
   "cell_type": "code",
   "execution_count": 79,
   "metadata": {
    "collapsed": true
   },
   "outputs": [],
   "source": [
    "clf = grid_clf.best_estimator_"
   ]
  },
  {
   "cell_type": "markdown",
   "metadata": {},
   "source": [
    "# saving classifier"
   ]
  },
  {
   "cell_type": "code",
   "execution_count": 58,
   "metadata": {
    "collapsed": true
   },
   "outputs": [],
   "source": [
    "# joblib.dump(clf, out_path + out_filename + 'CLF.pkl') \n",
    "# clf = joblib.load('filename.pkl') \n"
   ]
  },
  {
   "cell_type": "code",
   "execution_count": 80,
   "metadata": {},
   "outputs": [
    {
     "name": "stdout",
     "output_type": "stream",
     "text": [
      "Accuracy on training set: 0.601234\n",
      "Accuracy on test set: 0.601541\n",
      "fit time 3855.1424872875214 seconds\n",
      "\n"
     ]
    }
   ],
   "source": [
    "clf_info = str((\"Accuracy on training set: %f\" % grid_clf.score(train_x, train_numeric_y))) + '\\n'\n",
    "clf_info += str((\"Accuracy on test set: %f\" % clf.score(test_x, test_numeric_y))) + '\\n'\n",
    "clf_info += str(('fit time %s seconds' % format(time() - start_time))) + '\\n'\n",
    "print(clf_info)"
   ]
  },
  {
   "cell_type": "code",
   "execution_count": 69,
   "metadata": {
    "collapsed": true
   },
   "outputs": [],
   "source": [
    "from winsound import Beep\n",
    "Beep(440, 500) \n",
    "Beep(440, 500) \n",
    "Beep(440, 500) \n",
    "Beep(349, 350) \n",
    "Beep(523, 150) \n",
    "Beep(440, 500) \n",
    "Beep(349, 350) \n",
    "Beep(523, 150) \n",
    "Beep(440, 1000) \n",
    "Beep(659, 500) \n",
    "Beep(659, 500) \n",
    "Beep(659, 500) \n",
    "Beep(698, 350) \n",
    "Beep(523, 150) \n",
    "Beep(415, 500) \n",
    "Beep(349, 350) \n",
    "Beep(523, 150) \n",
    "Beep(440, 1000)"
   ]
  },
  {
   "cell_type": "code",
   "execution_count": 70,
   "metadata": {},
   "outputs": [
    {
     "name": "stdout",
     "output_type": "stream",
     "text": [
      "Start Send Mail\n",
      "User Email : a - DONE \n",
      "User Email : a - DONE \n",
      "User Email : 2 - DONE \n",
      "User Email : 6 - DONE \n",
      "User Email : 3 - DONE \n",
      "User Email : 6 - DONE \n",
      "User Email : 5 - DONE \n",
      "User Email : 5 - DONE \n",
      "User Email : 6 - DONE \n",
      "User Email : 6 - DONE \n",
      "User Email : @ - DONE \n",
      "User Email : g - DONE \n",
      "User Email : m - DONE \n",
      "User Email : a - DONE \n",
      "User Email : i - DONE \n",
      "User Email : l - DONE \n",
      "User Email : . - DONE \n",
      "User Email : c - DONE \n",
      "User Email : o - DONE \n",
      "User Email : m - DONE \n",
      "Finish Send Mail\n"
     ]
    }
   ],
   "source": [
    "from mailerWithUtf8 import mail\n",
    "test=mail()\n",
    "test.main(\"clf_info finished\", clf_info)"
   ]
  },
  {
   "cell_type": "code",
   "execution_count": 81,
   "metadata": {
    "collapsed": true
   },
   "outputs": [],
   "source": [
    "predict_y = clf.predict(test_x)"
   ]
  },
  {
   "cell_type": "code",
   "execution_count": 82,
   "metadata": {},
   "outputs": [
    {
     "data": {
      "text/plain": [
       "array([5, 5, 5, ..., 4, 4, 4], dtype=int64)"
      ]
     },
     "execution_count": 82,
     "metadata": {},
     "output_type": "execute_result"
    }
   ],
   "source": [
    "predict_y "
   ]
  },
  {
   "cell_type": "code",
   "execution_count": 83,
   "metadata": {},
   "outputs": [
    {
     "data": {
      "text/plain": [
       "array([ 7,  5, 10, ..., 10,  4,  5], dtype=int64)"
      ]
     },
     "execution_count": 83,
     "metadata": {},
     "output_type": "execute_result"
    }
   ],
   "source": [
    "test_numeric_y"
   ]
  },
  {
   "cell_type": "markdown",
   "metadata": {},
   "source": [
    "# get feature importances"
   ]
  },
  {
   "cell_type": "code",
   "execution_count": 84,
   "metadata": {},
   "outputs": [],
   "source": [
    "important_dict = dict(zip(train_df.columns[:-1],clf.feature_importances_))"
   ]
  },
  {
   "cell_type": "code",
   "execution_count": 85,
   "metadata": {},
   "outputs": [
    {
     "data": {
      "text/plain": [
       "{'AGE': 0.023442680914210264,\n",
       " 'AGENCY_AMT': 0.0066470943467930137,\n",
       " 'AVG_HS_USE_MONTH': 0.016395947397515466,\n",
       " 'BILL_CITY_NAME': 0.01609575839595969,\n",
       " 'CHURN_CLM_IND': 0.0023219234644282689,\n",
       " 'CURR_PROM_COMMIT_MONTHS': 0.0030025024831141899,\n",
       " 'CUST_TYPE': 0.00039535743782934449,\n",
       " 'DATA_INV_AMT': 0.018167474879866759,\n",
       " 'DATA_MONTHLY_FEE': 0.011675754162344298,\n",
       " 'DATA_RATING_USAGE_MB': 0.12107019445195824,\n",
       " 'DATA_RC_AMT': 0.014636838142637694,\n",
       " 'DORMANT_MONTH_CNT_MKT': 0.0,\n",
       " 'FLAT_RATE_3G_IND': 0.0005827798053817195,\n",
       " 'FLAT_RATE_4G_IND': 0.0060627929676443735,\n",
       " 'GENDER_CODE': 0.0062528869058169831,\n",
       " 'GOOGLE_PLAY_IND': 0.0028186626464067038,\n",
       " 'HS_CHG_CNT': 0.0077981120555722806,\n",
       " 'IDD_AMT': 0.0017826358376382503,\n",
       " 'IMEI_BAND': 0.0019564289102203727,\n",
       " 'IMEI_MFG_NAME': 0.056906940778429824,\n",
       " 'INT_ROAM_AMT': 0.0022897603233691432,\n",
       " 'MDS_CURR_RENEW_CNT': 0.0075410433942499147,\n",
       " 'MOC_CHM_DUR': 0.019802819389855932,\n",
       " 'MOC_FET_DUR': 0.017709228318878313,\n",
       " 'MOC_OTH_DUR': 0.0090376339651897283,\n",
       " 'MOC_PSTN_DUR': 0.018274046119892542,\n",
       " 'MOC_TWM_DUR': 0.018093548232671369,\n",
       " 'MOST_MO_DUR': 0.021980886240410825,\n",
       " 'MOST_MO_OPERATOR': 0.0036716779044732762,\n",
       " 'MOST_MT_DUR': 0.02323778072441272,\n",
       " 'MOST_MT_OPERATOR': 0.0032361619575893051,\n",
       " 'MO_OFFNET_CNT': 0.014926648611567964,\n",
       " 'MO_OFFNET_DUR': 0.022034414826085844,\n",
       " 'MO_ONNET_CNT': 0.013843578398356,\n",
       " 'MO_ONNET_DUR': 0.017790041772458735,\n",
       " 'MO_TTL_COUNT': 0.018648106649243611,\n",
       " 'MO_TTL_DURATION': 0.022938161295037389,\n",
       " 'MTC_CHM_DUR': 0.021405059846518727,\n",
       " 'MTC_FET_DUR': 0.018969584662960136,\n",
       " 'MTC_PSTN_DUR': 0.017539897514785775,\n",
       " 'MTC_TWM_DUR': 0.019067677003171225,\n",
       " 'MT_OFFNET_CNT': 0.015452152371910737,\n",
       " 'MT_OFFNET_DUR': 0.022511569922506258,\n",
       " 'MT_ONNET_CNT': 0.014769461742029531,\n",
       " 'MT_ONNET_DUR': 0.01904457920635156,\n",
       " 'MT_PSTN_CNT': 0.01021653486646841,\n",
       " 'MT_PSTN_DUR': 0.01784008073790596,\n",
       " 'MT_STM_AMT': 0.025780303135996548,\n",
       " 'MT_TTL_COUNT': 0.02039114788415354,\n",
       " 'MT_TTL_DURATION': 0.02666313389000232,\n",
       " 'NET_INV_AMT': 0.030570484969101898,\n",
       " 'OFFNETM_AMT': 0.002699639532401518,\n",
       " 'ONNET_AMT': 0.001375938808279864,\n",
       " 'PROM_CURR_EXP_MONTH_CNT': 0.019867821858384763,\n",
       " 'PSTN_AMT': 0.019393138419365928,\n",
       " 'PSTN_CNT': 0.011493865464869886,\n",
       " 'PSTN_DUR': 0.018187818597456787,\n",
       " 'PTY_NP_IN_IND': 0.003573426571954033,\n",
       " 'PTY_NP_OUT_IND': 0.0022298866003603395,\n",
       " 'SRV_TYPE_DESC': 0.00084051693947074634,\n",
       " 'TENURE_SCV': 0.028437191023796476,\n",
       " 'VOICE_INV_AMT': 0.023269603957424861,\n",
       " 'VOICE_MONTHLY_FEE': 0.0009179190998876291,\n",
       " 'VOICE_RC_AMT': 0.01442326126497424}"
      ]
     },
     "execution_count": 85,
     "metadata": {},
     "output_type": "execute_result"
    }
   ],
   "source": [
    "important_dict"
   ]
  },
  {
   "cell_type": "code",
   "execution_count": 91,
   "metadata": {
    "collapsed": true
   },
   "outputs": [],
   "source": [
    "important_list = sorted(important_dict.items(), key=lambda x: x[1])"
   ]
  },
  {
   "cell_type": "code",
   "execution_count": 92,
   "metadata": {
    "collapsed": true
   },
   "outputs": [],
   "source": [
    "important_list.reverse()"
   ]
  },
  {
   "cell_type": "code",
   "execution_count": 93,
   "metadata": {},
   "outputs": [
    {
     "name": "stdout",
     "output_type": "stream",
     "text": [
      "('DATA_RATING_USAGE_MB', 0.12107019445195824)\n",
      "('IMEI_MFG_NAME', 0.056906940778429824)\n",
      "('NET_INV_AMT', 0.030570484969101898)\n",
      "('TENURE_SCV', 0.028437191023796476)\n",
      "('MT_TTL_DURATION', 0.02666313389000232)\n",
      "('MT_STM_AMT', 0.025780303135996548)\n",
      "('AGE', 0.023442680914210264)\n",
      "('VOICE_INV_AMT', 0.023269603957424861)\n",
      "('MOST_MT_DUR', 0.02323778072441272)\n",
      "('MO_TTL_DURATION', 0.022938161295037389)\n",
      "('MT_OFFNET_DUR', 0.022511569922506258)\n",
      "('MO_OFFNET_DUR', 0.022034414826085844)\n",
      "('MOST_MO_DUR', 0.021980886240410825)\n",
      "('MTC_CHM_DUR', 0.021405059846518727)\n",
      "('MT_TTL_COUNT', 0.02039114788415354)\n",
      "('PROM_CURR_EXP_MONTH_CNT', 0.019867821858384763)\n",
      "('MOC_CHM_DUR', 0.019802819389855932)\n",
      "('PSTN_AMT', 0.019393138419365928)\n",
      "('MTC_TWM_DUR', 0.019067677003171225)\n",
      "('MT_ONNET_DUR', 0.01904457920635156)\n",
      "('MTC_FET_DUR', 0.018969584662960136)\n",
      "('MO_TTL_COUNT', 0.018648106649243611)\n",
      "('MOC_PSTN_DUR', 0.018274046119892542)\n",
      "('PSTN_DUR', 0.018187818597456787)\n",
      "('DATA_INV_AMT', 0.018167474879866759)\n",
      "('MOC_TWM_DUR', 0.018093548232671369)\n",
      "('MT_PSTN_DUR', 0.01784008073790596)\n",
      "('MO_ONNET_DUR', 0.017790041772458735)\n",
      "('MOC_FET_DUR', 0.017709228318878313)\n",
      "('MTC_PSTN_DUR', 0.017539897514785775)\n",
      "('AVG_HS_USE_MONTH', 0.016395947397515466)\n",
      "('BILL_CITY_NAME', 0.01609575839595969)\n",
      "('MT_OFFNET_CNT', 0.015452152371910737)\n",
      "('MO_OFFNET_CNT', 0.014926648611567964)\n",
      "('MT_ONNET_CNT', 0.014769461742029531)\n",
      "('DATA_RC_AMT', 0.014636838142637694)\n",
      "('VOICE_RC_AMT', 0.01442326126497424)\n",
      "('MO_ONNET_CNT', 0.013843578398356)\n",
      "('DATA_MONTHLY_FEE', 0.011675754162344298)\n",
      "('PSTN_CNT', 0.011493865464869886)\n",
      "('MT_PSTN_CNT', 0.01021653486646841)\n",
      "('MOC_OTH_DUR', 0.0090376339651897283)\n",
      "('HS_CHG_CNT', 0.0077981120555722806)\n",
      "('MDS_CURR_RENEW_CNT', 0.0075410433942499147)\n",
      "('AGENCY_AMT', 0.0066470943467930137)\n",
      "('GENDER_CODE', 0.0062528869058169831)\n",
      "('FLAT_RATE_4G_IND', 0.0060627929676443735)\n",
      "('MOST_MO_OPERATOR', 0.0036716779044732762)\n",
      "('PTY_NP_IN_IND', 0.003573426571954033)\n",
      "('MOST_MT_OPERATOR', 0.0032361619575893051)\n",
      "('CURR_PROM_COMMIT_MONTHS', 0.0030025024831141899)\n",
      "('GOOGLE_PLAY_IND', 0.0028186626464067038)\n",
      "('OFFNETM_AMT', 0.002699639532401518)\n",
      "('CHURN_CLM_IND', 0.0023219234644282689)\n",
      "('INT_ROAM_AMT', 0.0022897603233691432)\n",
      "('PTY_NP_OUT_IND', 0.0022298866003603395)\n",
      "('IMEI_BAND', 0.0019564289102203727)\n",
      "('IDD_AMT', 0.0017826358376382503)\n",
      "('ONNET_AMT', 0.001375938808279864)\n",
      "('VOICE_MONTHLY_FEE', 0.0009179190998876291)\n",
      "('SRV_TYPE_DESC', 0.00084051693947074634)\n",
      "('FLAT_RATE_3G_IND', 0.0005827798053817195)\n",
      "('CUST_TYPE', 0.00039535743782934449)\n",
      "('DORMANT_MONTH_CNT_MKT', 0.0)\n"
     ]
    }
   ],
   "source": [
    "clf_info += '\\n\\nFeature Importances\\n===================\\n'\n",
    "for row in important_list:\n",
    "    clf_info += str(row) + \"\\n\"\n",
    "    print(str(row))"
   ]
  },
  {
   "cell_type": "code",
   "execution_count": 94,
   "metadata": {
    "collapsed": true
   },
   "outputs": [],
   "source": [
    "feature_df = pd.DataFrame(important_list, columns = [\"COLUMN\", \"IMPORTANT_VALUE\"])"
   ]
  },
  {
   "cell_type": "code",
   "execution_count": 95,
   "metadata": {},
   "outputs": [
    {
     "name": "stdout",
     "output_type": "stream",
     "text": [
      "time for output csv file: 0.00\n"
     ]
    }
   ],
   "source": [
    "t0 = time()\n",
    "feature_df.to_csv(out_path + out_filename + \"feature_important_descent.csv\", index=False)\n",
    "print(\"time for output csv file: %.2f\" % (time()-t0))"
   ]
  },
  {
   "cell_type": "code",
   "execution_count": 96,
   "metadata": {},
   "outputs": [],
   "source": [
    "# cpy_dict = dict(important_list)\n",
    "# cpy_dict[\"Groups\"] = target_groups\n",
    "# feature_df = pd.DataFrame(cpy_dict, index = [0])"
   ]
  },
  {
   "cell_type": "code",
   "execution_count": 97,
   "metadata": {
    "collapsed": true
   },
   "outputs": [],
   "source": [
    "# cpy_dict = dict(important_list)\n",
    "# # cpy_dict[\"Groups\"] = target_groups\n",
    "# feature_df = pd.DataFrame(cpy_dict, index = [0])"
   ]
  },
  {
   "cell_type": "code",
   "execution_count": 98,
   "metadata": {
    "collapsed": true,
    "scrolled": true
   },
   "outputs": [],
   "source": [
    "# t0 = time()\n",
    "# feature_df.to_csv(out_path + out_filename + \"feature_important_one_row.csv\", index=False)\n",
    "# print(\"time for output csv file: %.2f\" % (time()-t0))"
   ]
  },
  {
   "cell_type": "code",
   "execution_count": 99,
   "metadata": {},
   "outputs": [
    {
     "data": {
      "text/plain": [
       "11"
      ]
     },
     "execution_count": 99,
     "metadata": {},
     "output_type": "execute_result"
    }
   ],
   "source": [
    "clf.n_classes_"
   ]
  },
  {
   "cell_type": "code",
   "execution_count": 100,
   "metadata": {},
   "outputs": [
    {
     "data": {
      "text/plain": [
       "1"
      ]
     },
     "execution_count": 100,
     "metadata": {},
     "output_type": "execute_result"
    }
   ],
   "source": [
    "clf.n_outputs_"
   ]
  },
  {
   "cell_type": "code",
   "execution_count": null,
   "metadata": {
    "collapsed": true
   },
   "outputs": [],
   "source": []
  },
  {
   "cell_type": "code",
   "execution_count": null,
   "metadata": {
    "collapsed": true
   },
   "outputs": [],
   "source": []
  },
  {
   "cell_type": "code",
   "execution_count": 101,
   "metadata": {},
   "outputs": [
    {
     "data": {
      "text/plain": [
       "array([[  457,     1,     0,   221,  2594,  4060,     3,     4,  3398,\n",
       "           58,     1],\n",
       "       [    0,   441,     0,   941,  6176,  6549,     1,     7,  3388,\n",
       "           55,     3],\n",
       "       [    0,     0,    24,   330,  3202,  8334,     6,     2,  3000,\n",
       "           67,     3],\n",
       "       [    1,     0,     0, 22174,  4144,  1131,     0,    11,  1620,\n",
       "            9,     6],\n",
       "       [    0,     0,     0,  3343, 74285,  4941,     0,     6,  2281,\n",
       "           12,     1],\n",
       "       [    0,     0,     0,  1863,  3443, 79616,     0,     8,  1475,\n",
       "            7,     0],\n",
       "       [    0,     0,     0,   164,  4857, 11346,  4125,     2,   283,\n",
       "            0,     0],\n",
       "       [    0,     0,     0,   919,  4600,  3280,     2,    95,  2559,\n",
       "           14,     0],\n",
       "       [    0,     0,     0,  2187,  6776,  7914,     3,    11, 36629,\n",
       "            2,     0],\n",
       "       [    0,     0,     0,  1369,  5778,  3854,     0,     8,  4300,\n",
       "         4214,     5],\n",
       "       [    0,     2,     0,  1396,  8801,  8973,     1,     5,  3988,\n",
       "           42,  4612]])"
      ]
     },
     "execution_count": 101,
     "metadata": {},
     "output_type": "execute_result"
    }
   ],
   "source": [
    "cnf_matrix = confusion_matrix(test_numeric_y, predict_y )\n",
    "cnf_matrix"
   ]
  },
  {
   "cell_type": "code",
   "execution_count": 102,
   "metadata": {},
   "outputs": [
    {
     "name": "stdout",
     "output_type": "stream",
     "text": [
      "Adult\n",
      "class = Adult count = [457 / 10797]\n",
      "predict Adult accurancy = 0.042326572196\n",
      "\n",
      "Game\n",
      "class = Game count = [441 / 17561]\n",
      "predict Game accurancy = 0.0251124651216\n",
      "\n",
      "HomeLife\n",
      "class = HomeLife count = [24 / 14968]\n",
      "predict HomeLife accurancy = 0.00160342063068\n",
      "\n",
      "Infrequent_User\n",
      "class = Infrequent_User count = [22174 / 29096]\n",
      "predict Infrequent_User accurancy = 0.76209788287\n",
      "\n",
      "InstantMessage-High\n",
      "class = InstantMessage-High count = [74285 / 84869]\n",
      "predict InstantMessage-High accurancy = 0.875290153059\n",
      "\n",
      "InstantMessage-Low\n",
      "class = InstantMessage-Low count = [79616 / 86412]\n",
      "predict InstantMessage-Low accurancy = 0.921353515715\n",
      "\n",
      "Map\n",
      "class = Map count = [4125 / 20777]\n",
      "predict Map accurancy = 0.198536843625\n",
      "\n",
      "News\n",
      "class = News count = [95 / 11469]\n",
      "predict News accurancy = 0.00828319818642\n",
      "\n",
      "No_ignificant_preference\n",
      "class = No_ignificant_preference count = [36629 / 53522]\n",
      "predict No_ignificant_preference accurancy = 0.684372781286\n",
      "\n",
      "Portal\n",
      "class = Portal count = [4214 / 19528]\n",
      "predict Portal accurancy = 0.215792707907\n",
      "\n",
      "Social-media\n",
      "class = Social-media count = [4612 / 27820]\n",
      "predict Social-media accurancy = 0.165780014378\n",
      "\n"
     ]
    }
   ],
   "source": [
    "group_encoder = []\n",
    "for idx, row in enumerate(cnf_matrix):\n",
    "#     success predict\n",
    "#     print(row[idx])\n",
    "    current_group = str(le.inverse_transform(idx))\n",
    "    group_encoder.append(current_group)\n",
    "#     current_group = groups[idx]\n",
    "\n",
    "    print(current_group)\n",
    "\n",
    "    idx_count_in_group = len(test_df[test_df[\"Groups\"] == current_group])\n",
    "    clf_info +=  \"\\n\\n\" + str(\"class = %s count = [%s / %s]\" % (current_group, row[idx], idx_count_in_group))\n",
    "    clf_info +=  \"\\n\\n\" + str(\"predict %s accurancy = %s\" % (current_group, row[idx] / idx_count_in_group))\n",
    "    print(\"class = %s count = [%s / %s]\" % (current_group,row[idx],str(idx_count_in_group)))\n",
    "    print(\"predict %s accurancy = %s\" % (current_group, row[idx] / idx_count_in_group))\n",
    "    print()"
   ]
  },
  {
   "cell_type": "code",
   "execution_count": 103,
   "metadata": {
    "collapsed": true,
    "scrolled": true
   },
   "outputs": [],
   "source": []
  },
  {
   "cell_type": "code",
   "execution_count": 104,
   "metadata": {
    "collapsed": true
   },
   "outputs": [],
   "source": [
    "cnf_pd = pd.DataFrame(cnf_matrix)\n",
    "cnf_pd.columns = group_encoder\n",
    "cnf_pd.index = group_encoder"
   ]
  },
  {
   "cell_type": "code",
   "execution_count": 105,
   "metadata": {
    "collapsed": true
   },
   "outputs": [],
   "source": []
  },
  {
   "cell_type": "code",
   "execution_count": 106,
   "metadata": {},
   "outputs": [
    {
     "data": {
      "text/html": [
       "<div>\n",
       "<style>\n",
       "    .dataframe thead tr:only-child th {\n",
       "        text-align: right;\n",
       "    }\n",
       "\n",
       "    .dataframe thead th {\n",
       "        text-align: left;\n",
       "    }\n",
       "\n",
       "    .dataframe tbody tr th {\n",
       "        vertical-align: top;\n",
       "    }\n",
       "</style>\n",
       "<table border=\"1\" class=\"dataframe\">\n",
       "  <thead>\n",
       "    <tr style=\"text-align: right;\">\n",
       "      <th></th>\n",
       "      <th>Adult</th>\n",
       "      <th>Game</th>\n",
       "      <th>HomeLife</th>\n",
       "      <th>Infrequent_User</th>\n",
       "      <th>InstantMessage-High</th>\n",
       "      <th>InstantMessage-Low</th>\n",
       "      <th>Map</th>\n",
       "      <th>News</th>\n",
       "      <th>No_ignificant_preference</th>\n",
       "      <th>Portal</th>\n",
       "      <th>Social-media</th>\n",
       "    </tr>\n",
       "  </thead>\n",
       "  <tbody>\n",
       "    <tr>\n",
       "      <th>Adult</th>\n",
       "      <td>457</td>\n",
       "      <td>1</td>\n",
       "      <td>0</td>\n",
       "      <td>221</td>\n",
       "      <td>2594</td>\n",
       "      <td>4060</td>\n",
       "      <td>3</td>\n",
       "      <td>4</td>\n",
       "      <td>3398</td>\n",
       "      <td>58</td>\n",
       "      <td>1</td>\n",
       "    </tr>\n",
       "    <tr>\n",
       "      <th>Game</th>\n",
       "      <td>0</td>\n",
       "      <td>441</td>\n",
       "      <td>0</td>\n",
       "      <td>941</td>\n",
       "      <td>6176</td>\n",
       "      <td>6549</td>\n",
       "      <td>1</td>\n",
       "      <td>7</td>\n",
       "      <td>3388</td>\n",
       "      <td>55</td>\n",
       "      <td>3</td>\n",
       "    </tr>\n",
       "    <tr>\n",
       "      <th>HomeLife</th>\n",
       "      <td>0</td>\n",
       "      <td>0</td>\n",
       "      <td>24</td>\n",
       "      <td>330</td>\n",
       "      <td>3202</td>\n",
       "      <td>8334</td>\n",
       "      <td>6</td>\n",
       "      <td>2</td>\n",
       "      <td>3000</td>\n",
       "      <td>67</td>\n",
       "      <td>3</td>\n",
       "    </tr>\n",
       "    <tr>\n",
       "      <th>Infrequent_User</th>\n",
       "      <td>1</td>\n",
       "      <td>0</td>\n",
       "      <td>0</td>\n",
       "      <td>22174</td>\n",
       "      <td>4144</td>\n",
       "      <td>1131</td>\n",
       "      <td>0</td>\n",
       "      <td>11</td>\n",
       "      <td>1620</td>\n",
       "      <td>9</td>\n",
       "      <td>6</td>\n",
       "    </tr>\n",
       "    <tr>\n",
       "      <th>InstantMessage-High</th>\n",
       "      <td>0</td>\n",
       "      <td>0</td>\n",
       "      <td>0</td>\n",
       "      <td>3343</td>\n",
       "      <td>74285</td>\n",
       "      <td>4941</td>\n",
       "      <td>0</td>\n",
       "      <td>6</td>\n",
       "      <td>2281</td>\n",
       "      <td>12</td>\n",
       "      <td>1</td>\n",
       "    </tr>\n",
       "    <tr>\n",
       "      <th>InstantMessage-Low</th>\n",
       "      <td>0</td>\n",
       "      <td>0</td>\n",
       "      <td>0</td>\n",
       "      <td>1863</td>\n",
       "      <td>3443</td>\n",
       "      <td>79616</td>\n",
       "      <td>0</td>\n",
       "      <td>8</td>\n",
       "      <td>1475</td>\n",
       "      <td>7</td>\n",
       "      <td>0</td>\n",
       "    </tr>\n",
       "    <tr>\n",
       "      <th>Map</th>\n",
       "      <td>0</td>\n",
       "      <td>0</td>\n",
       "      <td>0</td>\n",
       "      <td>164</td>\n",
       "      <td>4857</td>\n",
       "      <td>11346</td>\n",
       "      <td>4125</td>\n",
       "      <td>2</td>\n",
       "      <td>283</td>\n",
       "      <td>0</td>\n",
       "      <td>0</td>\n",
       "    </tr>\n",
       "    <tr>\n",
       "      <th>News</th>\n",
       "      <td>0</td>\n",
       "      <td>0</td>\n",
       "      <td>0</td>\n",
       "      <td>919</td>\n",
       "      <td>4600</td>\n",
       "      <td>3280</td>\n",
       "      <td>2</td>\n",
       "      <td>95</td>\n",
       "      <td>2559</td>\n",
       "      <td>14</td>\n",
       "      <td>0</td>\n",
       "    </tr>\n",
       "    <tr>\n",
       "      <th>No_ignificant_preference</th>\n",
       "      <td>0</td>\n",
       "      <td>0</td>\n",
       "      <td>0</td>\n",
       "      <td>2187</td>\n",
       "      <td>6776</td>\n",
       "      <td>7914</td>\n",
       "      <td>3</td>\n",
       "      <td>11</td>\n",
       "      <td>36629</td>\n",
       "      <td>2</td>\n",
       "      <td>0</td>\n",
       "    </tr>\n",
       "    <tr>\n",
       "      <th>Portal</th>\n",
       "      <td>0</td>\n",
       "      <td>0</td>\n",
       "      <td>0</td>\n",
       "      <td>1369</td>\n",
       "      <td>5778</td>\n",
       "      <td>3854</td>\n",
       "      <td>0</td>\n",
       "      <td>8</td>\n",
       "      <td>4300</td>\n",
       "      <td>4214</td>\n",
       "      <td>5</td>\n",
       "    </tr>\n",
       "    <tr>\n",
       "      <th>Social-media</th>\n",
       "      <td>0</td>\n",
       "      <td>2</td>\n",
       "      <td>0</td>\n",
       "      <td>1396</td>\n",
       "      <td>8801</td>\n",
       "      <td>8973</td>\n",
       "      <td>1</td>\n",
       "      <td>5</td>\n",
       "      <td>3988</td>\n",
       "      <td>42</td>\n",
       "      <td>4612</td>\n",
       "    </tr>\n",
       "  </tbody>\n",
       "</table>\n",
       "</div>"
      ],
      "text/plain": [
       "                          Adult  Game  HomeLife  Infrequent_User  \\\n",
       "Adult                       457     1         0              221   \n",
       "Game                          0   441         0              941   \n",
       "HomeLife                      0     0        24              330   \n",
       "Infrequent_User               1     0         0            22174   \n",
       "InstantMessage-High           0     0         0             3343   \n",
       "InstantMessage-Low            0     0         0             1863   \n",
       "Map                           0     0         0              164   \n",
       "News                          0     0         0              919   \n",
       "No_ignificant_preference      0     0         0             2187   \n",
       "Portal                        0     0         0             1369   \n",
       "Social-media                  0     2         0             1396   \n",
       "\n",
       "                          InstantMessage-High  InstantMessage-Low   Map  News  \\\n",
       "Adult                                    2594                4060     3     4   \n",
       "Game                                     6176                6549     1     7   \n",
       "HomeLife                                 3202                8334     6     2   \n",
       "Infrequent_User                          4144                1131     0    11   \n",
       "InstantMessage-High                     74285                4941     0     6   \n",
       "InstantMessage-Low                       3443               79616     0     8   \n",
       "Map                                      4857               11346  4125     2   \n",
       "News                                     4600                3280     2    95   \n",
       "No_ignificant_preference                 6776                7914     3    11   \n",
       "Portal                                   5778                3854     0     8   \n",
       "Social-media                             8801                8973     1     5   \n",
       "\n",
       "                          No_ignificant_preference  Portal  Social-media  \n",
       "Adult                                         3398      58             1  \n",
       "Game                                          3388      55             3  \n",
       "HomeLife                                      3000      67             3  \n",
       "Infrequent_User                               1620       9             6  \n",
       "InstantMessage-High                           2281      12             1  \n",
       "InstantMessage-Low                            1475       7             0  \n",
       "Map                                            283       0             0  \n",
       "News                                          2559      14             0  \n",
       "No_ignificant_preference                     36629       2             0  \n",
       "Portal                                        4300    4214             5  \n",
       "Social-media                                  3988      42          4612  "
      ]
     },
     "execution_count": 106,
     "metadata": {},
     "output_type": "execute_result"
    }
   ],
   "source": [
    "cnf_pd"
   ]
  },
  {
   "cell_type": "code",
   "execution_count": 107,
   "metadata": {},
   "outputs": [
    {
     "data": {
      "text/plain": [
       "True"
      ]
     },
     "execution_count": 107,
     "metadata": {},
     "output_type": "execute_result"
    }
   ],
   "source": [
    "md_info = clf_info.replace(\"\\n\", \"<br>\")\n",
    "with open(out_path + out_filename + 'readme.md', 'w+') as f:\n",
    "     f.write(md_info)\n",
    "f.closed"
   ]
  },
  {
   "cell_type": "code",
   "execution_count": null,
   "metadata": {
    "collapsed": true
   },
   "outputs": [],
   "source": [
    "from winsound import Beep\n",
    "Beep(440, 500) \n",
    "Beep(440, 500) \n",
    "Beep(440, 500) \n",
    "Beep(349, 350) \n",
    "Beep(523, 150) \n",
    "Beep(440, 500) \n",
    "Beep(349, 350) \n",
    "Beep(523, 150) \n",
    "Beep(440, 1000) \n",
    "Beep(659, 500) \n",
    "Beep(659, 500) \n",
    "Beep(659, 500) \n",
    "Beep(698, 350) \n",
    "Beep(523, 150) \n",
    "Beep(415, 500) \n",
    "Beep(349, 350) \n",
    "Beep(523, 150) \n",
    "Beep(440, 1000)"
   ]
  },
  {
   "cell_type": "code",
   "execution_count": 108,
   "metadata": {},
   "outputs": [
    {
     "data": {
      "image/png": "[encoded data removed]",
      "text/plain": [
       "<matplotlib.figure.Figure at 0x1e1c34dce80>"
      ]
     },
     "metadata": {},
     "output_type": "display_data"
    }
   ],
   "source": [
    "plt.plot(clf.feature_importances_, 'o')  \n",
    "# for i in \n",
    "plt.xticks(range(train_x.shape[1]), train_df.columns[:-1], rotation=90)  \n",
    "plt.ylim(0, 1)  \n",
    "plt.show()  "
   ]
  },
  {
   "cell_type": "markdown",
   "metadata": {
    "collapsed": true
   },
   "source": [
    "# Check feature importances accurancy"
   ]
  },
  {
   "cell_type": "code",
   "execution_count": 197,
   "metadata": {},
   "outputs": [],
   "source": [
    "feature_cols = []\n",
    "limit_importances = 5\n",
    "for idx, feature in enumerate(important_list):\n",
    "    if(idx == limit_importances):\n",
    "        break\n",
    "\n",
    "    #     print(feature[0])\n",
    "    feature_cols.append(feature[0])\n",
    "feature_cols.append(\"Groups\")"
   ]
  },
  {
   "cell_type": "code",
   "execution_count": 198,
   "metadata": {},
   "outputs": [
    {
     "data": {
      "text/plain": [
       "['DATA_RATING_USAGE_MB',\n",
       " 'IMEI_MFG_NAME',\n",
       " 'NET_INV_AMT',\n",
       " 'TENURE_SCV',\n",
       " 'MT_TTL_DURATION',\n",
       " 'Groups']"
      ]
     },
     "execution_count": 198,
     "metadata": {},
     "output_type": "execute_result"
    }
   ],
   "source": [
    "feature_cols"
   ]
  },
  {
   "cell_type": "code",
   "execution_count": 199,
   "metadata": {},
   "outputs": [],
   "source": [
    "feature_train_x = train_df[feature_cols].iloc[:, 0:-1].values\n",
    "feature_test_x = test_df[feature_cols].iloc[:, 0:-1].values"
   ]
  },
  {
   "cell_type": "code",
   "execution_count": 200,
   "metadata": {
    "collapsed": true
   },
   "outputs": [],
   "source": [
    "gs_feature = GridSearchCV(estimator=rf, param_grid=param_grid, scoring='accuracy', cv=5, n_jobs=-1)\n",
    "grid_feature_clf = gs_feature.fit(feature_train_x, train_numeric_y)"
   ]
  },
  {
   "cell_type": "code",
   "execution_count": 201,
   "metadata": {},
   "outputs": [
    {
     "ename": "SyntaxError",
     "evalue": "invalid syntax (<ipython-input-201-0f3f61482efd>, line 7)",
     "output_type": "error",
     "traceback": [
      "\u001b[1;36m  File \u001b[1;32m\"<ipython-input-201-0f3f61482efd>\"\u001b[1;36m, line \u001b[1;32m7\u001b[0m\n\u001b[1;33m    print(clf_feature_info)\u001b[0m\n\u001b[1;37m        ^\u001b[0m\n\u001b[1;31mSyntaxError\u001b[0m\u001b[1;31m:\u001b[0m invalid syntax\n"
     ]
    }
   ],
   "source": [
    "clf_feature = grid_feature_clf.best_estimator_\n",
    "clf_feature_info = str((\"Accuracy on training set: %f\" % clf_feature.score(feature_train_x, train_numeric_y))) + '\\n'\n",
    "clf_feature_info += str((\"Accuracy on test set: %f\" % clf_feature.score(feature_test_x, test_numeric_y))) + '\\n'\n",
    "clf_feature_info += str(('fit time %s seconds' % format(time() - start_time))) + '\\n'\n",
    "clf_feature_info += str(('feature selection numbers = %s' % str(limit_importances) + '\\n'\n",
    "\n",
    "print(clf_feature_info)"
   ]
  },
  {
   "cell_type": "code",
   "execution_count": null,
   "metadata": {
    "collapsed": true
   },
   "outputs": [],
   "source": [
    "predict_feature_y = clf_feature.predict(feature_test_x)"
   ]
  },
  {
   "cell_type": "code",
   "execution_count": null,
   "metadata": {},
   "outputs": [],
   "source": [
    "cnf_matrix = confusion_matrix(test_numeric_y, predict_feature_y )\n",
    "cnf_matrix"
   ]
  },
  {
   "cell_type": "code",
   "execution_count": null,
   "metadata": {},
   "outputs": [],
   "source": [
    "group_encoder = []\n",
    "for idx, row in enumerate(cnf_matrix):\n",
    "#     success predict\n",
    "#     print(row[idx])\n",
    "    current_group = str(le.inverse_transform(idx))\n",
    "    group_encoder.append(current_group)\n",
    "#     current_group = groups[idx]\n",
    "\n",
    "    print(current_group)\n",
    "\n",
    "    idx_count_in_group = len(test_df[test_df[\"Groups\"] == current_group])\n",
    "    clf_feature_info +=  \"\\n\\n\" + str(\"class = %s count = [%s / %s]\" % (current_group, row[idx], idx_count_in_group))\n",
    "    clf_feature_info +=  \"\\n\\n\" + str(\"predict %s accurancy = %s\" % (current_group, row[idx] / idx_count_in_group))\n",
    "    print(\"class = %s count = [%s / %s]\" % (current_group,row[idx],str(idx_count_in_group)))\n",
    "    print(\"predict %s accurancy = %s\" % (current_group, row[idx] / idx_count_in_group))\n",
    "    print()"
   ]
  },
  {
   "cell_type": "code",
   "execution_count": null,
   "metadata": {
    "collapsed": true
   },
   "outputs": [],
   "source": [
    "cnf_pd = pd.DataFrame(cnf_matrix)\n",
    "cnf_pd.columns = group_encoder\n",
    "cnf_pd.index = group_encoder"
   ]
  },
  {
   "cell_type": "code",
   "execution_count": null,
   "metadata": {},
   "outputs": [],
   "source": [
    "cnf_pd"
   ]
  },
  {
   "cell_type": "code",
   "execution_count": null,
   "metadata": {
    "collapsed": true
   },
   "outputs": [],
   "source": [
    "from winsound import Beep\n",
    "Beep(440, 500) \n",
    "Beep(440, 500) \n",
    "Beep(440, 500) \n",
    "Beep(349, 350) \n",
    "Beep(523, 150) \n",
    "Beep(440, 500) \n",
    "Beep(349, 350) \n",
    "Beep(523, 150) \n",
    "Beep(440, 1000) \n",
    "Beep(659, 500) \n",
    "Beep(659, 500) \n",
    "Beep(659, 500) \n",
    "Beep(698, 350) \n",
    "Beep(523, 150) \n",
    "Beep(415, 500) \n",
    "Beep(349, 350) \n",
    "Beep(523, 150) \n",
    "Beep(440, 1000)"
   ]
  },
  {
   "cell_type": "code",
   "execution_count": null,
   "metadata": {},
   "outputs": [],
   "source": [
    "mail_info = clf_feature_info.replace(\"\\n\", \"<br>\")"
   ]
  },
  {
   "cell_type": "code",
   "execution_count": null,
   "metadata": {},
   "outputs": [],
   "source": [
    "mail_info"
   ]
  },
  {
   "cell_type": "code",
   "execution_count": null,
   "metadata": {},
   "outputs": [],
   "source": [
    "from mailerWithUtf8 import mail\n",
    "test=mail()\n",
    "test.main(\"clf_info finished\", mail_info)"
   ]
  },
  {
   "cell_type": "code",
   "execution_count": null,
   "metadata": {
    "collapsed": true
   },
   "outputs": [],
   "source": []
  }
 ],
 "metadata": {
  "kernelspec": {
   "display_name": "Python 3",
   "language": "python",
   "name": "python3"
  },
  "language_info": {
   "codemirror_mode": {
    "name": "ipython",
    "version": 3
   },
   "file_extension": ".py",
   "mimetype": "text/x-python",
   "name": "python",
   "nbconvert_exporter": "python",
   "pygments_lexer": "ipython3",
   "version": "3.5.3"
  }
 },
 "nbformat": 4,
 "nbformat_minor": 2
}
