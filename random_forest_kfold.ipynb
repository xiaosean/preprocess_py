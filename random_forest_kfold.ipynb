{
 "cells": [
  {
   "cell_type": "markdown",
   "metadata": {},
   "source": [
    "# Read & Clear Data"
   ]
  },
  {
   "cell_type": "code",
   "execution_count": 2,
   "metadata": {
    "collapsed": true
   },
   "outputs": [],
   "source": [
    "import numpy as np\n",
    "import pandas as pd\n",
    "# import feather \n",
    "import matplotlib.pyplot as plt  \n",
    "from time import time\n",
    "from mailerWithUtf8 import mail\n",
    "from sklearn.model_selection import GridSearchCV\n",
    "from sklearn.preprocessing import LabelEncoder\n",
    "from sklearn.ensemble import RandomForestClassifier\n",
    "from sklearn.model_selection import train_test_split  \n",
    "from sklearn.externals import joblib\n",
    "from sklearn import preprocessing\n",
    "from sklearn.metrics import confusion_matrix\n",
    "from sklearn.model_selection import cross_val_score\n",
    "from sklearn.model_selection import ShuffleSplit\n",
    "import os"
   ]
  },
  {
   "cell_type": "code",
   "execution_count": 3,
   "metadata": {
    "collapsed": true
   },
   "outputs": [],
   "source": [
    "def save_dataframe(df, out_filename):\n",
    "   # write to csv and no index\n",
    "    t0 = time()\n",
    "    df.to_csv(out_filename + \".csv\", index=False, encoding='utf-8')\n",
    "#     df.to_csv(out_filename + \".csv\", encoding='utf-8')\n",
    "    print(\"time for output csv file: %.2f\" % (time()-t0))"
   ]
  },
  {
   "cell_type": "code",
   "execution_count": 4,
   "metadata": {},
   "outputs": [
    {
     "name": "stdout",
     "output_type": "stream",
     "text": [
      "load csv %s seconds 51.90227675437927\n"
     ]
    }
   ],
   "source": [
    "start_time = time()\n",
    "path = \"C:/Users/VIPLAB/Desktop/preprocess_py/marketing_analyze/\"\n",
    "# filename = '0713_april_marketing_anylze_full_table_group12_select_max_min.feather' \n",
    "# filename = \"0725_april_marketing_anylze_select_294_table_group11_max_min_sample_adult_others_1.csv\"\n",
    "filename = \"0729_marketing_with_picked_group11_numeric_max_min.csv\"\n",
    "\n",
    "# train_df = feather.read_dataframe(path + filename)\n",
    "train_df = pd.read_csv(path + filename, error_bad_lines=False)\n",
    "\n",
    "print('load csv %s seconds', format(time() - start_time))"
   ]
  },
  {
   "cell_type": "code",
   "execution_count": 7,
   "metadata": {
    "collapsed": true
   },
   "outputs": [],
   "source": [
    "train_df = train_df[train_df['Groups'] != 'Infrequent_User']\n",
    "test_df = test_df[test_df['Groups'] != 'Infrequent_User']\n"
   ]
  },
  {
   "cell_type": "code",
   "execution_count": 8,
   "metadata": {
    "collapsed": true
   },
   "outputs": [],
   "source": [
    "# train_df = train_df[wants_col]\n",
    "# test_df = test_df[wants_col]"
   ]
  },
  {
   "cell_type": "code",
   "execution_count": 563,
   "metadata": {
    "collapsed": true
   },
   "outputs": [],
   "source": [
    "CLASSIFIER = \"RANDOM_FOREST\"\n",
    "CURRENT_MODE = \"all_294_no_infrequent\"\n"
   ]
  },
  {
   "cell_type": "code",
   "execution_count": 564,
   "metadata": {
    "collapsed": true
   },
   "outputs": [],
   "source": [
    "groups = train_df[\"Groups\"].unique()"
   ]
  },
  {
   "cell_type": "code",
   "execution_count": 565,
   "metadata": {
    "collapsed": true
   },
   "outputs": [],
   "source": [
    "out_filename = CLASSIFIER + \"_\" + CURRENT_MODE + '_'"
   ]
  },
  {
   "cell_type": "code",
   "execution_count": 566,
   "metadata": {
    "collapsed": true
   },
   "outputs": [],
   "source": [
    "out_path = \"clf_random_forest_model_kFold/\" + CURRENT_MODE +\"/\"\n",
    "if not os.path.exists(out_path):\n",
    "    os.makedirs(out_path)"
   ]
  },
  {
   "cell_type": "code",
   "execution_count": null,
   "metadata": {
    "collapsed": true
   },
   "outputs": [],
   "source": []
  },
  {
   "cell_type": "code",
   "execution_count": null,
   "metadata": {
    "collapsed": true
   },
   "outputs": [],
   "source": []
  },
  {
   "cell_type": "code",
   "execution_count": 567,
   "metadata": {
    "collapsed": true
   },
   "outputs": [],
   "source": [
    "train_x, train_y = train_df.iloc[:, 0:-1].values, train_df.iloc[:, -1].values"
   ]
  },
  {
   "cell_type": "code",
   "execution_count": 568,
   "metadata": {
    "collapsed": true
   },
   "outputs": [],
   "source": [
    "test_x, test_y = test_df.iloc[:, 0:-1].values, test_df.iloc[:, -1].values"
   ]
  },
  {
   "cell_type": "markdown",
   "metadata": {},
   "source": [
    "# convert y to numeric# "
   ]
  },
  {
   "cell_type": "code",
   "execution_count": 569,
   "metadata": {
    "collapsed": true
   },
   "outputs": [],
   "source": [
    "le = preprocessing.LabelEncoder()\n",
    "le.fit(train_df[\"Groups\"].unique())\n",
    "train_numeric_y = le.transform(train_y)\n"
   ]
  },
  {
   "cell_type": "code",
   "execution_count": 570,
   "metadata": {
    "collapsed": true
   },
   "outputs": [],
   "source": [
    "test_numeric_y = le.transform(test_y) "
   ]
  },
  {
   "cell_type": "markdown",
   "metadata": {},
   "source": [
    "# build Random Forest Classifier\n"
   ]
  },
  {
   "cell_type": "code",
   "execution_count": 571,
   "metadata": {
    "collapsed": true
   },
   "outputs": [],
   "source": [
    "start_time = time()\n"
   ]
  },
  {
   "cell_type": "code",
   "execution_count": 572,
   "metadata": {
    "collapsed": true
   },
   "outputs": [],
   "source": [
    "rf = RandomForestClassifier(max_features='auto',\n",
    "                            oob_score=True,\n",
    "                            random_state=1,\n",
    "                            n_jobs=-1,\n",
    "                            n_estimators = 100)\n",
    "\n"
   ]
  },
  {
   "cell_type": "code",
   "execution_count": 573,
   "metadata": {
    "collapsed": true
   },
   "outputs": [],
   "source": [
    "param_grid = {\"criterion\" : [\"gini\"], \n",
    "              \"min_samples_leaf\" : [10], \n",
    "              \"min_samples_split\" : [2],\n",
    "#               \"max_depth\" : [10],\n",
    "              \"n_estimators\": [100]}"
   ]
  },
  {
   "cell_type": "code",
   "execution_count": 574,
   "metadata": {
    "collapsed": true
   },
   "outputs": [],
   "source": [
    "gs = GridSearchCV(estimator=rf, param_grid=param_grid, scoring='accuracy', cv=5, n_jobs=-1)\n",
    "grid_clf = gs.fit(train_x, train_numeric_y)"
   ]
  },
  {
   "cell_type": "code",
   "execution_count": 575,
   "metadata": {},
   "outputs": [
    {
     "data": {
      "text/plain": [
       "{'mean_fit_time': array([ 43.98299356]),\n",
       " 'mean_score_time': array([ 0.16564212]),\n",
       " 'mean_test_score': array([ 0.6739953]),\n",
       " 'mean_train_score': array([ 0.87486766]),\n",
       " 'param_criterion': masked_array(data = ['gini'],\n",
       "              mask = [False],\n",
       "        fill_value = ?),\n",
       " 'param_min_samples_leaf': masked_array(data = [10],\n",
       "              mask = [False],\n",
       "        fill_value = ?),\n",
       " 'param_min_samples_split': masked_array(data = [2],\n",
       "              mask = [False],\n",
       "        fill_value = ?),\n",
       " 'param_n_estimators': masked_array(data = [100],\n",
       "              mask = [False],\n",
       "        fill_value = ?),\n",
       " 'params': ({'criterion': 'gini',\n",
       "   'min_samples_leaf': 10,\n",
       "   'min_samples_split': 2,\n",
       "   'n_estimators': 100},),\n",
       " 'rank_test_score': array([1]),\n",
       " 'split0_test_score': array([ 0.67749954]),\n",
       " 'split0_train_score': array([ 0.87362328]),\n",
       " 'split1_test_score': array([ 0.71150394]),\n",
       " 'split1_train_score': array([ 0.87704277]),\n",
       " 'split2_test_score': array([ 0.71270082]),\n",
       " 'split2_train_score': array([ 0.88177278]),\n",
       " 'split3_test_score': array([ 0.64756249]),\n",
       " 'split3_train_score': array([ 0.87109285]),\n",
       " 'split4_test_score': array([ 0.62070712]),\n",
       " 'split4_train_score': array([ 0.87080662]),\n",
       " 'std_fit_time': array([ 0.54097248]),\n",
       " 'std_score_time': array([ 0.04026732]),\n",
       " 'std_test_score': array([ 0.03593185]),\n",
       " 'std_train_score': array([ 0.00411586])}"
      ]
     },
     "execution_count": 575,
     "metadata": {},
     "output_type": "execute_result"
    }
   ],
   "source": [
    "gs.cv_results_"
   ]
  },
  {
   "cell_type": "code",
   "execution_count": 576,
   "metadata": {
    "collapsed": true
   },
   "outputs": [],
   "source": [
    "clf = grid_clf.best_estimator_"
   ]
  },
  {
   "cell_type": "markdown",
   "metadata": {},
   "source": [
    "# saving classifier"
   ]
  },
  {
   "cell_type": "code",
   "execution_count": 577,
   "metadata": {
    "collapsed": true
   },
   "outputs": [],
   "source": [
    "# joblib.dump(clf, out_path + out_filename + 'CLF.pkl') \n",
    "# clf = joblib.load('filename.pkl') \n"
   ]
  },
  {
   "cell_type": "code",
   "execution_count": 578,
   "metadata": {},
   "outputs": [
    {
     "name": "stdout",
     "output_type": "stream",
     "text": [
      "Accuracy on training set: 0.873664\n",
      "fit time 63.787816286087036 seconds\n",
      "\n"
     ]
    }
   ],
   "source": [
    "clf_info = str((\"Accuracy on training set: %f\" % grid_clf.score(train_x, train_numeric_y))) + '\\n'\n",
    "# clf_info += str((\"Accuracy on test set: %f\" % clf.score(test_x, test_numeric_y))) + '\\n'\n",
    "clf_info += str(('fit time %s seconds' % format(time() - start_time))) + '\\n'\n",
    "print(clf_info)"
   ]
  },
  {
   "cell_type": "code",
   "execution_count": 579,
   "metadata": {
    "collapsed": true
   },
   "outputs": [],
   "source": [
    "# predict_y = clf.predict(test_x)"
   ]
  },
  {
   "cell_type": "code",
   "execution_count": 580,
   "metadata": {
    "collapsed": true
   },
   "outputs": [],
   "source": [
    "# predict_y "
   ]
  },
  {
   "cell_type": "code",
   "execution_count": 581,
   "metadata": {
    "collapsed": true
   },
   "outputs": [],
   "source": [
    "# test_numeric_y"
   ]
  },
  {
   "cell_type": "markdown",
   "metadata": {},
   "source": [
    "# get feature importances"
   ]
  },
  {
   "cell_type": "code",
   "execution_count": 582,
   "metadata": {
    "collapsed": true
   },
   "outputs": [],
   "source": [
    "important_dict = dict(zip(train_df.columns[:-1],clf.feature_importances_))"
   ]
  },
  {
   "cell_type": "code",
   "execution_count": 583,
   "metadata": {},
   "outputs": [
    {
     "data": {
      "text/plain": [
       "{'ACTV_CHANNEL_NAME': 0.0074861506092538718,\n",
       " 'ACTV_TYPE': 0.0015609035908949456,\n",
       " 'AGE': 0.0077521682150206205,\n",
       " 'AGENCY_AMT': 0.0029010338818132668,\n",
       " 'AGENCY_FLAG': 0.00082367159178643788,\n",
       " 'ANOTHER_ACTIVE_D': 2.2927984333288877e-06,\n",
       " 'ANOTHER_ACTIVE_VD': 7.3513510047195803e-05,\n",
       " 'APPLY_CURR_EBILL_SBILL_FLAG': 0.0014102344484005032,\n",
       " 'AUTOPAY_IND': 0.0010039748265157286,\n",
       " 'AVG_HS_USE_MONTH': 0.0,\n",
       " 'AVG_HS_USE_MONTH_EX_CURR': 0.0,\n",
       " 'BEST_DRP_DESC': 0.00058609397790209859,\n",
       " 'BEST_VRP_DESC': 0.0002327985303986753,\n",
       " 'BILL_CITY_NAME': 0.0054704897238107651,\n",
       " 'BILL_DISTRICT_NAME': 0.0092890615709019051,\n",
       " 'BL_CYCLE_DESC': 0.0042763408574427062,\n",
       " 'BONDING_FLAG': 0.0014262749312580348,\n",
       " 'BOOSTER_AMT': 4.2817537426205155e-06,\n",
       " 'CCI_CHG_DATE': 0.0,\n",
       " 'CHANNEL_CHURN_INDEX': 0.0001238971167121388,\n",
       " 'CHURN_CLM_IND': 0.00058194380567652302,\n",
       " 'CHURN_IND': 1.2753128600149037e-05,\n",
       " 'CHURN_INDEX': 9.1043629660691631e-05,\n",
       " 'CHURN_TYPE': 1.6208507731527867e-05,\n",
       " 'CHURN_WELCOME_STAGE': 7.6272429150332557e-05,\n",
       " 'CURR_BILL_PLAN_NAME': 0.00057139233524452636,\n",
       " 'CURR_BILL_PLAN_START_DATE': 0.0,\n",
       " 'CURR_DATA_BILL_PLAN_END_DATE': 0.0,\n",
       " 'CURR_DATA_BILL_PLAN_NAME': 0.0021613712449702334,\n",
       " 'CURR_DATA_BILL_PLAN_START_DATE': 0.0,\n",
       " 'CURR_DEVICE_MAKER': 0.0079554499563128708,\n",
       " 'CURR_DEVICE_MODEL': 0.0080030027428525281,\n",
       " 'CURR_DEVICE_PRICE_TIER': 0.0032908055928746122,\n",
       " 'CURR_PROM_COMMIT_MONTHS': 0.0,\n",
       " 'CURR_PROM_CONTRACT_PERIOD': 0.00078372789522939193,\n",
       " 'CURR_PROM_TTL_CMF': 0.003459958405272771,\n",
       " 'CUST_TYPE': 0.00011080303766359684,\n",
       " 'CVS_PYMT_IND': 0.0014093296106480828,\n",
       " 'DATA_BOOSTER_CURR_APPLY_FLAG': 2.7984837663789352e-06,\n",
       " 'DATA_BOOSTER_CURR_FEATURE_NAME': 2.0511165893899232e-06,\n",
       " 'DATA_BOOSTER_CURR_START_DATE': 0.0,\n",
       " 'DATA_BOOSTER_EVER_USE_FLAG': 5.350122257144271e-05,\n",
       " 'DATA_INV_AMT': 0.0058532827802650613,\n",
       " 'DATA_MONTH': 0.0,\n",
       " 'DATA_MONTHLY_FEE': 0.0030968346490592908,\n",
       " 'DATA_RATING_USAGE_MB': 0.024823423283123813,\n",
       " 'DATA_RC_AMT': 0.0040597761620794516,\n",
       " 'DATA_USAGE_MB': 0.027767078780946437,\n",
       " 'DIRECT_STORE_PYMT_IND': 0.00039283851707645864,\n",
       " 'DISC_TYPE_AD_IND': 2.8798355665301871e-05,\n",
       " 'DISC_TYPE_AM_IND': 0.0,\n",
       " 'DISC_TYPE_AW_IND': 0.00028727990499130399,\n",
       " 'DISC_TYPE_DB_IND': 0.0009089763232952477,\n",
       " 'DISC_TYPE_DC_IND': 0.00108737361032677,\n",
       " 'DISC_TYPE_DM_IND': 0.0,\n",
       " 'DISC_TYPE_DO_IND': 0.00036754498495796803,\n",
       " 'DISC_TYPE_DP_IND': 0.0014704124808011063,\n",
       " 'DISC_TYPE_DR_IND': 0.00071397345418957106,\n",
       " 'DISC_TYPE_DS_IND': 0.00061847738543188246,\n",
       " 'DISC_TYPE_DU_IND': 2.1845750770227487e-06,\n",
       " 'DORMANT_MONTH_CNT_MKT': 0.0,\n",
       " 'DUM_PROM_CODE': 0.00048739682109998192,\n",
       " 'EVER_PSTN_FEATURE_END_DATE': 0.0,\n",
       " 'EVER_PSTN_FEATURE_FLAG': 7.8367755377713257e-06,\n",
       " 'EVER_PSTN_FEATURE_NAME': 1.1099419600671603e-05,\n",
       " 'EVER_PSTN_FEATURE_START_DATE': 0.0,\n",
       " 'EVER_PSTN_MONTH_APPLY_CANCEL_FLAG': 0.0,\n",
       " 'FETNET_IND': 0.00058404108589409087,\n",
       " 'FLAT_RATE_3G_IND': 0.00033269579875319275,\n",
       " 'FLAT_RATE_4G_IND': 0.00059211086037604392,\n",
       " 'GA_DATE': 0.0,\n",
       " 'GA_IND': 0.0,\n",
       " 'GENDER_CODE': 0.065040098707832325,\n",
       " 'GOOGLE_PLAY_IND': 0.00067715502044779236,\n",
       " 'GPRS_AMT': 2.9240593617854072e-05,\n",
       " 'GPRS_CAP_IND': 0.0,\n",
       " 'HAPPYGO_IND': 0.0059010606902131701,\n",
       " 'HG_SEGMENT': 0.0024458881549557889,\n",
       " 'HS_CHG_CNT': 0.0021707434729746479,\n",
       " 'HS_LEASE_CONTR_END_DATE': 0.0,\n",
       " 'HS_LEASE_CONTR_NAME': 0.0,\n",
       " 'HS_LEASE_CONTR_START_DATE': 0.0,\n",
       " 'HS_LEASE_FEATURE_END_DATE': 0.0,\n",
       " 'HS_LEASE_FEATURE_NAME': 0.00049870310183395541,\n",
       " 'HS_LEASE_FEATURE_START_DATE': 0.0,\n",
       " 'HS_USE_MONTH': 0.0,\n",
       " 'IDD_AMT': 4.8070605781137911e-05,\n",
       " 'IMEI_BAND': 0.0018990112732236324,\n",
       " 'IMEI_MFG_NAME': 0.02260504471109015,\n",
       " 'IMEI_MKT_NAME': 0.025795472683094553,\n",
       " 'IMEI_SMART_OS_FLAG': 0.025779829536125513,\n",
       " 'IMEI_TYPE': 0.00042492845790874438,\n",
       " 'INACTV_DATE': 0.0,\n",
       " 'INT_ROAM_AMT': 8.459028666778638e-05,\n",
       " 'L1M_CHANNEL_CHURN_INDEX': 9.4556474989466752e-05,\n",
       " 'L1M_DATA_BILL_PLAN_NAME': 0.0023242590017930748,\n",
       " 'L1M_DATA_MONTHLY_FEE': 0.0039704612012745359,\n",
       " 'L1M_DATA_USAGE_MB': 0.019549569930392113,\n",
       " 'L1M_DEVICE_MAKER': 0.00369280442975289,\n",
       " 'L1M_DEVICE_MODEL': 0.0059659868634191014,\n",
       " 'L1M_DEVICE_PRICE_TIER': 0.0011602623942270128,\n",
       " 'L1M_DEVICE_TENURE': 0.0035808497013408908,\n",
       " 'L1M_DEVICE_TYPE': 0.001520504621287706,\n",
       " 'L1M_GPRS_AMT': 7.3251879859585149e-06,\n",
       " 'L1M_NET_INV_AMT': 0.0067970482069526104,\n",
       " 'L1M_PROM_CODE': 0.0060978298602530874,\n",
       " 'L1M_PROM_COMMIT_MONTHS': 0.0,\n",
       " 'L1M_PROM_CONTRACT_PERIOD': 0.00077348939833819341,\n",
       " 'L1M_PROM_TTL_CMF': 0.0033674480662809021,\n",
       " 'L1M_VOICE_MONTHLY_FEE': 0.0003902994630572227,\n",
       " 'L2M_DATA_USAGE_MB': 0.015594624851703992,\n",
       " 'L2M_DEVICE_MAKER': 0.0025805959530547039,\n",
       " 'L2M_DEVICE_MODEL': 0.0030972052444831056,\n",
       " 'L2M_DEVICE_PRICE_TIER': 0.00061899498163653084,\n",
       " 'L2M_DEVICE_TENURE': 0.0023053683088720823,\n",
       " 'L2M_DEVICE_TYPE': 0.00098118724548407069,\n",
       " 'L2M_GPRS_AMT': 2.6450095568500456e-05,\n",
       " 'L2M_NET_INV_AMT': 0.0073992900358818706,\n",
       " 'L3M_AVG_NET_INV_AMT': 0.0080555461596374407,\n",
       " 'L3M_AVG_SMS_INV_AMT': 0.0025078536547579961,\n",
       " 'L3M_AVG_VAS_MB': 0.025221150569171753,\n",
       " 'L3M_CVS_PYMT_IND': 0.00097790407229642355,\n",
       " 'L3M_DATA_USAGE_MB': 0.0181395463217735,\n",
       " 'L3M_DIRECT_STORE_PYMT_IND': 0.00010257865532597311,\n",
       " 'L3M_GPRS_AMT': 2.6390425806398482e-05,\n",
       " 'L3M_NET_INV_AMT': 0.007269752562960541,\n",
       " 'L3M_VIRTUAL_CHANNEL_PYMT_IND': 0.00030234054926691018,\n",
       " 'L6M_AVG_GPRS_AMT': 0.00014803172126738498,\n",
       " 'L6M_AVG_NET_INV_AMT': 0.0075418961930168102,\n",
       " 'L6M_AVG_VAS_MB': 0.021174211438888185,\n",
       " 'LAST_CHANNEL_TYPE': 0.0025301698129808793,\n",
       " 'LIM_BILL_PLAN_NAME': 0.00076207738509339142,\n",
       " 'MDS_CURR_RENEW_CNT': 0.0023071553656928601,\n",
       " 'MDS_CURR_RENEW_TYPE': 0.0017973972236688316,\n",
       " 'MDS_ELIGIBLE_FLAG': 0.00049561992624952097,\n",
       " 'MKT_CHURN_DATE': 0.0,\n",
       " 'MOC_CHM_DUR': 0.006630703218826639,\n",
       " 'MOC_FET_DUR': 0.0058402164670945198,\n",
       " 'MOC_OTH_DUR': 0.0033425674520334088,\n",
       " 'MOC_PSTN_DUR': 0.006453524767196692,\n",
       " 'MOC_TWM_DUR': 0.0060469923725858053,\n",
       " 'MOST_MO_DUR': 0.007298405892743786,\n",
       " 'MOST_MO_OPERATOR': 0.0018499232576110079,\n",
       " 'MOST_MT_DUR': 0.008106927652095015,\n",
       " 'MOST_MT_OPERATOR': 0.0018324265284013269,\n",
       " 'MO_OFFNET_CNT': 0.0062985337200588531,\n",
       " 'MO_OFFNET_DUR': 0.0072244039319167511,\n",
       " 'MO_ONNET_CNT': 0.0045772656828450978,\n",
       " 'MO_ONNET_DUR': 0.0058896952309934782,\n",
       " 'MO_TTL_COUNT': 0.0064724055623452967,\n",
       " 'MO_TTL_DURATION': 0.0070882521739320612,\n",
       " 'MSISDN_LAST_NP_OUT_IND': 0.00029378871604754245,\n",
       " 'MTC_CHM_DUR': 0.0073845026573263646,\n",
       " 'MTC_FET_DUR': 0.0067966703170448074,\n",
       " 'MTC_PSTN_DUR': 0.0070071289839846894,\n",
       " 'MTC_TWM_DUR': 0.0063352848023893434,\n",
       " 'MT_OFFNET_CNT': 0.0062175812559944884,\n",
       " 'MT_OFFNET_DUR': 0.0077036432725210479,\n",
       " 'MT_ONNET_CNT': 0.0050880020858418487,\n",
       " 'MT_ONNET_DUR': 0.006995395662684342,\n",
       " 'MT_PSTN_CNT': 0.0041171074083427728,\n",
       " 'MT_PSTN_DUR': 0.007038533631959428,\n",
       " 'MT_STM_AMT': 0.0082637892591062648,\n",
       " 'MT_TTL_COUNT': 0.0073338781212440463,\n",
       " 'MT_TTL_DURATION': 0.008230169360729081,\n",
       " 'MULTI_SIM_EXCLUDE_WBB': 8.0037015994041303e-05,\n",
       " 'MULTI_SIM_INCLUDE_WBB': 0.00068478699050073628,\n",
       " 'NET_INV_AMT': 0.0070812361250184907,\n",
       " 'NP_IN_DATE': 0.0,\n",
       " 'NP_IN_IND': 0.00093744337045462969,\n",
       " 'NRC_AMT': 4.0991854592738793e-05,\n",
       " 'OFFNETM_AMT': 0.0011265297887317507,\n",
       " 'ONNET_AMT': 0.0003210368846020861,\n",
       " 'ORIG_OPR_ID': 0.0027658556583149869,\n",
       " 'OTH_SMS_MO_CNT': 0.0,\n",
       " 'P1M_MO_OFFNET_CNT': 0.0067816919688417996,\n",
       " 'P1M_MO_OFFNET_DUR': 0.0077170303505630896,\n",
       " 'P1M_MO_ONNET_CNT': 0.0046302687821863078,\n",
       " 'P1M_MO_ONNET_DUR': 0.0059071399836101782,\n",
       " 'P1M_MO_PSTN_CNT': 0.003896592794891345,\n",
       " 'P1M_MO_PSTN_DUR': 0.0064573912744704583,\n",
       " 'P2P_SMS_MO_CNT': 0.001100158763658615,\n",
       " 'P2P_SMS_MO_INT_CNT': 3.9306843594968924e-06,\n",
       " 'P2P_SMS_MO_OFFNET_CNT': 0.0007276172282648524,\n",
       " 'P2P_SMS_MO_ONNET_CNT': 0.0003565775769730903,\n",
       " 'P3M_AVG_DATA_USAGE_MB': 0.027397049671188275,\n",
       " 'P3M_MO_OFFNET_CNT': 0.0073793399785626193,\n",
       " 'P3M_MO_OFFNET_DUR': 0.0082861508536834078,\n",
       " 'P3M_MO_ONNET_CNT': 0.0053428159403747198,\n",
       " 'P3M_MO_ONNET_DUR': 0.0077344538629636368,\n",
       " 'P3M_MO_PSTN_CNT': 0.0043489705360659206,\n",
       " 'P3M_MO_PSTN_DUR': 0.008170128099015463,\n",
       " 'P6M_AVG_DATA_USAGE_MB': 0.026149032867310837,\n",
       " 'P6M_AVG_NET_INV_AMT': 0.0073500610627564578,\n",
       " 'P6M_MO_OFFNET_CNT': 0.0072959387994655589,\n",
       " 'P6M_MO_OFFNET_DUR': 0.0085629549585978289,\n",
       " 'P6M_MO_ONNET_CNT': 0.005591874394350339,\n",
       " 'P6M_MO_ONNET_DUR': 0.0079151411285463234,\n",
       " 'P6M_MO_PSTN_CNT': 0.0044860032278746685,\n",
       " 'P6M_MO_PSTN_DUR': 0.008211680499972002,\n",
       " 'PAY_PENALTY_AMT': 0.00064682605266798724,\n",
       " 'PAY_PENALTY_DATE': 0.0,\n",
       " 'PAY_PENALTY_FLAG': 3.0518005659414161e-06,\n",
       " 'PRE_DATA_BILL_PLAN_END_DATE': 0.0,\n",
       " 'PRE_DATA_BILL_PLAN_ID': 0.0025620064797929661,\n",
       " 'PRE_DATA_BILL_PLAN_NAME': 0.0025938426533859173,\n",
       " 'PRE_DATA_BILL_PLAN_START_DATE': 0.0,\n",
       " 'PROM_ACTV_PROM_CATG': 0.0014040522359547599,\n",
       " 'PROM_ACTV_PROM_CODE': 0.0069374669163479539,\n",
       " 'PROM_ACTV_PROM_SUB_TYPE': 0.0050028877048906087,\n",
       " 'PROM_ACTV_PROM_TYPE': 0.0035343617997062415,\n",
       " 'PROM_BUNDLE_DRP': 0.0022320452919190555,\n",
       " 'PROM_BUNDLE_VRP': 0.0010450685100127262,\n",
       " 'PROM_CURR_APPLY_DATE': 0.0,\n",
       " 'PROM_CURR_CONTR_EXP_DATE': 0.0,\n",
       " 'PROM_CURR_END_DATE': 0.0,\n",
       " 'PROM_CURR_EXP_MONTH_CNT': 0.0,\n",
       " 'PROM_CURR_PROMOTION_SUB_TYPE': 0.00489540566697832,\n",
       " 'PROM_CURR_PROMOTION_TYPE': 0.0040316713073422468,\n",
       " 'PROM_CURR_PROM_CODE': 0.0064811424339957227,\n",
       " 'PROM_CURR_START_DATE': 0.0,\n",
       " 'PROM_CURR_SYS_MODEL_IND': 0.00020094586139324946,\n",
       " 'PROM_DEVICE_BRAND': 0.0047571470850781292,\n",
       " 'PROM_DEVICE_MODEL': 0.0074543754849202316,\n",
       " 'PROM_DEVICE_OS': 0.0045034932688163146,\n",
       " 'PROM_DEVICE_TYPE': 0.00044124082484452598,\n",
       " 'PROM_FLAT_RATE_4G_IND': 0.00079704339956541406,\n",
       " 'PSTN_AMT': 0.0066911204612041955,\n",
       " 'PSTN_CNT': 0.0039908272328152191,\n",
       " 'PSTN_DUR': 0.0062955500043847404,\n",
       " 'PTY_CBU_EBU_PO_CNT': 0.00014556870266444001,\n",
       " 'PTY_CBU_PO_CNT': 0.0,\n",
       " 'PTY_CBU_PO_D_CNT': 4.8596609769236216e-05,\n",
       " 'PTY_CBU_PO_VD_CNT': 8.8911309356862206e-05,\n",
       " 'PTY_CBU_PO_V_CNT': 0.0,\n",
       " 'PTY_EBU_PO_CNT': 0.00012445600687953465,\n",
       " 'PTY_EVER_PO_CNT': 0.0033586844287755799,\n",
       " 'PTY_EVER_PP_CNT': 0.0019412660544122823,\n",
       " 'PTY_NP_IN_IND': 0.00091644375234400542,\n",
       " 'PTY_NP_OUT_IND': 0.00061908831951864533,\n",
       " 'PTY_PO_ALL_CNT': 0.0001418854290812171,\n",
       " 'RENEW_APPLY_DATE': 0.0,\n",
       " 'RENEW_IND': 1.4095834583960805e-05,\n",
       " 'RETAIL_STORE_CHURN_DEPUTY_FALG': 6.0745533563150048e-06,\n",
       " 'RETAIL_STORE_CHURN_FLAG': 6.842122257476062e-06,\n",
       " 'RETAIL_STORE_CHURN_SRV_DATE': 0.0,\n",
       " 'RETAIL_STORE_CHURN_STOP_REASON': 4.5810948065512898e-06,\n",
       " 'RPS_NAME': 3.2056429967730947e-05,\n",
       " 'SEGMENT_NAME': 0.0024031322728837326,\n",
       " 'SELFCARE_IND': 0.00076328877799616531,\n",
       " 'SERVICE_APPLY_MOVIE_FLAG': 0.0,\n",
       " 'SERVICE_APPLY_OMUSIC_FLAG': 0.0,\n",
       " 'SERVICE_APPLY_READING_FLAG': 0.0,\n",
       " 'SERVICE_STATUS_MOVIE_FLAG': 0.00024430107526097989,\n",
       " 'SERVICE_STATUS_OMUSIC_FLAG': 0.0,\n",
       " 'SERVICE_STATUS_READING_FLAG': 0.0,\n",
       " 'SHIPMENT_CHANNEL_ID': 0.0015322382441272653,\n",
       " 'SHIPMENT_CHANNEL_NAME': 0.0077336362014804117,\n",
       " 'SMS2AP_SMS_MO_CNT': 0.0,\n",
       " 'SMS2P_SMS_MO_CNT': 0.0010293750154973247,\n",
       " 'SMS30_FLAG': 5.41233862476032e-05,\n",
       " 'SMS_INV_AMT': 0.0010144109183973702,\n",
       " 'SMS_MO_FET_CNT': 0.00035112746515776486,\n",
       " 'SMS_MO_INT_CNT': 0.0,\n",
       " 'SMS_MO_OFFNET_CNT': 0.00062890295770182635,\n",
       " 'SMS_PROM_IND': 0.00099485566931252901,\n",
       " 'SPAUTH_IND': 9.2856374083411322e-05,\n",
       " 'SRV_TYPE_DESC': 0.00036366305962207108,\n",
       " 'STORE_TYPE': 0.0049435453093517193,\n",
       " 'SUBSCR_STATUS_CODE': 5.779134093012034e-06,\n",
       " 'SUSPEND_IND': 1.2483735823560507e-05,\n",
       " 'TARGET_OPR_ID': 8.8714882661685317e-06,\n",
       " 'TEMP_INACTV_DATE': 0.0,\n",
       " 'TENURE_SCV': 0.0094517544119381118,\n",
       " 'TOTAL_MONTHLY_FEE': 0.0032698352675340735,\n",
       " 'VAS_AMT': 8.6924466259634021e-05,\n",
       " 'VIP_BEFORE_EXP_MONTH': 0.0,\n",
       " 'VIP_EXPIRY_DATE': 0.0,\n",
       " 'VIP_GRADE': 6.1029861084611181e-05,\n",
       " 'VIP_MSISDN_CHG_IND': 0.0,\n",
       " 'VIP_REDEEM_IND': 3.763102851711048e-05,\n",
       " 'VIP_TENURE': 0.00017222248657889513,\n",
       " 'VIRTUAL_CHANNEL_PYMT_IND': 0.00079544209413219579,\n",
       " 'VOICE_INV_AMT': 0.0070136606474579801,\n",
       " 'VOICE_MONTHLY_FEE': 0.00031625154679609883,\n",
       " 'VOICE_RC_AMT': 0.002929632420013515,\n",
       " 'W2P_SMS_MO_CNT': 0.0,\n",
       " 'W2P_SMS_MO_INT_CNT': 0.0,\n",
       " 'W2P_SMS_MO_OFFNET_CNT': 0.0,\n",
       " 'W2P_SMS_MO_ONNET_CNT': 0.0,\n",
       " 'ZONE_ACTIVATION_IVR': 0.0016540098453020895,\n",
       " 'ZONE_ACTV_IVR_COUNTRY': 0.0032705588087939873,\n",
       " 'ZONE_ACTV_IVR_REGION': 0.0050637985439301618}"
      ]
     },
     "execution_count": 583,
     "metadata": {},
     "output_type": "execute_result"
    }
   ],
   "source": [
    "important_dict"
   ]
  },
  {
   "cell_type": "code",
   "execution_count": 584,
   "metadata": {
    "collapsed": true
   },
   "outputs": [],
   "source": [
    "important_list = sorted(important_dict.items(), key=lambda x: x[1])"
   ]
  },
  {
   "cell_type": "code",
   "execution_count": 585,
   "metadata": {
    "collapsed": true
   },
   "outputs": [],
   "source": [
    "important_list.reverse()"
   ]
  },
  {
   "cell_type": "code",
   "execution_count": 586,
   "metadata": {},
   "outputs": [
    {
     "name": "stdout",
     "output_type": "stream",
     "text": [
      "('GENDER_CODE', 0.065040098707832325)\n",
      "('DATA_USAGE_MB', 0.027767078780946437)\n",
      "('P3M_AVG_DATA_USAGE_MB', 0.027397049671188275)\n",
      "('P6M_AVG_DATA_USAGE_MB', 0.026149032867310837)\n",
      "('IMEI_MKT_NAME', 0.025795472683094553)\n",
      "('IMEI_SMART_OS_FLAG', 0.025779829536125513)\n",
      "('L3M_AVG_VAS_MB', 0.025221150569171753)\n",
      "('DATA_RATING_USAGE_MB', 0.024823423283123813)\n",
      "('IMEI_MFG_NAME', 0.02260504471109015)\n",
      "('L6M_AVG_VAS_MB', 0.021174211438888185)\n",
      "('L1M_DATA_USAGE_MB', 0.019549569930392113)\n",
      "('L3M_DATA_USAGE_MB', 0.0181395463217735)\n",
      "('L2M_DATA_USAGE_MB', 0.015594624851703992)\n",
      "('TENURE_SCV', 0.0094517544119381118)\n",
      "('BILL_DISTRICT_NAME', 0.0092890615709019051)\n",
      "('P6M_MO_OFFNET_DUR', 0.0085629549585978289)\n",
      "('P3M_MO_OFFNET_DUR', 0.0082861508536834078)\n",
      "('MT_STM_AMT', 0.0082637892591062648)\n",
      "('MT_TTL_DURATION', 0.008230169360729081)\n",
      "('P6M_MO_PSTN_DUR', 0.008211680499972002)\n",
      "('P3M_MO_PSTN_DUR', 0.008170128099015463)\n",
      "('MOST_MT_DUR', 0.008106927652095015)\n",
      "('L3M_AVG_NET_INV_AMT', 0.0080555461596374407)\n",
      "('CURR_DEVICE_MODEL', 0.0080030027428525281)\n",
      "('CURR_DEVICE_MAKER', 0.0079554499563128708)\n",
      "('P6M_MO_ONNET_DUR', 0.0079151411285463234)\n",
      "('AGE', 0.0077521682150206205)\n",
      "('P3M_MO_ONNET_DUR', 0.0077344538629636368)\n",
      "('SHIPMENT_CHANNEL_NAME', 0.0077336362014804117)\n",
      "('P1M_MO_OFFNET_DUR', 0.0077170303505630896)\n",
      "('MT_OFFNET_DUR', 0.0077036432725210479)\n",
      "('L6M_AVG_NET_INV_AMT', 0.0075418961930168102)\n",
      "('ACTV_CHANNEL_NAME', 0.0074861506092538718)\n",
      "('PROM_DEVICE_MODEL', 0.0074543754849202316)\n",
      "('L2M_NET_INV_AMT', 0.0073992900358818706)\n",
      "('MTC_CHM_DUR', 0.0073845026573263646)\n",
      "('P3M_MO_OFFNET_CNT', 0.0073793399785626193)\n",
      "('P6M_AVG_NET_INV_AMT', 0.0073500610627564578)\n",
      "('MT_TTL_COUNT', 0.0073338781212440463)\n",
      "('MOST_MO_DUR', 0.007298405892743786)\n",
      "('P6M_MO_OFFNET_CNT', 0.0072959387994655589)\n",
      "('L3M_NET_INV_AMT', 0.007269752562960541)\n",
      "('MO_OFFNET_DUR', 0.0072244039319167511)\n",
      "('MO_TTL_DURATION', 0.0070882521739320612)\n",
      "('NET_INV_AMT', 0.0070812361250184907)\n",
      "('MT_PSTN_DUR', 0.007038533631959428)\n",
      "('VOICE_INV_AMT', 0.0070136606474579801)\n",
      "('MTC_PSTN_DUR', 0.0070071289839846894)\n",
      "('MT_ONNET_DUR', 0.006995395662684342)\n",
      "('PROM_ACTV_PROM_CODE', 0.0069374669163479539)\n",
      "('L1M_NET_INV_AMT', 0.0067970482069526104)\n",
      "('MTC_FET_DUR', 0.0067966703170448074)\n",
      "('P1M_MO_OFFNET_CNT', 0.0067816919688417996)\n",
      "('PSTN_AMT', 0.0066911204612041955)\n",
      "('MOC_CHM_DUR', 0.006630703218826639)\n",
      "('PROM_CURR_PROM_CODE', 0.0064811424339957227)\n",
      "('MO_TTL_COUNT', 0.0064724055623452967)\n",
      "('P1M_MO_PSTN_DUR', 0.0064573912744704583)\n",
      "('MOC_PSTN_DUR', 0.006453524767196692)\n",
      "('MTC_TWM_DUR', 0.0063352848023893434)\n",
      "('MO_OFFNET_CNT', 0.0062985337200588531)\n",
      "('PSTN_DUR', 0.0062955500043847404)\n",
      "('MT_OFFNET_CNT', 0.0062175812559944884)\n",
      "('L1M_PROM_CODE', 0.0060978298602530874)\n",
      "('MOC_TWM_DUR', 0.0060469923725858053)\n",
      "('L1M_DEVICE_MODEL', 0.0059659868634191014)\n",
      "('P1M_MO_ONNET_DUR', 0.0059071399836101782)\n",
      "('HAPPYGO_IND', 0.0059010606902131701)\n",
      "('MO_ONNET_DUR', 0.0058896952309934782)\n",
      "('DATA_INV_AMT', 0.0058532827802650613)\n",
      "('MOC_FET_DUR', 0.0058402164670945198)\n",
      "('P6M_MO_ONNET_CNT', 0.005591874394350339)\n",
      "('BILL_CITY_NAME', 0.0054704897238107651)\n",
      "('P3M_MO_ONNET_CNT', 0.0053428159403747198)\n",
      "('MT_ONNET_CNT', 0.0050880020858418487)\n",
      "('ZONE_ACTV_IVR_REGION', 0.0050637985439301618)\n",
      "('PROM_ACTV_PROM_SUB_TYPE', 0.0050028877048906087)\n",
      "('STORE_TYPE', 0.0049435453093517193)\n",
      "('PROM_CURR_PROMOTION_SUB_TYPE', 0.00489540566697832)\n",
      "('PROM_DEVICE_BRAND', 0.0047571470850781292)\n",
      "('P1M_MO_ONNET_CNT', 0.0046302687821863078)\n",
      "('MO_ONNET_CNT', 0.0045772656828450978)\n",
      "('PROM_DEVICE_OS', 0.0045034932688163146)\n",
      "('P6M_MO_PSTN_CNT', 0.0044860032278746685)\n",
      "('P3M_MO_PSTN_CNT', 0.0043489705360659206)\n",
      "('BL_CYCLE_DESC', 0.0042763408574427062)\n",
      "('MT_PSTN_CNT', 0.0041171074083427728)\n",
      "('DATA_RC_AMT', 0.0040597761620794516)\n",
      "('PROM_CURR_PROMOTION_TYPE', 0.0040316713073422468)\n",
      "('PSTN_CNT', 0.0039908272328152191)\n",
      "('L1M_DATA_MONTHLY_FEE', 0.0039704612012745359)\n",
      "('P1M_MO_PSTN_CNT', 0.003896592794891345)\n",
      "('L1M_DEVICE_MAKER', 0.00369280442975289)\n",
      "('L1M_DEVICE_TENURE', 0.0035808497013408908)\n",
      "('PROM_ACTV_PROM_TYPE', 0.0035343617997062415)\n",
      "('CURR_PROM_TTL_CMF', 0.003459958405272771)\n",
      "('L1M_PROM_TTL_CMF', 0.0033674480662809021)\n",
      "('PTY_EVER_PO_CNT', 0.0033586844287755799)\n",
      "('MOC_OTH_DUR', 0.0033425674520334088)\n",
      "('CURR_DEVICE_PRICE_TIER', 0.0032908055928746122)\n",
      "('ZONE_ACTV_IVR_COUNTRY', 0.0032705588087939873)\n",
      "('TOTAL_MONTHLY_FEE', 0.0032698352675340735)\n",
      "('L2M_DEVICE_MODEL', 0.0030972052444831056)\n",
      "('DATA_MONTHLY_FEE', 0.0030968346490592908)\n",
      "('VOICE_RC_AMT', 0.002929632420013515)\n",
      "('AGENCY_AMT', 0.0029010338818132668)\n",
      "('ORIG_OPR_ID', 0.0027658556583149869)\n",
      "('PRE_DATA_BILL_PLAN_NAME', 0.0025938426533859173)\n",
      "('L2M_DEVICE_MAKER', 0.0025805959530547039)\n",
      "('PRE_DATA_BILL_PLAN_ID', 0.0025620064797929661)\n",
      "('LAST_CHANNEL_TYPE', 0.0025301698129808793)\n",
      "('L3M_AVG_SMS_INV_AMT', 0.0025078536547579961)\n",
      "('HG_SEGMENT', 0.0024458881549557889)\n",
      "('SEGMENT_NAME', 0.0024031322728837326)\n",
      "('L1M_DATA_BILL_PLAN_NAME', 0.0023242590017930748)\n",
      "('MDS_CURR_RENEW_CNT', 0.0023071553656928601)\n",
      "('L2M_DEVICE_TENURE', 0.0023053683088720823)\n",
      "('PROM_BUNDLE_DRP', 0.0022320452919190555)\n",
      "('HS_CHG_CNT', 0.0021707434729746479)\n",
      "('CURR_DATA_BILL_PLAN_NAME', 0.0021613712449702334)\n",
      "('PTY_EVER_PP_CNT', 0.0019412660544122823)\n",
      "('IMEI_BAND', 0.0018990112732236324)\n",
      "('MOST_MO_OPERATOR', 0.0018499232576110079)\n",
      "('MOST_MT_OPERATOR', 0.0018324265284013269)\n",
      "('MDS_CURR_RENEW_TYPE', 0.0017973972236688316)\n",
      "('ZONE_ACTIVATION_IVR', 0.0016540098453020895)\n",
      "('ACTV_TYPE', 0.0015609035908949456)\n",
      "('SHIPMENT_CHANNEL_ID', 0.0015322382441272653)\n",
      "('L1M_DEVICE_TYPE', 0.001520504621287706)\n",
      "('DISC_TYPE_DP_IND', 0.0014704124808011063)\n",
      "('BONDING_FLAG', 0.0014262749312580348)\n",
      "('APPLY_CURR_EBILL_SBILL_FLAG', 0.0014102344484005032)\n",
      "('CVS_PYMT_IND', 0.0014093296106480828)\n",
      "('PROM_ACTV_PROM_CATG', 0.0014040522359547599)\n",
      "('L1M_DEVICE_PRICE_TIER', 0.0011602623942270128)\n",
      "('OFFNETM_AMT', 0.0011265297887317507)\n",
      "('P2P_SMS_MO_CNT', 0.001100158763658615)\n",
      "('DISC_TYPE_DC_IND', 0.00108737361032677)\n",
      "('PROM_BUNDLE_VRP', 0.0010450685100127262)\n",
      "('SMS2P_SMS_MO_CNT', 0.0010293750154973247)\n",
      "('SMS_INV_AMT', 0.0010144109183973702)\n",
      "('AUTOPAY_IND', 0.0010039748265157286)\n",
      "('SMS_PROM_IND', 0.00099485566931252901)\n",
      "('L2M_DEVICE_TYPE', 0.00098118724548407069)\n",
      "('L3M_CVS_PYMT_IND', 0.00097790407229642355)\n",
      "('NP_IN_IND', 0.00093744337045462969)\n",
      "('PTY_NP_IN_IND', 0.00091644375234400542)\n",
      "('DISC_TYPE_DB_IND', 0.0009089763232952477)\n",
      "('AGENCY_FLAG', 0.00082367159178643788)\n",
      "('PROM_FLAT_RATE_4G_IND', 0.00079704339956541406)\n",
      "('VIRTUAL_CHANNEL_PYMT_IND', 0.00079544209413219579)\n",
      "('CURR_PROM_CONTRACT_PERIOD', 0.00078372789522939193)\n",
      "('L1M_PROM_CONTRACT_PERIOD', 0.00077348939833819341)\n",
      "('SELFCARE_IND', 0.00076328877799616531)\n",
      "('LIM_BILL_PLAN_NAME', 0.00076207738509339142)\n",
      "('P2P_SMS_MO_OFFNET_CNT', 0.0007276172282648524)\n",
      "('DISC_TYPE_DR_IND', 0.00071397345418957106)\n",
      "('MULTI_SIM_INCLUDE_WBB', 0.00068478699050073628)\n",
      "('GOOGLE_PLAY_IND', 0.00067715502044779236)\n",
      "('PAY_PENALTY_AMT', 0.00064682605266798724)\n",
      "('SMS_MO_OFFNET_CNT', 0.00062890295770182635)\n",
      "('PTY_NP_OUT_IND', 0.00061908831951864533)\n",
      "('L2M_DEVICE_PRICE_TIER', 0.00061899498163653084)\n",
      "('DISC_TYPE_DS_IND', 0.00061847738543188246)\n",
      "('FLAT_RATE_4G_IND', 0.00059211086037604392)\n",
      "('BEST_DRP_DESC', 0.00058609397790209859)\n",
      "('FETNET_IND', 0.00058404108589409087)\n",
      "('CHURN_CLM_IND', 0.00058194380567652302)\n",
      "('CURR_BILL_PLAN_NAME', 0.00057139233524452636)\n",
      "('HS_LEASE_FEATURE_NAME', 0.00049870310183395541)\n",
      "('MDS_ELIGIBLE_FLAG', 0.00049561992624952097)\n",
      "('DUM_PROM_CODE', 0.00048739682109998192)\n",
      "('PROM_DEVICE_TYPE', 0.00044124082484452598)\n",
      "('IMEI_TYPE', 0.00042492845790874438)\n",
      "('DIRECT_STORE_PYMT_IND', 0.00039283851707645864)\n",
      "('L1M_VOICE_MONTHLY_FEE', 0.0003902994630572227)\n",
      "('DISC_TYPE_DO_IND', 0.00036754498495796803)\n",
      "('SRV_TYPE_DESC', 0.00036366305962207108)\n",
      "('P2P_SMS_MO_ONNET_CNT', 0.0003565775769730903)\n",
      "('SMS_MO_FET_CNT', 0.00035112746515776486)\n",
      "('FLAT_RATE_3G_IND', 0.00033269579875319275)\n",
      "('ONNET_AMT', 0.0003210368846020861)\n",
      "('VOICE_MONTHLY_FEE', 0.00031625154679609883)\n",
      "('L3M_VIRTUAL_CHANNEL_PYMT_IND', 0.00030234054926691018)\n",
      "('MSISDN_LAST_NP_OUT_IND', 0.00029378871604754245)\n",
      "('DISC_TYPE_AW_IND', 0.00028727990499130399)\n",
      "('SERVICE_STATUS_MOVIE_FLAG', 0.00024430107526097989)\n",
      "('BEST_VRP_DESC', 0.0002327985303986753)\n",
      "('PROM_CURR_SYS_MODEL_IND', 0.00020094586139324946)\n",
      "('VIP_TENURE', 0.00017222248657889513)\n",
      "('L6M_AVG_GPRS_AMT', 0.00014803172126738498)\n",
      "('PTY_CBU_EBU_PO_CNT', 0.00014556870266444001)\n",
      "('PTY_PO_ALL_CNT', 0.0001418854290812171)\n",
      "('PTY_EBU_PO_CNT', 0.00012445600687953465)\n",
      "('CHANNEL_CHURN_INDEX', 0.0001238971167121388)\n",
      "('CUST_TYPE', 0.00011080303766359684)\n",
      "('L3M_DIRECT_STORE_PYMT_IND', 0.00010257865532597311)\n",
      "('L1M_CHANNEL_CHURN_INDEX', 9.4556474989466752e-05)\n",
      "('SPAUTH_IND', 9.2856374083411322e-05)\n",
      "('CHURN_INDEX', 9.1043629660691631e-05)\n",
      "('PTY_CBU_PO_VD_CNT', 8.8911309356862206e-05)\n",
      "('VAS_AMT', 8.6924466259634021e-05)\n",
      "('INT_ROAM_AMT', 8.459028666778638e-05)\n",
      "('MULTI_SIM_EXCLUDE_WBB', 8.0037015994041303e-05)\n",
      "('CHURN_WELCOME_STAGE', 7.6272429150332557e-05)\n",
      "('ANOTHER_ACTIVE_VD', 7.3513510047195803e-05)\n",
      "('VIP_GRADE', 6.1029861084611181e-05)\n",
      "('SMS30_FLAG', 5.41233862476032e-05)\n",
      "('DATA_BOOSTER_EVER_USE_FLAG', 5.350122257144271e-05)\n",
      "('PTY_CBU_PO_D_CNT', 4.8596609769236216e-05)\n",
      "('IDD_AMT', 4.8070605781137911e-05)\n",
      "('NRC_AMT', 4.0991854592738793e-05)\n",
      "('VIP_REDEEM_IND', 3.763102851711048e-05)\n",
      "('RPS_NAME', 3.2056429967730947e-05)\n",
      "('GPRS_AMT', 2.9240593617854072e-05)\n",
      "('DISC_TYPE_AD_IND', 2.8798355665301871e-05)\n",
      "('L2M_GPRS_AMT', 2.6450095568500456e-05)\n",
      "('L3M_GPRS_AMT', 2.6390425806398482e-05)\n",
      "('CHURN_TYPE', 1.6208507731527867e-05)\n",
      "('RENEW_IND', 1.4095834583960805e-05)\n",
      "('CHURN_IND', 1.2753128600149037e-05)\n",
      "('SUSPEND_IND', 1.2483735823560507e-05)\n",
      "('EVER_PSTN_FEATURE_NAME', 1.1099419600671603e-05)\n",
      "('TARGET_OPR_ID', 8.8714882661685317e-06)\n",
      "('EVER_PSTN_FEATURE_FLAG', 7.8367755377713257e-06)\n",
      "('L1M_GPRS_AMT', 7.3251879859585149e-06)\n",
      "('RETAIL_STORE_CHURN_FLAG', 6.842122257476062e-06)\n",
      "('RETAIL_STORE_CHURN_DEPUTY_FALG', 6.0745533563150048e-06)\n",
      "('SUBSCR_STATUS_CODE', 5.779134093012034e-06)\n",
      "('RETAIL_STORE_CHURN_STOP_REASON', 4.5810948065512898e-06)\n",
      "('BOOSTER_AMT', 4.2817537426205155e-06)\n",
      "('P2P_SMS_MO_INT_CNT', 3.9306843594968924e-06)\n",
      "('PAY_PENALTY_FLAG', 3.0518005659414161e-06)\n",
      "('DATA_BOOSTER_CURR_APPLY_FLAG', 2.7984837663789352e-06)\n",
      "('ANOTHER_ACTIVE_D', 2.2927984333288877e-06)\n",
      "('DISC_TYPE_DU_IND', 2.1845750770227487e-06)\n",
      "('DATA_BOOSTER_CURR_FEATURE_NAME', 2.0511165893899232e-06)\n",
      "('AVG_HS_USE_MONTH_EX_CURR', 0.0)\n",
      "('AVG_HS_USE_MONTH', 0.0)\n",
      "('HS_USE_MONTH', 0.0)\n",
      "('RETAIL_STORE_CHURN_SRV_DATE', 0.0)\n",
      "('PAY_PENALTY_DATE', 0.0)\n",
      "('VIP_MSISDN_CHG_IND', 0.0)\n",
      "('VIP_BEFORE_EXP_MONTH', 0.0)\n",
      "('VIP_EXPIRY_DATE', 0.0)\n",
      "('DISC_TYPE_DM_IND', 0.0)\n",
      "('DISC_TYPE_AM_IND', 0.0)\n",
      "('EVER_PSTN_MONTH_APPLY_CANCEL_FLAG', 0.0)\n",
      "('EVER_PSTN_FEATURE_END_DATE', 0.0)\n",
      "('EVER_PSTN_FEATURE_START_DATE', 0.0)\n",
      "('CURR_BILL_PLAN_START_DATE', 0.0)\n",
      "('DATA_BOOSTER_CURR_START_DATE', 0.0)\n",
      "('PRE_DATA_BILL_PLAN_END_DATE', 0.0)\n",
      "('PRE_DATA_BILL_PLAN_START_DATE', 0.0)\n",
      "('CURR_DATA_BILL_PLAN_END_DATE', 0.0)\n",
      "('CURR_DATA_BILL_PLAN_START_DATE', 0.0)\n",
      "('HS_LEASE_CONTR_END_DATE', 0.0)\n",
      "('HS_LEASE_CONTR_START_DATE', 0.0)\n",
      "('HS_LEASE_CONTR_NAME', 0.0)\n",
      "('HS_LEASE_FEATURE_END_DATE', 0.0)\n",
      "('HS_LEASE_FEATURE_START_DATE', 0.0)\n",
      "('SERVICE_STATUS_READING_FLAG', 0.0)\n",
      "('SERVICE_STATUS_OMUSIC_FLAG', 0.0)\n",
      "('SERVICE_APPLY_READING_FLAG', 0.0)\n",
      "('SERVICE_APPLY_OMUSIC_FLAG', 0.0)\n",
      "('SERVICE_APPLY_MOVIE_FLAG', 0.0)\n",
      "('SMS2AP_SMS_MO_CNT', 0.0)\n",
      "('W2P_SMS_MO_INT_CNT', 0.0)\n",
      "('SMS_MO_INT_CNT', 0.0)\n",
      "('W2P_SMS_MO_OFFNET_CNT', 0.0)\n",
      "('W2P_SMS_MO_ONNET_CNT', 0.0)\n",
      "('OTH_SMS_MO_CNT', 0.0)\n",
      "('W2P_SMS_MO_CNT', 0.0)\n",
      "('GPRS_CAP_IND', 0.0)\n",
      "('L1M_PROM_COMMIT_MONTHS', 0.0)\n",
      "('CURR_PROM_COMMIT_MONTHS', 0.0)\n",
      "('PROM_CURR_CONTR_EXP_DATE', 0.0)\n",
      "('PROM_CURR_END_DATE', 0.0)\n",
      "('PROM_CURR_START_DATE', 0.0)\n",
      "('PROM_CURR_APPLY_DATE', 0.0)\n",
      "('PROM_CURR_EXP_MONTH_CNT', 0.0)\n",
      "('RENEW_APPLY_DATE', 0.0)\n",
      "('PTY_CBU_PO_V_CNT', 0.0)\n",
      "('PTY_CBU_PO_CNT', 0.0)\n",
      "('NP_IN_DATE', 0.0)\n",
      "('CCI_CHG_DATE', 0.0)\n",
      "('DORMANT_MONTH_CNT_MKT', 0.0)\n",
      "('TEMP_INACTV_DATE', 0.0)\n",
      "('MKT_CHURN_DATE', 0.0)\n",
      "('INACTV_DATE', 0.0)\n",
      "('GA_DATE', 0.0)\n",
      "('GA_IND', 0.0)\n",
      "('DATA_MONTH', 0.0)\n"
     ]
    }
   ],
   "source": [
    "clf_info += '\\n\\nFeature Importances\\n===================\\n'\n",
    "for row in important_list:\n",
    "    clf_info += str(row) + \"\\n\"\n",
    "    print(str(row))"
   ]
  },
  {
   "cell_type": "code",
   "execution_count": 589,
   "metadata": {
    "collapsed": true
   },
   "outputs": [],
   "source": [
    "feature_df = pd.DataFrame(important_list, columns = [\"COLUMN\", \"IMPORTANT_VALUE\"])"
   ]
  },
  {
   "cell_type": "code",
   "execution_count": 590,
   "metadata": {},
   "outputs": [
    {
     "name": "stdout",
     "output_type": "stream",
     "text": [
      "time for output csv file: 0.00\n"
     ]
    }
   ],
   "source": [
    "t0 = time()\n",
    "feature_df.to_csv(out_path + out_filename + \"feature_important_descent.csv\", index=False)\n",
    "print(\"time for output csv file: %.2f\" % (time()-t0))"
   ]
  },
  {
   "cell_type": "code",
   "execution_count": 591,
   "metadata": {
    "collapsed": true
   },
   "outputs": [],
   "source": [
    "# cpy_dict = dict(important_list)\n",
    "# cpy_dict[\"Groups\"] = target_groups\n",
    "# feature_df = pd.DataFrame(cpy_dict, index = [0])"
   ]
  },
  {
   "cell_type": "code",
   "execution_count": 592,
   "metadata": {
    "collapsed": true
   },
   "outputs": [],
   "source": [
    "# cpy_dict = dict(important_list)\n",
    "# # cpy_dict[\"Groups\"] = target_groups\n",
    "# feature_df = pd.DataFrame(cpy_dict, index = [0])"
   ]
  },
  {
   "cell_type": "code",
   "execution_count": 593,
   "metadata": {
    "collapsed": true,
    "scrolled": true
   },
   "outputs": [],
   "source": [
    "# t0 = time()\n",
    "# feature_df.to_csv(out_path + out_filename + \"feature_important_one_row.csv\", index=False)\n",
    "# print(\"time for output csv file: %.2f\" % (time()-t0))"
   ]
  },
  {
   "cell_type": "code",
   "execution_count": 594,
   "metadata": {},
   "outputs": [
    {
     "data": {
      "text/plain": [
       "2"
      ]
     },
     "execution_count": 594,
     "metadata": {},
     "output_type": "execute_result"
    }
   ],
   "source": [
    "clf.n_classes_"
   ]
  },
  {
   "cell_type": "code",
   "execution_count": 595,
   "metadata": {},
   "outputs": [
    {
     "data": {
      "text/plain": [
       "1"
      ]
     },
     "execution_count": 595,
     "metadata": {},
     "output_type": "execute_result"
    }
   ],
   "source": [
    "clf.n_outputs_"
   ]
  },
  {
   "cell_type": "code",
   "execution_count": null,
   "metadata": {
    "collapsed": true
   },
   "outputs": [],
   "source": []
  },
  {
   "cell_type": "code",
   "execution_count": 596,
   "metadata": {
    "collapsed": true
   },
   "outputs": [],
   "source": [
    "predict_y = clf.predict(train_x)"
   ]
  },
  {
   "cell_type": "code",
   "execution_count": 597,
   "metadata": {},
   "outputs": [
    {
     "data": {
      "text/plain": [
       "array([[48390,  5919],\n",
       "       [ 7803, 46503]])"
      ]
     },
     "execution_count": 597,
     "metadata": {},
     "output_type": "execute_result"
    }
   ],
   "source": [
    "# cnf_matrix = confusion_matrix(test_numeric_y, predict_y )\n",
    "cnf_matrix = confusion_matrix(train_numeric_y, predict_y )\n",
    "cnf_matrix"
   ]
  },
  {
   "cell_type": "code",
   "execution_count": 598,
   "metadata": {},
   "outputs": [
    {
     "name": "stdout",
     "output_type": "stream",
     "text": [
      "Adult\n",
      "class = Adult count = [48390 / 54309]\n",
      "predict Adult accurancy = 0.891012539358\n",
      "\n",
      "Others\n",
      "class = Others count = [46503 / 54306]\n",
      "predict Others accurancy = 0.856314219423\n",
      "\n"
     ]
    }
   ],
   "source": [
    "group_encoder = []\n",
    "for idx, row in enumerate(cnf_matrix):\n",
    "#     success predict\n",
    "#     print(row[idx])\n",
    "    current_group = str(le.inverse_transform(idx))\n",
    "    group_encoder.append(current_group)\n",
    "#     current_group = groups[idx]\n",
    "\n",
    "    print(current_group)\n",
    "\n",
    "#     idx_count_in_group = len(test_df[test_df[\"Groups\"] == current_group])\n",
    "    idx_count_in_group = len(train_df[train_df[\"Groups\"] == current_group])\n",
    "\n",
    "    clf_info +=  \"\\n\\n\" + str(\"class = %s count = [%s / %s]\" % (current_group, row[idx], idx_count_in_group))\n",
    "    clf_info +=  \"\\n\\n\" + str(\"predict %s accurancy = %s\" % (current_group, row[idx] / idx_count_in_group))\n",
    "    print(\"class = %s count = [%s / %s]\" % (current_group,row[idx],str(idx_count_in_group)))\n",
    "    print(\"predict %s accurancy = %s\" % (current_group, row[idx] / idx_count_in_group))\n",
    "    print()"
   ]
  },
  {
   "cell_type": "code",
   "execution_count": null,
   "metadata": {
    "collapsed": true,
    "scrolled": true
   },
   "outputs": [],
   "source": []
  },
  {
   "cell_type": "code",
   "execution_count": 599,
   "metadata": {
    "collapsed": true
   },
   "outputs": [],
   "source": [
    "cnf_df = pd.DataFrame(cnf_matrix)\n",
    "cnf_df.columns = group_encoder\n",
    "cnf_df.index = group_encoder"
   ]
  },
  {
   "cell_type": "code",
   "execution_count": null,
   "metadata": {
    "collapsed": true
   },
   "outputs": [],
   "source": []
  },
  {
   "cell_type": "code",
   "execution_count": 600,
   "metadata": {},
   "outputs": [
    {
     "data": {
      "text/html": [
       "<div>\n",
       "<style>\n",
       "    .dataframe thead tr:only-child th {\n",
       "        text-align: right;\n",
       "    }\n",
       "\n",
       "    .dataframe thead th {\n",
       "        text-align: left;\n",
       "    }\n",
       "\n",
       "    .dataframe tbody tr th {\n",
       "        vertical-align: top;\n",
       "    }\n",
       "</style>\n",
       "<table border=\"1\" class=\"dataframe\">\n",
       "  <thead>\n",
       "    <tr style=\"text-align: right;\">\n",
       "      <th></th>\n",
       "      <th>Adult</th>\n",
       "      <th>Others</th>\n",
       "    </tr>\n",
       "  </thead>\n",
       "  <tbody>\n",
       "    <tr>\n",
       "      <th>Adult</th>\n",
       "      <td>48390</td>\n",
       "      <td>5919</td>\n",
       "    </tr>\n",
       "    <tr>\n",
       "      <th>Others</th>\n",
       "      <td>7803</td>\n",
       "      <td>46503</td>\n",
       "    </tr>\n",
       "  </tbody>\n",
       "</table>\n",
       "</div>"
      ],
      "text/plain": [
       "        Adult  Others\n",
       "Adult   48390    5919\n",
       "Others   7803   46503"
      ]
     },
     "execution_count": 600,
     "metadata": {},
     "output_type": "execute_result"
    }
   ],
   "source": [
    "cnf_df"
   ]
  },
  {
   "cell_type": "code",
   "execution_count": 601,
   "metadata": {
    "collapsed": true
   },
   "outputs": [],
   "source": [
    "cnf_df.to_csv(out_path + out_filename + \"confusion_matrix.csv\", index=False)\n"
   ]
  },
  {
   "cell_type": "code",
   "execution_count": 602,
   "metadata": {},
   "outputs": [
    {
     "data": {
      "text/plain": [
       "True"
      ]
     },
     "execution_count": 602,
     "metadata": {},
     "output_type": "execute_result"
    }
   ],
   "source": [
    "md_info = clf_info.replace(\"\\n\", \"<br>\")\n",
    "with open(out_path + out_filename + 'readme.md', 'w+') as f:\n",
    "     f.write(md_info)\n",
    "f.closed"
   ]
  },
  {
   "cell_type": "code",
   "execution_count": 603,
   "metadata": {
    "scrolled": true
   },
   "outputs": [
    {
     "data": {
      "image/png": "[encoded data removed]",
      "text/plain": [
       "<matplotlib.figure.Figure at 0x114b907ea20>"
      ]
     },
     "metadata": {},
     "output_type": "display_data"
    }
   ],
   "source": [
    "plt.plot(clf.feature_importances_, 'o')  \n",
    "# for i in \n",
    "plt.xticks(range(train_x.shape[1]), train_df.columns[:-1], rotation=90)  \n",
    "plt.ylim(0, 1)  \n",
    "plt.show()  "
   ]
  },
  {
   "cell_type": "code",
   "execution_count": 604,
   "metadata": {
    "collapsed": true
   },
   "outputs": [],
   "source": [
    "from winsound import Beep\n",
    "Beep(440, 500) \n",
    "Beep(440, 500) "
   ]
  },
  {
   "cell_type": "code",
   "execution_count": null,
   "metadata": {
    "collapsed": true
   },
   "outputs": [],
   "source": []
  },
  {
   "cell_type": "code",
   "execution_count": null,
   "metadata": {
    "collapsed": true
   },
   "outputs": [],
   "source": []
  },
  {
   "cell_type": "code",
   "execution_count": null,
   "metadata": {
    "collapsed": true
   },
   "outputs": [],
   "source": []
  },
  {
   "cell_type": "code",
   "execution_count": null,
   "metadata": {
    "collapsed": true
   },
   "outputs": [],
   "source": []
  },
  {
   "cell_type": "code",
   "execution_count": null,
   "metadata": {
    "collapsed": true
   },
   "outputs": [],
   "source": []
  },
  {
   "cell_type": "code",
   "execution_count": null,
   "metadata": {
    "collapsed": true
   },
   "outputs": [],
   "source": []
  },
  {
   "cell_type": "code",
   "execution_count": null,
   "metadata": {
    "collapsed": true
   },
   "outputs": [],
   "source": []
  },
  {
   "cell_type": "code",
   "execution_count": null,
   "metadata": {
    "collapsed": true
   },
   "outputs": [],
   "source": []
  },
  {
   "cell_type": "code",
   "execution_count": null,
   "metadata": {
    "collapsed": true
   },
   "outputs": [],
   "source": []
  },
  {
   "cell_type": "code",
   "execution_count": null,
   "metadata": {
    "collapsed": true
   },
   "outputs": [],
   "source": []
  },
  {
   "cell_type": "code",
   "execution_count": null,
   "metadata": {
    "collapsed": true
   },
   "outputs": [],
   "source": []
  },
  {
   "cell_type": "code",
   "execution_count": null,
   "metadata": {
    "collapsed": true
   },
   "outputs": [],
   "source": []
  },
  {
   "cell_type": "code",
   "execution_count": null,
   "metadata": {
    "collapsed": true
   },
   "outputs": [],
   "source": []
  },
  {
   "cell_type": "code",
   "execution_count": null,
   "metadata": {
    "collapsed": true
   },
   "outputs": [],
   "source": []
  },
  {
   "cell_type": "code",
   "execution_count": 287,
   "metadata": {},
   "outputs": [
    {
     "name": "stdout",
     "output_type": "stream",
     "text": [
      "Start Send Mail\n",
      "User Email : aa26365566@gmail.com - DONE \n",
      "Finish Send Mail\n"
     ]
    }
   ],
   "source": [
    "from mailerWithUtf8 import mail\n",
    "mail_info = clf_info.replace(\"\\n\", \"<br>\")\n",
    "test=mail()\n",
    "test.main(\"clf_info finished\", mail_info)"
   ]
  },
  {
   "cell_type": "markdown",
   "metadata": {
    "collapsed": true
   },
   "source": [
    "# Check feature importances accurancy"
   ]
  },
  {
   "cell_type": "code",
   "execution_count": 240,
   "metadata": {
    "collapsed": true
   },
   "outputs": [],
   "source": [
    "feature_cols = []\n",
    "limit_importances = 5\n",
    "for idx, feature in enumerate(important_list):\n",
    "    if(idx == limit_importances):\n",
    "        break\n",
    "\n",
    "    #     print(feature[0])\n",
    "    feature_cols.append(feature[0])\n",
    "feature_cols.append(\"Groups\")"
   ]
  },
  {
   "cell_type": "code",
   "execution_count": 241,
   "metadata": {},
   "outputs": [
    {
     "data": {
      "text/plain": [
       "['GENDER_CODE',\n",
       " 'P3M_AVG_DATA_USAGE_MB',\n",
       " 'DATA_USAGE_MB',\n",
       " 'IMEI_MKT_NAME',\n",
       " 'DATA_RATING_USAGE_MB',\n",
       " 'Groups']"
      ]
     },
     "execution_count": 241,
     "metadata": {},
     "output_type": "execute_result"
    }
   ],
   "source": [
    "feature_cols"
   ]
  },
  {
   "cell_type": "code",
   "execution_count": 242,
   "metadata": {},
   "outputs": [
    {
     "ename": "NameError",
     "evalue": "name 'test_df' is not defined",
     "output_type": "error",
     "traceback": [
      "\u001b[1;31m---------------------------------------------------------------------------\u001b[0m",
      "\u001b[1;31mNameError\u001b[0m                                 Traceback (most recent call last)",
      "\u001b[1;32m<ipython-input-242-6a24769d708a>\u001b[0m in \u001b[0;36m<module>\u001b[1;34m()\u001b[0m\n\u001b[0;32m      1\u001b[0m \u001b[0mfeature_train_x\u001b[0m \u001b[1;33m=\u001b[0m \u001b[0mtrain_df\u001b[0m\u001b[1;33m[\u001b[0m\u001b[0mfeature_cols\u001b[0m\u001b[1;33m]\u001b[0m\u001b[1;33m.\u001b[0m\u001b[0miloc\u001b[0m\u001b[1;33m[\u001b[0m\u001b[1;33m:\u001b[0m\u001b[1;33m,\u001b[0m \u001b[1;36m0\u001b[0m\u001b[1;33m:\u001b[0m\u001b[1;33m-\u001b[0m\u001b[1;36m1\u001b[0m\u001b[1;33m]\u001b[0m\u001b[1;33m.\u001b[0m\u001b[0mvalues\u001b[0m\u001b[1;33m\u001b[0m\u001b[0m\n\u001b[1;32m----> 2\u001b[1;33m \u001b[0mfeature_test_x\u001b[0m \u001b[1;33m=\u001b[0m \u001b[0mtest_df\u001b[0m\u001b[1;33m[\u001b[0m\u001b[0mfeature_cols\u001b[0m\u001b[1;33m]\u001b[0m\u001b[1;33m.\u001b[0m\u001b[0miloc\u001b[0m\u001b[1;33m[\u001b[0m\u001b[1;33m:\u001b[0m\u001b[1;33m,\u001b[0m \u001b[1;36m0\u001b[0m\u001b[1;33m:\u001b[0m\u001b[1;33m-\u001b[0m\u001b[1;36m1\u001b[0m\u001b[1;33m]\u001b[0m\u001b[1;33m.\u001b[0m\u001b[0mvalues\u001b[0m\u001b[1;33m\u001b[0m\u001b[0m\n\u001b[0m",
      "\u001b[1;31mNameError\u001b[0m: name 'test_df' is not defined"
     ]
    }
   ],
   "source": [
    "feature_train_x = train_df[feature_cols].iloc[:, 0:-1].values\n",
    "feature_test_x = test_df[feature_cols].iloc[:, 0:-1].values"
   ]
  },
  {
   "cell_type": "code",
   "execution_count": null,
   "metadata": {
    "collapsed": true
   },
   "outputs": [],
   "source": [
    "gs_feature = GridSearchCV(estimator=rf, param_grid=param_grid, scoring='accuracy', cv=5, n_jobs=-1)\n",
    "grid_feature_clf = gs_feature.fit(feature_train_x, train_numeric_y)"
   ]
  },
  {
   "cell_type": "code",
   "execution_count": null,
   "metadata": {
    "collapsed": true
   },
   "outputs": [],
   "source": [
    "clf_feature = grid_feature_clf.best_estimator_\n",
    "clf_feature_info = str((\"Accuracy on training set: %f\" % clf_feature.score(feature_train_x, train_numeric_y))) + '\\n'\n",
    "clf_feature_info += str((\"Accuracy on test set: %f\" % clf_feature.score(feature_test_x, test_numeric_y))) + '\\n'\n",
    "clf_feature_info += str(('fit time %s seconds' % format(time() - start_time))) + '\\n'\n",
    "clf_feature_info += str(('feature selection numbers = %s' % str(limit_importances) + '\\n'\n",
    "\n",
    "print(clf_feature_info)"
   ]
  },
  {
   "cell_type": "code",
   "execution_count": null,
   "metadata": {
    "collapsed": true
   },
   "outputs": [],
   "source": [
    "predict_feature_y = clf_feature.predict(feature_test_x)"
   ]
  },
  {
   "cell_type": "code",
   "execution_count": null,
   "metadata": {
    "collapsed": true
   },
   "outputs": [],
   "source": [
    "cnf_matrix = confusion_matrix(test_numeric_y, predict_feature_y )\n",
    "cnf_matrix"
   ]
  },
  {
   "cell_type": "code",
   "execution_count": null,
   "metadata": {
    "collapsed": true
   },
   "outputs": [],
   "source": [
    "group_encoder = []\n",
    "for idx, row in enumerate(cnf_matrix):\n",
    "#     success predict\n",
    "#     print(row[idx])\n",
    "    current_group = str(le.inverse_transform(idx))\n",
    "    group_encoder.append(current_group)\n",
    "#     current_group = groups[idx]\n",
    "\n",
    "    print(current_group)\n",
    "\n",
    "    idx_count_in_group = len(test_df[test_df[\"Groups\"] == current_group])\n",
    "    clf_feature_info +=  \"\\n\\n\" + str(\"class = %s count = [%s / %s]\" % (current_group, row[idx], idx_count_in_group))\n",
    "    clf_feature_info +=  \"\\n\\n\" + str(\"predict %s accurancy = %s\" % (current_group, row[idx] / idx_count_in_group))\n",
    "    print(\"class = %s count = [%s / %s]\" % (current_group,row[idx],str(idx_count_in_group)))\n",
    "    print(\"predict %s accurancy = %s\" % (current_group, row[idx] / idx_count_in_group))\n",
    "    print()"
   ]
  },
  {
   "cell_type": "code",
   "execution_count": null,
   "metadata": {
    "collapsed": true
   },
   "outputs": [],
   "source": [
    "cnf_pd = pd.DataFrame(cnf_matrix)\n",
    "cnf_pd.columns = group_encoder\n",
    "cnf_pd.index = group_encoder"
   ]
  },
  {
   "cell_type": "code",
   "execution_count": null,
   "metadata": {
    "collapsed": true
   },
   "outputs": [],
   "source": [
    "cnf_pd"
   ]
  },
  {
   "cell_type": "code",
   "execution_count": null,
   "metadata": {
    "collapsed": true
   },
   "outputs": [],
   "source": [
    "from winsound import Beep\n",
    "Beep(440, 500) \n",
    "Beep(440, 500) \n",
    "Beep(440, 500) \n",
    "Beep(349, 350) \n",
    "Beep(523, 150) \n",
    "Beep(440, 500) \n",
    "Beep(349, 350) \n",
    "Beep(523, 150) \n",
    "Beep(440, 1000) \n",
    "Beep(659, 500) \n",
    "Beep(659, 500) \n",
    "Beep(659, 500) \n",
    "Beep(698, 350) \n",
    "Beep(523, 150) \n",
    "Beep(415, 500) \n",
    "Beep(349, 350) \n",
    "Beep(523, 150) \n",
    "Beep(440, 1000)"
   ]
  },
  {
   "cell_type": "code",
   "execution_count": null,
   "metadata": {
    "collapsed": true
   },
   "outputs": [],
   "source": []
  },
  {
   "cell_type": "code",
   "execution_count": null,
   "metadata": {
    "collapsed": true
   },
   "outputs": [],
   "source": []
  },
  {
   "cell_type": "code",
   "execution_count": null,
   "metadata": {
    "collapsed": true
   },
   "outputs": [],
   "source": []
  },
  {
   "cell_type": "code",
   "execution_count": null,
   "metadata": {
    "collapsed": true
   },
   "outputs": [],
   "source": []
  },
  {
   "cell_type": "code",
   "execution_count": null,
   "metadata": {
    "collapsed": true
   },
   "outputs": [],
   "source": []
  },
  {
   "cell_type": "code",
   "execution_count": null,
   "metadata": {
    "collapsed": true
   },
   "outputs": [],
   "source": []
  },
  {
   "cell_type": "code",
   "execution_count": null,
   "metadata": {
    "collapsed": true
   },
   "outputs": [],
   "source": []
  },
  {
   "cell_type": "code",
   "execution_count": null,
   "metadata": {
    "collapsed": true
   },
   "outputs": [],
   "source": []
  },
  {
   "cell_type": "code",
   "execution_count": null,
   "metadata": {
    "collapsed": true
   },
   "outputs": [],
   "source": []
  },
  {
   "cell_type": "code",
   "execution_count": null,
   "metadata": {
    "collapsed": true
   },
   "outputs": [],
   "source": []
  },
  {
   "cell_type": "code",
   "execution_count": null,
   "metadata": {
    "collapsed": true
   },
   "outputs": [],
   "source": []
  }
 ],
 "metadata": {
  "kernelspec": {
   "display_name": "Python 3",
   "language": "python",
   "name": "python3"
  },
  "language_info": {
   "codemirror_mode": {
    "name": "ipython",
    "version": 3
   },
   "file_extension": ".py",
   "mimetype": "text/x-python",
   "name": "python",
   "nbconvert_exporter": "python",
   "pygments_lexer": "ipython3",
   "version": "3.6.1"
  }
 },
 "nbformat": 4,
 "nbformat_minor": 2
}
