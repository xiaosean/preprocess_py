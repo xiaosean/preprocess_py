{
 "cells": [
  {
   "cell_type": "code",
   "execution_count": 1,
   "metadata": {
    "collapsed": true
   },
   "outputs": [],
   "source": [
    "import os.path\n",
    "import numpy as np\n",
    "import pandas as pd\n",
    "from time import time\n",
    "from os import listdir\n",
    "from os.path import isfile, join"
   ]
  },
  {
   "cell_type": "code",
   "execution_count": 2,
   "metadata": {
    "collapsed": true
   },
   "outputs": [],
   "source": [
    "def read_csv(filename):\n",
    "    # read revise csv file and print cost time\n",
    "    t0 = time()\n",
    "    df = pd.read_csv(filename, error_bad_lines=False)\n",
    "    print(\"time for read csv: %.2f\" % (time()-t0))\n",
    "    return df"
   ]
  },
  {
   "cell_type": "code",
   "execution_count": 3,
   "metadata": {
    "collapsed": true
   },
   "outputs": [],
   "source": [
    "def read_csv_subcr_id(filename):\n",
    "    # read revise csv file and print cost time\n",
    "    t0 = time()\n",
    "    df = pd.read_csv(filename, error_bad_lines=False, usecols = [\"MINING_DW_SUBSCR_NO\"])\n",
    "    print(\"time for read csv: %.2f\" % (time()-t0))\n",
    "    return df"
   ]
  },
  {
   "cell_type": "code",
   "execution_count": 4,
   "metadata": {
    "collapsed": true
   },
   "outputs": [],
   "source": [
    "def save_dataframe(df, out_filename):\n",
    "   # write to csv and no index\n",
    "    t0 = time()\n",
    "    df.to_csv(out_filename + \".csv\", index=False, encoding='utf-8')\n",
    "#     df.to_csv(out_filename + \".csv\", encoding='utf-8')\n",
    "    print(\"time for output csv file: %.2f\" % (time()-t0))"
   ]
  },
  {
   "cell_type": "code",
   "execution_count": 20,
   "metadata": {
    "collapsed": true
   },
   "outputs": [],
   "source": [
    "# set configure\n",
    "# path = \"../DATA_FULL/\"\n",
    "path = \"./CDR_FINAL/\"\n",
    "# filename = \"CDR_MO_HOUR_revise_month_1\"\n",
    "# relative_filename = path + filename + \".csv\"\n",
    "out_path = \"./CDR_CONCAT/\"\n",
    "index = 4\n",
    "out_filename = \"CDR_CONCAT_TABLE_\" + str(index)\n",
    "\n",
    "concat_filelist = [\"CDR_MO_HOUR_revise_month_\" + str(index) +\"_aggregate_revise.csv\", \n",
    "                   \"CDR_MT_HOUR_revise_month_\" + str(index) +\"_aggregate.csv\", \n",
    "                   \"CDR_MO_WEEK_COMPLETED_revise_month_\" + str(index) +\"_aggregate_workday.csv\", \n",
    "                   \"CDR_MT_WEEK_COMPLETED_revise_month_\" + str(index) +\"_aggregate_workday.csv\"]\n",
    "\n"
   ]
  },
  {
   "cell_type": "code",
   "execution_count": 21,
   "metadata": {},
   "outputs": [
    {
     "name": "stdout",
     "output_type": "stream",
     "text": [
      "time for read csv: 1.39\n",
      "filename =  CDR_MO_HOUR_revise_month_4_aggregate_revise.csv\n",
      "time for read csv: 1.66\n",
      "filename =  CDR_MT_HOUR_revise_month_4_aggregate.csv\n",
      "time for read csv: 6.91\n",
      "filename =  CDR_MO_WEEK_COMPLETED_revise_month_4_aggregate_workday.csv\n",
      "time for read csv: 6.31\n",
      "filename =  CDR_MT_WEEK_COMPLETED_revise_month_4_aggregate_workday.csv\n",
      "time for output csv file: 22.44\n"
     ]
    }
   ],
   "source": [
    "for idx, filename in enumerate(concat_filelist):\n",
    "    df = read_csv(path + filename)\n",
    "    print(\"filename = \", filename)\n",
    "    if(idx == 0):\n",
    "        result = df \n",
    "    else:\n",
    "        result = pd.merge(result, df, left_on='MINING_DW_SUBSCR_NO',right_on='MINING_DW_SUBSCR_NO')\n",
    "save_dataframe(result, out_path + out_filename)\n"
   ]
  },
  {
   "cell_type": "code",
   "execution_count": 19,
   "metadata": {},
   "outputs": [
    {
     "data": {
      "text/plain": [
       "['MINING_DW_SUBSCR_NO',\n",
       " 'VOICE_MO_HOUR_0_CNT',\n",
       " 'VOICE_MO_HOUR_1_CNT',\n",
       " 'VOICE_MO_HOUR_2_CNT',\n",
       " 'VOICE_MO_HOUR_3_CNT',\n",
       " 'VOICE_MO_HOUR_4_CNT',\n",
       " 'VOICE_MO_HOUR_5_CNT',\n",
       " 'VOICE_MO_HOUR_6_CNT',\n",
       " 'VOICE_MO_HOUR_7_CNT',\n",
       " 'VOICE_MO_HOUR_8_CNT',\n",
       " 'VOICE_MO_HOUR_9_CNT',\n",
       " 'VOICE_MO_HOUR_10_CNT',\n",
       " 'VOICE_MO_HOUR_11_CNT',\n",
       " 'VOICE_MO_HOUR_12_CNT',\n",
       " 'VOICE_MO_HOUR_13_CNT',\n",
       " 'VOICE_MO_HOUR_14_CNT',\n",
       " 'VOICE_MO_HOUR_15_CNT',\n",
       " 'VOICE_MO_HOUR_16_CNT',\n",
       " 'VOICE_MO_HOUR_17_CNT',\n",
       " 'VOICE_MO_HOUR_18_CNT',\n",
       " 'VOICE_MO_HOUR_19_CNT',\n",
       " 'VOICE_MO_HOUR_20_CNT',\n",
       " 'VOICE_MO_HOUR_21_CNT',\n",
       " 'VOICE_MO_HOUR_22_CNT',\n",
       " 'VOICE_MO_HOUR_23_CNT',\n",
       " 'VOICE_MO_HOUR_0_TIME',\n",
       " 'VOICE_MO_HOUR_1_TIME',\n",
       " 'VOICE_MO_HOUR_2_TIME',\n",
       " 'VOICE_MO_HOUR_3_TIME',\n",
       " 'VOICE_MO_HOUR_4_TIME',\n",
       " 'VOICE_MO_HOUR_5_TIME',\n",
       " 'VOICE_MO_HOUR_6_TIME',\n",
       " 'VOICE_MO_HOUR_7_TIME',\n",
       " 'VOICE_MO_HOUR_8_TIME',\n",
       " 'VOICE_MO_HOUR_9_TIME',\n",
       " 'VOICE_MO_HOUR_10_TIME',\n",
       " 'VOICE_MO_HOUR_11_TIME',\n",
       " 'VOICE_MO_HOUR_12_TIME',\n",
       " 'VOICE_MO_HOUR_13_TIME',\n",
       " 'VOICE_MO_HOUR_14_TIME',\n",
       " 'VOICE_MO_HOUR_15_TIME',\n",
       " 'VOICE_MO_HOUR_16_TIME',\n",
       " 'VOICE_MO_HOUR_17_TIME',\n",
       " 'VOICE_MO_HOUR_18_TIME',\n",
       " 'VOICE_MO_HOUR_19_TIME',\n",
       " 'VOICE_MO_HOUR_20_TIME',\n",
       " 'VOICE_MO_HOUR_21_TIME',\n",
       " 'VOICE_MO_HOUR_22_TIME',\n",
       " 'VOICE_MO_HOUR_23_TIME',\n",
       " 'VOICE_MT_HOUR_0_CNT',\n",
       " 'VOICE_MT_HOUR_1_CNT',\n",
       " 'VOICE_MT_HOUR_2_CNT',\n",
       " 'VOICE_MT_HOUR_3_CNT',\n",
       " 'VOICE_MT_HOUR_4_CNT',\n",
       " 'VOICE_MT_HOUR_5_CNT',\n",
       " 'VOICE_MT_HOUR_6_CNT',\n",
       " 'VOICE_MT_HOUR_7_CNT',\n",
       " 'VOICE_MT_HOUR_8_CNT',\n",
       " 'VOICE_MT_HOUR_9_CNT',\n",
       " 'VOICE_MT_HOUR_10_CNT',\n",
       " 'VOICE_MT_HOUR_11_CNT',\n",
       " 'VOICE_MT_HOUR_12_CNT',\n",
       " 'VOICE_MT_HOUR_13_CNT',\n",
       " 'VOICE_MT_HOUR_14_CNT',\n",
       " 'VOICE_MT_HOUR_15_CNT',\n",
       " 'VOICE_MT_HOUR_16_CNT',\n",
       " 'VOICE_MT_HOUR_17_CNT',\n",
       " 'VOICE_MT_HOUR_18_CNT',\n",
       " 'VOICE_MT_HOUR_19_CNT',\n",
       " 'VOICE_MT_HOUR_20_CNT',\n",
       " 'VOICE_MT_HOUR_21_CNT',\n",
       " 'VOICE_MT_HOUR_22_CNT',\n",
       " 'VOICE_MT_HOUR_23_CNT',\n",
       " 'VOICE_MT_HOUR_0_TIME',\n",
       " 'VOICE_MT_HOUR_1_TIME',\n",
       " 'VOICE_MT_HOUR_2_TIME',\n",
       " 'VOICE_MT_HOUR_3_TIME',\n",
       " 'VOICE_MT_HOUR_4_TIME',\n",
       " 'VOICE_MT_HOUR_5_TIME',\n",
       " 'VOICE_MT_HOUR_6_TIME',\n",
       " 'VOICE_MT_HOUR_7_TIME',\n",
       " 'VOICE_MT_HOUR_8_TIME',\n",
       " 'VOICE_MT_HOUR_9_TIME',\n",
       " 'VOICE_MT_HOUR_10_TIME',\n",
       " 'VOICE_MT_HOUR_11_TIME',\n",
       " 'VOICE_MT_HOUR_12_TIME',\n",
       " 'VOICE_MT_HOUR_13_TIME',\n",
       " 'VOICE_MT_HOUR_14_TIME',\n",
       " 'VOICE_MT_HOUR_15_TIME',\n",
       " 'VOICE_MT_HOUR_16_TIME',\n",
       " 'VOICE_MT_HOUR_17_TIME',\n",
       " 'VOICE_MT_HOUR_18_TIME',\n",
       " 'VOICE_MT_HOUR_19_TIME',\n",
       " 'VOICE_MT_HOUR_20_TIME',\n",
       " 'VOICE_MT_HOUR_21_TIME',\n",
       " 'VOICE_MT_HOUR_22_TIME',\n",
       " 'VOICE_MT_HOUR_23_TIME',\n",
       " 'VOICE_MO_HOUR_SUN_CNT',\n",
       " 'VOICE_MO_HOUR_MON_CNT',\n",
       " 'VOICE_MO_HOUR_TUE_CNT',\n",
       " 'VOICE_MO_HOUR_WED_CNT',\n",
       " 'VOICE_MO_HOUR_THU_CNT',\n",
       " 'VOICE_MO_HOUR_FRI_CNT',\n",
       " 'VOICE_MO_HOUR_SAT_CNT',\n",
       " 'VOICE_MO_HOUR_SUN_TIME',\n",
       " 'VOICE_MO_HOUR_MON_TIME',\n",
       " 'VOICE_MO_HOUR_TUE_TIME',\n",
       " 'VOICE_MO_HOUR_WED_TIME',\n",
       " 'VOICE_MO_HOUR_THU_TIME',\n",
       " 'VOICE_MO_HOUR_FRI_TIME',\n",
       " 'VOICE_MO_HOUR_SAT_TIME',\n",
       " 'VOICE_MO_workday_cnt',\n",
       " 'VOICE_MO_workday_time',\n",
       " 'VOICE_MO_holiday_cnt',\n",
       " 'VOICE_MO_holiday_time',\n",
       " 'VOICE_MT_SUN_CNT',\n",
       " 'VOICE_MT_MON_CNT',\n",
       " 'VOICE_MT_TUE_CNT',\n",
       " 'VOICE_MT_WED_CNT',\n",
       " 'VOICE_MT_THU_CNT',\n",
       " 'VOICE_MT_FRI_CNT',\n",
       " 'VOICE_MT_SAT_CNT',\n",
       " 'VOICE_MT_SUN_TIME',\n",
       " 'VOICE_MT_MON_TIME',\n",
       " 'VOICE_MT_TUE_TIME',\n",
       " 'VOICE_MT_WED_TIME',\n",
       " 'VOICE_MT_THU_TIME',\n",
       " 'VOICE_MT_FRI_TIME',\n",
       " 'VOICE_MT_SAT_TIME',\n",
       " 'VOICE_MT_workday_cnt',\n",
       " 'VOICE_MT_workday_time',\n",
       " 'VOICE_MT_holiday_cnt',\n",
       " 'VOICE_MT_holiday_time']"
      ]
     },
     "execution_count": 19,
     "metadata": {},
     "output_type": "execute_result"
    }
   ],
   "source": [
    "list(result.columns)"
   ]
  },
  {
   "cell_type": "code",
   "execution_count": 14,
   "metadata": {},
   "outputs": [
    {
     "data": {
      "text/plain": [
       "MINING_DW_SUBSCR_NO       int64\n",
       "VOICE_MO_HOUR_0_CNT       int64\n",
       "VOICE_MO_HOUR_1_CNT       int64\n",
       "VOICE_MO_HOUR_2_CNT       int64\n",
       "VOICE_MO_HOUR_3_CNT       int64\n",
       "VOICE_MO_HOUR_4_CNT       int64\n",
       "VOICE_MO_HOUR_5_CNT       int64\n",
       "VOICE_MO_HOUR_6_CNT       int64\n",
       "VOICE_MO_HOUR_7_CNT       int64\n",
       "VOICE_MO_HOUR_8_CNT       int64\n",
       "VOICE_MO_HOUR_9_CNT       int64\n",
       "VOICE_MO_HOUR_10_CNT      int64\n",
       "VOICE_MO_HOUR_11_CNT      int64\n",
       "VOICE_MO_HOUR_12_CNT      int64\n",
       "VOICE_MO_HOUR_13_CNT      int64\n",
       "VOICE_MO_HOUR_14_CNT      int64\n",
       "VOICE_MO_HOUR_15_CNT      int64\n",
       "VOICE_MO_HOUR_16_CNT      int64\n",
       "VOICE_MO_HOUR_17_CNT      int64\n",
       "VOICE_MO_HOUR_18_CNT      int64\n",
       "VOICE_MO_HOUR_19_CNT      int64\n",
       "VOICE_MO_HOUR_20_CNT      int64\n",
       "VOICE_MO_HOUR_21_CNT      int64\n",
       "VOICE_MO_HOUR_22_CNT      int64\n",
       "VOICE_MO_HOUR_23_CNT      int64\n",
       "VOICE_MO_HOUR_0_TIME      int64\n",
       "VOICE_MO_HOUR_1_TIME      int64\n",
       "VOICE_MO_HOUR_2_TIME      int64\n",
       "VOICE_MO_HOUR_3_TIME      int64\n",
       "VOICE_MO_HOUR_4_TIME      int64\n",
       "                          ...  \n",
       "VOICE_MO_HOUR_SAT_CNT     int64\n",
       "VOICE_MO_HOUR_SUN_TIME    int64\n",
       "VOICE_MO_HOUR_MON_TIME    int64\n",
       "VOICE_MO_HOUR_TUE_TIME    int64\n",
       "VOICE_MO_HOUR_WED_TIME    int64\n",
       "VOICE_MO_HOUR_THU_TIME    int64\n",
       "VOICE_MO_HOUR_FRI_TIME    int64\n",
       "VOICE_MO_HOUR_SAT_TIME    int64\n",
       "VOICE_MO_workday_cnt      int64\n",
       "VOICE_MO_workday_time     int64\n",
       "VOICE_MO_holiday_cnt      int64\n",
       "VOICE_MO_holiday_time     int64\n",
       "VOICE_MT_SUN_CNT          int64\n",
       "VOICE_MT_MON_CNT          int64\n",
       "VOICE_MT_TUE_CNT          int64\n",
       "VOICE_MT_WED_CNT          int64\n",
       "VOICE_MT_THU_CNT          int64\n",
       "VOICE_MT_FRI_CNT          int64\n",
       "VOICE_MT_SAT_CNT          int64\n",
       "VOICE_MT_SUN_TIME         int64\n",
       "VOICE_MT_MON_TIME         int64\n",
       "VOICE_MT_TUE_TIME         int64\n",
       "VOICE_MT_WED_TIME         int64\n",
       "VOICE_MT_THU_TIME         int64\n",
       "VOICE_MT_FRI_TIME         int64\n",
       "VOICE_MT_SAT_TIME         int64\n",
       "VOICE_MT_workday_cnt      int64\n",
       "VOICE_MT_workday_time     int64\n",
       "VOICE_MT_holiday_cnt      int64\n",
       "VOICE_MT_holiday_time     int64\n",
       "Length: 133, dtype: object"
      ]
     },
     "execution_count": 14,
     "metadata": {},
     "output_type": "execute_result"
    }
   ],
   "source": [
    "result.dtypes"
   ]
  },
  {
   "cell_type": "code",
   "execution_count": 109,
   "metadata": {
    "collapsed": true
   },
   "outputs": [],
   "source": [
    "# result.dtypes"
   ]
  },
  {
   "cell_type": "code",
   "execution_count": null,
   "metadata": {
    "collapsed": true
   },
   "outputs": [],
   "source": []
  },
  {
   "cell_type": "code",
   "execution_count": null,
   "metadata": {
    "collapsed": true
   },
   "outputs": [],
   "source": []
  },
  {
   "cell_type": "code",
   "execution_count": null,
   "metadata": {
    "collapsed": true
   },
   "outputs": [],
   "source": []
  }
 ],
 "metadata": {
  "kernelspec": {
   "display_name": "Python 3",
   "language": "python",
   "name": "python3"
  },
  "language_info": {
   "codemirror_mode": {
    "name": "ipython",
    "version": 3
   },
   "file_extension": ".py",
   "mimetype": "text/x-python",
   "name": "python",
   "nbconvert_exporter": "python",
   "pygments_lexer": "ipython3",
   "version": "3.6.1"
  }
 },
 "nbformat": 4,
 "nbformat_minor": 2
}
