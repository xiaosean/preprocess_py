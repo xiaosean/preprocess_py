{
 "cells": [
  {
   "cell_type": "code",
   "execution_count": 15,
   "metadata": {
    "collapsed": true
   },
   "outputs": [],
   "source": [
    "from bokeh.charts import Donut, show\n",
    "import pandas as pd\n",
    "import numpy as np\n",
    "from bokeh.palettes import Pastel1"
   ]
  },
  {
   "cell_type": "code",
   "execution_count": 16,
   "metadata": {},
   "outputs": [],
   "source": [
    "value = [1470990, 697364, 283083, 68665, 48456, 23626, 3601, 1012]\n",
    "index = ['幾乎不用', '稍微使用', '有在使用', '中度使用', '夜貓族', '高度使用', '超高度使用', '每通通話量長']\n",
    "total = 0\n",
    "for i in range(len(value)):\n",
    "    total += value[i]\n",
    "for i in range(len(value)):\n",
    "    percent_str = str(value[i]/total*100)\n",
    "    index[i] += \"(\" + percent_str[:percent_str.find(\".\")] + \"%)\"\n",
    "data = pd.Series(value, index = index)"
   ]
  },
  {
   "cell_type": "code",
   "execution_count": 17,
   "metadata": {},
   "outputs": [],
   "source": [
    "pie_chart = Donut(data, color = Pastel1[8], text_font_size='12pt')\n",
    "show(pie_chart)"
   ]
  },
  {
   "cell_type": "code",
   "execution_count": 27,
   "metadata": {
    "collapsed": true
   },
   "outputs": [],
   "source": [
    "df = pd.read_csv('output_FYSP_HTTPDR_CATG_WEEKOF_MLY_2017-04-01_aggregate.csv')"
   ]
  },
  {
   "cell_type": "code",
   "execution_count": 20,
   "metadata": {
    "collapsed": true
   },
   "outputs": [],
   "source": [
    "df = pd.melt(df, id_vars = ['DNA_CATG_DESC'],\n",
    "            value_vars=['HTTPDR_DATA_W1_CNT','HTTPDR_DATA_W2_CNT','HTTPDR_DATA_W3_CNT','HTTPDR_DATA_W4_CNT','HTTPDR_DATA_W5_CNT','HTTPDR_DATA_W6_CNT','HTTPDR_DATA_W7_CNT'],\n",
    "             value_name='usage_count', var_name='day')"
   ]
  },
  {
   "cell_type": "code",
   "execution_count": 23,
   "metadata": {
    "collapsed": true,
    "scrolled": false
   },
   "outputs": [],
   "source": [
    "def shorten_name(s):\n",
    "    return s[12:14]\n",
    "\n",
    "df['day'] = df['day'].apply(shorten_name)"
   ]
  },
  {
   "cell_type": "code",
   "execution_count": 34,
   "metadata": {},
   "outputs": [
    {
     "data": {
      "text/html": [
       "<div>\n",
       "<style>\n",
       "    .dataframe thead tr:only-child th {\n",
       "        text-align: right;\n",
       "    }\n",
       "\n",
       "    .dataframe thead th {\n",
       "        text-align: left;\n",
       "    }\n",
       "\n",
       "    .dataframe tbody tr th {\n",
       "        vertical-align: top;\n",
       "    }\n",
       "</style>\n",
       "<table border=\"1\" class=\"dataframe\">\n",
       "  <thead>\n",
       "    <tr style=\"text-align: right;\">\n",
       "      <th></th>\n",
       "      <th>DNA_CATG_DESC</th>\n",
       "      <th>HTTPDR_DATA_W1_CNT</th>\n",
       "      <th>HTTPDR_DATA_W2_CNT</th>\n",
       "      <th>HTTPDR_DATA_W3_CNT</th>\n",
       "      <th>HTTPDR_DATA_W4_CNT</th>\n",
       "      <th>HTTPDR_DATA_W5_CNT</th>\n",
       "      <th>HTTPDR_DATA_W6_CNT</th>\n",
       "      <th>HTTPDR_DATA_W7_CNT</th>\n",
       "      <th>total</th>\n",
       "    </tr>\n",
       "  </thead>\n",
       "  <tbody>\n",
       "    <tr>\n",
       "      <th>4</th>\n",
       "      <td>入口網站</td>\n",
       "      <td>2699080</td>\n",
       "      <td>2090909</td>\n",
       "      <td>2088909</td>\n",
       "      <td>2182224</td>\n",
       "      <td>1988202</td>\n",
       "      <td>2064267</td>\n",
       "      <td>2709472</td>\n",
       "      <td>15823063</td>\n",
       "    </tr>\n",
       "    <tr>\n",
       "      <th>8</th>\n",
       "      <td>娛樂</td>\n",
       "      <td>2471037</td>\n",
       "      <td>1933912</td>\n",
       "      <td>2090286</td>\n",
       "      <td>1937214</td>\n",
       "      <td>1880110</td>\n",
       "      <td>1991124</td>\n",
       "      <td>2486262</td>\n",
       "      <td>14789945</td>\n",
       "    </tr>\n",
       "    <tr>\n",
       "      <th>10</th>\n",
       "      <td>成人</td>\n",
       "      <td>1211493</td>\n",
       "      <td>956526</td>\n",
       "      <td>966781</td>\n",
       "      <td>913167</td>\n",
       "      <td>934165</td>\n",
       "      <td>880470</td>\n",
       "      <td>1214586</td>\n",
       "      <td>7077188</td>\n",
       "    </tr>\n",
       "    <tr>\n",
       "      <th>16</th>\n",
       "      <td>新聞與訊息</td>\n",
       "      <td>1039076</td>\n",
       "      <td>861591</td>\n",
       "      <td>911846</td>\n",
       "      <td>863154</td>\n",
       "      <td>888989</td>\n",
       "      <td>887297</td>\n",
       "      <td>1047545</td>\n",
       "      <td>6499498</td>\n",
       "    </tr>\n",
       "    <tr>\n",
       "      <th>19</th>\n",
       "      <td>未知-無法分類</td>\n",
       "      <td>4213221</td>\n",
       "      <td>3356089</td>\n",
       "      <td>3551988</td>\n",
       "      <td>3279609</td>\n",
       "      <td>3472226</td>\n",
       "      <td>3500121</td>\n",
       "      <td>4288914</td>\n",
       "      <td>25662168</td>\n",
       "    </tr>\n",
       "    <tr>\n",
       "      <th>21</th>\n",
       "      <td>生活資訊</td>\n",
       "      <td>1947437</td>\n",
       "      <td>1506026</td>\n",
       "      <td>1504404</td>\n",
       "      <td>1400158</td>\n",
       "      <td>1407548</td>\n",
       "      <td>1507273</td>\n",
       "      <td>1949165</td>\n",
       "      <td>11222011</td>\n",
       "    </tr>\n",
       "    <tr>\n",
       "      <th>22</th>\n",
       "      <td>社群媒體</td>\n",
       "      <td>4954449</td>\n",
       "      <td>2559398</td>\n",
       "      <td>2613328</td>\n",
       "      <td>2602065</td>\n",
       "      <td>2364928</td>\n",
       "      <td>2332366</td>\n",
       "      <td>3279021</td>\n",
       "      <td>20705555</td>\n",
       "    </tr>\n",
       "    <tr>\n",
       "      <th>24</th>\n",
       "      <td>綜合資訊查詢</td>\n",
       "      <td>6835519</td>\n",
       "      <td>4475995</td>\n",
       "      <td>3730086</td>\n",
       "      <td>3190285</td>\n",
       "      <td>3149419</td>\n",
       "      <td>3528203</td>\n",
       "      <td>5972869</td>\n",
       "      <td>30882376</td>\n",
       "    </tr>\n",
       "    <tr>\n",
       "      <th>25</th>\n",
       "      <td>網路服務</td>\n",
       "      <td>17893499</td>\n",
       "      <td>16103599</td>\n",
       "      <td>17060007</td>\n",
       "      <td>15774849</td>\n",
       "      <td>16481884</td>\n",
       "      <td>16323833</td>\n",
       "      <td>19518505</td>\n",
       "      <td>119156176</td>\n",
       "    </tr>\n",
       "    <tr>\n",
       "      <th>29</th>\n",
       "      <td>遊戲</td>\n",
       "      <td>2386526</td>\n",
       "      <td>1788937</td>\n",
       "      <td>1806409</td>\n",
       "      <td>1571449</td>\n",
       "      <td>1560220</td>\n",
       "      <td>2000404</td>\n",
       "      <td>2427580</td>\n",
       "      <td>13541525</td>\n",
       "    </tr>\n",
       "  </tbody>\n",
       "</table>\n",
       "</div>"
      ],
      "text/plain": [
       "   DNA_CATG_DESC  HTTPDR_DATA_W1_CNT  HTTPDR_DATA_W2_CNT  HTTPDR_DATA_W3_CNT  \\\n",
       "4           入口網站             2699080             2090909             2088909   \n",
       "8             娛樂             2471037             1933912             2090286   \n",
       "10            成人             1211493              956526              966781   \n",
       "16         新聞與訊息             1039076              861591              911846   \n",
       "19       未知-無法分類             4213221             3356089             3551988   \n",
       "21          生活資訊             1947437             1506026             1504404   \n",
       "22          社群媒體             4954449             2559398             2613328   \n",
       "24        綜合資訊查詢             6835519             4475995             3730086   \n",
       "25          網路服務            17893499            16103599            17060007   \n",
       "29            遊戲             2386526             1788937             1806409   \n",
       "\n",
       "    HTTPDR_DATA_W4_CNT  HTTPDR_DATA_W5_CNT  HTTPDR_DATA_W6_CNT  \\\n",
       "4              2182224             1988202             2064267   \n",
       "8              1937214             1880110             1991124   \n",
       "10              913167              934165              880470   \n",
       "16              863154              888989              887297   \n",
       "19             3279609             3472226             3500121   \n",
       "21             1400158             1407548             1507273   \n",
       "22             2602065             2364928             2332366   \n",
       "24             3190285             3149419             3528203   \n",
       "25            15774849            16481884            16323833   \n",
       "29             1571449             1560220             2000404   \n",
       "\n",
       "    HTTPDR_DATA_W7_CNT      total  \n",
       "4              2709472   15823063  \n",
       "8              2486262   14789945  \n",
       "10             1214586    7077188  \n",
       "16             1047545    6499498  \n",
       "19             4288914   25662168  \n",
       "21             1949165   11222011  \n",
       "22             3279021   20705555  \n",
       "24             5972869   30882376  \n",
       "25            19518505  119156176  \n",
       "29             2427580   13541525  "
      ]
     },
     "execution_count": 34,
     "metadata": {},
     "output_type": "execute_result"
    }
   ],
   "source": [
    "df = df[df['total'] > 5000000]\n",
    "df"
   ]
  },
  {
   "cell_type": "code",
   "execution_count": 35,
   "metadata": {
    "collapsed": true
   },
   "outputs": [],
   "source": [
    "# original example\n",
    "d = Donut(df, label=['DNA_CATG_DESC'], values='total',\n",
    "          text_font_size='8pt', hover_text='DNA_CATG_DESC')\n",
    "show(d)"
   ]
  },
  {
   "cell_type": "code",
   "execution_count": null,
   "metadata": {
    "collapsed": true
   },
   "outputs": [],
   "source": []
  }
 ],
 "metadata": {
  "kernelspec": {
   "display_name": "Python 3",
   "language": "python",
   "name": "python3"
  },
  "language_info": {
   "codemirror_mode": {
    "name": "ipython",
    "version": 3
   },
   "file_extension": ".py",
   "mimetype": "text/x-python",
   "name": "python",
   "nbconvert_exporter": "python",
   "pygments_lexer": "ipython3",
   "version": "3.6.1"
  }
 },
 "nbformat": 4,
 "nbformat_minor": 2
}
