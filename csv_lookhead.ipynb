{
 "cells": [
  {
   "cell_type": "code",
   "execution_count": 5,
   "metadata": {
    "collapsed": true
   },
   "outputs": [],
   "source": [
    "import os.path\n",
    "import numpy as np\n",
    "import pandas as pd\n",
    "from time import time"
   ]
  },
  {
   "cell_type": "code",
   "execution_count": 12,
   "metadata": {
    "collapsed": true
   },
   "outputs": [],
   "source": [
    "# set configure\n",
    "# path = \"./\"\n",
    "\n",
    "# path = \"./marketing_analyze/\"\n",
    "# path = \"./\"\n",
    "# path = \"C:/Users/VIPLAB/Downloads/Spark_data/\"\n",
    "# filename = \"april_marketing_anylze_full_table_group12_max_min\"\n",
    "# filename = \"april_marketing_anylze_numeric\"\n",
    "# filename = \"CHNL_NSP_CATG_MT_COMPLETED\"\n",
    "# filename = \"0729_marketing_with_picked_group11_numeric_max_min\"\n",
    "\n",
    "# filename = \"0729_marketing_with_picked_group11_numeric_max_min\"\n",
    "\n",
    "path = \"D:/DATA_FULL_old/\"\n",
    "filename = \"CDR_MT_WEEK_COMPLETED\"\n",
    "# relative_filename = path + filename + \".csv\"\n",
    "relative_filename = path + filename + \".txt\"\n",
    "# wants_cols = ['MINING_DW_SUBSCR_NO', 'CUST_TYPE']"
   ]
  },
  {
   "cell_type": "code",
   "execution_count": 13,
   "metadata": {
    "scrolled": true
   },
   "outputs": [
    {
     "name": "stdout",
     "output_type": "stream",
     "text": [
      "time for read csv: 0.05\n"
     ]
    }
   ],
   "source": [
    "# read csv file and print cost time\n",
    "t0 = time()\n",
    "# df = pd.read_csv(relative_filename, error_bad_lines=False)\n",
    "# df = pd.read_csv(relative_filename, usecols = wants_cols, error_bad_lines=False)\n",
    "# df = pd.read_csv(relative_filename, usecols = wants_cols, error_bad_lines=False, nrows = 100000)\n",
    "# df = pd.read_csv(relative_filename, error_bad_lines=False)\n",
    "# df = pd.read_csv(relative_filename, error_bad_lines=False)\n",
    "\n",
    "# df = pd.read_csv(relative_filename, error_bad_lines=False)\n",
    "# df = pd.read_csv(relative_filename, usecols = wants_cols, sep  = '\\t', error_bad_lines=False)\n",
    "\n",
    "df = pd.read_csv(relative_filename, error_bad_lines=False, nrows = 100)\n",
    "# df = pd.read_csv(relative_filename, error_bad_lines=False)\n",
    "print(\"time for read csv: %.2f\" % (time()-t0))\n"
   ]
  },
  {
   "cell_type": "code",
   "execution_count": 14,
   "metadata": {},
   "outputs": [
    {
     "data": {
      "text/plain": [
       "100"
      ]
     },
     "execution_count": 14,
     "metadata": {},
     "output_type": "execute_result"
    }
   ],
   "source": [
    "len(df)"
   ]
  },
  {
   "cell_type": "code",
   "execution_count": 15,
   "metadata": {
    "collapsed": true,
    "scrolled": false
   },
   "outputs": [],
   "source": [
    "df_cols = list(df.columns)"
   ]
  },
  {
   "cell_type": "code",
   "execution_count": null,
   "metadata": {
    "collapsed": true
   },
   "outputs": [],
   "source": []
  },
  {
   "cell_type": "code",
   "execution_count": 16,
   "metadata": {},
   "outputs": [
    {
     "data": {
      "text/plain": [
       "['MINING_DW_SUBSCR_NO',\n",
       " 'VOICE_MONTH',\n",
       " 'VOICE_MT_SUN_CNT',\n",
       " 'VOICE_MT_MON_CNT',\n",
       " 'VOICE_MT_TUE_CNT',\n",
       " 'VOICE_MT_WED_CNT',\n",
       " 'VOICE_MT_THU_CNT',\n",
       " 'VOICE_MT_FRI_CNT',\n",
       " 'VOICE_MT_SAT_CNT',\n",
       " 'VOICE_MT_SUN_TIME',\n",
       " 'VOICE_MT_MON_TIME',\n",
       " 'VOICE_MT_TUE_TIME',\n",
       " 'VOICE_MT_WED_TIME',\n",
       " 'VOICE_MT_THU_TIME',\n",
       " 'VOICE_MT_FRI_TIME',\n",
       " 'VOICE_MT_SAT_TIME']"
      ]
     },
     "execution_count": 16,
     "metadata": {},
     "output_type": "execute_result"
    }
   ],
   "source": [
    "df_cols"
   ]
  },
  {
   "cell_type": "code",
   "execution_count": 11,
   "metadata": {
    "collapsed": true
   },
   "outputs": [],
   "source": [
    "def comma_format(numeric_str):\n",
    "    list_numeric_str = list(str(numeric_str))\n",
    "    list_numeric_str.reverse()\n",
    "    out_str = \"\"\n",
    "    for idx, i in enumerate(list_numeric_str):\n",
    "        if idx > 0 and (idx % 3 == 0):\n",
    "            out_str += \",\"\n",
    "        out_str += i    \n",
    "    return(out_str[::-1])"
   ]
  },
  {
   "cell_type": "code",
   "execution_count": 47,
   "metadata": {},
   "outputs": [
    {
     "name": "stdout",
     "output_type": "stream",
     "text": [
      "124,275,641\n"
     ]
    }
   ],
   "source": [
    "comma_format(revenue_total)"
   ]
  },
  {
   "cell_type": "code",
   "execution_count": 347,
   "metadata": {
    "collapsed": true
   },
   "outputs": [],
   "source": [
    "groups_list = list(df[\"Groups\"].unique())"
   ]
  },
  {
   "cell_type": "code",
   "execution_count": 362,
   "metadata": {
    "collapsed": true
   },
   "outputs": [],
   "source": [
    "target_group = groups_list[3]\n",
    "target_df = df[df[\"Groups\"] == target_group]"
   ]
  },
  {
   "cell_type": "code",
   "execution_count": 363,
   "metadata": {},
   "outputs": [
    {
     "data": {
      "text/plain": [
       "'InstantMessage-High'"
      ]
     },
     "execution_count": 363,
     "metadata": {},
     "output_type": "execute_result"
    }
   ],
   "source": [
    "target_group"
   ]
  },
  {
   "cell_type": "code",
   "execution_count": 364,
   "metadata": {
    "collapsed": true
   },
   "outputs": [],
   "source": [
    "def col_ratio(df_col, num = 1):\n",
    "    out_string = \"\"\n",
    "    unique_list = df_col.value_counts().index.tolist()\n",
    "#     print(len(df_col == 'Smart Phone'))\n",
    "#     print(df_col.value_counts())\n",
    "    for idx, value in enumerate(df_col.value_counts()):\n",
    "        if idx >= num:\n",
    "            break\n",
    "        if unique_list[idx] == \"?\":\n",
    "#             print(\"equal ?\")\n",
    "            num += 1\n",
    "            continue\n",
    "#         print(unique_list[idx], value)  \n",
    "        out_string += str(int(value/len(df_col)*100)) + \"% \" + unique_list[idx] + \" \"\n",
    "#     for idx, col in enumerate(unique_list):\n",
    "#         print(len(df_col))\n",
    "#         print(len(df_col))\n",
    "#         print(len(df_col == col) / len(df_col))\n",
    "    return out_string"
   ]
  },
  {
   "cell_type": "code",
   "execution_count": 365,
   "metadata": {
    "collapsed": true
   },
   "outputs": [],
   "source": [
    "size_info = len(target_df)\n",
    "# revenue = int(target_df[\"L3M_AVG_NET_INV_AMT\"].mean())\n",
    "all_revenue_total = int(df[\"L3M_AVG_NET_INV_AMT\"].sum())\n",
    "revenue_total = int(target_df[\"L3M_AVG_NET_INV_AMT\"].sum())\n",
    "age = int(target_df[\"AGE\"].mean())\n",
    "sex_male = len(target_df[target_df['GENDER_CODE'] == \"M\"])\n",
    "sex_count = len(target_df['GENDER_CODE'])\n",
    "sex_ratio = \"%d%% Male %d%% Female\" % (int(sex_male / sex_count  * 100), 100 - int(sex_male / sex_count * 100) )\n",
    "tenure = int(df['TENURE_SCV'].mean())\n",
    "max_origin_opr = col_ratio(target_df['ORIG_OPR_ID'], 3)\n",
    "data_usage_mb = col_ratio(target_df['DATA_USAGE_MB'], 3)\n",
    "last_channel_type = col_ratio(target_df['LAST_CHANNEL_TYPE'], 1)\n",
    "hs_chg_cnt = target_df['HS_CHG_CNT'].mean()\n",
    "active_store = col_ratio(target_df['ACTV_STORE_ID'], 3)\n",
    "# max_origin_opr = col_ratio(target_df[target_df['ORIG_OPR_ID'] != \"?\"].loc[:, 'ORIG_OPR_ID'], )\n",
    "# max_origin_opr = target_df[target_df['ORIG_OPR_ID'] != \"?\"].groupby(\"ORIG_OPR_ID\").count().index[0]\n",
    "phone_type = col_ratio(target_df['IMEI_MFG_NAME'], 3)\n",
    "# phone_os = col_ratio(target_df[\"PROM_DEVICE_OS\"], 2)"
   ]
  },
  {
   "cell_type": "code",
   "execution_count": 366,
   "metadata": {
    "collapsed": true
   },
   "outputs": [],
   "source": [
    "# target_df[target_df]"
   ]
  },
  {
   "cell_type": "code",
   "execution_count": 367,
   "metadata": {
    "collapsed": true
   },
   "outputs": [],
   "source": [
    "# 吃到飽\n",
    "flat_3g, n_flat_3g = len(target_df[target_df[\"FLAT_RATE_3G_IND\"] == \"Y\"]), len(target_df[target_df[\"FLAT_RATE_3G_IND\"] == \"N\"])\n",
    "flat_4g, n_flat_4g = len(target_df[target_df[\"FLAT_RATE_4G_IND\"] == \"Y\"]), len(target_df[target_df[\"FLAT_RATE_4G_IND\"] == \"N\"])\n",
    "# print(flat_3g, n_flat_3g, flat_4g, n_flat_4g)\n",
    "flat_ratio = (flat_3g + flat_4g) / (flat_4g + n_flat_4g)\n",
    "flat_ratio = str((int((flat_3g / (flat_4g + n_flat_4g)) * 1000 )) / 10) + \"% 3G, \" + str((int((flat_4g / (flat_4g + n_flat_4g)) * 1000 )) / 10) + \"% 4G\""
   ]
  },
  {
   "cell_type": "code",
   "execution_count": 368,
   "metadata": {},
   "outputs": [
    {
     "name": "stdout",
     "output_type": "stream",
     "text": [
      "InstantMessage-High\n",
      "Size = 19.2% \n",
      "Revenue Share = 21.0%\n",
      "Total Revenue = NT$ 391,282,995\n",
      "=========================\n",
      "Average Age = 36\n",
      "Average Tenure = 57\n",
      "Sex Ratio = 46% Male 54% Female\n",
      "Flat Ratio = 4.8% 3G, 78.7% 4G\n",
      "Origin Operator = 24% 台灣大哥大 20% 中華電信 4% 亞太電信 \n",
      "=========================\n",
      "Preference Channel = 46% Retail \n",
      "=========================\n",
      "Preference Phone Type= 48% Apple                                                                                                                                                  20% SAMSUNG                                                                                                                                                9% HTC                                                                                                                                                    \n",
      "Average Change Phone Count = 1.75\n",
      "=========================\n",
      "Average DATA_USAGE_MB = 48% H 44% M 7% L \n"
     ]
    }
   ],
   "source": [
    "print(target_group)\n",
    "print(\"Size = %s%% \" % (int((size_info / len(df)) * 1000) / 10))\n",
    "print(\"Revenue Share = %s%%\" % (int(revenue_total / all_revenue_total * 1000)/10))\n",
    "print(\"Total Revenue = NT$ %s\" % comma_format(revenue_total))\n",
    "print(\"=========================\")\n",
    "print(\"Average Age = %s\" % comma_format(age))\n",
    "print(\"Average Tenure = %s\" % comma_format(tenure))\n",
    "print(\"Sex Ratio = %s\" % (sex_ratio))\n",
    "# print(\"Flat 3/4G Ratio = %s%%\" % (int(flat_ratio * 100)))\n",
    "print(\"Flat Ratio = %s\" % flat_ratio )\n",
    "print(\"Origin Operator = %s\" % max_origin_opr)\n",
    "# print(\"PHONE OS = \")\n",
    "print(\"=========================\")\n",
    "print(\"Preference Channel = %s\" % last_channel_type)\n",
    "# print(\"active_store = %s\" % active_store)\n",
    "print(\"=========================\")\n",
    "print(\"Preference Phone Type= %s\" % phone_type)\n",
    "print(\"Average Change Phone Count = %.2f\" % hs_chg_cnt)\n",
    "print(\"=========================\")\n",
    "print(\"Average DATA_USAGE_MB = %s\" % (data_usage_mb))\n"
   ]
  },
  {
   "cell_type": "code",
   "execution_count": null,
   "metadata": {
    "collapsed": true
   },
   "outputs": [],
   "source": []
  },
  {
   "cell_type": "code",
   "execution_count": null,
   "metadata": {
    "collapsed": true
   },
   "outputs": [],
   "source": []
  },
  {
   "cell_type": "code",
   "execution_count": null,
   "metadata": {
    "collapsed": true
   },
   "outputs": [],
   "source": []
  },
  {
   "cell_type": "code",
   "execution_count": null,
   "metadata": {
    "collapsed": true
   },
   "outputs": [],
   "source": []
  },
  {
   "cell_type": "code",
   "execution_count": null,
   "metadata": {
    "collapsed": true
   },
   "outputs": [],
   "source": []
  },
  {
   "cell_type": "code",
   "execution_count": 7,
   "metadata": {},
   "outputs": [
    {
     "data": {
      "text/html": [
       "<div>\n",
       "<style>\n",
       "    .dataframe thead tr:only-child th {\n",
       "        text-align: right;\n",
       "    }\n",
       "\n",
       "    .dataframe thead th {\n",
       "        text-align: left;\n",
       "    }\n",
       "\n",
       "    .dataframe tbody tr th {\n",
       "        vertical-align: top;\n",
       "    }\n",
       "</style>\n",
       "<table border=\"1\" class=\"dataframe\">\n",
       "  <thead>\n",
       "    <tr style=\"text-align: right;\">\n",
       "      <th></th>\n",
       "      <th>DATA_MONTH</th>\n",
       "      <th>MINING_DW_SUBSCR_NO</th>\n",
       "      <th>HTTPDR_START_DATE</th>\n",
       "      <th>HTTPDR_START_HOUR</th>\n",
       "      <th>DNA_CATG_ID</th>\n",
       "      <th>SERVICE_NAME</th>\n",
       "      <th>HTTPDR_DATA_CNT</th>\n",
       "    </tr>\n",
       "    <tr>\n",
       "      <th>DNA_CATG_DESC</th>\n",
       "      <th></th>\n",
       "      <th></th>\n",
       "      <th></th>\n",
       "      <th></th>\n",
       "      <th></th>\n",
       "      <th></th>\n",
       "      <th></th>\n",
       "    </tr>\n",
       "  </thead>\n",
       "  <tbody>\n",
       "    <tr>\n",
       "      <th>B2B</th>\n",
       "      <td>623415</td>\n",
       "      <td>623415</td>\n",
       "      <td>623415</td>\n",
       "      <td>623415</td>\n",
       "      <td>623415</td>\n",
       "      <td>623415</td>\n",
       "      <td>623415</td>\n",
       "    </tr>\n",
       "    <tr>\n",
       "      <th>交流平台</th>\n",
       "      <td>1</td>\n",
       "      <td>1</td>\n",
       "      <td>1</td>\n",
       "      <td>1</td>\n",
       "      <td>1</td>\n",
       "      <td>1</td>\n",
       "      <td>1</td>\n",
       "    </tr>\n",
       "    <tr>\n",
       "      <th>企業首頁</th>\n",
       "      <td>1187135</td>\n",
       "      <td>1187135</td>\n",
       "      <td>1187135</td>\n",
       "      <td>1187135</td>\n",
       "      <td>1187135</td>\n",
       "      <td>1187135</td>\n",
       "      <td>1187135</td>\n",
       "    </tr>\n",
       "    <tr>\n",
       "      <th>促銷</th>\n",
       "      <td>8</td>\n",
       "      <td>8</td>\n",
       "      <td>8</td>\n",
       "      <td>8</td>\n",
       "      <td>8</td>\n",
       "      <td>8</td>\n",
       "      <td>8</td>\n",
       "    </tr>\n",
       "    <tr>\n",
       "      <th>健康</th>\n",
       "      <td>192642</td>\n",
       "      <td>192642</td>\n",
       "      <td>192642</td>\n",
       "      <td>192642</td>\n",
       "      <td>192642</td>\n",
       "      <td>192642</td>\n",
       "      <td>192642</td>\n",
       "    </tr>\n",
       "    <tr>\n",
       "      <th>入口網站</th>\n",
       "      <td>2711184</td>\n",
       "      <td>2711184</td>\n",
       "      <td>2711184</td>\n",
       "      <td>2711184</td>\n",
       "      <td>2711184</td>\n",
       "      <td>2711184</td>\n",
       "      <td>2711184</td>\n",
       "    </tr>\n",
       "    <tr>\n",
       "      <th>其他</th>\n",
       "      <td>97</td>\n",
       "      <td>97</td>\n",
       "      <td>97</td>\n",
       "      <td>97</td>\n",
       "      <td>97</td>\n",
       "      <td>97</td>\n",
       "      <td>97</td>\n",
       "    </tr>\n",
       "    <tr>\n",
       "      <th>博弈</th>\n",
       "      <td>84280</td>\n",
       "      <td>84280</td>\n",
       "      <td>84280</td>\n",
       "      <td>84280</td>\n",
       "      <td>84280</td>\n",
       "      <td>84280</td>\n",
       "      <td>84280</td>\n",
       "    </tr>\n",
       "    <tr>\n",
       "      <th>地區性</th>\n",
       "      <td>10714</td>\n",
       "      <td>10714</td>\n",
       "      <td>10714</td>\n",
       "      <td>10714</td>\n",
       "      <td>10714</td>\n",
       "      <td>10714</td>\n",
       "      <td>10714</td>\n",
       "    </tr>\n",
       "    <tr>\n",
       "      <th>娛樂</th>\n",
       "      <td>2588620</td>\n",
       "      <td>2588620</td>\n",
       "      <td>2588620</td>\n",
       "      <td>2588620</td>\n",
       "      <td>2588620</td>\n",
       "      <td>2588620</td>\n",
       "      <td>2588620</td>\n",
       "    </tr>\n",
       "    <tr>\n",
       "      <th>家庭與青少年</th>\n",
       "      <td>82366</td>\n",
       "      <td>82366</td>\n",
       "      <td>82366</td>\n",
       "      <td>82366</td>\n",
       "      <td>82366</td>\n",
       "      <td>82366</td>\n",
       "      <td>82366</td>\n",
       "    </tr>\n",
       "    <tr>\n",
       "      <th>成人</th>\n",
       "      <td>498534</td>\n",
       "      <td>498534</td>\n",
       "      <td>498534</td>\n",
       "      <td>498534</td>\n",
       "      <td>498534</td>\n",
       "      <td>498534</td>\n",
       "      <td>498534</td>\n",
       "    </tr>\n",
       "    <tr>\n",
       "      <th>房產</th>\n",
       "      <td>31374</td>\n",
       "      <td>31374</td>\n",
       "      <td>31374</td>\n",
       "      <td>31374</td>\n",
       "      <td>31374</td>\n",
       "      <td>31374</td>\n",
       "      <td>31374</td>\n",
       "    </tr>\n",
       "    <tr>\n",
       "      <th>技術資訊</th>\n",
       "      <td>621003</td>\n",
       "      <td>621003</td>\n",
       "      <td>621003</td>\n",
       "      <td>621003</td>\n",
       "      <td>621003</td>\n",
       "      <td>621003</td>\n",
       "      <td>621003</td>\n",
       "    </tr>\n",
       "    <tr>\n",
       "      <th>政府</th>\n",
       "      <td>250404</td>\n",
       "      <td>250404</td>\n",
       "      <td>250404</td>\n",
       "      <td>250404</td>\n",
       "      <td>250404</td>\n",
       "      <td>250404</td>\n",
       "      <td>250404</td>\n",
       "    </tr>\n",
       "    <tr>\n",
       "      <th>教育</th>\n",
       "      <td>120659</td>\n",
       "      <td>120659</td>\n",
       "      <td>120659</td>\n",
       "      <td>120659</td>\n",
       "      <td>120659</td>\n",
       "      <td>120659</td>\n",
       "      <td>120659</td>\n",
       "    </tr>\n",
       "    <tr>\n",
       "      <th>文教與閱讀</th>\n",
       "      <td>80416</td>\n",
       "      <td>80416</td>\n",
       "      <td>80416</td>\n",
       "      <td>80416</td>\n",
       "      <td>80416</td>\n",
       "      <td>80416</td>\n",
       "      <td>80416</td>\n",
       "    </tr>\n",
       "    <tr>\n",
       "      <th>新聞與訊息</th>\n",
       "      <td>3030845</td>\n",
       "      <td>3030845</td>\n",
       "      <td>3030845</td>\n",
       "      <td>3030845</td>\n",
       "      <td>3030845</td>\n",
       "      <td>3030845</td>\n",
       "      <td>3030845</td>\n",
       "    </tr>\n",
       "    <tr>\n",
       "      <th>旅遊</th>\n",
       "      <td>325400</td>\n",
       "      <td>325400</td>\n",
       "      <td>325400</td>\n",
       "      <td>325400</td>\n",
       "      <td>325400</td>\n",
       "      <td>325400</td>\n",
       "      <td>325400</td>\n",
       "    </tr>\n",
       "    <tr>\n",
       "      <th>未知-未分類</th>\n",
       "      <td>56937</td>\n",
       "      <td>56937</td>\n",
       "      <td>56937</td>\n",
       "      <td>56937</td>\n",
       "      <td>56937</td>\n",
       "      <td>56937</td>\n",
       "      <td>56937</td>\n",
       "    </tr>\n",
       "    <tr>\n",
       "      <th>未知-無法分類</th>\n",
       "      <td>6574192</td>\n",
       "      <td>6574192</td>\n",
       "      <td>6574192</td>\n",
       "      <td>6574192</td>\n",
       "      <td>6574192</td>\n",
       "      <td>6574192</td>\n",
       "      <td>6574192</td>\n",
       "    </tr>\n",
       "    <tr>\n",
       "      <th>汽車</th>\n",
       "      <td>100727</td>\n",
       "      <td>100727</td>\n",
       "      <td>100727</td>\n",
       "      <td>100727</td>\n",
       "      <td>100727</td>\n",
       "      <td>100727</td>\n",
       "      <td>100727</td>\n",
       "    </tr>\n",
       "    <tr>\n",
       "      <th>生活資訊</th>\n",
       "      <td>1557396</td>\n",
       "      <td>1557396</td>\n",
       "      <td>1557396</td>\n",
       "      <td>1557396</td>\n",
       "      <td>1557396</td>\n",
       "      <td>1557396</td>\n",
       "      <td>1557396</td>\n",
       "    </tr>\n",
       "    <tr>\n",
       "      <th>社群媒體</th>\n",
       "      <td>4036596</td>\n",
       "      <td>4036596</td>\n",
       "      <td>4036596</td>\n",
       "      <td>4036596</td>\n",
       "      <td>4036596</td>\n",
       "      <td>4036596</td>\n",
       "      <td>4036596</td>\n",
       "    </tr>\n",
       "    <tr>\n",
       "      <th>社群關係</th>\n",
       "      <td>9625</td>\n",
       "      <td>9625</td>\n",
       "      <td>9625</td>\n",
       "      <td>9625</td>\n",
       "      <td>9625</td>\n",
       "      <td>9625</td>\n",
       "      <td>9625</td>\n",
       "    </tr>\n",
       "    <tr>\n",
       "      <th>綜合資訊查詢</th>\n",
       "      <td>270386</td>\n",
       "      <td>270386</td>\n",
       "      <td>270386</td>\n",
       "      <td>270386</td>\n",
       "      <td>270386</td>\n",
       "      <td>270386</td>\n",
       "      <td>270386</td>\n",
       "    </tr>\n",
       "    <tr>\n",
       "      <th>網路服務</th>\n",
       "      <td>20947070</td>\n",
       "      <td>20947070</td>\n",
       "      <td>20947070</td>\n",
       "      <td>20947070</td>\n",
       "      <td>20947070</td>\n",
       "      <td>20947070</td>\n",
       "      <td>20947070</td>\n",
       "    </tr>\n",
       "    <tr>\n",
       "      <th>網路服務供應商</th>\n",
       "      <td>27911</td>\n",
       "      <td>27911</td>\n",
       "      <td>27911</td>\n",
       "      <td>27911</td>\n",
       "      <td>27911</td>\n",
       "      <td>27911</td>\n",
       "      <td>27911</td>\n",
       "    </tr>\n",
       "    <tr>\n",
       "      <th>職涯發展</th>\n",
       "      <td>85693</td>\n",
       "      <td>85693</td>\n",
       "      <td>85693</td>\n",
       "      <td>85693</td>\n",
       "      <td>85693</td>\n",
       "      <td>85693</td>\n",
       "      <td>85693</td>\n",
       "    </tr>\n",
       "    <tr>\n",
       "      <th>財務/理財/貸款</th>\n",
       "      <td>302170</td>\n",
       "      <td>302170</td>\n",
       "      <td>302170</td>\n",
       "      <td>302170</td>\n",
       "      <td>302170</td>\n",
       "      <td>302170</td>\n",
       "      <td>302170</td>\n",
       "    </tr>\n",
       "    <tr>\n",
       "      <th>遊戲</th>\n",
       "      <td>1647821</td>\n",
       "      <td>1647821</td>\n",
       "      <td>1647821</td>\n",
       "      <td>1647821</td>\n",
       "      <td>1647821</td>\n",
       "      <td>1647821</td>\n",
       "      <td>1647821</td>\n",
       "    </tr>\n",
       "    <tr>\n",
       "      <th>運動</th>\n",
       "      <td>213746</td>\n",
       "      <td>213746</td>\n",
       "      <td>213746</td>\n",
       "      <td>213746</td>\n",
       "      <td>213746</td>\n",
       "      <td>213746</td>\n",
       "      <td>213746</td>\n",
       "    </tr>\n",
       "    <tr>\n",
       "      <th>零售</th>\n",
       "      <td>1519115</td>\n",
       "      <td>1519115</td>\n",
       "      <td>1519115</td>\n",
       "      <td>1519115</td>\n",
       "      <td>1519115</td>\n",
       "      <td>1519115</td>\n",
       "      <td>1519115</td>\n",
       "    </tr>\n",
       "    <tr>\n",
       "      <th>電信/通訊</th>\n",
       "      <td>82727</td>\n",
       "      <td>82727</td>\n",
       "      <td>82727</td>\n",
       "      <td>82727</td>\n",
       "      <td>82727</td>\n",
       "      <td>82727</td>\n",
       "      <td>82727</td>\n",
       "    </tr>\n",
       "    <tr>\n",
       "      <th>餐廳美食</th>\n",
       "      <td>128791</td>\n",
       "      <td>128791</td>\n",
       "      <td>128791</td>\n",
       "      <td>128791</td>\n",
       "      <td>128791</td>\n",
       "      <td>128791</td>\n",
       "      <td>128791</td>\n",
       "    </tr>\n",
       "  </tbody>\n",
       "</table>\n",
       "</div>"
      ],
      "text/plain": [
       "               DATA_MONTH  MINING_DW_SUBSCR_NO  HTTPDR_START_DATE  \\\n",
       "DNA_CATG_DESC                                                       \n",
       "B2B                623415               623415             623415   \n",
       "交流平台                    1                    1                  1   \n",
       "企業首頁              1187135              1187135            1187135   \n",
       "促銷                      8                    8                  8   \n",
       "健康                 192642               192642             192642   \n",
       "入口網站              2711184              2711184            2711184   \n",
       "其他                     97                   97                 97   \n",
       "博弈                  84280                84280              84280   \n",
       "地區性                 10714                10714              10714   \n",
       "娛樂                2588620              2588620            2588620   \n",
       "家庭與青少年              82366                82366              82366   \n",
       "成人                 498534               498534             498534   \n",
       "房產                  31374                31374              31374   \n",
       "技術資訊               621003               621003             621003   \n",
       "政府                 250404               250404             250404   \n",
       "教育                 120659               120659             120659   \n",
       "文教與閱讀               80416                80416              80416   \n",
       "新聞與訊息             3030845              3030845            3030845   \n",
       "旅遊                 325400               325400             325400   \n",
       "未知-未分類              56937                56937              56937   \n",
       "未知-無法分類           6574192              6574192            6574192   \n",
       "汽車                 100727               100727             100727   \n",
       "生活資訊              1557396              1557396            1557396   \n",
       "社群媒體              4036596              4036596            4036596   \n",
       "社群關係                 9625                 9625               9625   \n",
       "綜合資訊查詢             270386               270386             270386   \n",
       "網路服務             20947070             20947070           20947070   \n",
       "網路服務供應商             27911                27911              27911   \n",
       "職涯發展                85693                85693              85693   \n",
       "財務/理財/貸款           302170               302170             302170   \n",
       "遊戲                1647821              1647821            1647821   \n",
       "運動                 213746               213746             213746   \n",
       "零售                1519115              1519115            1519115   \n",
       "電信/通訊               82727                82727              82727   \n",
       "餐廳美食               128791               128791             128791   \n",
       "\n",
       "               HTTPDR_START_HOUR  DNA_CATG_ID  SERVICE_NAME  HTTPDR_DATA_CNT  \n",
       "DNA_CATG_DESC                                                                 \n",
       "B2B                       623415       623415        623415           623415  \n",
       "交流平台                           1            1             1                1  \n",
       "企業首頁                     1187135      1187135       1187135          1187135  \n",
       "促銷                             8            8             8                8  \n",
       "健康                        192642       192642        192642           192642  \n",
       "入口網站                     2711184      2711184       2711184          2711184  \n",
       "其他                            97           97            97               97  \n",
       "博弈                         84280        84280         84280            84280  \n",
       "地區性                        10714        10714         10714            10714  \n",
       "娛樂                       2588620      2588620       2588620          2588620  \n",
       "家庭與青少年                     82366        82366         82366            82366  \n",
       "成人                        498534       498534        498534           498534  \n",
       "房產                         31374        31374         31374            31374  \n",
       "技術資訊                      621003       621003        621003           621003  \n",
       "政府                        250404       250404        250404           250404  \n",
       "教育                        120659       120659        120659           120659  \n",
       "文教與閱讀                      80416        80416         80416            80416  \n",
       "新聞與訊息                    3030845      3030845       3030845          3030845  \n",
       "旅遊                        325400       325400        325400           325400  \n",
       "未知-未分類                     56937        56937         56937            56937  \n",
       "未知-無法分類                  6574192      6574192       6574192          6574192  \n",
       "汽車                        100727       100727        100727           100727  \n",
       "生活資訊                     1557396      1557396       1557396          1557396  \n",
       "社群媒體                     4036596      4036596       4036596          4036596  \n",
       "社群關係                        9625         9625          9625             9625  \n",
       "綜合資訊查詢                    270386       270386        270386           270386  \n",
       "網路服務                    20947070     20947070      20947070         20947070  \n",
       "網路服務供應商                    27911        27911         27911            27911  \n",
       "職涯發展                       85693        85693         85693            85693  \n",
       "財務/理財/貸款                  302170       302170        302170           302170  \n",
       "遊戲                       1647821      1647821       1647821          1647821  \n",
       "運動                        213746       213746        213746           213746  \n",
       "零售                       1519115      1519115       1519115          1519115  \n",
       "電信/通訊                      82727        82727         82727            82727  \n",
       "餐廳美食                      128791       128791        128791           128791  "
      ]
     },
     "execution_count": 7,
     "metadata": {},
     "output_type": "execute_result"
    }
   ],
   "source": [
    "df.groupby(\"DNA_CATG_DESC\").count()"
   ]
  },
  {
   "cell_type": "code",
   "execution_count": 8,
   "metadata": {
    "collapsed": true
   },
   "outputs": [],
   "source": [
    "for col in df_cols:\n",
    "    if \"dor\" in col:\n",
    "        print(col)"
   ]
  },
  {
   "cell_type": "code",
   "execution_count": null,
   "metadata": {
    "collapsed": true,
    "scrolled": true
   },
   "outputs": [],
   "source": [
    "df.groupby(\"Groups\").count()"
   ]
  },
  {
   "cell_type": "code",
   "execution_count": null,
   "metadata": {
    "collapsed": true
   },
   "outputs": [],
   "source": [
    "len(df)"
   ]
  },
  {
   "cell_type": "code",
   "execution_count": null,
   "metadata": {
    "collapsed": true
   },
   "outputs": [],
   "source": [
    "len(df_cols)"
   ]
  },
  {
   "cell_type": "code",
   "execution_count": null,
   "metadata": {
    "collapsed": true
   },
   "outputs": [],
   "source": [
    "df.head()"
   ]
  },
  {
   "cell_type": "code",
   "execution_count": null,
   "metadata": {
    "collapsed": true
   },
   "outputs": [],
   "source": [
    "# set configure\n",
    "# path = \"../DATA_FULL/\"\n",
    "# path = \"./\"\n",
    "# filename = \"DNA_KMEANS_RESULT_ID_NEW\"\n",
    "path = \"./\"\n",
    "filename = \"Groups_ID_0712\"\n",
    "relative_filename = path + filename + \".csv\"\n",
    "# relative_filename = path + filename + \".txt\""
   ]
  },
  {
   "cell_type": "code",
   "execution_count": null,
   "metadata": {
    "collapsed": true
   },
   "outputs": [],
   "source": [
    "group_df =  pd.read_csv(relative_filename, error_bad_lines=False)\n",
    "group_df.head()"
   ]
  },
  {
   "cell_type": "code",
   "execution_count": null,
   "metadata": {
    "collapsed": true
   },
   "outputs": [],
   "source": [
    "for col in L1M_PROM_COMMIT_MONTHS:\n",
    "    if(col not in df_cols):\n",
    "        print(\"col not found =>\", col)"
   ]
  },
  {
   "cell_type": "code",
   "execution_count": null,
   "metadata": {
    "collapsed": true
   },
   "outputs": [],
   "source": [
    "df.groupby(\"Groups\").count()"
   ]
  },
  {
   "cell_type": "code",
   "execution_count": null,
   "metadata": {
    "collapsed": true
   },
   "outputs": [],
   "source": [
    "group_df.groupby(\"Groups\").count()"
   ]
  },
  {
   "cell_type": "code",
   "execution_count": null,
   "metadata": {
    "collapsed": true
   },
   "outputs": [],
   "source": [
    "len(df)"
   ]
  },
  {
   "cell_type": "code",
   "execution_count": null,
   "metadata": {
    "collapsed": true
   },
   "outputs": [],
   "source": [
    "df.head()"
   ]
  },
  {
   "cell_type": "code",
   "execution_count": null,
   "metadata": {
    "collapsed": true,
    "scrolled": false
   },
   "outputs": [],
   "source": [
    "for col in df.columns:\n",
    "    print()\n",
    "    print()\n",
    "    print()\n",
    "    print(col)\n",
    "    print(\"==========================\")\n",
    "    print(df[col].unique())"
   ]
  },
  {
   "cell_type": "code",
   "execution_count": null,
   "metadata": {
    "collapsed": true
   },
   "outputs": [],
   "source": [
    "df[(df[\"FLAT_RATE_4G_IND\"] == \"N\") & (df[\"FLAT_RATE_3G_IND\"] == \"N\")]"
   ]
  },
  {
   "cell_type": "code",
   "execution_count": null,
   "metadata": {
    "collapsed": true
   },
   "outputs": [],
   "source": [
    "df.head()"
   ]
  },
  {
   "cell_type": "code",
   "execution_count": null,
   "metadata": {
    "collapsed": true
   },
   "outputs": [],
   "source": [
    "df.groupby(\"Groups\").count()"
   ]
  },
  {
   "cell_type": "code",
   "execution_count": null,
   "metadata": {
    "collapsed": true
   },
   "outputs": [],
   "source": [
    "temp_df = df[df.columns[1:]]"
   ]
  },
  {
   "cell_type": "code",
   "execution_count": null,
   "metadata": {
    "collapsed": true
   },
   "outputs": [],
   "source": [
    "temp_df"
   ]
  },
  {
   "cell_type": "code",
   "execution_count": null,
   "metadata": {
    "collapsed": true
   },
   "outputs": [],
   "source": [
    "# write to csv and no index\n",
    "t0 = time()\n",
    "temp_df.to_csv(\"DATA_FOR_KMEANS_revise.csv\", index=False)\n",
    "print(\"time for output csv file: %.2f\" % (time()-t0))"
   ]
  },
  {
   "cell_type": "code",
   "execution_count": null,
   "metadata": {
    "collapsed": true
   },
   "outputs": [],
   "source": [
    "path = \"./marketing_analyze/\"\n",
    "filename = \"group_id_with_none_20170709_12.csv\"\n",
    "# TAG K MEAN RESULT\n",
    "GROUP_ID_FILE = path + filename\n",
    "group_df = pd.read_csv(GROUP_ID_FILE, error_bad_lines=False, usecols = [\"MINING_DW_SUBSCR_NO\", \"Groups\"])\n",
    "df_combine_group = pd.merge(group_df, df, on='MINING_DW_SUBSCR_NO', how='inner')"
   ]
  },
  {
   "cell_type": "code",
   "execution_count": null,
   "metadata": {
    "collapsed": true
   },
   "outputs": [],
   "source": [
    "len(df_combine_group)"
   ]
  },
  {
   "cell_type": "code",
   "execution_count": null,
   "metadata": {
    "collapsed": true
   },
   "outputs": [],
   "source": [
    "df_combine_group.groupby(\"Groups\").count()"
   ]
  },
  {
   "cell_type": "code",
   "execution_count": null,
   "metadata": {
    "collapsed": true
   },
   "outputs": [],
   "source": [
    "df_combine_group[df_combine_group[\"Groups\"] == \"Infrequent Internet User\"].groupby(\"CUST_TYPE\").count()"
   ]
  },
  {
   "cell_type": "code",
   "execution_count": null,
   "metadata": {
    "collapsed": true
   },
   "outputs": [],
   "source": [
    "df_combine_group[df_combine_group[\"Groups\"] == \"None\"].groupby(\"CUST_TYPE\").count()"
   ]
  },
  {
   "cell_type": "code",
   "execution_count": null,
   "metadata": {
    "collapsed": true
   },
   "outputs": [],
   "source": [
    "50183 + 283147 + 127009"
   ]
  },
  {
   "cell_type": "code",
   "execution_count": null,
   "metadata": {
    "collapsed": true
   },
   "outputs": [],
   "source": [
    "len(df)"
   ]
  },
  {
   "cell_type": "code",
   "execution_count": null,
   "metadata": {
    "collapsed": true
   },
   "outputs": [],
   "source": [
    "path = \"D:/NEW_DATA_FULL_2017_7_4/\"\n",
    "filename = \"MDS_SINGLESIM_APRIL_DORMANT_AGE_TENURE_COMPLETED\"\n",
    "# relative_filename = path + filename + \".csv\"\n",
    "relative_filename = path + filename + \".txt\"\n",
    "user_df = pd.read_csv(relative_filename, error_bad_lines=False)\n"
   ]
  },
  {
   "cell_type": "code",
   "execution_count": null,
   "metadata": {
    "collapsed": true
   },
   "outputs": [],
   "source": [
    "len(user_df)"
   ]
  },
  {
   "cell_type": "code",
   "execution_count": null,
   "metadata": {
    "collapsed": true
   },
   "outputs": [],
   "source": [
    "user_df = pd.merge(user_df, df, on='MINING_DW_SUBSCR_NO', how='left')\n"
   ]
  },
  {
   "cell_type": "code",
   "execution_count": null,
   "metadata": {
    "collapsed": true
   },
   "outputs": [],
   "source": []
  },
  {
   "cell_type": "code",
   "execution_count": null,
   "metadata": {
    "collapsed": true
   },
   "outputs": [],
   "source": [
    "len(user_df)"
   ]
  },
  {
   "cell_type": "code",
   "execution_count": null,
   "metadata": {
    "collapsed": true
   },
   "outputs": [],
   "source": [
    "user_df.groupby(\"CURR_BILL_PLAN_NAME\").count()"
   ]
  },
  {
   "cell_type": "code",
   "execution_count": null,
   "metadata": {
    "collapsed": true
   },
   "outputs": [],
   "source": [
    "user_df.groupby(\"CURR_DATA_BILL_PLAN_NAME\").count()"
   ]
  },
  {
   "cell_type": "code",
   "execution_count": null,
   "metadata": {
    "collapsed": true
   },
   "outputs": [],
   "source": [
    "user_df['CURR_BILL_PLAN_NAME'] = user_df['CURR_BILL_PLAN_NAME'].fillna(\"?\")"
   ]
  },
  {
   "cell_type": "code",
   "execution_count": null,
   "metadata": {
    "collapsed": true
   },
   "outputs": [],
   "source": [
    "user_df['CURR_DATA_BILL_PLAN_NAME'] = user_df['CURR_DATA_BILL_PLAN_NAME'].fillna(\"?\")"
   ]
  },
  {
   "cell_type": "code",
   "execution_count": null,
   "metadata": {
    "collapsed": true
   },
   "outputs": [],
   "source": [
    "user_df.groupby(\"CURR_BILL_PLAN_NAME\").count()"
   ]
  },
  {
   "cell_type": "code",
   "execution_count": null,
   "metadata": {
    "collapsed": true
   },
   "outputs": [],
   "source": [
    "user_df.groupby(\"CURR_DATA_BILL_PLAN_NAME\").count()"
   ]
  },
  {
   "cell_type": "code",
   "execution_count": null,
   "metadata": {
    "collapsed": true
   },
   "outputs": [],
   "source": [
    "user_df[(user_df['CURR_BILL_PLAN_NAME'] == \"?\") & (user_df['CURR_DATA_BILL_PLAN_NAME'] == \"?\")]"
   ]
  },
  {
   "cell_type": "code",
   "execution_count": null,
   "metadata": {
    "collapsed": true
   },
   "outputs": [],
   "source": [
    "len(user_df[(user_df['CURR_BILL_PLAN_NAME'] != \"?\") & (user_df['CURR_DATA_BILL_PLAN_NAME'] == \"?\")])"
   ]
  },
  {
   "cell_type": "code",
   "execution_count": null,
   "metadata": {
    "collapsed": true
   },
   "outputs": [],
   "source": [
    "460339 - 340739"
   ]
  },
  {
   "cell_type": "code",
   "execution_count": null,
   "metadata": {
    "collapsed": true,
    "scrolled": true
   },
   "outputs": [],
   "source": [
    "for i in df.columns:\n",
    "    print(df[i])"
   ]
  },
  {
   "cell_type": "code",
   "execution_count": null,
   "metadata": {
    "collapsed": true
   },
   "outputs": [],
   "source": [
    "df.groupby('Groups').count()"
   ]
  },
  {
   "cell_type": "code",
   "execution_count": null,
   "metadata": {
    "collapsed": true
   },
   "outputs": [],
   "source": [
    "len(df)"
   ]
  },
  {
   "cell_type": "code",
   "execution_count": null,
   "metadata": {
    "collapsed": true
   },
   "outputs": [],
   "source": [
    "len(df)"
   ]
  },
  {
   "cell_type": "code",
   "execution_count": null,
   "metadata": {
    "collapsed": true
   },
   "outputs": [],
   "source": [
    "len(df)"
   ]
  },
  {
   "cell_type": "code",
   "execution_count": null,
   "metadata": {
    "collapsed": true
   },
   "outputs": [],
   "source": []
  },
  {
   "cell_type": "code",
   "execution_count": null,
   "metadata": {
    "collapsed": true
   },
   "outputs": [],
   "source": [
    "df.head()"
   ]
  },
  {
   "cell_type": "code",
   "execution_count": null,
   "metadata": {
    "collapsed": true
   },
   "outputs": [],
   "source": [
    "list(df.columns)"
   ]
  },
  {
   "cell_type": "code",
   "execution_count": null,
   "metadata": {
    "collapsed": true
   },
   "outputs": [],
   "source": [
    "len(df)"
   ]
  },
  {
   "cell_type": "code",
   "execution_count": null,
   "metadata": {
    "collapsed": true
   },
   "outputs": [],
   "source": [
    "df[df[\"MINING_DW_SUBSCR_NO\"] == 8134330931]"
   ]
  },
  {
   "cell_type": "code",
   "execution_count": null,
   "metadata": {
    "collapsed": true
   },
   "outputs": [],
   "source": [
    "# set configure\n",
    "path = \"./CDR_MONTHLY_AGGR/\"\n",
    "path = \"./dna_Data/\"\n",
    "# path = \"C:/Users/VIPLAB/Downloads/Spark_data/\"\n",
    "filename = \"DNA_daily_april\"\n",
    "# filename = \"weekday_end_april_div_week\"\n",
    "\n",
    "# path = \"./\"\n",
    "# filename = \"dm_subscr_mtc_mly_COMPLETED_revise\"\n",
    "relative_filename = path + filename + \".csv\"\n",
    "# relative_filename = path + filename + \".txt\"\n"
   ]
  },
  {
   "cell_type": "code",
   "execution_count": null,
   "metadata": {
    "collapsed": true
   },
   "outputs": [],
   "source": [
    "len(df)"
   ]
  },
  {
   "cell_type": "code",
   "execution_count": null,
   "metadata": {
    "collapsed": true
   },
   "outputs": [],
   "source": [
    "list(df.columns)"
   ]
  },
  {
   "cell_type": "code",
   "execution_count": null,
   "metadata": {
    "collapsed": true
   },
   "outputs": [],
   "source": [
    "df[df[\"MINING_DW_SUBSCR_NO\"] == 10001495017]"
   ]
  },
  {
   "cell_type": "code",
   "execution_count": null,
   "metadata": {
    "collapsed": true
   },
   "outputs": [],
   "source": [
    "df.info()"
   ]
  },
  {
   "cell_type": "code",
   "execution_count": null,
   "metadata": {
    "collapsed": true,
    "scrolled": true
   },
   "outputs": [],
   "source": [
    "df = df.replace(np.inf, 0)"
   ]
  },
  {
   "cell_type": "code",
   "execution_count": null,
   "metadata": {
    "collapsed": true
   },
   "outputs": [],
   "source": [
    "df = df.fillna(0)"
   ]
  },
  {
   "cell_type": "code",
   "execution_count": null,
   "metadata": {
    "collapsed": true
   },
   "outputs": [],
   "source": [
    "list(df.columns)"
   ]
  },
  {
   "cell_type": "code",
   "execution_count": null,
   "metadata": {
    "collapsed": true
   },
   "outputs": [],
   "source": [
    "len(list(df.columns))"
   ]
  },
  {
   "cell_type": "code",
   "execution_count": null,
   "metadata": {
    "collapsed": true
   },
   "outputs": [],
   "source": [
    "len(df[df[\"Groups\"] == \"seldom\"])"
   ]
  },
  {
   "cell_type": "code",
   "execution_count": null,
   "metadata": {
    "collapsed": true
   },
   "outputs": [],
   "source": [
    "len(df[df[\"Groups\"] == \"None\"])"
   ]
  },
  {
   "cell_type": "code",
   "execution_count": null,
   "metadata": {
    "collapsed": true
   },
   "outputs": [],
   "source": []
  },
  {
   "cell_type": "code",
   "execution_count": null,
   "metadata": {
    "collapsed": true,
    "scrolled": true
   },
   "outputs": [],
   "source": [
    "# clean non numeric data\n",
    "# iteration avoid memory leak\n",
    "for col in df.columns[numeric_st_idx:]:\n",
    "    df[col] = pd.to_numeric(df[col], errors='coerce')\n",
    "    # let nan == 0\n",
    "#     print(col)\n",
    "    df[col] = df[col].fillna(0)\n",
    "    df[col] = df[col].astype(np.int64)\n",
    "# df = df.fillna(0)\n",
    "# # df[df.columns[numeric_st_idx:]] = df[df.columns[numeric_st_idx:]].apply(np.int64)\n",
    "# for col in df.columns[numeric_st_idx:]:\n",
    "#     df[col] = df[col].apply(np.int32)"
   ]
  },
  {
   "cell_type": "code",
   "execution_count": null,
   "metadata": {
    "collapsed": true
   },
   "outputs": [],
   "source": [
    "df.dtypes"
   ]
  },
  {
   "cell_type": "code",
   "execution_count": null,
   "metadata": {
    "collapsed": true
   },
   "outputs": [],
   "source": [
    "# write to csv and no index\n",
    "out_filename = \"0713_april_marketing_anylze_full_table_group12_select_max_min.csv\"\n",
    "t0 = time()\n",
    "df.to_csv(path + out_filename, index=False)\n",
    "print(\"time for output csv file: %.2f\" % (time()-t0))"
   ]
  },
  {
   "cell_type": "code",
   "execution_count": null,
   "metadata": {
    "collapsed": true
   },
   "outputs": [],
   "source": [
    "feather.write_dataframe(df, path + out_filename + \".feather\")\n"
   ]
  },
  {
   "cell_type": "code",
   "execution_count": null,
   "metadata": {
    "collapsed": true
   },
   "outputs": [],
   "source": [
    "del df"
   ]
  },
  {
   "cell_type": "code",
   "execution_count": null,
   "metadata": {
    "collapsed": true
   },
   "outputs": [],
   "source": []
  },
  {
   "cell_type": "code",
   "execution_count": null,
   "metadata": {
    "collapsed": true
   },
   "outputs": [],
   "source": []
  },
  {
   "cell_type": "code",
   "execution_count": null,
   "metadata": {
    "collapsed": true
   },
   "outputs": [],
   "source": []
  },
  {
   "cell_type": "code",
   "execution_count": null,
   "metadata": {
    "collapsed": true
   },
   "outputs": [],
   "source": [
    "# read revise csv file and print cost time\n",
    "t0 = time()\n",
    "df = pd.read_csv(out_filename, error_bad_lines=False)\n",
    "print(\"time for read csv: %.2f\" % (time()-t0))"
   ]
  },
  {
   "cell_type": "code",
   "execution_count": null,
   "metadata": {
    "collapsed": true,
    "scrolled": true
   },
   "outputs": [],
   "source": [
    "# show each columns type\n",
    "df.dtypes"
   ]
  }
 ],
 "metadata": {
  "kernelspec": {
   "display_name": "Python 3",
   "language": "python",
   "name": "python3"
  },
  "language_info": {
   "codemirror_mode": {
    "name": "ipython",
    "version": 3
   },
   "file_extension": ".py",
   "mimetype": "text/x-python",
   "name": "python",
   "nbconvert_exporter": "python",
   "pygments_lexer": "ipython3",
   "version": "3.5.3"
  }
 },
 "nbformat": 4,
 "nbformat_minor": 2
}
