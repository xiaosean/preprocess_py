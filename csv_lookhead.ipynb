{
 "cells": [
  {
   "cell_type": "code",
   "execution_count": 1,
   "metadata": {
    "collapsed": true
   },
   "outputs": [],
   "source": [
    "import os.path\n",
    "import numpy as np\n",
    "import pandas as pd\n",
    "from time import time"
   ]
  },
  {
   "cell_type": "code",
   "execution_count": 2,
   "metadata": {
    "collapsed": true
   },
   "outputs": [],
   "source": [
    "# set configure\n",
    "path = \"./\"\n",
    "\n",
    "path = \"./marketing_analyze/\"\n",
    "# path = \"D:/marketing_analyze_0715_backup/\"\n",
    "# path = \"C:/Users/VIPLAB/Downloads/Spark_data/\"\n",
    "# filename = \"april_marketing_anylze_full_table_group12_max_min\"\n",
    "# filename = \"april_marketing_anylze_numeric\"\n",
    "# filename = \"CHNL_NSP_CATG_MT_COMPLETED\"\n",
    "\n",
    "filename = \"mkt_with_11_group_id_20170712\"\n",
    "\n",
    "# path = \"D:/NEW_DATA_FULL_2017_6_16/\"\n",
    "# filename = \"MDS_April_All_SINGLE_SIM_COMPLETED\"\n",
    "relative_filename = path + filename + \".csv\"\n",
    "# relative_filename = path + filename + \".txt\"\n",
    "# wants_cols = ['MINING_DW_SUBSCR_NO', 'CUST_TYPE']"
   ]
  },
  {
   "cell_type": "code",
   "execution_count": 3,
   "metadata": {
    "scrolled": true
   },
   "outputs": [
    {
     "name": "stdout",
     "output_type": "stream",
     "text": [
      "time for read csv: 0.02\n"
     ]
    }
   ],
   "source": [
    "# read csv file and print cost time\n",
    "t0 = time()\n",
    "# df = pd.read_csv(relative_filename, error_bad_lines=False)\n",
    "# df = pd.read_csv(relative_filename, usecols = wants_cols, error_bad_lines=False)\n",
    "# df = pd.read_csv(relative_filename, usecols = wants_cols, error_bad_lines=False, nrows = 100000)\n",
    "# df = pd.read_csv(relative_filename, error_bad_lines=False)\n",
    "# df = pd.read_csv(relative_filename, error_bad_lines=False)\n",
    "\n",
    "# df = pd.read_csv(relative_filename, error_bad_lines=False)\n",
    "# df = pd.read_csv(relative_filename, usecols = wants_cols, sep  = '\\t', error_bad_lines=False)\n",
    "\n",
    "df = pd.read_csv(relative_filename, error_bad_lines=False, nrows = 10)\n",
    "# df = pd.read_csv(relative_filename, error_bad_lines=False)\n",
    "print(\"time for read csv: %.2f\" % (time()-t0))\n"
   ]
  },
  {
   "cell_type": "code",
   "execution_count": 4,
   "metadata": {
    "collapsed": true,
    "scrolled": false
   },
   "outputs": [],
   "source": [
    "df_cols = list(df.columns)"
   ]
  },
  {
   "cell_type": "code",
   "execution_count": 6,
   "metadata": {},
   "outputs": [
    {
     "data": {
      "text/plain": [
       "['DATA_MONTH',\n",
       " 'MINING_DW_SUBSCR_NO',\n",
       " 'CURR_SUBSCR_ID',\n",
       " 'DATA_MONTH_RPT_TEMP1',\n",
       " 'DATA_MONTH_RPT_TEMP2',\n",
       " 'DATA_MONTH_RPT',\n",
       " 'DW_PARTY_ID',\n",
       " 'RENEW_IND',\n",
       " 'GA_IND',\n",
       " 'ACTV_TYPE',\n",
       " 'GA_DATE',\n",
       " 'CHURN_IND',\n",
       " 'CHURN_TYPE',\n",
       " 'INACTV_DATE',\n",
       " 'MKT_CHURN_DATE',\n",
       " 'SUSPEND_IND',\n",
       " 'TARGET_OPR_ID',\n",
       " 'TEMP_INACTV_DATE',\n",
       " 'SRV_TYPE_DESC',\n",
       " 'RPS_NAME',\n",
       " 'SUBSCR_STATUS_CODE',\n",
       " 'GENDER_CODE',\n",
       " 'P6M_AVG_NET_INV_AMT',\n",
       " 'ORIG_OPR_ID',\n",
       " 'AGE',\n",
       " 'TENURE_SCV',\n",
       " 'BILL_CITY_NAME',\n",
       " 'BILL_DISTRICT_NAME',\n",
       " 'BILL_ZIP_CODE',\n",
       " 'CHANNEL_CHURN_INDEX',\n",
       " 'CHURN_INDEX',\n",
       " 'FETNET_IND',\n",
       " 'DORMANT_MONTH_CNT_MKT',\n",
       " 'SMS_PROM_IND',\n",
       " 'IMEI_TYPE',\n",
       " 'IMEI_MFG_NAME',\n",
       " 'IMEI_MKT_NAME',\n",
       " 'IMEI_SMART_OS_FLAG',\n",
       " 'BL_CYCLE_DESC',\n",
       " 'ZONE_ACTIVATION_IVR',\n",
       " 'ACTV_STORE_ID',\n",
       " 'ACTV_CHANNEL_NAME',\n",
       " 'SHIPMENT_CHANNEL_ID',\n",
       " 'SHIPMENT_CHANNEL_CODE',\n",
       " 'SHIPMENT_CHANNEL_NAME',\n",
       " 'CCI_CHG_DATE',\n",
       " 'HAPPYGO_IND',\n",
       " 'SEGMENT_NAME',\n",
       " 'IMEI_BAND',\n",
       " 'NP_IN_IND',\n",
       " 'NP_IN_DATE',\n",
       " 'MSISDN_LAST_NP_OUT_IND',\n",
       " 'BONDING_FLAG',\n",
       " 'CHURN_CLM_IND',\n",
       " 'CHURN_WELCOME_STAGE',\n",
       " 'PTY_EVER_PO_CNT',\n",
       " 'PTY_EVER_PP_CNT',\n",
       " 'MULTI_SIM_EXCLUDE_WBB',\n",
       " 'MULTI_SIM_INCLUDE_WBB',\n",
       " 'ANOTHER_ACTIVE_VD',\n",
       " 'ANOTHER_ACTIVE_D',\n",
       " 'PTY_NP_IN_IND',\n",
       " 'PTY_NP_OUT_IND',\n",
       " 'PTY_CBU_EBU_PO_CNT',\n",
       " 'PTY_CBU_PO_CNT',\n",
       " 'PTY_CBU_PO_V_CNT',\n",
       " 'PTY_CBU_PO_VD_CNT',\n",
       " 'PTY_CBU_PO_D_CNT',\n",
       " 'PTY_EBU_PO_CNT',\n",
       " 'PTY_PO_ALL_CNT',\n",
       " 'RENEW_APPLY_DATE',\n",
       " 'MDS_CURR_RENEW_CNT',\n",
       " 'MDS_CURR_RENEW_TYPE',\n",
       " 'MDS_ELIGIBLE_FLAG',\n",
       " 'PROM_BUNDLE_VRP',\n",
       " 'PROM_BUNDLE_DRP',\n",
       " 'PROM_CURR_EXP_MONTH_CNT',\n",
       " 'PROM_CURR_PROM_CODE',\n",
       " 'PROM_CURR_PROM_NAME',\n",
       " 'PROM_CURR_PROMOTION_TYPE',\n",
       " 'PROM_CURR_PROMOTION_SUB_TYPE',\n",
       " 'PROM_CURR_SYS_MODEL_IND',\n",
       " 'PROM_DEVICE_TYPE',\n",
       " 'PROM_DEVICE_BRAND',\n",
       " 'PROM_DEVICE_OS',\n",
       " 'PROM_DEVICE_MODEL',\n",
       " 'PROM_ACTV_PROM_CODE',\n",
       " 'PROM_ACTV_PROM_NAME',\n",
       " 'PROM_ACTV_PROM_TYPE',\n",
       " 'PROM_ACTV_PROM_SUB_TYPE',\n",
       " 'PROM_ACTV_PROM_CATG',\n",
       " 'PROM_CURR_APPLY_DATE',\n",
       " 'PROM_CURR_START_DATE',\n",
       " 'PROM_CURR_END_DATE',\n",
       " 'PROM_CURR_CONTR_EXP_DATE',\n",
       " 'L1M_PROM_CODE',\n",
       " 'L1M_PROM_NAME',\n",
       " 'CURR_PROM_COMMIT_MONTHS',\n",
       " 'L1M_PROM_COMMIT_MONTHS',\n",
       " 'CURR_PROM_TTL_CMF',\n",
       " 'CURR_PROM_CONTRACT_PERIOD',\n",
       " 'L1M_PROM_TTL_CMF',\n",
       " 'L1M_PROM_CONTRACT_PERIOD',\n",
       " 'DUM_PROM_CODE',\n",
       " 'L6M_AVG_NET_INV_AMT',\n",
       " 'NET_INV_AMT',\n",
       " 'L1M_NET_INV_AMT',\n",
       " 'L2M_NET_INV_AMT',\n",
       " 'L3M_NET_INV_AMT',\n",
       " 'GPRS_AMT',\n",
       " 'L1M_GPRS_AMT',\n",
       " 'L2M_GPRS_AMT',\n",
       " 'L3M_GPRS_AMT',\n",
       " 'AGENCY_AMT',\n",
       " 'SMS_INV_AMT',\n",
       " 'L3M_AVG_NET_INV_AMT',\n",
       " 'L6M_AVG_GPRS_AMT',\n",
       " 'L3M_AVG_SMS_INV_AMT',\n",
       " 'BOOSTER_AMT',\n",
       " 'AGENCY_FLAG',\n",
       " 'MT_STM_AMT',\n",
       " 'VOICE_RC_AMT',\n",
       " 'DATA_RC_AMT',\n",
       " 'ONNET_AMT',\n",
       " 'OFFNETM_AMT',\n",
       " 'PSTN_AMT',\n",
       " 'INT_ROAM_AMT',\n",
       " 'IDD_AMT',\n",
       " 'VAS_AMT',\n",
       " 'NRC_AMT',\n",
       " 'DATA_INV_AMT',\n",
       " 'VOICE_INV_AMT',\n",
       " 'GOOGLE_PLAY_IND',\n",
       " 'GPRS_CAP_IND',\n",
       " 'MO_TTL_DURATION',\n",
       " 'MO_ONNET_DUR',\n",
       " 'MO_OFFNET_DUR',\n",
       " 'PSTN_DUR',\n",
       " 'MO_TTL_COUNT',\n",
       " 'MO_ONNET_CNT',\n",
       " 'MO_OFFNET_CNT',\n",
       " 'PSTN_CNT',\n",
       " 'MT_TTL_DURATION',\n",
       " 'MT_ONNET_DUR',\n",
       " 'MT_OFFNET_DUR',\n",
       " 'MT_PSTN_DUR',\n",
       " 'MT_TTL_COUNT',\n",
       " 'MT_ONNET_CNT',\n",
       " 'MT_OFFNET_CNT',\n",
       " 'MT_PSTN_CNT',\n",
       " 'MOST_MO_OPERATOR',\n",
       " 'MOST_MT_OPERATOR',\n",
       " 'L3M_AVG_VAS_MB',\n",
       " 'L6M_AVG_VAS_MB',\n",
       " 'P2P_SMS_MO_CNT',\n",
       " 'W2P_SMS_MO_CNT',\n",
       " 'OTH_SMS_MO_CNT',\n",
       " 'SMS_MO_FET_CNT',\n",
       " 'P2P_SMS_MO_ONNET_CNT',\n",
       " 'W2P_SMS_MO_ONNET_CNT',\n",
       " 'SMS_MO_OFFNET_CNT',\n",
       " 'P2P_SMS_MO_OFFNET_CNT',\n",
       " 'W2P_SMS_MO_OFFNET_CNT',\n",
       " 'SMS_MO_INT_CNT',\n",
       " 'P2P_SMS_MO_INT_CNT',\n",
       " 'W2P_SMS_MO_INT_CNT',\n",
       " 'SMS2P_SMS_MO_CNT',\n",
       " 'SMS2AP_SMS_MO_CNT',\n",
       " 'DATA_USAGE_MB',\n",
       " 'L1M_DATA_USAGE_MB',\n",
       " 'L2M_DATA_USAGE_MB',\n",
       " 'L3M_DATA_USAGE_MB',\n",
       " 'MOC_FET_DUR',\n",
       " 'MOC_TWM_DUR',\n",
       " 'MOC_CHM_DUR',\n",
       " 'MOC_OTH_DUR',\n",
       " 'MOC_PSTN_DUR',\n",
       " 'MOST_MO_DUR',\n",
       " 'MTC_FET_DUR',\n",
       " 'MTC_TWM_DUR',\n",
       " 'MTC_CHM_DUR',\n",
       " 'MTC_PSTN_DUR',\n",
       " 'MOST_MT_DUR',\n",
       " 'CUST_TYPE',\n",
       " 'AUTOPAY_IND',\n",
       " 'APPLY_CURR_EBILL_SBILL_FLAG',\n",
       " 'CURR_BILL_PLAN_NAME',\n",
       " 'CURR_DATA_BILL_PLAN_NAME',\n",
       " 'BEST_VRP_DESC',\n",
       " 'BEST_DRP_DESC',\n",
       " 'SERVICE_APPLY_MOVIE_FLAG',\n",
       " 'SERVICE_APPLY_OMUSIC_FLAG',\n",
       " 'SERVICE_APPLY_READING_FLAG',\n",
       " 'SERVICE_STATUS_MOVIE_FLAG',\n",
       " 'SERVICE_STATUS_OMUSIC_FLAG',\n",
       " 'SERVICE_STATUS_READING_FLAG',\n",
       " 'HS_LEASE_FEATURE_NAME',\n",
       " 'HS_LEASE_FEATURE_START_DATE',\n",
       " 'HS_LEASE_FEATURE_END_DATE',\n",
       " 'HS_LEASE_CONTR_NAME',\n",
       " 'HS_LEASE_CONTR_START_DATE',\n",
       " 'HS_LEASE_CONTR_END_DATE',\n",
       " 'SMS30_FLAG',\n",
       " 'FLAT_RATE_4G_IND',\n",
       " 'PROM_FLAT_RATE_4G_IND',\n",
       " 'FLAT_RATE_3G_IND',\n",
       " 'CURR_DATA_BILL_PLAN_START_DATE',\n",
       " 'CURR_DATA_BILL_PLAN_END_DATE',\n",
       " 'PRE_DATA_BILL_PLAN_ID',\n",
       " 'PRE_DATA_BILL_PLAN_NAME',\n",
       " 'PRE_DATA_BILL_PLAN_START_DATE',\n",
       " 'PRE_DATA_BILL_PLAN_END_DATE',\n",
       " 'DATA_BOOSTER_EVER_USE_FLAG',\n",
       " 'DATA_BOOSTER_CURR_APPLY_FLAG',\n",
       " 'DATA_BOOSTER_CURR_START_DATE',\n",
       " 'DATA_BOOSTER_CURR_FEATURE_NAME',\n",
       " 'VOICE_MONTHLY_FEE',\n",
       " 'DATA_MONTHLY_FEE',\n",
       " 'TOTAL_MONTHLY_FEE',\n",
       " 'LIM_BILL_PLAN_NAME',\n",
       " 'L1M_DATA_BILL_PLAN_NAME',\n",
       " 'L1M_VOICE_MONTHLY_FEE',\n",
       " 'L1M_DATA_MONTHLY_FEE',\n",
       " 'CURR_BILL_PLAN_START_DATE',\n",
       " 'EVER_PSTN_FEATURE_FLAG',\n",
       " 'EVER_PSTN_FEATURE_NAME',\n",
       " 'EVER_PSTN_FEATURE_START_DATE',\n",
       " 'EVER_PSTN_FEATURE_END_DATE',\n",
       " 'EVER_PSTN_MONTH_APPLY_CANCEL_FLAG',\n",
       " 'DISC_TYPE_AM_IND',\n",
       " 'DISC_TYPE_AW_IND',\n",
       " 'DISC_TYPE_AD_IND',\n",
       " 'DISC_TYPE_DS_IND',\n",
       " 'DISC_TYPE_DM_IND',\n",
       " 'DISC_TYPE_DB_IND',\n",
       " 'DISC_TYPE_DO_IND',\n",
       " 'DISC_TYPE_DR_IND',\n",
       " 'DISC_TYPE_DU_IND',\n",
       " 'DISC_TYPE_DC_IND',\n",
       " 'DISC_TYPE_DP_IND',\n",
       " 'VIP_REDEEM_IND',\n",
       " 'VIP_GRADE',\n",
       " 'VIP_TENURE',\n",
       " 'VIP_EXPIRY_DATE',\n",
       " 'VIP_BEFORE_EXP_MONTH',\n",
       " 'VIP_MSISDN_CHG_IND',\n",
       " 'PAY_PENALTY_AMT',\n",
       " 'PAY_PENALTY_DATE',\n",
       " 'PAY_PENALTY_FLAG',\n",
       " 'DATA_RATING_USAGE_MB',\n",
       " 'LAST_CHANNEL_TYPE',\n",
       " 'SELFCARE_IND',\n",
       " 'DIRECT_STORE_PYMT_IND',\n",
       " 'CVS_PYMT_IND',\n",
       " 'VIRTUAL_CHANNEL_PYMT_IND',\n",
       " 'L3M_DIRECT_STORE_PYMT_IND',\n",
       " 'L3M_CVS_PYMT_IND',\n",
       " 'L3M_VIRTUAL_CHANNEL_PYMT_IND',\n",
       " 'HG_SEGMENT',\n",
       " 'P6M_AVG_DATA_USAGE_MB',\n",
       " 'P3M_AVG_DATA_USAGE_MB',\n",
       " 'P1M_MO_ONNET_CNT',\n",
       " 'P6M_MO_ONNET_CNT',\n",
       " 'P3M_MO_ONNET_CNT',\n",
       " 'P1M_MO_ONNET_DUR',\n",
       " 'P6M_MO_ONNET_DUR',\n",
       " 'P3M_MO_ONNET_DUR',\n",
       " 'P1M_MO_OFFNET_CNT',\n",
       " 'P6M_MO_OFFNET_CNT',\n",
       " 'P3M_MO_OFFNET_CNT',\n",
       " 'P1M_MO_OFFNET_DUR',\n",
       " 'P6M_MO_OFFNET_DUR',\n",
       " 'P3M_MO_OFFNET_DUR',\n",
       " 'P1M_MO_PSTN_CNT',\n",
       " 'P6M_MO_PSTN_CNT',\n",
       " 'P3M_MO_PSTN_CNT',\n",
       " 'P1M_MO_PSTN_DUR',\n",
       " 'P6M_MO_PSTN_DUR',\n",
       " 'P3M_MO_PSTN_DUR',\n",
       " 'L1M_CHANNEL_CHURN_INDEX',\n",
       " 'RETAIL_STORE_CHURN_FLAG',\n",
       " 'RETAIL_STORE_CHURN_SRV_DATE',\n",
       " 'RETAIL_STORE_CHURN_DEPUTY_FALG',\n",
       " 'RETAIL_STORE_CHURN_STOP_REASON',\n",
       " 'HS_USE_MONTH',\n",
       " 'CURR_DEVICE_MAKER',\n",
       " 'CURR_DEVICE_MODEL',\n",
       " 'CURR_DEVICE_PRICE_TIER',\n",
       " 'L1M_DEVICE_TENURE',\n",
       " 'L1M_DEVICE_MAKER',\n",
       " 'L1M_DEVICE_MODEL',\n",
       " 'L1M_DEVICE_PRICE_TIER',\n",
       " 'L1M_DEVICE_TYPE',\n",
       " 'L2M_DEVICE_TENURE',\n",
       " 'L2M_DEVICE_MAKER',\n",
       " 'L2M_DEVICE_MODEL',\n",
       " 'L2M_DEVICE_PRICE_TIER',\n",
       " 'L2M_DEVICE_TYPE',\n",
       " 'HS_CHG_CNT',\n",
       " 'AVG_HS_USE_MONTH',\n",
       " 'AVG_HS_USE_MONTH_EX_CURR',\n",
       " 'ZONE_ACTV_IVR_COUNTRY',\n",
       " 'ZONE_ACTV_IVR_REGION',\n",
       " 'STORE_TYPE',\n",
       " 'SPAUTH_IND',\n",
       " 'Groups']"
      ]
     },
     "execution_count": 6,
     "metadata": {},
     "output_type": "execute_result"
    }
   ],
   "source": [
    "df_cols"
   ]
  },
  {
   "cell_type": "code",
   "execution_count": 5,
   "metadata": {
    "collapsed": true
   },
   "outputs": [],
   "source": [
    "for col in df_cols:\n",
    "    if \"dor\" in col:\n",
    "        print(col)"
   ]
  },
  {
   "cell_type": "code",
   "execution_count": null,
   "metadata": {},
   "outputs": [],
   "source": [
    "len(df_cols)"
   ]
  },
  {
   "cell_type": "code",
   "execution_count": null,
   "metadata": {},
   "outputs": [],
   "source": [
    "df.head()"
   ]
  },
  {
   "cell_type": "code",
   "execution_count": null,
   "metadata": {
    "collapsed": true
   },
   "outputs": [],
   "source": [
    "# set configure\n",
    "# path = \"../DATA_FULL/\"\n",
    "# path = \"./\"\n",
    "# filename = \"DNA_KMEANS_RESULT_ID_NEW\"\n",
    "path = \"./\"\n",
    "filename = \"Groups_ID_0712\"\n",
    "relative_filename = path + filename + \".csv\"\n",
    "# relative_filename = path + filename + \".txt\""
   ]
  },
  {
   "cell_type": "code",
   "execution_count": null,
   "metadata": {},
   "outputs": [],
   "source": [
    "group_df =  pd.read_csv(relative_filename, error_bad_lines=False)\n",
    "group_df.head()"
   ]
  },
  {
   "cell_type": "code",
   "execution_count": null,
   "metadata": {},
   "outputs": [],
   "source": [
    "for col in L1M_PROM_COMMIT_MONTHS:\n",
    "    if(col not in df_cols):\n",
    "        print(\"col not found =>\", col)"
   ]
  },
  {
   "cell_type": "code",
   "execution_count": null,
   "metadata": {},
   "outputs": [],
   "source": [
    "df.groupby(\"Groups\").count()"
   ]
  },
  {
   "cell_type": "code",
   "execution_count": null,
   "metadata": {},
   "outputs": [],
   "source": [
    "group_df.groupby(\"Groups\").count()"
   ]
  },
  {
   "cell_type": "code",
   "execution_count": null,
   "metadata": {},
   "outputs": [],
   "source": [
    "len(df)"
   ]
  },
  {
   "cell_type": "code",
   "execution_count": null,
   "metadata": {},
   "outputs": [],
   "source": [
    "df.head()"
   ]
  },
  {
   "cell_type": "code",
   "execution_count": null,
   "metadata": {
    "scrolled": false
   },
   "outputs": [],
   "source": [
    "for col in df.columns:\n",
    "    print()\n",
    "    print()\n",
    "    print()\n",
    "    print(col)\n",
    "    print(\"==========================\")\n",
    "    print(df[col].unique())"
   ]
  },
  {
   "cell_type": "code",
   "execution_count": null,
   "metadata": {},
   "outputs": [],
   "source": [
    "df[(df[\"FLAT_RATE_4G_IND\"] == \"N\") & (df[\"FLAT_RATE_3G_IND\"] == \"N\")]"
   ]
  },
  {
   "cell_type": "code",
   "execution_count": null,
   "metadata": {},
   "outputs": [],
   "source": [
    "df.head()"
   ]
  },
  {
   "cell_type": "code",
   "execution_count": null,
   "metadata": {},
   "outputs": [],
   "source": [
    "df.groupby(\"Groups\").count()"
   ]
  },
  {
   "cell_type": "code",
   "execution_count": null,
   "metadata": {
    "collapsed": true
   },
   "outputs": [],
   "source": [
    "temp_df = df[df.columns[1:]]"
   ]
  },
  {
   "cell_type": "code",
   "execution_count": null,
   "metadata": {},
   "outputs": [],
   "source": [
    "temp_df"
   ]
  },
  {
   "cell_type": "code",
   "execution_count": null,
   "metadata": {},
   "outputs": [],
   "source": [
    "# write to csv and no index\n",
    "t0 = time()\n",
    "temp_df.to_csv(\"DATA_FOR_KMEANS_revise.csv\", index=False)\n",
    "print(\"time for output csv file: %.2f\" % (time()-t0))"
   ]
  },
  {
   "cell_type": "code",
   "execution_count": null,
   "metadata": {
    "collapsed": true
   },
   "outputs": [],
   "source": [
    "path = \"./marketing_analyze/\"\n",
    "filename = \"group_id_with_none_20170709_12.csv\"\n",
    "# TAG K MEAN RESULT\n",
    "GROUP_ID_FILE = path + filename\n",
    "group_df = pd.read_csv(GROUP_ID_FILE, error_bad_lines=False, usecols = [\"MINING_DW_SUBSCR_NO\", \"Groups\"])\n",
    "df_combine_group = pd.merge(group_df, df, on='MINING_DW_SUBSCR_NO', how='inner')"
   ]
  },
  {
   "cell_type": "code",
   "execution_count": null,
   "metadata": {},
   "outputs": [],
   "source": [
    "len(df_combine_group)"
   ]
  },
  {
   "cell_type": "code",
   "execution_count": null,
   "metadata": {},
   "outputs": [],
   "source": [
    "df_combine_group.groupby(\"Groups\").count()"
   ]
  },
  {
   "cell_type": "code",
   "execution_count": null,
   "metadata": {},
   "outputs": [],
   "source": [
    "df_combine_group[df_combine_group[\"Groups\"] == \"Infrequent Internet User\"].groupby(\"CUST_TYPE\").count()"
   ]
  },
  {
   "cell_type": "code",
   "execution_count": null,
   "metadata": {},
   "outputs": [],
   "source": [
    "df_combine_group[df_combine_group[\"Groups\"] == \"None\"].groupby(\"CUST_TYPE\").count()"
   ]
  },
  {
   "cell_type": "code",
   "execution_count": null,
   "metadata": {},
   "outputs": [],
   "source": [
    "50183 + 283147 + 127009"
   ]
  },
  {
   "cell_type": "code",
   "execution_count": null,
   "metadata": {},
   "outputs": [],
   "source": [
    "len(df)"
   ]
  },
  {
   "cell_type": "code",
   "execution_count": null,
   "metadata": {
    "collapsed": true
   },
   "outputs": [],
   "source": [
    "path = \"D:/NEW_DATA_FULL_2017_7_4/\"\n",
    "filename = \"MDS_SINGLESIM_APRIL_DORMANT_AGE_TENURE_COMPLETED\"\n",
    "# relative_filename = path + filename + \".csv\"\n",
    "relative_filename = path + filename + \".txt\"\n",
    "user_df = pd.read_csv(relative_filename, error_bad_lines=False)\n"
   ]
  },
  {
   "cell_type": "code",
   "execution_count": null,
   "metadata": {},
   "outputs": [],
   "source": [
    "len(user_df)"
   ]
  },
  {
   "cell_type": "code",
   "execution_count": null,
   "metadata": {
    "collapsed": true
   },
   "outputs": [],
   "source": [
    "user_df = pd.merge(user_df, df, on='MINING_DW_SUBSCR_NO', how='left')\n"
   ]
  },
  {
   "cell_type": "code",
   "execution_count": null,
   "metadata": {
    "collapsed": true
   },
   "outputs": [],
   "source": []
  },
  {
   "cell_type": "code",
   "execution_count": null,
   "metadata": {},
   "outputs": [],
   "source": [
    "len(user_df)"
   ]
  },
  {
   "cell_type": "code",
   "execution_count": null,
   "metadata": {},
   "outputs": [],
   "source": [
    "user_df.groupby(\"CURR_BILL_PLAN_NAME\").count()"
   ]
  },
  {
   "cell_type": "code",
   "execution_count": null,
   "metadata": {},
   "outputs": [],
   "source": [
    "user_df.groupby(\"CURR_DATA_BILL_PLAN_NAME\").count()"
   ]
  },
  {
   "cell_type": "code",
   "execution_count": null,
   "metadata": {
    "collapsed": true
   },
   "outputs": [],
   "source": [
    "user_df['CURR_BILL_PLAN_NAME'] = user_df['CURR_BILL_PLAN_NAME'].fillna(\"?\")"
   ]
  },
  {
   "cell_type": "code",
   "execution_count": null,
   "metadata": {
    "collapsed": true
   },
   "outputs": [],
   "source": [
    "user_df['CURR_DATA_BILL_PLAN_NAME'] = user_df['CURR_DATA_BILL_PLAN_NAME'].fillna(\"?\")"
   ]
  },
  {
   "cell_type": "code",
   "execution_count": null,
   "metadata": {},
   "outputs": [],
   "source": [
    "user_df.groupby(\"CURR_BILL_PLAN_NAME\").count()"
   ]
  },
  {
   "cell_type": "code",
   "execution_count": null,
   "metadata": {},
   "outputs": [],
   "source": [
    "user_df.groupby(\"CURR_DATA_BILL_PLAN_NAME\").count()"
   ]
  },
  {
   "cell_type": "code",
   "execution_count": null,
   "metadata": {},
   "outputs": [],
   "source": [
    "user_df[(user_df['CURR_BILL_PLAN_NAME'] == \"?\") & (user_df['CURR_DATA_BILL_PLAN_NAME'] == \"?\")]"
   ]
  },
  {
   "cell_type": "code",
   "execution_count": null,
   "metadata": {},
   "outputs": [],
   "source": [
    "len(user_df[(user_df['CURR_BILL_PLAN_NAME'] != \"?\") & (user_df['CURR_DATA_BILL_PLAN_NAME'] == \"?\")])"
   ]
  },
  {
   "cell_type": "code",
   "execution_count": null,
   "metadata": {},
   "outputs": [],
   "source": [
    "460339 - 340739"
   ]
  },
  {
   "cell_type": "code",
   "execution_count": null,
   "metadata": {
    "scrolled": true
   },
   "outputs": [],
   "source": [
    "for i in df.columns:\n",
    "    print(df[i])"
   ]
  },
  {
   "cell_type": "code",
   "execution_count": null,
   "metadata": {},
   "outputs": [],
   "source": [
    "df.groupby('Groups').count()"
   ]
  },
  {
   "cell_type": "code",
   "execution_count": null,
   "metadata": {},
   "outputs": [],
   "source": [
    "len(df)"
   ]
  },
  {
   "cell_type": "code",
   "execution_count": null,
   "metadata": {},
   "outputs": [],
   "source": [
    "len(df)"
   ]
  },
  {
   "cell_type": "code",
   "execution_count": null,
   "metadata": {},
   "outputs": [],
   "source": [
    "len(df)"
   ]
  },
  {
   "cell_type": "code",
   "execution_count": null,
   "metadata": {
    "collapsed": true
   },
   "outputs": [],
   "source": []
  },
  {
   "cell_type": "code",
   "execution_count": null,
   "metadata": {
    "collapsed": true
   },
   "outputs": [],
   "source": [
    "df.head()"
   ]
  },
  {
   "cell_type": "code",
   "execution_count": null,
   "metadata": {
    "collapsed": true
   },
   "outputs": [],
   "source": [
    "list(df.columns)"
   ]
  },
  {
   "cell_type": "code",
   "execution_count": null,
   "metadata": {
    "collapsed": true
   },
   "outputs": [],
   "source": [
    "len(df)"
   ]
  },
  {
   "cell_type": "code",
   "execution_count": null,
   "metadata": {
    "collapsed": true
   },
   "outputs": [],
   "source": [
    "df[df[\"MINING_DW_SUBSCR_NO\"] == 8134330931]"
   ]
  },
  {
   "cell_type": "code",
   "execution_count": null,
   "metadata": {
    "collapsed": true
   },
   "outputs": [],
   "source": [
    "# set configure\n",
    "path = \"./CDR_MONTHLY_AGGR/\"\n",
    "path = \"./dna_Data/\"\n",
    "# path = \"C:/Users/VIPLAB/Downloads/Spark_data/\"\n",
    "filename = \"DNA_daily_april\"\n",
    "# filename = \"weekday_end_april_div_week\"\n",
    "\n",
    "# path = \"./\"\n",
    "# filename = \"dm_subscr_mtc_mly_COMPLETED_revise\"\n",
    "relative_filename = path + filename + \".csv\"\n",
    "# relative_filename = path + filename + \".txt\"\n"
   ]
  },
  {
   "cell_type": "code",
   "execution_count": null,
   "metadata": {
    "collapsed": true
   },
   "outputs": [],
   "source": [
    "len(df)"
   ]
  },
  {
   "cell_type": "code",
   "execution_count": null,
   "metadata": {
    "collapsed": true
   },
   "outputs": [],
   "source": [
    "list(df.columns)"
   ]
  },
  {
   "cell_type": "code",
   "execution_count": null,
   "metadata": {
    "collapsed": true
   },
   "outputs": [],
   "source": [
    "df[df[\"MINING_DW_SUBSCR_NO\"] == 10001495017]"
   ]
  },
  {
   "cell_type": "code",
   "execution_count": null,
   "metadata": {
    "collapsed": true
   },
   "outputs": [],
   "source": [
    "df.info()"
   ]
  },
  {
   "cell_type": "code",
   "execution_count": null,
   "metadata": {
    "collapsed": true,
    "scrolled": true
   },
   "outputs": [],
   "source": [
    "df = df.replace(np.inf, 0)"
   ]
  },
  {
   "cell_type": "code",
   "execution_count": null,
   "metadata": {
    "collapsed": true
   },
   "outputs": [],
   "source": [
    "df = df.fillna(0)"
   ]
  },
  {
   "cell_type": "code",
   "execution_count": null,
   "metadata": {
    "collapsed": true
   },
   "outputs": [],
   "source": [
    "list(df.columns)"
   ]
  },
  {
   "cell_type": "code",
   "execution_count": null,
   "metadata": {
    "collapsed": true
   },
   "outputs": [],
   "source": [
    "len(list(df.columns))"
   ]
  },
  {
   "cell_type": "code",
   "execution_count": null,
   "metadata": {
    "collapsed": true
   },
   "outputs": [],
   "source": [
    "len(df[df[\"Groups\"] == \"seldom\"])"
   ]
  },
  {
   "cell_type": "code",
   "execution_count": null,
   "metadata": {
    "collapsed": true
   },
   "outputs": [],
   "source": [
    "len(df[df[\"Groups\"] == \"None\"])"
   ]
  },
  {
   "cell_type": "code",
   "execution_count": null,
   "metadata": {
    "collapsed": true
   },
   "outputs": [],
   "source": []
  },
  {
   "cell_type": "code",
   "execution_count": null,
   "metadata": {
    "collapsed": true,
    "scrolled": true
   },
   "outputs": [],
   "source": [
    "# clean non numeric data\n",
    "# iteration avoid memory leak\n",
    "for col in df.columns[numeric_st_idx:]:\n",
    "    df[col] = pd.to_numeric(df[col], errors='coerce')\n",
    "    # let nan == 0\n",
    "#     print(col)\n",
    "    df[col] = df[col].fillna(0)\n",
    "    df[col] = df[col].astype(np.int64)\n",
    "# df = df.fillna(0)\n",
    "# # df[df.columns[numeric_st_idx:]] = df[df.columns[numeric_st_idx:]].apply(np.int64)\n",
    "# for col in df.columns[numeric_st_idx:]:\n",
    "#     df[col] = df[col].apply(np.int32)"
   ]
  },
  {
   "cell_type": "code",
   "execution_count": null,
   "metadata": {
    "collapsed": true
   },
   "outputs": [],
   "source": [
    "df.dtypes"
   ]
  },
  {
   "cell_type": "code",
   "execution_count": null,
   "metadata": {
    "collapsed": true
   },
   "outputs": [],
   "source": [
    "# write to csv and no index\n",
    "out_filename = \"0713_april_marketing_anylze_full_table_group12_select_max_min.csv\"\n",
    "t0 = time()\n",
    "df.to_csv(path + out_filename, index=False)\n",
    "print(\"time for output csv file: %.2f\" % (time()-t0))"
   ]
  },
  {
   "cell_type": "code",
   "execution_count": null,
   "metadata": {
    "collapsed": true
   },
   "outputs": [],
   "source": [
    "feather.write_dataframe(df, path + out_filename + \".feather\")\n"
   ]
  },
  {
   "cell_type": "code",
   "execution_count": null,
   "metadata": {
    "collapsed": true
   },
   "outputs": [],
   "source": [
    "del df"
   ]
  },
  {
   "cell_type": "code",
   "execution_count": null,
   "metadata": {
    "collapsed": true
   },
   "outputs": [],
   "source": []
  },
  {
   "cell_type": "code",
   "execution_count": null,
   "metadata": {
    "collapsed": true
   },
   "outputs": [],
   "source": []
  },
  {
   "cell_type": "code",
   "execution_count": null,
   "metadata": {
    "collapsed": true
   },
   "outputs": [],
   "source": []
  },
  {
   "cell_type": "code",
   "execution_count": null,
   "metadata": {
    "collapsed": true
   },
   "outputs": [],
   "source": [
    "# read revise csv file and print cost time\n",
    "t0 = time()\n",
    "df = pd.read_csv(out_filename, error_bad_lines=False)\n",
    "print(\"time for read csv: %.2f\" % (time()-t0))"
   ]
  },
  {
   "cell_type": "code",
   "execution_count": null,
   "metadata": {
    "collapsed": true,
    "scrolled": true
   },
   "outputs": [],
   "source": [
    "# show each columns type\n",
    "df.dtypes"
   ]
  }
 ],
 "metadata": {
  "kernelspec": {
   "display_name": "Python 3",
   "language": "python",
   "name": "python3"
  },
  "language_info": {
   "codemirror_mode": {
    "name": "ipython",
    "version": 3
   },
   "file_extension": ".py",
   "mimetype": "text/x-python",
   "name": "python",
   "nbconvert_exporter": "python",
   "pygments_lexer": "ipython3",
   "version": "3.5.3"
  }
 },
 "nbformat": 4,
 "nbformat_minor": 2
}
