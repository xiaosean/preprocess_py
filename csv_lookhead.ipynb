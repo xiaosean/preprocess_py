{
 "cells": [
  {
   "cell_type": "code",
   "execution_count": 57,
   "metadata": {
    "collapsed": true
   },
   "outputs": [],
   "source": [
    "import os.path\n",
    "import numpy as np\n",
    "import pandas as pd\n",
    "from time import time"
   ]
  },
  {
   "cell_type": "code",
   "execution_count": 43,
   "metadata": {
    "collapsed": true
   },
   "outputs": [],
   "source": [
    "# set configure\n",
    "# path = \"./\"\n",
    "\n",
    "# path = \"./marketing_analyze/\"\n",
    "path = \"D:/NEW_DATA_FULL_2017_7_4/\"\n",
    "# path = \"C:/Users/VIPLAB/Downloads/Spark_data/\"\n",
    "filename = \"april_marketing_anylze_numeric_and_bool\"\n",
    "# filename = \"weekday_end_april_div_week\"\n",
    "path = \"./CDR_FINAL/\"\n",
    "filename = \"voice_24_7_total_filter\"\n",
    "\n",
    "path = \"C:/Users/VIPLAB/Desktop/XIAO SEAN/\"\n",
    "filename = \"DNA_VOICE\"\n",
    "# path = \"./\"\n",
    "# filename = \"dm_subscr_mtc_mly_COMPLETED_revise\"\n",
    "# relative_filename = path + filename + \".csv\"\n",
    "relative_filename = path + filename + \".csv\"\n",
    "wants_cols = ['DATA_MONTH', 'MINING_DW_SUBSCR_NO', ]"
   ]
  },
  {
   "cell_type": "code",
   "execution_count": 53,
   "metadata": {
    "scrolled": true
   },
   "outputs": [
    {
     "name": "stdout",
     "output_type": "stream",
     "text": [
      "time for read csv: 20.36\n"
     ]
    }
   ],
   "source": [
    "# read csv file and print cost time\n",
    "t0 = time()\n",
    "# df = pd.read_csv(relative_filename, usecols = wants_cols, error_bad_lines=False, sep  = '\\t', nrows = 10)\n",
    "# df = pd.read_csv(relative_filename, usecols = wants_cols, error_bad_lines=False, nrows = 100000)\n",
    "# df = pd.read_csv(relative_filename, usecols = wants_cols, error_bad_lines=False, sep  = '\\t')\n",
    "\n",
    "df = pd.read_csv(relative_filename, error_bad_lines=False)\n",
    "# df = pd.read_csv(\"C:/Users/VIPLAB/Desktop/XIAO SEAN/dna_normal.csv\", error_bad_lines=False, nrows = 10)\n",
    "\n",
    "# df = pd.read_csv(relative_filename, error_bad_lines=False)\n",
    "print(\"time for read csv: %.2f\" % (time()-t0))\n"
   ]
  },
  {
   "cell_type": "code",
   "execution_count": 59,
   "metadata": {},
   "outputs": [
    {
     "data": {
      "text/html": [
       "<div>\n",
       "<style>\n",
       "    .dataframe thead tr:only-child th {\n",
       "        text-align: right;\n",
       "    }\n",
       "\n",
       "    .dataframe thead th {\n",
       "        text-align: left;\n",
       "    }\n",
       "\n",
       "    .dataframe tbody tr th {\n",
       "        vertical-align: top;\n",
       "    }\n",
       "</style>\n",
       "<table border=\"1\" class=\"dataframe\">\n",
       "  <thead>\n",
       "    <tr style=\"text-align: right;\">\n",
       "      <th></th>\n",
       "      <th>VOICE_HOUR_0_TIME</th>\n",
       "      <th>VOICE_HOUR_1_TIME</th>\n",
       "      <th>VOICE_HOUR_2_TIME</th>\n",
       "      <th>VOICE_HOUR_3_TIME</th>\n",
       "      <th>VOICE_HOUR_4_TIME</th>\n",
       "      <th>VOICE_HOUR_5_TIME</th>\n",
       "      <th>VOICE_HOUR_6_TIME</th>\n",
       "      <th>VOICE_HOUR_7_TIME</th>\n",
       "      <th>VOICE_HOUR_8_TIME</th>\n",
       "      <th>VOICE_HOUR_9_TIME</th>\n",
       "      <th>...</th>\n",
       "      <th>V17</th>\n",
       "      <th>V18</th>\n",
       "      <th>V19</th>\n",
       "      <th>V20</th>\n",
       "      <th>V21</th>\n",
       "      <th>V22</th>\n",
       "      <th>V23</th>\n",
       "      <th>V24</th>\n",
       "      <th>V25</th>\n",
       "      <th>groups</th>\n",
       "    </tr>\n",
       "  </thead>\n",
       "  <tbody>\n",
       "    <tr>\n",
       "      <th>0</th>\n",
       "      <td>0.0</td>\n",
       "      <td>0.0</td>\n",
       "      <td>0.0</td>\n",
       "      <td>0.0</td>\n",
       "      <td>0.0</td>\n",
       "      <td>0.000</td>\n",
       "      <td>0.000</td>\n",
       "      <td>0.005</td>\n",
       "      <td>0.001</td>\n",
       "      <td>0.030</td>\n",
       "      <td>...</td>\n",
       "      <td>0.028</td>\n",
       "      <td>0.100</td>\n",
       "      <td>0.062</td>\n",
       "      <td>0.035</td>\n",
       "      <td>0.039</td>\n",
       "      <td>0.035</td>\n",
       "      <td>0.037</td>\n",
       "      <td>0.053</td>\n",
       "      <td>0.037</td>\n",
       "      <td>3</td>\n",
       "    </tr>\n",
       "    <tr>\n",
       "      <th>1</th>\n",
       "      <td>0.0</td>\n",
       "      <td>0.0</td>\n",
       "      <td>0.0</td>\n",
       "      <td>0.0</td>\n",
       "      <td>0.0</td>\n",
       "      <td>0.000</td>\n",
       "      <td>0.000</td>\n",
       "      <td>0.000</td>\n",
       "      <td>0.000</td>\n",
       "      <td>0.000</td>\n",
       "      <td>...</td>\n",
       "      <td>0.000</td>\n",
       "      <td>0.000</td>\n",
       "      <td>0.605</td>\n",
       "      <td>0.026</td>\n",
       "      <td>0.000</td>\n",
       "      <td>0.000</td>\n",
       "      <td>0.000</td>\n",
       "      <td>0.000</td>\n",
       "      <td>0.000</td>\n",
       "      <td>15</td>\n",
       "    </tr>\n",
       "    <tr>\n",
       "      <th>2</th>\n",
       "      <td>0.0</td>\n",
       "      <td>0.0</td>\n",
       "      <td>0.0</td>\n",
       "      <td>0.0</td>\n",
       "      <td>0.0</td>\n",
       "      <td>0.003</td>\n",
       "      <td>0.007</td>\n",
       "      <td>0.001</td>\n",
       "      <td>0.018</td>\n",
       "      <td>0.111</td>\n",
       "      <td>...</td>\n",
       "      <td>0.033</td>\n",
       "      <td>0.069</td>\n",
       "      <td>0.049</td>\n",
       "      <td>0.101</td>\n",
       "      <td>0.056</td>\n",
       "      <td>0.102</td>\n",
       "      <td>0.094</td>\n",
       "      <td>0.128</td>\n",
       "      <td>0.084</td>\n",
       "      <td>3</td>\n",
       "    </tr>\n",
       "    <tr>\n",
       "      <th>3</th>\n",
       "      <td>0.0</td>\n",
       "      <td>0.0</td>\n",
       "      <td>0.0</td>\n",
       "      <td>0.0</td>\n",
       "      <td>0.0</td>\n",
       "      <td>0.000</td>\n",
       "      <td>0.000</td>\n",
       "      <td>0.000</td>\n",
       "      <td>0.000</td>\n",
       "      <td>0.000</td>\n",
       "      <td>...</td>\n",
       "      <td>0.054</td>\n",
       "      <td>0.030</td>\n",
       "      <td>0.004</td>\n",
       "      <td>0.010</td>\n",
       "      <td>0.012</td>\n",
       "      <td>0.048</td>\n",
       "      <td>0.074</td>\n",
       "      <td>0.000</td>\n",
       "      <td>0.036</td>\n",
       "      <td>13</td>\n",
       "    </tr>\n",
       "    <tr>\n",
       "      <th>4</th>\n",
       "      <td>0.0</td>\n",
       "      <td>0.0</td>\n",
       "      <td>0.0</td>\n",
       "      <td>0.0</td>\n",
       "      <td>0.0</td>\n",
       "      <td>0.000</td>\n",
       "      <td>0.000</td>\n",
       "      <td>0.000</td>\n",
       "      <td>0.000</td>\n",
       "      <td>0.000</td>\n",
       "      <td>...</td>\n",
       "      <td>0.000</td>\n",
       "      <td>0.000</td>\n",
       "      <td>0.000</td>\n",
       "      <td>0.000</td>\n",
       "      <td>0.000</td>\n",
       "      <td>0.000</td>\n",
       "      <td>0.000</td>\n",
       "      <td>0.000</td>\n",
       "      <td>0.000</td>\n",
       "      <td>2</td>\n",
       "    </tr>\n",
       "  </tbody>\n",
       "</table>\n",
       "<p>5 rows × 49 columns</p>\n",
       "</div>"
      ],
      "text/plain": [
       "   VOICE_HOUR_0_TIME  VOICE_HOUR_1_TIME  VOICE_HOUR_2_TIME  VOICE_HOUR_3_TIME  \\\n",
       "0                0.0                0.0                0.0                0.0   \n",
       "1                0.0                0.0                0.0                0.0   \n",
       "2                0.0                0.0                0.0                0.0   \n",
       "3                0.0                0.0                0.0                0.0   \n",
       "4                0.0                0.0                0.0                0.0   \n",
       "\n",
       "   VOICE_HOUR_4_TIME  VOICE_HOUR_5_TIME  VOICE_HOUR_6_TIME  VOICE_HOUR_7_TIME  \\\n",
       "0                0.0              0.000              0.000              0.005   \n",
       "1                0.0              0.000              0.000              0.000   \n",
       "2                0.0              0.003              0.007              0.001   \n",
       "3                0.0              0.000              0.000              0.000   \n",
       "4                0.0              0.000              0.000              0.000   \n",
       "\n",
       "   VOICE_HOUR_8_TIME  VOICE_HOUR_9_TIME   ...      V17    V18    V19    V20  \\\n",
       "0              0.001              0.030   ...    0.028  0.100  0.062  0.035   \n",
       "1              0.000              0.000   ...    0.000  0.000  0.605  0.026   \n",
       "2              0.018              0.111   ...    0.033  0.069  0.049  0.101   \n",
       "3              0.000              0.000   ...    0.054  0.030  0.004  0.010   \n",
       "4              0.000              0.000   ...    0.000  0.000  0.000  0.000   \n",
       "\n",
       "     V21    V22    V23    V24    V25  groups  \n",
       "0  0.039  0.035  0.037  0.053  0.037       3  \n",
       "1  0.000  0.000  0.000  0.000  0.000      15  \n",
       "2  0.056  0.102  0.094  0.128  0.084       3  \n",
       "3  0.012  0.048  0.074  0.000  0.036      13  \n",
       "4  0.000  0.000  0.000  0.000  0.000       2  \n",
       "\n",
       "[5 rows x 49 columns]"
      ]
     },
     "execution_count": 59,
     "metadata": {},
     "output_type": "execute_result"
    }
   ],
   "source": [
    "df.head()"
   ]
  },
  {
   "cell_type": "code",
   "execution_count": 71,
   "metadata": {},
   "outputs": [
    {
     "ename": "AttributeError",
     "evalue": "Cannot access attribute 'index' of 'DataFrameGroupBy' objects, try using the 'apply' method",
     "output_type": "error",
     "traceback": [
      "\u001b[1;31m---------------------------------------------------------------------------\u001b[0m",
      "\u001b[1;31mAttributeError\u001b[0m                            Traceback (most recent call last)",
      "\u001b[1;32m<ipython-input-71-39e4a82e480b>\u001b[0m in \u001b[0;36m<module>\u001b[1;34m()\u001b[0m\n\u001b[1;32m----> 1\u001b[1;33m \u001b[0mdf\u001b[0m\u001b[1;33m.\u001b[0m\u001b[0mgroupby\u001b[0m\u001b[1;33m(\u001b[0m\u001b[1;34m\"groups\"\u001b[0m\u001b[1;33m)\u001b[0m\u001b[1;33m.\u001b[0m\u001b[0mindex\u001b[0m\u001b[1;33m[\u001b[0m\u001b[1;36m0\u001b[0m\u001b[1;33m]\u001b[0m\u001b[1;33m\u001b[0m\u001b[0m\n\u001b[0m",
      "\u001b[1;32mC:\\ProgramData\\Anaconda3\\lib\\site-packages\\pandas\\core\\groupby.py\u001b[0m in \u001b[0;36m__getattr__\u001b[1;34m(self, attr)\u001b[0m\n\u001b[0;32m    546\u001b[0m             \u001b[1;32mreturn\u001b[0m \u001b[0mself\u001b[0m\u001b[1;33m[\u001b[0m\u001b[0mattr\u001b[0m\u001b[1;33m]\u001b[0m\u001b[1;33m\u001b[0m\u001b[0m\n\u001b[0;32m    547\u001b[0m         \u001b[1;32mif\u001b[0m \u001b[0mhasattr\u001b[0m\u001b[1;33m(\u001b[0m\u001b[0mself\u001b[0m\u001b[1;33m.\u001b[0m\u001b[0mobj\u001b[0m\u001b[1;33m,\u001b[0m \u001b[0mattr\u001b[0m\u001b[1;33m)\u001b[0m\u001b[1;33m:\u001b[0m\u001b[1;33m\u001b[0m\u001b[0m\n\u001b[1;32m--> 548\u001b[1;33m             \u001b[1;32mreturn\u001b[0m \u001b[0mself\u001b[0m\u001b[1;33m.\u001b[0m\u001b[0m_make_wrapper\u001b[0m\u001b[1;33m(\u001b[0m\u001b[0mattr\u001b[0m\u001b[1;33m)\u001b[0m\u001b[1;33m\u001b[0m\u001b[0m\n\u001b[0m\u001b[0;32m    549\u001b[0m \u001b[1;33m\u001b[0m\u001b[0m\n\u001b[0;32m    550\u001b[0m         raise AttributeError(\"%r object has no attribute %r\" %\n",
      "\u001b[1;32mC:\\ProgramData\\Anaconda3\\lib\\site-packages\\pandas\\core\\groupby.py\u001b[0m in \u001b[0;36m_make_wrapper\u001b[1;34m(self, name)\u001b[0m\n\u001b[0;32m    560\u001b[0m                    \"using the 'apply' method\".format(kind, name,\n\u001b[0;32m    561\u001b[0m                                                      type(self).__name__))\n\u001b[1;32m--> 562\u001b[1;33m             \u001b[1;32mraise\u001b[0m \u001b[0mAttributeError\u001b[0m\u001b[1;33m(\u001b[0m\u001b[0mmsg\u001b[0m\u001b[1;33m)\u001b[0m\u001b[1;33m\u001b[0m\u001b[0m\n\u001b[0m\u001b[0;32m    563\u001b[0m \u001b[1;33m\u001b[0m\u001b[0m\n\u001b[0;32m    564\u001b[0m         \u001b[1;31m# need to setup the selection\u001b[0m\u001b[1;33m\u001b[0m\u001b[1;33m\u001b[0m\u001b[0m\n",
      "\u001b[1;31mAttributeError\u001b[0m: Cannot access attribute 'index' of 'DataFrameGroupBy' objects, try using the 'apply' method"
     ]
    }
   ],
   "source": [
    "df.groupby(\"groups\").index[0]"
   ]
  },
  {
   "cell_type": "code",
   "execution_count": null,
   "metadata": {
    "collapsed": true
   },
   "outputs": [],
   "source": [
    "df[df[\"grou\"]]"
   ]
  },
  {
   "cell_type": "code",
   "execution_count": 56,
   "metadata": {},
   "outputs": [
    {
     "data": {
      "text/plain": [
       "VOICE_HOUR_0_TIME     float64\n",
       "VOICE_HOUR_1_TIME     float64\n",
       "VOICE_HOUR_2_TIME     float64\n",
       "VOICE_HOUR_3_TIME     float64\n",
       "VOICE_HOUR_4_TIME     float64\n",
       "VOICE_HOUR_5_TIME     float64\n",
       "VOICE_HOUR_6_TIME     float64\n",
       "VOICE_HOUR_7_TIME     float64\n",
       "VOICE_HOUR_8_TIME     float64\n",
       "VOICE_HOUR_9_TIME     float64\n",
       "VOICE_HOUR_10_TIME    float64\n",
       "VOICE_HOUR_11_TIME    float64\n",
       "VOICE_HOUR_12_TIME    float64\n",
       "VOICE_HOUR_13_TIME    float64\n",
       "VOICE_HOUR_14_TIME    float64\n",
       "VOICE_HOUR_15_TIME    float64\n",
       "VOICE_HOUR_16_TIME    float64\n",
       "VOICE_HOUR_17_TIME    float64\n",
       "VOICE_HOUR_18_TIME    float64\n",
       "VOICE_HOUR_19_TIME    float64\n",
       "VOICE_HOUR_20_TIME    float64\n",
       "VOICE_HOUR_21_TIME    float64\n",
       "VOICE_HOUR_22_TIME    float64\n",
       "VOICE_HOUR_23_TIME    float64\n",
       "V2                    float64\n",
       "V3                    float64\n",
       "V4                    float64\n",
       "V5                    float64\n",
       "V6                    float64\n",
       "V7                    float64\n",
       "V8                    float64\n",
       "V9                    float64\n",
       "V10                   float64\n",
       "V11                   float64\n",
       "V12                   float64\n",
       "V13                   float64\n",
       "V14                   float64\n",
       "V15                   float64\n",
       "V16                   float64\n",
       "V17                   float64\n",
       "V18                   float64\n",
       "V19                   float64\n",
       "V20                   float64\n",
       "V21                   float64\n",
       "V22                   float64\n",
       "V23                   float64\n",
       "V24                   float64\n",
       "V25                   float64\n",
       "groups                  int64\n",
       "dtype: object"
      ]
     },
     "execution_count": 56,
     "metadata": {},
     "output_type": "execute_result"
    }
   ],
   "source": [
    "df.dtypes"
   ]
  },
  {
   "cell_type": "code",
   "execution_count": 34,
   "metadata": {},
   "outputs": [
    {
     "ename": "ValueError",
     "evalue": "labels ['Unnamed: 0'] not contained in axis",
     "output_type": "error",
     "traceback": [
      "\u001b[1;31m---------------------------------------------------------------------------\u001b[0m",
      "\u001b[1;31mValueError\u001b[0m                                Traceback (most recent call last)",
      "\u001b[1;32m<ipython-input-34-f2a48e6e30ce>\u001b[0m in \u001b[0;36m<module>\u001b[1;34m()\u001b[0m\n\u001b[1;32m----> 1\u001b[1;33m \u001b[0mdf\u001b[0m \u001b[1;33m=\u001b[0m \u001b[0mdf\u001b[0m\u001b[1;33m.\u001b[0m\u001b[0mdrop\u001b[0m\u001b[1;33m(\u001b[0m\u001b[0mdf\u001b[0m\u001b[1;33m.\u001b[0m\u001b[0mcolumns\u001b[0m\u001b[1;33m[\u001b[0m\u001b[1;36m0\u001b[0m\u001b[1;33m]\u001b[0m\u001b[1;33m)\u001b[0m\u001b[1;33m\u001b[0m\u001b[0m\n\u001b[0m",
      "\u001b[1;32mC:\\ProgramData\\Anaconda3\\lib\\site-packages\\pandas\\core\\generic.py\u001b[0m in \u001b[0;36mdrop\u001b[1;34m(self, labels, axis, level, inplace, errors)\u001b[0m\n\u001b[0;32m   2048\u001b[0m                 \u001b[0mnew_axis\u001b[0m \u001b[1;33m=\u001b[0m \u001b[0maxis\u001b[0m\u001b[1;33m.\u001b[0m\u001b[0mdrop\u001b[0m\u001b[1;33m(\u001b[0m\u001b[0mlabels\u001b[0m\u001b[1;33m,\u001b[0m \u001b[0mlevel\u001b[0m\u001b[1;33m=\u001b[0m\u001b[0mlevel\u001b[0m\u001b[1;33m,\u001b[0m \u001b[0merrors\u001b[0m\u001b[1;33m=\u001b[0m\u001b[0merrors\u001b[0m\u001b[1;33m)\u001b[0m\u001b[1;33m\u001b[0m\u001b[0m\n\u001b[0;32m   2049\u001b[0m             \u001b[1;32melse\u001b[0m\u001b[1;33m:\u001b[0m\u001b[1;33m\u001b[0m\u001b[0m\n\u001b[1;32m-> 2050\u001b[1;33m                 \u001b[0mnew_axis\u001b[0m \u001b[1;33m=\u001b[0m \u001b[0maxis\u001b[0m\u001b[1;33m.\u001b[0m\u001b[0mdrop\u001b[0m\u001b[1;33m(\u001b[0m\u001b[0mlabels\u001b[0m\u001b[1;33m,\u001b[0m \u001b[0merrors\u001b[0m\u001b[1;33m=\u001b[0m\u001b[0merrors\u001b[0m\u001b[1;33m)\u001b[0m\u001b[1;33m\u001b[0m\u001b[0m\n\u001b[0m\u001b[0;32m   2051\u001b[0m             \u001b[0mdropped\u001b[0m \u001b[1;33m=\u001b[0m \u001b[0mself\u001b[0m\u001b[1;33m.\u001b[0m\u001b[0mreindex\u001b[0m\u001b[1;33m(\u001b[0m\u001b[1;33m**\u001b[0m\u001b[1;33m{\u001b[0m\u001b[0maxis_name\u001b[0m\u001b[1;33m:\u001b[0m \u001b[0mnew_axis\u001b[0m\u001b[1;33m}\u001b[0m\u001b[1;33m)\u001b[0m\u001b[1;33m\u001b[0m\u001b[0m\n\u001b[0;32m   2052\u001b[0m             \u001b[1;32mtry\u001b[0m\u001b[1;33m:\u001b[0m\u001b[1;33m\u001b[0m\u001b[0m\n",
      "\u001b[1;32mC:\\ProgramData\\Anaconda3\\lib\\site-packages\\pandas\\core\\indexes\\base.py\u001b[0m in \u001b[0;36mdrop\u001b[1;34m(self, labels, errors)\u001b[0m\n\u001b[0;32m   3573\u001b[0m             \u001b[1;32mif\u001b[0m \u001b[0merrors\u001b[0m \u001b[1;33m!=\u001b[0m \u001b[1;34m'ignore'\u001b[0m\u001b[1;33m:\u001b[0m\u001b[1;33m\u001b[0m\u001b[0m\n\u001b[0;32m   3574\u001b[0m                 raise ValueError('labels %s not contained in axis' %\n\u001b[1;32m-> 3575\u001b[1;33m                                  labels[mask])\n\u001b[0m\u001b[0;32m   3576\u001b[0m             \u001b[0mindexer\u001b[0m \u001b[1;33m=\u001b[0m \u001b[0mindexer\u001b[0m\u001b[1;33m[\u001b[0m\u001b[1;33m~\u001b[0m\u001b[0mmask\u001b[0m\u001b[1;33m]\u001b[0m\u001b[1;33m\u001b[0m\u001b[0m\n\u001b[0;32m   3577\u001b[0m         \u001b[1;32mreturn\u001b[0m \u001b[0mself\u001b[0m\u001b[1;33m.\u001b[0m\u001b[0mdelete\u001b[0m\u001b[1;33m(\u001b[0m\u001b[0mindexer\u001b[0m\u001b[1;33m)\u001b[0m\u001b[1;33m\u001b[0m\u001b[0m\n",
      "\u001b[1;31mValueError\u001b[0m: labels ['Unnamed: 0'] not contained in axis"
     ]
    }
   ],
   "source": [
    "df = df.drop(df.columns[0])"
   ]
  },
  {
   "cell_type": "code",
   "execution_count": 38,
   "metadata": {},
   "outputs": [
    {
     "ename": "ValueError",
     "evalue": "labels ['Unnamed: 0'] not contained in axis",
     "output_type": "error",
     "traceback": [
      "\u001b[1;31m---------------------------------------------------------------------------\u001b[0m",
      "\u001b[1;31mValueError\u001b[0m                                Traceback (most recent call last)",
      "\u001b[1;32m<ipython-input-38-1f51ca10f811>\u001b[0m in \u001b[0;36m<module>\u001b[1;34m()\u001b[0m\n\u001b[1;32m----> 1\u001b[1;33m \u001b[0mdf\u001b[0m\u001b[1;33m.\u001b[0m\u001b[0mdrop\u001b[0m\u001b[1;33m(\u001b[0m\u001b[0mdf\u001b[0m\u001b[1;33m.\u001b[0m\u001b[0mcolumns\u001b[0m\u001b[1;33m[\u001b[0m\u001b[1;36m0\u001b[0m\u001b[1;33m]\u001b[0m\u001b[1;33m)\u001b[0m\u001b[1;33m\u001b[0m\u001b[0m\n\u001b[0m",
      "\u001b[1;32mC:\\ProgramData\\Anaconda3\\lib\\site-packages\\pandas\\core\\generic.py\u001b[0m in \u001b[0;36mdrop\u001b[1;34m(self, labels, axis, level, inplace, errors)\u001b[0m\n\u001b[0;32m   2048\u001b[0m                 \u001b[0mnew_axis\u001b[0m \u001b[1;33m=\u001b[0m \u001b[0maxis\u001b[0m\u001b[1;33m.\u001b[0m\u001b[0mdrop\u001b[0m\u001b[1;33m(\u001b[0m\u001b[0mlabels\u001b[0m\u001b[1;33m,\u001b[0m \u001b[0mlevel\u001b[0m\u001b[1;33m=\u001b[0m\u001b[0mlevel\u001b[0m\u001b[1;33m,\u001b[0m \u001b[0merrors\u001b[0m\u001b[1;33m=\u001b[0m\u001b[0merrors\u001b[0m\u001b[1;33m)\u001b[0m\u001b[1;33m\u001b[0m\u001b[0m\n\u001b[0;32m   2049\u001b[0m             \u001b[1;32melse\u001b[0m\u001b[1;33m:\u001b[0m\u001b[1;33m\u001b[0m\u001b[0m\n\u001b[1;32m-> 2050\u001b[1;33m                 \u001b[0mnew_axis\u001b[0m \u001b[1;33m=\u001b[0m \u001b[0maxis\u001b[0m\u001b[1;33m.\u001b[0m\u001b[0mdrop\u001b[0m\u001b[1;33m(\u001b[0m\u001b[0mlabels\u001b[0m\u001b[1;33m,\u001b[0m \u001b[0merrors\u001b[0m\u001b[1;33m=\u001b[0m\u001b[0merrors\u001b[0m\u001b[1;33m)\u001b[0m\u001b[1;33m\u001b[0m\u001b[0m\n\u001b[0m\u001b[0;32m   2051\u001b[0m             \u001b[0mdropped\u001b[0m \u001b[1;33m=\u001b[0m \u001b[0mself\u001b[0m\u001b[1;33m.\u001b[0m\u001b[0mreindex\u001b[0m\u001b[1;33m(\u001b[0m\u001b[1;33m**\u001b[0m\u001b[1;33m{\u001b[0m\u001b[0maxis_name\u001b[0m\u001b[1;33m:\u001b[0m \u001b[0mnew_axis\u001b[0m\u001b[1;33m}\u001b[0m\u001b[1;33m)\u001b[0m\u001b[1;33m\u001b[0m\u001b[0m\n\u001b[0;32m   2052\u001b[0m             \u001b[1;32mtry\u001b[0m\u001b[1;33m:\u001b[0m\u001b[1;33m\u001b[0m\u001b[0m\n",
      "\u001b[1;32mC:\\ProgramData\\Anaconda3\\lib\\site-packages\\pandas\\core\\indexes\\base.py\u001b[0m in \u001b[0;36mdrop\u001b[1;34m(self, labels, errors)\u001b[0m\n\u001b[0;32m   3573\u001b[0m             \u001b[1;32mif\u001b[0m \u001b[0merrors\u001b[0m \u001b[1;33m!=\u001b[0m \u001b[1;34m'ignore'\u001b[0m\u001b[1;33m:\u001b[0m\u001b[1;33m\u001b[0m\u001b[0m\n\u001b[0;32m   3574\u001b[0m                 raise ValueError('labels %s not contained in axis' %\n\u001b[1;32m-> 3575\u001b[1;33m                                  labels[mask])\n\u001b[0m\u001b[0;32m   3576\u001b[0m             \u001b[0mindexer\u001b[0m \u001b[1;33m=\u001b[0m \u001b[0mindexer\u001b[0m\u001b[1;33m[\u001b[0m\u001b[1;33m~\u001b[0m\u001b[0mmask\u001b[0m\u001b[1;33m]\u001b[0m\u001b[1;33m\u001b[0m\u001b[0m\n\u001b[0;32m   3577\u001b[0m         \u001b[1;32mreturn\u001b[0m \u001b[0mself\u001b[0m\u001b[1;33m.\u001b[0m\u001b[0mdelete\u001b[0m\u001b[1;33m(\u001b[0m\u001b[0mindexer\u001b[0m\u001b[1;33m)\u001b[0m\u001b[1;33m\u001b[0m\u001b[0m\n",
      "\u001b[1;31mValueError\u001b[0m: labels ['Unnamed: 0'] not contained in axis"
     ]
    }
   ],
   "source": [
    "df.drop(df.columns[0])"
   ]
  },
  {
   "cell_type": "code",
   "execution_count": 36,
   "metadata": {},
   "outputs": [
    {
     "ename": "SyntaxError",
     "evalue": "invalid syntax (<ipython-input-36-8eb9506db054>, line 1)",
     "output_type": "error",
     "traceback": [
      "\u001b[1;36m  File \u001b[1;32m\"<ipython-input-36-8eb9506db054>\"\u001b[1;36m, line \u001b[1;32m1\u001b[0m\n\u001b[1;33m    df = df.drop(:,0)\u001b[0m\n\u001b[1;37m                 ^\u001b[0m\n\u001b[1;31mSyntaxError\u001b[0m\u001b[1;31m:\u001b[0m invalid syntax\n"
     ]
    }
   ],
   "source": [
    "df = df[].drop(:,0)"
   ]
  },
  {
   "cell_type": "code",
   "execution_count": 31,
   "metadata": {},
   "outputs": [
    {
     "data": {
      "text/plain": [
       "Index(['Unnamed: 0', 'MINING_DW_SUBSCR_NO', 'B2B', '下載', '主機代管', '交流平台',\n",
       "       '企業首頁', '促銷', '健康保健', '優惠卷相關購物網', '入口網站', '其他', '分類廣告資訊', '博弈', '即時通訊',\n",
       "       '地區性', '地圖', '娛樂消遣', '家庭生活', '居家生活', '成人', '房產', '搜尋引擎', '政府', '教育',\n",
       "       '文教與閱讀', '新聞與社會新鮮事', '旅遊散心', '汽車', '生活資訊查詢平台', '相片', '社群媒體', '社群關係',\n",
       "       '科技領航', '綜合資訊查詢平台', '網路服務供應商', '網路服務平台 - 其他', '網路知識查詢平台', '聊天', '職涯發展',\n",
       "       '財經資訊', '遊戲', '運動與休閒', '運輸', '零售', '電信/通訊', '電子賀卡', '電子郵件', '餐廳美食',\n",
       "       '點數收集對換'],\n",
       "      dtype='object')"
      ]
     },
     "execution_count": 31,
     "metadata": {},
     "output_type": "execute_result"
    }
   ],
   "source": [
    "df.columns"
   ]
  },
  {
   "cell_type": "code",
   "execution_count": 24,
   "metadata": {},
   "outputs": [
    {
     "data": {
      "text/html": [
       "<div>\n",
       "<style>\n",
       "    .dataframe thead tr:only-child th {\n",
       "        text-align: right;\n",
       "    }\n",
       "\n",
       "    .dataframe thead th {\n",
       "        text-align: left;\n",
       "    }\n",
       "\n",
       "    .dataframe tbody tr th {\n",
       "        vertical-align: top;\n",
       "    }\n",
       "</style>\n",
       "<table border=\"1\" class=\"dataframe\">\n",
       "  <thead>\n",
       "    <tr style=\"text-align: right;\">\n",
       "      <th></th>\n",
       "      <th>Unnamed: 0</th>\n",
       "      <th>MINING_DW_SUBSCR_NO</th>\n",
       "      <th>B2B</th>\n",
       "      <th>下載</th>\n",
       "      <th>主機代管</th>\n",
       "      <th>交流平台</th>\n",
       "      <th>企業首頁</th>\n",
       "      <th>促銷</th>\n",
       "      <th>健康保健</th>\n",
       "      <th>優惠卷相關購物網</th>\n",
       "      <th>...</th>\n",
       "      <th>財經資訊</th>\n",
       "      <th>遊戲</th>\n",
       "      <th>運動與休閒</th>\n",
       "      <th>運輸</th>\n",
       "      <th>零售</th>\n",
       "      <th>電信/通訊</th>\n",
       "      <th>電子賀卡</th>\n",
       "      <th>電子郵件</th>\n",
       "      <th>餐廳美食</th>\n",
       "      <th>點數收集對換</th>\n",
       "    </tr>\n",
       "  </thead>\n",
       "  <tbody>\n",
       "    <tr>\n",
       "      <th>0</th>\n",
       "      <td>1</td>\n",
       "      <td>10000000823</td>\n",
       "      <td>0</td>\n",
       "      <td>0.0</td>\n",
       "      <td>0</td>\n",
       "      <td>0</td>\n",
       "      <td>0.000</td>\n",
       "      <td>0</td>\n",
       "      <td>0.000</td>\n",
       "      <td>0</td>\n",
       "      <td>...</td>\n",
       "      <td>0.133</td>\n",
       "      <td>0.000</td>\n",
       "      <td>0.000</td>\n",
       "      <td>0</td>\n",
       "      <td>0.000</td>\n",
       "      <td>0.167</td>\n",
       "      <td>0</td>\n",
       "      <td>0</td>\n",
       "      <td>0</td>\n",
       "      <td>0</td>\n",
       "    </tr>\n",
       "    <tr>\n",
       "      <th>1</th>\n",
       "      <td>2</td>\n",
       "      <td>10000004215</td>\n",
       "      <td>0</td>\n",
       "      <td>0.0</td>\n",
       "      <td>0</td>\n",
       "      <td>0</td>\n",
       "      <td>0.033</td>\n",
       "      <td>0</td>\n",
       "      <td>0.033</td>\n",
       "      <td>0</td>\n",
       "      <td>...</td>\n",
       "      <td>0.000</td>\n",
       "      <td>0.000</td>\n",
       "      <td>0.267</td>\n",
       "      <td>0</td>\n",
       "      <td>0.067</td>\n",
       "      <td>0.000</td>\n",
       "      <td>0</td>\n",
       "      <td>0</td>\n",
       "      <td>0</td>\n",
       "      <td>0</td>\n",
       "    </tr>\n",
       "    <tr>\n",
       "      <th>2</th>\n",
       "      <td>3</td>\n",
       "      <td>10000008238</td>\n",
       "      <td>0</td>\n",
       "      <td>0.0</td>\n",
       "      <td>0</td>\n",
       "      <td>0</td>\n",
       "      <td>0.000</td>\n",
       "      <td>0</td>\n",
       "      <td>0.000</td>\n",
       "      <td>0</td>\n",
       "      <td>...</td>\n",
       "      <td>0.000</td>\n",
       "      <td>0.067</td>\n",
       "      <td>0.000</td>\n",
       "      <td>0</td>\n",
       "      <td>0.000</td>\n",
       "      <td>0.000</td>\n",
       "      <td>0</td>\n",
       "      <td>0</td>\n",
       "      <td>0</td>\n",
       "      <td>0</td>\n",
       "    </tr>\n",
       "    <tr>\n",
       "      <th>3</th>\n",
       "      <td>4</td>\n",
       "      <td>10000012539</td>\n",
       "      <td>0</td>\n",
       "      <td>0.0</td>\n",
       "      <td>0</td>\n",
       "      <td>0</td>\n",
       "      <td>0.000</td>\n",
       "      <td>0</td>\n",
       "      <td>0.000</td>\n",
       "      <td>0</td>\n",
       "      <td>...</td>\n",
       "      <td>0.000</td>\n",
       "      <td>0.000</td>\n",
       "      <td>0.000</td>\n",
       "      <td>0</td>\n",
       "      <td>0.000</td>\n",
       "      <td>0.000</td>\n",
       "      <td>0</td>\n",
       "      <td>0</td>\n",
       "      <td>0</td>\n",
       "      <td>0</td>\n",
       "    </tr>\n",
       "    <tr>\n",
       "      <th>4</th>\n",
       "      <td>5</td>\n",
       "      <td>10000015467</td>\n",
       "      <td>0</td>\n",
       "      <td>0.0</td>\n",
       "      <td>0</td>\n",
       "      <td>0</td>\n",
       "      <td>0.000</td>\n",
       "      <td>0</td>\n",
       "      <td>0.000</td>\n",
       "      <td>0</td>\n",
       "      <td>...</td>\n",
       "      <td>0.000</td>\n",
       "      <td>0.000</td>\n",
       "      <td>0.000</td>\n",
       "      <td>0</td>\n",
       "      <td>0.033</td>\n",
       "      <td>0.000</td>\n",
       "      <td>0</td>\n",
       "      <td>0</td>\n",
       "      <td>0</td>\n",
       "      <td>0</td>\n",
       "    </tr>\n",
       "  </tbody>\n",
       "</table>\n",
       "<p>5 rows × 50 columns</p>\n",
       "</div>"
      ],
      "text/plain": [
       "   Unnamed: 0  MINING_DW_SUBSCR_NO  B2B   下載  主機代管  交流平台   企業首頁  促銷   健康保健  \\\n",
       "0           1          10000000823    0  0.0     0     0  0.000   0  0.000   \n",
       "1           2          10000004215    0  0.0     0     0  0.033   0  0.033   \n",
       "2           3          10000008238    0  0.0     0     0  0.000   0  0.000   \n",
       "3           4          10000012539    0  0.0     0     0  0.000   0  0.000   \n",
       "4           5          10000015467    0  0.0     0     0  0.000   0  0.000   \n",
       "\n",
       "   優惠卷相關購物網   ...     財經資訊     遊戲  運動與休閒  運輸     零售  電信/通訊  電子賀卡  電子郵件  餐廳美食  \\\n",
       "0         0   ...    0.133  0.000  0.000   0  0.000  0.167     0     0     0   \n",
       "1         0   ...    0.000  0.000  0.267   0  0.067  0.000     0     0     0   \n",
       "2         0   ...    0.000  0.067  0.000   0  0.000  0.000     0     0     0   \n",
       "3         0   ...    0.000  0.000  0.000   0  0.000  0.000     0     0     0   \n",
       "4         0   ...    0.000  0.000  0.000   0  0.033  0.000     0     0     0   \n",
       "\n",
       "   點數收集對換  \n",
       "0       0  \n",
       "1       0  \n",
       "2       0  \n",
       "3       0  \n",
       "4       0  \n",
       "\n",
       "[5 rows x 50 columns]"
      ]
     },
     "execution_count": 24,
     "metadata": {},
     "output_type": "execute_result"
    }
   ],
   "source": [
    "df.head()"
   ]
  },
  {
   "cell_type": "code",
   "execution_count": 32,
   "metadata": {},
   "outputs": [
    {
     "data": {
      "text/html": [
       "<div>\n",
       "<style>\n",
       "    .dataframe thead tr:only-child th {\n",
       "        text-align: right;\n",
       "    }\n",
       "\n",
       "    .dataframe thead th {\n",
       "        text-align: left;\n",
       "    }\n",
       "\n",
       "    .dataframe tbody tr th {\n",
       "        vertical-align: top;\n",
       "    }\n",
       "</style>\n",
       "<table border=\"1\" class=\"dataframe\">\n",
       "  <thead>\n",
       "    <tr style=\"text-align: right;\">\n",
       "      <th></th>\n",
       "      <th>Unnamed: 0</th>\n",
       "      <th>MINING_DW_SUBSCR_NO</th>\n",
       "      <th>B2B</th>\n",
       "      <th>下載</th>\n",
       "      <th>主機代管</th>\n",
       "      <th>交流平台</th>\n",
       "      <th>企業首頁</th>\n",
       "      <th>促銷</th>\n",
       "      <th>健康保健</th>\n",
       "      <th>優惠卷相關購物網</th>\n",
       "      <th>...</th>\n",
       "      <th>財經資訊</th>\n",
       "      <th>遊戲</th>\n",
       "      <th>運動與休閒</th>\n",
       "      <th>運輸</th>\n",
       "      <th>零售</th>\n",
       "      <th>電信/通訊</th>\n",
       "      <th>電子賀卡</th>\n",
       "      <th>電子郵件</th>\n",
       "      <th>餐廳美食</th>\n",
       "      <th>點數收集對換</th>\n",
       "    </tr>\n",
       "  </thead>\n",
       "  <tbody>\n",
       "    <tr>\n",
       "      <th>1</th>\n",
       "      <td>2</td>\n",
       "      <td>10000004215</td>\n",
       "      <td>0</td>\n",
       "      <td>0.0</td>\n",
       "      <td>0</td>\n",
       "      <td>0</td>\n",
       "      <td>0.033</td>\n",
       "      <td>0</td>\n",
       "      <td>0.033</td>\n",
       "      <td>0</td>\n",
       "      <td>...</td>\n",
       "      <td>0.0</td>\n",
       "      <td>0.000</td>\n",
       "      <td>0.267</td>\n",
       "      <td>0</td>\n",
       "      <td>0.067</td>\n",
       "      <td>0.0</td>\n",
       "      <td>0</td>\n",
       "      <td>0</td>\n",
       "      <td>0</td>\n",
       "      <td>0</td>\n",
       "    </tr>\n",
       "    <tr>\n",
       "      <th>2</th>\n",
       "      <td>3</td>\n",
       "      <td>10000008238</td>\n",
       "      <td>0</td>\n",
       "      <td>0.0</td>\n",
       "      <td>0</td>\n",
       "      <td>0</td>\n",
       "      <td>0.000</td>\n",
       "      <td>0</td>\n",
       "      <td>0.000</td>\n",
       "      <td>0</td>\n",
       "      <td>...</td>\n",
       "      <td>0.0</td>\n",
       "      <td>0.067</td>\n",
       "      <td>0.000</td>\n",
       "      <td>0</td>\n",
       "      <td>0.000</td>\n",
       "      <td>0.0</td>\n",
       "      <td>0</td>\n",
       "      <td>0</td>\n",
       "      <td>0</td>\n",
       "      <td>0</td>\n",
       "    </tr>\n",
       "    <tr>\n",
       "      <th>3</th>\n",
       "      <td>4</td>\n",
       "      <td>10000012539</td>\n",
       "      <td>0</td>\n",
       "      <td>0.0</td>\n",
       "      <td>0</td>\n",
       "      <td>0</td>\n",
       "      <td>0.000</td>\n",
       "      <td>0</td>\n",
       "      <td>0.000</td>\n",
       "      <td>0</td>\n",
       "      <td>...</td>\n",
       "      <td>0.0</td>\n",
       "      <td>0.000</td>\n",
       "      <td>0.000</td>\n",
       "      <td>0</td>\n",
       "      <td>0.000</td>\n",
       "      <td>0.0</td>\n",
       "      <td>0</td>\n",
       "      <td>0</td>\n",
       "      <td>0</td>\n",
       "      <td>0</td>\n",
       "    </tr>\n",
       "    <tr>\n",
       "      <th>4</th>\n",
       "      <td>5</td>\n",
       "      <td>10000015467</td>\n",
       "      <td>0</td>\n",
       "      <td>0.0</td>\n",
       "      <td>0</td>\n",
       "      <td>0</td>\n",
       "      <td>0.000</td>\n",
       "      <td>0</td>\n",
       "      <td>0.000</td>\n",
       "      <td>0</td>\n",
       "      <td>...</td>\n",
       "      <td>0.0</td>\n",
       "      <td>0.000</td>\n",
       "      <td>0.000</td>\n",
       "      <td>0</td>\n",
       "      <td>0.033</td>\n",
       "      <td>0.0</td>\n",
       "      <td>0</td>\n",
       "      <td>0</td>\n",
       "      <td>0</td>\n",
       "      <td>0</td>\n",
       "    </tr>\n",
       "    <tr>\n",
       "      <th>5</th>\n",
       "      <td>6</td>\n",
       "      <td>10000023807</td>\n",
       "      <td>0</td>\n",
       "      <td>0.0</td>\n",
       "      <td>0</td>\n",
       "      <td>0</td>\n",
       "      <td>0.000</td>\n",
       "      <td>0</td>\n",
       "      <td>0.067</td>\n",
       "      <td>0</td>\n",
       "      <td>...</td>\n",
       "      <td>0.0</td>\n",
       "      <td>0.000</td>\n",
       "      <td>0.000</td>\n",
       "      <td>0</td>\n",
       "      <td>0.000</td>\n",
       "      <td>0.0</td>\n",
       "      <td>0</td>\n",
       "      <td>0</td>\n",
       "      <td>0</td>\n",
       "      <td>0</td>\n",
       "    </tr>\n",
       "  </tbody>\n",
       "</table>\n",
       "<p>5 rows × 50 columns</p>\n",
       "</div>"
      ],
      "text/plain": [
       "   Unnamed: 0  MINING_DW_SUBSCR_NO  B2B   下載  主機代管  交流平台   企業首頁  促銷   健康保健  \\\n",
       "1           2          10000004215    0  0.0     0     0  0.033   0  0.033   \n",
       "2           3          10000008238    0  0.0     0     0  0.000   0  0.000   \n",
       "3           4          10000012539    0  0.0     0     0  0.000   0  0.000   \n",
       "4           5          10000015467    0  0.0     0     0  0.000   0  0.000   \n",
       "5           6          10000023807    0  0.0     0     0  0.000   0  0.067   \n",
       "\n",
       "   優惠卷相關購物網   ...    財經資訊     遊戲  運動與休閒  運輸     零售  電信/通訊  電子賀卡  電子郵件  餐廳美食  \\\n",
       "1         0   ...     0.0  0.000  0.267   0  0.067    0.0     0     0     0   \n",
       "2         0   ...     0.0  0.067  0.000   0  0.000    0.0     0     0     0   \n",
       "3         0   ...     0.0  0.000  0.000   0  0.000    0.0     0     0     0   \n",
       "4         0   ...     0.0  0.000  0.000   0  0.033    0.0     0     0     0   \n",
       "5         0   ...     0.0  0.000  0.000   0  0.000    0.0     0     0     0   \n",
       "\n",
       "   點數收集對換  \n",
       "1       0  \n",
       "2       0  \n",
       "3       0  \n",
       "4       0  \n",
       "5       0  \n",
       "\n",
       "[5 rows x 50 columns]"
      ]
     },
     "execution_count": 32,
     "metadata": {},
     "output_type": "execute_result"
    }
   ],
   "source": [
    "df.head()"
   ]
  },
  {
   "cell_type": "code",
   "execution_count": 20,
   "metadata": {},
   "outputs": [
    {
     "data": {
      "text/plain": [
       "130482"
      ]
     },
     "execution_count": 20,
     "metadata": {},
     "output_type": "execute_result"
    }
   ],
   "source": [
    "len(df[df[\"TENURE_SCV\"] < 3])"
   ]
  },
  {
   "cell_type": "code",
   "execution_count": 10,
   "metadata": {
    "collapsed": true
   },
   "outputs": [],
   "source": [
    "filename = \"voice_24_7_total_filter_log10\"\n",
    "relative_filename = path + filename + \".csv\"\n",
    "df = pd.read_csv(relative_filename, usecols = [\"VOICE_MONTHLY_SUM\"], error_bad_lines=False, nrows = 10)\n"
   ]
  },
  {
   "cell_type": "code",
   "execution_count": 11,
   "metadata": {},
   "outputs": [
    {
     "data": {
      "text/plain": [
       "4.493847556235866"
      ]
     },
     "execution_count": 11,
     "metadata": {},
     "output_type": "execute_result"
    }
   ],
   "source": [
    "df[\"VOICE_MONTHLY_SUM\"].max()"
   ]
  },
  {
   "cell_type": "code",
   "execution_count": 15,
   "metadata": {
    "collapsed": true
   },
   "outputs": [],
   "source": [
    "filename = \"voice_24_7_total_filter_max_min\"\n",
    "relative_filename = path + filename + \".csv\"\n",
    "df = pd.read_csv(relative_filename, usecols = [\"VOICE_MONTHLY_SUM\"], error_bad_lines=False,)"
   ]
  },
  {
   "cell_type": "code",
   "execution_count": 16,
   "metadata": {},
   "outputs": [
    {
     "data": {
      "text/plain": [
       "1.0"
      ]
     },
     "execution_count": 16,
     "metadata": {},
     "output_type": "execute_result"
    }
   ],
   "source": [
    "df[\"VOICE_MONTHLY_SUM\"].max()"
   ]
  },
  {
   "cell_type": "code",
   "execution_count": 5,
   "metadata": {},
   "outputs": [
    {
     "data": {
      "text/plain": [
       "['MINING_DW_SUBSCR_NO',\n",
       " 'VOICE_MO_HOUR_0_CNT',\n",
       " 'VOICE_MO_HOUR_1_CNT',\n",
       " 'VOICE_MO_HOUR_2_CNT',\n",
       " 'VOICE_MO_HOUR_3_CNT',\n",
       " 'VOICE_MO_HOUR_4_CNT',\n",
       " 'VOICE_MO_HOUR_5_CNT',\n",
       " 'VOICE_MO_HOUR_6_CNT',\n",
       " 'VOICE_MO_HOUR_7_CNT',\n",
       " 'VOICE_MO_HOUR_8_CNT',\n",
       " 'VOICE_MO_HOUR_9_CNT',\n",
       " 'VOICE_MO_HOUR_10_CNT',\n",
       " 'VOICE_MO_HOUR_11_CNT',\n",
       " 'VOICE_MO_HOUR_12_CNT',\n",
       " 'VOICE_MO_HOUR_13_CNT',\n",
       " 'VOICE_MO_HOUR_14_CNT',\n",
       " 'VOICE_MO_HOUR_15_CNT',\n",
       " 'VOICE_MO_HOUR_16_CNT',\n",
       " 'VOICE_MO_HOUR_17_CNT',\n",
       " 'VOICE_MO_HOUR_18_CNT',\n",
       " 'VOICE_MO_HOUR_19_CNT',\n",
       " 'VOICE_MO_HOUR_20_CNT',\n",
       " 'VOICE_MO_HOUR_21_CNT',\n",
       " 'VOICE_MO_HOUR_22_CNT',\n",
       " 'VOICE_MO_HOUR_23_CNT',\n",
       " 'VOICE_MO_HOUR_0_TIME',\n",
       " 'VOICE_MO_HOUR_1_TIME',\n",
       " 'VOICE_MO_HOUR_2_TIME',\n",
       " 'VOICE_MO_HOUR_3_TIME',\n",
       " 'VOICE_MO_HOUR_4_TIME',\n",
       " 'VOICE_MO_HOUR_5_TIME',\n",
       " 'VOICE_MO_HOUR_6_TIME',\n",
       " 'VOICE_MO_HOUR_7_TIME',\n",
       " 'VOICE_MO_HOUR_8_TIME',\n",
       " 'VOICE_MO_HOUR_9_TIME',\n",
       " 'VOICE_MO_HOUR_10_TIME',\n",
       " 'VOICE_MO_HOUR_11_TIME',\n",
       " 'VOICE_MO_HOUR_12_TIME',\n",
       " 'VOICE_MO_HOUR_13_TIME',\n",
       " 'VOICE_MO_HOUR_14_TIME',\n",
       " 'VOICE_MO_HOUR_15_TIME',\n",
       " 'VOICE_MO_HOUR_16_TIME',\n",
       " 'VOICE_MO_HOUR_17_TIME',\n",
       " 'VOICE_MO_HOUR_18_TIME',\n",
       " 'VOICE_MO_HOUR_19_TIME',\n",
       " 'VOICE_MO_HOUR_20_TIME',\n",
       " 'VOICE_MO_HOUR_21_TIME',\n",
       " 'VOICE_MO_HOUR_22_TIME',\n",
       " 'VOICE_MO_HOUR_23_TIME',\n",
       " 'VOICE_MT_HOUR_0_CNT',\n",
       " 'VOICE_MT_HOUR_1_CNT',\n",
       " 'VOICE_MT_HOUR_2_CNT',\n",
       " 'VOICE_MT_HOUR_3_CNT',\n",
       " 'VOICE_MT_HOUR_4_CNT',\n",
       " 'VOICE_MT_HOUR_5_CNT',\n",
       " 'VOICE_MT_HOUR_6_CNT',\n",
       " 'VOICE_MT_HOUR_7_CNT',\n",
       " 'VOICE_MT_HOUR_8_CNT',\n",
       " 'VOICE_MT_HOUR_9_CNT',\n",
       " 'VOICE_MT_HOUR_10_CNT',\n",
       " 'VOICE_MT_HOUR_11_CNT',\n",
       " 'VOICE_MT_HOUR_12_CNT',\n",
       " 'VOICE_MT_HOUR_13_CNT',\n",
       " 'VOICE_MT_HOUR_14_CNT',\n",
       " 'VOICE_MT_HOUR_15_CNT',\n",
       " 'VOICE_MT_HOUR_16_CNT',\n",
       " 'VOICE_MT_HOUR_17_CNT',\n",
       " 'VOICE_MT_HOUR_18_CNT',\n",
       " 'VOICE_MT_HOUR_19_CNT',\n",
       " 'VOICE_MT_HOUR_20_CNT',\n",
       " 'VOICE_MT_HOUR_21_CNT',\n",
       " 'VOICE_MT_HOUR_22_CNT',\n",
       " 'VOICE_MT_HOUR_23_CNT',\n",
       " 'VOICE_MT_HOUR_0_TIME',\n",
       " 'VOICE_MT_HOUR_1_TIME',\n",
       " 'VOICE_MT_HOUR_2_TIME',\n",
       " 'VOICE_MT_HOUR_3_TIME',\n",
       " 'VOICE_MT_HOUR_4_TIME',\n",
       " 'VOICE_MT_HOUR_5_TIME',\n",
       " 'VOICE_MT_HOUR_6_TIME',\n",
       " 'VOICE_MT_HOUR_7_TIME',\n",
       " 'VOICE_MT_HOUR_8_TIME',\n",
       " 'VOICE_MT_HOUR_9_TIME',\n",
       " 'VOICE_MT_HOUR_10_TIME',\n",
       " 'VOICE_MT_HOUR_11_TIME',\n",
       " 'VOICE_MT_HOUR_12_TIME',\n",
       " 'VOICE_MT_HOUR_13_TIME',\n",
       " 'VOICE_MT_HOUR_14_TIME',\n",
       " 'VOICE_MT_HOUR_15_TIME',\n",
       " 'VOICE_MT_HOUR_16_TIME',\n",
       " 'VOICE_MT_HOUR_17_TIME',\n",
       " 'VOICE_MT_HOUR_18_TIME',\n",
       " 'VOICE_MT_HOUR_19_TIME',\n",
       " 'VOICE_MT_HOUR_20_TIME',\n",
       " 'VOICE_MT_HOUR_21_TIME',\n",
       " 'VOICE_MT_HOUR_22_TIME',\n",
       " 'VOICE_MT_HOUR_23_TIME',\n",
       " 'VOICE_MO_MON_CNT',\n",
       " 'VOICE_MO_TUE_CNT',\n",
       " 'VOICE_MO_WED_CNT',\n",
       " 'VOICE_MO_THU_CNT',\n",
       " 'VOICE_MO_FRI_CNT',\n",
       " 'VOICE_MO_SAT_CNT',\n",
       " 'VOICE_MO_SUN_CNT',\n",
       " 'VOICE_MO_MON_TIME',\n",
       " 'VOICE_MO_TUE_TIME',\n",
       " 'VOICE_MO_WED_TIME',\n",
       " 'VOICE_MO_THU_TIME',\n",
       " 'VOICE_MO_FRI_TIME',\n",
       " 'VOICE_MO_SAT_TIME',\n",
       " 'VOICE_MO_SUN_TIME',\n",
       " 'VOICE_MO_workday_cnt',\n",
       " 'VOICE_MO_workday_cnt_avg',\n",
       " 'VOICE_MO_workday_time',\n",
       " 'VOICE_MO_workday_time_avg',\n",
       " 'VOICE_MO_holiday_cnt',\n",
       " 'VOICE_MO_holiday_cnt_avg',\n",
       " 'VOICE_MO_holiday_time',\n",
       " 'VOICE_MO_holiday_time_avg',\n",
       " 'VOICE_MT_MON_CNT',\n",
       " 'VOICE_MT_TUE_CNT',\n",
       " 'VOICE_MT_WED_CNT',\n",
       " 'VOICE_MT_THU_CNT',\n",
       " 'VOICE_MT_FRI_CNT',\n",
       " 'VOICE_MT_SAT_CNT',\n",
       " 'VOICE_MT_SUN_CNT',\n",
       " 'VOICE_MT_MON_TIME',\n",
       " 'VOICE_MT_TUE_TIME',\n",
       " 'VOICE_MT_WED_TIME',\n",
       " 'VOICE_MT_THU_TIME',\n",
       " 'VOICE_MT_FRI_TIME',\n",
       " 'VOICE_MT_SAT_TIME',\n",
       " 'VOICE_MT_SUN_TIME',\n",
       " 'VOICE_MT_workday_cnt',\n",
       " 'VOICE_MT_workday_cnt_avg',\n",
       " 'VOICE_MT_workday_time',\n",
       " 'VOICE_MT_workday_time_avg',\n",
       " 'VOICE_MT_holiday_cnt',\n",
       " 'VOICE_MT_holiday_cnt_avg',\n",
       " 'VOICE_MT_holiday_time',\n",
       " 'VOICE_MT_holiday_time_avg',\n",
       " 'MTC_CNT',\n",
       " 'MTC_DUR',\n",
       " 'MTC_FET_CNT',\n",
       " 'MTC_FET_DUR',\n",
       " 'MTC_TWM_CNT',\n",
       " 'MTC_TWM_DUR',\n",
       " 'MTC_CHM_CNT',\n",
       " 'MTC_CHM_DUR',\n",
       " 'MTC_APT_CNT',\n",
       " 'MTC_APT_DUR',\n",
       " 'MTC_TSC_CNT',\n",
       " 'MTC_TSC_DUR',\n",
       " 'MTC_PSTN_CNT',\n",
       " 'MTC_PSTN_DUR',\n",
       " 'MOC_CNT',\n",
       " 'MOC_DUR',\n",
       " 'MOC_FET_CNT',\n",
       " 'MOC_FET_DUR',\n",
       " 'MOC_TWM_CNT',\n",
       " 'MOC_TWM_DUR',\n",
       " 'MOC_CHM_CNT',\n",
       " 'MOC_CHM_DUR',\n",
       " 'MOC_APT_CNT',\n",
       " 'MOC_APT_DUR',\n",
       " 'MOC_TSC_CNT',\n",
       " 'MOC_TSC_DUR',\n",
       " 'MOC_PSTN_CNT',\n",
       " 'MOC_PSTN_DUR',\n",
       " 'DNA_HOUR_0_CNT',\n",
       " 'DNA_HOUR_1_CNT',\n",
       " 'DNA_HOUR_2_CNT',\n",
       " 'DNA_HOUR_3_CNT',\n",
       " 'DNA_HOUR_4_CNT',\n",
       " 'DNA_HOUR_5_CNT',\n",
       " 'DNA_HOUR_6_CNT',\n",
       " 'DNA_HOUR_7_CNT',\n",
       " 'DNA_HOUR_8_CNT',\n",
       " 'DNA_HOUR_9_CNT',\n",
       " 'DNA_HOUR_10_CNT',\n",
       " 'DNA_HOUR_11_CNT',\n",
       " 'DNA_HOUR_12_CNT',\n",
       " 'DNA_HOUR_13_CNT',\n",
       " 'DNA_HOUR_14_CNT',\n",
       " 'DNA_HOUR_15_CNT',\n",
       " 'DNA_HOUR_16_CNT',\n",
       " 'DNA_HOUR_17_CNT',\n",
       " 'DNA_HOUR_18_CNT',\n",
       " 'DNA_HOUR_19_CNT',\n",
       " 'DNA_HOUR_20_CNT',\n",
       " 'DNA_HOUR_21_CNT',\n",
       " 'DNA_HOUR_22_CNT',\n",
       " 'DNA_HOUR_23_CNT ',\n",
       " 'DNA_Monday',\n",
       " 'DNA_Tuesday',\n",
       " 'DNA_Wednesday',\n",
       " 'DNA_Thursday',\n",
       " 'DNA_Friday',\n",
       " 'DNA_Saturday',\n",
       " 'DNA_Sunday']"
      ]
     },
     "execution_count": 5,
     "metadata": {},
     "output_type": "execute_result"
    }
   ],
   "source": [
    "list(df.columns)"
   ]
  },
  {
   "cell_type": "code",
   "execution_count": 4,
   "metadata": {
    "scrolled": true
   },
   "outputs": [
    {
     "data": {
      "text/html": [
       "<div>\n",
       "<style>\n",
       "    .dataframe thead tr:only-child th {\n",
       "        text-align: right;\n",
       "    }\n",
       "\n",
       "    .dataframe thead th {\n",
       "        text-align: left;\n",
       "    }\n",
       "\n",
       "    .dataframe tbody tr th {\n",
       "        vertical-align: top;\n",
       "    }\n",
       "</style>\n",
       "<table border=\"1\" class=\"dataframe\">\n",
       "  <thead>\n",
       "    <tr style=\"text-align: right;\">\n",
       "      <th></th>\n",
       "      <th>MINING_DW_SUBSCR_NO</th>\n",
       "      <th>VOICE_MO_HOUR_0_CNT</th>\n",
       "      <th>VOICE_MO_HOUR_1_CNT</th>\n",
       "      <th>VOICE_MO_HOUR_2_CNT</th>\n",
       "      <th>VOICE_MO_HOUR_3_CNT</th>\n",
       "      <th>VOICE_MO_HOUR_4_CNT</th>\n",
       "      <th>VOICE_MO_HOUR_5_CNT</th>\n",
       "      <th>VOICE_MO_HOUR_6_CNT</th>\n",
       "      <th>VOICE_MO_HOUR_7_CNT</th>\n",
       "      <th>VOICE_MO_HOUR_8_CNT</th>\n",
       "      <th>...</th>\n",
       "      <th>DNA_HOUR_21_CNT</th>\n",
       "      <th>DNA_HOUR_22_CNT</th>\n",
       "      <th>DNA_HOUR_23_CNT</th>\n",
       "      <th>DNA_Monday</th>\n",
       "      <th>DNA_Tuesday</th>\n",
       "      <th>DNA_Wednesday</th>\n",
       "      <th>DNA_Thursday</th>\n",
       "      <th>DNA_Friday</th>\n",
       "      <th>DNA_Saturday</th>\n",
       "      <th>DNA_Sunday</th>\n",
       "    </tr>\n",
       "  </thead>\n",
       "  <tbody>\n",
       "    <tr>\n",
       "      <th>0</th>\n",
       "      <td>8134330931</td>\n",
       "      <td>0.0</td>\n",
       "      <td>0.0</td>\n",
       "      <td>0.0</td>\n",
       "      <td>0.0</td>\n",
       "      <td>0.0</td>\n",
       "      <td>0.0</td>\n",
       "      <td>0.0</td>\n",
       "      <td>1.0</td>\n",
       "      <td>2.0</td>\n",
       "      <td>...</td>\n",
       "      <td>1.866667</td>\n",
       "      <td>2.7</td>\n",
       "      <td>1.9</td>\n",
       "      <td>0.0</td>\n",
       "      <td>0.0</td>\n",
       "      <td>0.0</td>\n",
       "      <td>0.0</td>\n",
       "      <td>0.0</td>\n",
       "      <td>0.0</td>\n",
       "      <td>0.0</td>\n",
       "    </tr>\n",
       "    <tr>\n",
       "      <th>1</th>\n",
       "      <td>2118544651</td>\n",
       "      <td>0.0</td>\n",
       "      <td>0.0</td>\n",
       "      <td>0.0</td>\n",
       "      <td>0.0</td>\n",
       "      <td>0.0</td>\n",
       "      <td>0.0</td>\n",
       "      <td>0.0</td>\n",
       "      <td>0.0</td>\n",
       "      <td>0.0</td>\n",
       "      <td>...</td>\n",
       "      <td>0.000000</td>\n",
       "      <td>0.0</td>\n",
       "      <td>0.0</td>\n",
       "      <td>0.0</td>\n",
       "      <td>0.0</td>\n",
       "      <td>0.0</td>\n",
       "      <td>0.0</td>\n",
       "      <td>0.0</td>\n",
       "      <td>0.0</td>\n",
       "      <td>0.0</td>\n",
       "    </tr>\n",
       "    <tr>\n",
       "      <th>2</th>\n",
       "      <td>10000337216</td>\n",
       "      <td>0.0</td>\n",
       "      <td>0.0</td>\n",
       "      <td>0.0</td>\n",
       "      <td>0.0</td>\n",
       "      <td>0.0</td>\n",
       "      <td>0.0</td>\n",
       "      <td>2.0</td>\n",
       "      <td>1.0</td>\n",
       "      <td>3.0</td>\n",
       "      <td>...</td>\n",
       "      <td>4.566667</td>\n",
       "      <td>6.2</td>\n",
       "      <td>4.1</td>\n",
       "      <td>0.0</td>\n",
       "      <td>0.0</td>\n",
       "      <td>0.0</td>\n",
       "      <td>0.0</td>\n",
       "      <td>0.0</td>\n",
       "      <td>0.0</td>\n",
       "      <td>0.0</td>\n",
       "    </tr>\n",
       "    <tr>\n",
       "      <th>3</th>\n",
       "      <td>3133428916</td>\n",
       "      <td>0.0</td>\n",
       "      <td>0.0</td>\n",
       "      <td>0.0</td>\n",
       "      <td>0.0</td>\n",
       "      <td>0.0</td>\n",
       "      <td>0.0</td>\n",
       "      <td>0.0</td>\n",
       "      <td>0.0</td>\n",
       "      <td>0.0</td>\n",
       "      <td>...</td>\n",
       "      <td>1.233333</td>\n",
       "      <td>0.0</td>\n",
       "      <td>0.6</td>\n",
       "      <td>0.0</td>\n",
       "      <td>0.0</td>\n",
       "      <td>0.0</td>\n",
       "      <td>0.0</td>\n",
       "      <td>0.0</td>\n",
       "      <td>0.0</td>\n",
       "      <td>0.0</td>\n",
       "    </tr>\n",
       "    <tr>\n",
       "      <th>4</th>\n",
       "      <td>3119268553</td>\n",
       "      <td>0.0</td>\n",
       "      <td>0.0</td>\n",
       "      <td>0.0</td>\n",
       "      <td>0.0</td>\n",
       "      <td>0.0</td>\n",
       "      <td>0.0</td>\n",
       "      <td>0.0</td>\n",
       "      <td>0.0</td>\n",
       "      <td>0.0</td>\n",
       "      <td>...</td>\n",
       "      <td>0.000000</td>\n",
       "      <td>0.0</td>\n",
       "      <td>0.0</td>\n",
       "      <td>0.0</td>\n",
       "      <td>0.0</td>\n",
       "      <td>0.0</td>\n",
       "      <td>0.0</td>\n",
       "      <td>0.0</td>\n",
       "      <td>0.0</td>\n",
       "      <td>0.0</td>\n",
       "    </tr>\n",
       "  </tbody>\n",
       "</table>\n",
       "<p>5 rows × 200 columns</p>\n",
       "</div>"
      ],
      "text/plain": [
       "   MINING_DW_SUBSCR_NO  VOICE_MO_HOUR_0_CNT  VOICE_MO_HOUR_1_CNT  \\\n",
       "0           8134330931                  0.0                  0.0   \n",
       "1           2118544651                  0.0                  0.0   \n",
       "2          10000337216                  0.0                  0.0   \n",
       "3           3133428916                  0.0                  0.0   \n",
       "4           3119268553                  0.0                  0.0   \n",
       "\n",
       "   VOICE_MO_HOUR_2_CNT  VOICE_MO_HOUR_3_CNT  VOICE_MO_HOUR_4_CNT  \\\n",
       "0                  0.0                  0.0                  0.0   \n",
       "1                  0.0                  0.0                  0.0   \n",
       "2                  0.0                  0.0                  0.0   \n",
       "3                  0.0                  0.0                  0.0   \n",
       "4                  0.0                  0.0                  0.0   \n",
       "\n",
       "   VOICE_MO_HOUR_5_CNT  VOICE_MO_HOUR_6_CNT  VOICE_MO_HOUR_7_CNT  \\\n",
       "0                  0.0                  0.0                  1.0   \n",
       "1                  0.0                  0.0                  0.0   \n",
       "2                  0.0                  2.0                  1.0   \n",
       "3                  0.0                  0.0                  0.0   \n",
       "4                  0.0                  0.0                  0.0   \n",
       "\n",
       "   VOICE_MO_HOUR_8_CNT     ...      DNA_HOUR_21_CNT  DNA_HOUR_22_CNT  \\\n",
       "0                  2.0     ...             1.866667              2.7   \n",
       "1                  0.0     ...             0.000000              0.0   \n",
       "2                  3.0     ...             4.566667              6.2   \n",
       "3                  0.0     ...             1.233333              0.0   \n",
       "4                  0.0     ...             0.000000              0.0   \n",
       "\n",
       "   DNA_HOUR_23_CNT   DNA_Monday  DNA_Tuesday  DNA_Wednesday  DNA_Thursday  \\\n",
       "0               1.9         0.0          0.0            0.0           0.0   \n",
       "1               0.0         0.0          0.0            0.0           0.0   \n",
       "2               4.1         0.0          0.0            0.0           0.0   \n",
       "3               0.6         0.0          0.0            0.0           0.0   \n",
       "4               0.0         0.0          0.0            0.0           0.0   \n",
       "\n",
       "   DNA_Friday  DNA_Saturday  DNA_Sunday  \n",
       "0         0.0           0.0         0.0  \n",
       "1         0.0           0.0         0.0  \n",
       "2         0.0           0.0         0.0  \n",
       "3         0.0           0.0         0.0  \n",
       "4         0.0           0.0         0.0  \n",
       "\n",
       "[5 rows x 200 columns]"
      ]
     },
     "execution_count": 4,
     "metadata": {},
     "output_type": "execute_result"
    }
   ],
   "source": [
    "df.head()"
   ]
  },
  {
   "cell_type": "code",
   "execution_count": 41,
   "metadata": {},
   "outputs": [
    {
     "data": {
      "text/plain": [
       "2596797"
      ]
     },
     "execution_count": 41,
     "metadata": {},
     "output_type": "execute_result"
    }
   ],
   "source": [
    "len(df)"
   ]
  },
  {
   "cell_type": "code",
   "execution_count": 35,
   "metadata": {},
   "outputs": [
    {
     "data": {
      "text/plain": [
       "10"
      ]
     },
     "execution_count": 35,
     "metadata": {},
     "output_type": "execute_result"
    }
   ],
   "source": [
    "len(df)"
   ]
  },
  {
   "cell_type": "code",
   "execution_count": 36,
   "metadata": {},
   "outputs": [
    {
     "data": {
      "text/plain": [
       "10"
      ]
     },
     "execution_count": 36,
     "metadata": {},
     "output_type": "execute_result"
    }
   ],
   "source": [
    "len(df)"
   ]
  },
  {
   "cell_type": "code",
   "execution_count": null,
   "metadata": {
    "collapsed": true
   },
   "outputs": [],
   "source": []
  },
  {
   "cell_type": "code",
   "execution_count": null,
   "metadata": {
    "collapsed": true
   },
   "outputs": [],
   "source": [
    "df.head()"
   ]
  },
  {
   "cell_type": "code",
   "execution_count": null,
   "metadata": {
    "collapsed": true
   },
   "outputs": [],
   "source": [
    "list(df.columns)"
   ]
  },
  {
   "cell_type": "code",
   "execution_count": null,
   "metadata": {
    "collapsed": true
   },
   "outputs": [],
   "source": [
    "len(df)"
   ]
  },
  {
   "cell_type": "code",
   "execution_count": null,
   "metadata": {
    "collapsed": true
   },
   "outputs": [],
   "source": [
    "df[df[\"MINING_DW_SUBSCR_NO\"] == 8134330931]"
   ]
  },
  {
   "cell_type": "code",
   "execution_count": null,
   "metadata": {
    "collapsed": true
   },
   "outputs": [],
   "source": [
    "# set configure\n",
    "path = \"./CDR_MONTHLY_AGGR/\"\n",
    "path = \"./dna_Data/\"\n",
    "# path = \"C:/Users/VIPLAB/Downloads/Spark_data/\"\n",
    "filename = \"DNA_daily_april\"\n",
    "# filename = \"weekday_end_april_div_week\"\n",
    "\n",
    "# path = \"./\"\n",
    "# filename = \"dm_subscr_mtc_mly_COMPLETED_revise\"\n",
    "relative_filename = path + filename + \".csv\"\n",
    "# relative_filename = path + filename + \".txt\"\n"
   ]
  },
  {
   "cell_type": "code",
   "execution_count": null,
   "metadata": {
    "collapsed": true
   },
   "outputs": [],
   "source": [
    "len(df)"
   ]
  },
  {
   "cell_type": "code",
   "execution_count": null,
   "metadata": {
    "collapsed": true
   },
   "outputs": [],
   "source": [
    "list(df.columns)"
   ]
  },
  {
   "cell_type": "code",
   "execution_count": null,
   "metadata": {
    "collapsed": true
   },
   "outputs": [],
   "source": [
    "df[df[\"MINING_DW_SUBSCR_NO\"] == 10001495017]"
   ]
  },
  {
   "cell_type": "code",
   "execution_count": null,
   "metadata": {
    "collapsed": true
   },
   "outputs": [],
   "source": [
    "df.info()"
   ]
  },
  {
   "cell_type": "code",
   "execution_count": null,
   "metadata": {
    "collapsed": true,
    "scrolled": true
   },
   "outputs": [],
   "source": [
    "df = df.replace(np.inf, 0)"
   ]
  },
  {
   "cell_type": "code",
   "execution_count": null,
   "metadata": {
    "collapsed": true
   },
   "outputs": [],
   "source": [
    "df = df.fillna(0)"
   ]
  },
  {
   "cell_type": "code",
   "execution_count": null,
   "metadata": {
    "collapsed": true
   },
   "outputs": [],
   "source": [
    "list(df.columns)"
   ]
  },
  {
   "cell_type": "code",
   "execution_count": null,
   "metadata": {
    "collapsed": true
   },
   "outputs": [],
   "source": [
    "len(list(df.columns))"
   ]
  },
  {
   "cell_type": "code",
   "execution_count": null,
   "metadata": {
    "collapsed": true
   },
   "outputs": [],
   "source": [
    "len(df[df[\"Groups\"] == \"seldom\"])"
   ]
  },
  {
   "cell_type": "code",
   "execution_count": null,
   "metadata": {
    "collapsed": true
   },
   "outputs": [],
   "source": [
    "len(df[df[\"Groups\"] == \"None\"])"
   ]
  },
  {
   "cell_type": "code",
   "execution_count": null,
   "metadata": {
    "collapsed": true
   },
   "outputs": [],
   "source": []
  },
  {
   "cell_type": "code",
   "execution_count": null,
   "metadata": {
    "collapsed": true,
    "scrolled": true
   },
   "outputs": [],
   "source": [
    "# clean non numeric data\n",
    "# iteration avoid memory leak\n",
    "for col in df.columns[numeric_st_idx:]:\n",
    "    df[col] = pd.to_numeric(df[col], errors='coerce')\n",
    "    # let nan == 0\n",
    "#     print(col)\n",
    "    df[col] = df[col].fillna(0)\n",
    "    df[col] = df[col].astype(np.int64)\n",
    "# df = df.fillna(0)\n",
    "# # df[df.columns[numeric_st_idx:]] = df[df.columns[numeric_st_idx:]].apply(np.int64)\n",
    "# for col in df.columns[numeric_st_idx:]:\n",
    "#     df[col] = df[col].apply(np.int32)"
   ]
  },
  {
   "cell_type": "code",
   "execution_count": null,
   "metadata": {
    "collapsed": true
   },
   "outputs": [],
   "source": [
    "df.dtypes"
   ]
  },
  {
   "cell_type": "code",
   "execution_count": null,
   "metadata": {
    "collapsed": true
   },
   "outputs": [],
   "source": [
    "# write to csv and no index\n",
    "t0 = time()\n",
    "df.to_csv(out_filename, index=False)\n",
    "print(\"time for output csv file: %.2f\" % (time()-t0))"
   ]
  },
  {
   "cell_type": "code",
   "execution_count": null,
   "metadata": {
    "collapsed": true
   },
   "outputs": [],
   "source": [
    "del df"
   ]
  },
  {
   "cell_type": "code",
   "execution_count": null,
   "metadata": {
    "collapsed": true
   },
   "outputs": [],
   "source": []
  },
  {
   "cell_type": "code",
   "execution_count": null,
   "metadata": {
    "collapsed": true
   },
   "outputs": [],
   "source": []
  },
  {
   "cell_type": "code",
   "execution_count": null,
   "metadata": {
    "collapsed": true
   },
   "outputs": [],
   "source": []
  },
  {
   "cell_type": "code",
   "execution_count": null,
   "metadata": {
    "collapsed": true
   },
   "outputs": [],
   "source": [
    "# read revise csv file and print cost time\n",
    "t0 = time()\n",
    "df = pd.read_csv(out_filename, error_bad_lines=False)\n",
    "print(\"time for read csv: %.2f\" % (time()-t0))"
   ]
  },
  {
   "cell_type": "code",
   "execution_count": null,
   "metadata": {
    "collapsed": true,
    "scrolled": true
   },
   "outputs": [],
   "source": [
    "# show each columns type\n",
    "df.dtypes"
   ]
  }
 ],
 "metadata": {
  "kernelspec": {
   "display_name": "Python 3",
   "language": "python",
   "name": "python3"
  },
  "language_info": {
   "codemirror_mode": {
    "name": "ipython",
    "version": 3
   },
   "file_extension": ".py",
   "mimetype": "text/x-python",
   "name": "python",
   "nbconvert_exporter": "python",
   "pygments_lexer": "ipython3",
   "version": "3.6.1"
  }
 },
 "nbformat": 4,
 "nbformat_minor": 2
}
