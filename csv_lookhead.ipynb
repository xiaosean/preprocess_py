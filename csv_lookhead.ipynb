{
 "cells": [
  {
   "cell_type": "code",
   "execution_count": 53,
   "metadata": {
    "collapsed": true
   },
   "outputs": [],
   "source": [
    "import os.path\n",
    "import numpy as np\n",
    "import pandas as pd\n",
    "from time import time"
   ]
  },
  {
   "cell_type": "code",
   "execution_count": 74,
   "metadata": {
    "collapsed": true
   },
   "outputs": [],
   "source": [
    "# set configure\n",
    "# path = \"./CDR_MONTHLY_AGGR/\"\n",
    "# path = \"D:/0625_fet_analyze/CDR_FINAL/\"\n",
    "# path = \"C:/Users/VIPLAB/Downloads/Spark_data/\"\n",
    "path = \"./\"\n",
    "filename = \"single_sim_with_age\"\n",
    "# filename = \"weekday_end_april_div_week\"\n",
    "\n",
    "# path = \"./\"\n",
    "# filename = \"dm_subscr_mtc_mly_COMPLETED_revise\"\n",
    "relative_filename = path + filename + \".csv\"\n",
    "# relative_filename = path + filename + \".txt\"\n",
    "# wants_cols = ['DATA_MONTH', 'MINING_DW_SUBSCR_NO', 'AGE', \"MO_TTL_DURATION\",\"MO_ONNET_DUR\",\"MO_OFFNET_DUR\",\"PSTN_DUR\",\"MO_TTL_COUNT\",\"MO_ONNET_CNT\",\"MO_OFFNET_CNT\",\"PSTN_CNT\",\"MT_TTL_DURATION\",\"MT_ONNET_DUR\",\"MT_OFFNET_DUR\",\"MT_PSTN_DUR\",\"MT_TTL_COUNT\",\"MT_ONNET_CNT\",\"MT_OFFNET_CNT\",\"MT_PSTN_CNT\",\"MOC_FET_DUR\",\"MOC_TWM_DUR\",\"MOC_CHM_DUR\",\"MOC_OTH_DUR\",\"MOC_PSTN_DUR\",\"MOST_MO_DUR\",\"MTC_FET_DUR\",\"MTC_TWM_DUR\",\"MTC_CHM_DUR\",\"MTC_PSTN_DUR\",\"MOST_MT_DUR\"]"
   ]
  },
  {
   "cell_type": "code",
   "execution_count": 75,
   "metadata": {
    "scrolled": true
   },
   "outputs": [
    {
     "name": "stdout",
     "output_type": "stream",
     "text": [
      "time for read csv: 1.36\n"
     ]
    }
   ],
   "source": [
    "# read csv file and print cost time\n",
    "t0 = time()\n",
    "# df = pd.read_csv(relative_filename, usecols = wants_cols, error_bad_lines=False, nrows = 100000)\n",
    "# df = pd.read_csv(relative_filename, error_bad_lines=False, nrows = 10)\n",
    "df = pd.read_csv(relative_filename, error_bad_lines=False)\n",
    "print(\"time for read csv: %.2f\" % (time()-t0))\n"
   ]
  },
  {
   "cell_type": "code",
   "execution_count": 73,
   "metadata": {},
   "outputs": [
    {
     "data": {
      "text/plain": [
       "2596797"
      ]
     },
     "execution_count": 73,
     "metadata": {},
     "output_type": "execute_result"
    }
   ],
   "source": [
    "len(df)"
   ]
  },
  {
   "cell_type": "code",
   "execution_count": 76,
   "metadata": {},
   "outputs": [
    {
     "data": {
      "text/plain": [
       "2586412"
      ]
     },
     "execution_count": 76,
     "metadata": {},
     "output_type": "execute_result"
    }
   ],
   "source": [
    "len(df)"
   ]
  },
  {
   "cell_type": "code",
   "execution_count": null,
   "metadata": {
    "collapsed": true
   },
   "outputs": [],
   "source": []
  },
  {
   "cell_type": "code",
   "execution_count": 56,
   "metadata": {},
   "outputs": [
    {
     "data": {
      "text/html": [
       "<div>\n",
       "<style>\n",
       "    .dataframe thead tr:only-child th {\n",
       "        text-align: right;\n",
       "    }\n",
       "\n",
       "    .dataframe thead th {\n",
       "        text-align: left;\n",
       "    }\n",
       "\n",
       "    .dataframe tbody tr th {\n",
       "        vertical-align: top;\n",
       "    }\n",
       "</style>\n",
       "<table border=\"1\" class=\"dataframe\">\n",
       "  <thead>\n",
       "    <tr style=\"text-align: right;\">\n",
       "      <th></th>\n",
       "      <th>MINING_DW_SUBSCR_NO</th>\n",
       "      <th>DNA_HOUR_0_CNT</th>\n",
       "      <th>DNA_HOUR_1_CNT</th>\n",
       "      <th>DNA_HOUR_2_CNT</th>\n",
       "      <th>DNA_HOUR_3_CNT</th>\n",
       "      <th>DNA_HOUR_4_CNT</th>\n",
       "      <th>DNA_HOUR_5_CNT</th>\n",
       "      <th>DNA_HOUR_6_CNT</th>\n",
       "      <th>DNA_HOUR_7_CNT</th>\n",
       "      <th>DNA_HOUR_8_CNT</th>\n",
       "      <th>...</th>\n",
       "      <th>DNA_HOUR_14_CNT</th>\n",
       "      <th>DNA_HOUR_15_CNT</th>\n",
       "      <th>DNA_HOUR_16_CNT</th>\n",
       "      <th>DNA_HOUR_17_CNT</th>\n",
       "      <th>DNA_HOUR_18_CNT</th>\n",
       "      <th>DNA_HOUR_19_CNT</th>\n",
       "      <th>DNA_HOUR_20_CNT</th>\n",
       "      <th>DNA_HOUR_21_CNT</th>\n",
       "      <th>DNA_HOUR_22_CNT</th>\n",
       "      <th>DNA_HOUR_23_CNT</th>\n",
       "    </tr>\n",
       "  </thead>\n",
       "  <tbody>\n",
       "    <tr>\n",
       "      <th>0</th>\n",
       "      <td>10000000027</td>\n",
       "      <td>0.005472</td>\n",
       "      <td>0.000000</td>\n",
       "      <td>0.000000</td>\n",
       "      <td>0.000000</td>\n",
       "      <td>0.000000</td>\n",
       "      <td>0.001368</td>\n",
       "      <td>0.004104</td>\n",
       "      <td>0.008208</td>\n",
       "      <td>0.474692</td>\n",
       "      <td>...</td>\n",
       "      <td>0.016416</td>\n",
       "      <td>0.035568</td>\n",
       "      <td>0.009576</td>\n",
       "      <td>0.025992</td>\n",
       "      <td>0.106703</td>\n",
       "      <td>0.008208</td>\n",
       "      <td>0.035568</td>\n",
       "      <td>0.006840</td>\n",
       "      <td>0.047880</td>\n",
       "      <td>0.053352</td>\n",
       "    </tr>\n",
       "    <tr>\n",
       "      <th>1</th>\n",
       "      <td>10000000075</td>\n",
       "      <td>0.000000</td>\n",
       "      <td>0.000000</td>\n",
       "      <td>0.000000</td>\n",
       "      <td>0.000000</td>\n",
       "      <td>0.000000</td>\n",
       "      <td>0.000000</td>\n",
       "      <td>0.034749</td>\n",
       "      <td>0.030888</td>\n",
       "      <td>0.071429</td>\n",
       "      <td>...</td>\n",
       "      <td>0.048263</td>\n",
       "      <td>0.040541</td>\n",
       "      <td>0.083012</td>\n",
       "      <td>0.040541</td>\n",
       "      <td>0.088803</td>\n",
       "      <td>0.083012</td>\n",
       "      <td>0.027027</td>\n",
       "      <td>0.094595</td>\n",
       "      <td>0.075290</td>\n",
       "      <td>0.000000</td>\n",
       "    </tr>\n",
       "    <tr>\n",
       "      <th>2</th>\n",
       "      <td>10000000084</td>\n",
       "      <td>0.036984</td>\n",
       "      <td>0.037343</td>\n",
       "      <td>0.000000</td>\n",
       "      <td>0.000000</td>\n",
       "      <td>0.000000</td>\n",
       "      <td>0.000000</td>\n",
       "      <td>0.002154</td>\n",
       "      <td>0.007181</td>\n",
       "      <td>0.037343</td>\n",
       "      <td>...</td>\n",
       "      <td>0.021544</td>\n",
       "      <td>0.001795</td>\n",
       "      <td>0.026571</td>\n",
       "      <td>0.048474</td>\n",
       "      <td>0.066786</td>\n",
       "      <td>0.151526</td>\n",
       "      <td>0.140754</td>\n",
       "      <td>0.090844</td>\n",
       "      <td>0.099820</td>\n",
       "      <td>0.035907</td>\n",
       "    </tr>\n",
       "    <tr>\n",
       "      <th>3</th>\n",
       "      <td>10000000123</td>\n",
       "      <td>0.007786</td>\n",
       "      <td>0.036010</td>\n",
       "      <td>0.057908</td>\n",
       "      <td>0.172263</td>\n",
       "      <td>0.027737</td>\n",
       "      <td>0.059367</td>\n",
       "      <td>0.017032</td>\n",
       "      <td>0.019465</td>\n",
       "      <td>0.014112</td>\n",
       "      <td>...</td>\n",
       "      <td>0.019465</td>\n",
       "      <td>0.023358</td>\n",
       "      <td>0.017518</td>\n",
       "      <td>0.032603</td>\n",
       "      <td>0.050608</td>\n",
       "      <td>0.043309</td>\n",
       "      <td>0.036496</td>\n",
       "      <td>0.024331</td>\n",
       "      <td>0.011192</td>\n",
       "      <td>0.003893</td>\n",
       "    </tr>\n",
       "    <tr>\n",
       "      <th>4</th>\n",
       "      <td>10000000164</td>\n",
       "      <td>0.028829</td>\n",
       "      <td>0.019820</td>\n",
       "      <td>0.021261</td>\n",
       "      <td>0.015135</td>\n",
       "      <td>0.015495</td>\n",
       "      <td>0.016937</td>\n",
       "      <td>0.015495</td>\n",
       "      <td>0.023784</td>\n",
       "      <td>0.030270</td>\n",
       "      <td>...</td>\n",
       "      <td>0.061982</td>\n",
       "      <td>0.047928</td>\n",
       "      <td>0.072072</td>\n",
       "      <td>0.100541</td>\n",
       "      <td>0.047207</td>\n",
       "      <td>0.046126</td>\n",
       "      <td>0.042162</td>\n",
       "      <td>0.033153</td>\n",
       "      <td>0.051532</td>\n",
       "      <td>0.087568</td>\n",
       "    </tr>\n",
       "  </tbody>\n",
       "</table>\n",
       "<p>5 rows × 25 columns</p>\n",
       "</div>"
      ],
      "text/plain": [
       "   MINING_DW_SUBSCR_NO  DNA_HOUR_0_CNT  DNA_HOUR_1_CNT  DNA_HOUR_2_CNT  \\\n",
       "0          10000000027        0.005472        0.000000        0.000000   \n",
       "1          10000000075        0.000000        0.000000        0.000000   \n",
       "2          10000000084        0.036984        0.037343        0.000000   \n",
       "3          10000000123        0.007786        0.036010        0.057908   \n",
       "4          10000000164        0.028829        0.019820        0.021261   \n",
       "\n",
       "   DNA_HOUR_3_CNT  DNA_HOUR_4_CNT  DNA_HOUR_5_CNT  DNA_HOUR_6_CNT  \\\n",
       "0        0.000000        0.000000        0.001368        0.004104   \n",
       "1        0.000000        0.000000        0.000000        0.034749   \n",
       "2        0.000000        0.000000        0.000000        0.002154   \n",
       "3        0.172263        0.027737        0.059367        0.017032   \n",
       "4        0.015135        0.015495        0.016937        0.015495   \n",
       "\n",
       "   DNA_HOUR_7_CNT  DNA_HOUR_8_CNT       ...         DNA_HOUR_14_CNT  \\\n",
       "0        0.008208        0.474692       ...                0.016416   \n",
       "1        0.030888        0.071429       ...                0.048263   \n",
       "2        0.007181        0.037343       ...                0.021544   \n",
       "3        0.019465        0.014112       ...                0.019465   \n",
       "4        0.023784        0.030270       ...                0.061982   \n",
       "\n",
       "   DNA_HOUR_15_CNT  DNA_HOUR_16_CNT  DNA_HOUR_17_CNT  DNA_HOUR_18_CNT  \\\n",
       "0         0.035568         0.009576         0.025992         0.106703   \n",
       "1         0.040541         0.083012         0.040541         0.088803   \n",
       "2         0.001795         0.026571         0.048474         0.066786   \n",
       "3         0.023358         0.017518         0.032603         0.050608   \n",
       "4         0.047928         0.072072         0.100541         0.047207   \n",
       "\n",
       "   DNA_HOUR_19_CNT  DNA_HOUR_20_CNT  DNA_HOUR_21_CNT  DNA_HOUR_22_CNT  \\\n",
       "0         0.008208         0.035568         0.006840         0.047880   \n",
       "1         0.083012         0.027027         0.094595         0.075290   \n",
       "2         0.151526         0.140754         0.090844         0.099820   \n",
       "3         0.043309         0.036496         0.024331         0.011192   \n",
       "4         0.046126         0.042162         0.033153         0.051532   \n",
       "\n",
       "   DNA_HOUR_23_CNT  \n",
       "0         0.053352  \n",
       "1         0.000000  \n",
       "2         0.035907  \n",
       "3         0.003893  \n",
       "4         0.087568  \n",
       "\n",
       "[5 rows x 25 columns]"
      ]
     },
     "execution_count": 56,
     "metadata": {},
     "output_type": "execute_result"
    }
   ],
   "source": [
    "df.head()"
   ]
  },
  {
   "cell_type": "code",
   "execution_count": 42,
   "metadata": {},
   "outputs": [
    {
     "data": {
      "text/plain": [
       "['MINING_DW_SUBSCR_NO',\n",
       " 'VOICE_workday_time',\n",
       " 'VOICE_holiday_time',\n",
       " 'DNA_workday_cnt',\n",
       " 'DNA_holiday_cnt',\n",
       " 'hour(7~11)_time',\n",
       " 'hour(12~13)_time',\n",
       " 'hour(14~19)_time',\n",
       " 'hour(20~3)_time',\n",
       " 'hour(4~6)_time',\n",
       " 'DNA_hour(7~11)_CNT',\n",
       " 'DNA_hour(12~13)_CNT',\n",
       " 'DNA_hour(14~19)_CNT',\n",
       " 'DNA_hour(20~3)_CNT',\n",
       " 'DNA_hour(4~6)_CNT',\n",
       " 'Groups']"
      ]
     },
     "execution_count": 42,
     "metadata": {},
     "output_type": "execute_result"
    }
   ],
   "source": [
    "list(df.columns)"
   ]
  },
  {
   "cell_type": "code",
   "execution_count": 52,
   "metadata": {},
   "outputs": [
    {
     "data": {
      "text/plain": [
       "2596797"
      ]
     },
     "execution_count": 52,
     "metadata": {},
     "output_type": "execute_result"
    }
   ],
   "source": [
    "len(df)"
   ]
  },
  {
   "cell_type": "code",
   "execution_count": 4,
   "metadata": {},
   "outputs": [
    {
     "data": {
      "text/html": [
       "<div>\n",
       "<style>\n",
       "    .dataframe thead tr:only-child th {\n",
       "        text-align: right;\n",
       "    }\n",
       "\n",
       "    .dataframe thead th {\n",
       "        text-align: left;\n",
       "    }\n",
       "\n",
       "    .dataframe tbody tr th {\n",
       "        vertical-align: top;\n",
       "    }\n",
       "</style>\n",
       "<table border=\"1\" class=\"dataframe\">\n",
       "  <thead>\n",
       "    <tr style=\"text-align: right;\">\n",
       "      <th></th>\n",
       "      <th>MINING_DW_SUBSCR_NO</th>\n",
       "      <th>VOICE_HOUR_0_TIME</th>\n",
       "      <th>VOICE_HOUR_1_TIME</th>\n",
       "      <th>VOICE_HOUR_2_TIME</th>\n",
       "      <th>VOICE_HOUR_3_TIME</th>\n",
       "      <th>VOICE_HOUR_4_TIME</th>\n",
       "      <th>VOICE_HOUR_5_TIME</th>\n",
       "      <th>VOICE_HOUR_6_TIME</th>\n",
       "      <th>VOICE_HOUR_7_TIME</th>\n",
       "      <th>VOICE_HOUR_8_TIME</th>\n",
       "      <th>...</th>\n",
       "      <th>DNA_HOUR_14_CNT</th>\n",
       "      <th>DNA_HOUR_15_CNT</th>\n",
       "      <th>DNA_HOUR_16_CNT</th>\n",
       "      <th>DNA_HOUR_17_CNT</th>\n",
       "      <th>DNA_HOUR_18_CNT</th>\n",
       "      <th>DNA_HOUR_19_CNT</th>\n",
       "      <th>DNA_HOUR_20_CNT</th>\n",
       "      <th>DNA_HOUR_21_CNT</th>\n",
       "      <th>DNA_HOUR_22_CNT</th>\n",
       "      <th>DNA_HOUR_23_CNT</th>\n",
       "    </tr>\n",
       "  </thead>\n",
       "  <tbody>\n",
       "  </tbody>\n",
       "</table>\n",
       "<p>0 rows × 63 columns</p>\n",
       "</div>"
      ],
      "text/plain": [
       "Empty DataFrame\n",
       "Columns: [MINING_DW_SUBSCR_NO, VOICE_HOUR_0_TIME, VOICE_HOUR_1_TIME, VOICE_HOUR_2_TIME, VOICE_HOUR_3_TIME, VOICE_HOUR_4_TIME, VOICE_HOUR_5_TIME, VOICE_HOUR_6_TIME, VOICE_HOUR_7_TIME, VOICE_HOUR_8_TIME, VOICE_HOUR_9_TIME, VOICE_HOUR_10_TIME, VOICE_HOUR_11_TIME, VOICE_HOUR_12_TIME, VOICE_HOUR_13_TIME, VOICE_HOUR_14_TIME, VOICE_HOUR_15_TIME, VOICE_HOUR_16_TIME, VOICE_HOUR_17_TIME, VOICE_HOUR_18_TIME, VOICE_HOUR_19_TIME, VOICE_HOUR_20_TIME, VOICE_HOUR_21_TIME, VOICE_HOUR_22_TIME, VOICE_HOUR_23_TIME, VOICE_HOUR_MON_TIME, VOICE_HOUR_TUE_TIME, VOICE_HOUR_WED_TIME, VOICE_HOUR_THU_TIME, VOICE_HOUR_FRI_TIME, VOICE_HOUR_SAT_TIME, VOICE_HOUR_SUN_TIME, DNA_Monday, DNA_Tuesday, DNA_Wednesday, DNA_Thursday, DNA_Friday, DNA_Saturday, DNA_Sunday, DNA_HOUR_0_CNT, DNA_HOUR_1_CNT, DNA_HOUR_2_CNT, DNA_HOUR_3_CNT, DNA_HOUR_4_CNT, DNA_HOUR_5_CNT, DNA_HOUR_6_CNT, DNA_HOUR_7_CNT, DNA_HOUR_8_CNT, DNA_HOUR_9_CNT, DNA_HOUR_10_CNT, DNA_HOUR_11_CNT, DNA_HOUR_12_CNT, DNA_HOUR_13_CNT, DNA_HOUR_14_CNT, DNA_HOUR_15_CNT, DNA_HOUR_16_CNT, DNA_HOUR_17_CNT, DNA_HOUR_18_CNT, DNA_HOUR_19_CNT, DNA_HOUR_20_CNT, DNA_HOUR_21_CNT, DNA_HOUR_22_CNT, DNA_HOUR_23_CNT]\n",
       "Index: []\n",
       "\n",
       "[0 rows x 63 columns]"
      ]
     },
     "execution_count": 4,
     "metadata": {},
     "output_type": "execute_result"
    }
   ],
   "source": [
    "df[df[\"MINING_DW_SUBSCR_NO\"] == 8134330931]"
   ]
  },
  {
   "cell_type": "code",
   "execution_count": 7,
   "metadata": {
    "collapsed": true
   },
   "outputs": [],
   "source": [
    "# set configure\n",
    "path = \"./CDR_MONTHLY_AGGR/\"\n",
    "path = \"./dna_Data/\"\n",
    "# path = \"C:/Users/VIPLAB/Downloads/Spark_data/\"\n",
    "filename = \"DNA_daily_april\"\n",
    "# filename = \"weekday_end_april_div_week\"\n",
    "\n",
    "# path = \"./\"\n",
    "# filename = \"dm_subscr_mtc_mly_COMPLETED_revise\"\n",
    "relative_filename = path + filename + \".csv\"\n",
    "# relative_filename = path + filename + \".txt\"\n"
   ]
  },
  {
   "cell_type": "code",
   "execution_count": 8,
   "metadata": {},
   "outputs": [
    {
     "data": {
      "text/plain": [
       "10"
      ]
     },
     "execution_count": 8,
     "metadata": {},
     "output_type": "execute_result"
    }
   ],
   "source": [
    "len(df)"
   ]
  },
  {
   "cell_type": "code",
   "execution_count": 9,
   "metadata": {},
   "outputs": [
    {
     "data": {
      "text/plain": [
       "['MINING_DW_SUBSCR_NO',\n",
       " 'VOICE_HOUR_0_TIME',\n",
       " 'VOICE_HOUR_1_TIME',\n",
       " 'VOICE_HOUR_2_TIME',\n",
       " 'VOICE_HOUR_3_TIME',\n",
       " 'VOICE_HOUR_4_TIME',\n",
       " 'VOICE_HOUR_5_TIME',\n",
       " 'VOICE_HOUR_6_TIME',\n",
       " 'VOICE_HOUR_7_TIME',\n",
       " 'VOICE_HOUR_8_TIME',\n",
       " 'VOICE_HOUR_9_TIME',\n",
       " 'VOICE_HOUR_10_TIME',\n",
       " 'VOICE_HOUR_11_TIME',\n",
       " 'VOICE_HOUR_12_TIME',\n",
       " 'VOICE_HOUR_13_TIME',\n",
       " 'VOICE_HOUR_14_TIME',\n",
       " 'VOICE_HOUR_15_TIME',\n",
       " 'VOICE_HOUR_16_TIME',\n",
       " 'VOICE_HOUR_17_TIME',\n",
       " 'VOICE_HOUR_18_TIME',\n",
       " 'VOICE_HOUR_19_TIME',\n",
       " 'VOICE_HOUR_20_TIME',\n",
       " 'VOICE_HOUR_21_TIME',\n",
       " 'VOICE_HOUR_22_TIME',\n",
       " 'VOICE_HOUR_23_TIME',\n",
       " 'VOICE_HOUR_MON_TIME',\n",
       " 'VOICE_HOUR_TUE_TIME',\n",
       " 'VOICE_HOUR_WED_TIME',\n",
       " 'VOICE_HOUR_THU_TIME',\n",
       " 'VOICE_HOUR_FRI_TIME',\n",
       " 'VOICE_HOUR_SAT_TIME',\n",
       " 'VOICE_HOUR_SUN_TIME',\n",
       " 'DNA_Monday',\n",
       " 'DNA_Tuesday',\n",
       " 'DNA_Wednesday',\n",
       " 'DNA_Thursday',\n",
       " 'DNA_Friday',\n",
       " 'DNA_Saturday',\n",
       " 'DNA_Sunday',\n",
       " 'DNA_HOUR_0_CNT',\n",
       " 'DNA_HOUR_1_CNT',\n",
       " 'DNA_HOUR_2_CNT',\n",
       " 'DNA_HOUR_3_CNT',\n",
       " 'DNA_HOUR_4_CNT',\n",
       " 'DNA_HOUR_5_CNT',\n",
       " 'DNA_HOUR_6_CNT',\n",
       " 'DNA_HOUR_7_CNT',\n",
       " 'DNA_HOUR_8_CNT',\n",
       " 'DNA_HOUR_9_CNT',\n",
       " 'DNA_HOUR_10_CNT',\n",
       " 'DNA_HOUR_11_CNT',\n",
       " 'DNA_HOUR_12_CNT',\n",
       " 'DNA_HOUR_13_CNT',\n",
       " 'DNA_HOUR_14_CNT',\n",
       " 'DNA_HOUR_15_CNT',\n",
       " 'DNA_HOUR_16_CNT',\n",
       " 'DNA_HOUR_17_CNT',\n",
       " 'DNA_HOUR_18_CNT',\n",
       " 'DNA_HOUR_19_CNT',\n",
       " 'DNA_HOUR_20_CNT',\n",
       " 'DNA_HOUR_21_CNT',\n",
       " 'DNA_HOUR_22_CNT',\n",
       " 'DNA_HOUR_23_CNT']"
      ]
     },
     "execution_count": 9,
     "metadata": {},
     "output_type": "execute_result"
    }
   ],
   "source": [
    "list(df.columns)"
   ]
  },
  {
   "cell_type": "code",
   "execution_count": 10,
   "metadata": {},
   "outputs": [
    {
     "data": {
      "text/html": [
       "<div>\n",
       "<style>\n",
       "    .dataframe thead tr:only-child th {\n",
       "        text-align: right;\n",
       "    }\n",
       "\n",
       "    .dataframe thead th {\n",
       "        text-align: left;\n",
       "    }\n",
       "\n",
       "    .dataframe tbody tr th {\n",
       "        vertical-align: top;\n",
       "    }\n",
       "</style>\n",
       "<table border=\"1\" class=\"dataframe\">\n",
       "  <thead>\n",
       "    <tr style=\"text-align: right;\">\n",
       "      <th></th>\n",
       "      <th>MINING_DW_SUBSCR_NO</th>\n",
       "      <th>VOICE_HOUR_0_TIME</th>\n",
       "      <th>VOICE_HOUR_1_TIME</th>\n",
       "      <th>VOICE_HOUR_2_TIME</th>\n",
       "      <th>VOICE_HOUR_3_TIME</th>\n",
       "      <th>VOICE_HOUR_4_TIME</th>\n",
       "      <th>VOICE_HOUR_5_TIME</th>\n",
       "      <th>VOICE_HOUR_6_TIME</th>\n",
       "      <th>VOICE_HOUR_7_TIME</th>\n",
       "      <th>VOICE_HOUR_8_TIME</th>\n",
       "      <th>...</th>\n",
       "      <th>DNA_HOUR_14_CNT</th>\n",
       "      <th>DNA_HOUR_15_CNT</th>\n",
       "      <th>DNA_HOUR_16_CNT</th>\n",
       "      <th>DNA_HOUR_17_CNT</th>\n",
       "      <th>DNA_HOUR_18_CNT</th>\n",
       "      <th>DNA_HOUR_19_CNT</th>\n",
       "      <th>DNA_HOUR_20_CNT</th>\n",
       "      <th>DNA_HOUR_21_CNT</th>\n",
       "      <th>DNA_HOUR_22_CNT</th>\n",
       "      <th>DNA_HOUR_23_CNT</th>\n",
       "    </tr>\n",
       "  </thead>\n",
       "  <tbody>\n",
       "  </tbody>\n",
       "</table>\n",
       "<p>0 rows × 63 columns</p>\n",
       "</div>"
      ],
      "text/plain": [
       "Empty DataFrame\n",
       "Columns: [MINING_DW_SUBSCR_NO, VOICE_HOUR_0_TIME, VOICE_HOUR_1_TIME, VOICE_HOUR_2_TIME, VOICE_HOUR_3_TIME, VOICE_HOUR_4_TIME, VOICE_HOUR_5_TIME, VOICE_HOUR_6_TIME, VOICE_HOUR_7_TIME, VOICE_HOUR_8_TIME, VOICE_HOUR_9_TIME, VOICE_HOUR_10_TIME, VOICE_HOUR_11_TIME, VOICE_HOUR_12_TIME, VOICE_HOUR_13_TIME, VOICE_HOUR_14_TIME, VOICE_HOUR_15_TIME, VOICE_HOUR_16_TIME, VOICE_HOUR_17_TIME, VOICE_HOUR_18_TIME, VOICE_HOUR_19_TIME, VOICE_HOUR_20_TIME, VOICE_HOUR_21_TIME, VOICE_HOUR_22_TIME, VOICE_HOUR_23_TIME, VOICE_HOUR_MON_TIME, VOICE_HOUR_TUE_TIME, VOICE_HOUR_WED_TIME, VOICE_HOUR_THU_TIME, VOICE_HOUR_FRI_TIME, VOICE_HOUR_SAT_TIME, VOICE_HOUR_SUN_TIME, DNA_Monday, DNA_Tuesday, DNA_Wednesday, DNA_Thursday, DNA_Friday, DNA_Saturday, DNA_Sunday, DNA_HOUR_0_CNT, DNA_HOUR_1_CNT, DNA_HOUR_2_CNT, DNA_HOUR_3_CNT, DNA_HOUR_4_CNT, DNA_HOUR_5_CNT, DNA_HOUR_6_CNT, DNA_HOUR_7_CNT, DNA_HOUR_8_CNT, DNA_HOUR_9_CNT, DNA_HOUR_10_CNT, DNA_HOUR_11_CNT, DNA_HOUR_12_CNT, DNA_HOUR_13_CNT, DNA_HOUR_14_CNT, DNA_HOUR_15_CNT, DNA_HOUR_16_CNT, DNA_HOUR_17_CNT, DNA_HOUR_18_CNT, DNA_HOUR_19_CNT, DNA_HOUR_20_CNT, DNA_HOUR_21_CNT, DNA_HOUR_22_CNT, DNA_HOUR_23_CNT]\n",
       "Index: []\n",
       "\n",
       "[0 rows x 63 columns]"
      ]
     },
     "execution_count": 10,
     "metadata": {},
     "output_type": "execute_result"
    }
   ],
   "source": [
    "df[df[\"MINING_DW_SUBSCR_NO\"] == 10001495017]"
   ]
  },
  {
   "cell_type": "code",
   "execution_count": 11,
   "metadata": {},
   "outputs": [
    {
     "name": "stdout",
     "output_type": "stream",
     "text": [
      "<class 'pandas.core.frame.DataFrame'>\n",
      "RangeIndex: 10 entries, 0 to 9\n",
      "Data columns (total 63 columns):\n",
      "MINING_DW_SUBSCR_NO    10 non-null int64\n",
      "VOICE_HOUR_0_TIME      10 non-null float64\n",
      "VOICE_HOUR_1_TIME      10 non-null float64\n",
      "VOICE_HOUR_2_TIME      10 non-null float64\n",
      "VOICE_HOUR_3_TIME      10 non-null float64\n",
      "VOICE_HOUR_4_TIME      10 non-null float64\n",
      "VOICE_HOUR_5_TIME      10 non-null float64\n",
      "VOICE_HOUR_6_TIME      10 non-null float64\n",
      "VOICE_HOUR_7_TIME      10 non-null float64\n",
      "VOICE_HOUR_8_TIME      10 non-null float64\n",
      "VOICE_HOUR_9_TIME      10 non-null float64\n",
      "VOICE_HOUR_10_TIME     10 non-null float64\n",
      "VOICE_HOUR_11_TIME     10 non-null float64\n",
      "VOICE_HOUR_12_TIME     10 non-null float64\n",
      "VOICE_HOUR_13_TIME     10 non-null float64\n",
      "VOICE_HOUR_14_TIME     10 non-null float64\n",
      "VOICE_HOUR_15_TIME     10 non-null float64\n",
      "VOICE_HOUR_16_TIME     10 non-null float64\n",
      "VOICE_HOUR_17_TIME     10 non-null float64\n",
      "VOICE_HOUR_18_TIME     10 non-null float64\n",
      "VOICE_HOUR_19_TIME     10 non-null float64\n",
      "VOICE_HOUR_20_TIME     10 non-null float64\n",
      "VOICE_HOUR_21_TIME     10 non-null float64\n",
      "VOICE_HOUR_22_TIME     10 non-null float64\n",
      "VOICE_HOUR_23_TIME     10 non-null float64\n",
      "VOICE_HOUR_MON_TIME    10 non-null float64\n",
      "VOICE_HOUR_TUE_TIME    10 non-null float64\n",
      "VOICE_HOUR_WED_TIME    10 non-null float64\n",
      "VOICE_HOUR_THU_TIME    10 non-null float64\n",
      "VOICE_HOUR_FRI_TIME    10 non-null float64\n",
      "VOICE_HOUR_SAT_TIME    10 non-null float64\n",
      "VOICE_HOUR_SUN_TIME    10 non-null float64\n",
      "DNA_Monday             10 non-null float64\n",
      "DNA_Tuesday            10 non-null float64\n",
      "DNA_Wednesday          10 non-null float64\n",
      "DNA_Thursday           10 non-null float64\n",
      "DNA_Friday             10 non-null float64\n",
      "DNA_Saturday           10 non-null float64\n",
      "DNA_Sunday             10 non-null float64\n",
      "DNA_HOUR_0_CNT         10 non-null float64\n",
      "DNA_HOUR_1_CNT         10 non-null float64\n",
      "DNA_HOUR_2_CNT         10 non-null float64\n",
      "DNA_HOUR_3_CNT         10 non-null float64\n",
      "DNA_HOUR_4_CNT         10 non-null float64\n",
      "DNA_HOUR_5_CNT         10 non-null float64\n",
      "DNA_HOUR_6_CNT         10 non-null float64\n",
      "DNA_HOUR_7_CNT         10 non-null float64\n",
      "DNA_HOUR_8_CNT         10 non-null float64\n",
      "DNA_HOUR_9_CNT         10 non-null float64\n",
      "DNA_HOUR_10_CNT        10 non-null float64\n",
      "DNA_HOUR_11_CNT        10 non-null float64\n",
      "DNA_HOUR_12_CNT        10 non-null float64\n",
      "DNA_HOUR_13_CNT        10 non-null float64\n",
      "DNA_HOUR_14_CNT        10 non-null float64\n",
      "DNA_HOUR_15_CNT        10 non-null float64\n",
      "DNA_HOUR_16_CNT        10 non-null float64\n",
      "DNA_HOUR_17_CNT        10 non-null float64\n",
      "DNA_HOUR_18_CNT        10 non-null float64\n",
      "DNA_HOUR_19_CNT        10 non-null float64\n",
      "DNA_HOUR_20_CNT        10 non-null float64\n",
      "DNA_HOUR_21_CNT        10 non-null float64\n",
      "DNA_HOUR_22_CNT        10 non-null float64\n",
      "DNA_HOUR_23_CNT        10 non-null float64\n",
      "dtypes: float64(62), int64(1)\n",
      "memory usage: 5.0 KB\n"
     ]
    }
   ],
   "source": [
    "df.info()"
   ]
  },
  {
   "cell_type": "code",
   "execution_count": 12,
   "metadata": {
    "collapsed": true,
    "scrolled": true
   },
   "outputs": [],
   "source": [
    "df = df.replace(np.inf, 0)"
   ]
  },
  {
   "cell_type": "code",
   "execution_count": 13,
   "metadata": {
    "collapsed": true
   },
   "outputs": [],
   "source": [
    "df = df.fillna(0)"
   ]
  },
  {
   "cell_type": "code",
   "execution_count": 14,
   "metadata": {},
   "outputs": [
    {
     "data": {
      "text/plain": [
       "['MINING_DW_SUBSCR_NO',\n",
       " 'VOICE_HOUR_0_TIME',\n",
       " 'VOICE_HOUR_1_TIME',\n",
       " 'VOICE_HOUR_2_TIME',\n",
       " 'VOICE_HOUR_3_TIME',\n",
       " 'VOICE_HOUR_4_TIME',\n",
       " 'VOICE_HOUR_5_TIME',\n",
       " 'VOICE_HOUR_6_TIME',\n",
       " 'VOICE_HOUR_7_TIME',\n",
       " 'VOICE_HOUR_8_TIME',\n",
       " 'VOICE_HOUR_9_TIME',\n",
       " 'VOICE_HOUR_10_TIME',\n",
       " 'VOICE_HOUR_11_TIME',\n",
       " 'VOICE_HOUR_12_TIME',\n",
       " 'VOICE_HOUR_13_TIME',\n",
       " 'VOICE_HOUR_14_TIME',\n",
       " 'VOICE_HOUR_15_TIME',\n",
       " 'VOICE_HOUR_16_TIME',\n",
       " 'VOICE_HOUR_17_TIME',\n",
       " 'VOICE_HOUR_18_TIME',\n",
       " 'VOICE_HOUR_19_TIME',\n",
       " 'VOICE_HOUR_20_TIME',\n",
       " 'VOICE_HOUR_21_TIME',\n",
       " 'VOICE_HOUR_22_TIME',\n",
       " 'VOICE_HOUR_23_TIME',\n",
       " 'VOICE_HOUR_MON_TIME',\n",
       " 'VOICE_HOUR_TUE_TIME',\n",
       " 'VOICE_HOUR_WED_TIME',\n",
       " 'VOICE_HOUR_THU_TIME',\n",
       " 'VOICE_HOUR_FRI_TIME',\n",
       " 'VOICE_HOUR_SAT_TIME',\n",
       " 'VOICE_HOUR_SUN_TIME',\n",
       " 'DNA_Monday',\n",
       " 'DNA_Tuesday',\n",
       " 'DNA_Wednesday',\n",
       " 'DNA_Thursday',\n",
       " 'DNA_Friday',\n",
       " 'DNA_Saturday',\n",
       " 'DNA_Sunday',\n",
       " 'DNA_HOUR_0_CNT',\n",
       " 'DNA_HOUR_1_CNT',\n",
       " 'DNA_HOUR_2_CNT',\n",
       " 'DNA_HOUR_3_CNT',\n",
       " 'DNA_HOUR_4_CNT',\n",
       " 'DNA_HOUR_5_CNT',\n",
       " 'DNA_HOUR_6_CNT',\n",
       " 'DNA_HOUR_7_CNT',\n",
       " 'DNA_HOUR_8_CNT',\n",
       " 'DNA_HOUR_9_CNT',\n",
       " 'DNA_HOUR_10_CNT',\n",
       " 'DNA_HOUR_11_CNT',\n",
       " 'DNA_HOUR_12_CNT',\n",
       " 'DNA_HOUR_13_CNT',\n",
       " 'DNA_HOUR_14_CNT',\n",
       " 'DNA_HOUR_15_CNT',\n",
       " 'DNA_HOUR_16_CNT',\n",
       " 'DNA_HOUR_17_CNT',\n",
       " 'DNA_HOUR_18_CNT',\n",
       " 'DNA_HOUR_19_CNT',\n",
       " 'DNA_HOUR_20_CNT',\n",
       " 'DNA_HOUR_21_CNT',\n",
       " 'DNA_HOUR_22_CNT',\n",
       " 'DNA_HOUR_23_CNT']"
      ]
     },
     "execution_count": 14,
     "metadata": {},
     "output_type": "execute_result"
    }
   ],
   "source": [
    "list(df.columns)"
   ]
  },
  {
   "cell_type": "code",
   "execution_count": 15,
   "metadata": {},
   "outputs": [
    {
     "data": {
      "text/plain": [
       "63"
      ]
     },
     "execution_count": 15,
     "metadata": {},
     "output_type": "execute_result"
    }
   ],
   "source": [
    "len(list(df.columns))"
   ]
  },
  {
   "cell_type": "code",
   "execution_count": 16,
   "metadata": {},
   "outputs": [
    {
     "ename": "KeyError",
     "evalue": "'Groups'",
     "output_type": "error",
     "traceback": [
      "\u001b[1;31m---------------------------------------------------------------------------\u001b[0m",
      "\u001b[1;31mKeyError\u001b[0m                                  Traceback (most recent call last)",
      "\u001b[1;32mC:\\Users\\VIPLAB\\AppData\\Local\\conda\\conda\\envs\\py36\\lib\\site-packages\\pandas\\core\\indexes\\base.py\u001b[0m in \u001b[0;36mget_loc\u001b[1;34m(self, key, method, tolerance)\u001b[0m\n\u001b[0;32m   2392\u001b[0m             \u001b[1;32mtry\u001b[0m\u001b[1;33m:\u001b[0m\u001b[1;33m\u001b[0m\u001b[0m\n\u001b[1;32m-> 2393\u001b[1;33m                 \u001b[1;32mreturn\u001b[0m \u001b[0mself\u001b[0m\u001b[1;33m.\u001b[0m\u001b[0m_engine\u001b[0m\u001b[1;33m.\u001b[0m\u001b[0mget_loc\u001b[0m\u001b[1;33m(\u001b[0m\u001b[0mkey\u001b[0m\u001b[1;33m)\u001b[0m\u001b[1;33m\u001b[0m\u001b[0m\n\u001b[0m\u001b[0;32m   2394\u001b[0m             \u001b[1;32mexcept\u001b[0m \u001b[0mKeyError\u001b[0m\u001b[1;33m:\u001b[0m\u001b[1;33m\u001b[0m\u001b[0m\n",
      "\u001b[1;32mpandas\\_libs\\index.pyx\u001b[0m in \u001b[0;36mpandas._libs.index.IndexEngine.get_loc (pandas\\_libs\\index.c:5239)\u001b[1;34m()\u001b[0m\n",
      "\u001b[1;32mpandas\\_libs\\index.pyx\u001b[0m in \u001b[0;36mpandas._libs.index.IndexEngine.get_loc (pandas\\_libs\\index.c:5085)\u001b[1;34m()\u001b[0m\n",
      "\u001b[1;32mpandas\\_libs\\hashtable_class_helper.pxi\u001b[0m in \u001b[0;36mpandas._libs.hashtable.PyObjectHashTable.get_item (pandas\\_libs\\hashtable.c:20405)\u001b[1;34m()\u001b[0m\n",
      "\u001b[1;32mpandas\\_libs\\hashtable_class_helper.pxi\u001b[0m in \u001b[0;36mpandas._libs.hashtable.PyObjectHashTable.get_item (pandas\\_libs\\hashtable.c:20359)\u001b[1;34m()\u001b[0m\n",
      "\u001b[1;31mKeyError\u001b[0m: 'Groups'",
      "\nDuring handling of the above exception, another exception occurred:\n",
      "\u001b[1;31mKeyError\u001b[0m                                  Traceback (most recent call last)",
      "\u001b[1;32m<ipython-input-16-a29968026764>\u001b[0m in \u001b[0;36m<module>\u001b[1;34m()\u001b[0m\n\u001b[1;32m----> 1\u001b[1;33m \u001b[0mlen\u001b[0m\u001b[1;33m(\u001b[0m\u001b[0mdf\u001b[0m\u001b[1;33m[\u001b[0m\u001b[0mdf\u001b[0m\u001b[1;33m[\u001b[0m\u001b[1;34m\"Groups\"\u001b[0m\u001b[1;33m]\u001b[0m \u001b[1;33m==\u001b[0m \u001b[1;34m\"seldom\"\u001b[0m\u001b[1;33m]\u001b[0m\u001b[1;33m)\u001b[0m\u001b[1;33m\u001b[0m\u001b[0m\n\u001b[0m",
      "\u001b[1;32mC:\\Users\\VIPLAB\\AppData\\Local\\conda\\conda\\envs\\py36\\lib\\site-packages\\pandas\\core\\frame.py\u001b[0m in \u001b[0;36m__getitem__\u001b[1;34m(self, key)\u001b[0m\n\u001b[0;32m   2060\u001b[0m             \u001b[1;32mreturn\u001b[0m \u001b[0mself\u001b[0m\u001b[1;33m.\u001b[0m\u001b[0m_getitem_multilevel\u001b[0m\u001b[1;33m(\u001b[0m\u001b[0mkey\u001b[0m\u001b[1;33m)\u001b[0m\u001b[1;33m\u001b[0m\u001b[0m\n\u001b[0;32m   2061\u001b[0m         \u001b[1;32melse\u001b[0m\u001b[1;33m:\u001b[0m\u001b[1;33m\u001b[0m\u001b[0m\n\u001b[1;32m-> 2062\u001b[1;33m             \u001b[1;32mreturn\u001b[0m \u001b[0mself\u001b[0m\u001b[1;33m.\u001b[0m\u001b[0m_getitem_column\u001b[0m\u001b[1;33m(\u001b[0m\u001b[0mkey\u001b[0m\u001b[1;33m)\u001b[0m\u001b[1;33m\u001b[0m\u001b[0m\n\u001b[0m\u001b[0;32m   2063\u001b[0m \u001b[1;33m\u001b[0m\u001b[0m\n\u001b[0;32m   2064\u001b[0m     \u001b[1;32mdef\u001b[0m \u001b[0m_getitem_column\u001b[0m\u001b[1;33m(\u001b[0m\u001b[0mself\u001b[0m\u001b[1;33m,\u001b[0m \u001b[0mkey\u001b[0m\u001b[1;33m)\u001b[0m\u001b[1;33m:\u001b[0m\u001b[1;33m\u001b[0m\u001b[0m\n",
      "\u001b[1;32mC:\\Users\\VIPLAB\\AppData\\Local\\conda\\conda\\envs\\py36\\lib\\site-packages\\pandas\\core\\frame.py\u001b[0m in \u001b[0;36m_getitem_column\u001b[1;34m(self, key)\u001b[0m\n\u001b[0;32m   2067\u001b[0m         \u001b[1;31m# get column\u001b[0m\u001b[1;33m\u001b[0m\u001b[1;33m\u001b[0m\u001b[0m\n\u001b[0;32m   2068\u001b[0m         \u001b[1;32mif\u001b[0m \u001b[0mself\u001b[0m\u001b[1;33m.\u001b[0m\u001b[0mcolumns\u001b[0m\u001b[1;33m.\u001b[0m\u001b[0mis_unique\u001b[0m\u001b[1;33m:\u001b[0m\u001b[1;33m\u001b[0m\u001b[0m\n\u001b[1;32m-> 2069\u001b[1;33m             \u001b[1;32mreturn\u001b[0m \u001b[0mself\u001b[0m\u001b[1;33m.\u001b[0m\u001b[0m_get_item_cache\u001b[0m\u001b[1;33m(\u001b[0m\u001b[0mkey\u001b[0m\u001b[1;33m)\u001b[0m\u001b[1;33m\u001b[0m\u001b[0m\n\u001b[0m\u001b[0;32m   2070\u001b[0m \u001b[1;33m\u001b[0m\u001b[0m\n\u001b[0;32m   2071\u001b[0m         \u001b[1;31m# duplicate columns & possible reduce dimensionality\u001b[0m\u001b[1;33m\u001b[0m\u001b[1;33m\u001b[0m\u001b[0m\n",
      "\u001b[1;32mC:\\Users\\VIPLAB\\AppData\\Local\\conda\\conda\\envs\\py36\\lib\\site-packages\\pandas\\core\\generic.py\u001b[0m in \u001b[0;36m_get_item_cache\u001b[1;34m(self, item)\u001b[0m\n\u001b[0;32m   1532\u001b[0m         \u001b[0mres\u001b[0m \u001b[1;33m=\u001b[0m \u001b[0mcache\u001b[0m\u001b[1;33m.\u001b[0m\u001b[0mget\u001b[0m\u001b[1;33m(\u001b[0m\u001b[0mitem\u001b[0m\u001b[1;33m)\u001b[0m\u001b[1;33m\u001b[0m\u001b[0m\n\u001b[0;32m   1533\u001b[0m         \u001b[1;32mif\u001b[0m \u001b[0mres\u001b[0m \u001b[1;32mis\u001b[0m \u001b[1;32mNone\u001b[0m\u001b[1;33m:\u001b[0m\u001b[1;33m\u001b[0m\u001b[0m\n\u001b[1;32m-> 1534\u001b[1;33m             \u001b[0mvalues\u001b[0m \u001b[1;33m=\u001b[0m \u001b[0mself\u001b[0m\u001b[1;33m.\u001b[0m\u001b[0m_data\u001b[0m\u001b[1;33m.\u001b[0m\u001b[0mget\u001b[0m\u001b[1;33m(\u001b[0m\u001b[0mitem\u001b[0m\u001b[1;33m)\u001b[0m\u001b[1;33m\u001b[0m\u001b[0m\n\u001b[0m\u001b[0;32m   1535\u001b[0m             \u001b[0mres\u001b[0m \u001b[1;33m=\u001b[0m \u001b[0mself\u001b[0m\u001b[1;33m.\u001b[0m\u001b[0m_box_item_values\u001b[0m\u001b[1;33m(\u001b[0m\u001b[0mitem\u001b[0m\u001b[1;33m,\u001b[0m \u001b[0mvalues\u001b[0m\u001b[1;33m)\u001b[0m\u001b[1;33m\u001b[0m\u001b[0m\n\u001b[0;32m   1536\u001b[0m             \u001b[0mcache\u001b[0m\u001b[1;33m[\u001b[0m\u001b[0mitem\u001b[0m\u001b[1;33m]\u001b[0m \u001b[1;33m=\u001b[0m \u001b[0mres\u001b[0m\u001b[1;33m\u001b[0m\u001b[0m\n",
      "\u001b[1;32mC:\\Users\\VIPLAB\\AppData\\Local\\conda\\conda\\envs\\py36\\lib\\site-packages\\pandas\\core\\internals.py\u001b[0m in \u001b[0;36mget\u001b[1;34m(self, item, fastpath)\u001b[0m\n\u001b[0;32m   3588\u001b[0m \u001b[1;33m\u001b[0m\u001b[0m\n\u001b[0;32m   3589\u001b[0m             \u001b[1;32mif\u001b[0m \u001b[1;32mnot\u001b[0m \u001b[0misnull\u001b[0m\u001b[1;33m(\u001b[0m\u001b[0mitem\u001b[0m\u001b[1;33m)\u001b[0m\u001b[1;33m:\u001b[0m\u001b[1;33m\u001b[0m\u001b[0m\n\u001b[1;32m-> 3590\u001b[1;33m                 \u001b[0mloc\u001b[0m \u001b[1;33m=\u001b[0m \u001b[0mself\u001b[0m\u001b[1;33m.\u001b[0m\u001b[0mitems\u001b[0m\u001b[1;33m.\u001b[0m\u001b[0mget_loc\u001b[0m\u001b[1;33m(\u001b[0m\u001b[0mitem\u001b[0m\u001b[1;33m)\u001b[0m\u001b[1;33m\u001b[0m\u001b[0m\n\u001b[0m\u001b[0;32m   3591\u001b[0m             \u001b[1;32melse\u001b[0m\u001b[1;33m:\u001b[0m\u001b[1;33m\u001b[0m\u001b[0m\n\u001b[0;32m   3592\u001b[0m                 \u001b[0mindexer\u001b[0m \u001b[1;33m=\u001b[0m \u001b[0mnp\u001b[0m\u001b[1;33m.\u001b[0m\u001b[0marange\u001b[0m\u001b[1;33m(\u001b[0m\u001b[0mlen\u001b[0m\u001b[1;33m(\u001b[0m\u001b[0mself\u001b[0m\u001b[1;33m.\u001b[0m\u001b[0mitems\u001b[0m\u001b[1;33m)\u001b[0m\u001b[1;33m)\u001b[0m\u001b[1;33m[\u001b[0m\u001b[0misnull\u001b[0m\u001b[1;33m(\u001b[0m\u001b[0mself\u001b[0m\u001b[1;33m.\u001b[0m\u001b[0mitems\u001b[0m\u001b[1;33m)\u001b[0m\u001b[1;33m]\u001b[0m\u001b[1;33m\u001b[0m\u001b[0m\n",
      "\u001b[1;32mC:\\Users\\VIPLAB\\AppData\\Local\\conda\\conda\\envs\\py36\\lib\\site-packages\\pandas\\core\\indexes\\base.py\u001b[0m in \u001b[0;36mget_loc\u001b[1;34m(self, key, method, tolerance)\u001b[0m\n\u001b[0;32m   2393\u001b[0m                 \u001b[1;32mreturn\u001b[0m \u001b[0mself\u001b[0m\u001b[1;33m.\u001b[0m\u001b[0m_engine\u001b[0m\u001b[1;33m.\u001b[0m\u001b[0mget_loc\u001b[0m\u001b[1;33m(\u001b[0m\u001b[0mkey\u001b[0m\u001b[1;33m)\u001b[0m\u001b[1;33m\u001b[0m\u001b[0m\n\u001b[0;32m   2394\u001b[0m             \u001b[1;32mexcept\u001b[0m \u001b[0mKeyError\u001b[0m\u001b[1;33m:\u001b[0m\u001b[1;33m\u001b[0m\u001b[0m\n\u001b[1;32m-> 2395\u001b[1;33m                 \u001b[1;32mreturn\u001b[0m \u001b[0mself\u001b[0m\u001b[1;33m.\u001b[0m\u001b[0m_engine\u001b[0m\u001b[1;33m.\u001b[0m\u001b[0mget_loc\u001b[0m\u001b[1;33m(\u001b[0m\u001b[0mself\u001b[0m\u001b[1;33m.\u001b[0m\u001b[0m_maybe_cast_indexer\u001b[0m\u001b[1;33m(\u001b[0m\u001b[0mkey\u001b[0m\u001b[1;33m)\u001b[0m\u001b[1;33m)\u001b[0m\u001b[1;33m\u001b[0m\u001b[0m\n\u001b[0m\u001b[0;32m   2396\u001b[0m \u001b[1;33m\u001b[0m\u001b[0m\n\u001b[0;32m   2397\u001b[0m         \u001b[0mindexer\u001b[0m \u001b[1;33m=\u001b[0m \u001b[0mself\u001b[0m\u001b[1;33m.\u001b[0m\u001b[0mget_indexer\u001b[0m\u001b[1;33m(\u001b[0m\u001b[1;33m[\u001b[0m\u001b[0mkey\u001b[0m\u001b[1;33m]\u001b[0m\u001b[1;33m,\u001b[0m \u001b[0mmethod\u001b[0m\u001b[1;33m=\u001b[0m\u001b[0mmethod\u001b[0m\u001b[1;33m,\u001b[0m \u001b[0mtolerance\u001b[0m\u001b[1;33m=\u001b[0m\u001b[0mtolerance\u001b[0m\u001b[1;33m)\u001b[0m\u001b[1;33m\u001b[0m\u001b[0m\n",
      "\u001b[1;32mpandas\\_libs\\index.pyx\u001b[0m in \u001b[0;36mpandas._libs.index.IndexEngine.get_loc (pandas\\_libs\\index.c:5239)\u001b[1;34m()\u001b[0m\n",
      "\u001b[1;32mpandas\\_libs\\index.pyx\u001b[0m in \u001b[0;36mpandas._libs.index.IndexEngine.get_loc (pandas\\_libs\\index.c:5085)\u001b[1;34m()\u001b[0m\n",
      "\u001b[1;32mpandas\\_libs\\hashtable_class_helper.pxi\u001b[0m in \u001b[0;36mpandas._libs.hashtable.PyObjectHashTable.get_item (pandas\\_libs\\hashtable.c:20405)\u001b[1;34m()\u001b[0m\n",
      "\u001b[1;32mpandas\\_libs\\hashtable_class_helper.pxi\u001b[0m in \u001b[0;36mpandas._libs.hashtable.PyObjectHashTable.get_item (pandas\\_libs\\hashtable.c:20359)\u001b[1;34m()\u001b[0m\n",
      "\u001b[1;31mKeyError\u001b[0m: 'Groups'"
     ]
    }
   ],
   "source": [
    "len(df[df[\"Groups\"] == \"seldom\"])"
   ]
  },
  {
   "cell_type": "code",
   "execution_count": 17,
   "metadata": {},
   "outputs": [
    {
     "ename": "KeyError",
     "evalue": "'Groups'",
     "output_type": "error",
     "traceback": [
      "\u001b[1;31m---------------------------------------------------------------------------\u001b[0m",
      "\u001b[1;31mKeyError\u001b[0m                                  Traceback (most recent call last)",
      "\u001b[1;32mC:\\Users\\VIPLAB\\AppData\\Local\\conda\\conda\\envs\\py36\\lib\\site-packages\\pandas\\core\\indexes\\base.py\u001b[0m in \u001b[0;36mget_loc\u001b[1;34m(self, key, method, tolerance)\u001b[0m\n\u001b[0;32m   2392\u001b[0m             \u001b[1;32mtry\u001b[0m\u001b[1;33m:\u001b[0m\u001b[1;33m\u001b[0m\u001b[0m\n\u001b[1;32m-> 2393\u001b[1;33m                 \u001b[1;32mreturn\u001b[0m \u001b[0mself\u001b[0m\u001b[1;33m.\u001b[0m\u001b[0m_engine\u001b[0m\u001b[1;33m.\u001b[0m\u001b[0mget_loc\u001b[0m\u001b[1;33m(\u001b[0m\u001b[0mkey\u001b[0m\u001b[1;33m)\u001b[0m\u001b[1;33m\u001b[0m\u001b[0m\n\u001b[0m\u001b[0;32m   2394\u001b[0m             \u001b[1;32mexcept\u001b[0m \u001b[0mKeyError\u001b[0m\u001b[1;33m:\u001b[0m\u001b[1;33m\u001b[0m\u001b[0m\n",
      "\u001b[1;32mpandas\\_libs\\index.pyx\u001b[0m in \u001b[0;36mpandas._libs.index.IndexEngine.get_loc (pandas\\_libs\\index.c:5239)\u001b[1;34m()\u001b[0m\n",
      "\u001b[1;32mpandas\\_libs\\index.pyx\u001b[0m in \u001b[0;36mpandas._libs.index.IndexEngine.get_loc (pandas\\_libs\\index.c:5085)\u001b[1;34m()\u001b[0m\n",
      "\u001b[1;32mpandas\\_libs\\hashtable_class_helper.pxi\u001b[0m in \u001b[0;36mpandas._libs.hashtable.PyObjectHashTable.get_item (pandas\\_libs\\hashtable.c:20405)\u001b[1;34m()\u001b[0m\n",
      "\u001b[1;32mpandas\\_libs\\hashtable_class_helper.pxi\u001b[0m in \u001b[0;36mpandas._libs.hashtable.PyObjectHashTable.get_item (pandas\\_libs\\hashtable.c:20359)\u001b[1;34m()\u001b[0m\n",
      "\u001b[1;31mKeyError\u001b[0m: 'Groups'",
      "\nDuring handling of the above exception, another exception occurred:\n",
      "\u001b[1;31mKeyError\u001b[0m                                  Traceback (most recent call last)",
      "\u001b[1;32m<ipython-input-17-97cda207af85>\u001b[0m in \u001b[0;36m<module>\u001b[1;34m()\u001b[0m\n\u001b[1;32m----> 1\u001b[1;33m \u001b[0mlen\u001b[0m\u001b[1;33m(\u001b[0m\u001b[0mdf\u001b[0m\u001b[1;33m[\u001b[0m\u001b[0mdf\u001b[0m\u001b[1;33m[\u001b[0m\u001b[1;34m\"Groups\"\u001b[0m\u001b[1;33m]\u001b[0m \u001b[1;33m==\u001b[0m \u001b[1;34m\"None\"\u001b[0m\u001b[1;33m]\u001b[0m\u001b[1;33m)\u001b[0m\u001b[1;33m\u001b[0m\u001b[0m\n\u001b[0m",
      "\u001b[1;32mC:\\Users\\VIPLAB\\AppData\\Local\\conda\\conda\\envs\\py36\\lib\\site-packages\\pandas\\core\\frame.py\u001b[0m in \u001b[0;36m__getitem__\u001b[1;34m(self, key)\u001b[0m\n\u001b[0;32m   2060\u001b[0m             \u001b[1;32mreturn\u001b[0m \u001b[0mself\u001b[0m\u001b[1;33m.\u001b[0m\u001b[0m_getitem_multilevel\u001b[0m\u001b[1;33m(\u001b[0m\u001b[0mkey\u001b[0m\u001b[1;33m)\u001b[0m\u001b[1;33m\u001b[0m\u001b[0m\n\u001b[0;32m   2061\u001b[0m         \u001b[1;32melse\u001b[0m\u001b[1;33m:\u001b[0m\u001b[1;33m\u001b[0m\u001b[0m\n\u001b[1;32m-> 2062\u001b[1;33m             \u001b[1;32mreturn\u001b[0m \u001b[0mself\u001b[0m\u001b[1;33m.\u001b[0m\u001b[0m_getitem_column\u001b[0m\u001b[1;33m(\u001b[0m\u001b[0mkey\u001b[0m\u001b[1;33m)\u001b[0m\u001b[1;33m\u001b[0m\u001b[0m\n\u001b[0m\u001b[0;32m   2063\u001b[0m \u001b[1;33m\u001b[0m\u001b[0m\n\u001b[0;32m   2064\u001b[0m     \u001b[1;32mdef\u001b[0m \u001b[0m_getitem_column\u001b[0m\u001b[1;33m(\u001b[0m\u001b[0mself\u001b[0m\u001b[1;33m,\u001b[0m \u001b[0mkey\u001b[0m\u001b[1;33m)\u001b[0m\u001b[1;33m:\u001b[0m\u001b[1;33m\u001b[0m\u001b[0m\n",
      "\u001b[1;32mC:\\Users\\VIPLAB\\AppData\\Local\\conda\\conda\\envs\\py36\\lib\\site-packages\\pandas\\core\\frame.py\u001b[0m in \u001b[0;36m_getitem_column\u001b[1;34m(self, key)\u001b[0m\n\u001b[0;32m   2067\u001b[0m         \u001b[1;31m# get column\u001b[0m\u001b[1;33m\u001b[0m\u001b[1;33m\u001b[0m\u001b[0m\n\u001b[0;32m   2068\u001b[0m         \u001b[1;32mif\u001b[0m \u001b[0mself\u001b[0m\u001b[1;33m.\u001b[0m\u001b[0mcolumns\u001b[0m\u001b[1;33m.\u001b[0m\u001b[0mis_unique\u001b[0m\u001b[1;33m:\u001b[0m\u001b[1;33m\u001b[0m\u001b[0m\n\u001b[1;32m-> 2069\u001b[1;33m             \u001b[1;32mreturn\u001b[0m \u001b[0mself\u001b[0m\u001b[1;33m.\u001b[0m\u001b[0m_get_item_cache\u001b[0m\u001b[1;33m(\u001b[0m\u001b[0mkey\u001b[0m\u001b[1;33m)\u001b[0m\u001b[1;33m\u001b[0m\u001b[0m\n\u001b[0m\u001b[0;32m   2070\u001b[0m \u001b[1;33m\u001b[0m\u001b[0m\n\u001b[0;32m   2071\u001b[0m         \u001b[1;31m# duplicate columns & possible reduce dimensionality\u001b[0m\u001b[1;33m\u001b[0m\u001b[1;33m\u001b[0m\u001b[0m\n",
      "\u001b[1;32mC:\\Users\\VIPLAB\\AppData\\Local\\conda\\conda\\envs\\py36\\lib\\site-packages\\pandas\\core\\generic.py\u001b[0m in \u001b[0;36m_get_item_cache\u001b[1;34m(self, item)\u001b[0m\n\u001b[0;32m   1532\u001b[0m         \u001b[0mres\u001b[0m \u001b[1;33m=\u001b[0m \u001b[0mcache\u001b[0m\u001b[1;33m.\u001b[0m\u001b[0mget\u001b[0m\u001b[1;33m(\u001b[0m\u001b[0mitem\u001b[0m\u001b[1;33m)\u001b[0m\u001b[1;33m\u001b[0m\u001b[0m\n\u001b[0;32m   1533\u001b[0m         \u001b[1;32mif\u001b[0m \u001b[0mres\u001b[0m \u001b[1;32mis\u001b[0m \u001b[1;32mNone\u001b[0m\u001b[1;33m:\u001b[0m\u001b[1;33m\u001b[0m\u001b[0m\n\u001b[1;32m-> 1534\u001b[1;33m             \u001b[0mvalues\u001b[0m \u001b[1;33m=\u001b[0m \u001b[0mself\u001b[0m\u001b[1;33m.\u001b[0m\u001b[0m_data\u001b[0m\u001b[1;33m.\u001b[0m\u001b[0mget\u001b[0m\u001b[1;33m(\u001b[0m\u001b[0mitem\u001b[0m\u001b[1;33m)\u001b[0m\u001b[1;33m\u001b[0m\u001b[0m\n\u001b[0m\u001b[0;32m   1535\u001b[0m             \u001b[0mres\u001b[0m \u001b[1;33m=\u001b[0m \u001b[0mself\u001b[0m\u001b[1;33m.\u001b[0m\u001b[0m_box_item_values\u001b[0m\u001b[1;33m(\u001b[0m\u001b[0mitem\u001b[0m\u001b[1;33m,\u001b[0m \u001b[0mvalues\u001b[0m\u001b[1;33m)\u001b[0m\u001b[1;33m\u001b[0m\u001b[0m\n\u001b[0;32m   1536\u001b[0m             \u001b[0mcache\u001b[0m\u001b[1;33m[\u001b[0m\u001b[0mitem\u001b[0m\u001b[1;33m]\u001b[0m \u001b[1;33m=\u001b[0m \u001b[0mres\u001b[0m\u001b[1;33m\u001b[0m\u001b[0m\n",
      "\u001b[1;32mC:\\Users\\VIPLAB\\AppData\\Local\\conda\\conda\\envs\\py36\\lib\\site-packages\\pandas\\core\\internals.py\u001b[0m in \u001b[0;36mget\u001b[1;34m(self, item, fastpath)\u001b[0m\n\u001b[0;32m   3588\u001b[0m \u001b[1;33m\u001b[0m\u001b[0m\n\u001b[0;32m   3589\u001b[0m             \u001b[1;32mif\u001b[0m \u001b[1;32mnot\u001b[0m \u001b[0misnull\u001b[0m\u001b[1;33m(\u001b[0m\u001b[0mitem\u001b[0m\u001b[1;33m)\u001b[0m\u001b[1;33m:\u001b[0m\u001b[1;33m\u001b[0m\u001b[0m\n\u001b[1;32m-> 3590\u001b[1;33m                 \u001b[0mloc\u001b[0m \u001b[1;33m=\u001b[0m \u001b[0mself\u001b[0m\u001b[1;33m.\u001b[0m\u001b[0mitems\u001b[0m\u001b[1;33m.\u001b[0m\u001b[0mget_loc\u001b[0m\u001b[1;33m(\u001b[0m\u001b[0mitem\u001b[0m\u001b[1;33m)\u001b[0m\u001b[1;33m\u001b[0m\u001b[0m\n\u001b[0m\u001b[0;32m   3591\u001b[0m             \u001b[1;32melse\u001b[0m\u001b[1;33m:\u001b[0m\u001b[1;33m\u001b[0m\u001b[0m\n\u001b[0;32m   3592\u001b[0m                 \u001b[0mindexer\u001b[0m \u001b[1;33m=\u001b[0m \u001b[0mnp\u001b[0m\u001b[1;33m.\u001b[0m\u001b[0marange\u001b[0m\u001b[1;33m(\u001b[0m\u001b[0mlen\u001b[0m\u001b[1;33m(\u001b[0m\u001b[0mself\u001b[0m\u001b[1;33m.\u001b[0m\u001b[0mitems\u001b[0m\u001b[1;33m)\u001b[0m\u001b[1;33m)\u001b[0m\u001b[1;33m[\u001b[0m\u001b[0misnull\u001b[0m\u001b[1;33m(\u001b[0m\u001b[0mself\u001b[0m\u001b[1;33m.\u001b[0m\u001b[0mitems\u001b[0m\u001b[1;33m)\u001b[0m\u001b[1;33m]\u001b[0m\u001b[1;33m\u001b[0m\u001b[0m\n",
      "\u001b[1;32mC:\\Users\\VIPLAB\\AppData\\Local\\conda\\conda\\envs\\py36\\lib\\site-packages\\pandas\\core\\indexes\\base.py\u001b[0m in \u001b[0;36mget_loc\u001b[1;34m(self, key, method, tolerance)\u001b[0m\n\u001b[0;32m   2393\u001b[0m                 \u001b[1;32mreturn\u001b[0m \u001b[0mself\u001b[0m\u001b[1;33m.\u001b[0m\u001b[0m_engine\u001b[0m\u001b[1;33m.\u001b[0m\u001b[0mget_loc\u001b[0m\u001b[1;33m(\u001b[0m\u001b[0mkey\u001b[0m\u001b[1;33m)\u001b[0m\u001b[1;33m\u001b[0m\u001b[0m\n\u001b[0;32m   2394\u001b[0m             \u001b[1;32mexcept\u001b[0m \u001b[0mKeyError\u001b[0m\u001b[1;33m:\u001b[0m\u001b[1;33m\u001b[0m\u001b[0m\n\u001b[1;32m-> 2395\u001b[1;33m                 \u001b[1;32mreturn\u001b[0m \u001b[0mself\u001b[0m\u001b[1;33m.\u001b[0m\u001b[0m_engine\u001b[0m\u001b[1;33m.\u001b[0m\u001b[0mget_loc\u001b[0m\u001b[1;33m(\u001b[0m\u001b[0mself\u001b[0m\u001b[1;33m.\u001b[0m\u001b[0m_maybe_cast_indexer\u001b[0m\u001b[1;33m(\u001b[0m\u001b[0mkey\u001b[0m\u001b[1;33m)\u001b[0m\u001b[1;33m)\u001b[0m\u001b[1;33m\u001b[0m\u001b[0m\n\u001b[0m\u001b[0;32m   2396\u001b[0m \u001b[1;33m\u001b[0m\u001b[0m\n\u001b[0;32m   2397\u001b[0m         \u001b[0mindexer\u001b[0m \u001b[1;33m=\u001b[0m \u001b[0mself\u001b[0m\u001b[1;33m.\u001b[0m\u001b[0mget_indexer\u001b[0m\u001b[1;33m(\u001b[0m\u001b[1;33m[\u001b[0m\u001b[0mkey\u001b[0m\u001b[1;33m]\u001b[0m\u001b[1;33m,\u001b[0m \u001b[0mmethod\u001b[0m\u001b[1;33m=\u001b[0m\u001b[0mmethod\u001b[0m\u001b[1;33m,\u001b[0m \u001b[0mtolerance\u001b[0m\u001b[1;33m=\u001b[0m\u001b[0mtolerance\u001b[0m\u001b[1;33m)\u001b[0m\u001b[1;33m\u001b[0m\u001b[0m\n",
      "\u001b[1;32mpandas\\_libs\\index.pyx\u001b[0m in \u001b[0;36mpandas._libs.index.IndexEngine.get_loc (pandas\\_libs\\index.c:5239)\u001b[1;34m()\u001b[0m\n",
      "\u001b[1;32mpandas\\_libs\\index.pyx\u001b[0m in \u001b[0;36mpandas._libs.index.IndexEngine.get_loc (pandas\\_libs\\index.c:5085)\u001b[1;34m()\u001b[0m\n",
      "\u001b[1;32mpandas\\_libs\\hashtable_class_helper.pxi\u001b[0m in \u001b[0;36mpandas._libs.hashtable.PyObjectHashTable.get_item (pandas\\_libs\\hashtable.c:20405)\u001b[1;34m()\u001b[0m\n",
      "\u001b[1;32mpandas\\_libs\\hashtable_class_helper.pxi\u001b[0m in \u001b[0;36mpandas._libs.hashtable.PyObjectHashTable.get_item (pandas\\_libs\\hashtable.c:20359)\u001b[1;34m()\u001b[0m\n",
      "\u001b[1;31mKeyError\u001b[0m: 'Groups'"
     ]
    }
   ],
   "source": [
    "len(df[df[\"Groups\"] == \"None\"])"
   ]
  },
  {
   "cell_type": "code",
   "execution_count": null,
   "metadata": {
    "collapsed": true
   },
   "outputs": [],
   "source": []
  },
  {
   "cell_type": "code",
   "execution_count": null,
   "metadata": {
    "collapsed": true,
    "scrolled": true
   },
   "outputs": [],
   "source": [
    "# clean non numeric data\n",
    "# iteration avoid memory leak\n",
    "for col in df.columns[numeric_st_idx:]:\n",
    "    df[col] = pd.to_numeric(df[col], errors='coerce')\n",
    "    # let nan == 0\n",
    "#     print(col)\n",
    "    df[col] = df[col].fillna(0)\n",
    "    df[col] = df[col].astype(np.int64)\n",
    "# df = df.fillna(0)\n",
    "# # df[df.columns[numeric_st_idx:]] = df[df.columns[numeric_st_idx:]].apply(np.int64)\n",
    "# for col in df.columns[numeric_st_idx:]:\n",
    "#     df[col] = df[col].apply(np.int32)"
   ]
  },
  {
   "cell_type": "code",
   "execution_count": null,
   "metadata": {
    "collapsed": true
   },
   "outputs": [],
   "source": [
    "df.dtypes"
   ]
  },
  {
   "cell_type": "code",
   "execution_count": null,
   "metadata": {
    "collapsed": true
   },
   "outputs": [],
   "source": [
    "# write to csv and no index\n",
    "t0 = time()\n",
    "df.to_csv(out_filename, index=False)\n",
    "print(\"time for output csv file: %.2f\" % (time()-t0))"
   ]
  },
  {
   "cell_type": "code",
   "execution_count": null,
   "metadata": {
    "collapsed": true
   },
   "outputs": [],
   "source": [
    "del df"
   ]
  },
  {
   "cell_type": "code",
   "execution_count": null,
   "metadata": {
    "collapsed": true
   },
   "outputs": [],
   "source": []
  },
  {
   "cell_type": "code",
   "execution_count": null,
   "metadata": {
    "collapsed": true
   },
   "outputs": [],
   "source": []
  },
  {
   "cell_type": "code",
   "execution_count": null,
   "metadata": {
    "collapsed": true
   },
   "outputs": [],
   "source": []
  },
  {
   "cell_type": "code",
   "execution_count": null,
   "metadata": {
    "collapsed": true
   },
   "outputs": [],
   "source": [
    "# read revise csv file and print cost time\n",
    "t0 = time()\n",
    "df = pd.read_csv(out_filename, error_bad_lines=False)\n",
    "print(\"time for read csv: %.2f\" % (time()-t0))"
   ]
  },
  {
   "cell_type": "code",
   "execution_count": null,
   "metadata": {
    "collapsed": true,
    "scrolled": true
   },
   "outputs": [],
   "source": [
    "# show each columns type\n",
    "df.dtypes"
   ]
  }
 ],
 "metadata": {
  "kernelspec": {
   "display_name": "Python 3",
   "language": "python",
   "name": "python3"
  },
  "language_info": {
   "codemirror_mode": {
    "name": "ipython",
    "version": 3
   },
   "file_extension": ".py",
   "mimetype": "text/x-python",
   "name": "python",
   "nbconvert_exporter": "python",
   "pygments_lexer": "ipython3",
   "version": "3.6.1"
  }
 },
 "nbformat": 4,
 "nbformat_minor": 2
}
