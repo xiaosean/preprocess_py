{
 "cells": [
  {
   "cell_type": "code",
   "execution_count": 11,
   "metadata": {
    "collapsed": true
   },
   "outputs": [],
   "source": [
    "import os.path\n",
    "import numpy as np\n",
    "import pandas as pd\n",
    "from time import time"
   ]
  },
  {
   "cell_type": "code",
   "execution_count": 12,
   "metadata": {
    "collapsed": true
   },
   "outputs": [],
   "source": [
    "# set configure\n",
    "# path = \"../DATA_FULL/\"\n",
    "path = \"D:/NEW_DATA_FULL_2017_6_21/\"\n",
    "filename = \"dm_subscr_mtc_mly_COMPLETED\"\n",
    "# relative_filename = path + filename + \".csv\"\n",
    "relative_filename = path + filename + \".txt\"\n",
    "out_filename = filename + \"_revise.csv\"\n",
    "# after the numeric_st_idx's number will be tranform to int64\n",
    "numeric_st_idx = 2\n",
    "# pick the columns of u wants\n",
    "# wants_cols = ['DATA_MONTH', 'MINING_DW_SUBSCR_NO', 'AGE', \"MO_TTL_DURATION\",\"MO_ONNET_DUR\",\"MO_OFFNET_DUR\",\"PSTN_DUR\",\"MO_TTL_COUNT\",\"MO_ONNET_CNT\",\"MO_OFFNET_CNT\",\"PSTN_CNT\",\"MT_TTL_DURATION\",\"MT_ONNET_DUR\",\"MT_OFFNET_DUR\",\"MT_PSTN_DUR\",\"MT_TTL_COUNT\",\"MT_ONNET_CNT\",\"MT_OFFNET_CNT\",\"MT_PSTN_CNT\",\"MOC_FET_DUR\",\"MOC_TWM_DUR\",\"MOC_CHM_DUR\",\"MOC_OTH_DUR\",\"MOC_PSTN_DUR\",\"MOST_MO_DUR\",\"MTC_FET_DUR\",\"MTC_TWM_DUR\",\"MTC_CHM_DUR\",\"MTC_PSTN_DUR\",\"MOST_MT_DUR\"]"
   ]
  },
  {
   "cell_type": "code",
   "execution_count": 13,
   "metadata": {
    "scrolled": true
   },
   "outputs": [
    {
     "name": "stdout",
     "output_type": "stream",
     "text": [
      "time for read csv: 21.72\n"
     ]
    }
   ],
   "source": [
    "# read csv file and print cost time\n",
    "t0 = time()\n",
    "# df = pd.read_csv(relative_filename, usecols = wants_cols, error_bad_lines=False)\n",
    "df = pd.read_csv(relative_filename, error_bad_lines=False)\n",
    "print(\"time for read csv: %.2f\" % (time()-t0))\n"
   ]
  },
  {
   "cell_type": "code",
   "execution_count": 14,
   "metadata": {},
   "outputs": [],
   "source": [
    "# remove row which the value is null in column age\n",
    "# if(\"AGE\" in df.columns):\n",
    "#     df = df.dropna(axis=0, subset =['AGE'])\n",
    "#     print(\"remove Age = null\")\n",
    "# remove row which the value is ? in column MINING_DW_SUBSCR_NO\n",
    "# if(\"MINING_DW_SUBSCR_NO\" in df.columns):\n",
    "#     df = df[df[\"MINING_DW_SUBSCR_NO\"] != \"?\"]\n",
    "#     print(\"remove MINING_DW_SUBSCR_NO == ?\")\n"
   ]
  },
  {
   "cell_type": "code",
   "execution_count": 15,
   "metadata": {},
   "outputs": [
    {
     "data": {
      "text/html": [
       "<div>\n",
       "<style>\n",
       "    .dataframe thead tr:only-child th {\n",
       "        text-align: right;\n",
       "    }\n",
       "\n",
       "    .dataframe thead th {\n",
       "        text-align: left;\n",
       "    }\n",
       "\n",
       "    .dataframe tbody tr th {\n",
       "        vertical-align: top;\n",
       "    }\n",
       "</style>\n",
       "<table border=\"1\" class=\"dataframe\">\n",
       "  <thead>\n",
       "    <tr style=\"text-align: right;\">\n",
       "      <th></th>\n",
       "      <th>DATA_MONTH</th>\n",
       "      <th>MINING_DW_SUBSCR_NO</th>\n",
       "      <th>MTC_CNT</th>\n",
       "      <th>MTC_DUR</th>\n",
       "      <th>MTC_FET_CNT</th>\n",
       "      <th>MTC_FET_DUR</th>\n",
       "      <th>MTC_TWM_CNT</th>\n",
       "      <th>MTC_TWM_DUR</th>\n",
       "      <th>MTC_CHM_CNT</th>\n",
       "      <th>MTC_CHM_DUR</th>\n",
       "      <th>MTC_APT_CNT</th>\n",
       "      <th>MTC_APT_DUR</th>\n",
       "      <th>MTC_TSC_CNT</th>\n",
       "      <th>MTC_TSC_DUR</th>\n",
       "      <th>MTC_PSTN_CNT</th>\n",
       "      <th>MTC_PSTN_DUR</th>\n",
       "    </tr>\n",
       "  </thead>\n",
       "  <tbody>\n",
       "    <tr>\n",
       "      <th>0</th>\n",
       "      <td>2017/1/1</td>\n",
       "      <td>8130102583</td>\n",
       "      <td>9</td>\n",
       "      <td>623</td>\n",
       "      <td>1</td>\n",
       "      <td>172</td>\n",
       "      <td>5</td>\n",
       "      <td>362</td>\n",
       "      <td>0</td>\n",
       "      <td>0</td>\n",
       "      <td>1</td>\n",
       "      <td>23</td>\n",
       "      <td>1</td>\n",
       "      <td>51</td>\n",
       "      <td>1</td>\n",
       "      <td>15</td>\n",
       "    </tr>\n",
       "    <tr>\n",
       "      <th>1</th>\n",
       "      <td>2017/3/1</td>\n",
       "      <td>3125432405</td>\n",
       "      <td>5</td>\n",
       "      <td>465</td>\n",
       "      <td>0</td>\n",
       "      <td>0</td>\n",
       "      <td>0</td>\n",
       "      <td>0</td>\n",
       "      <td>1</td>\n",
       "      <td>19</td>\n",
       "      <td>4</td>\n",
       "      <td>446</td>\n",
       "      <td>0</td>\n",
       "      <td>0</td>\n",
       "      <td>0</td>\n",
       "      <td>0</td>\n",
       "    </tr>\n",
       "    <tr>\n",
       "      <th>2</th>\n",
       "      <td>2017/4/1</td>\n",
       "      <td>10000337216</td>\n",
       "      <td>55</td>\n",
       "      <td>2857</td>\n",
       "      <td>33</td>\n",
       "      <td>1213</td>\n",
       "      <td>4</td>\n",
       "      <td>119</td>\n",
       "      <td>8</td>\n",
       "      <td>680</td>\n",
       "      <td>2</td>\n",
       "      <td>140</td>\n",
       "      <td>1</td>\n",
       "      <td>9</td>\n",
       "      <td>7</td>\n",
       "      <td>696</td>\n",
       "    </tr>\n",
       "    <tr>\n",
       "      <th>3</th>\n",
       "      <td>2017/4/1</td>\n",
       "      <td>3137418985</td>\n",
       "      <td>112</td>\n",
       "      <td>16365</td>\n",
       "      <td>52</td>\n",
       "      <td>6722</td>\n",
       "      <td>11</td>\n",
       "      <td>733</td>\n",
       "      <td>33</td>\n",
       "      <td>5682</td>\n",
       "      <td>2</td>\n",
       "      <td>408</td>\n",
       "      <td>0</td>\n",
       "      <td>0</td>\n",
       "      <td>13</td>\n",
       "      <td>2818</td>\n",
       "    </tr>\n",
       "    <tr>\n",
       "      <th>4</th>\n",
       "      <td>2017/1/1</td>\n",
       "      <td>8233617448</td>\n",
       "      <td>23</td>\n",
       "      <td>1743</td>\n",
       "      <td>18</td>\n",
       "      <td>984</td>\n",
       "      <td>3</td>\n",
       "      <td>68</td>\n",
       "      <td>2</td>\n",
       "      <td>691</td>\n",
       "      <td>0</td>\n",
       "      <td>0</td>\n",
       "      <td>0</td>\n",
       "      <td>0</td>\n",
       "      <td>0</td>\n",
       "      <td>0</td>\n",
       "    </tr>\n",
       "  </tbody>\n",
       "</table>\n",
       "</div>"
      ],
      "text/plain": [
       "  DATA_MONTH  MINING_DW_SUBSCR_NO  MTC_CNT  MTC_DUR  MTC_FET_CNT  MTC_FET_DUR  \\\n",
       "0   2017/1/1           8130102583        9      623            1          172   \n",
       "1   2017/3/1           3125432405        5      465            0            0   \n",
       "2   2017/4/1          10000337216       55     2857           33         1213   \n",
       "3   2017/4/1           3137418985      112    16365           52         6722   \n",
       "4   2017/1/1           8233617448       23     1743           18          984   \n",
       "\n",
       "   MTC_TWM_CNT  MTC_TWM_DUR  MTC_CHM_CNT  MTC_CHM_DUR  MTC_APT_CNT  \\\n",
       "0            5          362            0            0            1   \n",
       "1            0            0            1           19            4   \n",
       "2            4          119            8          680            2   \n",
       "3           11          733           33         5682            2   \n",
       "4            3           68            2          691            0   \n",
       "\n",
       "   MTC_APT_DUR  MTC_TSC_CNT  MTC_TSC_DUR  MTC_PSTN_CNT  MTC_PSTN_DUR  \n",
       "0           23            1           51             1            15  \n",
       "1          446            0            0             0             0  \n",
       "2          140            1            9             7           696  \n",
       "3          408            0            0            13          2818  \n",
       "4            0            0            0             0             0  "
      ]
     },
     "execution_count": 15,
     "metadata": {},
     "output_type": "execute_result"
    }
   ],
   "source": [
    "df.head()"
   ]
  },
  {
   "cell_type": "code",
   "execution_count": 16,
   "metadata": {
    "collapsed": true,
    "scrolled": true
   },
   "outputs": [],
   "source": [
    "# clean non numeric data\n",
    "# iteration avoid memory leak\n",
    "for col in df.columns[numeric_st_idx:]:\n",
    "    df[col] = pd.to_numeric(df[col], errors='coerce')\n",
    "    # let nan == 0\n",
    "#     print(col)\n",
    "    df[col] = df[col].fillna(0)\n",
    "    df[col] = df[col].astype(np.int64)\n",
    "# df = df.fillna(0)\n",
    "# # df[df.columns[numeric_st_idx:]] = df[df.columns[numeric_st_idx:]].apply(np.int64)\n",
    "# for col in df.columns[numeric_st_idx:]:\n",
    "#     df[col] = df[col].apply(np.int32)"
   ]
  },
  {
   "cell_type": "code",
   "execution_count": 17,
   "metadata": {},
   "outputs": [
    {
     "data": {
      "text/plain": [
       "DATA_MONTH             object\n",
       "MINING_DW_SUBSCR_NO     int64\n",
       "MTC_CNT                 int64\n",
       "MTC_DUR                 int64\n",
       "MTC_FET_CNT             int64\n",
       "MTC_FET_DUR             int64\n",
       "MTC_TWM_CNT             int64\n",
       "MTC_TWM_DUR             int64\n",
       "MTC_CHM_CNT             int64\n",
       "MTC_CHM_DUR             int64\n",
       "MTC_APT_CNT             int64\n",
       "MTC_APT_DUR             int64\n",
       "MTC_TSC_CNT             int64\n",
       "MTC_TSC_DUR             int64\n",
       "MTC_PSTN_CNT            int64\n",
       "MTC_PSTN_DUR            int64\n",
       "dtype: object"
      ]
     },
     "execution_count": 17,
     "metadata": {},
     "output_type": "execute_result"
    }
   ],
   "source": [
    "df.dtypes"
   ]
  },
  {
   "cell_type": "code",
   "execution_count": 18,
   "metadata": {},
   "outputs": [
    {
     "name": "stdout",
     "output_type": "stream",
     "text": [
      "time for output csv file: 144.81\n"
     ]
    }
   ],
   "source": [
    "# write to csv and no index\n",
    "t0 = time()\n",
    "df.to_csv(out_filename, index=False)\n",
    "print(\"time for output csv file: %.2f\" % (time()-t0))"
   ]
  },
  {
   "cell_type": "code",
   "execution_count": 19,
   "metadata": {
    "collapsed": true
   },
   "outputs": [],
   "source": [
    "del df"
   ]
  },
  {
   "cell_type": "code",
   "execution_count": null,
   "metadata": {
    "collapsed": true
   },
   "outputs": [],
   "source": []
  },
  {
   "cell_type": "code",
   "execution_count": null,
   "metadata": {
    "collapsed": true
   },
   "outputs": [],
   "source": []
  },
  {
   "cell_type": "code",
   "execution_count": null,
   "metadata": {
    "collapsed": true
   },
   "outputs": [],
   "source": []
  },
  {
   "cell_type": "code",
   "execution_count": null,
   "metadata": {
    "collapsed": true
   },
   "outputs": [],
   "source": [
    "# read revise csv file and print cost time\n",
    "t0 = time()\n",
    "df = pd.read_csv(out_filename, error_bad_lines=False)\n",
    "print(\"time for read csv: %.2f\" % (time()-t0))"
   ]
  },
  {
   "cell_type": "code",
   "execution_count": null,
   "metadata": {
    "collapsed": true,
    "scrolled": true
   },
   "outputs": [],
   "source": [
    "# show each columns type\n",
    "df.dtypes"
   ]
  }
 ],
 "metadata": {
  "kernelspec": {
   "display_name": "Python 3",
   "language": "python",
   "name": "python3"
  },
  "language_info": {
   "codemirror_mode": {
    "name": "ipython",
    "version": 3
   },
   "file_extension": ".py",
   "mimetype": "text/x-python",
   "name": "python",
   "nbconvert_exporter": "python",
   "pygments_lexer": "ipython3",
   "version": "3.6.1"
  }
 },
 "nbformat": 4,
 "nbformat_minor": 2
}
