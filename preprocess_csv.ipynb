{
 "cells": [
  {
   "cell_type": "code",
   "execution_count": 51,
   "metadata": {
    "collapsed": true
   },
   "outputs": [],
   "source": [
    "import os.path\n",
    "import numpy as np\n",
    "import pandas as pd\n",
    "from time import time"
   ]
  },
  {
   "cell_type": "code",
   "execution_count": 49,
   "metadata": {
    "collapsed": true
   },
   "outputs": [],
   "source": [
    "# set configure\n",
    "path = \"../DATA_FULL/\"\n",
    "filename = \"output_MDS_ACTIVE_MLY_2016-09-01\"\n",
    "relative_filename = path + filename + \".csv\"\n",
    "out_filename = \"mds_mly_minus20160901\"\n",
    "# after the numeric_st_idx's number will be tranform to int64\n",
    "numeric_st_idx = 2\n",
    "# pick the columns of u wants\n",
    "wants_cols = ['DATA_MONTH', 'MINING_DW_SUBSCR_NO', 'AGE', \"MO_TTL_DURATION\",\"MO_ONNET_DUR\",\"MO_OFFNET_DUR\",\"PSTN_DUR\",\"MO_TTL_COUNT\",\"MO_ONNET_CNT\",\"MO_OFFNET_CNT\",\"PSTN_CNT\",\"MT_TTL_DURATION\",\"MT_ONNET_DUR\",\"MT_OFFNET_DUR\",\"MT_PSTN_DUR\",\"MT_TTL_COUNT\",\"MT_ONNET_CNT\",\"MT_OFFNET_CNT\",\"MT_PSTN_CNT\",\"MOC_FET_DUR\",\"MOC_TWM_DUR\",\"MOC_CHM_DUR\",\"MOC_OTH_DUR\",\"MOC_PSTN_DUR\",\"MOST_MO_DUR\",\"MTC_FET_DUR\",\"MTC_TWM_DUR\",\"MTC_CHM_DUR\",\"MTC_PSTN_DUR\",\"MOST_MT_DUR\"]"
   ]
  },
  {
   "cell_type": "code",
   "execution_count": 14,
   "metadata": {},
   "outputs": [
    {
     "name": "stderr",
     "output_type": "stream",
     "text": [
      "C:\\Users\\VIPLAB\\AppData\\Local\\conda\\conda\\envs\\py36\\lib\\site-packages\\IPython\\core\\interactiveshell.py:2717: DtypeWarning: Columns (134,135,136,137,138,139,140,141,142,143) have mixed types. Specify dtype option on import or set low_memory=False.\n",
      "  interactivity=interactivity, compiler=compiler, result=result)\n"
     ]
    },
    {
     "name": "stdout",
     "output_type": "stream",
     "text": [
      "time for read csv: 27.08\n"
     ]
    }
   ],
   "source": [
    "# read csv file and print cost time\n",
    "t0 = time()\n",
    "df = pd.read_csv(relative_filename, usecols = wants_cols, error_bad_lines=False)\n",
    "print(\"time for read csv: %.2f\" % (time()-t0))"
   ]
  },
  {
   "cell_type": "code",
   "execution_count": 15,
   "metadata": {
    "collapsed": true
   },
   "outputs": [],
   "source": [
    "# remove row which the value is null in column age\n",
    "df = df.dropna(axis=0, subset =['AGE'])"
   ]
  },
  {
   "cell_type": "code",
   "execution_count": 45,
   "metadata": {},
   "outputs": [],
   "source": [
    "# clean non numeric data\n",
    "for col in df.columns[numeric_st_idx:]:\n",
    "    df[col] = pd.to_numeric(df[col], errors='coerce')\n",
    "# let nan == 0\n",
    "df = df.fillna(0)\n",
    "df[df.columns[numeric_st_idx:]] = df[df.columns[numeric_st_idx:]].apply(np.int64)\n"
   ]
  },
  {
   "cell_type": "code",
   "execution_count": 46,
   "metadata": {},
   "outputs": [
    {
     "name": "stdout",
     "output_type": "stream",
     "text": [
      "time for ctable conversion: 25.43\n"
     ]
    }
   ],
   "source": [
    "# write to csv and no index\n",
    "t0 = time()\n",
    "df.to_csv(out_filename + \".csv\", index=False)\n",
    "print(\"time for output csv file: %.2f\" % (time()-t0))"
   ]
  },
  {
   "cell_type": "code",
   "execution_count": 47,
   "metadata": {},
   "outputs": [
    {
     "name": "stdout",
     "output_type": "stream",
     "text": [
      "time for read csv: 4.35\n"
     ]
    }
   ],
   "source": [
    "# read revise csv file and print cost time\n",
    "t0 = time()\n",
    "df = pd.read_csv(\"mds_mly_minus20160901.csv\", usecols = wants_cols, error_bad_lines=False)\n",
    "print(\"time for read csv: %.2f\" % (time()-t0))"
   ]
  },
  {
   "cell_type": "code",
   "execution_count": 50,
   "metadata": {
    "scrolled": true
   },
   "outputs": [
    {
     "data": {
      "text/plain": [
       "DATA_MONTH             object\n",
       "MINING_DW_SUBSCR_NO     int64\n",
       "AGE                     int64\n",
       "MO_TTL_DURATION         int64\n",
       "MO_ONNET_DUR            int64\n",
       "MO_OFFNET_DUR           int64\n",
       "PSTN_DUR                int64\n",
       "MO_TTL_COUNT            int64\n",
       "MO_ONNET_CNT            int64\n",
       "MO_OFFNET_CNT           int64\n",
       "PSTN_CNT                int64\n",
       "MT_TTL_DURATION         int64\n",
       "MT_ONNET_DUR            int64\n",
       "MT_OFFNET_DUR           int64\n",
       "MT_PSTN_DUR             int64\n",
       "MT_TTL_COUNT            int64\n",
       "MT_ONNET_CNT            int64\n",
       "MT_OFFNET_CNT           int64\n",
       "MT_PSTN_CNT             int64\n",
       "MOC_FET_DUR             int64\n",
       "MOC_TWM_DUR             int64\n",
       "MOC_CHM_DUR             int64\n",
       "MOC_OTH_DUR             int64\n",
       "MOC_PSTN_DUR            int64\n",
       "MOST_MO_DUR             int64\n",
       "MTC_FET_DUR             int64\n",
       "MTC_TWM_DUR             int64\n",
       "MTC_CHM_DUR             int64\n",
       "MTC_PSTN_DUR            int64\n",
       "MOST_MT_DUR             int64\n",
       "dtype: object"
      ]
     },
     "execution_count": 50,
     "metadata": {},
     "output_type": "execute_result"
    }
   ],
   "source": [
    "# show each columns type\n",
    "df.dtypes"
   ]
  }
 ],
 "metadata": {
  "kernelspec": {
   "display_name": "Python 3",
   "language": "python",
   "name": "python3"
  },
  "language_info": {
   "codemirror_mode": {
    "name": "ipython",
    "version": 3
   },
   "file_extension": ".py",
   "mimetype": "text/x-python",
   "name": "python",
   "nbconvert_exporter": "python",
   "pygments_lexer": "ipython3",
   "version": "3.6.1"
  }
 },
 "nbformat": 4,
 "nbformat_minor": 2
}
