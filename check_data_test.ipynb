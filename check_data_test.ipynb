{
 "cells": [
  {
   "cell_type": "code",
   "execution_count": 1,
   "metadata": {
    "collapsed": true
   },
   "outputs": [],
   "source": [
    "import os.path\n",
    "import numpy as np\n",
    "import pandas as pd\n",
    "from time import time"
   ]
  },
  {
   "cell_type": "code",
   "execution_count": 24,
   "metadata": {
    "collapsed": true
   },
   "outputs": [],
   "source": [
    "# set configure\n",
    "path = \"../DATA_FULL/\"\n",
    "filename = \"CDR_MO_WEEK_COMPLETED\"\n",
    "# relative_filename = path + filename + \".csv\"\n",
    "relative_filename = path + filename + \".txt\"\n",
    "out_filename = filename + \"_revise.csv\"\n",
    "# after the numeric_st_idx's number will be tranform to int64\n",
    "numeric_st_idx = 2\n",
    "# pick the columns of u wants\n",
    "# wants_cols = ['DATA_MONTH', 'MINING_DW_SUBSCR_NO', 'AGE', \"MO_TTL_DURATION\",\"MO_ONNET_DUR\",\"MO_OFFNET_DUR\",\"PSTN_DUR\",\"MO_TTL_COUNT\",\"MO_ONNET_CNT\",\"MO_OFFNET_CNT\",\"PSTN_CNT\",\"MT_TTL_DURATION\",\"MT_ONNET_DUR\",\"MT_OFFNET_DUR\",\"MT_PSTN_DUR\",\"MT_TTL_COUNT\",\"MT_ONNET_CNT\",\"MT_OFFNET_CNT\",\"MT_PSTN_CNT\",\"MOC_FET_DUR\",\"MOC_TWM_DUR\",\"MOC_CHM_DUR\",\"MOC_OTH_DUR\",\"MOC_PSTN_DUR\",\"MOST_MO_DUR\",\"MTC_FET_DUR\",\"MTC_TWM_DUR\",\"MTC_CHM_DUR\",\"MTC_PSTN_DUR\",\"MOST_MT_DUR\"]"
   ]
  },
  {
   "cell_type": "code",
   "execution_count": 25,
   "metadata": {
    "scrolled": true
   },
   "outputs": [
    {
     "name": "stdout",
     "output_type": "stream",
     "text": [
      "time for read csv: 0.01\n"
     ]
    }
   ],
   "source": [
    "# read csv file and print cost time\n",
    "t0 = time()\n",
    "# df = pd.read_csv(relative_filename, usecols = wants_cols, error_bad_lines=False)\n",
    "# df = pd.read_csv(relative_filename, error_bad_lines=False)\n",
    "df = pd.read_csv(relative_filename, error_bad_lines=False, nrows = 50)\n",
    "print(\"time for read csv: %.2f\" % (time()-t0))\n"
   ]
  },
  {
   "cell_type": "code",
   "execution_count": 22,
   "metadata": {},
   "outputs": [
    {
     "data": {
      "text/plain": [
       "50"
      ]
     },
     "execution_count": 22,
     "metadata": {},
     "output_type": "execute_result"
    }
   ],
   "source": [
    "len(df)"
   ]
  },
  {
   "cell_type": "code",
   "execution_count": 23,
   "metadata": {},
   "outputs": [
    {
     "data": {
      "text/html": [
       "<div>\n",
       "<style>\n",
       "    .dataframe thead tr:only-child th {\n",
       "        text-align: right;\n",
       "    }\n",
       "\n",
       "    .dataframe thead th {\n",
       "        text-align: left;\n",
       "    }\n",
       "\n",
       "    .dataframe tbody tr th {\n",
       "        vertical-align: top;\n",
       "    }\n",
       "</style>\n",
       "<table border=\"1\" class=\"dataframe\">\n",
       "  <thead>\n",
       "    <tr style=\"text-align: right;\">\n",
       "      <th></th>\n",
       "      <th>MINING_DW_SUBSCR_NO</th>\n",
       "      <th>VOICE_MONTH</th>\n",
       "      <th>VOICE_MO_HOUR_SUN_CNT</th>\n",
       "      <th>VOICE_MO_HOUR_MON_CNT</th>\n",
       "      <th>VOICE_MO_HOUR_TUE_CNT</th>\n",
       "      <th>VOICE_MO_HOUR_WED_CNT</th>\n",
       "      <th>VOICE_MO_HOUR_THU_CNT</th>\n",
       "      <th>VOICE_MO_HOUR_FRI_CNT</th>\n",
       "      <th>VOICE_MO_HOUR_SAT_CNT</th>\n",
       "      <th>VOICE_MO_HOUR_SUN_TIME</th>\n",
       "      <th>VOICE_MO_HOUR_MON_TIME</th>\n",
       "      <th>VOICE_MO_HOUR_TUE_TIME</th>\n",
       "      <th>VOICE_MO_HOUR_WED_TIME</th>\n",
       "      <th>VOICE_MO_HOUR_THU_TIME</th>\n",
       "      <th>VOICE_MO_HOUR_FRI_TIME</th>\n",
       "      <th>VOICE_MO_HOUR_SAT_TIME</th>\n",
       "    </tr>\n",
       "  </thead>\n",
       "  <tbody>\n",
       "    <tr>\n",
       "      <th>0</th>\n",
       "      <td>10001264549</td>\n",
       "      <td>2017/2/1</td>\n",
       "      <td>0</td>\n",
       "      <td>0</td>\n",
       "      <td>0</td>\n",
       "      <td>0</td>\n",
       "      <td>0</td>\n",
       "      <td>0</td>\n",
       "      <td>1</td>\n",
       "      <td>0</td>\n",
       "      <td>0</td>\n",
       "      <td>0</td>\n",
       "      <td>0</td>\n",
       "      <td>0</td>\n",
       "      <td>0</td>\n",
       "      <td>317</td>\n",
       "    </tr>\n",
       "    <tr>\n",
       "      <th>1</th>\n",
       "      <td>10000766476</td>\n",
       "      <td>2017/1/1</td>\n",
       "      <td>8</td>\n",
       "      <td>7</td>\n",
       "      <td>7</td>\n",
       "      <td>6</td>\n",
       "      <td>3</td>\n",
       "      <td>4</td>\n",
       "      <td>4</td>\n",
       "      <td>5929</td>\n",
       "      <td>5451</td>\n",
       "      <td>4597</td>\n",
       "      <td>4515</td>\n",
       "      <td>4164</td>\n",
       "      <td>3625</td>\n",
       "      <td>1316</td>\n",
       "    </tr>\n",
       "    <tr>\n",
       "      <th>2</th>\n",
       "      <td>3125192737</td>\n",
       "      <td>2017/1/1</td>\n",
       "      <td>0</td>\n",
       "      <td>2</td>\n",
       "      <td>1</td>\n",
       "      <td>0</td>\n",
       "      <td>1</td>\n",
       "      <td>0</td>\n",
       "      <td>0</td>\n",
       "      <td>0</td>\n",
       "      <td>119</td>\n",
       "      <td>132</td>\n",
       "      <td>0</td>\n",
       "      <td>15</td>\n",
       "      <td>0</td>\n",
       "      <td>0</td>\n",
       "    </tr>\n",
       "    <tr>\n",
       "      <th>3</th>\n",
       "      <td>3116849377</td>\n",
       "      <td>2017/1/1</td>\n",
       "      <td>0</td>\n",
       "      <td>3</td>\n",
       "      <td>8</td>\n",
       "      <td>3</td>\n",
       "      <td>0</td>\n",
       "      <td>0</td>\n",
       "      <td>1</td>\n",
       "      <td>0</td>\n",
       "      <td>343</td>\n",
       "      <td>648</td>\n",
       "      <td>601</td>\n",
       "      <td>0</td>\n",
       "      <td>0</td>\n",
       "      <td>30</td>\n",
       "    </tr>\n",
       "    <tr>\n",
       "      <th>4</th>\n",
       "      <td>10001140668</td>\n",
       "      <td>2017/2/1</td>\n",
       "      <td>1</td>\n",
       "      <td>3</td>\n",
       "      <td>0</td>\n",
       "      <td>1</td>\n",
       "      <td>0</td>\n",
       "      <td>1</td>\n",
       "      <td>1</td>\n",
       "      <td>42</td>\n",
       "      <td>49</td>\n",
       "      <td>0</td>\n",
       "      <td>51</td>\n",
       "      <td>0</td>\n",
       "      <td>17</td>\n",
       "      <td>25</td>\n",
       "    </tr>\n",
       "  </tbody>\n",
       "</table>\n",
       "</div>"
      ],
      "text/plain": [
       "  MINING_DW_SUBSCR_NO VOICE_MONTH  VOICE_MO_HOUR_SUN_CNT  \\\n",
       "0         10001264549    2017/2/1                      0   \n",
       "1         10000766476    2017/1/1                      8   \n",
       "2          3125192737    2017/1/1                      0   \n",
       "3          3116849377    2017/1/1                      0   \n",
       "4         10001140668    2017/2/1                      1   \n",
       "\n",
       "   VOICE_MO_HOUR_MON_CNT  VOICE_MO_HOUR_TUE_CNT  VOICE_MO_HOUR_WED_CNT  \\\n",
       "0                      0                      0                      0   \n",
       "1                      7                      7                      6   \n",
       "2                      2                      1                      0   \n",
       "3                      3                      8                      3   \n",
       "4                      3                      0                      1   \n",
       "\n",
       "   VOICE_MO_HOUR_THU_CNT  VOICE_MO_HOUR_FRI_CNT  VOICE_MO_HOUR_SAT_CNT  \\\n",
       "0                      0                      0                      1   \n",
       "1                      3                      4                      4   \n",
       "2                      1                      0                      0   \n",
       "3                      0                      0                      1   \n",
       "4                      0                      1                      1   \n",
       "\n",
       "   VOICE_MO_HOUR_SUN_TIME  VOICE_MO_HOUR_MON_TIME  VOICE_MO_HOUR_TUE_TIME  \\\n",
       "0                       0                       0                       0   \n",
       "1                    5929                    5451                    4597   \n",
       "2                       0                     119                     132   \n",
       "3                       0                     343                     648   \n",
       "4                      42                      49                       0   \n",
       "\n",
       "   VOICE_MO_HOUR_WED_TIME  VOICE_MO_HOUR_THU_TIME  VOICE_MO_HOUR_FRI_TIME  \\\n",
       "0                       0                       0                       0   \n",
       "1                    4515                    4164                    3625   \n",
       "2                       0                      15                       0   \n",
       "3                     601                       0                       0   \n",
       "4                      51                       0                      17   \n",
       "\n",
       "   VOICE_MO_HOUR_SAT_TIME  \n",
       "0                     317  \n",
       "1                    1316  \n",
       "2                       0  \n",
       "3                      30  \n",
       "4                      25  "
      ]
     },
     "execution_count": 23,
     "metadata": {},
     "output_type": "execute_result"
    }
   ],
   "source": [
    "df.head()"
   ]
  },
  {
   "cell_type": "code",
   "execution_count": 6,
   "metadata": {
    "collapsed": true
   },
   "outputs": [],
   "source": [
    "df['VOICE_DATE'] = pd.to_datetime(df['VOICE_DATE'])"
   ]
  },
  {
   "cell_type": "code",
   "execution_count": 8,
   "metadata": {},
   "outputs": [
    {
     "name": "stdout",
     "output_type": "stream",
     "text": [
      "month = 1 data = 8570104\n",
      "month = 2 data = 252822\n",
      "month = 3 data = 8333266\n",
      "month = 4 data = 7902643\n",
      "month = 5 data = 0\n",
      "month = 6 data = 0\n",
      "month = 7 data = 0\n",
      "month = 8 data = 0\n",
      "month = 9 data = 0\n",
      "month = 10 data = 0\n",
      "month = 11 data = 0\n",
      "month = 12 data = 0\n"
     ]
    }
   ],
   "source": [
    "for month_idx in range(1,13):\n",
    "    divide_month = df[df['VOICE_DATE'].dt.month == month_idx]\n",
    "    print(\"month = %d data = %d\" % (month_idx, len(divide_month)))"
   ]
  },
  {
   "cell_type": "code",
   "execution_count": 19,
   "metadata": {},
   "outputs": [
    {
     "name": "stdout",
     "output_type": "stream",
     "text": [
      "remove MINING_DW_SUBSCR_NO == ?\n"
     ]
    }
   ],
   "source": [
    "# remove row which the value is null in column age\n",
    "if(\"AGE\" in df.columns):\n",
    "    df = df.dropna(axis=0, subset =['AGE'])\n",
    "    print(\"remove Age = null\")\n",
    "# remove row which the value is ? in column MINING_DW_SUBSCR_NO\n",
    "if(\"MINING_DW_SUBSCR_NO\" in df.columns):\n",
    "    df = df[df[\"MINING_DW_SUBSCR_NO\"] != \"?\"]\n",
    "    print(\"remove MINING_DW_SUBSCR_NO == ?\")\n"
   ]
  },
  {
   "cell_type": "code",
   "execution_count": 20,
   "metadata": {},
   "outputs": [
    {
     "data": {
      "text/html": [
       "<div>\n",
       "<style>\n",
       "    .dataframe thead tr:only-child th {\n",
       "        text-align: right;\n",
       "    }\n",
       "\n",
       "    .dataframe thead th {\n",
       "        text-align: left;\n",
       "    }\n",
       "\n",
       "    .dataframe tbody tr th {\n",
       "        vertical-align: top;\n",
       "    }\n",
       "</style>\n",
       "<table border=\"1\" class=\"dataframe\">\n",
       "  <thead>\n",
       "    <tr style=\"text-align: right;\">\n",
       "      <th></th>\n",
       "      <th>MINING_DW_SUBSCR_NO</th>\n",
       "      <th>VOICE_MONTH</th>\n",
       "      <th>VOICE_MO_HOUR_SUN_CNT</th>\n",
       "      <th>VOICE_MO_HOUR_MON_CNT</th>\n",
       "      <th>VOICE_MO_HOUR_TUE_CNT</th>\n",
       "      <th>VOICE_MO_HOUR_WED_CNT</th>\n",
       "      <th>VOICE_MO_HOUR_THU_CNT</th>\n",
       "      <th>VOICE_MO_HOUR_FRI_CNT</th>\n",
       "      <th>VOICE_MO_HOUR_SAT_CNT</th>\n",
       "      <th>VOICE_MO_HOUR_SUN_TIME</th>\n",
       "      <th>VOICE_MO_HOUR_MON_TIME</th>\n",
       "      <th>VOICE_MO_HOUR_TUE_TIME</th>\n",
       "      <th>VOICE_MO_HOUR_WED_TIME</th>\n",
       "      <th>VOICE_MO_HOUR_THU_TIME</th>\n",
       "      <th>VOICE_MO_HOUR_FRI_TIME</th>\n",
       "      <th>VOICE_MO_HOUR_SAT_TIME</th>\n",
       "    </tr>\n",
       "  </thead>\n",
       "  <tbody>\n",
       "    <tr>\n",
       "      <th>0</th>\n",
       "      <td>10001264549</td>\n",
       "      <td>2017/2/1</td>\n",
       "      <td>0</td>\n",
       "      <td>0</td>\n",
       "      <td>0</td>\n",
       "      <td>0</td>\n",
       "      <td>0</td>\n",
       "      <td>0</td>\n",
       "      <td>1</td>\n",
       "      <td>0</td>\n",
       "      <td>0</td>\n",
       "      <td>0</td>\n",
       "      <td>0</td>\n",
       "      <td>0</td>\n",
       "      <td>0</td>\n",
       "      <td>317</td>\n",
       "    </tr>\n",
       "    <tr>\n",
       "      <th>1</th>\n",
       "      <td>10000766476</td>\n",
       "      <td>2017/1/1</td>\n",
       "      <td>8</td>\n",
       "      <td>7</td>\n",
       "      <td>7</td>\n",
       "      <td>6</td>\n",
       "      <td>3</td>\n",
       "      <td>4</td>\n",
       "      <td>4</td>\n",
       "      <td>5929</td>\n",
       "      <td>5451</td>\n",
       "      <td>4597</td>\n",
       "      <td>4515</td>\n",
       "      <td>4164</td>\n",
       "      <td>3625</td>\n",
       "      <td>1316</td>\n",
       "    </tr>\n",
       "    <tr>\n",
       "      <th>2</th>\n",
       "      <td>3125192737</td>\n",
       "      <td>2017/1/1</td>\n",
       "      <td>0</td>\n",
       "      <td>2</td>\n",
       "      <td>1</td>\n",
       "      <td>0</td>\n",
       "      <td>1</td>\n",
       "      <td>0</td>\n",
       "      <td>0</td>\n",
       "      <td>0</td>\n",
       "      <td>119</td>\n",
       "      <td>132</td>\n",
       "      <td>0</td>\n",
       "      <td>15</td>\n",
       "      <td>0</td>\n",
       "      <td>0</td>\n",
       "    </tr>\n",
       "    <tr>\n",
       "      <th>3</th>\n",
       "      <td>3116849377</td>\n",
       "      <td>2017/1/1</td>\n",
       "      <td>0</td>\n",
       "      <td>3</td>\n",
       "      <td>8</td>\n",
       "      <td>3</td>\n",
       "      <td>0</td>\n",
       "      <td>0</td>\n",
       "      <td>1</td>\n",
       "      <td>0</td>\n",
       "      <td>343</td>\n",
       "      <td>648</td>\n",
       "      <td>601</td>\n",
       "      <td>0</td>\n",
       "      <td>0</td>\n",
       "      <td>30</td>\n",
       "    </tr>\n",
       "    <tr>\n",
       "      <th>4</th>\n",
       "      <td>10001140668</td>\n",
       "      <td>2017/2/1</td>\n",
       "      <td>1</td>\n",
       "      <td>3</td>\n",
       "      <td>0</td>\n",
       "      <td>1</td>\n",
       "      <td>0</td>\n",
       "      <td>1</td>\n",
       "      <td>1</td>\n",
       "      <td>42</td>\n",
       "      <td>49</td>\n",
       "      <td>0</td>\n",
       "      <td>51</td>\n",
       "      <td>0</td>\n",
       "      <td>17</td>\n",
       "      <td>25</td>\n",
       "    </tr>\n",
       "  </tbody>\n",
       "</table>\n",
       "</div>"
      ],
      "text/plain": [
       "  MINING_DW_SUBSCR_NO VOICE_MONTH  VOICE_MO_HOUR_SUN_CNT  \\\n",
       "0         10001264549    2017/2/1                      0   \n",
       "1         10000766476    2017/1/1                      8   \n",
       "2          3125192737    2017/1/1                      0   \n",
       "3          3116849377    2017/1/1                      0   \n",
       "4         10001140668    2017/2/1                      1   \n",
       "\n",
       "   VOICE_MO_HOUR_MON_CNT  VOICE_MO_HOUR_TUE_CNT  VOICE_MO_HOUR_WED_CNT  \\\n",
       "0                      0                      0                      0   \n",
       "1                      7                      7                      6   \n",
       "2                      2                      1                      0   \n",
       "3                      3                      8                      3   \n",
       "4                      3                      0                      1   \n",
       "\n",
       "   VOICE_MO_HOUR_THU_CNT  VOICE_MO_HOUR_FRI_CNT  VOICE_MO_HOUR_SAT_CNT  \\\n",
       "0                      0                      0                      1   \n",
       "1                      3                      4                      4   \n",
       "2                      1                      0                      0   \n",
       "3                      0                      0                      1   \n",
       "4                      0                      1                      1   \n",
       "\n",
       "   VOICE_MO_HOUR_SUN_TIME  VOICE_MO_HOUR_MON_TIME  VOICE_MO_HOUR_TUE_TIME  \\\n",
       "0                       0                       0                       0   \n",
       "1                    5929                    5451                    4597   \n",
       "2                       0                     119                     132   \n",
       "3                       0                     343                     648   \n",
       "4                      42                      49                       0   \n",
       "\n",
       "   VOICE_MO_HOUR_WED_TIME  VOICE_MO_HOUR_THU_TIME  VOICE_MO_HOUR_FRI_TIME  \\\n",
       "0                       0                       0                       0   \n",
       "1                    4515                    4164                    3625   \n",
       "2                       0                      15                       0   \n",
       "3                     601                       0                       0   \n",
       "4                      51                       0                      17   \n",
       "\n",
       "   VOICE_MO_HOUR_SAT_TIME  \n",
       "0                     317  \n",
       "1                    1316  \n",
       "2                       0  \n",
       "3                      30  \n",
       "4                      25  "
      ]
     },
     "execution_count": 20,
     "metadata": {},
     "output_type": "execute_result"
    }
   ],
   "source": [
    "df.head()"
   ]
  },
  {
   "cell_type": "code",
   "execution_count": 21,
   "metadata": {
    "collapsed": true,
    "scrolled": true
   },
   "outputs": [],
   "source": [
    "# clean non numeric data\n",
    "# iteration avoid memory leak\n",
    "for col in df.columns[numeric_st_idx:]:\n",
    "    df[col] = pd.to_numeric(df[col], errors='coerce')\n",
    "    # let nan == 0\n",
    "#     print(col)\n",
    "    df[col] = df[col].fillna(0)\n",
    "    df[col] = df[col].astype(np.int64)\n",
    "# df = df.fillna(0)\n",
    "# # df[df.columns[numeric_st_idx:]] = df[df.columns[numeric_st_idx:]].apply(np.int64)\n",
    "# for col in df.columns[numeric_st_idx:]:\n",
    "#     df[col] = df[col].apply(np.int32)"
   ]
  },
  {
   "cell_type": "code",
   "execution_count": 22,
   "metadata": {},
   "outputs": [
    {
     "data": {
      "text/plain": [
       "MINING_DW_SUBSCR_NO       object\n",
       "VOICE_MONTH               object\n",
       "VOICE_MO_HOUR_SUN_CNT      int64\n",
       "VOICE_MO_HOUR_MON_CNT      int64\n",
       "VOICE_MO_HOUR_TUE_CNT      int64\n",
       "VOICE_MO_HOUR_WED_CNT      int64\n",
       "VOICE_MO_HOUR_THU_CNT      int64\n",
       "VOICE_MO_HOUR_FRI_CNT      int64\n",
       "VOICE_MO_HOUR_SAT_CNT      int64\n",
       "VOICE_MO_HOUR_SUN_TIME     int64\n",
       "VOICE_MO_HOUR_MON_TIME     int64\n",
       "VOICE_MO_HOUR_TUE_TIME     int64\n",
       "VOICE_MO_HOUR_WED_TIME     int64\n",
       "VOICE_MO_HOUR_THU_TIME     int64\n",
       "VOICE_MO_HOUR_FRI_TIME     int64\n",
       "VOICE_MO_HOUR_SAT_TIME     int64\n",
       "dtype: object"
      ]
     },
     "execution_count": 22,
     "metadata": {},
     "output_type": "execute_result"
    }
   ],
   "source": [
    "df.dtypes"
   ]
  },
  {
   "cell_type": "code",
   "execution_count": 23,
   "metadata": {},
   "outputs": [
    {
     "name": "stdout",
     "output_type": "stream",
     "text": [
      "time for output csv file: 143.23\n"
     ]
    }
   ],
   "source": [
    "# write to csv and no index\n",
    "t0 = time()\n",
    "df.to_csv(out_filename, index=False)\n",
    "print(\"time for output csv file: %.2f\" % (time()-t0))"
   ]
  },
  {
   "cell_type": "code",
   "execution_count": 9,
   "metadata": {
    "collapsed": true
   },
   "outputs": [],
   "source": [
    "del df"
   ]
  },
  {
   "cell_type": "code",
   "execution_count": null,
   "metadata": {
    "collapsed": true
   },
   "outputs": [],
   "source": []
  },
  {
   "cell_type": "code",
   "execution_count": null,
   "metadata": {
    "collapsed": true
   },
   "outputs": [],
   "source": []
  },
  {
   "cell_type": "code",
   "execution_count": null,
   "metadata": {
    "collapsed": true
   },
   "outputs": [],
   "source": []
  },
  {
   "cell_type": "code",
   "execution_count": null,
   "metadata": {
    "collapsed": true
   },
   "outputs": [],
   "source": [
    "# read revise csv file and print cost time\n",
    "t0 = time()\n",
    "df = pd.read_csv(out_filename, error_bad_lines=False)\n",
    "print(\"time for read csv: %.2f\" % (time()-t0))"
   ]
  },
  {
   "cell_type": "code",
   "execution_count": null,
   "metadata": {
    "collapsed": true,
    "scrolled": true
   },
   "outputs": [],
   "source": [
    "# show each columns type\n",
    "df.dtypes"
   ]
  }
 ],
 "metadata": {
  "kernelspec": {
   "display_name": "Python 3",
   "language": "python",
   "name": "python3"
  },
  "language_info": {
   "codemirror_mode": {
    "name": "ipython",
    "version": 3
   },
   "file_extension": ".py",
   "mimetype": "text/x-python",
   "name": "python",
   "nbconvert_exporter": "python",
   "pygments_lexer": "ipython3",
   "version": "3.6.1"
  }
 },
 "nbformat": 4,
 "nbformat_minor": 2
}
