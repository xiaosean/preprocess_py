{
 "cells": [
  {
   "cell_type": "markdown",
   "metadata": {},
   "source": [
    "# Read & Clear Data"
   ]
  },
  {
   "cell_type": "code",
   "execution_count": 43,
   "metadata": {
    "collapsed": true
   },
   "outputs": [],
   "source": [
    "import os.path\n",
    "import numpy as np\n",
    "import pandas as pd\n",
    "import feather \n",
    "import matplotlib.pyplot as plt  \n",
    "from time import time\n",
    "from mailerWithUtf8 import mail\n",
    "\n",
    "from sklearn.model_selection import train_test_split  \n",
    "from sklearn import tree  \n",
    "from sklearn.externals import joblib\n",
    "from sklearn.datasets import load_breast_cancer \n",
    "from sklearn.datasets import load_iris\n",
    "from sklearn.preprocessing import LabelEncoder\n",
    "from sklearn import preprocessing\n",
    "from sklearn.metrics import confusion_matrix\n",
    "\n",
    "\n",
    "import os"
   ]
  },
  {
   "cell_type": "code",
   "execution_count": null,
   "metadata": {
    "collapsed": true
   },
   "outputs": [],
   "source": []
  },
  {
   "cell_type": "code",
   "execution_count": 2,
   "metadata": {
    "collapsed": true
   },
   "outputs": [],
   "source": [
    "def save_dataframe(df, out_filename):\n",
    "   # write to csv and no index\n",
    "    t0 = time()\n",
    "    df.to_csv(out_filename + \".csv\", index=False, encoding='utf-8')\n",
    "#     df.to_csv(out_filename + \".csv\", encoding='utf-8')\n",
    "    print(\"time for output csv file: %.2f\" % (time()-t0))"
   ]
  },
  {
   "cell_type": "code",
   "execution_count": 3,
   "metadata": {},
   "outputs": [
    {
     "name": "stdout",
     "output_type": "stream",
     "text": [
      "load feather %s seconds 2.2551984786987305\n"
     ]
    }
   ],
   "source": [
    "start_time = time()\n",
    "path = \"C:/Users/VIPLAB/Desktop/preprocess_py/marketing_analyze/\"\n",
    "# filename = '0713_april_marketing_anylze_full_table_group12_max_min_train.feather' \n",
    "filename = '0713_april_marketing_anylze_full_table_group12_select_max_min_train.feather' \n",
    "\n",
    "train_df = feather.read_dataframe(path + filename)\n",
    "# df = pd.read_csv(path + filename, error_bad_lines=False, nrows = 10)\n",
    "\n",
    "print('load feather %s seconds', format(time() - start_time))\n"
   ]
  },
  {
   "cell_type": "code",
   "execution_count": 4,
   "metadata": {},
   "outputs": [
    {
     "name": "stdout",
     "output_type": "stream",
     "text": [
      "load feather %s seconds 2.8278791904449463\n"
     ]
    }
   ],
   "source": [
    "# filename = '0713_april_marketing_anylze_full_table_group12_max_min_test.feather' \n",
    "filename = '0713_april_marketing_anylze_full_table_group12_select_max_min_test.feather' \n",
    "# filename = '0713_april_marketing_anylze_full_table_group12_max_min.feather' \n",
    "\n",
    "test_df = feather.read_dataframe(path + filename)\n",
    "print('load feather %s seconds', format(time() - start_time))"
   ]
  },
  {
   "cell_type": "code",
   "execution_count": 5,
   "metadata": {
    "collapsed": true
   },
   "outputs": [],
   "source": [
    "CLASSIFIER = \"DECISION\""
   ]
  },
  {
   "cell_type": "code",
   "execution_count": 6,
   "metadata": {
    "collapsed": true
   },
   "outputs": [],
   "source": [
    "CURRENT_MODE = \"SELECT_MODE\""
   ]
  },
  {
   "cell_type": "code",
   "execution_count": 7,
   "metadata": {
    "collapsed": true
   },
   "outputs": [],
   "source": [
    "groups = train_df[\"Groups\"].unique()"
   ]
  },
  {
   "cell_type": "code",
   "execution_count": 8,
   "metadata": {
    "collapsed": true
   },
   "outputs": [],
   "source": [
    "groups_idx = 10"
   ]
  },
  {
   "cell_type": "code",
   "execution_count": 11,
   "metadata": {
    "collapsed": true
   },
   "outputs": [],
   "source": [
    "target_groups = groups[groups_idx]"
   ]
  },
  {
   "cell_type": "code",
   "execution_count": 12,
   "metadata": {},
   "outputs": [],
   "source": [
    "out_path = \"clf_model/\" + target_groups + \"/\" "
   ]
  },
  {
   "cell_type": "code",
   "execution_count": 13,
   "metadata": {
    "collapsed": true
   },
   "outputs": [],
   "source": [
    "out_filename = CLASSIFIER + \"_\" + CURRENT_MODE + '_'"
   ]
  },
  {
   "cell_type": "code",
   "execution_count": 14,
   "metadata": {
    "collapsed": true
   },
   "outputs": [],
   "source": [
    "if not os.path.exists(out_path):\n",
    "    os.makedirs(out_path)"
   ]
  },
  {
   "cell_type": "markdown",
   "metadata": {},
   "source": [
    "# for each group build tree"
   ]
  },
  {
   "cell_type": "code",
   "execution_count": 15,
   "metadata": {
    "collapsed": true
   },
   "outputs": [],
   "source": [
    "map_target_groups = []\n",
    "for group in groups:\n",
    "    if(group == target_groups):\n",
    "        map_target_groups.append(group)\n",
    "    else:\n",
    "        map_target_groups.append(\"None\")\n",
    "d = dict(zip(groups, map_target_groups))\n",
    "train_df[\"Groups\"] = train_df[\"Groups\"].map(d)\n",
    "test_df[\"Groups\"] = test_df[\"Groups\"].map(d)"
   ]
  },
  {
   "cell_type": "code",
   "execution_count": 16,
   "metadata": {},
   "outputs": [
    {
     "data": {
      "text/html": [
       "<div>\n",
       "<style>\n",
       "    .dataframe thead tr:only-child th {\n",
       "        text-align: right;\n",
       "    }\n",
       "\n",
       "    .dataframe thead th {\n",
       "        text-align: left;\n",
       "    }\n",
       "\n",
       "    .dataframe tbody tr th {\n",
       "        vertical-align: top;\n",
       "    }\n",
       "</style>\n",
       "<table border=\"1\" class=\"dataframe\">\n",
       "  <thead>\n",
       "    <tr style=\"text-align: right;\">\n",
       "      <th></th>\n",
       "      <th>SRV_TYPE_DESC</th>\n",
       "      <th>GENDER_CODE</th>\n",
       "      <th>AGE</th>\n",
       "      <th>TENURE_SCV</th>\n",
       "      <th>BILL_CITY_NAME</th>\n",
       "      <th>DORMANT_MONTH_CNT_MKT</th>\n",
       "      <th>IMEI_MFG_NAME</th>\n",
       "      <th>IMEI_BAND</th>\n",
       "      <th>CHURN_CLM_IND</th>\n",
       "      <th>PTY_NP_IN_IND</th>\n",
       "      <th>...</th>\n",
       "      <th>MOST_MT_DUR</th>\n",
       "      <th>CUST_TYPE</th>\n",
       "      <th>FLAT_RATE_4G_IND</th>\n",
       "      <th>FLAT_RATE_3G_IND</th>\n",
       "      <th>VOICE_MONTHLY_FEE</th>\n",
       "      <th>DATA_MONTHLY_FEE</th>\n",
       "      <th>TOTAL_MONTHLY_FEE</th>\n",
       "      <th>DATA_RATING_USAGE_MB</th>\n",
       "      <th>HS_CHG_CNT</th>\n",
       "      <th>AVG_HS_USE_MONTH</th>\n",
       "    </tr>\n",
       "    <tr>\n",
       "      <th>Groups</th>\n",
       "      <th></th>\n",
       "      <th></th>\n",
       "      <th></th>\n",
       "      <th></th>\n",
       "      <th></th>\n",
       "      <th></th>\n",
       "      <th></th>\n",
       "      <th></th>\n",
       "      <th></th>\n",
       "      <th></th>\n",
       "      <th></th>\n",
       "      <th></th>\n",
       "      <th></th>\n",
       "      <th></th>\n",
       "      <th></th>\n",
       "      <th></th>\n",
       "      <th></th>\n",
       "      <th></th>\n",
       "      <th></th>\n",
       "      <th></th>\n",
       "      <th></th>\n",
       "    </tr>\n",
       "  </thead>\n",
       "  <tbody>\n",
       "    <tr>\n",
       "      <th>News</th>\n",
       "      <td>45705</td>\n",
       "      <td>45705</td>\n",
       "      <td>45705</td>\n",
       "      <td>45705</td>\n",
       "      <td>45705</td>\n",
       "      <td>45705</td>\n",
       "      <td>45705</td>\n",
       "      <td>45705</td>\n",
       "      <td>45705</td>\n",
       "      <td>45705</td>\n",
       "      <td>...</td>\n",
       "      <td>45705</td>\n",
       "      <td>45705</td>\n",
       "      <td>45705</td>\n",
       "      <td>45705</td>\n",
       "      <td>45705</td>\n",
       "      <td>45705</td>\n",
       "      <td>45705</td>\n",
       "      <td>45705</td>\n",
       "      <td>45705</td>\n",
       "      <td>45705</td>\n",
       "    </tr>\n",
       "    <tr>\n",
       "      <th>None</th>\n",
       "      <td>1461571</td>\n",
       "      <td>1461571</td>\n",
       "      <td>1461571</td>\n",
       "      <td>1461571</td>\n",
       "      <td>1461571</td>\n",
       "      <td>1461571</td>\n",
       "      <td>1461571</td>\n",
       "      <td>1461571</td>\n",
       "      <td>1461571</td>\n",
       "      <td>1461571</td>\n",
       "      <td>...</td>\n",
       "      <td>1461571</td>\n",
       "      <td>1461571</td>\n",
       "      <td>1461571</td>\n",
       "      <td>1461571</td>\n",
       "      <td>1461571</td>\n",
       "      <td>1461571</td>\n",
       "      <td>1461571</td>\n",
       "      <td>1461571</td>\n",
       "      <td>1461571</td>\n",
       "      <td>1461571</td>\n",
       "    </tr>\n",
       "  </tbody>\n",
       "</table>\n",
       "<p>2 rows × 70 columns</p>\n",
       "</div>"
      ],
      "text/plain": [
       "        SRV_TYPE_DESC  GENDER_CODE      AGE  TENURE_SCV  BILL_CITY_NAME  \\\n",
       "Groups                                                                    \n",
       "News            45705        45705    45705       45705           45705   \n",
       "None          1461571      1461571  1461571     1461571         1461571   \n",
       "\n",
       "        DORMANT_MONTH_CNT_MKT  IMEI_MFG_NAME  IMEI_BAND  CHURN_CLM_IND  \\\n",
       "Groups                                                                   \n",
       "News                    45705          45705      45705          45705   \n",
       "None                  1461571        1461571    1461571        1461571   \n",
       "\n",
       "        PTY_NP_IN_IND        ...         MOST_MT_DUR  CUST_TYPE  \\\n",
       "Groups                       ...                                  \n",
       "News            45705        ...               45705      45705   \n",
       "None          1461571        ...             1461571    1461571   \n",
       "\n",
       "        FLAT_RATE_4G_IND  FLAT_RATE_3G_IND  VOICE_MONTHLY_FEE  \\\n",
       "Groups                                                          \n",
       "News               45705             45705              45705   \n",
       "None             1461571           1461571            1461571   \n",
       "\n",
       "        DATA_MONTHLY_FEE  TOTAL_MONTHLY_FEE  DATA_RATING_USAGE_MB  HS_CHG_CNT  \\\n",
       "Groups                                                                          \n",
       "News               45705              45705                 45705       45705   \n",
       "None             1461571            1461571               1461571     1461571   \n",
       "\n",
       "        AVG_HS_USE_MONTH  \n",
       "Groups                    \n",
       "News               45705  \n",
       "None             1461571  \n",
       "\n",
       "[2 rows x 70 columns]"
      ]
     },
     "execution_count": 16,
     "metadata": {},
     "output_type": "execute_result"
    }
   ],
   "source": [
    "train_df.groupby(\"Groups\").count()"
   ]
  },
  {
   "cell_type": "code",
   "execution_count": 17,
   "metadata": {
    "collapsed": true
   },
   "outputs": [],
   "source": [
    "# test_class_count = test_df.groupby(\"Groups\").count()[test_df.columns[0:1]].values.flatten()"
   ]
  },
  {
   "cell_type": "code",
   "execution_count": 18,
   "metadata": {
    "collapsed": true
   },
   "outputs": [],
   "source": [
    "train_x, train_y = train_df.iloc[:, 0:-1].values, train_df.iloc[:, -1].values"
   ]
  },
  {
   "cell_type": "code",
   "execution_count": 19,
   "metadata": {
    "collapsed": true
   },
   "outputs": [],
   "source": [
    "test_x, test_y = test_df.iloc[:, 0:-1].values, test_df.iloc[:, -1].values"
   ]
  },
  {
   "cell_type": "markdown",
   "metadata": {},
   "source": [
    "# convert y to numeric"
   ]
  },
  {
   "cell_type": "code",
   "execution_count": 20,
   "metadata": {
    "collapsed": true
   },
   "outputs": [],
   "source": [
    "le = preprocessing.LabelEncoder()\n",
    "le.fit(train_df[\"Groups\"].unique())\n",
    "train_numeric_y = le.transform(train_y)\n",
    "test_numeric_y = le.transform(test_y) "
   ]
  },
  {
   "cell_type": "code",
   "execution_count": 21,
   "metadata": {
    "collapsed": true
   },
   "outputs": [],
   "source": [
    "# train_x = train_x.reshape(train_x.shape[0], -1)   # normalize"
   ]
  },
  {
   "cell_type": "code",
   "execution_count": 22,
   "metadata": {
    "collapsed": true
   },
   "outputs": [],
   "source": [
    "# test_x = test_x.reshape(test_x.shape[0], -1)   # normalize"
   ]
  },
  {
   "cell_type": "code",
   "execution_count": 23,
   "metadata": {
    "collapsed": true
   },
   "outputs": [],
   "source": [
    "# # encode class values as integers\n",
    "# encoder = LabelEncoder()\n",
    "# encoder.fit(train_y)\n",
    "# encoded_Y = encoder.transform(train_y)\n",
    "# # convert integers to dummy variables (i.e. one hot encoded)\n",
    "# train_y = np_utils.to_categorical(encoded_Y)\n"
   ]
  },
  {
   "cell_type": "code",
   "execution_count": 24,
   "metadata": {
    "collapsed": true
   },
   "outputs": [],
   "source": [
    "# encoded_Y = encoder.transform(test_y)\n",
    "# # convert integers to dummy variables (i.e. one hot encoded)\n",
    "# test_y = np_utils.to_categorical(encoded_Y)"
   ]
  },
  {
   "cell_type": "code",
   "execution_count": 25,
   "metadata": {
    "collapsed": true,
    "scrolled": true
   },
   "outputs": [],
   "source": [
    "# get y unique name\n",
    "# encoder.classes_"
   ]
  },
  {
   "cell_type": "markdown",
   "metadata": {},
   "source": [
    "# build Classifier"
   ]
  },
  {
   "cell_type": "code",
   "execution_count": 26,
   "metadata": {
    "collapsed": true
   },
   "outputs": [],
   "source": [
    "clf = tree.DecisionTreeClassifier(random_state=0,\n",
    "                              max_features = \"sqrt\",\n",
    "                             )  \n"
   ]
  },
  {
   "cell_type": "code",
   "execution_count": 27,
   "metadata": {},
   "outputs": [
    {
     "data": {
      "text/plain": [
       "DecisionTreeClassifier(class_weight=None, criterion='gini', max_depth=None,\n",
       "            max_features='sqrt', max_leaf_nodes=None,\n",
       "            min_impurity_split=1e-07, min_samples_leaf=1,\n",
       "            min_samples_split=2, min_weight_fraction_leaf=0.0,\n",
       "            presort=False, random_state=0, splitter='best')"
      ]
     },
     "execution_count": 27,
     "metadata": {},
     "output_type": "execute_result"
    }
   ],
   "source": [
    "start_time = time()\n",
    "clf.fit(train_x, train_numeric_y)  \n",
    "\n",
    "\n"
   ]
  },
  {
   "cell_type": "code",
   "execution_count": 1088,
   "metadata": {
    "collapsed": true
   },
   "outputs": [],
   "source": []
  },
  {
   "cell_type": "markdown",
   "metadata": {},
   "source": [
    "#  saving classifier"
   ]
  },
  {
   "cell_type": "code",
   "execution_count": 1089,
   "metadata": {},
   "outputs": [
    {
     "data": {
      "text/plain": [
       "['clf_model/News/DECISION_SELECT_MODE_CLF.pkl']"
      ]
     },
     "execution_count": 1089,
     "metadata": {},
     "output_type": "execute_result"
    }
   ],
   "source": [
    "joblib.dump(clf, out_path + out_filename + 'CLF.pkl') \n",
    "# clf = joblib.load('filename.pkl') \n"
   ]
  },
  {
   "cell_type": "code",
   "execution_count": 28,
   "metadata": {},
   "outputs": [
    {
     "name": "stdout",
     "output_type": "stream",
     "text": [
      "Accuracy on training set: 1.000000\n",
      "Accuracy on test set: 0.935561\n",
      "fit time 24.575088024139404 seconds\n",
      "\n"
     ]
    }
   ],
   "source": [
    "clf_info = str((\"Accuracy on training set: %f\" % clf.score(train_x, train_numeric_y))) + '\\n'\n",
    "clf_info += str((\"Accuracy on test set: %f\" % clf.score(test_x, test_numeric_y))) + '\\n'\n",
    "clf_info += str(('fit time %s seconds' % format(time() - start_time))) + '\\n'\n",
    "print(clf_info)"
   ]
  },
  {
   "cell_type": "code",
   "execution_count": 45,
   "metadata": {},
   "outputs": [],
   "source": [
    "predict_y = clf.predict(test_x)"
   ]
  },
  {
   "cell_type": "code",
   "execution_count": 46,
   "metadata": {},
   "outputs": [
    {
     "data": {
      "text/plain": [
       "array([1, 1, 1, ..., 1, 1, 1], dtype=int64)"
      ]
     },
     "execution_count": 46,
     "metadata": {},
     "output_type": "execute_result"
    }
   ],
   "source": [
    "predict_y"
   ]
  },
  {
   "cell_type": "code",
   "execution_count": 30,
   "metadata": {},
   "outputs": [
    {
     "data": {
      "text/plain": [
       "array([0, 1, 1, ..., 1, 1, 1], dtype=int64)"
      ]
     },
     "execution_count": 30,
     "metadata": {},
     "output_type": "execute_result"
    }
   ],
   "source": [
    "test_numeric_y"
   ]
  },
  {
   "cell_type": "markdown",
   "metadata": {},
   "source": [
    "# get feature importances"
   ]
  },
  {
   "cell_type": "code",
   "execution_count": 31,
   "metadata": {
    "collapsed": true,
    "scrolled": true
   },
   "outputs": [],
   "source": [
    "important_dict = dict(zip(train_df.columns[:-1], clf.feature_importances_))"
   ]
  },
  {
   "cell_type": "code",
   "execution_count": 32,
   "metadata": {},
   "outputs": [
    {
     "data": {
      "text/plain": [
       "{'AGE': 0.027963329861502684,\n",
       " 'AGENCY_AMT': 0.0084534860758931057,\n",
       " 'AVG_HS_USE_MONTH': 0.020012733030645151,\n",
       " 'BILL_CITY_NAME': 0.018469504560103361,\n",
       " 'CHURN_CLM_IND': 0.0050016044175015721,\n",
       " 'CURR_PROM_COMMIT_MONTHS': 0.0049150535554468066,\n",
       " 'CUST_TYPE': 0.0006348962272323533,\n",
       " 'DATA_INV_AMT': 0.015286038485594868,\n",
       " 'DATA_MONTHLY_FEE': 0.0059022605218159311,\n",
       " 'DATA_RATING_USAGE_MB': 0.034675138624943633,\n",
       " 'DATA_RC_AMT': 0.010214166548778859,\n",
       " 'DORMANT_MONTH_CNT_MKT': 0.0,\n",
       " 'FLAT_RATE_3G_IND': 0.0013072159441861362,\n",
       " 'FLAT_RATE_4G_IND': 0.0021204645394658547,\n",
       " 'GENDER_CODE': 0.0017216472538711931,\n",
       " 'GOOGLE_PLAY_IND': 0.001461630916164949,\n",
       " 'HS_CHG_CNT': 0.010823932359372393,\n",
       " 'IDD_AMT': 0.0015876431181707023,\n",
       " 'IMEI_BAND': 0.0031955783244303161,\n",
       " 'IMEI_MFG_NAME': 0.017667555081264445,\n",
       " 'INT_ROAM_AMT': 0.00096994554669673459,\n",
       " 'L1M_NET_INV_AMT': 0.022206356160931886,\n",
       " 'L1M_PROM_COMMIT_MONTHS': 0.0042444414431272934,\n",
       " 'L2M_NET_INV_AMT': 0.023575939866926375,\n",
       " 'L3M_AVG_NET_INV_AMT': 0.023620442954530599,\n",
       " 'L3M_NET_INV_AMT': 0.0231174598752357,\n",
       " 'MDS_CURR_RENEW_CNT': 0.0089612922203195933,\n",
       " 'MOC_CHM_DUR': 0.019742838609746023,\n",
       " 'MOC_FET_DUR': 0.019553179158314116,\n",
       " 'MOC_OTH_DUR': 0.0084095667234341531,\n",
       " 'MOC_PSTN_DUR': 0.018298273147742232,\n",
       " 'MOC_TWM_DUR': 0.018132694411128657,\n",
       " 'MOST_MO_DUR': 0.024746318147141254,\n",
       " 'MOST_MO_OPERATOR': 0.0074267815393874309,\n",
       " 'MOST_MT_DUR': 0.024841486868821504,\n",
       " 'MOST_MT_OPERATOR': 0.0077964750655872836,\n",
       " 'MO_OFFNET_CNT': 0.017328796768944103,\n",
       " 'MO_OFFNET_DUR': 0.021139392478416209,\n",
       " 'MO_ONNET_CNT': 0.016169678605173446,\n",
       " 'MO_ONNET_DUR': 0.018911437361134403,\n",
       " 'MO_TTL_COUNT': 0.019932475750257365,\n",
       " 'MO_TTL_DURATION': 0.0247685654143299,\n",
       " 'MTC_CHM_DUR': 0.021292731832429777,\n",
       " 'MTC_FET_DUR': 0.020167942271071933,\n",
       " 'MTC_PSTN_DUR': 0.017080604051889124,\n",
       " 'MTC_TWM_DUR': 0.018453549868878788,\n",
       " 'MT_OFFNET_CNT': 0.017193156157606696,\n",
       " 'MT_OFFNET_DUR': 0.022887317997769871,\n",
       " 'MT_ONNET_CNT': 0.016246619381396394,\n",
       " 'MT_ONNET_DUR': 0.021449844942058923,\n",
       " 'MT_PSTN_CNT': 0.014227360698527609,\n",
       " 'MT_PSTN_DUR': 0.017393084518102085,\n",
       " 'MT_STM_AMT': 0.023121640930431189,\n",
       " 'MT_TTL_COUNT': 0.020206807932365612,\n",
       " 'MT_TTL_DURATION': 0.023017315739108288,\n",
       " 'NET_INV_AMT': 0.021987099775637991,\n",
       " 'OFFNETM_AMT': 0.0046246087469999997,\n",
       " 'ONNET_AMT': 0.0039658124180183101,\n",
       " 'PROM_CURR_EXP_MONTH_CNT': 0.022454082376143669,\n",
       " 'PSTN_AMT': 0.018124888110518669,\n",
       " 'PSTN_CNT': 0.014701501564144558,\n",
       " 'PSTN_DUR': 0.018306437275149287,\n",
       " 'PTY_NP_IN_IND': 0.0039950640393561334,\n",
       " 'PTY_NP_OUT_IND': 0.0035790870295742032,\n",
       " 'SRV_TYPE_DESC': 0.0012942821874094683,\n",
       " 'TENURE_SCV': 0.031537563728368773,\n",
       " 'TOTAL_MONTHLY_FEE': 0.0069953327410273436,\n",
       " 'VOICE_INV_AMT': 0.018314969063190575,\n",
       " 'VOICE_MONTHLY_FEE': 0.0027412825806857524,\n",
       " 'VOICE_RC_AMT': 0.0093322944784282671}"
      ]
     },
     "execution_count": 32,
     "metadata": {},
     "output_type": "execute_result"
    }
   ],
   "source": [
    "important_dict"
   ]
  },
  {
   "cell_type": "code",
   "execution_count": 33,
   "metadata": {
    "collapsed": true
   },
   "outputs": [],
   "source": [
    "important_list = sorted(important_dict.items(), key=lambda x: x[1])"
   ]
  },
  {
   "cell_type": "code",
   "execution_count": 34,
   "metadata": {
    "collapsed": true
   },
   "outputs": [],
   "source": [
    "important_list.reverse()"
   ]
  },
  {
   "cell_type": "code",
   "execution_count": 35,
   "metadata": {},
   "outputs": [
    {
     "name": "stdout",
     "output_type": "stream",
     "text": [
      "('DATA_RATING_USAGE_MB', 0.034675138624943633)\n",
      "('TENURE_SCV', 0.031537563728368773)\n",
      "('AGE', 0.027963329861502684)\n",
      "('MOST_MT_DUR', 0.024841486868821504)\n",
      "('MO_TTL_DURATION', 0.0247685654143299)\n",
      "('MOST_MO_DUR', 0.024746318147141254)\n",
      "('L3M_AVG_NET_INV_AMT', 0.023620442954530599)\n",
      "('L2M_NET_INV_AMT', 0.023575939866926375)\n",
      "('MT_STM_AMT', 0.023121640930431189)\n",
      "('L3M_NET_INV_AMT', 0.0231174598752357)\n",
      "('MT_TTL_DURATION', 0.023017315739108288)\n",
      "('MT_OFFNET_DUR', 0.022887317997769871)\n",
      "('PROM_CURR_EXP_MONTH_CNT', 0.022454082376143669)\n",
      "('L1M_NET_INV_AMT', 0.022206356160931886)\n",
      "('NET_INV_AMT', 0.021987099775637991)\n",
      "('MT_ONNET_DUR', 0.021449844942058923)\n",
      "('MTC_CHM_DUR', 0.021292731832429777)\n",
      "('MO_OFFNET_DUR', 0.021139392478416209)\n",
      "('MT_TTL_COUNT', 0.020206807932365612)\n",
      "('MTC_FET_DUR', 0.020167942271071933)\n",
      "('AVG_HS_USE_MONTH', 0.020012733030645151)\n",
      "('MO_TTL_COUNT', 0.019932475750257365)\n",
      "('MOC_CHM_DUR', 0.019742838609746023)\n",
      "('MOC_FET_DUR', 0.019553179158314116)\n",
      "('MO_ONNET_DUR', 0.018911437361134403)\n",
      "('BILL_CITY_NAME', 0.018469504560103361)\n",
      "('MTC_TWM_DUR', 0.018453549868878788)\n",
      "('VOICE_INV_AMT', 0.018314969063190575)\n",
      "('PSTN_DUR', 0.018306437275149287)\n",
      "('MOC_PSTN_DUR', 0.018298273147742232)\n",
      "('MOC_TWM_DUR', 0.018132694411128657)\n",
      "('PSTN_AMT', 0.018124888110518669)\n",
      "('IMEI_MFG_NAME', 0.017667555081264445)\n",
      "('MT_PSTN_DUR', 0.017393084518102085)\n",
      "('MO_OFFNET_CNT', 0.017328796768944103)\n",
      "('MT_OFFNET_CNT', 0.017193156157606696)\n",
      "('MTC_PSTN_DUR', 0.017080604051889124)\n",
      "('MT_ONNET_CNT', 0.016246619381396394)\n",
      "('MO_ONNET_CNT', 0.016169678605173446)\n",
      "('DATA_INV_AMT', 0.015286038485594868)\n",
      "('PSTN_CNT', 0.014701501564144558)\n",
      "('MT_PSTN_CNT', 0.014227360698527609)\n",
      "('HS_CHG_CNT', 0.010823932359372393)\n",
      "('DATA_RC_AMT', 0.010214166548778859)\n",
      "('VOICE_RC_AMT', 0.0093322944784282671)\n",
      "('MDS_CURR_RENEW_CNT', 0.0089612922203195933)\n",
      "('AGENCY_AMT', 0.0084534860758931057)\n",
      "('MOC_OTH_DUR', 0.0084095667234341531)\n",
      "('MOST_MT_OPERATOR', 0.0077964750655872836)\n",
      "('MOST_MO_OPERATOR', 0.0074267815393874309)\n",
      "('TOTAL_MONTHLY_FEE', 0.0069953327410273436)\n",
      "('DATA_MONTHLY_FEE', 0.0059022605218159311)\n",
      "('CHURN_CLM_IND', 0.0050016044175015721)\n",
      "('CURR_PROM_COMMIT_MONTHS', 0.0049150535554468066)\n",
      "('OFFNETM_AMT', 0.0046246087469999997)\n",
      "('L1M_PROM_COMMIT_MONTHS', 0.0042444414431272934)\n",
      "('PTY_NP_IN_IND', 0.0039950640393561334)\n",
      "('ONNET_AMT', 0.0039658124180183101)\n",
      "('PTY_NP_OUT_IND', 0.0035790870295742032)\n",
      "('IMEI_BAND', 0.0031955783244303161)\n",
      "('VOICE_MONTHLY_FEE', 0.0027412825806857524)\n",
      "('FLAT_RATE_4G_IND', 0.0021204645394658547)\n",
      "('GENDER_CODE', 0.0017216472538711931)\n",
      "('IDD_AMT', 0.0015876431181707023)\n",
      "('GOOGLE_PLAY_IND', 0.001461630916164949)\n",
      "('FLAT_RATE_3G_IND', 0.0013072159441861362)\n",
      "('SRV_TYPE_DESC', 0.0012942821874094683)\n",
      "('INT_ROAM_AMT', 0.00096994554669673459)\n",
      "('CUST_TYPE', 0.0006348962272323533)\n",
      "('DORMANT_MONTH_CNT_MKT', 0.0)\n"
     ]
    }
   ],
   "source": [
    "clf_info += '\\n\\nFeature Importances\\n===================\\n'\n",
    "for row in important_list:\n",
    "    clf_info += str(row) + \"\\n\"\n",
    "    print(str(row))"
   ]
  },
  {
   "cell_type": "code",
   "execution_count": 36,
   "metadata": {
    "collapsed": true
   },
   "outputs": [],
   "source": [
    "feature_df = pd.DataFrame(important_list, columns = [\"COLUMN\", \"IMPORTANT_VALUE\"])"
   ]
  },
  {
   "cell_type": "code",
   "execution_count": 37,
   "metadata": {},
   "outputs": [
    {
     "name": "stdout",
     "output_type": "stream",
     "text": [
      "time for output csv file: 0.00\n"
     ]
    }
   ],
   "source": [
    "t0 = time()\n",
    "feature_df.to_csv(out_path + out_filename + \"feature_important_descent.csv\", index=False)\n",
    "print(\"time for output csv file: %.2f\" % (time()-t0))"
   ]
  },
  {
   "cell_type": "code",
   "execution_count": 38,
   "metadata": {
    "collapsed": true
   },
   "outputs": [],
   "source": [
    "cpy_dict = dict(important_list)\n",
    "cpy_dict[\"Groups\"] = target_groups\n",
    "feature_df = pd.DataFrame(cpy_dict, index = [0])"
   ]
  },
  {
   "cell_type": "code",
   "execution_count": 39,
   "metadata": {},
   "outputs": [
    {
     "name": "stdout",
     "output_type": "stream",
     "text": [
      "time for output csv file: 0.00\n"
     ]
    }
   ],
   "source": [
    "t0 = time()\n",
    "feature_df.to_csv(out_path + out_filename + \"feature_important_one_row.csv\", index=False)\n",
    "print(\"time for output csv file: %.2f\" % (time()-t0))"
   ]
  },
  {
   "cell_type": "code",
   "execution_count": null,
   "metadata": {
    "collapsed": true
   },
   "outputs": [],
   "source": []
  },
  {
   "cell_type": "code",
   "execution_count": 40,
   "metadata": {},
   "outputs": [
    {
     "data": {
      "text/plain": [
       "2"
      ]
     },
     "execution_count": 40,
     "metadata": {},
     "output_type": "execute_result"
    }
   ],
   "source": [
    "clf.n_classes_"
   ]
  },
  {
   "cell_type": "code",
   "execution_count": 41,
   "metadata": {},
   "outputs": [
    {
     "data": {
      "text/plain": [
       "1"
      ]
     },
     "execution_count": 41,
     "metadata": {},
     "output_type": "execute_result"
    }
   ],
   "source": [
    "clf.n_outputs_"
   ]
  },
  {
   "cell_type": "code",
   "execution_count": 944,
   "metadata": {},
   "outputs": [
    {
     "data": {
      "image/png": "[encoded data removed]",
      "text/plain": [
       "<matplotlib.figure.Figure at 0x2a790525550>"
      ]
     },
     "metadata": {},
     "output_type": "display_data"
    }
   ],
   "source": [
    "plt.plot(clf.feature_importances_, 'o')  \n",
    "# for i in \n",
    "plt.xticks(range(train_x.shape[1]), train_df.columns[:-1], rotation=90)  \n",
    "plt.ylim(0, 1)  \n",
    "plt.show()  "
   ]
  },
  {
   "cell_type": "code",
   "execution_count": 47,
   "metadata": {},
   "outputs": [
    {
     "data": {
      "text/plain": [
       "array([[   631,  10838],\n",
       "       [ 13444, 351906]])"
      ]
     },
     "execution_count": 47,
     "metadata": {},
     "output_type": "execute_result"
    }
   ],
   "source": [
    "cnf_matrix = confusion_matrix(test_numeric_y, predict_y )\n",
    "cnf_matrix"
   ]
  },
  {
   "cell_type": "code",
   "execution_count": 48,
   "metadata": {},
   "outputs": [
    {
     "name": "stdout",
     "output_type": "stream",
     "text": [
      "News\n",
      "class = News count = [631 / 11469]\n",
      "predict News accurancy = 0.0550178742698\n",
      "\n",
      "None\n",
      "class = None count = [351906 / 365350]\n",
      "predict None accurancy = 0.963202408649\n",
      "\n"
     ]
    }
   ],
   "source": [
    "for idx, row in enumerate(cnf_matrix):\n",
    "#     success predict\n",
    "#     print(row[idx])\n",
    "    current_group = str(le.inverse_transform(idx))\n",
    "    print(current_group)\n",
    "\n",
    "    idx_count_in_group = len(test_df[test_df[\"Groups\"] == current_group])\n",
    "    clf_info +=  \"\\n\\n\" + str(\"class = %s count = [%s / %s]\" % (current_group, row[idx], idx_count_in_group))\n",
    "    clf_info +=  \"\\n\\n\" + str(\"predict %s accurancy = %s\" % (current_group, row[idx] / idx_count_in_group))\n",
    "    print(\"class = %s count = [%s / %s]\" % (current_group,row[idx],str(idx_count_in_group)))\n",
    "    print(\"predict %s accurancy = %s\" % (current_group, row[idx] / idx_count_in_group))\n",
    "    print()"
   ]
  },
  {
   "cell_type": "code",
   "execution_count": 1104,
   "metadata": {},
   "outputs": [
    {
     "data": {
      "text/plain": [
       "True"
      ]
     },
     "execution_count": 1104,
     "metadata": {},
     "output_type": "execute_result"
    }
   ],
   "source": [
    "md_info = clf_info.replace(\"\\n\", \"<br>\")\n",
    "with open(out_path + out_filename + 'readme.md', 'w+') as f:\n",
    "     f.write(md_info)\n",
    "f.closed"
   ]
  },
  {
   "cell_type": "code",
   "execution_count": null,
   "metadata": {
    "collapsed": true
   },
   "outputs": [],
   "source": []
  },
  {
   "cell_type": "code",
   "execution_count": 945,
   "metadata": {},
   "outputs": [
    {
     "name": "stdout",
     "output_type": "stream",
     "text": [
      "Start Send Mail\n",
      "User Email : a - DONE \n",
      "User Email : a - DONE \n",
      "User Email : 2 - DONE \n",
      "User Email : 6 - DONE \n",
      "User Email : 3 - DONE \n",
      "User Email : 6 - DONE \n",
      "User Email : 5 - DONE \n",
      "User Email : 5 - DONE \n",
      "User Email : 6 - DONE \n",
      "User Email : 6 - DONE \n",
      "User Email : @ - DONE \n",
      "User Email : g - DONE \n",
      "User Email : m - DONE \n",
      "User Email : a - DONE \n",
      "User Email : i - DONE \n",
      "User Email : l - DONE \n",
      "User Email : . - DONE \n",
      "User Email : c - DONE \n",
      "User Email : o - DONE \n",
      "User Email : m - DONE \n",
      "Finish Send Mail\n"
     ]
    }
   ],
   "source": [
    "test=mail()\n",
    "test.main(\"decision tree finished\", \"spend time = \" + str(time() - start_time))"
   ]
  },
  {
   "cell_type": "code",
   "execution_count": null,
   "metadata": {
    "collapsed": true
   },
   "outputs": [],
   "source": []
  }
 ],
 "metadata": {
  "kernelspec": {
   "display_name": "Python 3",
   "language": "python",
   "name": "python3"
  },
  "language_info": {
   "codemirror_mode": {
    "name": "ipython",
    "version": 3
   },
   "file_extension": ".py",
   "mimetype": "text/x-python",
   "name": "python",
   "nbconvert_exporter": "python",
   "pygments_lexer": "ipython3",
   "version": "3.5.3"
  }
 },
 "nbformat": 4,
 "nbformat_minor": 2
}
