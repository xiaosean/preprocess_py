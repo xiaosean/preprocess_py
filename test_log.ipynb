{
 "cells": [
  {
   "cell_type": "code",
   "execution_count": 28,
   "metadata": {
    "collapsed": false
   },
   "outputs": [
    {
     "name": "stderr",
     "output_type": "stream",
     "text": [
      "[2017-10-25 05:12:25,824][MainThread:140735704040384][default:DEBUG(15)]\n",
      "[<ipython-input-28-ce073cc5443b>:<module>]:debug message\n",
      "[2017-10-25 05:12:25,833][MainThread:140735704040384][default:INFO(16)]\n",
      "[<ipython-input-28-ce073cc5443b>:<module>]:info message\n",
      "[2017-10-25 05:12:25,834][MainThread:140735704040384][default:WARNING(17)]\n",
      "[<ipython-input-28-ce073cc5443b>:<module>]:warn message\n",
      "[2017-10-25 05:12:25,836][MainThread:140735704040384][default:ERROR(18)]\n",
      "[<ipython-input-28-ce073cc5443b>:<module>]:error message\n",
      "[2017-10-25 05:12:25,838][MainThread:140735704040384][default:CRITICAL(19)]\n",
      "[<ipython-input-28-ce073cc5443b>:<module>]:critical message\n"
     ]
    }
   ],
   "source": [
    "#coding:utf-8\n",
    "# import logging\n",
    "# import logging.config\n",
    "import log_config\n",
    "\n",
    "#加载前面的标准配置\n",
    "LOGGING = log_config.LOGGING\n",
    "logging.config.dictConfig(LOGGING)\n",
    " \n",
    "#获取loggers其中的一个日志管理器\n",
    "logger = logging.getLogger(\"default\")\n",
    "# logger = logging.getLogger()\n",
    "\n",
    "#尝试写入不同消息级别的日志信息\n",
    "logger.debug(\"debug message\")\n",
    "logger.info(\"info message\")\n",
    "logger.warning(\"warn message\")\n",
    "logger.error(\"error message\")\n",
    "logger.critical(\"critical message\")"
   ]
  },
  {
   "cell_type": "code",
   "execution_count": 26,
   "metadata": {
    "collapsed": false
   },
   "outputs": [
    {
     "data": {
      "text/plain": [
       "<module 'logging' from '/Users/Xiao/anaconda3/lib/python3.6/logging/__init__.py'>"
      ]
     },
     "execution_count": 26,
     "metadata": {},
     "output_type": "execute_result"
    }
   ],
   "source": [
    "logging"
   ]
  },
  {
   "cell_type": "code",
   "execution_count": 38,
   "metadata": {
    "collapsed": false
   },
   "outputs": [],
   "source": [
    "import logging\n",
    "import os\n",
    "LOG_DIR = \"LOG\"\n",
    "if not os.path.exists(os.path.join(LOG_DIR)):\n",
    "    os.makedirs(LOG_DIR)\n",
    "log_path = os.path.join(\".\",LOG_DIR, \"logging.log\")\n",
    "logging.basicConfig(filename = log_path, filemode = \"w\", level=logging.INFO, format='[%(levelname)s] %(asctime)s - %(message)s')\n",
    "logger = logging.getLogger(\"root\")\n",
    "logger.debug(\"debug message\")\n",
    "logger.info(\"info message\")\n",
    "logger.warning(\"warn message\")\n",
    "logger.error(\"error message\")\n",
    "logger.critical(\"critical message\")"
   ]
  },
  {
   "cell_type": "code",
   "execution_count": 39,
   "metadata": {
    "collapsed": false
   },
   "outputs": [
    {
     "data": {
      "text/plain": [
       "'./LOG/logging.log'"
      ]
     },
     "execution_count": 39,
     "metadata": {},
     "output_type": "execute_result"
    }
   ],
   "source": [
    "log_path"
   ]
  },
  {
   "cell_type": "code",
   "execution_count": 43,
   "metadata": {
    "collapsed": true
   },
   "outputs": [],
   "source": [
    "# -*- encoding:utf-8 -*-\n",
    "import logging\n",
    "\n",
    "# create logger\n",
    "log_path = os.path.join(\".\",LOG_DIR, \"logging.log\")\n",
    "\n",
    "logger_name = \"test\"\n",
    "logger = logging.getLogger(logger_name)\n",
    "logger.setLevel(logging.DEBUG)\n",
    "\n",
    "# create file handler\n",
    "fh = logging.FileHandler(log_path)\n",
    "fh.setLevel(logging.WARN)\n",
    "\n",
    "# create formatter\n",
    "fmt = \"%(asctime)-15s %(levelname)s %(filename)s %(lineno)d %(process)d %(message)s\"\n",
    "datefmt = \"%a %d %b %Y %H:%M:%S\"\n",
    "formatter = logging.Formatter(fmt, datefmt)\n",
    "\n",
    "# add handler and formatter to logger\n",
    "fh.setFormatter(formatter)\n",
    "logger.addHandler(fh)\n"
   ]
  },
  {
   "cell_type": "code",
   "execution_count": 44,
   "metadata": {
    "collapsed": true
   },
   "outputs": [],
   "source": [
    "logger.debug(\"debug message\")\n",
    "logger.info(\"info message\")\n",
    "logger.warning(\"warn message\")\n",
    "logger.error(\"error message\")\n",
    "logger.critical(\"critical message\")"
   ]
  },
  {
   "cell_type": "code",
   "execution_count": null,
   "metadata": {
    "collapsed": true
   },
   "outputs": [],
   "source": []
  }
 ],
 "metadata": {
  "kernelspec": {
   "display_name": "Python 3",
   "language": "python",
   "name": "python3"
  },
  "language_info": {
   "codemirror_mode": {
    "name": "ipython",
    "version": 3
   },
   "file_extension": ".py",
   "mimetype": "text/x-python",
   "name": "python",
   "nbconvert_exporter": "python",
   "pygments_lexer": "ipython3",
   "version": "3.6.0"
  }
 },
 "nbformat": 4,
 "nbformat_minor": 2
}
