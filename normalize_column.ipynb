{
 "cells": [
  {
   "cell_type": "code",
   "execution_count": 1,
   "metadata": {
    "collapsed": true
   },
   "outputs": [],
   "source": [
    "# coding=UTF-8\n",
    "import pandas as pd\n",
    "import numpy as np\n",
    "from scipy import stats\n",
    "import math \n",
    "import os.path\n",
    "from time import time\n",
    "from os import listdir\n",
    "from os.path import isfile, join\n",
    "global x_max\n",
    "global x_min\n",
    "global x_mean\n",
    "global x_std\n"
   ]
  },
  {
   "cell_type": "code",
   "execution_count": 2,
   "metadata": {
    "collapsed": true
   },
   "outputs": [],
   "source": [
    "def log10(x):\n",
    "    if(x > 0):\n",
    "        x = math.log(x, 10)\n",
    "    return x\n"
   ]
  },
  {
   "cell_type": "code",
   "execution_count": 3,
   "metadata": {
    "collapsed": true
   },
   "outputs": [],
   "source": [
    "def max_min_normalize(x):\n",
    "    # print(x, x_max, x_min)\n",
    "    \n",
    "    if(x_max - x_min) == 0:\n",
    "        return (x - x_min)\n",
    "    return (x - x_min) / (x_max - x_min)"
   ]
  },
  {
   "cell_type": "code",
   "execution_count": 4,
   "metadata": {
    "collapsed": true
   },
   "outputs": [],
   "source": [
    "def z_normalize(x):\n",
    "    # print(x, x_mean, x_std)\n",
    "    if(x_std == 0):\n",
    "        return (x - x_mean)\n",
    "    return (x - x_mean) / x_std"
   ]
  },
  {
   "cell_type": "code",
   "execution_count": 5,
   "metadata": {
    "collapsed": true
   },
   "outputs": [],
   "source": [
    "def file_csv_list(target_path):\n",
    "    return [f for f in listdir(target_path) if isfile(join(target_path, f))]"
   ]
  },
  {
   "cell_type": "code",
   "execution_count": 6,
   "metadata": {
    "collapsed": true
   },
   "outputs": [],
   "source": [
    "def read_csv(filename):\n",
    "    # read revise csv file and print cost time\n",
    "    t0 = time()\n",
    "    df = pd.read_csv(filename, error_bad_lines=False)\n",
    "    print(\"time for read csv: %.2f\" % (time()-t0))\n",
    "    return df"
   ]
  },
  {
   "cell_type": "code",
   "execution_count": 7,
   "metadata": {
    "collapsed": true
   },
   "outputs": [],
   "source": [
    "def save_dataframe(df, out_filename):\n",
    "   # write to csv and no index\n",
    "    t0 = time()\n",
    "    df.to_csv(out_filename + \".csv\", index=False, encoding='utf-8')\n",
    "    print(\"time for output csv file: %.2f\" % (time()-t0))"
   ]
  },
  {
   "cell_type": "code",
   "execution_count": 8,
   "metadata": {
    "collapsed": true
   },
   "outputs": [],
   "source": [
    "# set configure\n",
    "# path = \"../DATA_FULL/\"\n",
    "path = \"./\"\n",
    "# filename = \"CDR_MO_HOUR_revise_month_1\"\n",
    "# relative_filename = path + filename + \".csv\"\n",
    "out_path = \"./\"\n"
   ]
  },
  {
   "cell_type": "code",
   "execution_count": 9,
   "metadata": {
    "collapsed": true
   },
   "outputs": [],
   "source": [
    "#normalize_funcs = {\"log10\" : log10, \"max_min\" : max_min_normalize, \"z_norm\" : z_normalize}\n",
    "# normalize_funcs = {\"log10\" : log10, \"max_min\" : max_min_normalize}\n",
    "normalize_funcs = { \"max_min\" : max_min_normalize}\n",
    "\n",
    "numeric_st_idx = 0"
   ]
  },
  {
   "cell_type": "code",
   "execution_count": 10,
   "metadata": {},
   "outputs": [
    {
     "name": "stdout",
     "output_type": "stream",
     "text": [
      "time for read csv: 16.69\n",
      "progress = 0/105\n",
      "column = BOOSTER_AMT normalize has finished\n",
      "progress = 1/105\n",
      "column = L3M_AVG_NET_INV_AMT normalize has finished\n",
      "progress = 2/105\n",
      "column = L3M_AVG_SMS_INV_AMT normalize has finished\n",
      "progress = 3/105\n",
      "column = PAY_PENALTY_AMT normalize has finished\n",
      "progress = 4/105\n",
      "column = TOTAL_MONTHLY_FEE normalize has finished\n",
      "progress = 5/105\n",
      "column = VOICE_MONTHLY_FEE normalize has finished\n",
      "progress = 6/105\n",
      "column = CWC_CATG1_CNT normalize has finished\n",
      "progress = 7/105\n",
      "column = CWC_CATG10_CNT normalize has finished\n",
      "progress = 8/105\n",
      "column = CWC_CATG11_CNT normalize has finished\n",
      "progress = 9/105\n",
      "column = CWC_CATG12_CNT normalize has finished\n",
      "progress = 10/105\n",
      "column = CWC_CATG13_CNT normalize has finished\n",
      "progress = 11/105\n",
      "column = CWC_CATG2_CNT normalize has finished\n",
      "progress = 12/105\n",
      "column = CWC_CATG3_CNT normalize has finished\n",
      "progress = 13/105\n",
      "column = CWC_CATG4_CNT normalize has finished\n",
      "progress = 14/105\n",
      "column = CWC_CATG5_CNT normalize has finished\n",
      "progress = 15/105\n",
      "column = CWC_CATG6_CNT normalize has finished\n",
      "progress = 16/105\n",
      "column = CWC_CATG7_CNT normalize has finished\n",
      "progress = 17/105\n",
      "column = CWC_CATG8_CNT normalize has finished\n",
      "progress = 18/105\n",
      "column = CWC_CATG9_CNT normalize has finished\n",
      "progress = 19/105\n",
      "column = SELFCARE_IND normalize has finished\n",
      "progress = 20/105\n",
      "column = LAST_CHANNEL_TYPE normalize has finished\n",
      "progress = 21/105\n",
      "column = AVG_HS_USE_MONTH_EX_CURR normalize has finished\n",
      "progress = 22/105\n",
      "column = HS_LEASE_FEATURE_NAME normalize has finished\n",
      "progress = 23/105\n",
      "column = IMEI_MFG_NAME normalize has finished\n",
      "progress = 24/105\n",
      "column = IMEI_MKT_NAME normalize has finished\n",
      "progress = 25/105\n",
      "column = ACTV_TYPE normalize has finished\n",
      "progress = 26/105\n",
      "column = AGE normalize has finished\n",
      "progress = 27/105\n",
      "column = APPLY_CURR_EBILL_SBILL_FLAG normalize has finished\n",
      "progress = 28/105\n",
      "column = AUTOPAY_IND normalize has finished\n",
      "progress = 29/105\n",
      "column = BILL_ZIP_CODE normalize has finished\n",
      "progress = 30/105\n",
      "column = CHANNEL_CHURN_INDEX normalize has finished\n",
      "progress = 31/105\n",
      "column = CHURN_CLM_IND normalize has finished\n",
      "progress = 32/105\n",
      "column = CURR_DATA_BILL_PLAN_NAME normalize has finished\n",
      "progress = 33/105\n",
      "column = CURR_PROM_COMMIT_MONTHS normalize has finished\n",
      "progress = 34/105\n",
      "column = CUST_TYPE normalize has finished\n",
      "progress = 35/105\n",
      "column = DATA_MONTHLY_FEE normalize has finished\n",
      "progress = 36/105\n",
      "column = FETNET_IND normalize has finished\n",
      "progress = 37/105\n",
      "column = FLAT_RATE_3G_IND normalize has finished\n",
      "progress = 38/105\n",
      "column = FLAT_RATE_4G_IND normalize has finished\n",
      "progress = 39/105\n",
      "column = GA_IND normalize has finished\n",
      "progress = 40/105\n",
      "column = GENDER_CODE normalize has finished\n",
      "progress = 41/105\n",
      "column = GOOGLE_PLAY_IND normalize has finished\n",
      "progress = 42/105\n",
      "column = HAPPYGO_IND normalize has finished\n",
      "progress = 43/105\n",
      "column = MDS_CURR_RENEW_CNT normalize has finished\n",
      "progress = 44/105\n",
      "column = MDS_CURR_RENEW_TYPE normalize has finished\n",
      "progress = 45/105\n",
      "column = MSISDN_LAST_NP_OUT_IND normalize has finished\n",
      "progress = 46/105\n",
      "column = NP_IN_IND normalize has finished\n",
      "progress = 47/105\n",
      "column = ORIG_OPR_ID normalize has finished\n",
      "progress = 48/105\n",
      "column = PAY_PENALTY_FLAG normalize has finished\n",
      "progress = 49/105\n",
      "column = PROM_CURR_EXP_MONTH_CNT normalize has finished\n",
      "progress = 50/105\n",
      "column = PROM_CURR_PROMOTION_SUB_TYPE normalize has finished\n",
      "progress = 51/105\n",
      "column = PROM_CURR_PROMOTION_TYPE normalize has finished\n",
      "progress = 52/105\n",
      "column = PROM_FLAT_RATE_4G_IND normalize has finished\n",
      "progress = 53/105\n",
      "column = SERVICE_STATUS_MOVIE_FLAG normalize has finished\n",
      "progress = 54/105\n",
      "column = SERVICE_STATUS_OMUSIC_FLAG normalize has finished\n",
      "progress = 55/105\n",
      "column = SERVICE_STATUS_READING_FLAG normalize has finished\n",
      "progress = 56/105\n",
      "column = SRV_TYPE_DESC normalize has finished\n",
      "progress = 57/105\n",
      "column = TENURE_SCV normalize has finished\n",
      "progress = 58/105\n",
      "column = VIP_GRADE normalize has finished\n",
      "progress = 59/105\n",
      "column = VIP_REDEEM_IND normalize has finished\n",
      "progress = 60/105\n",
      "column = VIP_TENURE normalize has finished\n",
      "progress = 61/105\n",
      "column = ZONE_ACTIVATION_IVR normalize has finished\n",
      "progress = 62/105\n",
      "column = DATA_BOOSTER_EVER_USE_FLAG normalize has finished\n",
      "progress = 63/105\n",
      "column = MOC_APT_CNT normalize has finished\n",
      "progress = 64/105\n",
      "column = MOC_APT_DUR normalize has finished\n",
      "progress = 65/105\n",
      "column = MOC_CHM_CNT normalize has finished\n",
      "progress = 66/105\n",
      "column = MOC_CHM_DUR normalize has finished\n",
      "progress = 67/105\n",
      "column = MOC_TSC_CNT normalize has finished\n",
      "progress = 68/105\n",
      "column = MOC_TSC_DUR normalize has finished\n",
      "progress = 69/105\n",
      "column = MOC_TWM_CNT normalize has finished\n",
      "progress = 70/105\n",
      "column = MOC_TWM_DUR normalize has finished\n",
      "progress = 71/105\n",
      "column = MOST_MO_OPERATOR normalize has finished\n",
      "progress = 72/105\n",
      "column = MOST_MT_OPERATOR normalize has finished\n",
      "progress = 73/105\n",
      "column = MTC_APT_CNT normalize has finished\n",
      "progress = 74/105\n",
      "column = MTC_APT_DUR normalize has finished\n",
      "progress = 75/105\n",
      "column = MTC_CHM_CNT normalize has finished\n",
      "progress = 76/105\n",
      "column = MTC_CHM_DUR normalize has finished\n",
      "progress = 77/105\n",
      "column = MTC_TSC_CNT normalize has finished\n",
      "progress = 78/105\n",
      "column = MTC_TSC_DUR normalize has finished\n",
      "progress = 79/105\n",
      "column = MTC_TWM_CNT normalize has finished\n",
      "progress = 80/105\n",
      "column = MTC_TWM_DUR normalize has finished\n",
      "progress = 81/105\n",
      "column = P3M_AVG_DATA_USAGE_MB normalize has finished\n",
      "progress = 82/105\n",
      "column = L3M_AVG_MO_TTL_CNT normalize has finished\n",
      "progress = 83/105\n",
      "column = L3M_AVG_MO_TTL_DUR normalize has finished\n",
      "progress = 84/105\n",
      "column = L3M_AVG_MO_ONNET_CNT normalize has finished\n",
      "progress = 85/105\n",
      "column = L3M_AVG_MO_ONNET_DUR normalize has finished\n",
      "progress = 86/105\n",
      "column = L3M_AVG_MO_OFFNET_CNT normalize has finished\n",
      "progress = 87/105\n",
      "column = L3M_AVG_MO_OFFNET_DUR normalize has finished\n",
      "progress = 88/105\n",
      "column = L3M_AVG_MO_PSTN_CNT normalize has finished\n",
      "progress = 89/105\n",
      "column = L3M_AVG_MO_PSTN_DUR normalize has finished\n",
      "progress = 90/105\n",
      "column = L3M_AVG_MT_TTL_CNT normalize has finished\n",
      "progress = 91/105\n",
      "column = L3M_AVG_MT_TTL_DUR normalize has finished\n",
      "progress = 92/105\n",
      "column = L3M_AVG_MT_ONNET_CNT normalize has finished\n",
      "progress = 93/105\n",
      "column = L3M_AVG_MT_ONNET_DUR normalize has finished\n",
      "progress = 94/105\n",
      "column = L3M_AVG_MT_OFFNET_CNT normalize has finished\n",
      "progress = 95/105\n",
      "column = L3M_AVG_MT_OFFNET_DUR normalize has finished\n",
      "progress = 96/105\n",
      "column = L3M_AVG_MT_PSTN_CNT normalize has finished\n",
      "progress = 97/105\n",
      "column = L3M_AVG_MT_PSTN_DUR normalize has finished\n",
      "progress = 98/105\n",
      "column = L3M_AVG_IDD_AMT normalize has finished\n",
      "progress = 99/105\n",
      "column = L3M_AVG_INT_ROAM_AMT normalize has finished\n",
      "progress = 100/105\n",
      "column = L3M_AVG_GPRS_AMT normalize has finished\n",
      "progress = 101/105\n",
      "column = L3M_AVG_OFFNET_AMT normalize has finished\n",
      "progress = 102/105\n",
      "column = L3M_AVG_ONNET_AMT normalize has finished\n",
      "progress = 103/105\n",
      "column = L3M_AVG_PSTN_AMT normalize has finished\n",
      "progress = 104/105\n",
      "Group jump it.\n",
      "time for output csv file: 167.08\n"
     ]
    }
   ],
   "source": [
    "# filename = \"april_marketing_anylze_numeric.csv\" \n",
    "path = \"./\"\n",
    "filename = \"0814_marketing_with_picked_group11_numeric.csv\" \n",
    "out_path = \"./\"\n",
    "\n",
    "for normalize_key, normalize_func in normalize_funcs.items():\n",
    "    df = read_csv(path + filename)\n",
    "    filename_none_postfix = filename[:-4]\n",
    "    for idx, col in enumerate(df.columns):\n",
    "        print(\"progress = %d/%d\" % (idx, len(df.columns)))\n",
    "        if(col == \"Groups\"):\n",
    "            print(\"Group jump it.\")\n",
    "            continue\n",
    "        # df[col] = df[col].apply(np.int64)\n",
    "#         if(col == \"VOICE_MONTHLY_SUM\"):\n",
    "        x_max, x_min ,x_mean ,x_std = df[col].max(), df[col].min(), df[col].mean(), df[col].std(ddof=0) \n",
    "        df[col] = df[col].apply(normalize_func)\n",
    "        print(\"column = %s normalize has finished\" % col)\n",
    "    out_filename =  out_path + filename_none_postfix + \"_\" + normalize_key\n",
    "    save_dataframe(df, out_filename)"
   ]
  },
  {
   "cell_type": "code",
   "execution_count": null,
   "metadata": {
    "collapsed": true
   },
   "outputs": [],
   "source": [
    "df.head()"
   ]
  },
  {
   "cell_type": "code",
   "execution_count": null,
   "metadata": {
    "collapsed": true
   },
   "outputs": [],
   "source": [
    "from mailerWithUtf8 import mail\n",
    "test=mail()\n",
    "test.main(\"normalize finished\", \"done\")"
   ]
  },
  {
   "cell_type": "code",
   "execution_count": null,
   "metadata": {
    "collapsed": true
   },
   "outputs": [],
   "source": [
    "from winsound import Beep\n",
    "Beep(440, 500) \n",
    "Beep(440, 500) \n",
    "Beep(440, 500) \n",
    "Beep(349, 350) \n",
    "Beep(523, 150) \n",
    "Beep(440, 500) \n",
    "Beep(349, 350) \n",
    "Beep(523, 150) \n",
    "Beep(440, 1000) \n",
    "Beep(659, 500) \n",
    "Beep(659, 500) \n",
    "Beep(659, 500) \n",
    "Beep(698, 350) \n",
    "Beep(523, 150) \n",
    "Beep(415, 500) \n",
    "Beep(349, 350) \n",
    "Beep(523, 150) \n",
    "Beep(440, 1000)"
   ]
  },
  {
   "cell_type": "code",
   "execution_count": null,
   "metadata": {
    "collapsed": true
   },
   "outputs": [],
   "source": []
  },
  {
   "cell_type": "code",
   "execution_count": null,
   "metadata": {
    "collapsed": true
   },
   "outputs": [],
   "source": []
  },
  {
   "cell_type": "code",
   "execution_count": null,
   "metadata": {
    "collapsed": true,
    "scrolled": true
   },
   "outputs": [],
   "source": [
    "for filename in file_csv_list(path):\n",
    "    if \".csv\" in filename and not \"CDR_CONCAT_TABLE_4\" and not \"CDR_CONCAT_TABLE_4\" in filename:\n",
    "        for normalize_key, normalize_func in normalize_funcs.items():\n",
    "            df = read_csv(path + filename)\n",
    "            filename_none_postfix = filename[:-4]\n",
    "            normalize_cols = df.columns[numeric_st_idx:]\n",
    "            for col in normalize_cols:\n",
    "                if(col == \"Groups\"):\n",
    "                    continue\n",
    "                # df[col] = df[col].apply(np.int64)\n",
    "                x_max, x_min ,x_mean ,x_std = df[col].max(), df[col].min(), df[col].mean(), df[col].std(ddof=0) \n",
    "                df[col] = df[col].apply(normalize_func)\n",
    "                print(\"column = %s normalize has finished\" % col)\n",
    "            out_filename =  out_path + filename_none_postfix + \"_\" + normalize_key\n",
    "            save_dataframe(df, out_filename)\n",
    "        "
   ]
  },
  {
   "cell_type": "code",
   "execution_count": null,
   "metadata": {
    "collapsed": true
   },
   "outputs": [],
   "source": []
  },
  {
   "cell_type": "code",
   "execution_count": null,
   "metadata": {
    "collapsed": true
   },
   "outputs": [],
   "source": []
  },
  {
   "cell_type": "code",
   "execution_count": null,
   "metadata": {
    "collapsed": true
   },
   "outputs": [],
   "source": []
  },
  {
   "cell_type": "code",
   "execution_count": null,
   "metadata": {
    "collapsed": true
   },
   "outputs": [],
   "source": []
  }
 ],
 "metadata": {
  "kernelspec": {
   "display_name": "Python 3",
   "language": "python",
   "name": "python3"
  },
  "language_info": {
   "codemirror_mode": {
    "name": "ipython",
    "version": 3
   },
   "file_extension": ".py",
   "mimetype": "text/x-python",
   "name": "python",
   "nbconvert_exporter": "python",
   "pygments_lexer": "ipython3",
   "version": "3.6.1"
  }
 },
 "nbformat": 4,
 "nbformat_minor": 2
}
