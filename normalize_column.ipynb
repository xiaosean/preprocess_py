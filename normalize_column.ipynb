{
 "cells": [
  {
   "cell_type": "code",
   "execution_count": 21,
   "metadata": {
    "collapsed": true
   },
   "outputs": [],
   "source": [
    "# coding=UTF-8\n",
    "import pandas as pd\n",
    "import numpy as np\n",
    "from scipy import stats\n",
    "import math \n",
    "import os.path\n",
    "from time import time\n",
    "from os import listdir\n",
    "from os.path import isfile, join\n",
    "global x_max\n",
    "global x_min\n",
    "global x_mean\n",
    "global x_std\n"
   ]
  },
  {
   "cell_type": "code",
   "execution_count": 22,
   "metadata": {
    "collapsed": true
   },
   "outputs": [],
   "source": [
    "def log10(x):\n",
    "    if(x > 0):\n",
    "        x = math.log(x, 10)\n",
    "    return x\n"
   ]
  },
  {
   "cell_type": "code",
   "execution_count": 23,
   "metadata": {
    "collapsed": true
   },
   "outputs": [],
   "source": [
    "def max_min_normalize(x):\n",
    "    # print(x, x_max, x_min)\n",
    "    \n",
    "    if(x_max - x_min) == 0:\n",
    "        return (x - x_min)\n",
    "    return (x - x_min) / (x_max - x_min)"
   ]
  },
  {
   "cell_type": "code",
   "execution_count": 24,
   "metadata": {
    "collapsed": true
   },
   "outputs": [],
   "source": [
    "def z_normalize(x):\n",
    "    # print(x, x_mean, x_std)\n",
    "    if(x_std == 0):\n",
    "        return (x - x_mean)\n",
    "    return (x - x_mean) / x_std"
   ]
  },
  {
   "cell_type": "code",
   "execution_count": 25,
   "metadata": {
    "collapsed": true
   },
   "outputs": [],
   "source": [
    "def file_csv_list(target_path):\n",
    "    return [f for f in listdir(target_path) if isfile(join(target_path, f))]"
   ]
  },
  {
   "cell_type": "code",
   "execution_count": 26,
   "metadata": {
    "collapsed": true
   },
   "outputs": [],
   "source": [
    "def read_csv(filename):\n",
    "    # read revise csv file and print cost time\n",
    "    t0 = time()\n",
    "    df = pd.read_csv(filename, error_bad_lines=False)\n",
    "    print(\"time for read csv: %.2f\" % (time()-t0))\n",
    "    return df"
   ]
  },
  {
   "cell_type": "code",
   "execution_count": 27,
   "metadata": {
    "collapsed": true
   },
   "outputs": [],
   "source": [
    "def save_dataframe(df, out_filename):\n",
    "   # write to csv and no index\n",
    "    t0 = time()\n",
    "    df.to_csv(out_filename + \".csv\", index=False, encoding='utf-8')\n",
    "    print(\"time for output csv file: %.2f\" % (time()-t0))"
   ]
  },
  {
   "cell_type": "code",
   "execution_count": 28,
   "metadata": {
    "collapsed": true
   },
   "outputs": [],
   "source": [
    "# set configure\n",
    "# path = \"../DATA_FULL/\"\n",
    "path = \"./CDR_FINAL/\"\n",
    "# filename = \"CDR_MO_HOUR_revise_month_1\"\n",
    "# relative_filename = path + filename + \".csv\"\n",
    "out_path = \"./CDR_FINAL_NORMALIZE/\"\n"
   ]
  },
  {
   "cell_type": "code",
   "execution_count": 29,
   "metadata": {
    "collapsed": true
   },
   "outputs": [],
   "source": [
    "#normalize_funcs = {\"log10\" : log10, \"max_min\" : max_min_normalize, \"z_norm\" : z_normalize}\n",
    "normalize_funcs = { \"max_min\" : max_min_normalize}\n",
    "\n",
    "numeric_st_idx = 1"
   ]
  },
  {
   "cell_type": "code",
   "execution_count": 30,
   "metadata": {
    "scrolled": true
   },
   "outputs": [
    {
     "name": "stdout",
     "output_type": "stream",
     "text": [
      "time for read csv: 33.18\n",
      "column = VOICE_MO_HOUR_0_CNT normalize has finished\n",
      "column = VOICE_MO_HOUR_1_CNT normalize has finished\n",
      "column = VOICE_MO_HOUR_2_CNT normalize has finished\n",
      "column = VOICE_MO_HOUR_3_CNT normalize has finished\n",
      "column = VOICE_MO_HOUR_4_CNT normalize has finished\n",
      "column = VOICE_MO_HOUR_5_CNT normalize has finished\n",
      "column = VOICE_MO_HOUR_6_CNT normalize has finished\n",
      "column = VOICE_MO_HOUR_7_CNT normalize has finished\n",
      "column = VOICE_MO_HOUR_8_CNT normalize has finished\n",
      "column = VOICE_MO_HOUR_9_CNT normalize has finished\n",
      "column = VOICE_MO_HOUR_10_CNT normalize has finished\n",
      "column = VOICE_MO_HOUR_11_CNT normalize has finished\n",
      "column = VOICE_MO_HOUR_12_CNT normalize has finished\n",
      "column = VOICE_MO_HOUR_13_CNT normalize has finished\n",
      "column = VOICE_MO_HOUR_14_CNT normalize has finished\n",
      "column = VOICE_MO_HOUR_15_CNT normalize has finished\n",
      "column = VOICE_MO_HOUR_16_CNT normalize has finished\n",
      "column = VOICE_MO_HOUR_17_CNT normalize has finished\n",
      "column = VOICE_MO_HOUR_18_CNT normalize has finished\n",
      "column = VOICE_MO_HOUR_19_CNT normalize has finished\n",
      "column = VOICE_MO_HOUR_20_CNT normalize has finished\n",
      "column = VOICE_MO_HOUR_21_CNT normalize has finished\n",
      "column = VOICE_MO_HOUR_22_CNT normalize has finished\n",
      "column = VOICE_MO_HOUR_23_CNT normalize has finished\n",
      "column = VOICE_MO_HOUR_0_TIME normalize has finished\n",
      "column = VOICE_MO_HOUR_1_TIME normalize has finished\n",
      "column = VOICE_MO_HOUR_2_TIME normalize has finished\n",
      "column = VOICE_MO_HOUR_3_TIME normalize has finished\n",
      "column = VOICE_MO_HOUR_4_TIME normalize has finished\n",
      "column = VOICE_MO_HOUR_5_TIME normalize has finished\n",
      "column = VOICE_MO_HOUR_6_TIME normalize has finished\n",
      "column = VOICE_MO_HOUR_7_TIME normalize has finished\n",
      "column = VOICE_MO_HOUR_8_TIME normalize has finished\n",
      "column = VOICE_MO_HOUR_9_TIME normalize has finished\n",
      "column = VOICE_MO_HOUR_10_TIME normalize has finished\n",
      "column = VOICE_MO_HOUR_11_TIME normalize has finished\n",
      "column = VOICE_MO_HOUR_12_TIME normalize has finished\n",
      "column = VOICE_MO_HOUR_13_TIME normalize has finished\n",
      "column = VOICE_MO_HOUR_14_TIME normalize has finished\n",
      "column = VOICE_MO_HOUR_15_TIME normalize has finished\n",
      "column = VOICE_MO_HOUR_16_TIME normalize has finished\n",
      "column = VOICE_MO_HOUR_17_TIME normalize has finished\n",
      "column = VOICE_MO_HOUR_18_TIME normalize has finished\n",
      "column = VOICE_MO_HOUR_19_TIME normalize has finished\n",
      "column = VOICE_MO_HOUR_20_TIME normalize has finished\n",
      "column = VOICE_MO_HOUR_21_TIME normalize has finished\n",
      "column = VOICE_MO_HOUR_22_TIME normalize has finished\n",
      "column = VOICE_MO_HOUR_23_TIME normalize has finished\n",
      "column = VOICE_MT_HOUR_0_CNT normalize has finished\n",
      "column = VOICE_MT_HOUR_1_CNT normalize has finished\n",
      "column = VOICE_MT_HOUR_2_CNT normalize has finished\n",
      "column = VOICE_MT_HOUR_3_CNT normalize has finished\n",
      "column = VOICE_MT_HOUR_4_CNT normalize has finished\n",
      "column = VOICE_MT_HOUR_5_CNT normalize has finished\n",
      "column = VOICE_MT_HOUR_6_CNT normalize has finished\n",
      "column = VOICE_MT_HOUR_7_CNT normalize has finished\n",
      "column = VOICE_MT_HOUR_8_CNT normalize has finished\n",
      "column = VOICE_MT_HOUR_9_CNT normalize has finished\n",
      "column = VOICE_MT_HOUR_10_CNT normalize has finished\n",
      "column = VOICE_MT_HOUR_11_CNT normalize has finished\n",
      "column = VOICE_MT_HOUR_12_CNT normalize has finished\n",
      "column = VOICE_MT_HOUR_13_CNT normalize has finished\n",
      "column = VOICE_MT_HOUR_14_CNT normalize has finished\n",
      "column = VOICE_MT_HOUR_15_CNT normalize has finished\n",
      "column = VOICE_MT_HOUR_16_CNT normalize has finished\n",
      "column = VOICE_MT_HOUR_17_CNT normalize has finished\n",
      "column = VOICE_MT_HOUR_18_CNT normalize has finished\n",
      "column = VOICE_MT_HOUR_19_CNT normalize has finished\n",
      "column = VOICE_MT_HOUR_20_CNT normalize has finished\n",
      "column = VOICE_MT_HOUR_21_CNT normalize has finished\n",
      "column = VOICE_MT_HOUR_22_CNT normalize has finished\n",
      "column = VOICE_MT_HOUR_23_CNT normalize has finished\n",
      "column = VOICE_MT_HOUR_0_TIME normalize has finished\n",
      "column = VOICE_MT_HOUR_1_TIME normalize has finished\n",
      "column = VOICE_MT_HOUR_2_TIME normalize has finished\n",
      "column = VOICE_MT_HOUR_3_TIME normalize has finished\n",
      "column = VOICE_MT_HOUR_4_TIME normalize has finished\n",
      "column = VOICE_MT_HOUR_5_TIME normalize has finished\n",
      "column = VOICE_MT_HOUR_6_TIME normalize has finished\n",
      "column = VOICE_MT_HOUR_7_TIME normalize has finished\n",
      "column = VOICE_MT_HOUR_8_TIME normalize has finished\n",
      "column = VOICE_MT_HOUR_9_TIME normalize has finished\n",
      "column = VOICE_MT_HOUR_10_TIME normalize has finished\n",
      "column = VOICE_MT_HOUR_11_TIME normalize has finished\n",
      "column = VOICE_MT_HOUR_12_TIME normalize has finished\n",
      "column = VOICE_MT_HOUR_13_TIME normalize has finished\n",
      "column = VOICE_MT_HOUR_14_TIME normalize has finished\n",
      "column = VOICE_MT_HOUR_15_TIME normalize has finished\n",
      "column = VOICE_MT_HOUR_16_TIME normalize has finished\n",
      "column = VOICE_MT_HOUR_17_TIME normalize has finished\n",
      "column = VOICE_MT_HOUR_18_TIME normalize has finished\n",
      "column = VOICE_MT_HOUR_19_TIME normalize has finished\n",
      "column = VOICE_MT_HOUR_20_TIME normalize has finished\n",
      "column = VOICE_MT_HOUR_21_TIME normalize has finished\n",
      "column = VOICE_MT_HOUR_22_TIME normalize has finished\n",
      "column = VOICE_MT_HOUR_23_TIME normalize has finished\n",
      "column = MTC_CNT normalize has finished\n",
      "column = MTC_DUR normalize has finished\n",
      "column = MTC_FET_CNT normalize has finished\n",
      "column = MTC_FET_DUR normalize has finished\n",
      "column = MTC_TWM_CNT normalize has finished\n",
      "column = MTC_TWM_DUR normalize has finished\n",
      "column = MTC_CHM_CNT normalize has finished\n",
      "column = MTC_CHM_DUR normalize has finished\n",
      "column = MTC_APT_CNT normalize has finished\n",
      "column = MTC_APT_DUR normalize has finished\n",
      "column = MTC_TSC_CNT normalize has finished\n",
      "column = MTC_TSC_DUR normalize has finished\n",
      "column = MTC_PSTN_CNT normalize has finished\n",
      "column = MTC_PSTN_DUR normalize has finished\n",
      "column = MOC_CNT normalize has finished\n",
      "column = MOC_DUR normalize has finished\n",
      "column = MOC_FET_CNT normalize has finished\n",
      "column = MOC_FET_DUR normalize has finished\n",
      "column = MOC_TWM_CNT normalize has finished\n",
      "column = MOC_TWM_DUR normalize has finished\n",
      "column = MOC_CHM_CNT normalize has finished\n",
      "column = MOC_CHM_DUR normalize has finished\n",
      "column = MOC_APT_CNT normalize has finished\n",
      "column = MOC_APT_DUR normalize has finished\n",
      "column = MOC_TSC_CNT normalize has finished\n",
      "column = MOC_TSC_DUR normalize has finished\n",
      "column = MOC_PSTN_CNT normalize has finished\n",
      "column = MOC_PSTN_DUR normalize has finished\n",
      "column = VOICE_MO_HOUR_SUN_CNT normalize has finished\n",
      "column = VOICE_MO_HOUR_MON_CNT normalize has finished\n",
      "column = VOICE_MO_HOUR_TUE_CNT normalize has finished\n",
      "column = VOICE_MO_HOUR_WED_CNT normalize has finished\n",
      "column = VOICE_MO_HOUR_THU_CNT normalize has finished\n",
      "column = VOICE_MO_HOUR_FRI_CNT normalize has finished\n",
      "column = VOICE_MO_HOUR_SAT_CNT normalize has finished\n",
      "column = VOICE_MO_HOUR_SUN_TIME normalize has finished\n",
      "column = VOICE_MO_HOUR_MON_TIME normalize has finished\n",
      "column = VOICE_MO_HOUR_TUE_TIME normalize has finished\n",
      "column = VOICE_MO_HOUR_WED_TIME normalize has finished\n",
      "column = VOICE_MO_HOUR_THU_TIME normalize has finished\n",
      "column = VOICE_MO_HOUR_FRI_TIME normalize has finished\n",
      "column = VOICE_MO_HOUR_SAT_TIME normalize has finished\n",
      "column = VOICE_MO_workday_cnt normalize has finished\n",
      "column = VOICE_MO_workday_cnt_avg normalize has finished\n",
      "column = VOICE_MO_workday_time normalize has finished\n",
      "column = VOICE_MO_workday_time_avg normalize has finished\n",
      "column = VOICE_MO_holiday_cnt normalize has finished\n",
      "column = VOICE_MO_holiday_cnt_avg normalize has finished\n",
      "column = VOICE_MO_holiday_time normalize has finished\n",
      "column = VOICE_MO_holiday_time_avg normalize has finished\n",
      "column = VOICE_MT_SUN_CNT normalize has finished\n",
      "column = VOICE_MT_MON_CNT normalize has finished\n",
      "column = VOICE_MT_TUE_CNT normalize has finished\n",
      "column = VOICE_MT_WED_CNT normalize has finished\n",
      "column = VOICE_MT_THU_CNT normalize has finished\n",
      "column = VOICE_MT_FRI_CNT normalize has finished\n",
      "column = VOICE_MT_SAT_CNT normalize has finished\n",
      "column = VOICE_MT_SUN_TIME normalize has finished\n",
      "column = VOICE_MT_MON_TIME normalize has finished\n",
      "column = VOICE_MT_TUE_TIME normalize has finished\n",
      "column = VOICE_MT_WED_TIME normalize has finished\n",
      "column = VOICE_MT_THU_TIME normalize has finished\n",
      "column = VOICE_MT_FRI_TIME normalize has finished\n",
      "column = VOICE_MT_SAT_TIME normalize has finished\n"
     ]
    },
    {
     "name": "stdout",
     "output_type": "stream",
     "text": [
      "column = VOICE_MT_workday_cnt normalize has finished\n",
      "column = VOICE_MT_workday_cnt_avg normalize has finished\n",
      "column = VOICE_MT_workday_time normalize has finished\n",
      "column = VOICE_MT_workday_time_avg normalize has finished\n",
      "column = VOICE_MT_holiday_cnt normalize has finished\n",
      "column = VOICE_MT_holiday_cnt_avg normalize has finished\n",
      "column = VOICE_MT_holiday_time normalize has finished\n",
      "column = VOICE_MT_holiday_time_avg normalize has finished\n",
      "time for output csv file: 387.77\n",
      "time for read csv: 34.94\n",
      "column = VOICE_MO_HOUR_0_CNT normalize has finished\n",
      "column = VOICE_MO_HOUR_1_CNT normalize has finished\n",
      "column = VOICE_MO_HOUR_2_CNT normalize has finished\n",
      "column = VOICE_MO_HOUR_3_CNT normalize has finished\n",
      "column = VOICE_MO_HOUR_4_CNT normalize has finished\n",
      "column = VOICE_MO_HOUR_5_CNT normalize has finished\n",
      "column = VOICE_MO_HOUR_6_CNT normalize has finished\n"
     ]
    },
    {
     "ename": "KeyboardInterrupt",
     "evalue": "",
     "output_type": "error",
     "traceback": [
      "\u001b[1;31m---------------------------------------------------------------------------\u001b[0m",
      "\u001b[1;31mKeyboardInterrupt\u001b[0m                         Traceback (most recent call last)",
      "\u001b[1;32m<ipython-input-30-2eca3d71b5f8>\u001b[0m in \u001b[0;36m<module>\u001b[1;34m()\u001b[0m\n\u001b[0;32m     10\u001b[0m                 \u001b[1;31m# df[col] = df[col].apply(np.int64)\u001b[0m\u001b[1;33m\u001b[0m\u001b[1;33m\u001b[0m\u001b[0m\n\u001b[0;32m     11\u001b[0m                 \u001b[0mx_max\u001b[0m\u001b[1;33m,\u001b[0m \u001b[0mx_min\u001b[0m \u001b[1;33m,\u001b[0m\u001b[0mx_mean\u001b[0m \u001b[1;33m,\u001b[0m\u001b[0mx_std\u001b[0m \u001b[1;33m=\u001b[0m \u001b[0mdf\u001b[0m\u001b[1;33m[\u001b[0m\u001b[0mcol\u001b[0m\u001b[1;33m]\u001b[0m\u001b[1;33m.\u001b[0m\u001b[0mmax\u001b[0m\u001b[1;33m(\u001b[0m\u001b[1;33m)\u001b[0m\u001b[1;33m,\u001b[0m \u001b[0mdf\u001b[0m\u001b[1;33m[\u001b[0m\u001b[0mcol\u001b[0m\u001b[1;33m]\u001b[0m\u001b[1;33m.\u001b[0m\u001b[0mmin\u001b[0m\u001b[1;33m(\u001b[0m\u001b[1;33m)\u001b[0m\u001b[1;33m,\u001b[0m \u001b[0mdf\u001b[0m\u001b[1;33m[\u001b[0m\u001b[0mcol\u001b[0m\u001b[1;33m]\u001b[0m\u001b[1;33m.\u001b[0m\u001b[0mmean\u001b[0m\u001b[1;33m(\u001b[0m\u001b[1;33m)\u001b[0m\u001b[1;33m,\u001b[0m \u001b[0mdf\u001b[0m\u001b[1;33m[\u001b[0m\u001b[0mcol\u001b[0m\u001b[1;33m]\u001b[0m\u001b[1;33m.\u001b[0m\u001b[0mstd\u001b[0m\u001b[1;33m(\u001b[0m\u001b[0mddof\u001b[0m\u001b[1;33m=\u001b[0m\u001b[1;36m0\u001b[0m\u001b[1;33m)\u001b[0m\u001b[1;33m\u001b[0m\u001b[0m\n\u001b[1;32m---> 12\u001b[1;33m                 \u001b[0mdf\u001b[0m\u001b[1;33m[\u001b[0m\u001b[0mcol\u001b[0m\u001b[1;33m]\u001b[0m \u001b[1;33m=\u001b[0m \u001b[0mdf\u001b[0m\u001b[1;33m[\u001b[0m\u001b[0mcol\u001b[0m\u001b[1;33m]\u001b[0m\u001b[1;33m.\u001b[0m\u001b[0mapply\u001b[0m\u001b[1;33m(\u001b[0m\u001b[0mnormalize_func\u001b[0m\u001b[1;33m)\u001b[0m\u001b[1;33m\u001b[0m\u001b[0m\n\u001b[0m\u001b[0;32m     13\u001b[0m                 \u001b[0mprint\u001b[0m\u001b[1;33m(\u001b[0m\u001b[1;34m\"column = %s normalize has finished\"\u001b[0m \u001b[1;33m%\u001b[0m \u001b[0mcol\u001b[0m\u001b[1;33m)\u001b[0m\u001b[1;33m\u001b[0m\u001b[0m\n\u001b[0;32m     14\u001b[0m             \u001b[0mout_filename\u001b[0m \u001b[1;33m=\u001b[0m  \u001b[0mout_path\u001b[0m \u001b[1;33m+\u001b[0m \u001b[0mfilename_none_postfix\u001b[0m \u001b[1;33m+\u001b[0m \u001b[1;34m\"_\"\u001b[0m \u001b[1;33m+\u001b[0m \u001b[0mnormalize_key\u001b[0m\u001b[1;33m\u001b[0m\u001b[0m\n",
      "\u001b[1;32mC:\\Users\\VIPLAB\\AppData\\Local\\conda\\conda\\envs\\py36\\lib\\site-packages\\pandas\\core\\series.py\u001b[0m in \u001b[0;36mapply\u001b[1;34m(self, func, convert_dtype, args, **kwds)\u001b[0m\n\u001b[0;32m   2353\u001b[0m             \u001b[1;32melse\u001b[0m\u001b[1;33m:\u001b[0m\u001b[1;33m\u001b[0m\u001b[0m\n\u001b[0;32m   2354\u001b[0m                 \u001b[0mvalues\u001b[0m \u001b[1;33m=\u001b[0m \u001b[0mself\u001b[0m\u001b[1;33m.\u001b[0m\u001b[0masobject\u001b[0m\u001b[1;33m\u001b[0m\u001b[0m\n\u001b[1;32m-> 2355\u001b[1;33m                 \u001b[0mmapped\u001b[0m \u001b[1;33m=\u001b[0m \u001b[0mlib\u001b[0m\u001b[1;33m.\u001b[0m\u001b[0mmap_infer\u001b[0m\u001b[1;33m(\u001b[0m\u001b[0mvalues\u001b[0m\u001b[1;33m,\u001b[0m \u001b[0mf\u001b[0m\u001b[1;33m,\u001b[0m \u001b[0mconvert\u001b[0m\u001b[1;33m=\u001b[0m\u001b[0mconvert_dtype\u001b[0m\u001b[1;33m)\u001b[0m\u001b[1;33m\u001b[0m\u001b[0m\n\u001b[0m\u001b[0;32m   2356\u001b[0m \u001b[1;33m\u001b[0m\u001b[0m\n\u001b[0;32m   2357\u001b[0m         \u001b[1;32mif\u001b[0m \u001b[0mlen\u001b[0m\u001b[1;33m(\u001b[0m\u001b[0mmapped\u001b[0m\u001b[1;33m)\u001b[0m \u001b[1;32mand\u001b[0m \u001b[0misinstance\u001b[0m\u001b[1;33m(\u001b[0m\u001b[0mmapped\u001b[0m\u001b[1;33m[\u001b[0m\u001b[1;36m0\u001b[0m\u001b[1;33m]\u001b[0m\u001b[1;33m,\u001b[0m \u001b[0mSeries\u001b[0m\u001b[1;33m)\u001b[0m\u001b[1;33m:\u001b[0m\u001b[1;33m\u001b[0m\u001b[0m\n",
      "\u001b[1;32mpandas\\_libs\\src\\inference.pyx\u001b[0m in \u001b[0;36mpandas._libs.lib.map_infer (pandas\\_libs\\lib.c:66440)\u001b[1;34m()\u001b[0m\n",
      "\u001b[1;32m<ipython-input-23-78d4942f4058>\u001b[0m in \u001b[0;36mmax_min_normalize\u001b[1;34m(x)\u001b[0m\n\u001b[0;32m      4\u001b[0m     \u001b[1;32mif\u001b[0m\u001b[1;33m(\u001b[0m\u001b[0mx_max\u001b[0m \u001b[1;33m-\u001b[0m \u001b[0mx_min\u001b[0m\u001b[1;33m)\u001b[0m \u001b[1;33m==\u001b[0m \u001b[1;36m0\u001b[0m\u001b[1;33m:\u001b[0m\u001b[1;33m\u001b[0m\u001b[0m\n\u001b[0;32m      5\u001b[0m         \u001b[1;32mreturn\u001b[0m \u001b[1;33m(\u001b[0m\u001b[0mx\u001b[0m \u001b[1;33m-\u001b[0m \u001b[0mx_min\u001b[0m\u001b[1;33m)\u001b[0m\u001b[1;33m\u001b[0m\u001b[0m\n\u001b[1;32m----> 6\u001b[1;33m     \u001b[1;32mreturn\u001b[0m \u001b[1;33m(\u001b[0m\u001b[0mx\u001b[0m \u001b[1;33m-\u001b[0m \u001b[0mx_min\u001b[0m\u001b[1;33m)\u001b[0m \u001b[1;33m/\u001b[0m \u001b[1;33m(\u001b[0m\u001b[0mx_max\u001b[0m \u001b[1;33m-\u001b[0m \u001b[0mx_min\u001b[0m\u001b[1;33m)\u001b[0m\u001b[1;33m\u001b[0m\u001b[0m\n\u001b[0m",
      "\u001b[1;31mKeyboardInterrupt\u001b[0m: "
     ]
    }
   ],
   "source": [
    "for filename in file_csv_list(path):\n",
    "    if \".csv\" in filename and not \"CDR_CONCAT_TABLE_4\" in filename:\n",
    "        for normalize_key, normalize_func in normalize_funcs.items():\n",
    "            df = read_csv(path + filename)\n",
    "            filename_none_postfix = filename[:-4]\n",
    "            normalize_cols = df.columns[numeric_st_idx:]\n",
    "            for col in normalize_cols:\n",
    "                if(col == \"Groups\"):\n",
    "                    continue\n",
    "                # df[col] = df[col].apply(np.int64)\n",
    "                x_max, x_min ,x_mean ,x_std = df[col].max(), df[col].min(), df[col].mean(), df[col].std(ddof=0) \n",
    "                df[col] = df[col].apply(normalize_func)\n",
    "                print(\"column = %s normalize has finished\" % col)\n",
    "            out_filename =  out_path + filename_none_postfix + \"_\" + normalize_key\n",
    "            save_dataframe(df, out_filename)\n",
    "        "
   ]
  },
  {
   "cell_type": "code",
   "execution_count": null,
   "metadata": {
    "collapsed": true
   },
   "outputs": [],
   "source": []
  },
  {
   "cell_type": "code",
   "execution_count": null,
   "metadata": {
    "collapsed": true
   },
   "outputs": [],
   "source": []
  },
  {
   "cell_type": "code",
   "execution_count": null,
   "metadata": {
    "collapsed": true
   },
   "outputs": [],
   "source": []
  }
 ],
 "metadata": {
  "kernelspec": {
   "display_name": "Python 3",
   "language": "python",
   "name": "python3"
  },
  "language_info": {
   "codemirror_mode": {
    "name": "ipython",
    "version": 3
   },
   "file_extension": ".py",
   "mimetype": "text/x-python",
   "name": "python",
   "nbconvert_exporter": "python",
   "pygments_lexer": "ipython3",
   "version": "3.6.1"
  }
 },
 "nbformat": 4,
 "nbformat_minor": 2
}
