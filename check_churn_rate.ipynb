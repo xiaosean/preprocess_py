{
 "cells": [
  {
   "cell_type": "code",
   "execution_count": 155,
   "metadata": {
    "collapsed": true
   },
   "outputs": [],
   "source": [
    "import os.path\n",
    "import numpy as np\n",
    "import pandas as pd\n",
    "from time import time"
   ]
  },
  {
   "cell_type": "code",
   "execution_count": 156,
   "metadata": {
    "collapsed": true
   },
   "outputs": [],
   "source": [
    "# set configure\n",
    "# path = \"./\"\n",
    "\n",
    "# path = \"./marketing_analyze/\"\n",
    "# path = \"./\"\n",
    "# path = \"C:/Users/VIPLAB/Downloads/Spark_data/\"\n",
    "# filename = \"april_marketing_anylze_full_table_group12_max_min\"\n",
    "# filename = \"april_marketing_anylze_numeric\"\n",
    "# filename = \"CHNL_NSP_CATG_MT_COMPLETED\"\n",
    "# filename = \"0729_marketing_with_picked_group11_numeric_max_min\"\n",
    "\n",
    "# filename = \"0729_marketing_with_picked_group11_numeric_max_min\"\n",
    "\n",
    "path = \"./\"\n",
    "filename = \"Groups_ID_10_catg_0805\"\n",
    "relative_filename = path + filename + \".csv\"\n",
    "# relative_filename = path + filename + \".txt\"\n",
    "# wants_cols = ['MINING_DW_SUBSCR_NO', 'CUST_TYPE']"
   ]
  },
  {
   "cell_type": "code",
   "execution_count": 157,
   "metadata": {},
   "outputs": [
    {
     "name": "stdout",
     "output_type": "stream",
     "text": [
      "time for read csv: 0.64\n"
     ]
    }
   ],
   "source": [
    "# read csv file and print cost time\n",
    "t0 = time()\n",
    "# df = pd.read_csv(relative_filename, error_bad_lines=False)\n",
    "# df = pd.read_csv(relative_filename, usecols = wants_cols, error_bad_lines=False)\n",
    "# df = pd.read_csv(relative_filename, usecols = wants_cols, error_bad_lines=False, nrows = 100000)\n",
    "# df = pd.read_csv(relative_filename, error_bad_lines=False)\n",
    "# df = pd.read_csv(relative_filename, error_bad_lines=False)\n",
    "\n",
    "# df = pd.read_csv(relative_filename, error_bad_lines=False)\n",
    "# df = pd.read_csv(relative_filename, usecols = wants_cols, sep  = '\\t', error_bad_lines=False)\n",
    "\n",
    "group_df = pd.read_csv(relative_filename, error_bad_lines=False)\n",
    "# df = pd.read_csv(relative_filename, error_bad_lines=False)\n",
    "print(\"time for read csv: %.2f\" % (time()-t0))\n"
   ]
  },
  {
   "cell_type": "code",
   "execution_count": 158,
   "metadata": {},
   "outputs": [
    {
     "data": {
      "text/html": [
       "<div>\n",
       "<style>\n",
       "    .dataframe thead tr:only-child th {\n",
       "        text-align: right;\n",
       "    }\n",
       "\n",
       "    .dataframe thead th {\n",
       "        text-align: left;\n",
       "    }\n",
       "\n",
       "    .dataframe tbody tr th {\n",
       "        vertical-align: top;\n",
       "    }\n",
       "</style>\n",
       "<table border=\"1\" class=\"dataframe\">\n",
       "  <thead>\n",
       "    <tr style=\"text-align: right;\">\n",
       "      <th></th>\n",
       "      <th>Unnamed: 0</th>\n",
       "      <th>MINING_DW_SUBSCR_NO</th>\n",
       "      <th>Groups</th>\n",
       "    </tr>\n",
       "  </thead>\n",
       "  <tbody>\n",
       "    <tr>\n",
       "      <th>0</th>\n",
       "      <td>1</td>\n",
       "      <td>10000000288</td>\n",
       "      <td>Social-media</td>\n",
       "    </tr>\n",
       "    <tr>\n",
       "      <th>1</th>\n",
       "      <td>2</td>\n",
       "      <td>10000000948</td>\n",
       "      <td>No_significant_preference</td>\n",
       "    </tr>\n",
       "    <tr>\n",
       "      <th>2</th>\n",
       "      <td>3</td>\n",
       "      <td>10000007770</td>\n",
       "      <td>No_significant_preference</td>\n",
       "    </tr>\n",
       "    <tr>\n",
       "      <th>3</th>\n",
       "      <td>4</td>\n",
       "      <td>10000015635</td>\n",
       "      <td>InstantMessage-SuperHigh</td>\n",
       "    </tr>\n",
       "    <tr>\n",
       "      <th>4</th>\n",
       "      <td>5</td>\n",
       "      <td>10000023710</td>\n",
       "      <td>Social-media</td>\n",
       "    </tr>\n",
       "  </tbody>\n",
       "</table>\n",
       "</div>"
      ],
      "text/plain": [
       "   Unnamed: 0  MINING_DW_SUBSCR_NO                     Groups\n",
       "0           1          10000000288               Social-media\n",
       "1           2          10000000948  No_significant_preference\n",
       "2           3          10000007770  No_significant_preference\n",
       "3           4          10000015635   InstantMessage-SuperHigh\n",
       "4           5          10000023710               Social-media"
      ]
     },
     "execution_count": 158,
     "metadata": {},
     "output_type": "execute_result"
    }
   ],
   "source": [
    "group_df.head()"
   ]
  },
  {
   "cell_type": "code",
   "execution_count": 159,
   "metadata": {
    "collapsed": true
   },
   "outputs": [],
   "source": [
    "path = \"./\"\n",
    "filename = \"MDS_MONTH_7_2017_8_16churn_table\"\n",
    "relative_filename = path + filename + \".csv\""
   ]
  },
  {
   "cell_type": "code",
   "execution_count": 160,
   "metadata": {},
   "outputs": [
    {
     "name": "stdout",
     "output_type": "stream",
     "text": [
      "time for read csv: 1.40\n"
     ]
    }
   ],
   "source": [
    "# read csv file and print cost time\n",
    "t0 = time()\n",
    "df = pd.read_csv(relative_filename, error_bad_lines=False)\n",
    "print(\"time for read csv: %.2f\" % (time()-t0))\n"
   ]
  },
  {
   "cell_type": "markdown",
   "metadata": {},
   "source": [
    "# check people size"
   ]
  },
  {
   "cell_type": "code",
   "execution_count": 161,
   "metadata": {
    "collapsed": true
   },
   "outputs": [],
   "source": [
    "origin_people = len(group_df)"
   ]
  },
  {
   "cell_type": "code",
   "execution_count": 162,
   "metadata": {
    "collapsed": true
   },
   "outputs": [],
   "source": [
    "filter_mkt_df = group_df[group_df['MINING_DW_SUBSCR_NO'].isin(df['MINING_DW_SUBSCR_NO'])]\n",
    "filter_people = len(filter_mkt_df)"
   ]
  },
  {
   "cell_type": "code",
   "execution_count": 163,
   "metadata": {},
   "outputs": [
    {
     "data": {
      "text/plain": [
       "1811615"
      ]
     },
     "execution_count": 163,
     "metadata": {},
     "output_type": "execute_result"
    }
   ],
   "source": [
    "len(group_df)"
   ]
  },
  {
   "cell_type": "code",
   "execution_count": 164,
   "metadata": {},
   "outputs": [
    {
     "data": {
      "text/plain": [
       "5564360"
      ]
     },
     "execution_count": 164,
     "metadata": {},
     "output_type": "execute_result"
    }
   ],
   "source": [
    "len(df)"
   ]
  },
  {
   "cell_type": "code",
   "execution_count": 165,
   "metadata": {},
   "outputs": [
    {
     "name": "stdout",
     "output_type": "stream",
     "text": [
      "people is imbalance merge and fill up churn with Y\n"
     ]
    }
   ],
   "source": [
    "if origin_people != filter_people:\n",
    "    print(\"people is imbalance merge and fill up churn with Y\")\n",
    "result = pd.merge(group_df, df, on='MINING_DW_SUBSCR_NO', how='left')\n",
    "result[\"CHURN_IND\"] = result[\"CHURN_IND\"].fillna(\"Y\")"
   ]
  },
  {
   "cell_type": "code",
   "execution_count": 168,
   "metadata": {},
   "outputs": [],
   "source": [
    "result = result.drop_duplicates(\"MINING_DW_SUBSCR_NO\")"
   ]
  },
  {
   "cell_type": "code",
   "execution_count": 169,
   "metadata": {},
   "outputs": [
    {
     "data": {
      "text/plain": [
       "3128952831     1\n",
       "3121655968     1\n",
       "10000398473    1\n",
       "1112662154     1\n",
       "8133929099     1\n",
       "3117535372     1\n",
       "2115055760     1\n",
       "3130073234     1\n",
       "10000343186    1\n",
       "10000363672    1\n",
       "3117506714     1\n",
       "3125893277     1\n",
       "3125887134     1\n",
       "10000312483    1\n",
       "1147014        1\n",
       "10000308389    1\n",
       "8133843109     1\n",
       "10000378764    1\n",
       "10000302246    1\n",
       "3130063017     1\n",
       "3130056874     1\n",
       "10000324781    1\n",
       "2115033261     1\n",
       "3130050735     1\n",
       "1111791751     1\n",
       "10000279731    1\n",
       "10000367750    1\n",
       "3127354740     1\n",
       "3126321226     1\n",
       "10000724072    1\n",
       "              ..\n",
       "3136330575     1\n",
       "3126132221     1\n",
       "2113739519     1\n",
       "3137155834     1\n",
       "8132569849     1\n",
       "2113759985     1\n",
       "8132537033     1\n",
       "3128734410     1\n",
       "3132916428     1\n",
       "8136723149     1\n",
       "8136725198     1\n",
       "2113692368     1\n",
       "3128715985     1\n",
       "3122094794     1\n",
       "8137074827     1\n",
       "8136708822     1\n",
       "3120323287     1\n",
       "3137086168     1\n",
       "3120304862     1\n",
       "8136694495     1\n",
       "3137202913     1\n",
       "8132623075     1\n",
       "8136999734     1\n",
       "3137194725     1\n",
       "3128808166     1\n",
       "8136794856     1\n",
       "3124603625     1\n",
       "3128158965     1\n",
       "8136792815     1\n",
       "3131989274     1\n",
       "Name: MINING_DW_SUBSCR_NO, Length: 1811615, dtype: int64"
      ]
     },
     "execution_count": 169,
     "metadata": {},
     "output_type": "execute_result"
    }
   ],
   "source": [
    "result[\"MINING_DW_SUBSCR_NO\"].value_counts()"
   ]
  },
  {
   "cell_type": "code",
   "execution_count": 170,
   "metadata": {},
   "outputs": [
    {
     "data": {
      "text/plain": [
       "array(['N', 'Y'], dtype=object)"
      ]
     },
     "execution_count": 170,
     "metadata": {},
     "output_type": "execute_result"
    }
   ],
   "source": [
    "result[\"CHURN_IND\"].unique()"
   ]
  },
  {
   "cell_type": "code",
   "execution_count": 171,
   "metadata": {},
   "outputs": [
    {
     "data": {
      "text/plain": [
       "1811615"
      ]
     },
     "execution_count": 171,
     "metadata": {},
     "output_type": "execute_result"
    }
   ],
   "source": [
    "origin_people"
   ]
  },
  {
   "cell_type": "code",
   "execution_count": 172,
   "metadata": {},
   "outputs": [
    {
     "data": {
      "text/plain": [
       "1811615"
      ]
     },
     "execution_count": 172,
     "metadata": {},
     "output_type": "execute_result"
    }
   ],
   "source": [
    "len(result)"
   ]
  },
  {
   "cell_type": "code",
   "execution_count": 173,
   "metadata": {},
   "outputs": [],
   "source": [
    "if origin_people != len(result):\n",
    "    print(\"what the fuck it should raise error\")\n",
    "    raise \"what the fuck\""
   ]
  },
  {
   "cell_type": "code",
   "execution_count": 174,
   "metadata": {},
   "outputs": [
    {
     "data": {
      "text/html": [
       "<div>\n",
       "<style>\n",
       "    .dataframe thead tr:only-child th {\n",
       "        text-align: right;\n",
       "    }\n",
       "\n",
       "    .dataframe thead th {\n",
       "        text-align: left;\n",
       "    }\n",
       "\n",
       "    .dataframe tbody tr th {\n",
       "        vertical-align: top;\n",
       "    }\n",
       "</style>\n",
       "<table border=\"1\" class=\"dataframe\">\n",
       "  <thead>\n",
       "    <tr style=\"text-align: right;\">\n",
       "      <th></th>\n",
       "      <th>Unnamed: 0</th>\n",
       "      <th>MINING_DW_SUBSCR_NO</th>\n",
       "      <th>Groups</th>\n",
       "      <th>DATA_MONTH</th>\n",
       "      <th>CHURN_IND</th>\n",
       "    </tr>\n",
       "  </thead>\n",
       "  <tbody>\n",
       "    <tr>\n",
       "      <th>0</th>\n",
       "      <td>1</td>\n",
       "      <td>10000000288</td>\n",
       "      <td>Social-media</td>\n",
       "      <td>2017/7/1</td>\n",
       "      <td>N</td>\n",
       "    </tr>\n",
       "    <tr>\n",
       "      <th>1</th>\n",
       "      <td>2</td>\n",
       "      <td>10000000948</td>\n",
       "      <td>No_significant_preference</td>\n",
       "      <td>2017/7/1</td>\n",
       "      <td>N</td>\n",
       "    </tr>\n",
       "    <tr>\n",
       "      <th>2</th>\n",
       "      <td>3</td>\n",
       "      <td>10000007770</td>\n",
       "      <td>No_significant_preference</td>\n",
       "      <td>2017/7/1</td>\n",
       "      <td>N</td>\n",
       "    </tr>\n",
       "    <tr>\n",
       "      <th>3</th>\n",
       "      <td>4</td>\n",
       "      <td>10000015635</td>\n",
       "      <td>InstantMessage-SuperHigh</td>\n",
       "      <td>2017/7/1</td>\n",
       "      <td>N</td>\n",
       "    </tr>\n",
       "    <tr>\n",
       "      <th>4</th>\n",
       "      <td>5</td>\n",
       "      <td>10000023710</td>\n",
       "      <td>Social-media</td>\n",
       "      <td>2017/7/1</td>\n",
       "      <td>N</td>\n",
       "    </tr>\n",
       "  </tbody>\n",
       "</table>\n",
       "</div>"
      ],
      "text/plain": [
       "   Unnamed: 0  MINING_DW_SUBSCR_NO                     Groups DATA_MONTH  \\\n",
       "0           1          10000000288               Social-media   2017/7/1   \n",
       "1           2          10000000948  No_significant_preference   2017/7/1   \n",
       "2           3          10000007770  No_significant_preference   2017/7/1   \n",
       "3           4          10000015635   InstantMessage-SuperHigh   2017/7/1   \n",
       "4           5          10000023710               Social-media   2017/7/1   \n",
       "\n",
       "  CHURN_IND  \n",
       "0         N  \n",
       "1         N  \n",
       "2         N  \n",
       "3         N  \n",
       "4         N  "
      ]
     },
     "execution_count": 174,
     "metadata": {},
     "output_type": "execute_result"
    }
   ],
   "source": [
    "result.head()"
   ]
  },
  {
   "cell_type": "code",
   "execution_count": 175,
   "metadata": {
    "collapsed": true
   },
   "outputs": [],
   "source": [
    "churn_info = \"\""
   ]
  },
  {
   "cell_type": "code",
   "execution_count": 176,
   "metadata": {
    "collapsed": true
   },
   "outputs": [],
   "source": [
    "all_churn_rate = len(result[result[\"CHURN_IND\"] == \"Y\"]) / origin_people \n",
    "all_churn_rate_info = \"All churn rate = %.3f%%\" % (all_churn_rate * 100)\n",
    "churn_info += all_churn_rate_info + \"\\n\""
   ]
  },
  {
   "cell_type": "code",
   "execution_count": 177,
   "metadata": {},
   "outputs": [
    {
     "name": "stdout",
     "output_type": "stream",
     "text": [
      "All churn rate = 4.035%\n"
     ]
    }
   ],
   "source": [
    "print(all_churn_rate_info)"
   ]
  },
  {
   "cell_type": "code",
   "execution_count": 178,
   "metadata": {},
   "outputs": [
    {
     "data": {
      "text/plain": [
       "0.04035239275453118"
      ]
     },
     "execution_count": 178,
     "metadata": {},
     "output_type": "execute_result"
    }
   ],
   "source": [
    "all_churn_rate"
   ]
  },
  {
   "cell_type": "code",
   "execution_count": 179,
   "metadata": {
    "scrolled": true
   },
   "outputs": [
    {
     "name": "stdout",
     "output_type": "stream",
     "text": [
      "Group : Social-media churn rate = 3.806%\n",
      "Group : No_significant_preference churn rate = 4.260%\n",
      "Group : InstantMessage-SuperHigh churn rate = 4.023%\n",
      "Group : InstantMessage-High churn rate = 4.082%\n",
      "Group : Portal churn rate = 4.583%\n",
      "Group : No_significant_preference(instant_message) churn rate = 4.030%\n",
      "Group : Game churn rate = 3.542%\n",
      "Group : Entertainment churn rate = 4.075%\n",
      "Group : Adult churn rate = 3.403%\n",
      "Group : Lifestyle churn rate = 3.861%\n",
      "Group : Infrequent_User churn rate = 3.847%\n"
     ]
    }
   ],
   "source": [
    "for group in result[\"Groups\"].unique():\n",
    "    group_result = result[result[\"Groups\"] == group]\n",
    "    group_churn_rate = len(group_result[group_result[\"CHURN_IND\"] == \"Y\"]) / len(group_result) \n",
    "    group_info = \"Group : %s churn rate = %.3f%%\" % (group, group_churn_rate * 100)\n",
    "    print(group_info)\n",
    "    churn_info += group_info + \"\\n\""
   ]
  },
  {
   "cell_type": "code",
   "execution_count": 180,
   "metadata": {},
   "outputs": [
    {
     "name": "stdout",
     "output_type": "stream",
     "text": [
      "All churn rate = 4.035%\n",
      "Group : Social-media churn rate = 3.806%\n",
      "Group : No_significant_preference churn rate = 4.260%\n",
      "Group : InstantMessage-SuperHigh churn rate = 4.023%\n",
      "Group : InstantMessage-High churn rate = 4.082%\n",
      "Group : Portal churn rate = 4.583%\n",
      "Group : No_significant_preference(instant_message) churn rate = 4.030%\n",
      "Group : Game churn rate = 3.542%\n",
      "Group : Entertainment churn rate = 4.075%\n",
      "Group : Adult churn rate = 3.403%\n",
      "Group : Lifestyle churn rate = 3.861%\n",
      "Group : Infrequent_User churn rate = 3.847%\n",
      "\n"
     ]
    }
   ],
   "source": [
    "print(churn_info)"
   ]
  },
  {
   "cell_type": "code",
   "execution_count": 154,
   "metadata": {
    "collapsed": true
   },
   "outputs": [],
   "source": [
    "with open(path + filename + \".txt\", 'w') as f:\n",
    "    f.write(churn_info)"
   ]
  },
  {
   "cell_type": "code",
   "execution_count": null,
   "metadata": {
    "collapsed": true
   },
   "outputs": [],
   "source": []
  },
  {
   "cell_type": "code",
   "execution_count": null,
   "metadata": {
    "collapsed": true
   },
   "outputs": [],
   "source": []
  },
  {
   "cell_type": "code",
   "execution_count": null,
   "metadata": {
    "collapsed": true
   },
   "outputs": [],
   "source": []
  },
  {
   "cell_type": "code",
   "execution_count": null,
   "metadata": {
    "collapsed": true
   },
   "outputs": [],
   "source": []
  },
  {
   "cell_type": "code",
   "execution_count": null,
   "metadata": {
    "collapsed": true
   },
   "outputs": [],
   "source": []
  },
  {
   "cell_type": "code",
   "execution_count": null,
   "metadata": {
    "collapsed": true
   },
   "outputs": [],
   "source": []
  },
  {
   "cell_type": "code",
   "execution_count": null,
   "metadata": {
    "collapsed": true
   },
   "outputs": [],
   "source": []
  }
 ],
 "metadata": {
  "kernelspec": {
   "display_name": "Python 3",
   "language": "python",
   "name": "python3"
  },
  "language_info": {
   "codemirror_mode": {
    "name": "ipython",
    "version": 3
   },
   "file_extension": ".py",
   "mimetype": "text/x-python",
   "name": "python",
   "nbconvert_exporter": "python",
   "pygments_lexer": "ipython3",
   "version": "3.6.1"
  }
 },
 "nbformat": 4,
 "nbformat_minor": 2
}
