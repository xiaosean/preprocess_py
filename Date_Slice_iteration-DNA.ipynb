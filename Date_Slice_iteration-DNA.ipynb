{
 "cells": [
  {
   "cell_type": "code",
   "execution_count": 1,
   "metadata": {
    "collapsed": true
   },
   "outputs": [],
   "source": [
    "import os.path\n",
    "import numpy as np\n",
    "import pandas as pd\n",
    "from time import time\n",
    "from mailerWithUtf8 import mail\n"
   ]
  },
  {
   "cell_type": "code",
   "execution_count": 2,
   "metadata": {
    "collapsed": true
   },
   "outputs": [],
   "source": [
    "def save_dataframe(df, out_filename):\n",
    "   # write to csv and no index\n",
    "    t0 = time()\n",
    "    df.to_csv(out_filename + \".csv\", index=False, encoding='utf-8')\n",
    "    print(\"time for output csv file: %.2f\" % (time()-t0))"
   ]
  },
  {
   "cell_type": "code",
   "execution_count": 3,
   "metadata": {
    "collapsed": true
   },
   "outputs": [],
   "source": [
    "# relative_filename = path + filename + \".csv\"\n",
    "select_month = 4\n",
    "select_year = 2017\n",
    "# after the numeric_st_idx's number will be tranform to int64\n",
    "numeric_st_idx = 0\n",
    "# pick the columns of u wants\n",
    "# wants_cols = ['DATA_MONTH', 'MINING_DW_SUBSCR_NO', 'AGE', \"MO_TTL_DURATION\",\"MO_ONNET_DUR\",\"MO_OFFNET_DUR\",\"PSTN_DUR\",\"MO_TTL_COUNT\",\"MO_ONNET_CNT\",\"MO_OFFNET_CNT\",\"PSTN_CNT\",\"MT_TTL_DURATION\",\"MT_ONNET_DUR\",\"MT_OFFNET_DUR\",\"MT_PSTN_DUR\",\"MT_TTL_COUNT\",\"MT_ONNET_CNT\",\"MT_OFFNET_CNT\",\"MT_PSTN_CNT\",\"MOC_FET_DUR\",\"MOC_TWM_DUR\",\"MOC_CHM_DUR\",\"MOC_OTH_DUR\",\"MOC_PSTN_DUR\",\"MOST_MO_DUR\",\"MTC_FMT_DUR\"]"
   ]
  },
  {
   "cell_type": "code",
   "execution_count": 4,
   "metadata": {},
   "outputs": [],
   "source": [
    "# set configure\n",
    "# path = \"../DATA_FULL/\"\n",
    "path = \"D:/NEW_DATA_FULL_2017_6_16/\"\n",
    "filename = \"DNA_CATG_DAYOF_COMPLETED\"\n",
    "Date_col = \"DATA_MONTH\"\n",
    "relative_filename = path + filename + \".txt\"\n",
    "out_filename = filename + \"_\" + str(select_month) + \"_filter\"\n"
   ]
  },
  {
   "cell_type": "code",
   "execution_count": 5,
   "metadata": {
    "collapsed": true
   },
   "outputs": [],
   "source": [
    "# read csv file and print cost time\n",
    "# t0 = time()\n",
    "# df = pd.read_csv(relative_filename, usecols = wants_cols, error_bad_lines=False)\n",
    "# df = pd.read_csv(relative_filename, error_bad_lines=False, nrows=100)\n",
    "# df = pd.read_csv(relative_filename, error_bad_lines=False, nrows=100)\n",
    "# print(\"time for read csv: %.2f\" % (time()-t0))\n",
    "# df.head()\n"
   ]
  },
  {
   "cell_type": "code",
   "execution_count": 6,
   "metadata": {
    "collapsed": true
   },
   "outputs": [],
   "source": [
    "# df.head()"
   ]
  },
  {
   "cell_type": "code",
   "execution_count": 7,
   "metadata": {
    "collapsed": true
   },
   "outputs": [],
   "source": [
    "# len(df)"
   ]
  },
  {
   "cell_type": "code",
   "execution_count": 8,
   "metadata": {
    "collapsed": true
   },
   "outputs": [],
   "source": [
    "start_time = time()"
   ]
  },
  {
   "cell_type": "code",
   "execution_count": 9,
   "metadata": {
    "collapsed": true
   },
   "outputs": [],
   "source": [
    "chunks=pd.read_table(relative_filename ,chunksize=2**23,sep=',',\\\n",
    "\t\tparse_dates=[Date_col],\\\n",
    "        error_bad_lines=False)"
   ]
  },
  {
   "cell_type": "code",
   "execution_count": 10,
   "metadata": {
    "collapsed": true
   },
   "outputs": [],
   "source": [
    "select_month_df =  pd.DataFrame()"
   ]
  },
  {
   "cell_type": "code",
   "execution_count": 11,
   "metadata": {
    "scrolled": true
   },
   "outputs": [
    {
     "name": "stdout",
     "output_type": "stream",
     "text": [
      "time for output csv file: 9.49\n",
      "time for output csv file: 0.00\n",
      "time for output csv file: 0.00\n",
      "time for output csv file: 0.00\n",
      "time for output csv file: 0.00\n",
      "time for output csv file: 0.00\n",
      "time for output csv file: 0.02\n",
      "time for output csv file: 0.00\n",
      "time for output csv file: 0.00\n",
      "time for output csv file: 0.00\n",
      "time for output csv file: 0.00\n",
      "time for output csv file: 0.02\n",
      "time for output csv file: 0.00\n",
      "time for output csv file: 0.00\n",
      "time for output csv file: 0.00\n",
      "time for output csv file: 0.02\n",
      "time for output csv file: 0.00\n",
      "time for output csv file: 0.00\n",
      "time for output csv file: 0.02\n",
      "time for output csv file: 0.02\n",
      "time for output csv file: 0.00\n",
      "time for output csv file: 0.00\n",
      "time for output csv file: 0.00\n",
      "time for output csv file: 0.02\n",
      "time for output csv file: 0.00\n",
      "time for output csv file: 0.00\n",
      "time for output csv file: 0.00\n",
      "time for output csv file: 0.00\n",
      "time for output csv file: 0.00\n",
      "time for output csv file: 0.00\n",
      "time for output csv file: 0.01\n",
      "time for output csv file: 0.02\n",
      "time for output csv file: 0.02\n",
      "time for output csv file: 0.00\n",
      "time for output csv file: 0.00\n",
      "time for output csv file: 0.02\n",
      "time for output csv file: 0.00\n",
      "time for output csv file: 0.00\n",
      "time for output csv file: 0.02\n",
      "time for output csv file: 0.02\n",
      "time for output csv file: 0.00\n",
      "time for output csv file: 0.00\n",
      "time for output csv file: 0.00\n",
      "time for output csv file: 0.01\n",
      "time for output csv file: 0.00\n",
      "time for output csv file: 0.00\n",
      "time for output csv file: 0.00\n",
      "time for output csv file: 0.03\n",
      "time for output csv file: 0.00\n",
      "time for output csv file: 0.00\n",
      "time for output csv file: 0.00\n",
      "time for output csv file: 0.00\n",
      "time for output csv file: 0.00\n",
      "time for output csv file: 0.00\n",
      "time for output csv file: 0.00\n",
      "time for output csv file: 0.02\n",
      "time for output csv file: 0.02\n",
      "time for output csv file: 0.00\n",
      "time for output csv file: 0.00\n",
      "time for output csv file: 0.03\n",
      "time for output csv file: 0.00\n",
      "time for output csv file: 0.00\n",
      "time for output csv file: 0.00\n",
      "time for output csv file: 0.02\n",
      "time for output csv file: 0.00\n",
      "time for output csv file: 0.00\n",
      "time for output csv file: 0.00\n",
      "time for output csv file: 0.02\n",
      "time for output csv file: 0.00\n",
      "time for output csv file: 0.02\n",
      "time for output csv file: 0.00\n",
      "time for output csv file: 0.02\n",
      "time for output csv file: 0.00\n",
      "time for output csv file: 0.00\n",
      "time for output csv file: 0.00\n",
      "time for output csv file: 0.00\n",
      "time for output csv file: 0.00\n",
      "time for output csv file: 0.00\n",
      "time for output csv file: 0.00\n",
      "time for output csv file: 0.02\n",
      "time for output csv file: 0.00\n",
      "time for output csv file: 0.00\n",
      "time for output csv file: 0.02\n",
      "time for output csv file: 0.00\n",
      "time for output csv file: 0.00\n",
      "time for output csv file: 0.00\n",
      "time for output csv file: 0.00\n",
      "time for output csv file: 0.00\n",
      "time for output csv file: 0.00\n",
      "time for output csv file: 0.02\n",
      "time for output csv file: 0.02\n",
      "time for output csv file: 0.00\n",
      "time for output csv file: 0.00\n",
      "time for output csv file: 0.00\n",
      "time for output csv file: 0.00\n",
      "time for output csv file: 0.02\n",
      "time for output csv file: 0.00\n",
      "time for output csv file: 0.00\n",
      "time for output csv file: 0.00\n",
      "time for output csv file: 0.00\n",
      "time for output csv file: 0.00\n",
      "time for output csv file: 0.00\n",
      "time for output csv file: 0.00\n",
      "time for output csv file: 0.00\n",
      "time for output csv file: 0.00\n",
      "time for output csv file: 0.00\n",
      "time for output csv file: 0.00\n",
      "time for output csv file: 0.00\n",
      "time for output csv file: 0.00\n",
      "time for output csv file: 0.00\n",
      "time for output csv file: 76.39\n",
      "time for output csv file: 128.40\n",
      "time for output csv file: 132.88\n",
      "time for output csv file: 133.42\n",
      "time for output csv file: 131.76\n",
      "time for output csv file: 132.21\n",
      "time for output csv file: 134.13\n",
      "time for output csv file: 132.22\n",
      "time for output csv file: 133.72\n",
      "time for output csv file: 133.58\n",
      "time for output csv file: 133.28\n",
      "time for output csv file: 133.52\n",
      "time for output csv file: 127.08\n",
      "time for output csv file: 121.45\n",
      "time for output csv file: 132.20\n",
      "time for output csv file: 132.64\n",
      "time for output csv file: 133.17\n",
      "time for output csv file: 133.23\n",
      "time for output csv file: 131.90\n",
      "time for output csv file: 133.27\n",
      "time for output csv file: 132.84\n",
      "time for output csv file: 134.13\n",
      "time for output csv file: 132.74\n",
      "time for output csv file: 132.85\n",
      "time for output csv file: 131.85\n",
      "time for output csv file: 132.33\n",
      "time for output csv file: 133.28\n",
      "time for output csv file: 134.17\n",
      "time for output csv file: 132.17\n",
      "time for output csv file: 132.98\n",
      "time for output csv file: 133.06\n",
      "time for output csv file: 132.78\n",
      "time for output csv file: 132.14\n",
      "time for output csv file: 132.97\n",
      "time for output csv file: 118.33\n",
      "time for select month csv: 7662.88\n"
     ]
    }
   ],
   "source": [
    "t0 = time()\n",
    "count = 0\n",
    "for chunk in chunks:\n",
    "    select_month_df =  pd.DataFrame()\n",
    "#     df[Date_col] = pd.to_datetime(df[Date_col])\n",
    "#     select_month_partition = df[df[Date_col].dt.month == select_month]\n",
    "    chunk[Date_col] = pd.to_datetime(chunk[Date_col])\n",
    "    select_month_partition = chunk[(chunk[Date_col].dt.month == select_month) & (chunk[Date_col].dt.year == select_year)]\n",
    "#     select_month_partition = chunk[(chunk[Date_col].dt.month == select_month)]\n",
    "    select_month_df = select_month_df.append(select_month_partition, ignore_index=True)\n",
    "#     print(str(chunk.index) + \"/\" + str(len(chunk)))\n",
    "    save_dataframe(select_month_df,path + out_filename + str(count))\n",
    "    count += 1\n",
    "print(\"time for select month csv: %.2f\" % (time()-t0))\n"
   ]
  },
  {
   "cell_type": "code",
   "execution_count": 12,
   "metadata": {},
   "outputs": [
    {
     "data": {
      "text/html": [
       "<div>\n",
       "<style>\n",
       "    .dataframe thead tr:only-child th {\n",
       "        text-align: right;\n",
       "    }\n",
       "\n",
       "    .dataframe thead th {\n",
       "        text-align: left;\n",
       "    }\n",
       "\n",
       "    .dataframe tbody tr th {\n",
       "        vertical-align: top;\n",
       "    }\n",
       "</style>\n",
       "<table border=\"1\" class=\"dataframe\">\n",
       "  <thead>\n",
       "    <tr style=\"text-align: right;\">\n",
       "      <th></th>\n",
       "      <th>DATA_MONTH</th>\n",
       "      <th>MINING_DW_SUBSCR_NO</th>\n",
       "      <th>HTTPDR_START_DATE</th>\n",
       "      <th>DNA_CATG_ID</th>\n",
       "      <th>DNA_CATG_DESC</th>\n",
       "      <th>HTTPDR_DATA_H00_CNT</th>\n",
       "      <th>HTTPDR_DATA_H01_CNT</th>\n",
       "      <th>HTTPDR_DATA_H02_CNT</th>\n",
       "      <th>HTTPDR_DATA_H03_CNT</th>\n",
       "      <th>HTTPDR_DATA_H04_CNT</th>\n",
       "      <th>...</th>\n",
       "      <th>HTTPDR_DATA_H14_CNT</th>\n",
       "      <th>HTTPDR_DATA_H15_CNT</th>\n",
       "      <th>HTTPDR_DATA_H16_CNT</th>\n",
       "      <th>HTTPDR_DATA_H17_CNT</th>\n",
       "      <th>HTTPDR_DATA_H18_CNT</th>\n",
       "      <th>HTTPDR_DATA_H19_CNT</th>\n",
       "      <th>HTTPDR_DATA_H20_CNT</th>\n",
       "      <th>HTTPDR_DATA_H21_CNT</th>\n",
       "      <th>HTTPDR_DATA_H22_CNT</th>\n",
       "      <th>HTTPDR_DATA_H23_CNT</th>\n",
       "    </tr>\n",
       "  </thead>\n",
       "  <tbody>\n",
       "    <tr>\n",
       "      <th>0</th>\n",
       "      <td>2017-04-01</td>\n",
       "      <td>3130737040</td>\n",
       "      <td>2017/4/7</td>\n",
       "      <td>744426</td>\n",
       "      <td>網路服務</td>\n",
       "      <td>0</td>\n",
       "      <td>0</td>\n",
       "      <td>0</td>\n",
       "      <td>0</td>\n",
       "      <td>0</td>\n",
       "      <td>...</td>\n",
       "      <td>0</td>\n",
       "      <td>1</td>\n",
       "      <td>0</td>\n",
       "      <td>0</td>\n",
       "      <td>0</td>\n",
       "      <td>0</td>\n",
       "      <td>0</td>\n",
       "      <td>0</td>\n",
       "      <td>0</td>\n",
       "      <td>0</td>\n",
       "    </tr>\n",
       "    <tr>\n",
       "      <th>1</th>\n",
       "      <td>2017-04-01</td>\n",
       "      <td>10000219484</td>\n",
       "      <td>2017/4/25</td>\n",
       "      <td>369612</td>\n",
       "      <td>社群媒體</td>\n",
       "      <td>0</td>\n",
       "      <td>0</td>\n",
       "      <td>0</td>\n",
       "      <td>0</td>\n",
       "      <td>0</td>\n",
       "      <td>...</td>\n",
       "      <td>0</td>\n",
       "      <td>0</td>\n",
       "      <td>0</td>\n",
       "      <td>0</td>\n",
       "      <td>0</td>\n",
       "      <td>0</td>\n",
       "      <td>0</td>\n",
       "      <td>0</td>\n",
       "      <td>0</td>\n",
       "      <td>0</td>\n",
       "    </tr>\n",
       "    <tr>\n",
       "      <th>2</th>\n",
       "      <td>2017-04-01</td>\n",
       "      <td>8133127762</td>\n",
       "      <td>2017/4/9</td>\n",
       "      <td>437452</td>\n",
       "      <td>入口網站</td>\n",
       "      <td>0</td>\n",
       "      <td>0</td>\n",
       "      <td>0</td>\n",
       "      <td>0</td>\n",
       "      <td>0</td>\n",
       "      <td>...</td>\n",
       "      <td>0</td>\n",
       "      <td>0</td>\n",
       "      <td>0</td>\n",
       "      <td>0</td>\n",
       "      <td>0</td>\n",
       "      <td>0</td>\n",
       "      <td>0</td>\n",
       "      <td>0</td>\n",
       "      <td>0</td>\n",
       "      <td>0</td>\n",
       "    </tr>\n",
       "    <tr>\n",
       "      <th>3</th>\n",
       "      <td>2017-04-01</td>\n",
       "      <td>3134132521</td>\n",
       "      <td>2017/4/9</td>\n",
       "      <td>744426</td>\n",
       "      <td>網路服務</td>\n",
       "      <td>0</td>\n",
       "      <td>0</td>\n",
       "      <td>0</td>\n",
       "      <td>0</td>\n",
       "      <td>0</td>\n",
       "      <td>...</td>\n",
       "      <td>1</td>\n",
       "      <td>3</td>\n",
       "      <td>0</td>\n",
       "      <td>1</td>\n",
       "      <td>0</td>\n",
       "      <td>8</td>\n",
       "      <td>0</td>\n",
       "      <td>0</td>\n",
       "      <td>0</td>\n",
       "      <td>0</td>\n",
       "    </tr>\n",
       "    <tr>\n",
       "      <th>4</th>\n",
       "      <td>2017-04-01</td>\n",
       "      <td>10000177884</td>\n",
       "      <td>2017/4/7</td>\n",
       "      <td>458969</td>\n",
       "      <td>生活資訊</td>\n",
       "      <td>0</td>\n",
       "      <td>0</td>\n",
       "      <td>0</td>\n",
       "      <td>0</td>\n",
       "      <td>0</td>\n",
       "      <td>...</td>\n",
       "      <td>0</td>\n",
       "      <td>0</td>\n",
       "      <td>0</td>\n",
       "      <td>2</td>\n",
       "      <td>0</td>\n",
       "      <td>0</td>\n",
       "      <td>2</td>\n",
       "      <td>0</td>\n",
       "      <td>0</td>\n",
       "      <td>0</td>\n",
       "    </tr>\n",
       "  </tbody>\n",
       "</table>\n",
       "<p>5 rows × 29 columns</p>\n",
       "</div>"
      ],
      "text/plain": [
       "  DATA_MONTH  MINING_DW_SUBSCR_NO HTTPDR_START_DATE  DNA_CATG_ID  \\\n",
       "0 2017-04-01           3130737040          2017/4/7       744426   \n",
       "1 2017-04-01          10000219484         2017/4/25       369612   \n",
       "2 2017-04-01           8133127762          2017/4/9       437452   \n",
       "3 2017-04-01           3134132521          2017/4/9       744426   \n",
       "4 2017-04-01          10000177884          2017/4/7       458969   \n",
       "\n",
       "  DNA_CATG_DESC  HTTPDR_DATA_H00_CNT  HTTPDR_DATA_H01_CNT  \\\n",
       "0          網路服務                    0                    0   \n",
       "1          社群媒體                    0                    0   \n",
       "2          入口網站                    0                    0   \n",
       "3          網路服務                    0                    0   \n",
       "4          生活資訊                    0                    0   \n",
       "\n",
       "   HTTPDR_DATA_H02_CNT  HTTPDR_DATA_H03_CNT  HTTPDR_DATA_H04_CNT  \\\n",
       "0                    0                    0                    0   \n",
       "1                    0                    0                    0   \n",
       "2                    0                    0                    0   \n",
       "3                    0                    0                    0   \n",
       "4                    0                    0                    0   \n",
       "\n",
       "          ...           HTTPDR_DATA_H14_CNT  HTTPDR_DATA_H15_CNT  \\\n",
       "0         ...                             0                    1   \n",
       "1         ...                             0                    0   \n",
       "2         ...                             0                    0   \n",
       "3         ...                             1                    3   \n",
       "4         ...                             0                    0   \n",
       "\n",
       "   HTTPDR_DATA_H16_CNT  HTTPDR_DATA_H17_CNT  HTTPDR_DATA_H18_CNT  \\\n",
       "0                    0                    0                    0   \n",
       "1                    0                    0                    0   \n",
       "2                    0                    0                    0   \n",
       "3                    0                    1                    0   \n",
       "4                    0                    2                    0   \n",
       "\n",
       "   HTTPDR_DATA_H19_CNT  HTTPDR_DATA_H20_CNT  HTTPDR_DATA_H21_CNT  \\\n",
       "0                    0                    0                    0   \n",
       "1                    0                    0                    0   \n",
       "2                    0                    0                    0   \n",
       "3                    8                    0                    0   \n",
       "4                    0                    2                    0   \n",
       "\n",
       "   HTTPDR_DATA_H22_CNT  HTTPDR_DATA_H23_CNT  \n",
       "0                    0                    0  \n",
       "1                    0                    0  \n",
       "2                    0                    0  \n",
       "3                    0                    0  \n",
       "4                    0                    0  \n",
       "\n",
       "[5 rows x 29 columns]"
      ]
     },
     "execution_count": 12,
     "metadata": {},
     "output_type": "execute_result"
    }
   ],
   "source": [
    "select_month_df.head()"
   ]
  },
  {
   "cell_type": "code",
   "execution_count": 13,
   "metadata": {},
   "outputs": [
    {
     "data": {
      "text/plain": [
       "7494226"
      ]
     },
     "execution_count": 13,
     "metadata": {},
     "output_type": "execute_result"
    }
   ],
   "source": [
    "len(select_month_df)"
   ]
  },
  {
   "cell_type": "code",
   "execution_count": 14,
   "metadata": {},
   "outputs": [
    {
     "name": "stdout",
     "output_type": "stream",
     "text": [
      "time for output csv file: 118.87\n"
     ]
    }
   ],
   "source": [
    "save_dataframe(select_month_df,path + out_filename)"
   ]
  },
  {
   "cell_type": "code",
   "execution_count": 15,
   "metadata": {
    "collapsed": true
   },
   "outputs": [],
   "source": [
    "import feather \n",
    "feather.write_dataframe(select_month_df, path + out_filename + \".feather\") \n"
   ]
  },
  {
   "cell_type": "code",
   "execution_count": 16,
   "metadata": {},
   "outputs": [
    {
     "name": "stdout",
     "output_type": "stream",
     "text": [
      "Start Send Mail\n",
      "User Email : a - DONE \n",
      "User Email : a - DONE \n",
      "User Email : 2 - DONE \n",
      "User Email : 6 - DONE \n",
      "User Email : 3 - DONE \n",
      "User Email : 6 - DONE \n",
      "User Email : 5 - DONE \n",
      "User Email : 5 - DONE \n",
      "User Email : 6 - DONE \n",
      "User Email : 6 - DONE \n",
      "User Email : @ - DONE \n",
      "User Email : g - DONE \n",
      "User Email : m - DONE \n",
      "User Email : a - DONE \n",
      "User Email : i - DONE \n",
      "User Email : l - DONE \n",
      "User Email : . - DONE \n",
      "User Email : c - DONE \n",
      "User Email : o - DONE \n",
      "User Email : m - DONE \n",
      "Finish Send Mail\n"
     ]
    }
   ],
   "source": [
    "mail_main = \"spend time = \" + str(time() - start_time)  \n",
    "test=mail()\n",
    "test.main(\"month finished\", mail_main)"
   ]
  },
  {
   "cell_type": "code",
   "execution_count": null,
   "metadata": {
    "scrolled": true
   },
   "outputs": [],
   "source": [
    "select_month_df.head()"
   ]
  },
  {
   "cell_type": "code",
   "execution_count": null,
   "metadata": {
    "collapsed": true
   },
   "outputs": [],
   "source": [
    "# slice 12months data\n",
    "for month_idx in range(1,13):\n",
    "    divide_month = df[df['VOICE_MONTH'].dt.month == month_idx]\n",
    "    if(len(divide_month) == 0):\n",
    "        continue\n",
    "    # write to csv and no index\n",
    "    t0 = time()\n",
    "    divide_month.to_csv(out_filename + str(month_idx) + \".csv\", index=False)\n",
    "    print(\"time for output csv file: %.2f\" % (time()-t0))"
   ]
  },
  {
   "cell_type": "code",
   "execution_count": null,
   "metadata": {
    "collapsed": true
   },
   "outputs": [],
   "source": [
    "del df"
   ]
  },
  {
   "cell_type": "code",
   "execution_count": null,
   "metadata": {
    "collapsed": true
   },
   "outputs": [],
   "source": []
  }
 ],
 "metadata": {
  "kernelspec": {
   "display_name": "Python 3",
   "language": "python",
   "name": "python3"
  },
  "language_info": {
   "codemirror_mode": {
    "name": "ipython",
    "version": 3
   },
   "file_extension": ".py",
   "mimetype": "text/x-python",
   "name": "python",
   "nbconvert_exporter": "python",
   "pygments_lexer": "ipython3",
   "version": "3.5.3"
  }
 },
 "nbformat": 4,
 "nbformat_minor": 2
}
