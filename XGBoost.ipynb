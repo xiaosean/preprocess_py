{
 "cells": [
  {
   "cell_type": "code",
   "execution_count": 1,
   "metadata": {
    "collapsed": true
   },
   "outputs": [],
   "source": [
    "import pandas as pd\n",
    "import numpy as np\n",
    "from sklearn import model_selection\n",
    "from sklearn.metrics import accuracy_score\n",
    "from sklearn.preprocessing import LabelEncoder, OneHotEncoder\n",
    "from sklearn.model_selection import *\n",
    "from matplotlib import pyplot\n",
    "from time import time"
   ]
  },
  {
   "cell_type": "code",
   "execution_count": 2,
   "metadata": {
    "collapsed": true
   },
   "outputs": [],
   "source": [
    "from xgboost import *"
   ]
  },
  {
   "cell_type": "markdown",
   "metadata": {},
   "source": [
    "# data preparation"
   ]
  },
  {
   "cell_type": "code",
   "execution_count": null,
   "metadata": {
    "collapsed": true
   },
   "outputs": [],
   "source": [
    "path = \"C:/Users/VIPLAB/Desktop/preprocess_py/marketing_analyze/\"\n",
    "filename = \"mkt_with_11_group_id_20170712.csv\"\n",
    "train_df = pd.read_csv(path + filename, error_bad_lines=False, nrows = 100)"
   ]
  },
  {
   "cell_type": "code",
   "execution_count": null,
   "metadata": {
    "collapsed": true
   },
   "outputs": [],
   "source": [
    "train_df['W2P_SMS_MO_ONNET_CNT'].dtypes"
   ]
  },
  {
   "cell_type": "code",
   "execution_count": null,
   "metadata": {
    "collapsed": true,
    "scrolled": true
   },
   "outputs": [],
   "source": [
    "train_df['W2P_SMS_MO_ONNET_CNT'].values\n",
    "# train_df.groupby('BILL_DISTRICT_NAME').describe()"
   ]
  },
  {
   "cell_type": "code",
   "execution_count": null,
   "metadata": {
    "collapsed": true
   },
   "outputs": [],
   "source": [
    "X = train_df.values[:,:-1]\n",
    "Y = train_df.values[:,-1]"
   ]
  },
  {
   "cell_type": "code",
   "execution_count": null,
   "metadata": {
    "collapsed": true
   },
   "outputs": [],
   "source": [
    "label_encoder = LabelEncoder()\n",
    "label_encoder = label_encoder.fit(Y)\n",
    "label_encoded_y = label_encoder.transform(Y)"
   ]
  },
  {
   "cell_type": "code",
   "execution_count": null,
   "metadata": {
    "collapsed": true
   },
   "outputs": [],
   "source": [
    "label_encoded_y"
   ]
  },
  {
   "cell_type": "code",
   "execution_count": null,
   "metadata": {
    "collapsed": true
   },
   "outputs": [],
   "source": []
  },
  {
   "cell_type": "markdown",
   "metadata": {},
   "source": [
    "# categorical feature encoding without one hot encode"
   ]
  },
  {
   "cell_type": "code",
   "execution_count": 9,
   "metadata": {
    "collapsed": true
   },
   "outputs": [],
   "source": [
    "sample = 0\n",
    "group_name = 'Adult'\n",
    "path = \"C:/Users/VIPLAB/Desktop/preprocess_py/marketing_analyze/0725_sample/\" + group_name + \"/\"\n",
    "filename = \"0725_april_marketing_anylze_select_294_table_group11_max_min_sample_\" + group_name + \"_others_\" + str(sample) + \".csv\"\n",
    "# filename = \"0719_april_marketing_anylze_full_table_group11_max_min_train.csv\"\n",
    "train_df = pd.read_csv(path + filename, error_bad_lines=False)"
   ]
  },
  {
   "cell_type": "code",
   "execution_count": 62,
   "metadata": {},
   "outputs": [
    {
     "data": {
      "text/html": [
       "<div>\n",
       "<style>\n",
       "    .dataframe thead tr:only-child th {\n",
       "        text-align: right;\n",
       "    }\n",
       "\n",
       "    .dataframe thead th {\n",
       "        text-align: left;\n",
       "    }\n",
       "\n",
       "    .dataframe tbody tr th {\n",
       "        vertical-align: top;\n",
       "    }\n",
       "</style>\n",
       "<table border=\"1\" class=\"dataframe\">\n",
       "  <thead>\n",
       "    <tr style=\"text-align: right;\">\n",
       "      <th></th>\n",
       "      <th>DATA_MONTH</th>\n",
       "      <th>RENEW_IND</th>\n",
       "      <th>GA_IND</th>\n",
       "      <th>ACTV_TYPE</th>\n",
       "      <th>GA_DATE</th>\n",
       "      <th>CHURN_IND</th>\n",
       "      <th>CHURN_TYPE</th>\n",
       "      <th>INACTV_DATE</th>\n",
       "      <th>MKT_CHURN_DATE</th>\n",
       "      <th>SUSPEND_IND</th>\n",
       "      <th>...</th>\n",
       "      <th>L2M_DEVICE_MODEL</th>\n",
       "      <th>L2M_DEVICE_PRICE_TIER</th>\n",
       "      <th>L2M_DEVICE_TYPE</th>\n",
       "      <th>HS_CHG_CNT</th>\n",
       "      <th>AVG_HS_USE_MONTH</th>\n",
       "      <th>AVG_HS_USE_MONTH_EX_CURR</th>\n",
       "      <th>ZONE_ACTV_IVR_COUNTRY</th>\n",
       "      <th>ZONE_ACTV_IVR_REGION</th>\n",
       "      <th>STORE_TYPE</th>\n",
       "      <th>SPAUTH_IND</th>\n",
       "    </tr>\n",
       "    <tr>\n",
       "      <th>Groups</th>\n",
       "      <th></th>\n",
       "      <th></th>\n",
       "      <th></th>\n",
       "      <th></th>\n",
       "      <th></th>\n",
       "      <th></th>\n",
       "      <th></th>\n",
       "      <th></th>\n",
       "      <th></th>\n",
       "      <th></th>\n",
       "      <th></th>\n",
       "      <th></th>\n",
       "      <th></th>\n",
       "      <th></th>\n",
       "      <th></th>\n",
       "      <th></th>\n",
       "      <th></th>\n",
       "      <th></th>\n",
       "      <th></th>\n",
       "      <th></th>\n",
       "      <th></th>\n",
       "    </tr>\n",
       "  </thead>\n",
       "  <tbody>\n",
       "    <tr>\n",
       "      <th>Game</th>\n",
       "      <td>87618</td>\n",
       "      <td>87618</td>\n",
       "      <td>87618</td>\n",
       "      <td>87618</td>\n",
       "      <td>87618</td>\n",
       "      <td>87618</td>\n",
       "      <td>87618</td>\n",
       "      <td>87618</td>\n",
       "      <td>87618</td>\n",
       "      <td>87618</td>\n",
       "      <td>...</td>\n",
       "      <td>87618</td>\n",
       "      <td>87618</td>\n",
       "      <td>87618</td>\n",
       "      <td>87618</td>\n",
       "      <td>87618</td>\n",
       "      <td>87618</td>\n",
       "      <td>87618</td>\n",
       "      <td>87618</td>\n",
       "      <td>87618</td>\n",
       "      <td>87618</td>\n",
       "    </tr>\n",
       "  </tbody>\n",
       "</table>\n",
       "<p>1 rows × 293 columns</p>\n",
       "</div>"
      ],
      "text/plain": [
       "        DATA_MONTH  RENEW_IND  GA_IND  ACTV_TYPE  GA_DATE  CHURN_IND  \\\n",
       "Groups                                                                 \n",
       "Game         87618      87618   87618      87618    87618      87618   \n",
       "\n",
       "        CHURN_TYPE  INACTV_DATE  MKT_CHURN_DATE  SUSPEND_IND     ...      \\\n",
       "Groups                                                           ...       \n",
       "Game         87618        87618           87618        87618     ...       \n",
       "\n",
       "        L2M_DEVICE_MODEL  L2M_DEVICE_PRICE_TIER  L2M_DEVICE_TYPE  HS_CHG_CNT  \\\n",
       "Groups                                                                         \n",
       "Game               87618                  87618            87618       87618   \n",
       "\n",
       "        AVG_HS_USE_MONTH  AVG_HS_USE_MONTH_EX_CURR  ZONE_ACTV_IVR_COUNTRY  \\\n",
       "Groups                                                                      \n",
       "Game               87618                     87618                  87618   \n",
       "\n",
       "        ZONE_ACTV_IVR_REGION  STORE_TYPE  SPAUTH_IND  \n",
       "Groups                                                \n",
       "Game                   87618       87618       87618  \n",
       "\n",
       "[1 rows x 293 columns]"
      ]
     },
     "execution_count": 62,
     "metadata": {},
     "output_type": "execute_result"
    }
   ],
   "source": [
    "# train_df = train_df[train_df['Groups'] != 'Infrequent_User']\n",
    "\n",
    "train_df.groupby('Groups').count()"
   ]
  },
  {
   "cell_type": "code",
   "execution_count": null,
   "metadata": {
    "collapsed": true
   },
   "outputs": [],
   "source": [
    "train_df[\"INACTV_DATE\"].head()"
   ]
  },
  {
   "cell_type": "code",
   "execution_count": null,
   "metadata": {
    "collapsed": true
   },
   "outputs": [],
   "source": [
    "for c in train_df.columns:\n",
    "    l = len(train_df[c].value_counts())\n",
    "    if l > 1000:\n",
    "        print(c)\n",
    "        print(l)\n",
    "        \n",
    "# "
   ]
  },
  {
   "cell_type": "code",
   "execution_count": null,
   "metadata": {
    "collapsed": true
   },
   "outputs": [],
   "source": [
    "np.max(train_df['CURR_BILL_PLAN_START_DATE'].values)\n",
    "# train_df.columns.values"
   ]
  },
  {
   "cell_type": "code",
   "execution_count": 41,
   "metadata": {
    "collapsed": true
   },
   "outputs": [],
   "source": [
    "X_train = train_df.iloc[:, 0:-1].values\n",
    "y_train = train_df.iloc[:, -1].values"
   ]
  },
  {
   "cell_type": "code",
   "execution_count": 42,
   "metadata": {
    "collapsed": true
   },
   "outputs": [],
   "source": [
    "param_grid = {\n",
    "#     'max_depth':[3, 5],\n",
    "#     'learning_rate':[0.1, 0.05, 0.2],\n",
    "#     'n_estimators':[50, 100, 200]\n",
    "#     'max_depth':[10],\n",
    "#     'learning_rate':[0.05],\n",
    "    'n_estimators':[100],\n",
    "    'max_depth':[5],\n",
    "    'min_child_weight':[7]\n",
    "}\n"
   ]
  },
  {
   "cell_type": "code",
   "execution_count": 43,
   "metadata": {
    "scrolled": true
   },
   "outputs": [
    {
     "name": "stdout",
     "output_type": "stream",
     "text": [
      "training time:  48.57\n"
     ]
    }
   ],
   "source": [
    "t0 = time()\n",
    "model = XGBClassifier(n_jobs = -1, **{\"updater\": \"grow_gpu\"})\n",
    "# kfold = StratifiedKFold(n_splits=4, shuffle=True, random_state=7)\n",
    "gs = GridSearchCV(estimator=model, param_grid=param_grid, scoring='accuracy', cv=5, n_jobs=1)\n",
    "gs.fit(X_train, y_train)\n",
    "print(\"training time:  %.2f\" % (time()-t0))"
   ]
  },
  {
   "cell_type": "code",
   "execution_count": 15,
   "metadata": {},
   "outputs": [
    {
     "data": {
      "text/plain": [
       "<Response [200]>"
      ]
     },
     "execution_count": 15,
     "metadata": {},
     "output_type": "execute_result"
    }
   ],
   "source": [
    "import requests\n",
    "requests.post(\n",
    "        \"https://api.mailgun.net/v3/sandboxe9bb891a60414f4bae93f2cc55daa963.mailgun.org/messages\",\n",
    "        auth=(\"api\", \"key-a007a22faf334a3510137b6cc03c21a6\"),\n",
    "        data={\"from\": \"Mailgun Sandbox <postmaster@sandboxe9bb891a60414f4bae93f2cc55daa963.mailgun.org>\",\n",
    "              \"to\": \"Toby <atch84@gmail.com>\",\n",
    "              \"subject\": \"XGBoost Result\",\n",
    "              \"text\": str(gs.cv_results_)})"
   ]
  },
  {
   "cell_type": "code",
   "execution_count": 44,
   "metadata": {},
   "outputs": [
    {
     "name": "stdout",
     "output_type": "stream",
     "text": [
      "0.681056944253\n",
      "{'min_child_weight': 7, 'max_depth': 5, 'n_estimators': 100}\n"
     ]
    }
   ],
   "source": [
    "print(gs.best_score_)\n",
    "print(gs.best_params_)\n",
    "best_model = gs.best_estimator_"
   ]
  },
  {
   "cell_type": "code",
   "execution_count": 45,
   "metadata": {},
   "outputs": [
    {
     "data": {
      "text/plain": [
       "{'mean_fit_time': array([ 7.19642506]),\n",
       " 'mean_score_time': array([ 0.1468122]),\n",
       " 'mean_test_score': array([ 0.68105694]),\n",
       " 'mean_train_score': array([ 0.71565618]),\n",
       " 'param_max_depth': masked_array(data = [5],\n",
       "              mask = [False],\n",
       "        fill_value = ?),\n",
       " 'param_min_child_weight': masked_array(data = [7],\n",
       "              mask = [False],\n",
       "        fill_value = ?),\n",
       " 'param_n_estimators': masked_array(data = [100],\n",
       "              mask = [False],\n",
       "        fill_value = ?),\n",
       " 'params': ({'max_depth': 5, 'min_child_weight': 7, 'n_estimators': 100},),\n",
       " 'rank_test_score': array([1]),\n",
       " 'split0_test_score': array([ 0.69061867]),\n",
       " 'split0_train_score': array([ 0.71323843]),\n",
       " 'split1_test_score': array([ 0.71592322]),\n",
       " 'split1_train_score': array([ 0.71018045]),\n",
       " 'split2_test_score': array([ 0.73028587]),\n",
       " 'split2_train_score': array([ 0.70348248]),\n",
       " 'split3_test_score': array([ 0.65511209]),\n",
       " 'split3_train_score': array([ 0.72282834]),\n",
       " 'split4_test_score': array([ 0.61334131]),\n",
       " 'split4_train_score': array([ 0.72855121]),\n",
       " 'std_fit_time': array([ 0.04176584]),\n",
       " 'std_score_time': array([ 0.00829032]),\n",
       " 'std_test_score': array([ 0.04240025]),\n",
       " 'std_train_score': array([ 0.00896381])}"
      ]
     },
     "execution_count": 45,
     "metadata": {},
     "output_type": "execute_result"
    }
   ],
   "source": [
    "gs.cv_results_"
   ]
  },
  {
   "cell_type": "code",
   "execution_count": null,
   "metadata": {
    "collapsed": true
   },
   "outputs": [],
   "source": [
    "model = XGBClassifier(n_jobs = -1, **{\"updater\": \"grow_gpu\"})\n",
    "kfold = StratifiedKFold(n_splits=10, shuffle=True, random_state=7)"
   ]
  },
  {
   "cell_type": "code",
   "execution_count": null,
   "metadata": {
    "collapsed": true
   },
   "outputs": [],
   "source": [
    "t0 = time()\n",
    "model = XGBClassifier(n_jobs = -1)\n",
    "model.fit(X_train, y_train)\n",
    "# result =  cross_val_score(model,  X_train, y_train, cv=kfold, n_jobs=-1)\n",
    "print(\"training time: %.2f\" % (time()-t0))"
   ]
  },
  {
   "cell_type": "code",
   "execution_count": null,
   "metadata": {
    "collapsed": true
   },
   "outputs": [],
   "source": [
    "result"
   ]
  },
  {
   "cell_type": "code",
   "execution_count": null,
   "metadata": {
    "collapsed": true
   },
   "outputs": [],
   "source": [
    "path = \"C:/Users/VIPLAB/Desktop/preprocess_py/marketing_analyze/\"\n",
    "filename = \"0719_april_marketing_anylze_full_table_group11_max_min_test.csv\"\n",
    "test_df = pd.read_csv(path + filename, error_bad_lines=False)"
   ]
  },
  {
   "cell_type": "code",
   "execution_count": null,
   "metadata": {
    "collapsed": true
   },
   "outputs": [],
   "source": [
    "X_test = test_df.iloc[:, 0:-1].values\n",
    "y_test = test_df.iloc[:, -1].values"
   ]
  },
  {
   "cell_type": "code",
   "execution_count": 46,
   "metadata": {
    "collapsed": true
   },
   "outputs": [],
   "source": [
    "pred = best_model.predict(X_train)"
   ]
  },
  {
   "cell_type": "code",
   "execution_count": 47,
   "metadata": {},
   "outputs": [
    {
     "name": "stdout",
     "output_type": "stream",
     "text": [
      "Train Accuracy: 71.21%\n"
     ]
    }
   ],
   "source": [
    "accuracy = accuracy_score(y_train, pred)\n",
    "print(\"Train Accuracy: %.2f%%\" % (accuracy * 100.0))"
   ]
  },
  {
   "cell_type": "code",
   "execution_count": null,
   "metadata": {
    "collapsed": true
   },
   "outputs": [],
   "source": [
    "pred = best_model.predict(X_test)"
   ]
  },
  {
   "cell_type": "code",
   "execution_count": null,
   "metadata": {
    "collapsed": true
   },
   "outputs": [],
   "source": [
    "accuracy = accuracy_score(y_test, pred)\n",
    "print(\"Test Accuracy: %.2f%%\" % (accuracy * 100.0))"
   ]
  },
  {
   "cell_type": "code",
   "execution_count": 48,
   "metadata": {},
   "outputs": [
    {
     "data": {
      "image/png": "[encoded data removed]",
      "text/plain": [
       "<matplotlib.figure.Figure at 0x1208c09b4e0>"
      ]
     },
     "metadata": {},
     "output_type": "display_data"
    }
   ],
   "source": [
    "plot_importance(best_model, max_num_features = 80)\n",
    "pyplot.show()"
   ]
  },
  {
   "cell_type": "code",
   "execution_count": null,
   "metadata": {
    "collapsed": true
   },
   "outputs": [],
   "source": [
    "import winsound\n",
    "winsound.PlaySound('crows.wav', winsound.SND_FILENAME)"
   ]
  },
  {
   "cell_type": "code",
   "execution_count": null,
   "metadata": {
    "collapsed": true
   },
   "outputs": [],
   "source": [
    "test_df.columns[166]"
   ]
  },
  {
   "cell_type": "code",
   "execution_count": 10,
   "metadata": {},
   "outputs": [],
   "source": [
    "col_rank = pd.DataFrame()\n",
    "\n",
    "col_rank['column_name'] = train_df.columns[:-1]\n",
    "\n",
    "col_rank['importance'] = best_model.feature_importances_\n",
    "\n",
    "# col_rank = col_rank.sort_values('importance', ascending = False)"
   ]
  },
  {
   "cell_type": "code",
   "execution_count": 50,
   "metadata": {},
   "outputs": [
    {
     "name": "stdout",
     "output_type": "stream",
     "text": [
      "0.801434625871 79\n"
     ]
    }
   ],
   "source": [
    "# np.sum(col_rank['importance'].values) -> 1.0\n",
    "# np.sum(col_rank['importance'].values[:84])\n",
    "importance_sum = 0\n",
    "for i in range(len(col_rank['importance'])):\n",
    "    importance_sum += col_rank['importance'].values[i]\n",
    "    if importance_sum > 0.8:\n",
    "        print(importance_sum, i)\n",
    "        break"
   ]
  },
  {
   "cell_type": "code",
   "execution_count": 11,
   "metadata": {
    "scrolled": false
   },
   "outputs": [
    {
     "data": {
      "text/html": [
       "<div>\n",
       "<style>\n",
       "    .dataframe thead tr:only-child th {\n",
       "        text-align: right;\n",
       "    }\n",
       "\n",
       "    .dataframe thead th {\n",
       "        text-align: left;\n",
       "    }\n",
       "\n",
       "    .dataframe tbody tr th {\n",
       "        vertical-align: top;\n",
       "    }\n",
       "</style>\n",
       "<table border=\"1\" class=\"dataframe\">\n",
       "  <thead>\n",
       "    <tr style=\"text-align: right;\">\n",
       "      <th></th>\n",
       "      <th>column_name</th>\n",
       "      <th>importance</th>\n",
       "    </tr>\n",
       "  </thead>\n",
       "  <tbody>\n",
       "    <tr>\n",
       "      <th>0</th>\n",
       "      <td>DATA_MONTH</td>\n",
       "      <td>0.753333</td>\n",
       "    </tr>\n",
       "    <tr>\n",
       "      <th>1</th>\n",
       "      <td>RENEW_IND</td>\n",
       "      <td>0.006667</td>\n",
       "    </tr>\n",
       "    <tr>\n",
       "      <th>2</th>\n",
       "      <td>GA_IND</td>\n",
       "      <td>0.000000</td>\n",
       "    </tr>\n",
       "    <tr>\n",
       "      <th>3</th>\n",
       "      <td>ACTV_TYPE</td>\n",
       "      <td>0.000000</td>\n",
       "    </tr>\n",
       "    <tr>\n",
       "      <th>4</th>\n",
       "      <td>GA_DATE</td>\n",
       "      <td>0.000000</td>\n",
       "    </tr>\n",
       "    <tr>\n",
       "      <th>5</th>\n",
       "      <td>CHURN_IND</td>\n",
       "      <td>0.000000</td>\n",
       "    </tr>\n",
       "    <tr>\n",
       "      <th>6</th>\n",
       "      <td>CHURN_TYPE</td>\n",
       "      <td>0.006667</td>\n",
       "    </tr>\n",
       "    <tr>\n",
       "      <th>7</th>\n",
       "      <td>INACTV_DATE</td>\n",
       "      <td>0.000000</td>\n",
       "    </tr>\n",
       "    <tr>\n",
       "      <th>8</th>\n",
       "      <td>MKT_CHURN_DATE</td>\n",
       "      <td>0.013333</td>\n",
       "    </tr>\n",
       "    <tr>\n",
       "      <th>9</th>\n",
       "      <td>SUSPEND_IND</td>\n",
       "      <td>0.000000</td>\n",
       "    </tr>\n",
       "    <tr>\n",
       "      <th>10</th>\n",
       "      <td>TARGET_OPR_ID</td>\n",
       "      <td>0.006667</td>\n",
       "    </tr>\n",
       "    <tr>\n",
       "      <th>11</th>\n",
       "      <td>TEMP_INACTV_DATE</td>\n",
       "      <td>0.000000</td>\n",
       "    </tr>\n",
       "    <tr>\n",
       "      <th>12</th>\n",
       "      <td>SRV_TYPE_DESC</td>\n",
       "      <td>0.013333</td>\n",
       "    </tr>\n",
       "    <tr>\n",
       "      <th>13</th>\n",
       "      <td>RPS_NAME</td>\n",
       "      <td>0.000000</td>\n",
       "    </tr>\n",
       "    <tr>\n",
       "      <th>14</th>\n",
       "      <td>SUBSCR_STATUS_CODE</td>\n",
       "      <td>0.000000</td>\n",
       "    </tr>\n",
       "    <tr>\n",
       "      <th>15</th>\n",
       "      <td>GENDER_CODE</td>\n",
       "      <td>0.006667</td>\n",
       "    </tr>\n",
       "    <tr>\n",
       "      <th>16</th>\n",
       "      <td>P6M_AVG_NET_INV_AMT</td>\n",
       "      <td>0.006667</td>\n",
       "    </tr>\n",
       "    <tr>\n",
       "      <th>17</th>\n",
       "      <td>ORIG_OPR_ID</td>\n",
       "      <td>0.000000</td>\n",
       "    </tr>\n",
       "    <tr>\n",
       "      <th>18</th>\n",
       "      <td>AGE</td>\n",
       "      <td>0.006667</td>\n",
       "    </tr>\n",
       "    <tr>\n",
       "      <th>19</th>\n",
       "      <td>TENURE_SCV</td>\n",
       "      <td>0.000000</td>\n",
       "    </tr>\n",
       "    <tr>\n",
       "      <th>20</th>\n",
       "      <td>BILL_CITY_NAME</td>\n",
       "      <td>0.006667</td>\n",
       "    </tr>\n",
       "    <tr>\n",
       "      <th>21</th>\n",
       "      <td>BILL_DISTRICT_NAME</td>\n",
       "      <td>0.000000</td>\n",
       "    </tr>\n",
       "    <tr>\n",
       "      <th>22</th>\n",
       "      <td>CHANNEL_CHURN_INDEX</td>\n",
       "      <td>0.000000</td>\n",
       "    </tr>\n",
       "    <tr>\n",
       "      <th>23</th>\n",
       "      <td>CHURN_INDEX</td>\n",
       "      <td>0.000000</td>\n",
       "    </tr>\n",
       "    <tr>\n",
       "      <th>24</th>\n",
       "      <td>FETNET_IND</td>\n",
       "      <td>0.000000</td>\n",
       "    </tr>\n",
       "    <tr>\n",
       "      <th>25</th>\n",
       "      <td>DORMANT_MONTH_CNT_MKT</td>\n",
       "      <td>0.000000</td>\n",
       "    </tr>\n",
       "    <tr>\n",
       "      <th>26</th>\n",
       "      <td>SMS_PROM_IND</td>\n",
       "      <td>0.013333</td>\n",
       "    </tr>\n",
       "    <tr>\n",
       "      <th>27</th>\n",
       "      <td>IMEI_TYPE</td>\n",
       "      <td>0.006667</td>\n",
       "    </tr>\n",
       "    <tr>\n",
       "      <th>28</th>\n",
       "      <td>IMEI_MFG_NAME</td>\n",
       "      <td>0.000000</td>\n",
       "    </tr>\n",
       "    <tr>\n",
       "      <th>29</th>\n",
       "      <td>IMEI_MKT_NAME</td>\n",
       "      <td>0.000000</td>\n",
       "    </tr>\n",
       "    <tr>\n",
       "      <th>30</th>\n",
       "      <td>IMEI_SMART_OS_FLAG</td>\n",
       "      <td>0.000000</td>\n",
       "    </tr>\n",
       "    <tr>\n",
       "      <th>31</th>\n",
       "      <td>BL_CYCLE_DESC</td>\n",
       "      <td>0.000000</td>\n",
       "    </tr>\n",
       "    <tr>\n",
       "      <th>32</th>\n",
       "      <td>ZONE_ACTIVATION_IVR</td>\n",
       "      <td>0.000000</td>\n",
       "    </tr>\n",
       "    <tr>\n",
       "      <th>33</th>\n",
       "      <td>ACTV_CHANNEL_NAME</td>\n",
       "      <td>0.000000</td>\n",
       "    </tr>\n",
       "    <tr>\n",
       "      <th>34</th>\n",
       "      <td>SHIPMENT_CHANNEL_ID</td>\n",
       "      <td>0.000000</td>\n",
       "    </tr>\n",
       "    <tr>\n",
       "      <th>35</th>\n",
       "      <td>SHIPMENT_CHANNEL_NAME</td>\n",
       "      <td>0.000000</td>\n",
       "    </tr>\n",
       "    <tr>\n",
       "      <th>36</th>\n",
       "      <td>CCI_CHG_DATE</td>\n",
       "      <td>0.000000</td>\n",
       "    </tr>\n",
       "    <tr>\n",
       "      <th>37</th>\n",
       "      <td>HAPPYGO_IND</td>\n",
       "      <td>0.000000</td>\n",
       "    </tr>\n",
       "    <tr>\n",
       "      <th>38</th>\n",
       "      <td>SEGMENT_NAME</td>\n",
       "      <td>0.000000</td>\n",
       "    </tr>\n",
       "    <tr>\n",
       "      <th>39</th>\n",
       "      <td>IMEI_BAND</td>\n",
       "      <td>0.000000</td>\n",
       "    </tr>\n",
       "    <tr>\n",
       "      <th>40</th>\n",
       "      <td>NP_IN_IND</td>\n",
       "      <td>0.000000</td>\n",
       "    </tr>\n",
       "    <tr>\n",
       "      <th>41</th>\n",
       "      <td>NP_IN_DATE</td>\n",
       "      <td>0.000000</td>\n",
       "    </tr>\n",
       "    <tr>\n",
       "      <th>42</th>\n",
       "      <td>MSISDN_LAST_NP_OUT_IND</td>\n",
       "      <td>0.000000</td>\n",
       "    </tr>\n",
       "    <tr>\n",
       "      <th>43</th>\n",
       "      <td>BONDING_FLAG</td>\n",
       "      <td>0.006667</td>\n",
       "    </tr>\n",
       "    <tr>\n",
       "      <th>44</th>\n",
       "      <td>CHURN_CLM_IND</td>\n",
       "      <td>0.000000</td>\n",
       "    </tr>\n",
       "    <tr>\n",
       "      <th>45</th>\n",
       "      <td>CHURN_WELCOME_STAGE</td>\n",
       "      <td>0.006667</td>\n",
       "    </tr>\n",
       "    <tr>\n",
       "      <th>46</th>\n",
       "      <td>PTY_EVER_PO_CNT</td>\n",
       "      <td>0.000000</td>\n",
       "    </tr>\n",
       "    <tr>\n",
       "      <th>47</th>\n",
       "      <td>PTY_EVER_PP_CNT</td>\n",
       "      <td>0.006667</td>\n",
       "    </tr>\n",
       "    <tr>\n",
       "      <th>48</th>\n",
       "      <td>MULTI_SIM_EXCLUDE_WBB</td>\n",
       "      <td>0.000000</td>\n",
       "    </tr>\n",
       "    <tr>\n",
       "      <th>49</th>\n",
       "      <td>MULTI_SIM_INCLUDE_WBB</td>\n",
       "      <td>0.000000</td>\n",
       "    </tr>\n",
       "  </tbody>\n",
       "</table>\n",
       "</div>"
      ],
      "text/plain": [
       "               column_name  importance\n",
       "0               DATA_MONTH    0.753333\n",
       "1                RENEW_IND    0.006667\n",
       "2                   GA_IND    0.000000\n",
       "3                ACTV_TYPE    0.000000\n",
       "4                  GA_DATE    0.000000\n",
       "5                CHURN_IND    0.000000\n",
       "6               CHURN_TYPE    0.006667\n",
       "7              INACTV_DATE    0.000000\n",
       "8           MKT_CHURN_DATE    0.013333\n",
       "9              SUSPEND_IND    0.000000\n",
       "10           TARGET_OPR_ID    0.006667\n",
       "11        TEMP_INACTV_DATE    0.000000\n",
       "12           SRV_TYPE_DESC    0.013333\n",
       "13                RPS_NAME    0.000000\n",
       "14      SUBSCR_STATUS_CODE    0.000000\n",
       "15             GENDER_CODE    0.006667\n",
       "16     P6M_AVG_NET_INV_AMT    0.006667\n",
       "17             ORIG_OPR_ID    0.000000\n",
       "18                     AGE    0.006667\n",
       "19              TENURE_SCV    0.000000\n",
       "20          BILL_CITY_NAME    0.006667\n",
       "21      BILL_DISTRICT_NAME    0.000000\n",
       "22     CHANNEL_CHURN_INDEX    0.000000\n",
       "23             CHURN_INDEX    0.000000\n",
       "24              FETNET_IND    0.000000\n",
       "25   DORMANT_MONTH_CNT_MKT    0.000000\n",
       "26            SMS_PROM_IND    0.013333\n",
       "27               IMEI_TYPE    0.006667\n",
       "28           IMEI_MFG_NAME    0.000000\n",
       "29           IMEI_MKT_NAME    0.000000\n",
       "30      IMEI_SMART_OS_FLAG    0.000000\n",
       "31           BL_CYCLE_DESC    0.000000\n",
       "32     ZONE_ACTIVATION_IVR    0.000000\n",
       "33       ACTV_CHANNEL_NAME    0.000000\n",
       "34     SHIPMENT_CHANNEL_ID    0.000000\n",
       "35   SHIPMENT_CHANNEL_NAME    0.000000\n",
       "36            CCI_CHG_DATE    0.000000\n",
       "37             HAPPYGO_IND    0.000000\n",
       "38            SEGMENT_NAME    0.000000\n",
       "39               IMEI_BAND    0.000000\n",
       "40               NP_IN_IND    0.000000\n",
       "41              NP_IN_DATE    0.000000\n",
       "42  MSISDN_LAST_NP_OUT_IND    0.000000\n",
       "43            BONDING_FLAG    0.006667\n",
       "44           CHURN_CLM_IND    0.000000\n",
       "45     CHURN_WELCOME_STAGE    0.006667\n",
       "46         PTY_EVER_PO_CNT    0.000000\n",
       "47         PTY_EVER_PP_CNT    0.006667\n",
       "48   MULTI_SIM_EXCLUDE_WBB    0.000000\n",
       "49   MULTI_SIM_INCLUDE_WBB    0.000000"
      ]
     },
     "execution_count": 11,
     "metadata": {},
     "output_type": "execute_result"
    }
   ],
   "source": [
    "col_rank.iloc[:50]"
   ]
  },
  {
   "cell_type": "code",
   "execution_count": 13,
   "metadata": {
    "scrolled": true
   },
   "outputs": [
    {
     "data": {
      "text/html": [
       "<div>\n",
       "<style>\n",
       "    .dataframe thead tr:only-child th {\n",
       "        text-align: right;\n",
       "    }\n",
       "\n",
       "    .dataframe thead th {\n",
       "        text-align: left;\n",
       "    }\n",
       "\n",
       "    .dataframe tbody tr th {\n",
       "        vertical-align: top;\n",
       "    }\n",
       "</style>\n",
       "<table border=\"1\" class=\"dataframe\">\n",
       "  <thead>\n",
       "    <tr style=\"text-align: right;\">\n",
       "      <th></th>\n",
       "      <th>column_name</th>\n",
       "      <th>importance</th>\n",
       "    </tr>\n",
       "  </thead>\n",
       "  <tbody>\n",
       "    <tr>\n",
       "      <th>50</th>\n",
       "      <td>ANOTHER_ACTIVE_VD</td>\n",
       "      <td>0.006667</td>\n",
       "    </tr>\n",
       "    <tr>\n",
       "      <th>51</th>\n",
       "      <td>ANOTHER_ACTIVE_D</td>\n",
       "      <td>0.000000</td>\n",
       "    </tr>\n",
       "    <tr>\n",
       "      <th>52</th>\n",
       "      <td>PTY_NP_IN_IND</td>\n",
       "      <td>0.000000</td>\n",
       "    </tr>\n",
       "    <tr>\n",
       "      <th>53</th>\n",
       "      <td>PTY_NP_OUT_IND</td>\n",
       "      <td>0.000000</td>\n",
       "    </tr>\n",
       "    <tr>\n",
       "      <th>54</th>\n",
       "      <td>PTY_CBU_EBU_PO_CNT</td>\n",
       "      <td>0.000000</td>\n",
       "    </tr>\n",
       "    <tr>\n",
       "      <th>55</th>\n",
       "      <td>PTY_CBU_PO_CNT</td>\n",
       "      <td>0.000000</td>\n",
       "    </tr>\n",
       "    <tr>\n",
       "      <th>56</th>\n",
       "      <td>PTY_CBU_PO_V_CNT</td>\n",
       "      <td>0.000000</td>\n",
       "    </tr>\n",
       "    <tr>\n",
       "      <th>57</th>\n",
       "      <td>PTY_CBU_PO_VD_CNT</td>\n",
       "      <td>0.000000</td>\n",
       "    </tr>\n",
       "    <tr>\n",
       "      <th>58</th>\n",
       "      <td>PTY_CBU_PO_D_CNT</td>\n",
       "      <td>0.000000</td>\n",
       "    </tr>\n",
       "    <tr>\n",
       "      <th>59</th>\n",
       "      <td>PTY_EBU_PO_CNT</td>\n",
       "      <td>0.000000</td>\n",
       "    </tr>\n",
       "    <tr>\n",
       "      <th>60</th>\n",
       "      <td>PTY_PO_ALL_CNT</td>\n",
       "      <td>0.000000</td>\n",
       "    </tr>\n",
       "    <tr>\n",
       "      <th>61</th>\n",
       "      <td>RENEW_APPLY_DATE</td>\n",
       "      <td>0.000000</td>\n",
       "    </tr>\n",
       "    <tr>\n",
       "      <th>62</th>\n",
       "      <td>MDS_CURR_RENEW_CNT</td>\n",
       "      <td>0.000000</td>\n",
       "    </tr>\n",
       "    <tr>\n",
       "      <th>63</th>\n",
       "      <td>MDS_CURR_RENEW_TYPE</td>\n",
       "      <td>0.000000</td>\n",
       "    </tr>\n",
       "    <tr>\n",
       "      <th>64</th>\n",
       "      <td>MDS_ELIGIBLE_FLAG</td>\n",
       "      <td>0.000000</td>\n",
       "    </tr>\n",
       "    <tr>\n",
       "      <th>65</th>\n",
       "      <td>PROM_BUNDLE_VRP</td>\n",
       "      <td>0.000000</td>\n",
       "    </tr>\n",
       "    <tr>\n",
       "      <th>66</th>\n",
       "      <td>PROM_BUNDLE_DRP</td>\n",
       "      <td>0.000000</td>\n",
       "    </tr>\n",
       "    <tr>\n",
       "      <th>67</th>\n",
       "      <td>PROM_CURR_EXP_MONTH_CNT</td>\n",
       "      <td>0.006667</td>\n",
       "    </tr>\n",
       "    <tr>\n",
       "      <th>68</th>\n",
       "      <td>PROM_CURR_PROM_CODE</td>\n",
       "      <td>0.000000</td>\n",
       "    </tr>\n",
       "    <tr>\n",
       "      <th>69</th>\n",
       "      <td>PROM_CURR_PROMOTION_TYPE</td>\n",
       "      <td>0.000000</td>\n",
       "    </tr>\n",
       "    <tr>\n",
       "      <th>70</th>\n",
       "      <td>PROM_CURR_PROMOTION_SUB_TYPE</td>\n",
       "      <td>0.000000</td>\n",
       "    </tr>\n",
       "    <tr>\n",
       "      <th>71</th>\n",
       "      <td>PROM_CURR_SYS_MODEL_IND</td>\n",
       "      <td>0.000000</td>\n",
       "    </tr>\n",
       "    <tr>\n",
       "      <th>72</th>\n",
       "      <td>PROM_DEVICE_TYPE</td>\n",
       "      <td>0.000000</td>\n",
       "    </tr>\n",
       "    <tr>\n",
       "      <th>73</th>\n",
       "      <td>PROM_DEVICE_BRAND</td>\n",
       "      <td>0.000000</td>\n",
       "    </tr>\n",
       "    <tr>\n",
       "      <th>74</th>\n",
       "      <td>PROM_DEVICE_OS</td>\n",
       "      <td>0.006667</td>\n",
       "    </tr>\n",
       "    <tr>\n",
       "      <th>75</th>\n",
       "      <td>PROM_DEVICE_MODEL</td>\n",
       "      <td>0.000000</td>\n",
       "    </tr>\n",
       "    <tr>\n",
       "      <th>76</th>\n",
       "      <td>PROM_ACTV_PROM_CODE</td>\n",
       "      <td>0.000000</td>\n",
       "    </tr>\n",
       "    <tr>\n",
       "      <th>77</th>\n",
       "      <td>PROM_ACTV_PROM_TYPE</td>\n",
       "      <td>0.000000</td>\n",
       "    </tr>\n",
       "    <tr>\n",
       "      <th>78</th>\n",
       "      <td>PROM_ACTV_PROM_SUB_TYPE</td>\n",
       "      <td>0.000000</td>\n",
       "    </tr>\n",
       "    <tr>\n",
       "      <th>79</th>\n",
       "      <td>PROM_ACTV_PROM_CATG</td>\n",
       "      <td>0.000000</td>\n",
       "    </tr>\n",
       "    <tr>\n",
       "      <th>80</th>\n",
       "      <td>PROM_CURR_APPLY_DATE</td>\n",
       "      <td>0.000000</td>\n",
       "    </tr>\n",
       "    <tr>\n",
       "      <th>81</th>\n",
       "      <td>PROM_CURR_START_DATE</td>\n",
       "      <td>0.013333</td>\n",
       "    </tr>\n",
       "    <tr>\n",
       "      <th>82</th>\n",
       "      <td>PROM_CURR_END_DATE</td>\n",
       "      <td>0.006667</td>\n",
       "    </tr>\n",
       "    <tr>\n",
       "      <th>83</th>\n",
       "      <td>PROM_CURR_CONTR_EXP_DATE</td>\n",
       "      <td>0.006667</td>\n",
       "    </tr>\n",
       "    <tr>\n",
       "      <th>84</th>\n",
       "      <td>L1M_PROM_CODE</td>\n",
       "      <td>0.000000</td>\n",
       "    </tr>\n",
       "    <tr>\n",
       "      <th>85</th>\n",
       "      <td>CURR_PROM_COMMIT_MONTHS</td>\n",
       "      <td>0.000000</td>\n",
       "    </tr>\n",
       "    <tr>\n",
       "      <th>86</th>\n",
       "      <td>L1M_PROM_COMMIT_MONTHS</td>\n",
       "      <td>0.006667</td>\n",
       "    </tr>\n",
       "    <tr>\n",
       "      <th>87</th>\n",
       "      <td>CURR_PROM_TTL_CMF</td>\n",
       "      <td>0.000000</td>\n",
       "    </tr>\n",
       "    <tr>\n",
       "      <th>88</th>\n",
       "      <td>CURR_PROM_CONTRACT_PERIOD</td>\n",
       "      <td>0.006667</td>\n",
       "    </tr>\n",
       "    <tr>\n",
       "      <th>89</th>\n",
       "      <td>L1M_PROM_TTL_CMF</td>\n",
       "      <td>0.006667</td>\n",
       "    </tr>\n",
       "    <tr>\n",
       "      <th>90</th>\n",
       "      <td>L1M_PROM_CONTRACT_PERIOD</td>\n",
       "      <td>0.000000</td>\n",
       "    </tr>\n",
       "    <tr>\n",
       "      <th>91</th>\n",
       "      <td>DUM_PROM_CODE</td>\n",
       "      <td>0.000000</td>\n",
       "    </tr>\n",
       "    <tr>\n",
       "      <th>92</th>\n",
       "      <td>L6M_AVG_NET_INV_AMT</td>\n",
       "      <td>0.000000</td>\n",
       "    </tr>\n",
       "    <tr>\n",
       "      <th>93</th>\n",
       "      <td>NET_INV_AMT</td>\n",
       "      <td>0.000000</td>\n",
       "    </tr>\n",
       "    <tr>\n",
       "      <th>94</th>\n",
       "      <td>L1M_NET_INV_AMT</td>\n",
       "      <td>0.000000</td>\n",
       "    </tr>\n",
       "    <tr>\n",
       "      <th>95</th>\n",
       "      <td>L2M_NET_INV_AMT</td>\n",
       "      <td>0.000000</td>\n",
       "    </tr>\n",
       "    <tr>\n",
       "      <th>96</th>\n",
       "      <td>L3M_NET_INV_AMT</td>\n",
       "      <td>0.000000</td>\n",
       "    </tr>\n",
       "    <tr>\n",
       "      <th>97</th>\n",
       "      <td>GPRS_AMT</td>\n",
       "      <td>0.000000</td>\n",
       "    </tr>\n",
       "    <tr>\n",
       "      <th>98</th>\n",
       "      <td>L1M_GPRS_AMT</td>\n",
       "      <td>0.000000</td>\n",
       "    </tr>\n",
       "    <tr>\n",
       "      <th>99</th>\n",
       "      <td>L2M_GPRS_AMT</td>\n",
       "      <td>0.000000</td>\n",
       "    </tr>\n",
       "  </tbody>\n",
       "</table>\n",
       "</div>"
      ],
      "text/plain": [
       "                     column_name  importance\n",
       "50             ANOTHER_ACTIVE_VD    0.006667\n",
       "51              ANOTHER_ACTIVE_D    0.000000\n",
       "52                 PTY_NP_IN_IND    0.000000\n",
       "53                PTY_NP_OUT_IND    0.000000\n",
       "54            PTY_CBU_EBU_PO_CNT    0.000000\n",
       "55                PTY_CBU_PO_CNT    0.000000\n",
       "56              PTY_CBU_PO_V_CNT    0.000000\n",
       "57             PTY_CBU_PO_VD_CNT    0.000000\n",
       "58              PTY_CBU_PO_D_CNT    0.000000\n",
       "59                PTY_EBU_PO_CNT    0.000000\n",
       "60                PTY_PO_ALL_CNT    0.000000\n",
       "61              RENEW_APPLY_DATE    0.000000\n",
       "62            MDS_CURR_RENEW_CNT    0.000000\n",
       "63           MDS_CURR_RENEW_TYPE    0.000000\n",
       "64             MDS_ELIGIBLE_FLAG    0.000000\n",
       "65               PROM_BUNDLE_VRP    0.000000\n",
       "66               PROM_BUNDLE_DRP    0.000000\n",
       "67       PROM_CURR_EXP_MONTH_CNT    0.006667\n",
       "68           PROM_CURR_PROM_CODE    0.000000\n",
       "69      PROM_CURR_PROMOTION_TYPE    0.000000\n",
       "70  PROM_CURR_PROMOTION_SUB_TYPE    0.000000\n",
       "71       PROM_CURR_SYS_MODEL_IND    0.000000\n",
       "72              PROM_DEVICE_TYPE    0.000000\n",
       "73             PROM_DEVICE_BRAND    0.000000\n",
       "74                PROM_DEVICE_OS    0.006667\n",
       "75             PROM_DEVICE_MODEL    0.000000\n",
       "76           PROM_ACTV_PROM_CODE    0.000000\n",
       "77           PROM_ACTV_PROM_TYPE    0.000000\n",
       "78       PROM_ACTV_PROM_SUB_TYPE    0.000000\n",
       "79           PROM_ACTV_PROM_CATG    0.000000\n",
       "80          PROM_CURR_APPLY_DATE    0.000000\n",
       "81          PROM_CURR_START_DATE    0.013333\n",
       "82            PROM_CURR_END_DATE    0.006667\n",
       "83      PROM_CURR_CONTR_EXP_DATE    0.006667\n",
       "84                 L1M_PROM_CODE    0.000000\n",
       "85       CURR_PROM_COMMIT_MONTHS    0.000000\n",
       "86        L1M_PROM_COMMIT_MONTHS    0.006667\n",
       "87             CURR_PROM_TTL_CMF    0.000000\n",
       "88     CURR_PROM_CONTRACT_PERIOD    0.006667\n",
       "89              L1M_PROM_TTL_CMF    0.006667\n",
       "90      L1M_PROM_CONTRACT_PERIOD    0.000000\n",
       "91                 DUM_PROM_CODE    0.000000\n",
       "92           L6M_AVG_NET_INV_AMT    0.000000\n",
       "93                   NET_INV_AMT    0.000000\n",
       "94               L1M_NET_INV_AMT    0.000000\n",
       "95               L2M_NET_INV_AMT    0.000000\n",
       "96               L3M_NET_INV_AMT    0.000000\n",
       "97                      GPRS_AMT    0.000000\n",
       "98                  L1M_GPRS_AMT    0.000000\n",
       "99                  L2M_GPRS_AMT    0.000000"
      ]
     },
     "execution_count": 13,
     "metadata": {},
     "output_type": "execute_result"
    }
   ],
   "source": [
    "col_rank.iloc[50:100]"
   ]
  },
  {
   "cell_type": "code",
   "execution_count": 15,
   "metadata": {},
   "outputs": [
    {
     "ename": "AttributeError",
     "evalue": "'str' object has no attribute 'get_fscore'",
     "output_type": "error",
     "traceback": [
      "\u001b[1;31m---------------------------------------------------------------------------\u001b[0m",
      "\u001b[1;31mAttributeError\u001b[0m                            Traceback (most recent call last)",
      "\u001b[1;32m<ipython-input-15-abe6baf2e095>\u001b[0m in \u001b[0;36m<module>\u001b[1;34m()\u001b[0m\n\u001b[1;32m----> 1\u001b[1;33m \u001b[0mpd\u001b[0m\u001b[1;33m.\u001b[0m\u001b[0mDataFrame\u001b[0m\u001b[1;33m(\u001b[0m\u001b[0mbest_model\u001b[0m\u001b[1;33m.\u001b[0m\u001b[0mbooster\u001b[0m\u001b[1;33m.\u001b[0m\u001b[0mget_fscore\u001b[0m\u001b[1;33m(\u001b[0m\u001b[1;33m)\u001b[0m\u001b[1;33m.\u001b[0m\u001b[0mitems\u001b[0m\u001b[1;33m(\u001b[0m\u001b[1;33m)\u001b[0m\u001b[1;33m,\u001b[0m \u001b[0mcolumns\u001b[0m\u001b[1;33m=\u001b[0m\u001b[1;33m[\u001b[0m\u001b[1;34m'feature'\u001b[0m\u001b[1;33m,\u001b[0m\u001b[1;34m'importance'\u001b[0m\u001b[1;33m]\u001b[0m\u001b[1;33m)\u001b[0m\u001b[1;33m.\u001b[0m\u001b[0msort_values\u001b[0m\u001b[1;33m(\u001b[0m\u001b[1;34m'importance'\u001b[0m\u001b[1;33m,\u001b[0m \u001b[0mascending\u001b[0m\u001b[1;33m=\u001b[0m\u001b[1;32mFalse\u001b[0m\u001b[1;33m)\u001b[0m\u001b[1;33m\u001b[0m\u001b[0m\n\u001b[0m",
      "\u001b[1;31mAttributeError\u001b[0m: 'str' object has no attribute 'get_fscore'"
     ]
    }
   ],
   "source": [
    "pd.DataFrame(best_model.get_fscore().items(), columns=['feature','importance']).sort_values('importance', ascending=False)"
   ]
  },
  {
   "cell_type": "markdown",
   "metadata": {},
   "source": [
    "## save model"
   ]
  },
  {
   "cell_type": "code",
   "execution_count": 6,
   "metadata": {
    "collapsed": true
   },
   "outputs": [],
   "source": [
    "path = './XGB_models/'\n",
    "model_name = 'xgboost_without_infre_adult_' + str(sample) + '_0725'\n",
    "# best_model._Booster.save_model(path + model_name + '.model')\n",
    "\n",
    "import pickle\n",
    "# pickle.dump(best_model, open(path + model_name + \".dat\", \"wb\"))"
   ]
  },
  {
   "cell_type": "code",
   "execution_count": 55,
   "metadata": {
    "collapsed": true
   },
   "outputs": [],
   "source": [
    "col_rank.to_csv(path + model_name + \".csv\", index=False, encoding='utf-8')"
   ]
  },
  {
   "cell_type": "markdown",
   "metadata": {},
   "source": [
    "## load model"
   ]
  },
  {
   "cell_type": "code",
   "execution_count": null,
   "metadata": {
    "collapsed": true
   },
   "outputs": [],
   "source": [
    "clf = XGBClassifier()\n",
    "booster = Booster()\n",
    "booster.load_model(path + model_name + '.model')\n",
    "clf._Booster = booster"
   ]
  },
  {
   "cell_type": "code",
   "execution_count": 7,
   "metadata": {},
   "outputs": [],
   "source": [
    "import pickle\n",
    "best_model = pickle.load(open(path + model_name + \".dat\", \"rb\"))"
   ]
  },
  {
   "cell_type": "code",
   "execution_count": null,
   "metadata": {
    "collapsed": true
   },
   "outputs": [],
   "source": [
    "plot_importance(clf, max_num_features = 20)\n",
    "pyplot.show()"
   ]
  },
  {
   "cell_type": "code",
   "execution_count": null,
   "metadata": {
    "collapsed": true
   },
   "outputs": [],
   "source": [
    "pred = loaded_model.predict(X_train)"
   ]
  },
  {
   "cell_type": "code",
   "execution_count": 56,
   "metadata": {},
   "outputs": [
    {
     "data": {
      "text/plain": [
       "array([[39800, 14509],\n",
       "       [16785, 37521]])"
      ]
     },
     "execution_count": 56,
     "metadata": {},
     "output_type": "execute_result"
    }
   ],
   "source": [
    "from sklearn.metrics import confusion_matrix\n",
    "# labels = ['Adult', 'Game', 'HomeLife', 'InstantMessage-High', 'InstantMessage-Low', 'Map', 'News', 'No_ignificant_preference', 'Portal', 'Social-media']\n",
    "labels = train_df['Groups'].unique()\n",
    "cnf_matrix = confusion_matrix(y_train, pred, labels=labels)\n",
    "cnf_matrix"
   ]
  },
  {
   "cell_type": "code",
   "execution_count": 57,
   "metadata": {},
   "outputs": [
    {
     "data": {
      "text/html": [
       "<div>\n",
       "<style>\n",
       "    .dataframe thead tr:only-child th {\n",
       "        text-align: right;\n",
       "    }\n",
       "\n",
       "    .dataframe thead th {\n",
       "        text-align: left;\n",
       "    }\n",
       "\n",
       "    .dataframe tbody tr th {\n",
       "        vertical-align: top;\n",
       "    }\n",
       "</style>\n",
       "<table border=\"1\" class=\"dataframe\">\n",
       "  <thead>\n",
       "    <tr style=\"text-align: right;\">\n",
       "      <th></th>\n",
       "      <th>Adult</th>\n",
       "      <th>Others</th>\n",
       "    </tr>\n",
       "  </thead>\n",
       "  <tbody>\n",
       "    <tr>\n",
       "      <th>Adult</th>\n",
       "      <td>39800</td>\n",
       "      <td>14509</td>\n",
       "    </tr>\n",
       "    <tr>\n",
       "      <th>Others</th>\n",
       "      <td>16785</td>\n",
       "      <td>37521</td>\n",
       "    </tr>\n",
       "  </tbody>\n",
       "</table>\n",
       "</div>"
      ],
      "text/plain": [
       "        Adult  Others\n",
       "Adult   39800   14509\n",
       "Others  16785   37521"
      ]
     },
     "execution_count": 57,
     "metadata": {},
     "output_type": "execute_result"
    }
   ],
   "source": [
    "cnf_pd = pd.DataFrame(cnf_matrix)\n",
    "cnf_pd.columns = labels\n",
    "cnf_pd.index = labels\n",
    "cnf_pd"
   ]
  },
  {
   "cell_type": "code",
   "execution_count": null,
   "metadata": {
    "collapsed": true
   },
   "outputs": [],
   "source": []
  },
  {
   "cell_type": "code",
   "execution_count": 26,
   "metadata": {
    "collapsed": true
   },
   "outputs": [],
   "source": [
    "del train_df\n",
    "del X_train"
   ]
  },
  {
   "cell_type": "code",
   "execution_count": null,
   "metadata": {
    "collapsed": true
   },
   "outputs": [],
   "source": [
    "del X"
   ]
  },
  {
   "cell_type": "code",
   "execution_count": null,
   "metadata": {
    "collapsed": true
   },
   "outputs": [],
   "source": [
    "import os\n",
    "os.system('python XGBoost_date_to_num.py')"
   ]
  },
  {
   "cell_type": "code",
   "execution_count": 41,
   "metadata": {},
   "outputs": [
    {
     "data": {
      "text/plain": [
       "Index(['DATA_MONTH', 'RENEW_IND', 'GA_IND', 'ACTV_TYPE', 'GA_DATE',\n",
       "       'CHURN_IND', 'CHURN_TYPE', 'INACTV_DATE', 'MKT_CHURN_DATE',\n",
       "       'SUSPEND_IND', 'TARGET_OPR_ID', 'TEMP_INACTV_DATE', 'SRV_TYPE_DESC',\n",
       "       'RPS_NAME', 'SUBSCR_STATUS_CODE', 'GENDER_CODE', 'P6M_AVG_NET_INV_AMT',\n",
       "       'ORIG_OPR_ID', 'AGE', 'TENURE_SCV', 'BILL_CITY_NAME',\n",
       "       'BILL_DISTRICT_NAME', 'CHANNEL_CHURN_INDEX', 'CHURN_INDEX',\n",
       "       'FETNET_IND', 'DORMANT_MONTH_CNT_MKT', 'SMS_PROM_IND', 'IMEI_TYPE',\n",
       "       'IMEI_MFG_NAME', 'IMEI_MKT_NAME'],\n",
       "      dtype='object')"
      ]
     },
     "execution_count": 41,
     "metadata": {},
     "output_type": "execute_result"
    }
   ],
   "source": [
    "train_df.columns[:30]"
   ]
  },
  {
   "cell_type": "code",
   "execution_count": 55,
   "metadata": {},
   "outputs": [
    {
     "data": {
      "text/plain": [
       "2.0"
      ]
     },
     "execution_count": 55,
     "metadata": {},
     "output_type": "execute_result"
    }
   ],
   "source": [
    "np.mean([1, 2, 3])"
   ]
  },
  {
   "cell_type": "code",
   "execution_count": 57,
   "metadata": {},
   "outputs": [
    {
     "data": {
      "text/plain": [
       "0         0.071200\n",
       "1         0.077995\n",
       "2         0.076076\n",
       "3         0.084357\n",
       "4         0.087713\n",
       "5         0.102503\n",
       "6         0.076637\n",
       "7         0.075904\n",
       "8         0.078638\n",
       "9         0.107031\n",
       "10        0.069363\n",
       "11        0.089462\n",
       "12        0.083224\n",
       "13        0.093962\n",
       "14        0.092212\n",
       "15        0.076305\n",
       "16        0.092712\n",
       "17        0.089767\n",
       "18        0.067652\n",
       "19        0.079278\n",
       "20        0.097193\n",
       "21        0.072422\n",
       "22        0.089958\n",
       "23        0.083587\n",
       "24        0.075730\n",
       "25        0.086533\n",
       "26        0.076192\n",
       "27        0.080760\n",
       "28        0.080117\n",
       "29        0.087279\n",
       "            ...   \n",
       "108585    0.069299\n",
       "108586    0.078080\n",
       "108587    0.114596\n",
       "108588    0.099239\n",
       "108589    0.073038\n",
       "108590    0.081312\n",
       "108591    0.068605\n",
       "108592    0.122377\n",
       "108593    0.082526\n",
       "108594    0.111087\n",
       "108595    0.086701\n",
       "108596    0.087570\n",
       "108597    0.093813\n",
       "108598    0.078654\n",
       "108599    0.098765\n",
       "108600    0.089876\n",
       "108601    0.115582\n",
       "108602    0.093408\n",
       "108603    0.109350\n",
       "108604    0.078123\n",
       "108605    0.075659\n",
       "108606    0.076227\n",
       "108607    0.098409\n",
       "108608    0.111613\n",
       "108609    0.071005\n",
       "108610    0.088401\n",
       "108611    0.078397\n",
       "108612    0.100319\n",
       "108613    0.087987\n",
       "108614    0.085174\n",
       "Length: 108615, dtype: float64"
      ]
     },
     "execution_count": 57,
     "metadata": {},
     "output_type": "execute_result"
    }
   ],
   "source": [
    "train_df.mean(axis = 1)"
   ]
  },
  {
   "cell_type": "code",
   "execution_count": null,
   "metadata": {
    "collapsed": true
   },
   "outputs": [],
   "source": []
  }
 ],
 "metadata": {
  "kernelspec": {
   "display_name": "Python 3",
   "language": "python",
   "name": "python3"
  },
  "language_info": {
   "codemirror_mode": {
    "name": "ipython",
    "version": 3
   },
   "file_extension": ".py",
   "mimetype": "text/x-python",
   "name": "python",
   "nbconvert_exporter": "python",
   "pygments_lexer": "ipython3",
   "version": "3.5.3"
  }
 },
 "nbformat": 4,
 "nbformat_minor": 2
}
