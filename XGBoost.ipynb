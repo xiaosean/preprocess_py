{
 "cells": [
  {
   "cell_type": "code",
   "execution_count": 1,
   "metadata": {
    "collapsed": true
   },
   "outputs": [],
   "source": [
    "import pandas as pd\n",
    "import numpy as np\n",
    "from sklearn import model_selection\n",
    "from sklearn.metrics import accuracy_score\n",
    "from sklearn.preprocessing import LabelEncoder, OneHotEncoder\n",
    "from sklearn.model_selection import *\n",
    "from matplotlib import pyplot\n",
    "from sklearn.metrics import confusion_matrix\n",
    "from time import time\n",
    "import pickle"
   ]
  },
  {
   "cell_type": "code",
   "execution_count": 2,
   "metadata": {
    "collapsed": true
   },
   "outputs": [],
   "source": [
    "from xgboost import *"
   ]
  },
  {
   "cell_type": "markdown",
   "metadata": {},
   "source": [
    "# data preparation"
   ]
  },
  {
   "cell_type": "code",
   "execution_count": null,
   "metadata": {
    "collapsed": true
   },
   "outputs": [],
   "source": [
    "path = \"C:/Users/VIPLAB/Desktop/preprocess_py/marketing_analyze/\"\n",
    "filename = \"mkt_with_11_group_id_20170712.csv\"\n",
    "train_df = pd.read_csv(path + filename, error_bad_lines=False, nrows = 100)"
   ]
  },
  {
   "cell_type": "code",
   "execution_count": null,
   "metadata": {
    "collapsed": true
   },
   "outputs": [],
   "source": [
    "train_df['W2P_SMS_MO_ONNET_CNT'].dtypes"
   ]
  },
  {
   "cell_type": "code",
   "execution_count": null,
   "metadata": {
    "collapsed": true,
    "scrolled": true
   },
   "outputs": [],
   "source": [
    "train_df['W2P_SMS_MO_ONNET_CNT'].values\n",
    "# train_df.groupby('BILL_DISTRICT_NAME').describe()"
   ]
  },
  {
   "cell_type": "code",
   "execution_count": null,
   "metadata": {
    "collapsed": true
   },
   "outputs": [],
   "source": [
    "X = train_df.values[:,:-1]\n",
    "Y = train_df.values[:,-1]"
   ]
  },
  {
   "cell_type": "code",
   "execution_count": null,
   "metadata": {
    "collapsed": true
   },
   "outputs": [],
   "source": [
    "label_encoder = LabelEncoder()\n",
    "label_encoder = label_encoder.fit(Y)\n",
    "label_encoded_y = label_encoder.transform(Y)"
   ]
  },
  {
   "cell_type": "code",
   "execution_count": null,
   "metadata": {
    "collapsed": true
   },
   "outputs": [],
   "source": [
    "label_encoded_y"
   ]
  },
  {
   "cell_type": "code",
   "execution_count": null,
   "metadata": {
    "collapsed": true
   },
   "outputs": [],
   "source": []
  },
  {
   "cell_type": "markdown",
   "metadata": {},
   "source": [
    "# categorical feature encoding without one hot encode"
   ]
  },
  {
   "cell_type": "code",
   "execution_count": 3,
   "metadata": {},
   "outputs": [],
   "source": [
    "sample = 0\n",
    "# group_name = 'Adult'\n",
    "group_name = 'InstantMessage-High'\n",
    "path = \"C:/Users/VIPLAB/Desktop/preprocess_py/marketing_analyze/0730_sample/\" + group_name + \"/\"\n",
    "filename = \"0729_marketing_with_picked_group11_numeric_max_min_sample_\" + group_name + \"_others_\" + str(sample) + \".csv\"\n",
    "# filename = \"0719_april_marketing_anylze_full_table_group11_max_min_train.csv\"\n",
    "train_df = pd.read_csv(path + filename, error_bad_lines=False)"
   ]
  },
  {
   "cell_type": "code",
   "execution_count": 4,
   "metadata": {},
   "outputs": [
    {
     "data": {
      "text/html": [
       "<div>\n",
       "<style>\n",
       "    .dataframe thead tr:only-child th {\n",
       "        text-align: right;\n",
       "    }\n",
       "\n",
       "    .dataframe thead th {\n",
       "        text-align: left;\n",
       "    }\n",
       "\n",
       "    .dataframe tbody tr th {\n",
       "        vertical-align: top;\n",
       "    }\n",
       "</style>\n",
       "<table border=\"1\" class=\"dataframe\">\n",
       "  <thead>\n",
       "    <tr style=\"text-align: right;\">\n",
       "      <th></th>\n",
       "      <th>DATA_MONTH</th>\n",
       "      <th>RENEW_IND</th>\n",
       "      <th>GA_IND</th>\n",
       "      <th>ACTV_TYPE</th>\n",
       "      <th>SRV_TYPE_DESC</th>\n",
       "      <th>GENDER_CODE</th>\n",
       "      <th>ORIG_OPR_ID</th>\n",
       "      <th>AGE</th>\n",
       "      <th>TENURE_SCV</th>\n",
       "      <th>BILL_CITY_NAME</th>\n",
       "      <th>...</th>\n",
       "      <th>CWC_CATG4_CNT</th>\n",
       "      <th>CWC_CATG5_CNT</th>\n",
       "      <th>CWC_CATG6_CNT</th>\n",
       "      <th>CWC_CATG7_CNT</th>\n",
       "      <th>CWC_CATG8_CNT</th>\n",
       "      <th>CWC_CATG9_CNT</th>\n",
       "      <th>CWC_CATG10_CNT</th>\n",
       "      <th>CWC_CATG11_CNT</th>\n",
       "      <th>CWC_CATG12_CNT</th>\n",
       "      <th>CWC_CATG13_CNT</th>\n",
       "    </tr>\n",
       "    <tr>\n",
       "      <th>Groups</th>\n",
       "      <th></th>\n",
       "      <th></th>\n",
       "      <th></th>\n",
       "      <th></th>\n",
       "      <th></th>\n",
       "      <th></th>\n",
       "      <th></th>\n",
       "      <th></th>\n",
       "      <th></th>\n",
       "      <th></th>\n",
       "      <th></th>\n",
       "      <th></th>\n",
       "      <th></th>\n",
       "      <th></th>\n",
       "      <th></th>\n",
       "      <th></th>\n",
       "      <th></th>\n",
       "      <th></th>\n",
       "      <th></th>\n",
       "      <th></th>\n",
       "      <th></th>\n",
       "    </tr>\n",
       "  </thead>\n",
       "  <tbody>\n",
       "    <tr>\n",
       "      <th>InstantMessage-High</th>\n",
       "      <td>349096</td>\n",
       "      <td>349096</td>\n",
       "      <td>349096</td>\n",
       "      <td>349096</td>\n",
       "      <td>349096</td>\n",
       "      <td>349096</td>\n",
       "      <td>349096</td>\n",
       "      <td>349096</td>\n",
       "      <td>349096</td>\n",
       "      <td>349096</td>\n",
       "      <td>...</td>\n",
       "      <td>349096</td>\n",
       "      <td>349096</td>\n",
       "      <td>349096</td>\n",
       "      <td>349096</td>\n",
       "      <td>349096</td>\n",
       "      <td>349096</td>\n",
       "      <td>349096</td>\n",
       "      <td>349096</td>\n",
       "      <td>349096</td>\n",
       "      <td>349096</td>\n",
       "    </tr>\n",
       "    <tr>\n",
       "      <th>Others</th>\n",
       "      <td>349090</td>\n",
       "      <td>349090</td>\n",
       "      <td>349090</td>\n",
       "      <td>349090</td>\n",
       "      <td>349090</td>\n",
       "      <td>349090</td>\n",
       "      <td>349090</td>\n",
       "      <td>349090</td>\n",
       "      <td>349090</td>\n",
       "      <td>349090</td>\n",
       "      <td>...</td>\n",
       "      <td>349090</td>\n",
       "      <td>349090</td>\n",
       "      <td>349090</td>\n",
       "      <td>349090</td>\n",
       "      <td>349090</td>\n",
       "      <td>349090</td>\n",
       "      <td>349090</td>\n",
       "      <td>349090</td>\n",
       "      <td>349090</td>\n",
       "      <td>349090</td>\n",
       "    </tr>\n",
       "  </tbody>\n",
       "</table>\n",
       "<p>2 rows × 170 columns</p>\n",
       "</div>"
      ],
      "text/plain": [
       "                     DATA_MONTH  RENEW_IND  GA_IND  ACTV_TYPE  SRV_TYPE_DESC  \\\n",
       "Groups                                                                         \n",
       "InstantMessage-High      349096     349096  349096     349096         349096   \n",
       "Others                   349090     349090  349090     349090         349090   \n",
       "\n",
       "                     GENDER_CODE  ORIG_OPR_ID     AGE  TENURE_SCV  \\\n",
       "Groups                                                              \n",
       "InstantMessage-High       349096       349096  349096      349096   \n",
       "Others                    349090       349090  349090      349090   \n",
       "\n",
       "                     BILL_CITY_NAME       ...        CWC_CATG4_CNT  \\\n",
       "Groups                                    ...                        \n",
       "InstantMessage-High          349096       ...               349096   \n",
       "Others                       349090       ...               349090   \n",
       "\n",
       "                     CWC_CATG5_CNT  CWC_CATG6_CNT  CWC_CATG7_CNT  \\\n",
       "Groups                                                             \n",
       "InstantMessage-High         349096         349096         349096   \n",
       "Others                      349090         349090         349090   \n",
       "\n",
       "                     CWC_CATG8_CNT  CWC_CATG9_CNT  CWC_CATG10_CNT  \\\n",
       "Groups                                                              \n",
       "InstantMessage-High         349096         349096          349096   \n",
       "Others                      349090         349090          349090   \n",
       "\n",
       "                     CWC_CATG11_CNT  CWC_CATG12_CNT  CWC_CATG13_CNT  \n",
       "Groups                                                               \n",
       "InstantMessage-High          349096          349096          349096  \n",
       "Others                       349090          349090          349090  \n",
       "\n",
       "[2 rows x 170 columns]"
      ]
     },
     "execution_count": 4,
     "metadata": {},
     "output_type": "execute_result"
    }
   ],
   "source": [
    "# train_df = train_df[train_df['Groups'] != 'Infrequent_User']\n",
    "\n",
    "train_df.groupby('Groups').count()"
   ]
  },
  {
   "cell_type": "code",
   "execution_count": 5,
   "metadata": {
    "collapsed": true
   },
   "outputs": [],
   "source": [
    "X_train = train_df.iloc[:, 0:-1].values\n",
    "y_train = train_df.iloc[:, -1].values"
   ]
  },
  {
   "cell_type": "code",
   "execution_count": 6,
   "metadata": {
    "collapsed": true
   },
   "outputs": [],
   "source": [
    "param_grid = {\n",
    "#     'max_depth':[3, 5],\n",
    "#     'learning_rate':[0.1, 0.05, 0.2],\n",
    "#     'n_estimators':[50, 100, 200]\n",
    "#     'max_depth':[10],\n",
    "#     'learning_rate':[0.05],\n",
    "#     'n_estimators':[100],\n",
    "    'max_depth':[8],\n",
    "    'min_child_weight':[2],\n",
    "#     'seed':[5],\n",
    "    'gamma':[0.5]\n",
    "#     'silent':[False]\n",
    "#     'min_child_weight':[2]\n",
    "}\n"
   ]
  },
  {
   "cell_type": "code",
   "execution_count": 7,
   "metadata": {
    "scrolled": true
   },
   "outputs": [
    {
     "name": "stdout",
     "output_type": "stream",
     "text": [
      "training time:  303.38\n"
     ]
    }
   ],
   "source": [
    "t0 = time()\n",
    "model = XGBClassifier(n_jobs = -1, **{\"updater\": \"grow_gpu\"})\n",
    "# model = XGBClassifier(n_jobs = -1)\n",
    "# kfold = StratifiedKFold(n_splits=4, shuffle=True, random_state=7)\n",
    "gs = GridSearchCV(estimator=model, param_grid=param_grid, scoring='accuracy', cv=5, n_jobs=1)\n",
    "gs.fit(X_train, y_train)\n",
    "print(\"training time:  %.2f\" % (time()-t0))"
   ]
  },
  {
   "cell_type": "code",
   "execution_count": 15,
   "metadata": {},
   "outputs": [
    {
     "data": {
      "text/plain": [
       "<Response [200]>"
      ]
     },
     "execution_count": 15,
     "metadata": {},
     "output_type": "execute_result"
    }
   ],
   "source": [
    "import requests\n",
    "requests.post(\n",
    "        \"https://api.mailgun.net/v3/sandboxe9bb891a60414f4bae93f2cc55daa963.mailgun.org/messages\",\n",
    "        auth=(\"api\", \"key-a007a22faf334a3510137b6cc03c21a6\"),\n",
    "        data={\"from\": \"Mailgun Sandbox <postmaster@sandboxe9bb891a60414f4bae93f2cc55daa963.mailgun.org>\",\n",
    "              \"to\": \"Toby <atch84@gmail.com>\",\n",
    "              \"subject\": \"XGBoost Result\",\n",
    "              \"text\": str(gs.cv_results_)})"
   ]
  },
  {
   "cell_type": "code",
   "execution_count": 8,
   "metadata": {},
   "outputs": [
    {
     "name": "stdout",
     "output_type": "stream",
     "text": [
      "0.581177508572\n",
      "{'min_child_weight': 2, 'gamma': 0.5, 'max_depth': 8}\n"
     ]
    }
   ],
   "source": [
    "print(gs.best_score_)\n",
    "print(gs.best_params_)\n",
    "best_model = gs.best_estimator_"
   ]
  },
  {
   "cell_type": "code",
   "execution_count": 9,
   "metadata": {},
   "outputs": [
    {
     "data": {
      "text/plain": [
       "{'mean_fit_time': array([ 45.51379013]),\n",
       " 'mean_score_time': array([ 0.66887174]),\n",
       " 'mean_test_score': array([ 0.58117751]),\n",
       " 'mean_train_score': array([ 0.6464957]),\n",
       " 'param_gamma': masked_array(data = [0.5],\n",
       "              mask = [False],\n",
       "        fill_value = ?),\n",
       " 'param_max_depth': masked_array(data = [8],\n",
       "              mask = [False],\n",
       "        fill_value = ?),\n",
       " 'param_min_child_weight': masked_array(data = [2],\n",
       "              mask = [False],\n",
       "        fill_value = ?),\n",
       " 'params': ({'gamma': 0.5, 'max_depth': 8, 'min_child_weight': 2},),\n",
       " 'rank_test_score': array([1]),\n",
       " 'split0_test_score': array([ 0.68081754]),\n",
       " 'split0_train_score': array([ 0.63501973]),\n",
       " 'split1_test_score': array([ 0.52310634]),\n",
       " 'split1_train_score': array([ 0.66333303]),\n",
       " 'split2_test_score': array([ 0.47354927]),\n",
       " 'split2_train_score': array([ 0.67282548]),\n",
       " 'split3_test_score': array([ 0.59115421]),\n",
       " 'split3_train_score': array([ 0.63890008]),\n",
       " 'split4_test_score': array([ 0.63725947]),\n",
       " 'split4_train_score': array([ 0.62240018]),\n",
       " 'std_fit_time': array([ 0.71311886]),\n",
       " 'std_score_time': array([ 0.01206309]),\n",
       " 'std_test_score': array([ 0.07500531]),\n",
       " 'std_train_score': array([ 0.01869084])}"
      ]
     },
     "execution_count": 9,
     "metadata": {},
     "output_type": "execute_result"
    }
   ],
   "source": [
    "gs.cv_results_"
   ]
  },
  {
   "cell_type": "code",
   "execution_count": null,
   "metadata": {
    "collapsed": true
   },
   "outputs": [],
   "source": [
    "path = \"C:/Users/VIPLAB/Desktop/preprocess_py/marketing_analyze/\"\n",
    "filename = \"0719_april_marketing_anylze_full_table_group11_max_min_test.csv\"\n",
    "test_df = pd.read_csv(path + filename, error_bad_lines=False)"
   ]
  },
  {
   "cell_type": "code",
   "execution_count": null,
   "metadata": {
    "collapsed": true
   },
   "outputs": [],
   "source": [
    "X_test = test_df.iloc[:, 0:-1].values\n",
    "y_test = test_df.iloc[:, -1].values"
   ]
  },
  {
   "cell_type": "code",
   "execution_count": 50,
   "metadata": {
    "collapsed": true
   },
   "outputs": [],
   "source": [
    "pred = best_model.predict(X_train)"
   ]
  },
  {
   "cell_type": "code",
   "execution_count": 51,
   "metadata": {},
   "outputs": [
    {
     "name": "stdout",
     "output_type": "stream",
     "text": [
      "Train Accuracy: 71.23%\n"
     ]
    }
   ],
   "source": [
    "accuracy = accuracy_score(y_train, pred)\n",
    "print(\"Train Accuracy: %.2f%%\" % (accuracy * 100.0))"
   ]
  },
  {
   "cell_type": "code",
   "execution_count": null,
   "metadata": {
    "collapsed": true
   },
   "outputs": [],
   "source": [
    "pred = best_model.predict(X_test)"
   ]
  },
  {
   "cell_type": "code",
   "execution_count": null,
   "metadata": {
    "collapsed": true
   },
   "outputs": [],
   "source": [
    "accuracy = accuracy_score(y_test, pred)\n",
    "print(\"Test Accuracy: %.2f%%\" % (accuracy * 100.0))"
   ]
  },
  {
   "cell_type": "code",
   "execution_count": 28,
   "metadata": {},
   "outputs": [
    {
     "data": {
      "text/html": [
       "<div>\n",
       "<style>\n",
       "    .dataframe thead tr:only-child th {\n",
       "        text-align: right;\n",
       "    }\n",
       "\n",
       "    .dataframe thead th {\n",
       "        text-align: left;\n",
       "    }\n",
       "\n",
       "    .dataframe tbody tr th {\n",
       "        vertical-align: top;\n",
       "    }\n",
       "</style>\n",
       "<table border=\"1\" class=\"dataframe\">\n",
       "  <thead>\n",
       "    <tr style=\"text-align: right;\">\n",
       "      <th></th>\n",
       "      <th>Adult</th>\n",
       "      <th>Others</th>\n",
       "    </tr>\n",
       "  </thead>\n",
       "  <tbody>\n",
       "    <tr>\n",
       "      <th>Adult</th>\n",
       "      <td>42478</td>\n",
       "      <td>9806</td>\n",
       "    </tr>\n",
       "    <tr>\n",
       "      <th>Others</th>\n",
       "      <td>13544</td>\n",
       "      <td>38736</td>\n",
       "    </tr>\n",
       "  </tbody>\n",
       "</table>\n",
       "</div>"
      ],
      "text/plain": [
       "        Adult  Others\n",
       "Adult   42478    9806\n",
       "Others  13544   38736"
      ]
     },
     "execution_count": 28,
     "metadata": {},
     "output_type": "execute_result"
    }
   ],
   "source": [
    "# labels = ['Adult', 'Game', 'HomeLife', 'InstantMessage-High', 'InstantMessage-Low', 'Map', 'News', 'No_ignificant_preference', 'Portal', 'Social-media']\n",
    "labels = train_df['Groups'].unique()\n",
    "cnf_matrix = confusion_matrix(y_train, pred, labels=labels)\n",
    "\n",
    "cnf_pd = pd.DataFrame(cnf_matrix)\n",
    "cnf_pd.columns = labels\n",
    "cnf_pd.index = labels\n",
    "cnf_pd"
   ]
  },
  {
   "cell_type": "code",
   "execution_count": 29,
   "metadata": {},
   "outputs": [
    {
     "data": {
      "image/png": "[encoded data removed]",
      "text/plain": [
       "<matplotlib.figure.Figure at 0x15680102b00>"
      ]
     },
     "metadata": {},
     "output_type": "display_data"
    }
   ],
   "source": [
    "plot_importance(best_model, max_num_features = 20)\n",
    "pyplot.show()"
   ]
  },
  {
   "cell_type": "code",
   "execution_count": null,
   "metadata": {
    "collapsed": true
   },
   "outputs": [],
   "source": [
    "import winsound\n",
    "winsound.PlaySound('crows.wav', winsound.SND_FILENAME)"
   ]
  },
  {
   "cell_type": "code",
   "execution_count": 27,
   "metadata": {},
   "outputs": [
    {
     "data": {
      "text/plain": [
       "'P3M_AVG_DATA_USAGE_MB'"
      ]
     },
     "execution_count": 27,
     "metadata": {},
     "output_type": "execute_result"
    }
   ],
   "source": [
    "train_df.columns[119]"
   ]
  },
  {
   "cell_type": "code",
   "execution_count": 10,
   "metadata": {
    "collapsed": true
   },
   "outputs": [],
   "source": [
    "col_rank = pd.DataFrame()\n",
    "\n",
    "\n",
    "col_rank['importance'] = best_model.feature_importances_\n",
    "col_rank.index = train_df.columns[:-1]\n",
    "\n",
    "col_rank = col_rank.sort_values('importance', ascending = False)"
   ]
  },
  {
   "cell_type": "code",
   "execution_count": 11,
   "metadata": {},
   "outputs": [
    {
     "name": "stdout",
     "output_type": "stream",
     "text": [
      "0.802351674531 62\n"
     ]
    }
   ],
   "source": [
    "# np.sum(col_rank['importance'].values) -> 1.0\n",
    "# np.sum(col_rank['importance'].values[:84])\n",
    "importance_sum = 0\n",
    "for i in range(len(col_rank['importance'])):\n",
    "    importance_sum += col_rank['importance'].values[i]\n",
    "    if importance_sum > 0.8:\n",
    "        print(importance_sum, i)\n",
    "        break"
   ]
  },
  {
   "cell_type": "code",
   "execution_count": 12,
   "metadata": {
    "scrolled": true
   },
   "outputs": [
    {
     "data": {
      "text/html": [
       "<div>\n",
       "<style>\n",
       "    .dataframe thead tr:only-child th {\n",
       "        text-align: right;\n",
       "    }\n",
       "\n",
       "    .dataframe thead th {\n",
       "        text-align: left;\n",
       "    }\n",
       "\n",
       "    .dataframe tbody tr th {\n",
       "        vertical-align: top;\n",
       "    }\n",
       "</style>\n",
       "<table border=\"1\" class=\"dataframe\">\n",
       "  <thead>\n",
       "    <tr style=\"text-align: right;\">\n",
       "      <th></th>\n",
       "      <th>importance</th>\n",
       "    </tr>\n",
       "  </thead>\n",
       "  <tbody>\n",
       "    <tr>\n",
       "      <th>DATA_USAGE_MB</th>\n",
       "      <td>0.042252</td>\n",
       "    </tr>\n",
       "    <tr>\n",
       "      <th>AGE</th>\n",
       "      <td>0.038105</td>\n",
       "    </tr>\n",
       "    <tr>\n",
       "      <th>L3M_DATA_USAGE_MB</th>\n",
       "      <td>0.031128</td>\n",
       "    </tr>\n",
       "    <tr>\n",
       "      <th>P3M_AVG_DATA_USAGE_MB</th>\n",
       "      <td>0.029176</td>\n",
       "    </tr>\n",
       "    <tr>\n",
       "      <th>IMEI_MKT_NAME</th>\n",
       "      <td>0.024297</td>\n",
       "    </tr>\n",
       "    <tr>\n",
       "      <th>BILL_ZIP_CODE</th>\n",
       "      <td>0.023614</td>\n",
       "    </tr>\n",
       "    <tr>\n",
       "      <th>ACTV_STORE_ID</th>\n",
       "      <td>0.022492</td>\n",
       "    </tr>\n",
       "    <tr>\n",
       "      <th>TENURE_SCV</th>\n",
       "      <td>0.021663</td>\n",
       "    </tr>\n",
       "    <tr>\n",
       "      <th>IMEI_MFG_NAME</th>\n",
       "      <td>0.020248</td>\n",
       "    </tr>\n",
       "    <tr>\n",
       "      <th>P3M_MO_OFFNET_DUR</th>\n",
       "      <td>0.019760</td>\n",
       "    </tr>\n",
       "    <tr>\n",
       "      <th>P3M_MO_PSTN_DUR</th>\n",
       "      <td>0.019028</td>\n",
       "    </tr>\n",
       "    <tr>\n",
       "      <th>PROM_CURR_EXP_MONTH_CNT</th>\n",
       "      <td>0.017711</td>\n",
       "    </tr>\n",
       "    <tr>\n",
       "      <th>L3M_NET_INV_AMT</th>\n",
       "      <td>0.017174</td>\n",
       "    </tr>\n",
       "    <tr>\n",
       "      <th>PROM_CURR_PROM_CODE</th>\n",
       "      <td>0.016637</td>\n",
       "    </tr>\n",
       "    <tr>\n",
       "      <th>P3M_MO_ONNET_DUR</th>\n",
       "      <td>0.014979</td>\n",
       "    </tr>\n",
       "    <tr>\n",
       "      <th>MT_STM_AMT</th>\n",
       "      <td>0.014930</td>\n",
       "    </tr>\n",
       "    <tr>\n",
       "      <th>PROM_ACTV_PROM_SUB_TYPE</th>\n",
       "      <td>0.014588</td>\n",
       "    </tr>\n",
       "    <tr>\n",
       "      <th>BILL_CITY_NAME</th>\n",
       "      <td>0.014052</td>\n",
       "    </tr>\n",
       "    <tr>\n",
       "      <th>PROM_CURR_PROMOTION_SUB_TYPE</th>\n",
       "      <td>0.013222</td>\n",
       "    </tr>\n",
       "    <tr>\n",
       "      <th>P3M_MO_OFFNET_CNT</th>\n",
       "      <td>0.012978</td>\n",
       "    </tr>\n",
       "    <tr>\n",
       "      <th>L3M_AVG_SMS_INV_AMT</th>\n",
       "      <td>0.012832</td>\n",
       "    </tr>\n",
       "    <tr>\n",
       "      <th>MTC_CHM_DUR</th>\n",
       "      <td>0.012832</td>\n",
       "    </tr>\n",
       "    <tr>\n",
       "      <th>L3M_AVG_NET_INV_AMT</th>\n",
       "      <td>0.012295</td>\n",
       "    </tr>\n",
       "    <tr>\n",
       "      <th>PSTN_AMT</th>\n",
       "      <td>0.012149</td>\n",
       "    </tr>\n",
       "    <tr>\n",
       "      <th>AGENCY_AMT</th>\n",
       "      <td>0.011661</td>\n",
       "    </tr>\n",
       "    <tr>\n",
       "      <th>NET_INV_AMT</th>\n",
       "      <td>0.011417</td>\n",
       "    </tr>\n",
       "    <tr>\n",
       "      <th>MO_OFFNET_DUR</th>\n",
       "      <td>0.011368</td>\n",
       "    </tr>\n",
       "    <tr>\n",
       "      <th>MT_PSTN_DUR</th>\n",
       "      <td>0.011319</td>\n",
       "    </tr>\n",
       "    <tr>\n",
       "      <th>MTC_TWM_DUR</th>\n",
       "      <td>0.011173</td>\n",
       "    </tr>\n",
       "    <tr>\n",
       "      <th>DATA_INV_AMT</th>\n",
       "      <td>0.011027</td>\n",
       "    </tr>\n",
       "    <tr>\n",
       "      <th>...</th>\n",
       "      <td>...</td>\n",
       "    </tr>\n",
       "    <tr>\n",
       "      <th>MOC_CHM_DUR</th>\n",
       "      <td>0.010636</td>\n",
       "    </tr>\n",
       "    <tr>\n",
       "      <th>MOST_MO_DUR</th>\n",
       "      <td>0.010490</td>\n",
       "    </tr>\n",
       "    <tr>\n",
       "      <th>MOST_MT_DUR</th>\n",
       "      <td>0.010490</td>\n",
       "    </tr>\n",
       "    <tr>\n",
       "      <th>VOICE_INV_AMT</th>\n",
       "      <td>0.010392</td>\n",
       "    </tr>\n",
       "    <tr>\n",
       "      <th>MT_TTL_DURATION</th>\n",
       "      <td>0.010051</td>\n",
       "    </tr>\n",
       "    <tr>\n",
       "      <th>P3M_MO_ONNET_CNT</th>\n",
       "      <td>0.009660</td>\n",
       "    </tr>\n",
       "    <tr>\n",
       "      <th>GENDER_CODE</th>\n",
       "      <td>0.009270</td>\n",
       "    </tr>\n",
       "    <tr>\n",
       "      <th>INT_ROAM_AMT</th>\n",
       "      <td>0.008733</td>\n",
       "    </tr>\n",
       "    <tr>\n",
       "      <th>PROM_ACTV_PROM_TYPE</th>\n",
       "      <td>0.008685</td>\n",
       "    </tr>\n",
       "    <tr>\n",
       "      <th>AVG_HS_USE_MONTH_EX_CURR</th>\n",
       "      <td>0.008489</td>\n",
       "    </tr>\n",
       "    <tr>\n",
       "      <th>BL_CYCLE_DESC</th>\n",
       "      <td>0.008099</td>\n",
       "    </tr>\n",
       "    <tr>\n",
       "      <th>MT_ONNET_DUR</th>\n",
       "      <td>0.008099</td>\n",
       "    </tr>\n",
       "    <tr>\n",
       "      <th>MO_TTL_DURATION</th>\n",
       "      <td>0.008002</td>\n",
       "    </tr>\n",
       "    <tr>\n",
       "      <th>P3M_MO_PSTN_CNT</th>\n",
       "      <td>0.007660</td>\n",
       "    </tr>\n",
       "    <tr>\n",
       "      <th>MTC_APT_DUR</th>\n",
       "      <td>0.007172</td>\n",
       "    </tr>\n",
       "    <tr>\n",
       "      <th>PSTN_DUR</th>\n",
       "      <td>0.007075</td>\n",
       "    </tr>\n",
       "    <tr>\n",
       "      <th>MT_OFFNET_CNT</th>\n",
       "      <td>0.006831</td>\n",
       "    </tr>\n",
       "    <tr>\n",
       "      <th>MOC_TSC_DUR</th>\n",
       "      <td>0.006733</td>\n",
       "    </tr>\n",
       "    <tr>\n",
       "      <th>MOC_APT_DUR</th>\n",
       "      <td>0.006538</td>\n",
       "    </tr>\n",
       "    <tr>\n",
       "      <th>PROM_CURR_PROMOTION_TYPE</th>\n",
       "      <td>0.006440</td>\n",
       "    </tr>\n",
       "    <tr>\n",
       "      <th>MO_TTL_COUNT</th>\n",
       "      <td>0.006391</td>\n",
       "    </tr>\n",
       "    <tr>\n",
       "      <th>MOC_CHM_CNT</th>\n",
       "      <td>0.006294</td>\n",
       "    </tr>\n",
       "    <tr>\n",
       "      <th>MOC_TWM_CNT</th>\n",
       "      <td>0.006196</td>\n",
       "    </tr>\n",
       "    <tr>\n",
       "      <th>MTC_CHM_CNT</th>\n",
       "      <td>0.006148</td>\n",
       "    </tr>\n",
       "    <tr>\n",
       "      <th>MT_TTL_COUNT</th>\n",
       "      <td>0.006050</td>\n",
       "    </tr>\n",
       "    <tr>\n",
       "      <th>MO_OFFNET_CNT</th>\n",
       "      <td>0.005855</td>\n",
       "    </tr>\n",
       "    <tr>\n",
       "      <th>IDD_AMT</th>\n",
       "      <td>0.005855</td>\n",
       "    </tr>\n",
       "    <tr>\n",
       "      <th>MO_ONNET_DUR</th>\n",
       "      <td>0.005708</td>\n",
       "    </tr>\n",
       "    <tr>\n",
       "      <th>MTC_TSC_DUR</th>\n",
       "      <td>0.005562</td>\n",
       "    </tr>\n",
       "    <tr>\n",
       "      <th>MTC_PSTN_DUR</th>\n",
       "      <td>0.005416</td>\n",
       "    </tr>\n",
       "  </tbody>\n",
       "</table>\n",
       "<p>62 rows × 1 columns</p>\n",
       "</div>"
      ],
      "text/plain": [
       "                              importance\n",
       "DATA_USAGE_MB                   0.042252\n",
       "AGE                             0.038105\n",
       "L3M_DATA_USAGE_MB               0.031128\n",
       "P3M_AVG_DATA_USAGE_MB           0.029176\n",
       "IMEI_MKT_NAME                   0.024297\n",
       "BILL_ZIP_CODE                   0.023614\n",
       "ACTV_STORE_ID                   0.022492\n",
       "TENURE_SCV                      0.021663\n",
       "IMEI_MFG_NAME                   0.020248\n",
       "P3M_MO_OFFNET_DUR               0.019760\n",
       "P3M_MO_PSTN_DUR                 0.019028\n",
       "PROM_CURR_EXP_MONTH_CNT         0.017711\n",
       "L3M_NET_INV_AMT                 0.017174\n",
       "PROM_CURR_PROM_CODE             0.016637\n",
       "P3M_MO_ONNET_DUR                0.014979\n",
       "MT_STM_AMT                      0.014930\n",
       "PROM_ACTV_PROM_SUB_TYPE         0.014588\n",
       "BILL_CITY_NAME                  0.014052\n",
       "PROM_CURR_PROMOTION_SUB_TYPE    0.013222\n",
       "P3M_MO_OFFNET_CNT               0.012978\n",
       "L3M_AVG_SMS_INV_AMT             0.012832\n",
       "MTC_CHM_DUR                     0.012832\n",
       "L3M_AVG_NET_INV_AMT             0.012295\n",
       "PSTN_AMT                        0.012149\n",
       "AGENCY_AMT                      0.011661\n",
       "NET_INV_AMT                     0.011417\n",
       "MO_OFFNET_DUR                   0.011368\n",
       "MT_PSTN_DUR                     0.011319\n",
       "MTC_TWM_DUR                     0.011173\n",
       "DATA_INV_AMT                    0.011027\n",
       "...                                  ...\n",
       "MOC_CHM_DUR                     0.010636\n",
       "MOST_MO_DUR                     0.010490\n",
       "MOST_MT_DUR                     0.010490\n",
       "VOICE_INV_AMT                   0.010392\n",
       "MT_TTL_DURATION                 0.010051\n",
       "P3M_MO_ONNET_CNT                0.009660\n",
       "GENDER_CODE                     0.009270\n",
       "INT_ROAM_AMT                    0.008733\n",
       "PROM_ACTV_PROM_TYPE             0.008685\n",
       "AVG_HS_USE_MONTH_EX_CURR        0.008489\n",
       "BL_CYCLE_DESC                   0.008099\n",
       "MT_ONNET_DUR                    0.008099\n",
       "MO_TTL_DURATION                 0.008002\n",
       "P3M_MO_PSTN_CNT                 0.007660\n",
       "MTC_APT_DUR                     0.007172\n",
       "PSTN_DUR                        0.007075\n",
       "MT_OFFNET_CNT                   0.006831\n",
       "MOC_TSC_DUR                     0.006733\n",
       "MOC_APT_DUR                     0.006538\n",
       "PROM_CURR_PROMOTION_TYPE        0.006440\n",
       "MO_TTL_COUNT                    0.006391\n",
       "MOC_CHM_CNT                     0.006294\n",
       "MOC_TWM_CNT                     0.006196\n",
       "MTC_CHM_CNT                     0.006148\n",
       "MT_TTL_COUNT                    0.006050\n",
       "MO_OFFNET_CNT                   0.005855\n",
       "IDD_AMT                         0.005855\n",
       "MO_ONNET_DUR                    0.005708\n",
       "MTC_TSC_DUR                     0.005562\n",
       "MTC_PSTN_DUR                    0.005416\n",
       "\n",
       "[62 rows x 1 columns]"
      ]
     },
     "execution_count": 12,
     "metadata": {},
     "output_type": "execute_result"
    }
   ],
   "source": [
    "col_rank.iloc[:i]"
   ]
  },
  {
   "cell_type": "code",
   "execution_count": 12,
   "metadata": {
    "scrolled": true
   },
   "outputs": [
    {
     "data": {
      "text/html": [
       "<div>\n",
       "<style>\n",
       "    .dataframe thead tr:only-child th {\n",
       "        text-align: right;\n",
       "    }\n",
       "\n",
       "    .dataframe thead th {\n",
       "        text-align: left;\n",
       "    }\n",
       "\n",
       "    .dataframe tbody tr th {\n",
       "        vertical-align: top;\n",
       "    }\n",
       "</style>\n",
       "<table border=\"1\" class=\"dataframe\">\n",
       "  <thead>\n",
       "    <tr style=\"text-align: right;\">\n",
       "      <th></th>\n",
       "      <th>importance</th>\n",
       "    </tr>\n",
       "  </thead>\n",
       "  <tbody>\n",
       "    <tr>\n",
       "      <th>DATA_USAGE_MB</th>\n",
       "      <td>0.175714</td>\n",
       "    </tr>\n",
       "    <tr>\n",
       "      <th>IMEI_MFG_NAME</th>\n",
       "      <td>0.097143</td>\n",
       "    </tr>\n",
       "    <tr>\n",
       "      <th>AGE</th>\n",
       "      <td>0.070000</td>\n",
       "    </tr>\n",
       "    <tr>\n",
       "      <th>P3M_AVG_DATA_USAGE_MB</th>\n",
       "      <td>0.055714</td>\n",
       "    </tr>\n",
       "    <tr>\n",
       "      <th>L3M_DATA_USAGE_MB</th>\n",
       "      <td>0.044286</td>\n",
       "    </tr>\n",
       "    <tr>\n",
       "      <th>GENDER_CODE</th>\n",
       "      <td>0.042857</td>\n",
       "    </tr>\n",
       "    <tr>\n",
       "      <th>IMEI_MKT_NAME</th>\n",
       "      <td>0.035714</td>\n",
       "    </tr>\n",
       "    <tr>\n",
       "      <th>L3M_AVG_SMS_INV_AMT</th>\n",
       "      <td>0.030000</td>\n",
       "    </tr>\n",
       "    <tr>\n",
       "      <th>INT_ROAM_AMT</th>\n",
       "      <td>0.027143</td>\n",
       "    </tr>\n",
       "    <tr>\n",
       "      <th>BILL_CITY_NAME</th>\n",
       "      <td>0.025714</td>\n",
       "    </tr>\n",
       "    <tr>\n",
       "      <th>P3M_MO_PSTN_DUR</th>\n",
       "      <td>0.017143</td>\n",
       "    </tr>\n",
       "    <tr>\n",
       "      <th>AGENCY_AMT</th>\n",
       "      <td>0.015714</td>\n",
       "    </tr>\n",
       "    <tr>\n",
       "      <th>PROM_CURR_EXP_MONTH_CNT</th>\n",
       "      <td>0.015714</td>\n",
       "    </tr>\n",
       "    <tr>\n",
       "      <th>MTC_CHM_DUR</th>\n",
       "      <td>0.014286</td>\n",
       "    </tr>\n",
       "    <tr>\n",
       "      <th>IDD_AMT</th>\n",
       "      <td>0.014286</td>\n",
       "    </tr>\n",
       "    <tr>\n",
       "      <th>L3M_NET_INV_AMT</th>\n",
       "      <td>0.014286</td>\n",
       "    </tr>\n",
       "    <tr>\n",
       "      <th>SELFCARE_IND</th>\n",
       "      <td>0.012857</td>\n",
       "    </tr>\n",
       "    <tr>\n",
       "      <th>MT_STM_AMT</th>\n",
       "      <td>0.012857</td>\n",
       "    </tr>\n",
       "    <tr>\n",
       "      <th>IMEI_BAND</th>\n",
       "      <td>0.012857</td>\n",
       "    </tr>\n",
       "    <tr>\n",
       "      <th>AUTOPAY_IND</th>\n",
       "      <td>0.012857</td>\n",
       "    </tr>\n",
       "    <tr>\n",
       "      <th>ACTV_TYPE</th>\n",
       "      <td>0.012857</td>\n",
       "    </tr>\n",
       "    <tr>\n",
       "      <th>GOOGLE_PLAY_IND</th>\n",
       "      <td>0.011429</td>\n",
       "    </tr>\n",
       "    <tr>\n",
       "      <th>HAPPYGO_IND</th>\n",
       "      <td>0.011429</td>\n",
       "    </tr>\n",
       "    <tr>\n",
       "      <th>BILL_ZIP_CODE</th>\n",
       "      <td>0.011429</td>\n",
       "    </tr>\n",
       "  </tbody>\n",
       "</table>\n",
       "</div>"
      ],
      "text/plain": [
       "                         importance\n",
       "DATA_USAGE_MB              0.175714\n",
       "IMEI_MFG_NAME              0.097143\n",
       "AGE                        0.070000\n",
       "P3M_AVG_DATA_USAGE_MB      0.055714\n",
       "L3M_DATA_USAGE_MB          0.044286\n",
       "GENDER_CODE                0.042857\n",
       "IMEI_MKT_NAME              0.035714\n",
       "L3M_AVG_SMS_INV_AMT        0.030000\n",
       "INT_ROAM_AMT               0.027143\n",
       "BILL_CITY_NAME             0.025714\n",
       "P3M_MO_PSTN_DUR            0.017143\n",
       "AGENCY_AMT                 0.015714\n",
       "PROM_CURR_EXP_MONTH_CNT    0.015714\n",
       "MTC_CHM_DUR                0.014286\n",
       "IDD_AMT                    0.014286\n",
       "L3M_NET_INV_AMT            0.014286\n",
       "SELFCARE_IND               0.012857\n",
       "MT_STM_AMT                 0.012857\n",
       "IMEI_BAND                  0.012857\n",
       "AUTOPAY_IND                0.012857\n",
       "ACTV_TYPE                  0.012857\n",
       "GOOGLE_PLAY_IND            0.011429\n",
       "HAPPYGO_IND                0.011429\n",
       "BILL_ZIP_CODE              0.011429"
      ]
     },
     "execution_count": 12,
     "metadata": {},
     "output_type": "execute_result"
    }
   ],
   "source": [
    "col_rank.iloc[:i]"
   ]
  },
  {
   "cell_type": "code",
   "execution_count": 33,
   "metadata": {
    "scrolled": false
   },
   "outputs": [
    {
     "data": {
      "text/html": [
       "<div>\n",
       "<style>\n",
       "    .dataframe thead tr:only-child th {\n",
       "        text-align: right;\n",
       "    }\n",
       "\n",
       "    .dataframe thead th {\n",
       "        text-align: left;\n",
       "    }\n",
       "\n",
       "    .dataframe tbody tr th {\n",
       "        vertical-align: top;\n",
       "    }\n",
       "</style>\n",
       "<table border=\"1\" class=\"dataframe\">\n",
       "  <thead>\n",
       "    <tr style=\"text-align: right;\">\n",
       "      <th></th>\n",
       "      <th>importance</th>\n",
       "    </tr>\n",
       "  </thead>\n",
       "  <tbody>\n",
       "    <tr>\n",
       "      <th>MTC_APT_DUR</th>\n",
       "      <td>0.007063</td>\n",
       "    </tr>\n",
       "    <tr>\n",
       "      <th>MO_TTL_COUNT</th>\n",
       "      <td>0.006792</td>\n",
       "    </tr>\n",
       "    <tr>\n",
       "      <th>MTC_PSTN_DUR</th>\n",
       "      <td>0.006656</td>\n",
       "    </tr>\n",
       "    <tr>\n",
       "      <th>MOC_TWM_CNT</th>\n",
       "      <td>0.006520</td>\n",
       "    </tr>\n",
       "    <tr>\n",
       "      <th>MTC_CHM_CNT</th>\n",
       "      <td>0.006248</td>\n",
       "    </tr>\n",
       "    <tr>\n",
       "      <th>MO_OFFNET_CNT</th>\n",
       "      <td>0.005977</td>\n",
       "    </tr>\n",
       "    <tr>\n",
       "      <th>MO_ONNET_DUR</th>\n",
       "      <td>0.005977</td>\n",
       "    </tr>\n",
       "    <tr>\n",
       "      <th>ORIG_OPR_ID</th>\n",
       "      <td>0.005909</td>\n",
       "    </tr>\n",
       "    <tr>\n",
       "      <th>MOC_CHM_CNT</th>\n",
       "      <td>0.005909</td>\n",
       "    </tr>\n",
       "    <tr>\n",
       "      <th>MOC_TSC_DUR</th>\n",
       "      <td>0.005841</td>\n",
       "    </tr>\n",
       "  </tbody>\n",
       "</table>\n",
       "</div>"
      ],
      "text/plain": [
       "               importance\n",
       "MTC_APT_DUR      0.007063\n",
       "MO_TTL_COUNT     0.006792\n",
       "MTC_PSTN_DUR     0.006656\n",
       "MOC_TWM_CNT      0.006520\n",
       "MTC_CHM_CNT      0.006248\n",
       "MO_OFFNET_CNT    0.005977\n",
       "MO_ONNET_DUR     0.005977\n",
       "ORIG_OPR_ID      0.005909\n",
       "MOC_CHM_CNT      0.005909\n",
       "MOC_TSC_DUR      0.005841"
      ]
     },
     "execution_count": 33,
     "metadata": {},
     "output_type": "execute_result"
    }
   ],
   "source": [
    "col_rank.iloc[50:i]"
   ]
  },
  {
   "cell_type": "markdown",
   "metadata": {},
   "source": [
    "## save model"
   ]
  },
  {
   "cell_type": "code",
   "execution_count": 20,
   "metadata": {
    "collapsed": true
   },
   "outputs": [],
   "source": [
    "path = './XGB_models/'\n",
    "model_name = 'xgboost_without_infre_' + group_name + '_' + str(sample) + '_0729'"
   ]
  },
  {
   "cell_type": "code",
   "execution_count": 21,
   "metadata": {
    "collapsed": true
   },
   "outputs": [],
   "source": [
    "best_model._Booster.save_model(path + model_name + '.model')\n",
    "\n",
    "pickle.dump(best_model, open(path + model_name + \".dat\", \"wb\"))"
   ]
  },
  {
   "cell_type": "code",
   "execution_count": 22,
   "metadata": {
    "collapsed": true
   },
   "outputs": [],
   "source": [
    "col_rank.to_csv(path + model_name + \".csv\", index=False, encoding='utf-8')"
   ]
  },
  {
   "cell_type": "markdown",
   "metadata": {},
   "source": [
    "# testing with less feature"
   ]
  },
  {
   "cell_type": "code",
   "execution_count": 32,
   "metadata": {},
   "outputs": [
    {
     "name": "stdout",
     "output_type": "stream",
     "text": [
      "training time(2 features):  6.10\n",
      "accuracy: 0.62%\n",
      "training time(3 features):  6.39\n",
      "accuracy: 0.66%\n",
      "training time(4 features):  6.57\n",
      "accuracy: 0.66%\n",
      "training time(5 features):  6.67\n",
      "accuracy: 0.69%\n",
      "5\n"
     ]
    }
   ],
   "source": [
    "n_test = 1\n",
    "curr_score = 0\n",
    "while abs(gs.best_score_ - curr_score) > 0.01:\n",
    "    n_test += 1\n",
    "    t0 = time()\n",
    "#     test_model = XGBClassifier(n_jobs = -1, **{\"updater\": \"grow_gpu\"})\n",
    "    test_model = XGBClassifier(n_jobs = -1)\n",
    "    # kfold = StratifiedKFold(n_splits=4, shuffle=True, random_state=7)\n",
    "    test_gs = GridSearchCV(estimator=test_model, param_grid=param_grid, scoring='accuracy', cv=5, n_jobs=1)\n",
    "    X_train_test = train_df[col_rank.index[:n_test]].iloc[:, 0:-1].values\n",
    "    test_gs.fit(X_train_test, y_train)\n",
    "    print(\"training time(%d features):  %.2f\" % (n_test, time()-t0))\n",
    "    curr_score = test_gs.best_score_\n",
    "    print(\"accuracy: %.2f%%\" % (curr_score * 100))\n",
    "print(n_test)"
   ]
  },
  {
   "cell_type": "code",
   "execution_count": 22,
   "metadata": {},
   "outputs": [
    {
     "name": "stdout",
     "output_type": "stream",
     "text": [
      "training time(9 features):  2.58\n",
      "0.681133085957\n"
     ]
    }
   ],
   "source": [
    "t0 = time()\n",
    "n_test = 9\n",
    "test_model = XGBClassifier(n_jobs = -1, **{\"updater\": \"grow_gpu\"})\n",
    "# test_model = XGBClassifier(n_jobs = -1)\n",
    "# kfold = StratifiedKFold(n_splits=4, shuffle=True, random_state=7)\n",
    "test_gs = GridSearchCV(estimator=test_model, param_grid=param_grid, scoring='accuracy', cv=5, n_jobs=1)\n",
    "X_train_test = train_df[['GENDER_CODE', 'DATA_USAGE_MB', 'IMEI_MFG_NAME', 'AGE']].iloc[:, 0:-1].values\n",
    "# X_train_test = train_df[col_rank.index[:n_test]].iloc[:, 0:-1].values\n",
    "test_gs.fit(X_train_test, y_train)\n",
    "print(\"training time(%d features):  %.2f\" % (n_test, time()-t0))\n",
    "curr_score = test_gs.best_score_\n",
    "print(curr_score)"
   ]
  },
  {
   "cell_type": "markdown",
   "metadata": {},
   "source": [
    "## load model"
   ]
  },
  {
   "cell_type": "code",
   "execution_count": 14,
   "metadata": {
    "collapsed": true
   },
   "outputs": [],
   "source": [
    "best_model = XGBClassifier()\n",
    "booster = Booster()\n",
    "booster.load_model(path + model_name + '.model')\n",
    "best_model._Booster = booster"
   ]
  },
  {
   "cell_type": "code",
   "execution_count": 9,
   "metadata": {
    "collapsed": true
   },
   "outputs": [],
   "source": [
    "import pickle\n",
    "best_model = pickle.load(open(path + model_name + \".dat\", \"rb\"))"
   ]
  },
  {
   "cell_type": "code",
   "execution_count": null,
   "metadata": {
    "collapsed": true
   },
   "outputs": [],
   "source": [
    "plot_importance(clf, max_num_features = 20)\n",
    "pyplot.show()"
   ]
  },
  {
   "cell_type": "code",
   "execution_count": null,
   "metadata": {
    "collapsed": true
   },
   "outputs": [],
   "source": [
    "pred = loaded_model.predict(X_train)"
   ]
  },
  {
   "cell_type": "code",
   "execution_count": null,
   "metadata": {
    "collapsed": true
   },
   "outputs": [],
   "source": []
  },
  {
   "cell_type": "code",
   "execution_count": 26,
   "metadata": {
    "collapsed": true
   },
   "outputs": [],
   "source": [
    "del train_df\n",
    "del X_train"
   ]
  },
  {
   "cell_type": "code",
   "execution_count": null,
   "metadata": {
    "collapsed": true
   },
   "outputs": [],
   "source": [
    "del X"
   ]
  },
  {
   "cell_type": "code",
   "execution_count": null,
   "metadata": {
    "collapsed": true
   },
   "outputs": [],
   "source": [
    "import os\n",
    "os.system('python XGBoost_date_to_num.py')"
   ]
  },
  {
   "cell_type": "code",
   "execution_count": 41,
   "metadata": {},
   "outputs": [
    {
     "data": {
      "text/plain": [
       "Index(['DATA_MONTH', 'RENEW_IND', 'GA_IND', 'ACTV_TYPE', 'GA_DATE',\n",
       "       'CHURN_IND', 'CHURN_TYPE', 'INACTV_DATE', 'MKT_CHURN_DATE',\n",
       "       'SUSPEND_IND', 'TARGET_OPR_ID', 'TEMP_INACTV_DATE', 'SRV_TYPE_DESC',\n",
       "       'RPS_NAME', 'SUBSCR_STATUS_CODE', 'GENDER_CODE', 'P6M_AVG_NET_INV_AMT',\n",
       "       'ORIG_OPR_ID', 'AGE', 'TENURE_SCV', 'BILL_CITY_NAME',\n",
       "       'BILL_DISTRICT_NAME', 'CHANNEL_CHURN_INDEX', 'CHURN_INDEX',\n",
       "       'FETNET_IND', 'DORMANT_MONTH_CNT_MKT', 'SMS_PROM_IND', 'IMEI_TYPE',\n",
       "       'IMEI_MFG_NAME', 'IMEI_MKT_NAME'],\n",
       "      dtype='object')"
      ]
     },
     "execution_count": 41,
     "metadata": {},
     "output_type": "execute_result"
    }
   ],
   "source": [
    "train_df.columns[:30]"
   ]
  },
  {
   "cell_type": "code",
   "execution_count": 55,
   "metadata": {},
   "outputs": [
    {
     "data": {
      "text/plain": [
       "2.0"
      ]
     },
     "execution_count": 55,
     "metadata": {},
     "output_type": "execute_result"
    }
   ],
   "source": [
    "np.mean([1, 2, 3])"
   ]
  },
  {
   "cell_type": "code",
   "execution_count": 57,
   "metadata": {},
   "outputs": [
    {
     "data": {
      "text/plain": [
       "0         0.071200\n",
       "1         0.077995\n",
       "2         0.076076\n",
       "3         0.084357\n",
       "4         0.087713\n",
       "5         0.102503\n",
       "6         0.076637\n",
       "7         0.075904\n",
       "8         0.078638\n",
       "9         0.107031\n",
       "10        0.069363\n",
       "11        0.089462\n",
       "12        0.083224\n",
       "13        0.093962\n",
       "14        0.092212\n",
       "15        0.076305\n",
       "16        0.092712\n",
       "17        0.089767\n",
       "18        0.067652\n",
       "19        0.079278\n",
       "20        0.097193\n",
       "21        0.072422\n",
       "22        0.089958\n",
       "23        0.083587\n",
       "24        0.075730\n",
       "25        0.086533\n",
       "26        0.076192\n",
       "27        0.080760\n",
       "28        0.080117\n",
       "29        0.087279\n",
       "            ...   \n",
       "108585    0.069299\n",
       "108586    0.078080\n",
       "108587    0.114596\n",
       "108588    0.099239\n",
       "108589    0.073038\n",
       "108590    0.081312\n",
       "108591    0.068605\n",
       "108592    0.122377\n",
       "108593    0.082526\n",
       "108594    0.111087\n",
       "108595    0.086701\n",
       "108596    0.087570\n",
       "108597    0.093813\n",
       "108598    0.078654\n",
       "108599    0.098765\n",
       "108600    0.089876\n",
       "108601    0.115582\n",
       "108602    0.093408\n",
       "108603    0.109350\n",
       "108604    0.078123\n",
       "108605    0.075659\n",
       "108606    0.076227\n",
       "108607    0.098409\n",
       "108608    0.111613\n",
       "108609    0.071005\n",
       "108610    0.088401\n",
       "108611    0.078397\n",
       "108612    0.100319\n",
       "108613    0.087987\n",
       "108614    0.085174\n",
       "Length: 108615, dtype: float64"
      ]
     },
     "execution_count": 57,
     "metadata": {},
     "output_type": "execute_result"
    }
   ],
   "source": [
    "train_df.mean(axis = 1)"
   ]
  },
  {
   "cell_type": "code",
   "execution_count": null,
   "metadata": {
    "collapsed": true
   },
   "outputs": [],
   "source": []
  }
 ],
 "metadata": {
  "kernelspec": {
   "display_name": "Python 3",
   "language": "python",
   "name": "python3"
  },
  "language_info": {
   "codemirror_mode": {
    "name": "ipython",
    "version": 3
   },
   "file_extension": ".py",
   "mimetype": "text/x-python",
   "name": "python",
   "nbconvert_exporter": "python",
   "pygments_lexer": "ipython3",
   "version": "3.5.3"
  }
 },
 "nbformat": 4,
 "nbformat_minor": 2
}
