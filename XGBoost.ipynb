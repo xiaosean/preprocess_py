{
 "cells": [
  {
   "cell_type": "code",
   "execution_count": 7,
   "metadata": {
    "collapsed": true
   },
   "outputs": [],
   "source": [
    "import pandas as pd\n",
    "import numpy as np\n",
    "from sklearn import model_selection\n",
    "from sklearn.metrics import accuracy_score\n",
    "from sklearn.preprocessing import LabelEncoder, OneHotEncoder\n",
    "from sklearn.model_selection import *\n",
    "from matplotlib import pyplot\n",
    "from sklearn.metrics import confusion_matrix\n",
    "from time import time\n",
    "import pickle"
   ]
  },
  {
   "cell_type": "code",
   "execution_count": 2,
   "metadata": {
    "collapsed": true
   },
   "outputs": [],
   "source": [
    "from xgboost import *"
   ]
  },
  {
   "cell_type": "markdown",
   "metadata": {},
   "source": [
    "# data preparation"
   ]
  },
  {
   "cell_type": "code",
   "execution_count": null,
   "metadata": {
    "collapsed": true
   },
   "outputs": [],
   "source": [
    "path = \"C:/Users/VIPLAB/Desktop/preprocess_py/marketing_analyze/\"\n",
    "filename = \"mkt_with_11_group_id_20170712.csv\"\n",
    "train_df = pd.read_csv(path + filename, error_bad_lines=False, nrows = 100)"
   ]
  },
  {
   "cell_type": "code",
   "execution_count": null,
   "metadata": {
    "collapsed": true
   },
   "outputs": [],
   "source": [
    "train_df['W2P_SMS_MO_ONNET_CNT'].dtypes"
   ]
  },
  {
   "cell_type": "code",
   "execution_count": null,
   "metadata": {
    "collapsed": true,
    "scrolled": true
   },
   "outputs": [],
   "source": [
    "train_df['W2P_SMS_MO_ONNET_CNT'].values\n",
    "# train_df.groupby('BILL_DISTRICT_NAME').describe()"
   ]
  },
  {
   "cell_type": "code",
   "execution_count": null,
   "metadata": {
    "collapsed": true
   },
   "outputs": [],
   "source": [
    "X = train_df.values[:,:-1]\n",
    "Y = train_df.values[:,-1]"
   ]
  },
  {
   "cell_type": "code",
   "execution_count": null,
   "metadata": {
    "collapsed": true
   },
   "outputs": [],
   "source": [
    "label_encoder = LabelEncoder()\n",
    "label_encoder = label_encoder.fit(Y)\n",
    "label_encoded_y = label_encoder.transform(Y)"
   ]
  },
  {
   "cell_type": "code",
   "execution_count": null,
   "metadata": {
    "collapsed": true
   },
   "outputs": [],
   "source": [
    "label_encoded_y"
   ]
  },
  {
   "cell_type": "code",
   "execution_count": null,
   "metadata": {
    "collapsed": true
   },
   "outputs": [],
   "source": []
  },
  {
   "cell_type": "markdown",
   "metadata": {},
   "source": [
    "# categorical feature encoding without one hot encode"
   ]
  },
  {
   "cell_type": "code",
   "execution_count": 3,
   "metadata": {
    "collapsed": true
   },
   "outputs": [],
   "source": [
    "sample = 0\n",
    "group_name = 'Adult'\n",
    "path = \"C:/Users/VIPLAB/Desktop/preprocess_py/marketing_analyze/0725_sample/\" + group_name + \"/\"\n",
    "filename = \"0725_april_marketing_anylze_select_294_table_group11_max_min_sample_\" + group_name + \"_others_\" + str(sample) + \".csv\"\n",
    "# filename = \"0719_april_marketing_anylze_full_table_group11_max_min_train.csv\"\n",
    "train_df = pd.read_csv(path + filename, error_bad_lines=False)"
   ]
  },
  {
   "cell_type": "code",
   "execution_count": 4,
   "metadata": {},
   "outputs": [
    {
     "data": {
      "text/html": [
       "<div>\n",
       "<style>\n",
       "    .dataframe thead tr:only-child th {\n",
       "        text-align: right;\n",
       "    }\n",
       "\n",
       "    .dataframe thead th {\n",
       "        text-align: left;\n",
       "    }\n",
       "\n",
       "    .dataframe tbody tr th {\n",
       "        vertical-align: top;\n",
       "    }\n",
       "</style>\n",
       "<table border=\"1\" class=\"dataframe\">\n",
       "  <thead>\n",
       "    <tr style=\"text-align: right;\">\n",
       "      <th></th>\n",
       "      <th>DATA_MONTH</th>\n",
       "      <th>RENEW_IND</th>\n",
       "      <th>GA_IND</th>\n",
       "      <th>ACTV_TYPE</th>\n",
       "      <th>GA_DATE</th>\n",
       "      <th>CHURN_IND</th>\n",
       "      <th>CHURN_TYPE</th>\n",
       "      <th>INACTV_DATE</th>\n",
       "      <th>MKT_CHURN_DATE</th>\n",
       "      <th>SUSPEND_IND</th>\n",
       "      <th>...</th>\n",
       "      <th>L2M_DEVICE_MODEL</th>\n",
       "      <th>L2M_DEVICE_PRICE_TIER</th>\n",
       "      <th>L2M_DEVICE_TYPE</th>\n",
       "      <th>HS_CHG_CNT</th>\n",
       "      <th>AVG_HS_USE_MONTH</th>\n",
       "      <th>AVG_HS_USE_MONTH_EX_CURR</th>\n",
       "      <th>ZONE_ACTV_IVR_COUNTRY</th>\n",
       "      <th>ZONE_ACTV_IVR_REGION</th>\n",
       "      <th>STORE_TYPE</th>\n",
       "      <th>SPAUTH_IND</th>\n",
       "    </tr>\n",
       "    <tr>\n",
       "      <th>Groups</th>\n",
       "      <th></th>\n",
       "      <th></th>\n",
       "      <th></th>\n",
       "      <th></th>\n",
       "      <th></th>\n",
       "      <th></th>\n",
       "      <th></th>\n",
       "      <th></th>\n",
       "      <th></th>\n",
       "      <th></th>\n",
       "      <th></th>\n",
       "      <th></th>\n",
       "      <th></th>\n",
       "      <th></th>\n",
       "      <th></th>\n",
       "      <th></th>\n",
       "      <th></th>\n",
       "      <th></th>\n",
       "      <th></th>\n",
       "      <th></th>\n",
       "      <th></th>\n",
       "    </tr>\n",
       "  </thead>\n",
       "  <tbody>\n",
       "    <tr>\n",
       "      <th>Adult</th>\n",
       "      <td>54309</td>\n",
       "      <td>54309</td>\n",
       "      <td>54309</td>\n",
       "      <td>54309</td>\n",
       "      <td>54309</td>\n",
       "      <td>54309</td>\n",
       "      <td>54309</td>\n",
       "      <td>54309</td>\n",
       "      <td>54309</td>\n",
       "      <td>54309</td>\n",
       "      <td>...</td>\n",
       "      <td>54309</td>\n",
       "      <td>54309</td>\n",
       "      <td>54309</td>\n",
       "      <td>54309</td>\n",
       "      <td>54309</td>\n",
       "      <td>54309</td>\n",
       "      <td>54309</td>\n",
       "      <td>54309</td>\n",
       "      <td>54309</td>\n",
       "      <td>54309</td>\n",
       "    </tr>\n",
       "    <tr>\n",
       "      <th>Others</th>\n",
       "      <td>54306</td>\n",
       "      <td>54306</td>\n",
       "      <td>54306</td>\n",
       "      <td>54306</td>\n",
       "      <td>54306</td>\n",
       "      <td>54306</td>\n",
       "      <td>54306</td>\n",
       "      <td>54306</td>\n",
       "      <td>54306</td>\n",
       "      <td>54306</td>\n",
       "      <td>...</td>\n",
       "      <td>54306</td>\n",
       "      <td>54306</td>\n",
       "      <td>54306</td>\n",
       "      <td>54306</td>\n",
       "      <td>54306</td>\n",
       "      <td>54306</td>\n",
       "      <td>54306</td>\n",
       "      <td>54306</td>\n",
       "      <td>54306</td>\n",
       "      <td>54306</td>\n",
       "    </tr>\n",
       "  </tbody>\n",
       "</table>\n",
       "<p>2 rows × 293 columns</p>\n",
       "</div>"
      ],
      "text/plain": [
       "        DATA_MONTH  RENEW_IND  GA_IND  ACTV_TYPE  GA_DATE  CHURN_IND  \\\n",
       "Groups                                                                 \n",
       "Adult        54309      54309   54309      54309    54309      54309   \n",
       "Others       54306      54306   54306      54306    54306      54306   \n",
       "\n",
       "        CHURN_TYPE  INACTV_DATE  MKT_CHURN_DATE  SUSPEND_IND     ...      \\\n",
       "Groups                                                           ...       \n",
       "Adult        54309        54309           54309        54309     ...       \n",
       "Others       54306        54306           54306        54306     ...       \n",
       "\n",
       "        L2M_DEVICE_MODEL  L2M_DEVICE_PRICE_TIER  L2M_DEVICE_TYPE  HS_CHG_CNT  \\\n",
       "Groups                                                                         \n",
       "Adult              54309                  54309            54309       54309   \n",
       "Others             54306                  54306            54306       54306   \n",
       "\n",
       "        AVG_HS_USE_MONTH  AVG_HS_USE_MONTH_EX_CURR  ZONE_ACTV_IVR_COUNTRY  \\\n",
       "Groups                                                                      \n",
       "Adult              54309                     54309                  54309   \n",
       "Others             54306                     54306                  54306   \n",
       "\n",
       "        ZONE_ACTV_IVR_REGION  STORE_TYPE  SPAUTH_IND  \n",
       "Groups                                                \n",
       "Adult                  54309       54309       54309  \n",
       "Others                 54306       54306       54306  \n",
       "\n",
       "[2 rows x 293 columns]"
      ]
     },
     "execution_count": 4,
     "metadata": {},
     "output_type": "execute_result"
    }
   ],
   "source": [
    "# train_df = train_df[train_df['Groups'] != 'Infrequent_User']\n",
    "\n",
    "train_df.groupby('Groups').count()"
   ]
  },
  {
   "cell_type": "code",
   "execution_count": null,
   "metadata": {
    "collapsed": true
   },
   "outputs": [],
   "source": [
    "train_df[\"INACTV_DATE\"].head()"
   ]
  },
  {
   "cell_type": "code",
   "execution_count": null,
   "metadata": {
    "collapsed": true
   },
   "outputs": [],
   "source": [
    "for c in train_df.columns:\n",
    "    l = len(train_df[c].value_counts())\n",
    "    if l > 1000:\n",
    "        print(c)\n",
    "        print(l)\n",
    "        \n",
    "# "
   ]
  },
  {
   "cell_type": "code",
   "execution_count": null,
   "metadata": {
    "collapsed": true
   },
   "outputs": [],
   "source": [
    "np.max(train_df['CURR_BILL_PLAN_START_DATE'].values)\n",
    "# train_df.columns.values"
   ]
  },
  {
   "cell_type": "code",
   "execution_count": 16,
   "metadata": {
    "collapsed": true
   },
   "outputs": [],
   "source": [
    "X_train = train_df.iloc[:, 0:-1].values\n",
    "y_train = train_df.iloc[:, -1].values"
   ]
  },
  {
   "cell_type": "code",
   "execution_count": 17,
   "metadata": {
    "collapsed": true
   },
   "outputs": [],
   "source": [
    "param_grid = {\n",
    "#     'max_depth':[3, 5],\n",
    "#     'learning_rate':[0.1, 0.05, 0.2],\n",
    "#     'n_estimators':[50, 100, 200]\n",
    "#     'max_depth':[10],\n",
    "#     'learning_rate':[0.05],\n",
    "    'n_estimators':[100],\n",
    "    'max_depth':[5],\n",
    "    'min_child_weight':[7]\n",
    "}\n"
   ]
  },
  {
   "cell_type": "code",
   "execution_count": 18,
   "metadata": {
    "scrolled": true
   },
   "outputs": [
    {
     "name": "stdout",
     "output_type": "stream",
     "text": [
      "training time:  169.76\n"
     ]
    }
   ],
   "source": [
    "t0 = time()\n",
    "# model = XGBClassifier(n_jobs = -1, **{\"updater\": \"grow_gpu\"})\n",
    "model = XGBClassifier(n_jobs = -1)\n",
    "# kfold = StratifiedKFold(n_splits=4, shuffle=True, random_state=7)\n",
    "gs = GridSearchCV(estimator=model, param_grid=param_grid, scoring='accuracy', cv=5, n_jobs=1)\n",
    "gs.fit(X_train, y_train)\n",
    "print(\"training time:  %.2f\" % (time()-t0))"
   ]
  },
  {
   "cell_type": "code",
   "execution_count": 15,
   "metadata": {},
   "outputs": [
    {
     "data": {
      "text/plain": [
       "<Response [200]>"
      ]
     },
     "execution_count": 15,
     "metadata": {},
     "output_type": "execute_result"
    }
   ],
   "source": [
    "import requests\n",
    "requests.post(\n",
    "        \"https://api.mailgun.net/v3/sandboxe9bb891a60414f4bae93f2cc55daa963.mailgun.org/messages\",\n",
    "        auth=(\"api\", \"key-a007a22faf334a3510137b6cc03c21a6\"),\n",
    "        data={\"from\": \"Mailgun Sandbox <postmaster@sandboxe9bb891a60414f4bae93f2cc55daa963.mailgun.org>\",\n",
    "              \"to\": \"Toby <atch84@gmail.com>\",\n",
    "              \"subject\": \"XGBoost Result\",\n",
    "              \"text\": str(gs.cv_results_)})"
   ]
  },
  {
   "cell_type": "code",
   "execution_count": 19,
   "metadata": {},
   "outputs": [
    {
     "name": "stdout",
     "output_type": "stream",
     "text": [
      "0.68311006767\n",
      "{'min_child_weight': 7, 'n_estimators': 100, 'max_depth': 5}\n"
     ]
    }
   ],
   "source": [
    "print(gs.best_score_)\n",
    "print(gs.best_params_)\n",
    "best_model = gs.best_estimator_"
   ]
  },
  {
   "cell_type": "code",
   "execution_count": 20,
   "metadata": {},
   "outputs": [
    {
     "data": {
      "text/plain": [
       "{'mean_fit_time': array([ 26.61041493]),\n",
       " 'mean_score_time': array([ 0.16042638]),\n",
       " 'mean_test_score': array([ 0.68311007]),\n",
       " 'mean_train_score': array([ 0.71526489]),\n",
       " 'param_max_depth': masked_array(data = [5],\n",
       "              mask = [False],\n",
       "        fill_value = ?),\n",
       " 'param_min_child_weight': masked_array(data = [7],\n",
       "              mask = [False],\n",
       "        fill_value = ?),\n",
       " 'param_n_estimators': masked_array(data = [100],\n",
       "              mask = [False],\n",
       "        fill_value = ?),\n",
       " 'params': ({'max_depth': 5, 'min_child_weight': 7, 'n_estimators': 100},),\n",
       " 'rank_test_score': array([1]),\n",
       " 'split0_test_score': array([ 0.69071073]),\n",
       " 'split0_train_score': array([ 0.71350312]),\n",
       " 'split1_test_score': array([ 0.71942181]),\n",
       " 'split1_train_score': array([ 0.70854624]),\n",
       " 'split2_test_score': array([ 0.73231138]),\n",
       " 'split2_train_score': array([ 0.7041845]),\n",
       " 'split3_test_score': array([ 0.65985361]),\n",
       " 'split3_train_score': array([ 0.72155089]),\n",
       " 'split4_test_score': array([ 0.61324924]),\n",
       " 'split4_train_score': array([ 0.7285397]),\n",
       " 'std_fit_time': array([ 0.49774103]),\n",
       " 'std_score_time': array([ 0.01799227]),\n",
       " 'std_test_score': array([ 0.04293776]),\n",
       " 'std_train_score': array([ 0.00879492])}"
      ]
     },
     "execution_count": 20,
     "metadata": {},
     "output_type": "execute_result"
    }
   ],
   "source": [
    "gs.cv_results_"
   ]
  },
  {
   "cell_type": "code",
   "execution_count": null,
   "metadata": {
    "collapsed": true
   },
   "outputs": [],
   "source": [
    "model = XGBClassifier(n_jobs = -1, **{\"updater\": \"grow_gpu\"})\n",
    "kfold = StratifiedKFold(n_splits=10, shuffle=True, random_state=7)"
   ]
  },
  {
   "cell_type": "code",
   "execution_count": null,
   "metadata": {
    "collapsed": true
   },
   "outputs": [],
   "source": [
    "t0 = time()\n",
    "model = XGBClassifier(n_jobs = -1)\n",
    "model.fit(X_train, y_train)\n",
    "# result =  cross_val_score(model,  X_train, y_train, cv=kfold, n_jobs=-1)\n",
    "print(\"training time: %.2f\" % (time()-t0))"
   ]
  },
  {
   "cell_type": "code",
   "execution_count": null,
   "metadata": {
    "collapsed": true
   },
   "outputs": [],
   "source": [
    "result"
   ]
  },
  {
   "cell_type": "code",
   "execution_count": null,
   "metadata": {
    "collapsed": true
   },
   "outputs": [],
   "source": [
    "path = \"C:/Users/VIPLAB/Desktop/preprocess_py/marketing_analyze/\"\n",
    "filename = \"0719_april_marketing_anylze_full_table_group11_max_min_test.csv\"\n",
    "test_df = pd.read_csv(path + filename, error_bad_lines=False)"
   ]
  },
  {
   "cell_type": "code",
   "execution_count": null,
   "metadata": {
    "collapsed": true
   },
   "outputs": [],
   "source": [
    "X_test = test_df.iloc[:, 0:-1].values\n",
    "y_test = test_df.iloc[:, -1].values"
   ]
  },
  {
   "cell_type": "code",
   "execution_count": 21,
   "metadata": {
    "collapsed": true
   },
   "outputs": [],
   "source": [
    "pred = best_model.predict(X_train)"
   ]
  },
  {
   "cell_type": "code",
   "execution_count": 22,
   "metadata": {},
   "outputs": [
    {
     "name": "stdout",
     "output_type": "stream",
     "text": [
      "Train Accuracy: 71.16%\n"
     ]
    }
   ],
   "source": [
    "accuracy = accuracy_score(y_train, pred)\n",
    "print(\"Train Accuracy: %.2f%%\" % (accuracy * 100.0))"
   ]
  },
  {
   "cell_type": "code",
   "execution_count": null,
   "metadata": {
    "collapsed": true
   },
   "outputs": [],
   "source": [
    "pred = best_model.predict(X_test)"
   ]
  },
  {
   "cell_type": "code",
   "execution_count": null,
   "metadata": {
    "collapsed": true
   },
   "outputs": [],
   "source": [
    "accuracy = accuracy_score(y_test, pred)\n",
    "print(\"Test Accuracy: %.2f%%\" % (accuracy * 100.0))"
   ]
  },
  {
   "cell_type": "code",
   "execution_count": 23,
   "metadata": {},
   "outputs": [
    {
     "data": {
      "image/png": "[encoded data removed]",
      "text/plain": [
       "<matplotlib.figure.Figure at 0x1c23a6f3eb8>"
      ]
     },
     "metadata": {},
     "output_type": "display_data"
    }
   ],
   "source": [
    "plot_importance(best_model, max_num_features = 80)\n",
    "pyplot.show()"
   ]
  },
  {
   "cell_type": "code",
   "execution_count": null,
   "metadata": {
    "collapsed": true
   },
   "outputs": [],
   "source": [
    "import winsound\n",
    "winsound.PlaySound('crows.wav', winsound.SND_FILENAME)"
   ]
  },
  {
   "cell_type": "code",
   "execution_count": null,
   "metadata": {
    "collapsed": true
   },
   "outputs": [],
   "source": [
    "test_df.columns[166]"
   ]
  },
  {
   "cell_type": "code",
   "execution_count": 28,
   "metadata": {},
   "outputs": [],
   "source": [
    "col_rank = pd.DataFrame()\n",
    "\n",
    "\n",
    "col_rank['importance'] = best_model.feature_importances_\n",
    "col_rank.index = train_df.columns[:-1]\n",
    "\n",
    "col_rank = col_rank.sort_values('importance', ascending = False)"
   ]
  },
  {
   "cell_type": "code",
   "execution_count": 29,
   "metadata": {},
   "outputs": [
    {
     "name": "stdout",
     "output_type": "stream",
     "text": [
      "0.802573546767 73\n"
     ]
    }
   ],
   "source": [
    "# np.sum(col_rank['importance'].values) -> 1.0\n",
    "# np.sum(col_rank['importance'].values[:84])\n",
    "importance_sum = 0\n",
    "for i in range(len(col_rank['importance'])):\n",
    "    importance_sum += col_rank['importance'].values[i]\n",
    "    if importance_sum > 0.8:\n",
    "        print(importance_sum, i)\n",
    "        break"
   ]
  },
  {
   "cell_type": "code",
   "execution_count": 30,
   "metadata": {
    "scrolled": false
   },
   "outputs": [
    {
     "data": {
      "text/html": [
       "<div>\n",
       "<style>\n",
       "    .dataframe thead tr:only-child th {\n",
       "        text-align: right;\n",
       "    }\n",
       "\n",
       "    .dataframe thead th {\n",
       "        text-align: left;\n",
       "    }\n",
       "\n",
       "    .dataframe tbody tr th {\n",
       "        vertical-align: top;\n",
       "    }\n",
       "</style>\n",
       "<table border=\"1\" class=\"dataframe\">\n",
       "  <thead>\n",
       "    <tr style=\"text-align: right;\">\n",
       "      <th></th>\n",
       "      <th>importance</th>\n",
       "    </tr>\n",
       "  </thead>\n",
       "  <tbody>\n",
       "    <tr>\n",
       "      <th>DATA_USAGE_MB</th>\n",
       "      <td>0.065809</td>\n",
       "    </tr>\n",
       "    <tr>\n",
       "      <th>IMEI_MKT_NAME</th>\n",
       "      <td>0.045221</td>\n",
       "    </tr>\n",
       "    <tr>\n",
       "      <th>IMEI_MFG_NAME</th>\n",
       "      <td>0.045221</td>\n",
       "    </tr>\n",
       "    <tr>\n",
       "      <th>L6M_AVG_VAS_MB</th>\n",
       "      <td>0.029779</td>\n",
       "    </tr>\n",
       "    <tr>\n",
       "      <th>IMEI_SMART_OS_FLAG</th>\n",
       "      <td>0.027941</td>\n",
       "    </tr>\n",
       "    <tr>\n",
       "      <th>MT_PSTN_DUR</th>\n",
       "      <td>0.019118</td>\n",
       "    </tr>\n",
       "    <tr>\n",
       "      <th>L2M_DATA_USAGE_MB</th>\n",
       "      <td>0.018015</td>\n",
       "    </tr>\n",
       "    <tr>\n",
       "      <th>CURR_DEVICE_MAKER</th>\n",
       "      <td>0.017279</td>\n",
       "    </tr>\n",
       "    <tr>\n",
       "      <th>DATA_RATING_USAGE_MB</th>\n",
       "      <td>0.016176</td>\n",
       "    </tr>\n",
       "    <tr>\n",
       "      <th>GENDER_CODE</th>\n",
       "      <td>0.016176</td>\n",
       "    </tr>\n",
       "    <tr>\n",
       "      <th>BILL_DISTRICT_NAME</th>\n",
       "      <td>0.015809</td>\n",
       "    </tr>\n",
       "    <tr>\n",
       "      <th>BILL_CITY_NAME</th>\n",
       "      <td>0.015809</td>\n",
       "    </tr>\n",
       "    <tr>\n",
       "      <th>L3M_AVG_VAS_MB</th>\n",
       "      <td>0.015441</td>\n",
       "    </tr>\n",
       "    <tr>\n",
       "      <th>TENURE_SCV</th>\n",
       "      <td>0.013603</td>\n",
       "    </tr>\n",
       "    <tr>\n",
       "      <th>P1M_MO_OFFNET_CNT</th>\n",
       "      <td>0.013603</td>\n",
       "    </tr>\n",
       "    <tr>\n",
       "      <th>PTY_EVER_PO_CNT</th>\n",
       "      <td>0.013603</td>\n",
       "    </tr>\n",
       "    <tr>\n",
       "      <th>L3M_DATA_USAGE_MB</th>\n",
       "      <td>0.013235</td>\n",
       "    </tr>\n",
       "    <tr>\n",
       "      <th>P3M_MO_OFFNET_DUR</th>\n",
       "      <td>0.012500</td>\n",
       "    </tr>\n",
       "    <tr>\n",
       "      <th>P6M_MO_PSTN_DUR</th>\n",
       "      <td>0.011765</td>\n",
       "    </tr>\n",
       "    <tr>\n",
       "      <th>P6M_MO_OFFNET_CNT</th>\n",
       "      <td>0.011397</td>\n",
       "    </tr>\n",
       "    <tr>\n",
       "      <th>AGE</th>\n",
       "      <td>0.011029</td>\n",
       "    </tr>\n",
       "    <tr>\n",
       "      <th>P3M_MO_OFFNET_CNT</th>\n",
       "      <td>0.011029</td>\n",
       "    </tr>\n",
       "    <tr>\n",
       "      <th>MOC_OTH_DUR</th>\n",
       "      <td>0.010662</td>\n",
       "    </tr>\n",
       "    <tr>\n",
       "      <th>HAPPYGO_IND</th>\n",
       "      <td>0.010294</td>\n",
       "    </tr>\n",
       "    <tr>\n",
       "      <th>L1M_DATA_USAGE_MB</th>\n",
       "      <td>0.010294</td>\n",
       "    </tr>\n",
       "    <tr>\n",
       "      <th>CURR_DEVICE_MODEL</th>\n",
       "      <td>0.009926</td>\n",
       "    </tr>\n",
       "    <tr>\n",
       "      <th>MOST_MT_DUR</th>\n",
       "      <td>0.009926</td>\n",
       "    </tr>\n",
       "    <tr>\n",
       "      <th>MT_TTL_DURATION</th>\n",
       "      <td>0.009559</td>\n",
       "    </tr>\n",
       "    <tr>\n",
       "      <th>P3M_MO_PSTN_DUR</th>\n",
       "      <td>0.008824</td>\n",
       "    </tr>\n",
       "    <tr>\n",
       "      <th>DATA_INV_AMT</th>\n",
       "      <td>0.008824</td>\n",
       "    </tr>\n",
       "    <tr>\n",
       "      <th>P3M_MO_ONNET_CNT</th>\n",
       "      <td>0.008824</td>\n",
       "    </tr>\n",
       "    <tr>\n",
       "      <th>L1M_DEVICE_MODEL</th>\n",
       "      <td>0.008456</td>\n",
       "    </tr>\n",
       "    <tr>\n",
       "      <th>ACTV_TYPE</th>\n",
       "      <td>0.008088</td>\n",
       "    </tr>\n",
       "    <tr>\n",
       "      <th>AGENCY_AMT</th>\n",
       "      <td>0.008088</td>\n",
       "    </tr>\n",
       "    <tr>\n",
       "      <th>ACTV_CHANNEL_NAME</th>\n",
       "      <td>0.007721</td>\n",
       "    </tr>\n",
       "    <tr>\n",
       "      <th>MTC_CHM_DUR</th>\n",
       "      <td>0.007721</td>\n",
       "    </tr>\n",
       "    <tr>\n",
       "      <th>MT_STM_AMT</th>\n",
       "      <td>0.007721</td>\n",
       "    </tr>\n",
       "    <tr>\n",
       "      <th>P6M_MO_ONNET_DUR</th>\n",
       "      <td>0.007353</td>\n",
       "    </tr>\n",
       "    <tr>\n",
       "      <th>MT_OFFNET_CNT</th>\n",
       "      <td>0.007353</td>\n",
       "    </tr>\n",
       "    <tr>\n",
       "      <th>P6M_MO_OFFNET_DUR</th>\n",
       "      <td>0.007353</td>\n",
       "    </tr>\n",
       "    <tr>\n",
       "      <th>PSTN_AMT</th>\n",
       "      <td>0.006985</td>\n",
       "    </tr>\n",
       "    <tr>\n",
       "      <th>L3M_AVG_SMS_INV_AMT</th>\n",
       "      <td>0.006985</td>\n",
       "    </tr>\n",
       "    <tr>\n",
       "      <th>MOC_TWM_DUR</th>\n",
       "      <td>0.006618</td>\n",
       "    </tr>\n",
       "    <tr>\n",
       "      <th>MTC_TWM_DUR</th>\n",
       "      <td>0.006618</td>\n",
       "    </tr>\n",
       "    <tr>\n",
       "      <th>PROM_ACTV_PROM_TYPE</th>\n",
       "      <td>0.006618</td>\n",
       "    </tr>\n",
       "    <tr>\n",
       "      <th>SELFCARE_IND</th>\n",
       "      <td>0.006250</td>\n",
       "    </tr>\n",
       "    <tr>\n",
       "      <th>MT_ONNET_DUR</th>\n",
       "      <td>0.006250</td>\n",
       "    </tr>\n",
       "    <tr>\n",
       "      <th>MT_TTL_COUNT</th>\n",
       "      <td>0.005882</td>\n",
       "    </tr>\n",
       "    <tr>\n",
       "      <th>PROM_DEVICE_MODEL</th>\n",
       "      <td>0.005882</td>\n",
       "    </tr>\n",
       "    <tr>\n",
       "      <th>MO_OFFNET_CNT</th>\n",
       "      <td>0.005882</td>\n",
       "    </tr>\n",
       "  </tbody>\n",
       "</table>\n",
       "</div>"
      ],
      "text/plain": [
       "                      importance\n",
       "DATA_USAGE_MB           0.065809\n",
       "IMEI_MKT_NAME           0.045221\n",
       "IMEI_MFG_NAME           0.045221\n",
       "L6M_AVG_VAS_MB          0.029779\n",
       "IMEI_SMART_OS_FLAG      0.027941\n",
       "MT_PSTN_DUR             0.019118\n",
       "L2M_DATA_USAGE_MB       0.018015\n",
       "CURR_DEVICE_MAKER       0.017279\n",
       "DATA_RATING_USAGE_MB    0.016176\n",
       "GENDER_CODE             0.016176\n",
       "BILL_DISTRICT_NAME      0.015809\n",
       "BILL_CITY_NAME          0.015809\n",
       "L3M_AVG_VAS_MB          0.015441\n",
       "TENURE_SCV              0.013603\n",
       "P1M_MO_OFFNET_CNT       0.013603\n",
       "PTY_EVER_PO_CNT         0.013603\n",
       "L3M_DATA_USAGE_MB       0.013235\n",
       "P3M_MO_OFFNET_DUR       0.012500\n",
       "P6M_MO_PSTN_DUR         0.011765\n",
       "P6M_MO_OFFNET_CNT       0.011397\n",
       "AGE                     0.011029\n",
       "P3M_MO_OFFNET_CNT       0.011029\n",
       "MOC_OTH_DUR             0.010662\n",
       "HAPPYGO_IND             0.010294\n",
       "L1M_DATA_USAGE_MB       0.010294\n",
       "CURR_DEVICE_MODEL       0.009926\n",
       "MOST_MT_DUR             0.009926\n",
       "MT_TTL_DURATION         0.009559\n",
       "P3M_MO_PSTN_DUR         0.008824\n",
       "DATA_INV_AMT            0.008824\n",
       "P3M_MO_ONNET_CNT        0.008824\n",
       "L1M_DEVICE_MODEL        0.008456\n",
       "ACTV_TYPE               0.008088\n",
       "AGENCY_AMT              0.008088\n",
       "ACTV_CHANNEL_NAME       0.007721\n",
       "MTC_CHM_DUR             0.007721\n",
       "MT_STM_AMT              0.007721\n",
       "P6M_MO_ONNET_DUR        0.007353\n",
       "MT_OFFNET_CNT           0.007353\n",
       "P6M_MO_OFFNET_DUR       0.007353\n",
       "PSTN_AMT                0.006985\n",
       "L3M_AVG_SMS_INV_AMT     0.006985\n",
       "MOC_TWM_DUR             0.006618\n",
       "MTC_TWM_DUR             0.006618\n",
       "PROM_ACTV_PROM_TYPE     0.006618\n",
       "SELFCARE_IND            0.006250\n",
       "MT_ONNET_DUR            0.006250\n",
       "MT_TTL_COUNT            0.005882\n",
       "PROM_DEVICE_MODEL       0.005882\n",
       "MO_OFFNET_CNT           0.005882"
      ]
     },
     "execution_count": 30,
     "metadata": {},
     "output_type": "execute_result"
    }
   ],
   "source": [
    "col_rank.iloc[:50]"
   ]
  },
  {
   "cell_type": "code",
   "execution_count": 13,
   "metadata": {
    "scrolled": true
   },
   "outputs": [
    {
     "data": {
      "text/html": [
       "<div>\n",
       "<style>\n",
       "    .dataframe thead tr:only-child th {\n",
       "        text-align: right;\n",
       "    }\n",
       "\n",
       "    .dataframe thead th {\n",
       "        text-align: left;\n",
       "    }\n",
       "\n",
       "    .dataframe tbody tr th {\n",
       "        vertical-align: top;\n",
       "    }\n",
       "</style>\n",
       "<table border=\"1\" class=\"dataframe\">\n",
       "  <thead>\n",
       "    <tr style=\"text-align: right;\">\n",
       "      <th></th>\n",
       "      <th>column_name</th>\n",
       "      <th>importance</th>\n",
       "    </tr>\n",
       "  </thead>\n",
       "  <tbody>\n",
       "    <tr>\n",
       "      <th>50</th>\n",
       "      <td>ANOTHER_ACTIVE_VD</td>\n",
       "      <td>0.006667</td>\n",
       "    </tr>\n",
       "    <tr>\n",
       "      <th>51</th>\n",
       "      <td>ANOTHER_ACTIVE_D</td>\n",
       "      <td>0.000000</td>\n",
       "    </tr>\n",
       "    <tr>\n",
       "      <th>52</th>\n",
       "      <td>PTY_NP_IN_IND</td>\n",
       "      <td>0.000000</td>\n",
       "    </tr>\n",
       "    <tr>\n",
       "      <th>53</th>\n",
       "      <td>PTY_NP_OUT_IND</td>\n",
       "      <td>0.000000</td>\n",
       "    </tr>\n",
       "    <tr>\n",
       "      <th>54</th>\n",
       "      <td>PTY_CBU_EBU_PO_CNT</td>\n",
       "      <td>0.000000</td>\n",
       "    </tr>\n",
       "    <tr>\n",
       "      <th>55</th>\n",
       "      <td>PTY_CBU_PO_CNT</td>\n",
       "      <td>0.000000</td>\n",
       "    </tr>\n",
       "    <tr>\n",
       "      <th>56</th>\n",
       "      <td>PTY_CBU_PO_V_CNT</td>\n",
       "      <td>0.000000</td>\n",
       "    </tr>\n",
       "    <tr>\n",
       "      <th>57</th>\n",
       "      <td>PTY_CBU_PO_VD_CNT</td>\n",
       "      <td>0.000000</td>\n",
       "    </tr>\n",
       "    <tr>\n",
       "      <th>58</th>\n",
       "      <td>PTY_CBU_PO_D_CNT</td>\n",
       "      <td>0.000000</td>\n",
       "    </tr>\n",
       "    <tr>\n",
       "      <th>59</th>\n",
       "      <td>PTY_EBU_PO_CNT</td>\n",
       "      <td>0.000000</td>\n",
       "    </tr>\n",
       "    <tr>\n",
       "      <th>60</th>\n",
       "      <td>PTY_PO_ALL_CNT</td>\n",
       "      <td>0.000000</td>\n",
       "    </tr>\n",
       "    <tr>\n",
       "      <th>61</th>\n",
       "      <td>RENEW_APPLY_DATE</td>\n",
       "      <td>0.000000</td>\n",
       "    </tr>\n",
       "    <tr>\n",
       "      <th>62</th>\n",
       "      <td>MDS_CURR_RENEW_CNT</td>\n",
       "      <td>0.000000</td>\n",
       "    </tr>\n",
       "    <tr>\n",
       "      <th>63</th>\n",
       "      <td>MDS_CURR_RENEW_TYPE</td>\n",
       "      <td>0.000000</td>\n",
       "    </tr>\n",
       "    <tr>\n",
       "      <th>64</th>\n",
       "      <td>MDS_ELIGIBLE_FLAG</td>\n",
       "      <td>0.000000</td>\n",
       "    </tr>\n",
       "    <tr>\n",
       "      <th>65</th>\n",
       "      <td>PROM_BUNDLE_VRP</td>\n",
       "      <td>0.000000</td>\n",
       "    </tr>\n",
       "    <tr>\n",
       "      <th>66</th>\n",
       "      <td>PROM_BUNDLE_DRP</td>\n",
       "      <td>0.000000</td>\n",
       "    </tr>\n",
       "    <tr>\n",
       "      <th>67</th>\n",
       "      <td>PROM_CURR_EXP_MONTH_CNT</td>\n",
       "      <td>0.006667</td>\n",
       "    </tr>\n",
       "    <tr>\n",
       "      <th>68</th>\n",
       "      <td>PROM_CURR_PROM_CODE</td>\n",
       "      <td>0.000000</td>\n",
       "    </tr>\n",
       "    <tr>\n",
       "      <th>69</th>\n",
       "      <td>PROM_CURR_PROMOTION_TYPE</td>\n",
       "      <td>0.000000</td>\n",
       "    </tr>\n",
       "    <tr>\n",
       "      <th>70</th>\n",
       "      <td>PROM_CURR_PROMOTION_SUB_TYPE</td>\n",
       "      <td>0.000000</td>\n",
       "    </tr>\n",
       "    <tr>\n",
       "      <th>71</th>\n",
       "      <td>PROM_CURR_SYS_MODEL_IND</td>\n",
       "      <td>0.000000</td>\n",
       "    </tr>\n",
       "    <tr>\n",
       "      <th>72</th>\n",
       "      <td>PROM_DEVICE_TYPE</td>\n",
       "      <td>0.000000</td>\n",
       "    </tr>\n",
       "    <tr>\n",
       "      <th>73</th>\n",
       "      <td>PROM_DEVICE_BRAND</td>\n",
       "      <td>0.000000</td>\n",
       "    </tr>\n",
       "    <tr>\n",
       "      <th>74</th>\n",
       "      <td>PROM_DEVICE_OS</td>\n",
       "      <td>0.006667</td>\n",
       "    </tr>\n",
       "    <tr>\n",
       "      <th>75</th>\n",
       "      <td>PROM_DEVICE_MODEL</td>\n",
       "      <td>0.000000</td>\n",
       "    </tr>\n",
       "    <tr>\n",
       "      <th>76</th>\n",
       "      <td>PROM_ACTV_PROM_CODE</td>\n",
       "      <td>0.000000</td>\n",
       "    </tr>\n",
       "    <tr>\n",
       "      <th>77</th>\n",
       "      <td>PROM_ACTV_PROM_TYPE</td>\n",
       "      <td>0.000000</td>\n",
       "    </tr>\n",
       "    <tr>\n",
       "      <th>78</th>\n",
       "      <td>PROM_ACTV_PROM_SUB_TYPE</td>\n",
       "      <td>0.000000</td>\n",
       "    </tr>\n",
       "    <tr>\n",
       "      <th>79</th>\n",
       "      <td>PROM_ACTV_PROM_CATG</td>\n",
       "      <td>0.000000</td>\n",
       "    </tr>\n",
       "    <tr>\n",
       "      <th>80</th>\n",
       "      <td>PROM_CURR_APPLY_DATE</td>\n",
       "      <td>0.000000</td>\n",
       "    </tr>\n",
       "    <tr>\n",
       "      <th>81</th>\n",
       "      <td>PROM_CURR_START_DATE</td>\n",
       "      <td>0.013333</td>\n",
       "    </tr>\n",
       "    <tr>\n",
       "      <th>82</th>\n",
       "      <td>PROM_CURR_END_DATE</td>\n",
       "      <td>0.006667</td>\n",
       "    </tr>\n",
       "    <tr>\n",
       "      <th>83</th>\n",
       "      <td>PROM_CURR_CONTR_EXP_DATE</td>\n",
       "      <td>0.006667</td>\n",
       "    </tr>\n",
       "    <tr>\n",
       "      <th>84</th>\n",
       "      <td>L1M_PROM_CODE</td>\n",
       "      <td>0.000000</td>\n",
       "    </tr>\n",
       "    <tr>\n",
       "      <th>85</th>\n",
       "      <td>CURR_PROM_COMMIT_MONTHS</td>\n",
       "      <td>0.000000</td>\n",
       "    </tr>\n",
       "    <tr>\n",
       "      <th>86</th>\n",
       "      <td>L1M_PROM_COMMIT_MONTHS</td>\n",
       "      <td>0.006667</td>\n",
       "    </tr>\n",
       "    <tr>\n",
       "      <th>87</th>\n",
       "      <td>CURR_PROM_TTL_CMF</td>\n",
       "      <td>0.000000</td>\n",
       "    </tr>\n",
       "    <tr>\n",
       "      <th>88</th>\n",
       "      <td>CURR_PROM_CONTRACT_PERIOD</td>\n",
       "      <td>0.006667</td>\n",
       "    </tr>\n",
       "    <tr>\n",
       "      <th>89</th>\n",
       "      <td>L1M_PROM_TTL_CMF</td>\n",
       "      <td>0.006667</td>\n",
       "    </tr>\n",
       "    <tr>\n",
       "      <th>90</th>\n",
       "      <td>L1M_PROM_CONTRACT_PERIOD</td>\n",
       "      <td>0.000000</td>\n",
       "    </tr>\n",
       "    <tr>\n",
       "      <th>91</th>\n",
       "      <td>DUM_PROM_CODE</td>\n",
       "      <td>0.000000</td>\n",
       "    </tr>\n",
       "    <tr>\n",
       "      <th>92</th>\n",
       "      <td>L6M_AVG_NET_INV_AMT</td>\n",
       "      <td>0.000000</td>\n",
       "    </tr>\n",
       "    <tr>\n",
       "      <th>93</th>\n",
       "      <td>NET_INV_AMT</td>\n",
       "      <td>0.000000</td>\n",
       "    </tr>\n",
       "    <tr>\n",
       "      <th>94</th>\n",
       "      <td>L1M_NET_INV_AMT</td>\n",
       "      <td>0.000000</td>\n",
       "    </tr>\n",
       "    <tr>\n",
       "      <th>95</th>\n",
       "      <td>L2M_NET_INV_AMT</td>\n",
       "      <td>0.000000</td>\n",
       "    </tr>\n",
       "    <tr>\n",
       "      <th>96</th>\n",
       "      <td>L3M_NET_INV_AMT</td>\n",
       "      <td>0.000000</td>\n",
       "    </tr>\n",
       "    <tr>\n",
       "      <th>97</th>\n",
       "      <td>GPRS_AMT</td>\n",
       "      <td>0.000000</td>\n",
       "    </tr>\n",
       "    <tr>\n",
       "      <th>98</th>\n",
       "      <td>L1M_GPRS_AMT</td>\n",
       "      <td>0.000000</td>\n",
       "    </tr>\n",
       "    <tr>\n",
       "      <th>99</th>\n",
       "      <td>L2M_GPRS_AMT</td>\n",
       "      <td>0.000000</td>\n",
       "    </tr>\n",
       "  </tbody>\n",
       "</table>\n",
       "</div>"
      ],
      "text/plain": [
       "                     column_name  importance\n",
       "50             ANOTHER_ACTIVE_VD    0.006667\n",
       "51              ANOTHER_ACTIVE_D    0.000000\n",
       "52                 PTY_NP_IN_IND    0.000000\n",
       "53                PTY_NP_OUT_IND    0.000000\n",
       "54            PTY_CBU_EBU_PO_CNT    0.000000\n",
       "55                PTY_CBU_PO_CNT    0.000000\n",
       "56              PTY_CBU_PO_V_CNT    0.000000\n",
       "57             PTY_CBU_PO_VD_CNT    0.000000\n",
       "58              PTY_CBU_PO_D_CNT    0.000000\n",
       "59                PTY_EBU_PO_CNT    0.000000\n",
       "60                PTY_PO_ALL_CNT    0.000000\n",
       "61              RENEW_APPLY_DATE    0.000000\n",
       "62            MDS_CURR_RENEW_CNT    0.000000\n",
       "63           MDS_CURR_RENEW_TYPE    0.000000\n",
       "64             MDS_ELIGIBLE_FLAG    0.000000\n",
       "65               PROM_BUNDLE_VRP    0.000000\n",
       "66               PROM_BUNDLE_DRP    0.000000\n",
       "67       PROM_CURR_EXP_MONTH_CNT    0.006667\n",
       "68           PROM_CURR_PROM_CODE    0.000000\n",
       "69      PROM_CURR_PROMOTION_TYPE    0.000000\n",
       "70  PROM_CURR_PROMOTION_SUB_TYPE    0.000000\n",
       "71       PROM_CURR_SYS_MODEL_IND    0.000000\n",
       "72              PROM_DEVICE_TYPE    0.000000\n",
       "73             PROM_DEVICE_BRAND    0.000000\n",
       "74                PROM_DEVICE_OS    0.006667\n",
       "75             PROM_DEVICE_MODEL    0.000000\n",
       "76           PROM_ACTV_PROM_CODE    0.000000\n",
       "77           PROM_ACTV_PROM_TYPE    0.000000\n",
       "78       PROM_ACTV_PROM_SUB_TYPE    0.000000\n",
       "79           PROM_ACTV_PROM_CATG    0.000000\n",
       "80          PROM_CURR_APPLY_DATE    0.000000\n",
       "81          PROM_CURR_START_DATE    0.013333\n",
       "82            PROM_CURR_END_DATE    0.006667\n",
       "83      PROM_CURR_CONTR_EXP_DATE    0.006667\n",
       "84                 L1M_PROM_CODE    0.000000\n",
       "85       CURR_PROM_COMMIT_MONTHS    0.000000\n",
       "86        L1M_PROM_COMMIT_MONTHS    0.006667\n",
       "87             CURR_PROM_TTL_CMF    0.000000\n",
       "88     CURR_PROM_CONTRACT_PERIOD    0.006667\n",
       "89              L1M_PROM_TTL_CMF    0.006667\n",
       "90      L1M_PROM_CONTRACT_PERIOD    0.000000\n",
       "91                 DUM_PROM_CODE    0.000000\n",
       "92           L6M_AVG_NET_INV_AMT    0.000000\n",
       "93                   NET_INV_AMT    0.000000\n",
       "94               L1M_NET_INV_AMT    0.000000\n",
       "95               L2M_NET_INV_AMT    0.000000\n",
       "96               L3M_NET_INV_AMT    0.000000\n",
       "97                      GPRS_AMT    0.000000\n",
       "98                  L1M_GPRS_AMT    0.000000\n",
       "99                  L2M_GPRS_AMT    0.000000"
      ]
     },
     "execution_count": 13,
     "metadata": {},
     "output_type": "execute_result"
    }
   ],
   "source": [
    "col_rank.iloc[50:100]"
   ]
  },
  {
   "cell_type": "code",
   "execution_count": 32,
   "metadata": {},
   "outputs": [
    {
     "ename": "ValueError",
     "evalue": "DataFrame constructor not properly called!",
     "output_type": "error",
     "traceback": [
      "\u001b[1;31m---------------------------------------------------------------------------\u001b[0m",
      "\u001b[1;31mValueError\u001b[0m                                Traceback (most recent call last)",
      "\u001b[1;32m<ipython-input-32-34a4c5f5cade>\u001b[0m in \u001b[0;36m<module>\u001b[1;34m()\u001b[0m\n\u001b[1;32m----> 1\u001b[1;33m \u001b[0mdf\u001b[0m \u001b[1;33m=\u001b[0m \u001b[0mpd\u001b[0m\u001b[1;33m.\u001b[0m\u001b[0mDataFrame\u001b[0m\u001b[1;33m(\u001b[0m\u001b[0mbest_model\u001b[0m\u001b[1;33m.\u001b[0m\u001b[0m_Booster\u001b[0m\u001b[1;33m.\u001b[0m\u001b[0mget_fscore\u001b[0m\u001b[1;33m(\u001b[0m\u001b[1;33m)\u001b[0m\u001b[1;33m.\u001b[0m\u001b[0mitems\u001b[0m\u001b[1;33m(\u001b[0m\u001b[1;33m)\u001b[0m\u001b[1;33m,\u001b[0m \u001b[0mcolumns\u001b[0m\u001b[1;33m=\u001b[0m\u001b[1;33m[\u001b[0m\u001b[1;34m'feature'\u001b[0m\u001b[1;33m,\u001b[0m\u001b[1;34m'importance'\u001b[0m\u001b[1;33m]\u001b[0m\u001b[1;33m)\u001b[0m\u001b[1;33m.\u001b[0m\u001b[0msort_values\u001b[0m\u001b[1;33m(\u001b[0m\u001b[1;34m'importance'\u001b[0m\u001b[1;33m,\u001b[0m \u001b[0mascending\u001b[0m\u001b[1;33m=\u001b[0m\u001b[1;32mFalse\u001b[0m\u001b[1;33m)\u001b[0m\u001b[1;33m\u001b[0m\u001b[0m\n\u001b[0m",
      "\u001b[1;32mC:\\Users\\VIPLAB\\AppData\\Local\\conda\\conda\\envs\\keras\\lib\\site-packages\\pandas\\core\\frame.py\u001b[0m in \u001b[0;36m__init__\u001b[1;34m(self, data, index, columns, dtype, copy)\u001b[0m\n\u001b[0;32m    352\u001b[0m                                          copy=False)\n\u001b[0;32m    353\u001b[0m             \u001b[1;32melse\u001b[0m\u001b[1;33m:\u001b[0m\u001b[1;33m\u001b[0m\u001b[0m\n\u001b[1;32m--> 354\u001b[1;33m                 \u001b[1;32mraise\u001b[0m \u001b[0mValueError\u001b[0m\u001b[1;33m(\u001b[0m\u001b[1;34m'DataFrame constructor not properly called!'\u001b[0m\u001b[1;33m)\u001b[0m\u001b[1;33m\u001b[0m\u001b[0m\n\u001b[0m\u001b[0;32m    355\u001b[0m \u001b[1;33m\u001b[0m\u001b[0m\n\u001b[0;32m    356\u001b[0m         \u001b[0mNDFrame\u001b[0m\u001b[1;33m.\u001b[0m\u001b[0m__init__\u001b[0m\u001b[1;33m(\u001b[0m\u001b[0mself\u001b[0m\u001b[1;33m,\u001b[0m \u001b[0mmgr\u001b[0m\u001b[1;33m,\u001b[0m \u001b[0mfastpath\u001b[0m\u001b[1;33m=\u001b[0m\u001b[1;32mTrue\u001b[0m\u001b[1;33m)\u001b[0m\u001b[1;33m\u001b[0m\u001b[0m\n",
      "\u001b[1;31mValueError\u001b[0m: DataFrame constructor not properly called!"
     ]
    }
   ],
   "source": [
    "pd.DataFrame(best_model._Booster.get_fscore().items(), columns=['feature','importance']).sort_values('importance', ascending=False)"
   ]
  },
  {
   "cell_type": "markdown",
   "metadata": {},
   "source": [
    "## save model"
   ]
  },
  {
   "cell_type": "code",
   "execution_count": 8,
   "metadata": {
    "collapsed": true
   },
   "outputs": [],
   "source": [
    "path = './XGB_models/'\n",
    "model_name = 'xgboost_without_infre_adult_' + str(sample) + '_0725'"
   ]
  },
  {
   "cell_type": "code",
   "execution_count": 6,
   "metadata": {
    "collapsed": true
   },
   "outputs": [],
   "source": [
    "best_model._Booster.save_model(path + model_name + '.model')\n",
    "\n",
    "pickle.dump(best_model, open(path + model_name + \".dat\", \"wb\"))"
   ]
  },
  {
   "cell_type": "code",
   "execution_count": 55,
   "metadata": {
    "collapsed": true
   },
   "outputs": [],
   "source": [
    "col_rank.to_csv(path + model_name + \".csv\", index=False, encoding='utf-8')"
   ]
  },
  {
   "cell_type": "markdown",
   "metadata": {},
   "source": [
    "## load model"
   ]
  },
  {
   "cell_type": "code",
   "execution_count": 14,
   "metadata": {
    "collapsed": true
   },
   "outputs": [],
   "source": [
    "best_model = XGBClassifier()\n",
    "booster = Booster()\n",
    "booster.load_model(path + model_name + '.model')\n",
    "best_model._Booster = booster"
   ]
  },
  {
   "cell_type": "code",
   "execution_count": 9,
   "metadata": {},
   "outputs": [],
   "source": [
    "import pickle\n",
    "best_model = pickle.load(open(path + model_name + \".dat\", \"rb\"))"
   ]
  },
  {
   "cell_type": "code",
   "execution_count": 15,
   "metadata": {},
   "outputs": [
    {
     "data": {
      "text/plain": [
       "{'f0': 113,\n",
       " 'f1': 1,\n",
       " 'f10': 1,\n",
       " 'f113': 2,\n",
       " 'f12': 2,\n",
       " 'f15': 1,\n",
       " 'f151': 1,\n",
       " 'f16': 1,\n",
       " 'f161': 1,\n",
       " 'f167': 1,\n",
       " 'f168': 1,\n",
       " 'f173': 1,\n",
       " 'f18': 1,\n",
       " 'f183': 1,\n",
       " 'f20': 1,\n",
       " 'f214': 1,\n",
       " 'f26': 2,\n",
       " 'f27': 1,\n",
       " 'f271': 1,\n",
       " 'f43': 1,\n",
       " 'f45': 1,\n",
       " 'f47': 1,\n",
       " 'f50': 1,\n",
       " 'f6': 1,\n",
       " 'f67': 1,\n",
       " 'f74': 1,\n",
       " 'f8': 2,\n",
       " 'f81': 2,\n",
       " 'f82': 1,\n",
       " 'f83': 1,\n",
       " 'f86': 1,\n",
       " 'f88': 1,\n",
       " 'f89': 1}"
      ]
     },
     "execution_count": 15,
     "metadata": {},
     "output_type": "execute_result"
    }
   ],
   "source": [
    "best_model._Booster.get_fscore()"
   ]
  },
  {
   "cell_type": "code",
   "execution_count": null,
   "metadata": {
    "collapsed": true
   },
   "outputs": [],
   "source": [
    "plot_importance(clf, max_num_features = 20)\n",
    "pyplot.show()"
   ]
  },
  {
   "cell_type": "code",
   "execution_count": null,
   "metadata": {
    "collapsed": true
   },
   "outputs": [],
   "source": [
    "pred = loaded_model.predict(X_train)"
   ]
  },
  {
   "cell_type": "code",
   "execution_count": 56,
   "metadata": {},
   "outputs": [
    {
     "data": {
      "text/plain": [
       "array([[39800, 14509],\n",
       "       [16785, 37521]])"
      ]
     },
     "execution_count": 56,
     "metadata": {},
     "output_type": "execute_result"
    }
   ],
   "source": [
    "# labels = ['Adult', 'Game', 'HomeLife', 'InstantMessage-High', 'InstantMessage-Low', 'Map', 'News', 'No_ignificant_preference', 'Portal', 'Social-media']\n",
    "labels = train_df['Groups'].unique()\n",
    "cnf_matrix = confusion_matrix(y_train, pred, labels=labels)\n",
    "cnf_matrix"
   ]
  },
  {
   "cell_type": "code",
   "execution_count": 57,
   "metadata": {},
   "outputs": [
    {
     "data": {
      "text/html": [
       "<div>\n",
       "<style>\n",
       "    .dataframe thead tr:only-child th {\n",
       "        text-align: right;\n",
       "    }\n",
       "\n",
       "    .dataframe thead th {\n",
       "        text-align: left;\n",
       "    }\n",
       "\n",
       "    .dataframe tbody tr th {\n",
       "        vertical-align: top;\n",
       "    }\n",
       "</style>\n",
       "<table border=\"1\" class=\"dataframe\">\n",
       "  <thead>\n",
       "    <tr style=\"text-align: right;\">\n",
       "      <th></th>\n",
       "      <th>Adult</th>\n",
       "      <th>Others</th>\n",
       "    </tr>\n",
       "  </thead>\n",
       "  <tbody>\n",
       "    <tr>\n",
       "      <th>Adult</th>\n",
       "      <td>39800</td>\n",
       "      <td>14509</td>\n",
       "    </tr>\n",
       "    <tr>\n",
       "      <th>Others</th>\n",
       "      <td>16785</td>\n",
       "      <td>37521</td>\n",
       "    </tr>\n",
       "  </tbody>\n",
       "</table>\n",
       "</div>"
      ],
      "text/plain": [
       "        Adult  Others\n",
       "Adult   39800   14509\n",
       "Others  16785   37521"
      ]
     },
     "execution_count": 57,
     "metadata": {},
     "output_type": "execute_result"
    }
   ],
   "source": [
    "cnf_pd = pd.DataFrame(cnf_matrix)\n",
    "cnf_pd.columns = labels\n",
    "cnf_pd.index = labels\n",
    "cnf_pd"
   ]
  },
  {
   "cell_type": "code",
   "execution_count": null,
   "metadata": {
    "collapsed": true
   },
   "outputs": [],
   "source": []
  },
  {
   "cell_type": "code",
   "execution_count": 26,
   "metadata": {
    "collapsed": true
   },
   "outputs": [],
   "source": [
    "del train_df\n",
    "del X_train"
   ]
  },
  {
   "cell_type": "code",
   "execution_count": null,
   "metadata": {
    "collapsed": true
   },
   "outputs": [],
   "source": [
    "del X"
   ]
  },
  {
   "cell_type": "code",
   "execution_count": null,
   "metadata": {
    "collapsed": true
   },
   "outputs": [],
   "source": [
    "import os\n",
    "os.system('python XGBoost_date_to_num.py')"
   ]
  },
  {
   "cell_type": "code",
   "execution_count": 41,
   "metadata": {},
   "outputs": [
    {
     "data": {
      "text/plain": [
       "Index(['DATA_MONTH', 'RENEW_IND', 'GA_IND', 'ACTV_TYPE', 'GA_DATE',\n",
       "       'CHURN_IND', 'CHURN_TYPE', 'INACTV_DATE', 'MKT_CHURN_DATE',\n",
       "       'SUSPEND_IND', 'TARGET_OPR_ID', 'TEMP_INACTV_DATE', 'SRV_TYPE_DESC',\n",
       "       'RPS_NAME', 'SUBSCR_STATUS_CODE', 'GENDER_CODE', 'P6M_AVG_NET_INV_AMT',\n",
       "       'ORIG_OPR_ID', 'AGE', 'TENURE_SCV', 'BILL_CITY_NAME',\n",
       "       'BILL_DISTRICT_NAME', 'CHANNEL_CHURN_INDEX', 'CHURN_INDEX',\n",
       "       'FETNET_IND', 'DORMANT_MONTH_CNT_MKT', 'SMS_PROM_IND', 'IMEI_TYPE',\n",
       "       'IMEI_MFG_NAME', 'IMEI_MKT_NAME'],\n",
       "      dtype='object')"
      ]
     },
     "execution_count": 41,
     "metadata": {},
     "output_type": "execute_result"
    }
   ],
   "source": [
    "train_df.columns[:30]"
   ]
  },
  {
   "cell_type": "code",
   "execution_count": 55,
   "metadata": {},
   "outputs": [
    {
     "data": {
      "text/plain": [
       "2.0"
      ]
     },
     "execution_count": 55,
     "metadata": {},
     "output_type": "execute_result"
    }
   ],
   "source": [
    "np.mean([1, 2, 3])"
   ]
  },
  {
   "cell_type": "code",
   "execution_count": 57,
   "metadata": {},
   "outputs": [
    {
     "data": {
      "text/plain": [
       "0         0.071200\n",
       "1         0.077995\n",
       "2         0.076076\n",
       "3         0.084357\n",
       "4         0.087713\n",
       "5         0.102503\n",
       "6         0.076637\n",
       "7         0.075904\n",
       "8         0.078638\n",
       "9         0.107031\n",
       "10        0.069363\n",
       "11        0.089462\n",
       "12        0.083224\n",
       "13        0.093962\n",
       "14        0.092212\n",
       "15        0.076305\n",
       "16        0.092712\n",
       "17        0.089767\n",
       "18        0.067652\n",
       "19        0.079278\n",
       "20        0.097193\n",
       "21        0.072422\n",
       "22        0.089958\n",
       "23        0.083587\n",
       "24        0.075730\n",
       "25        0.086533\n",
       "26        0.076192\n",
       "27        0.080760\n",
       "28        0.080117\n",
       "29        0.087279\n",
       "            ...   \n",
       "108585    0.069299\n",
       "108586    0.078080\n",
       "108587    0.114596\n",
       "108588    0.099239\n",
       "108589    0.073038\n",
       "108590    0.081312\n",
       "108591    0.068605\n",
       "108592    0.122377\n",
       "108593    0.082526\n",
       "108594    0.111087\n",
       "108595    0.086701\n",
       "108596    0.087570\n",
       "108597    0.093813\n",
       "108598    0.078654\n",
       "108599    0.098765\n",
       "108600    0.089876\n",
       "108601    0.115582\n",
       "108602    0.093408\n",
       "108603    0.109350\n",
       "108604    0.078123\n",
       "108605    0.075659\n",
       "108606    0.076227\n",
       "108607    0.098409\n",
       "108608    0.111613\n",
       "108609    0.071005\n",
       "108610    0.088401\n",
       "108611    0.078397\n",
       "108612    0.100319\n",
       "108613    0.087987\n",
       "108614    0.085174\n",
       "Length: 108615, dtype: float64"
      ]
     },
     "execution_count": 57,
     "metadata": {},
     "output_type": "execute_result"
    }
   ],
   "source": [
    "train_df.mean(axis = 1)"
   ]
  },
  {
   "cell_type": "code",
   "execution_count": null,
   "metadata": {
    "collapsed": true
   },
   "outputs": [],
   "source": []
  }
 ],
 "metadata": {
  "kernelspec": {
   "display_name": "Python 3",
   "language": "python",
   "name": "python3"
  },
  "language_info": {
   "codemirror_mode": {
    "name": "ipython",
    "version": 3
   },
   "file_extension": ".py",
   "mimetype": "text/x-python",
   "name": "python",
   "nbconvert_exporter": "python",
   "pygments_lexer": "ipython3",
   "version": "3.5.3"
  }
 },
 "nbformat": 4,
 "nbformat_minor": 2
}
