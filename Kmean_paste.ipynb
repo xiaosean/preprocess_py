{
 "cells": [
  {
   "cell_type": "code",
   "execution_count": 324,
   "metadata": {
    "collapsed": true
   },
   "outputs": [],
   "source": [
    "import os.path\n",
    "import numpy as np\n",
    "import pandas as pd\n",
    "from time import time"
   ]
  },
  {
   "cell_type": "code",
   "execution_count": null,
   "metadata": {
    "collapsed": true
   },
   "outputs": [],
   "source": []
  },
  {
   "cell_type": "code",
   "execution_count": 325,
   "metadata": {},
   "outputs": [],
   "source": [
    "path = \"../\"\n",
    "filename = \"centers\"\n",
    "relative_filename = path + filename + \".csv\"\n",
    "center_df = pd.read_csv(relative_filename, error_bad_lines=False)\n",
    "# center_df = center_df[center_df.columns[:10]]"
   ]
  },
  {
   "cell_type": "code",
   "execution_count": 326,
   "metadata": {
    "collapsed": true
   },
   "outputs": [],
   "source": [
    "nrows = 10000"
   ]
  },
  {
   "cell_type": "code",
   "execution_count": 327,
   "metadata": {},
   "outputs": [],
   "source": [
    "path = \"../\"\n",
    "filename = \"input\"\n",
    "relative_filename = path + filename + \".csv\"\n",
    "# user_df = pd.read_csv(relative_filename, error_bad_lines=False, nrows = nrows)\n",
    "user_df = pd.read_csv(relative_filename, error_bad_lines=False)\n",
    "user_df.drop(\"no\", axis = 1, inplace = True)\n",
    "user_df.drop(\"Unnamed: 0\", axis = 1, inplace = True)\n",
    "# user_df = user_df[user_df.columns[:10]]"
   ]
  },
  {
   "cell_type": "code",
   "execution_count": 328,
   "metadata": {
    "collapsed": true
   },
   "outputs": [],
   "source": [
    "path = \"../\"\n",
    "filename = \"output\"\n",
    "relative_filename = path + filename + \".csv\"\n",
    "# groundtruth_df = pd.read_csv(relative_filename, error_bad_lines=False, nrows = nrows)\n",
    "groundtruth_df = pd.read_csv(relative_filename, error_bad_lines=False)\n",
    "groundtruth_df.drop(\"no\", axis = 1, inplace = True)"
   ]
  },
  {
   "cell_type": "code",
   "execution_count": 329,
   "metadata": {},
   "outputs": [],
   "source": [
    "output = groundtruth_df[\"output\"]"
   ]
  },
  {
   "cell_type": "code",
   "execution_count": 330,
   "metadata": {
    "collapsed": true
   },
   "outputs": [],
   "source": [
    "groups_count = len(center_df)\n",
    "cols = center_df.columns"
   ]
  },
  {
   "cell_type": "code",
   "execution_count": 331,
   "metadata": {},
   "outputs": [],
   "source": [
    "def k_match(x):\n",
    "    mse = [sum((x - center_df.iloc[i])**2) for i in range(groups_count)]\n",
    "    k = mse.index(min(mse))+1   \n",
    "    return k\n",
    "    "
   ]
  },
  {
   "cell_type": "code",
   "execution_count": null,
   "metadata": {
    "collapsed": true
   },
   "outputs": [],
   "source": [
    "s_t = time()"
   ]
  },
  {
   "cell_type": "code",
   "execution_count": null,
   "metadata": {},
   "outputs": [],
   "source": [
    "my_output = user_df.apply(k_match, axis = 1)"
   ]
  },
  {
   "cell_type": "code",
   "execution_count": null,
   "metadata": {},
   "outputs": [],
   "source": [
    "print(\"finish time = %d\" % (time() - s_t))"
   ]
  },
  {
   "cell_type": "code",
   "execution_count": null,
   "metadata": {},
   "outputs": [],
   "source": [
    "len(user_df == output)"
   ]
  },
  {
   "cell_type": "code",
   "execution_count": 322,
   "metadata": {},
   "outputs": [],
   "source": [
    "# for row in user_df.iterrows():\n",
    "#     print(row.)"
   ]
  },
  {
   "cell_type": "code",
   "execution_count": null,
   "metadata": {
    "collapsed": true
   },
   "outputs": [],
   "source": [
    "for (j in 1:nrow(data_for_kmeans)){\n",
    "  temp <- apply(model.k5$centers , 1 , function(i) sum((data_for_kmeans[j, ]-i)^2))\n",
    "  a <- append(a,match(min(temp),temp)) \n",
    "  print(j)\n",
    "}"
   ]
  }
 ],
 "metadata": {
  "kernelspec": {
   "display_name": "Python 3",
   "language": "python",
   "name": "python3"
  },
  "language_info": {
   "codemirror_mode": {
    "name": "ipython",
    "version": 3
   },
   "file_extension": ".py",
   "mimetype": "text/x-python",
   "name": "python",
   "nbconvert_exporter": "python",
   "pygments_lexer": "ipython3",
   "version": "3.6.1"
  }
 },
 "nbformat": 4,
 "nbformat_minor": 2
}
