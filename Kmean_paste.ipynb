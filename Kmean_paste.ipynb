{
 "cells": [
  {
   "cell_type": "code",
   "execution_count": 301,
   "metadata": {
    "collapsed": true
   },
   "outputs": [],
   "source": [
    "import os.path\n",
    "import numpy as np\n",
    "import pandas as pd\n",
    "from time import time"
   ]
  },
  {
   "cell_type": "code",
   "execution_count": null,
   "metadata": {
    "collapsed": true
   },
   "outputs": [],
   "source": []
  },
  {
   "cell_type": "code",
   "execution_count": 302,
   "metadata": {},
   "outputs": [],
   "source": [
    "path = \"../\"\n",
    "filename = \"centers\"\n",
    "relative_filename = path + filename + \".csv\"\n",
    "center_df = pd.read_csv(relative_filename, error_bad_lines=False)\n",
    "# center_df = center_df[center_df.columns[:10]]"
   ]
  },
  {
   "cell_type": "code",
   "execution_count": 312,
   "metadata": {
    "collapsed": true
   },
   "outputs": [],
   "source": [
    "nrows = 10000"
   ]
  },
  {
   "cell_type": "code",
   "execution_count": 313,
   "metadata": {},
   "outputs": [],
   "source": [
    "path = \"../\"\n",
    "filename = \"input\"\n",
    "relative_filename = path + filename + \".csv\"\n",
    "user_df = pd.read_csv(relative_filename, error_bad_lines=False, nrows = nrows)\n",
    "# user_df = pd.read_csv(relative_filename, error_bad_lines=False)\n",
    "user_df.drop(\"no\", axis = 1, inplace = True)\n",
    "user_df.drop(\"Unnamed: 0\", axis = 1, inplace = True)\n",
    "# user_df = user_df[user_df.columns[:10]]"
   ]
  },
  {
   "cell_type": "code",
   "execution_count": 314,
   "metadata": {
    "collapsed": true
   },
   "outputs": [],
   "source": [
    "path = \"../\"\n",
    "filename = \"output\"\n",
    "relative_filename = path + filename + \".csv\"\n",
    "groundtruth_df = pd.read_csv(relative_filename, error_bad_lines=False, nrows = nrows)\n",
    "groundtruth_df.drop(\"no\", axis = 1, inplace = True)"
   ]
  },
  {
   "cell_type": "code",
   "execution_count": 315,
   "metadata": {},
   "outputs": [],
   "source": [
    "output = groundtruth_df[\"output\"]"
   ]
  },
  {
   "cell_type": "code",
   "execution_count": 316,
   "metadata": {
    "collapsed": true
   },
   "outputs": [],
   "source": [
    "groups_count = len(center_df)\n",
    "cols = center_df.columns"
   ]
  },
  {
   "cell_type": "code",
   "execution_count": 317,
   "metadata": {},
   "outputs": [],
   "source": [
    "def k_match(x):\n",
    "    mse = [sum((x - center_df.iloc[i])**2) for i in range(groups_count)]\n",
    "    k = mse.index(min(mse))+1   \n",
    "    return k\n",
    "    "
   ]
  },
  {
   "cell_type": "code",
   "execution_count": 318,
   "metadata": {
    "collapsed": true
   },
   "outputs": [],
   "source": [
    "s_t = time()"
   ]
  },
  {
   "cell_type": "code",
   "execution_count": 319,
   "metadata": {},
   "outputs": [
    {
     "data": {
      "text/plain": [
       "0        4\n",
       "1       10\n",
       "2       10\n",
       "3        3\n",
       "4        4\n",
       "5        1\n",
       "6       10\n",
       "7       10\n",
       "8        3\n",
       "9        4\n",
       "10       4\n",
       "11       4\n",
       "12       9\n",
       "13       2\n",
       "14      10\n",
       "15       8\n",
       "16       1\n",
       "17       4\n",
       "18       4\n",
       "19      10\n",
       "20       7\n",
       "21      10\n",
       "22       2\n",
       "23       1\n",
       "24       2\n",
       "25      10\n",
       "26      10\n",
       "27       9\n",
       "28      10\n",
       "29      10\n",
       "        ..\n",
       "9970     2\n",
       "9971     6\n",
       "9972     5\n",
       "9973    10\n",
       "9974     3\n",
       "9975    10\n",
       "9976    10\n",
       "9977     4\n",
       "9978    10\n",
       "9979     7\n",
       "9980     3\n",
       "9981     2\n",
       "9982     2\n",
       "9983     2\n",
       "9984     4\n",
       "9985     3\n",
       "9986     4\n",
       "9987    10\n",
       "9988     1\n",
       "9989     2\n",
       "9990     4\n",
       "9991    10\n",
       "9992    10\n",
       "9993    10\n",
       "9994     7\n",
       "9995     1\n",
       "9996     6\n",
       "9997     1\n",
       "9998    10\n",
       "9999     7\n",
       "Length: 10000, dtype: int64"
      ]
     },
     "execution_count": 319,
     "metadata": {},
     "output_type": "execute_result"
    }
   ],
   "source": [
    "user_df.apply(k_match, axis = 1)"
   ]
  },
  {
   "cell_type": "code",
   "execution_count": 320,
   "metadata": {},
   "outputs": [
    {
     "name": "stdout",
     "output_type": "stream",
     "text": [
      "finish time = 28\n"
     ]
    }
   ],
   "source": [
    "print(\"finish time = %d\" % (time() - s_t))"
   ]
  },
  {
   "cell_type": "code",
   "execution_count": 321,
   "metadata": {},
   "outputs": [
    {
     "data": {
      "text/plain": [
       "0        4\n",
       "1       10\n",
       "2       10\n",
       "3        3\n",
       "4        4\n",
       "5        1\n",
       "6       10\n",
       "7       10\n",
       "8        3\n",
       "9        4\n",
       "10       4\n",
       "11       4\n",
       "12       9\n",
       "13       2\n",
       "14      10\n",
       "15       8\n",
       "16       1\n",
       "17       4\n",
       "18       4\n",
       "19      10\n",
       "20       7\n",
       "21      10\n",
       "22       2\n",
       "23       1\n",
       "24       2\n",
       "25      10\n",
       "26      10\n",
       "27       9\n",
       "28      10\n",
       "29      10\n",
       "        ..\n",
       "9970     2\n",
       "9971     6\n",
       "9972     5\n",
       "9973    10\n",
       "9974     3\n",
       "9975    10\n",
       "9976    10\n",
       "9977     4\n",
       "9978    10\n",
       "9979     7\n",
       "9980     3\n",
       "9981     2\n",
       "9982     2\n",
       "9983     2\n",
       "9984     4\n",
       "9985     3\n",
       "9986     4\n",
       "9987    10\n",
       "9988     1\n",
       "9989     2\n",
       "9990     4\n",
       "9991    10\n",
       "9992    10\n",
       "9993    10\n",
       "9994     7\n",
       "9995     1\n",
       "9996     6\n",
       "9997     1\n",
       "9998    10\n",
       "9999     7\n",
       "Name: output, Length: 10000, dtype: int64"
      ]
     },
     "execution_count": 321,
     "metadata": {},
     "output_type": "execute_result"
    }
   ],
   "source": [
    "output"
   ]
  },
  {
   "cell_type": "code",
   "execution_count": 323,
   "metadata": {},
   "outputs": [
    {
     "name": "stderr",
     "output_type": "stream",
     "text": [
      "C:\\Users\\VIPLAB\\AppData\\Local\\conda\\conda\\envs\\py36\\lib\\site-packages\\pandas\\core\\indexes\\base.py:2984: RuntimeWarning: '<' not supported between instances of 'str' and 'int', sort order is undefined for incomparable objects\n",
      "  return this.join(other, how=how, return_indexers=return_indexers)\n"
     ]
    },
    {
     "data": {
      "text/plain": [
       "10000"
      ]
     },
     "execution_count": 323,
     "metadata": {},
     "output_type": "execute_result"
    }
   ],
   "source": [
    "len(user_df == output)"
   ]
  },
  {
   "cell_type": "code",
   "execution_count": 322,
   "metadata": {},
   "outputs": [],
   "source": [
    "# for row in user_df.iterrows():\n",
    "#     print(row.)"
   ]
  },
  {
   "cell_type": "code",
   "execution_count": null,
   "metadata": {
    "collapsed": true
   },
   "outputs": [],
   "source": [
    "for (j in 1:nrow(data_for_kmeans)){\n",
    "  temp <- apply(model.k5$centers , 1 , function(i) sum((data_for_kmeans[j, ]-i)^2))\n",
    "  a <- append(a,match(min(temp),temp)) \n",
    "  print(j)\n",
    "}"
   ]
  }
 ],
 "metadata": {
  "kernelspec": {
   "display_name": "Python 3",
   "language": "python",
   "name": "python3"
  },
  "language_info": {
   "codemirror_mode": {
    "name": "ipython",
    "version": 3
   },
   "file_extension": ".py",
   "mimetype": "text/x-python",
   "name": "python",
   "nbconvert_exporter": "python",
   "pygments_lexer": "ipython3",
   "version": "3.6.1"
  }
 },
 "nbformat": 4,
 "nbformat_minor": 2
}
