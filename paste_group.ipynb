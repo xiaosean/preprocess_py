{
 "cells": [
  {
   "cell_type": "code",
   "execution_count": 3,
   "metadata": {
    "collapsed": true
   },
   "outputs": [],
   "source": [
    "import os.path\n",
    "import numpy as np\n",
    "import pandas as pd\n",
    "from time import time\n",
    "from os import listdir\n",
    "import glob\n",
    "from os.path import isfile, join"
   ]
  },
  {
   "cell_type": "code",
   "execution_count": 4,
   "metadata": {
    "collapsed": true
   },
   "outputs": [],
   "source": [
    "def read_csv(filename):\n",
    "    # read revise csv file and print cost time\n",
    "    t0 = time()\n",
    "    df = pd.read_csv(filename, error_bad_lines=False)\n",
    "    print(\"time for read csv: %.2f\" % (time()-t0))\n",
    "    return df"
   ]
  },
  {
   "cell_type": "code",
   "execution_count": 5,
   "metadata": {
    "collapsed": true
   },
   "outputs": [],
   "source": [
    "def file_csv_list(target_path):\n",
    "    return [f for f in listdir(target_path) if isfile(join(target_path, f))]"
   ]
  },
  {
   "cell_type": "code",
   "execution_count": 6,
   "metadata": {
    "collapsed": true
   },
   "outputs": [],
   "source": [
    "def save_dataframe(df, out_filename):\n",
    "   # write to csv and no index\n",
    "    t0 = time()\n",
    "    df.to_csv(out_filename + \".csv\", index=False, encoding='utf-8')\n",
    "#     df.to_csv(out_filename + \".csv\", encoding='utf-8')\n",
    "    print(\"time for output csv file: %.2f\" % (time()-t0))"
   ]
  },
  {
   "cell_type": "code",
   "execution_count": 7,
   "metadata": {
    "collapsed": true
   },
   "outputs": [],
   "source": [
    "def save_dataframe_with_id(df, out_filename):\n",
    "   # write to csv and no index\n",
    "    t0 = time()\n",
    "    df.to_csv(out_filename + \".csv\", encoding='utf-8')\n",
    "#     df.to_csv(out_filename + \".csv\", encoding='utf-8')\n",
    "    print(\"time for output csv file: %.2f\" % (time()-t0))"
   ]
  },
  {
   "cell_type": "markdown",
   "metadata": {},
   "source": [
    "# LOAD MINING USER"
   ]
  },
  {
   "cell_type": "code",
   "execution_count": 33,
   "metadata": {
    "collapsed": true
   },
   "outputs": [],
   "source": [
    "# set configure\n",
    "# path = \"../DATA_FULL/\"\n",
    "path = \"D:/NEW_DATA_FULL_2017_6_30/\"\n",
    "# path = \"D:/NEW_DATA_FULL_2017_7_4/\"\n",
    "\n",
    "filename = \"MDS_April_All_SINGLE_SIM_COMPLETED\"\n",
    "# filename = \"MDS_SINGLESIM_APRIL_DORMANT_AGE_TENURE_COMPLETED\"\n",
    "# relative_filename = path + filename + \".csv\"\n",
    "relative_filename = path + filename + \".txt\""
   ]
  },
  {
   "cell_type": "code",
   "execution_count": 34,
   "metadata": {},
   "outputs": [
    {
     "name": "stderr",
     "output_type": "stream",
     "text": [
      "C:\\Users\\VIPLAB\\AppData\\Local\\conda\\conda\\envs\\keras\\lib\\site-packages\\IPython\\core\\interactiveshell.py:2717: DtypeWarning: Columns (24,28,76,97,259,260,261,264,267,270,273,276) have mixed types. Specify dtype option on import or set low_memory=False.\n",
      "  interactivity=interactivity, compiler=compiler, result=result)\n"
     ]
    }
   ],
   "source": [
    "# user_df =  pd.read_csv(relative_filename, error_bad_lines=False)\n",
    "user_df =  pd.read_csv(relative_filename, error_bad_lines=False, sep  = '\\t')\n",
    "# user_df =  pd.read_csv(relative_filename, error_bad_lines=False)\n",
    "\n",
    "# user_df = user_df[user_df[\"MINING_DW_SUBSCR_NO\"] != \"MINING_DW_SUBSCR_NO\"]\n",
    "# user_df[\"MINING_DW_SUBSCR_NO\"] = user_df[\"MINING_DW_SUBSCR_NO\"].apply(np.int64)"
   ]
  },
  {
   "cell_type": "code",
   "execution_count": 35,
   "metadata": {
    "scrolled": false
   },
   "outputs": [
    {
     "data": {
      "text/html": [
       "<div>\n",
       "<style>\n",
       "    .dataframe thead tr:only-child th {\n",
       "        text-align: right;\n",
       "    }\n",
       "\n",
       "    .dataframe thead th {\n",
       "        text-align: left;\n",
       "    }\n",
       "\n",
       "    .dataframe tbody tr th {\n",
       "        vertical-align: top;\n",
       "    }\n",
       "</style>\n",
       "<table border=\"1\" class=\"dataframe\">\n",
       "  <thead>\n",
       "    <tr style=\"text-align: right;\">\n",
       "      <th></th>\n",
       "      <th>DATA_MONTH</th>\n",
       "      <th>MINING_DW_SUBSCR_NO</th>\n",
       "      <th>CURR_SUBSCR_ID</th>\n",
       "      <th>DATA_MONTH_RPT_TEMP1</th>\n",
       "      <th>DATA_MONTH_RPT_TEMP2</th>\n",
       "      <th>DATA_MONTH_RPT</th>\n",
       "      <th>DW_PARTY_ID</th>\n",
       "      <th>RENEW_IND</th>\n",
       "      <th>GA_IND</th>\n",
       "      <th>ACTV_TYPE</th>\n",
       "      <th>...</th>\n",
       "      <th>L2M_DEVICE_MODEL</th>\n",
       "      <th>L2M_DEVICE_PRICE_TIER</th>\n",
       "      <th>L2M_DEVICE_TYPE</th>\n",
       "      <th>HS_CHG_CNT</th>\n",
       "      <th>AVG_HS_USE_MONTH</th>\n",
       "      <th>AVG_HS_USE_MONTH_EX_CURR</th>\n",
       "      <th>ZONE_ACTV_IVR_COUNTRY</th>\n",
       "      <th>ZONE_ACTV_IVR_REGION</th>\n",
       "      <th>STORE_TYPE</th>\n",
       "      <th>SPAUTH_IND</th>\n",
       "    </tr>\n",
       "  </thead>\n",
       "  <tbody>\n",
       "    <tr>\n",
       "      <th>0</th>\n",
       "      <td>2017/4/1</td>\n",
       "      <td>8134330931</td>\n",
       "      <td>327624391</td>\n",
       "      <td>2017/4/1</td>\n",
       "      <td>2017/4/1</td>\n",
       "      <td>2017/4/1</td>\n",
       "      <td>7508599</td>\n",
       "      <td>N</td>\n",
       "      <td>N</td>\n",
       "      <td>PURE GA</td>\n",
       "      <td>...</td>\n",
       "      <td>?</td>\n",
       "      <td>?</td>\n",
       "      <td>?</td>\n",
       "      <td>1</td>\n",
       "      <td>7.0</td>\n",
       "      <td>?</td>\n",
       "      <td>?</td>\n",
       "      <td>?</td>\n",
       "      <td>Mini-New(Y2013)</td>\n",
       "      <td>N</td>\n",
       "    </tr>\n",
       "    <tr>\n",
       "      <th>1</th>\n",
       "      <td>2017/4/1</td>\n",
       "      <td>2118544651</td>\n",
       "      <td>340264445</td>\n",
       "      <td>2017/4/1</td>\n",
       "      <td>2017/4/1</td>\n",
       "      <td>2017/4/1</td>\n",
       "      <td>5638034</td>\n",
       "      <td>N</td>\n",
       "      <td>N</td>\n",
       "      <td>PURE GA</td>\n",
       "      <td>...</td>\n",
       "      <td>5310 XpressMusic</td>\n",
       "      <td>?</td>\n",
       "      <td>2G H/S</td>\n",
       "      <td>3</td>\n",
       "      <td>33.0</td>\n",
       "      <td>40</td>\n",
       "      <td>?</td>\n",
       "      <td>?</td>\n",
       "      <td>?</td>\n",
       "      <td>N</td>\n",
       "    </tr>\n",
       "    <tr>\n",
       "      <th>2</th>\n",
       "      <td>2017/4/1</td>\n",
       "      <td>10000337216</td>\n",
       "      <td>341414412</td>\n",
       "      <td>2017/4/1</td>\n",
       "      <td>2017/4/1</td>\n",
       "      <td>2017/4/1</td>\n",
       "      <td>6556494</td>\n",
       "      <td>N</td>\n",
       "      <td>N</td>\n",
       "      <td>MNP</td>\n",
       "      <td>...</td>\n",
       "      <td>?</td>\n",
       "      <td>?</td>\n",
       "      <td>?</td>\n",
       "      <td>?</td>\n",
       "      <td>?</td>\n",
       "      <td>?</td>\n",
       "      <td>高雄市</td>\n",
       "      <td>左營區</td>\n",
       "      <td>Store</td>\n",
       "      <td>N</td>\n",
       "    </tr>\n",
       "    <tr>\n",
       "      <th>3</th>\n",
       "      <td>2017/4/1</td>\n",
       "      <td>3133428916</td>\n",
       "      <td>326979481</td>\n",
       "      <td>2017/4/1</td>\n",
       "      <td>2017/4/1</td>\n",
       "      <td>2017/4/1</td>\n",
       "      <td>14170468</td>\n",
       "      <td>N</td>\n",
       "      <td>N</td>\n",
       "      <td>MNP</td>\n",
       "      <td>...</td>\n",
       "      <td>?</td>\n",
       "      <td>?</td>\n",
       "      <td>?</td>\n",
       "      <td>1</td>\n",
       "      <td>6.0</td>\n",
       "      <td>?</td>\n",
       "      <td>新北市</td>\n",
       "      <td>瑞芳區</td>\n",
       "      <td>Store</td>\n",
       "      <td>N</td>\n",
       "    </tr>\n",
       "    <tr>\n",
       "      <th>4</th>\n",
       "      <td>2017/4/1</td>\n",
       "      <td>3119268553</td>\n",
       "      <td>328969946</td>\n",
       "      <td>2017/4/1</td>\n",
       "      <td>2017/4/1</td>\n",
       "      <td>2017/4/1</td>\n",
       "      <td>10424960</td>\n",
       "      <td>N</td>\n",
       "      <td>N</td>\n",
       "      <td>MNP</td>\n",
       "      <td>...</td>\n",
       "      <td>?</td>\n",
       "      <td>?</td>\n",
       "      <td>?</td>\n",
       "      <td>2</td>\n",
       "      <td>32.0</td>\n",
       "      <td>24</td>\n",
       "      <td>?</td>\n",
       "      <td>?</td>\n",
       "      <td>?</td>\n",
       "      <td>N</td>\n",
       "    </tr>\n",
       "  </tbody>\n",
       "</table>\n",
       "<p>5 rows × 305 columns</p>\n",
       "</div>"
      ],
      "text/plain": [
       "  DATA_MONTH  MINING_DW_SUBSCR_NO  CURR_SUBSCR_ID DATA_MONTH_RPT_TEMP1  \\\n",
       "0   2017/4/1           8134330931       327624391             2017/4/1   \n",
       "1   2017/4/1           2118544651       340264445             2017/4/1   \n",
       "2   2017/4/1          10000337216       341414412             2017/4/1   \n",
       "3   2017/4/1           3133428916       326979481             2017/4/1   \n",
       "4   2017/4/1           3119268553       328969946             2017/4/1   \n",
       "\n",
       "  DATA_MONTH_RPT_TEMP2 DATA_MONTH_RPT  DW_PARTY_ID RENEW_IND GA_IND ACTV_TYPE  \\\n",
       "0             2017/4/1       2017/4/1      7508599         N      N   PURE GA   \n",
       "1             2017/4/1       2017/4/1      5638034         N      N   PURE GA   \n",
       "2             2017/4/1       2017/4/1      6556494         N      N       MNP   \n",
       "3             2017/4/1       2017/4/1     14170468         N      N       MNP   \n",
       "4             2017/4/1       2017/4/1     10424960         N      N       MNP   \n",
       "\n",
       "     ...      L2M_DEVICE_MODEL L2M_DEVICE_PRICE_TIER L2M_DEVICE_TYPE  \\\n",
       "0    ...                     ?                     ?               ?   \n",
       "1    ...      5310 XpressMusic                     ?          2G H/S   \n",
       "2    ...                     ?                     ?               ?   \n",
       "3    ...                     ?                     ?               ?   \n",
       "4    ...                     ?                     ?               ?   \n",
       "\n",
       "  HS_CHG_CNT AVG_HS_USE_MONTH AVG_HS_USE_MONTH_EX_CURR ZONE_ACTV_IVR_COUNTRY  \\\n",
       "0          1              7.0                        ?                     ?   \n",
       "1          3             33.0                       40                     ?   \n",
       "2          ?                ?                        ?                   高雄市   \n",
       "3          1              6.0                        ?                   新北市   \n",
       "4          2             32.0                       24                     ?   \n",
       "\n",
       "  ZONE_ACTV_IVR_REGION       STORE_TYPE SPAUTH_IND  \n",
       "0                    ?  Mini-New(Y2013)          N  \n",
       "1                    ?                ?          N  \n",
       "2                  左營區            Store          N  \n",
       "3                  瑞芳區            Store          N  \n",
       "4                    ?                ?          N  \n",
       "\n",
       "[5 rows x 305 columns]"
      ]
     },
     "execution_count": 35,
     "metadata": {},
     "output_type": "execute_result"
    }
   ],
   "source": [
    "user_df.head()"
   ]
  },
  {
   "cell_type": "code",
   "execution_count": null,
   "metadata": {
    "collapsed": true
   },
   "outputs": [],
   "source": []
  },
  {
   "cell_type": "code",
   "execution_count": 36,
   "metadata": {},
   "outputs": [
    {
     "data": {
      "text/plain": [
       "2596797"
      ]
     },
     "execution_count": 36,
     "metadata": {},
     "output_type": "execute_result"
    }
   ],
   "source": [
    "len(user_df)"
   ]
  },
  {
   "cell_type": "code",
   "execution_count": 37,
   "metadata": {
    "collapsed": true
   },
   "outputs": [],
   "source": [
    "# set configure\n",
    "# path = \"../DATA_FULL/\"\n",
    "# path = \"./\"\n",
    "# filename = \"DNA_KMEANS_RESULT_ID_NEW\"\n",
    "path = \"./\"\n",
    "filename = \"Groups_ID_0712\"\n",
    "relative_filename = path + filename + \".csv\"\n",
    "# relative_filename = path + filename + \".txt\""
   ]
  },
  {
   "cell_type": "code",
   "execution_count": 38,
   "metadata": {},
   "outputs": [
    {
     "data": {
      "text/html": [
       "<div>\n",
       "<style>\n",
       "    .dataframe thead tr:only-child th {\n",
       "        text-align: right;\n",
       "    }\n",
       "\n",
       "    .dataframe thead th {\n",
       "        text-align: left;\n",
       "    }\n",
       "\n",
       "    .dataframe tbody tr th {\n",
       "        vertical-align: top;\n",
       "    }\n",
       "</style>\n",
       "<table border=\"1\" class=\"dataframe\">\n",
       "  <thead>\n",
       "    <tr style=\"text-align: right;\">\n",
       "      <th></th>\n",
       "      <th>MINING_DW_SUBSCR_NO</th>\n",
       "      <th>Groups</th>\n",
       "    </tr>\n",
       "  </thead>\n",
       "  <tbody>\n",
       "    <tr>\n",
       "      <th>0</th>\n",
       "      <td>10000000823</td>\n",
       "      <td>No_ignificant_preference</td>\n",
       "    </tr>\n",
       "    <tr>\n",
       "      <th>1</th>\n",
       "      <td>10000004215</td>\n",
       "      <td>No_ignificant_preference</td>\n",
       "    </tr>\n",
       "    <tr>\n",
       "      <th>2</th>\n",
       "      <td>10000008238</td>\n",
       "      <td>News</td>\n",
       "    </tr>\n",
       "    <tr>\n",
       "      <th>3</th>\n",
       "      <td>10000012539</td>\n",
       "      <td>Portal</td>\n",
       "    </tr>\n",
       "    <tr>\n",
       "      <th>4</th>\n",
       "      <td>10000015467</td>\n",
       "      <td>InstantMessage-Low</td>\n",
       "    </tr>\n",
       "  </tbody>\n",
       "</table>\n",
       "</div>"
      ],
      "text/plain": [
       "   MINING_DW_SUBSCR_NO                    Groups\n",
       "0          10000000823  No_ignificant_preference\n",
       "1          10000004215  No_ignificant_preference\n",
       "2          10000008238                      News\n",
       "3          10000012539                    Portal\n",
       "4          10000015467        InstantMessage-Low"
      ]
     },
     "execution_count": 38,
     "metadata": {},
     "output_type": "execute_result"
    }
   ],
   "source": [
    "group_df =  pd.read_csv(relative_filename, error_bad_lines=False, usecols = [\"MINING_DW_SUBSCR_NO\", \"Groups\"])\n",
    "group_df.head()\n"
   ]
  },
  {
   "cell_type": "code",
   "execution_count": 39,
   "metadata": {},
   "outputs": [
    {
     "data": {
      "text/plain": [
       "1884095"
      ]
     },
     "execution_count": 39,
     "metadata": {},
     "output_type": "execute_result"
    }
   ],
   "source": [
    "len(group_df)"
   ]
  },
  {
   "cell_type": "code",
   "execution_count": 40,
   "metadata": {},
   "outputs": [
    {
     "data": {
      "text/plain": [
       "1884095"
      ]
     },
     "execution_count": 40,
     "metadata": {},
     "output_type": "execute_result"
    }
   ],
   "source": [
    "len(user_df[user_df['MINING_DW_SUBSCR_NO'].isin(group_df['MINING_DW_SUBSCR_NO'])])"
   ]
  },
  {
   "cell_type": "code",
   "execution_count": 41,
   "metadata": {
    "collapsed": true
   },
   "outputs": [],
   "source": [
    "user_df = pd.merge(user_df, group_df, on='MINING_DW_SUBSCR_NO', how='inner')\n"
   ]
  },
  {
   "cell_type": "code",
   "execution_count": 42,
   "metadata": {},
   "outputs": [
    {
     "data": {
      "text/plain": [
       "1884095"
      ]
     },
     "execution_count": 42,
     "metadata": {},
     "output_type": "execute_result"
    }
   ],
   "source": [
    "len(user_df)"
   ]
  },
  {
   "cell_type": "code",
   "execution_count": 43,
   "metadata": {},
   "outputs": [
    {
     "data": {
      "text/plain": [
       "DATA_MONTH                         object\n",
       "MINING_DW_SUBSCR_NO                 int64\n",
       "CURR_SUBSCR_ID                      int64\n",
       "DATA_MONTH_RPT_TEMP1               object\n",
       "DATA_MONTH_RPT_TEMP2               object\n",
       "DATA_MONTH_RPT                     object\n",
       "DW_PARTY_ID                         int64\n",
       "RENEW_IND                          object\n",
       "GA_IND                             object\n",
       "ACTV_TYPE                          object\n",
       "GA_DATE                            object\n",
       "CHURN_IND                          object\n",
       "CHURN_TYPE                         object\n",
       "INACTV_DATE                        object\n",
       "MKT_CHURN_DATE                     object\n",
       "SUSPEND_IND                        object\n",
       "TARGET_OPR_ID                      object\n",
       "TEMP_INACTV_DATE                   object\n",
       "SRV_TYPE_DESC                      object\n",
       "RPS_NAME                           object\n",
       "SUBSCR_STATUS_CODE                 object\n",
       "GENDER_CODE                        object\n",
       "P6M_AVG_NET_INV_AMT               float64\n",
       "ORIG_OPR_ID                        object\n",
       "AGE                                object\n",
       "TENURE_SCV                        float64\n",
       "BILL_CITY_NAME                     object\n",
       "BILL_DISTRICT_NAME                 object\n",
       "BILL_ZIP_CODE                      object\n",
       "CHANNEL_CHURN_INDEX                object\n",
       "                                   ...   \n",
       "P1M_MO_PSTN_DUR                    object\n",
       "P6M_MO_PSTN_DUR                    object\n",
       "P3M_MO_PSTN_DUR                    object\n",
       "L1M_CHANNEL_CHURN_INDEX            object\n",
       "RETAIL_STORE_CHURN_FLAG            object\n",
       "RETAIL_STORE_CHURN_SRV_DATE        object\n",
       "RETAIL_STORE_CHURN_DEPUTY_FALG     object\n",
       "RETAIL_STORE_CHURN_STOP_REASON     object\n",
       "HS_USE_MONTH                       object\n",
       "CURR_DEVICE_MAKER                  object\n",
       "CURR_DEVICE_MODEL                  object\n",
       "CURR_DEVICE_PRICE_TIER             object\n",
       "L1M_DEVICE_TENURE                  object\n",
       "L1M_DEVICE_MAKER                   object\n",
       "L1M_DEVICE_MODEL                   object\n",
       "L1M_DEVICE_PRICE_TIER              object\n",
       "L1M_DEVICE_TYPE                    object\n",
       "L2M_DEVICE_TENURE                  object\n",
       "L2M_DEVICE_MAKER                   object\n",
       "L2M_DEVICE_MODEL                   object\n",
       "L2M_DEVICE_PRICE_TIER              object\n",
       "L2M_DEVICE_TYPE                    object\n",
       "HS_CHG_CNT                         object\n",
       "AVG_HS_USE_MONTH                   object\n",
       "AVG_HS_USE_MONTH_EX_CURR           object\n",
       "ZONE_ACTV_IVR_COUNTRY              object\n",
       "ZONE_ACTV_IVR_REGION               object\n",
       "STORE_TYPE                         object\n",
       "SPAUTH_IND                         object\n",
       "Groups                             object\n",
       "Length: 306, dtype: object"
      ]
     },
     "execution_count": 43,
     "metadata": {},
     "output_type": "execute_result"
    }
   ],
   "source": [
    "user_df.dtypes"
   ]
  },
  {
   "cell_type": "code",
   "execution_count": null,
   "metadata": {
    "collapsed": true
   },
   "outputs": [],
   "source": []
  },
  {
   "cell_type": "code",
   "execution_count": null,
   "metadata": {
    "collapsed": true
   },
   "outputs": [],
   "source": []
  },
  {
   "cell_type": "code",
   "execution_count": null,
   "metadata": {
    "collapsed": true
   },
   "outputs": [],
   "source": []
  },
  {
   "cell_type": "code",
   "execution_count": null,
   "metadata": {
    "collapsed": true
   },
   "outputs": [],
   "source": []
  },
  {
   "cell_type": "code",
   "execution_count": null,
   "metadata": {
    "collapsed": true
   },
   "outputs": [],
   "source": []
  },
  {
   "cell_type": "code",
   "execution_count": null,
   "metadata": {
    "collapsed": true
   },
   "outputs": [],
   "source": []
  },
  {
   "cell_type": "code",
   "execution_count": 17,
   "metadata": {
    "collapsed": true
   },
   "outputs": [],
   "source": [
    "user_df[\"Groups\"] = user_df[\"Groups\"].fillna(\"None\")"
   ]
  },
  {
   "cell_type": "code",
   "execution_count": 31,
   "metadata": {},
   "outputs": [
    {
     "data": {
      "text/html": [
       "<div>\n",
       "<style>\n",
       "    .dataframe thead tr:only-child th {\n",
       "        text-align: right;\n",
       "    }\n",
       "\n",
       "    .dataframe thead th {\n",
       "        text-align: left;\n",
       "    }\n",
       "\n",
       "    .dataframe tbody tr th {\n",
       "        vertical-align: top;\n",
       "    }\n",
       "</style>\n",
       "<table border=\"1\" class=\"dataframe\">\n",
       "  <thead>\n",
       "    <tr style=\"text-align: right;\">\n",
       "      <th></th>\n",
       "      <th>MINING_DW_SUBSCR_NO</th>\n",
       "      <th>Groups</th>\n",
       "    </tr>\n",
       "  </thead>\n",
       "  <tbody>\n",
       "  </tbody>\n",
       "</table>\n",
       "</div>"
      ],
      "text/plain": [
       "Empty DataFrame\n",
       "Columns: [MINING_DW_SUBSCR_NO, Groups]\n",
       "Index: []"
      ]
     },
     "execution_count": 31,
     "metadata": {},
     "output_type": "execute_result"
    }
   ],
   "source": [
    "user_df[user_df[\"MINING_DW_SUBSCR_NO\"] == 3119268553]"
   ]
  },
  {
   "cell_type": "code",
   "execution_count": 20,
   "metadata": {},
   "outputs": [
    {
     "data": {
      "text/plain": [
       "54272"
      ]
     },
     "execution_count": 20,
     "metadata": {},
     "output_type": "execute_result"
    }
   ],
   "source": [
    "len(user_df[user_df[\"Groups\"] == \"Adult\"])"
   ]
  },
  {
   "cell_type": "code",
   "execution_count": 44,
   "metadata": {},
   "outputs": [
    {
     "data": {
      "text/html": [
       "<div>\n",
       "<style>\n",
       "    .dataframe thead tr:only-child th {\n",
       "        text-align: right;\n",
       "    }\n",
       "\n",
       "    .dataframe thead th {\n",
       "        text-align: left;\n",
       "    }\n",
       "\n",
       "    .dataframe tbody tr th {\n",
       "        vertical-align: top;\n",
       "    }\n",
       "</style>\n",
       "<table border=\"1\" class=\"dataframe\">\n",
       "  <thead>\n",
       "    <tr style=\"text-align: right;\">\n",
       "      <th></th>\n",
       "      <th>DATA_MONTH</th>\n",
       "      <th>MINING_DW_SUBSCR_NO</th>\n",
       "      <th>CURR_SUBSCR_ID</th>\n",
       "      <th>DATA_MONTH_RPT_TEMP1</th>\n",
       "      <th>DATA_MONTH_RPT_TEMP2</th>\n",
       "      <th>DATA_MONTH_RPT</th>\n",
       "      <th>DW_PARTY_ID</th>\n",
       "      <th>RENEW_IND</th>\n",
       "      <th>GA_IND</th>\n",
       "      <th>ACTV_TYPE</th>\n",
       "      <th>...</th>\n",
       "      <th>L2M_DEVICE_MODEL</th>\n",
       "      <th>L2M_DEVICE_PRICE_TIER</th>\n",
       "      <th>L2M_DEVICE_TYPE</th>\n",
       "      <th>HS_CHG_CNT</th>\n",
       "      <th>AVG_HS_USE_MONTH</th>\n",
       "      <th>AVG_HS_USE_MONTH_EX_CURR</th>\n",
       "      <th>ZONE_ACTV_IVR_COUNTRY</th>\n",
       "      <th>ZONE_ACTV_IVR_REGION</th>\n",
       "      <th>STORE_TYPE</th>\n",
       "      <th>SPAUTH_IND</th>\n",
       "    </tr>\n",
       "    <tr>\n",
       "      <th>Groups</th>\n",
       "      <th></th>\n",
       "      <th></th>\n",
       "      <th></th>\n",
       "      <th></th>\n",
       "      <th></th>\n",
       "      <th></th>\n",
       "      <th></th>\n",
       "      <th></th>\n",
       "      <th></th>\n",
       "      <th></th>\n",
       "      <th></th>\n",
       "      <th></th>\n",
       "      <th></th>\n",
       "      <th></th>\n",
       "      <th></th>\n",
       "      <th></th>\n",
       "      <th></th>\n",
       "      <th></th>\n",
       "      <th></th>\n",
       "      <th></th>\n",
       "      <th></th>\n",
       "    </tr>\n",
       "  </thead>\n",
       "  <tbody>\n",
       "    <tr>\n",
       "      <th>Adult</th>\n",
       "      <td>54309</td>\n",
       "      <td>54309</td>\n",
       "      <td>54309</td>\n",
       "      <td>54309</td>\n",
       "      <td>54309</td>\n",
       "      <td>54309</td>\n",
       "      <td>54309</td>\n",
       "      <td>54309</td>\n",
       "      <td>54309</td>\n",
       "      <td>54309</td>\n",
       "      <td>...</td>\n",
       "      <td>53799</td>\n",
       "      <td>54309</td>\n",
       "      <td>54309</td>\n",
       "      <td>54309</td>\n",
       "      <td>54309</td>\n",
       "      <td>54309</td>\n",
       "      <td>54309</td>\n",
       "      <td>54309</td>\n",
       "      <td>54309</td>\n",
       "      <td>54309</td>\n",
       "    </tr>\n",
       "    <tr>\n",
       "      <th>Game</th>\n",
       "      <td>87618</td>\n",
       "      <td>87618</td>\n",
       "      <td>87618</td>\n",
       "      <td>87618</td>\n",
       "      <td>87618</td>\n",
       "      <td>87618</td>\n",
       "      <td>87618</td>\n",
       "      <td>87618</td>\n",
       "      <td>87618</td>\n",
       "      <td>87618</td>\n",
       "      <td>...</td>\n",
       "      <td>86967</td>\n",
       "      <td>87618</td>\n",
       "      <td>87618</td>\n",
       "      <td>87618</td>\n",
       "      <td>87618</td>\n",
       "      <td>87618</td>\n",
       "      <td>87618</td>\n",
       "      <td>87618</td>\n",
       "      <td>87618</td>\n",
       "      <td>87618</td>\n",
       "    </tr>\n",
       "    <tr>\n",
       "      <th>HomeLife</th>\n",
       "      <td>74949</td>\n",
       "      <td>74949</td>\n",
       "      <td>74949</td>\n",
       "      <td>74949</td>\n",
       "      <td>74949</td>\n",
       "      <td>74949</td>\n",
       "      <td>74949</td>\n",
       "      <td>74949</td>\n",
       "      <td>74949</td>\n",
       "      <td>74949</td>\n",
       "      <td>...</td>\n",
       "      <td>74584</td>\n",
       "      <td>74949</td>\n",
       "      <td>74949</td>\n",
       "      <td>74949</td>\n",
       "      <td>74949</td>\n",
       "      <td>74949</td>\n",
       "      <td>74949</td>\n",
       "      <td>74949</td>\n",
       "      <td>74949</td>\n",
       "      <td>74949</td>\n",
       "    </tr>\n",
       "    <tr>\n",
       "      <th>Infrequent_User</th>\n",
       "      <td>145107</td>\n",
       "      <td>145107</td>\n",
       "      <td>145107</td>\n",
       "      <td>145107</td>\n",
       "      <td>145107</td>\n",
       "      <td>145107</td>\n",
       "      <td>145107</td>\n",
       "      <td>145107</td>\n",
       "      <td>145107</td>\n",
       "      <td>145107</td>\n",
       "      <td>...</td>\n",
       "      <td>143783</td>\n",
       "      <td>145107</td>\n",
       "      <td>145107</td>\n",
       "      <td>145107</td>\n",
       "      <td>145107</td>\n",
       "      <td>145107</td>\n",
       "      <td>145107</td>\n",
       "      <td>145107</td>\n",
       "      <td>145107</td>\n",
       "      <td>145107</td>\n",
       "    </tr>\n",
       "    <tr>\n",
       "      <th>InstantMessage-High</th>\n",
       "      <td>424699</td>\n",
       "      <td>424699</td>\n",
       "      <td>424699</td>\n",
       "      <td>424699</td>\n",
       "      <td>424699</td>\n",
       "      <td>424699</td>\n",
       "      <td>424699</td>\n",
       "      <td>424699</td>\n",
       "      <td>424699</td>\n",
       "      <td>424699</td>\n",
       "      <td>...</td>\n",
       "      <td>422074</td>\n",
       "      <td>424699</td>\n",
       "      <td>424699</td>\n",
       "      <td>424699</td>\n",
       "      <td>424699</td>\n",
       "      <td>424699</td>\n",
       "      <td>424699</td>\n",
       "      <td>424699</td>\n",
       "      <td>424699</td>\n",
       "      <td>424699</td>\n",
       "    </tr>\n",
       "    <tr>\n",
       "      <th>InstantMessage-Low</th>\n",
       "      <td>431903</td>\n",
       "      <td>431903</td>\n",
       "      <td>431903</td>\n",
       "      <td>431903</td>\n",
       "      <td>431903</td>\n",
       "      <td>431903</td>\n",
       "      <td>431903</td>\n",
       "      <td>431903</td>\n",
       "      <td>431903</td>\n",
       "      <td>431903</td>\n",
       "      <td>...</td>\n",
       "      <td>429800</td>\n",
       "      <td>431903</td>\n",
       "      <td>431903</td>\n",
       "      <td>431903</td>\n",
       "      <td>431903</td>\n",
       "      <td>431903</td>\n",
       "      <td>431903</td>\n",
       "      <td>431903</td>\n",
       "      <td>431903</td>\n",
       "      <td>431903</td>\n",
       "    </tr>\n",
       "    <tr>\n",
       "      <th>Map</th>\n",
       "      <td>103786</td>\n",
       "      <td>103786</td>\n",
       "      <td>103786</td>\n",
       "      <td>103786</td>\n",
       "      <td>103786</td>\n",
       "      <td>103786</td>\n",
       "      <td>103786</td>\n",
       "      <td>103786</td>\n",
       "      <td>103786</td>\n",
       "      <td>103786</td>\n",
       "      <td>...</td>\n",
       "      <td>103507</td>\n",
       "      <td>103786</td>\n",
       "      <td>103786</td>\n",
       "      <td>103786</td>\n",
       "      <td>103786</td>\n",
       "      <td>103786</td>\n",
       "      <td>103786</td>\n",
       "      <td>103786</td>\n",
       "      <td>103786</td>\n",
       "      <td>103786</td>\n",
       "    </tr>\n",
       "    <tr>\n",
       "      <th>News</th>\n",
       "      <td>57174</td>\n",
       "      <td>57174</td>\n",
       "      <td>57174</td>\n",
       "      <td>57174</td>\n",
       "      <td>57174</td>\n",
       "      <td>57174</td>\n",
       "      <td>57174</td>\n",
       "      <td>57174</td>\n",
       "      <td>57174</td>\n",
       "      <td>57174</td>\n",
       "      <td>...</td>\n",
       "      <td>56845</td>\n",
       "      <td>57174</td>\n",
       "      <td>57174</td>\n",
       "      <td>57174</td>\n",
       "      <td>57174</td>\n",
       "      <td>57174</td>\n",
       "      <td>57174</td>\n",
       "      <td>57174</td>\n",
       "      <td>57174</td>\n",
       "      <td>57174</td>\n",
       "    </tr>\n",
       "    <tr>\n",
       "      <th>No_ignificant_preference</th>\n",
       "      <td>266966</td>\n",
       "      <td>266966</td>\n",
       "      <td>266966</td>\n",
       "      <td>266966</td>\n",
       "      <td>266966</td>\n",
       "      <td>266966</td>\n",
       "      <td>266966</td>\n",
       "      <td>266966</td>\n",
       "      <td>266966</td>\n",
       "      <td>266966</td>\n",
       "      <td>...</td>\n",
       "      <td>265502</td>\n",
       "      <td>266966</td>\n",
       "      <td>266966</td>\n",
       "      <td>266966</td>\n",
       "      <td>266966</td>\n",
       "      <td>266966</td>\n",
       "      <td>266966</td>\n",
       "      <td>266966</td>\n",
       "      <td>266966</td>\n",
       "      <td>266966</td>\n",
       "    </tr>\n",
       "    <tr>\n",
       "      <th>Portal</th>\n",
       "      <td>98614</td>\n",
       "      <td>98614</td>\n",
       "      <td>98614</td>\n",
       "      <td>98614</td>\n",
       "      <td>98614</td>\n",
       "      <td>98614</td>\n",
       "      <td>98614</td>\n",
       "      <td>98614</td>\n",
       "      <td>98614</td>\n",
       "      <td>98614</td>\n",
       "      <td>...</td>\n",
       "      <td>97869</td>\n",
       "      <td>98614</td>\n",
       "      <td>98614</td>\n",
       "      <td>98614</td>\n",
       "      <td>98614</td>\n",
       "      <td>98614</td>\n",
       "      <td>98614</td>\n",
       "      <td>98614</td>\n",
       "      <td>98614</td>\n",
       "      <td>98614</td>\n",
       "    </tr>\n",
       "    <tr>\n",
       "      <th>Social-media</th>\n",
       "      <td>138970</td>\n",
       "      <td>138970</td>\n",
       "      <td>138970</td>\n",
       "      <td>138970</td>\n",
       "      <td>138970</td>\n",
       "      <td>138970</td>\n",
       "      <td>138970</td>\n",
       "      <td>138970</td>\n",
       "      <td>138970</td>\n",
       "      <td>138970</td>\n",
       "      <td>...</td>\n",
       "      <td>137930</td>\n",
       "      <td>138970</td>\n",
       "      <td>138970</td>\n",
       "      <td>138970</td>\n",
       "      <td>138970</td>\n",
       "      <td>138970</td>\n",
       "      <td>138970</td>\n",
       "      <td>138970</td>\n",
       "      <td>138970</td>\n",
       "      <td>138970</td>\n",
       "    </tr>\n",
       "  </tbody>\n",
       "</table>\n",
       "<p>11 rows × 305 columns</p>\n",
       "</div>"
      ],
      "text/plain": [
       "                          DATA_MONTH  MINING_DW_SUBSCR_NO  CURR_SUBSCR_ID  \\\n",
       "Groups                                                                      \n",
       "Adult                          54309                54309           54309   \n",
       "Game                           87618                87618           87618   \n",
       "HomeLife                       74949                74949           74949   \n",
       "Infrequent_User               145107               145107          145107   \n",
       "InstantMessage-High           424699               424699          424699   \n",
       "InstantMessage-Low            431903               431903          431903   \n",
       "Map                           103786               103786          103786   \n",
       "News                           57174                57174           57174   \n",
       "No_ignificant_preference      266966               266966          266966   \n",
       "Portal                         98614                98614           98614   \n",
       "Social-media                  138970               138970          138970   \n",
       "\n",
       "                          DATA_MONTH_RPT_TEMP1  DATA_MONTH_RPT_TEMP2  \\\n",
       "Groups                                                                 \n",
       "Adult                                    54309                 54309   \n",
       "Game                                     87618                 87618   \n",
       "HomeLife                                 74949                 74949   \n",
       "Infrequent_User                         145107                145107   \n",
       "InstantMessage-High                     424699                424699   \n",
       "InstantMessage-Low                      431903                431903   \n",
       "Map                                     103786                103786   \n",
       "News                                     57174                 57174   \n",
       "No_ignificant_preference                266966                266966   \n",
       "Portal                                   98614                 98614   \n",
       "Social-media                            138970                138970   \n",
       "\n",
       "                          DATA_MONTH_RPT  DW_PARTY_ID  RENEW_IND  GA_IND  \\\n",
       "Groups                                                                     \n",
       "Adult                              54309        54309      54309   54309   \n",
       "Game                               87618        87618      87618   87618   \n",
       "HomeLife                           74949        74949      74949   74949   \n",
       "Infrequent_User                   145107       145107     145107  145107   \n",
       "InstantMessage-High               424699       424699     424699  424699   \n",
       "InstantMessage-Low                431903       431903     431903  431903   \n",
       "Map                               103786       103786     103786  103786   \n",
       "News                               57174        57174      57174   57174   \n",
       "No_ignificant_preference          266966       266966     266966  266966   \n",
       "Portal                             98614        98614      98614   98614   \n",
       "Social-media                      138970       138970     138970  138970   \n",
       "\n",
       "                          ACTV_TYPE     ...      L2M_DEVICE_MODEL  \\\n",
       "Groups                                  ...                         \n",
       "Adult                         54309     ...                 53799   \n",
       "Game                          87618     ...                 86967   \n",
       "HomeLife                      74949     ...                 74584   \n",
       "Infrequent_User              145107     ...                143783   \n",
       "InstantMessage-High          424699     ...                422074   \n",
       "InstantMessage-Low           431903     ...                429800   \n",
       "Map                          103786     ...                103507   \n",
       "News                          57174     ...                 56845   \n",
       "No_ignificant_preference     266966     ...                265502   \n",
       "Portal                        98614     ...                 97869   \n",
       "Social-media                 138970     ...                137930   \n",
       "\n",
       "                          L2M_DEVICE_PRICE_TIER  L2M_DEVICE_TYPE  HS_CHG_CNT  \\\n",
       "Groups                                                                         \n",
       "Adult                                     54309            54309       54309   \n",
       "Game                                      87618            87618       87618   \n",
       "HomeLife                                  74949            74949       74949   \n",
       "Infrequent_User                          145107           145107      145107   \n",
       "InstantMessage-High                      424699           424699      424699   \n",
       "InstantMessage-Low                       431903           431903      431903   \n",
       "Map                                      103786           103786      103786   \n",
       "News                                      57174            57174       57174   \n",
       "No_ignificant_preference                 266966           266966      266966   \n",
       "Portal                                    98614            98614       98614   \n",
       "Social-media                             138970           138970      138970   \n",
       "\n",
       "                          AVG_HS_USE_MONTH  AVG_HS_USE_MONTH_EX_CURR  \\\n",
       "Groups                                                                 \n",
       "Adult                                54309                     54309   \n",
       "Game                                 87618                     87618   \n",
       "HomeLife                             74949                     74949   \n",
       "Infrequent_User                     145107                    145107   \n",
       "InstantMessage-High                 424699                    424699   \n",
       "InstantMessage-Low                  431903                    431903   \n",
       "Map                                 103786                    103786   \n",
       "News                                 57174                     57174   \n",
       "No_ignificant_preference            266966                    266966   \n",
       "Portal                               98614                     98614   \n",
       "Social-media                        138970                    138970   \n",
       "\n",
       "                          ZONE_ACTV_IVR_COUNTRY  ZONE_ACTV_IVR_REGION  \\\n",
       "Groups                                                                  \n",
       "Adult                                     54309                 54309   \n",
       "Game                                      87618                 87618   \n",
       "HomeLife                                  74949                 74949   \n",
       "Infrequent_User                          145107                145107   \n",
       "InstantMessage-High                      424699                424699   \n",
       "InstantMessage-Low                       431903                431903   \n",
       "Map                                      103786                103786   \n",
       "News                                      57174                 57174   \n",
       "No_ignificant_preference                 266966                266966   \n",
       "Portal                                    98614                 98614   \n",
       "Social-media                             138970                138970   \n",
       "\n",
       "                          STORE_TYPE  SPAUTH_IND  \n",
       "Groups                                            \n",
       "Adult                          54309       54309  \n",
       "Game                           87618       87618  \n",
       "HomeLife                       74949       74949  \n",
       "Infrequent_User               145107      145107  \n",
       "InstantMessage-High           424699      424699  \n",
       "InstantMessage-Low            431903      431903  \n",
       "Map                           103786      103786  \n",
       "News                           57174       57174  \n",
       "No_ignificant_preference      266966      266966  \n",
       "Portal                         98614       98614  \n",
       "Social-media                  138970      138970  \n",
       "\n",
       "[11 rows x 305 columns]"
      ]
     },
     "execution_count": 44,
     "metadata": {},
     "output_type": "execute_result"
    }
   ],
   "source": [
    "user_df.groupby(\"Groups\").count()"
   ]
  },
  {
   "cell_type": "code",
   "execution_count": 22,
   "metadata": {},
   "outputs": [
    {
     "data": {
      "text/html": [
       "<div>\n",
       "<style>\n",
       "    .dataframe thead tr:only-child th {\n",
       "        text-align: right;\n",
       "    }\n",
       "\n",
       "    .dataframe thead th {\n",
       "        text-align: left;\n",
       "    }\n",
       "\n",
       "    .dataframe tbody tr th {\n",
       "        vertical-align: top;\n",
       "    }\n",
       "</style>\n",
       "<table border=\"1\" class=\"dataframe\">\n",
       "  <thead>\n",
       "    <tr style=\"text-align: right;\">\n",
       "      <th></th>\n",
       "      <th>DATA_MONTH</th>\n",
       "      <th>MINING_DW_SUBSCR_NO</th>\n",
       "      <th>AGE_x</th>\n",
       "      <th>PTY_CBU_PO_CNT</th>\n",
       "      <th>DORMANT_MONTH_CNT_MKT</th>\n",
       "      <th>TENURE_SCV</th>\n",
       "      <th>AGE_y</th>\n",
       "      <th>Groups</th>\n",
       "    </tr>\n",
       "  </thead>\n",
       "  <tbody>\n",
       "    <tr>\n",
       "      <th>0</th>\n",
       "      <td>2017/4/1</td>\n",
       "      <td>8134330931</td>\n",
       "      <td>44</td>\n",
       "      <td>1</td>\n",
       "      <td>0</td>\n",
       "      <td>21.0</td>\n",
       "      <td>35~44</td>\n",
       "      <td>InstantMessage-Low</td>\n",
       "    </tr>\n",
       "    <tr>\n",
       "      <th>1</th>\n",
       "      <td>2017/4/1</td>\n",
       "      <td>2118544651</td>\n",
       "      <td>58</td>\n",
       "      <td>1</td>\n",
       "      <td>0</td>\n",
       "      <td>226.0</td>\n",
       "      <td>55~64</td>\n",
       "      <td>Infrequent Internet User</td>\n",
       "    </tr>\n",
       "    <tr>\n",
       "      <th>2</th>\n",
       "      <td>2017/4/1</td>\n",
       "      <td>10000337216</td>\n",
       "      <td>48</td>\n",
       "      <td>1</td>\n",
       "      <td>0</td>\n",
       "      <td>7.0</td>\n",
       "      <td>45~54</td>\n",
       "      <td>No significant preference</td>\n",
       "    </tr>\n",
       "    <tr>\n",
       "      <th>3</th>\n",
       "      <td>2017/4/1</td>\n",
       "      <td>3133428916</td>\n",
       "      <td>27</td>\n",
       "      <td>1</td>\n",
       "      <td>0</td>\n",
       "      <td>24.1</td>\n",
       "      <td>25~34</td>\n",
       "      <td>No significant preference</td>\n",
       "    </tr>\n",
       "    <tr>\n",
       "      <th>4</th>\n",
       "      <td>2017/4/1</td>\n",
       "      <td>3119268553</td>\n",
       "      <td>56</td>\n",
       "      <td>1</td>\n",
       "      <td>3</td>\n",
       "      <td>94.1</td>\n",
       "      <td>NaN</td>\n",
       "      <td>None</td>\n",
       "    </tr>\n",
       "  </tbody>\n",
       "</table>\n",
       "</div>"
      ],
      "text/plain": [
       "  DATA_MONTH  MINING_DW_SUBSCR_NO AGE_x  PTY_CBU_PO_CNT  \\\n",
       "0   2017/4/1           8134330931    44               1   \n",
       "1   2017/4/1           2118544651    58               1   \n",
       "2   2017/4/1          10000337216    48               1   \n",
       "3   2017/4/1           3133428916    27               1   \n",
       "4   2017/4/1           3119268553    56               1   \n",
       "\n",
       "   DORMANT_MONTH_CNT_MKT  TENURE_SCV  AGE_y                     Groups  \n",
       "0                      0        21.0  35~44         InstantMessage-Low  \n",
       "1                      0       226.0  55~64   Infrequent Internet User  \n",
       "2                      0         7.0  45~54  No significant preference  \n",
       "3                      0        24.1  25~34  No significant preference  \n",
       "4                      3        94.1    NaN                       None  "
      ]
     },
     "execution_count": 22,
     "metadata": {},
     "output_type": "execute_result"
    }
   ],
   "source": [
    "user_df.head()"
   ]
  },
  {
   "cell_type": "code",
   "execution_count": 23,
   "metadata": {},
   "outputs": [
    {
     "data": {
      "text/plain": [
       "2596797"
      ]
     },
     "execution_count": 23,
     "metadata": {},
     "output_type": "execute_result"
    }
   ],
   "source": [
    "len(user_df)"
   ]
  },
  {
   "cell_type": "code",
   "execution_count": 24,
   "metadata": {
    "collapsed": true
   },
   "outputs": [],
   "source": [
    "#filter\n",
    "user_df = user_df[(user_df[\"DORMANT_MONTH_CNT_MKT\"] == 0) & (user_df[\"TENURE_SCV\"] >= 3)]"
   ]
  },
  {
   "cell_type": "code",
   "execution_count": 25,
   "metadata": {},
   "outputs": [
    {
     "data": {
      "text/plain": [
       "2342968"
      ]
     },
     "execution_count": 25,
     "metadata": {},
     "output_type": "execute_result"
    }
   ],
   "source": [
    "len(user_df)"
   ]
  },
  {
   "cell_type": "code",
   "execution_count": 26,
   "metadata": {
    "collapsed": true
   },
   "outputs": [],
   "source": [
    "user_df = user_df[[\"MINING_DW_SUBSCR_NO\", \"Groups\"]]"
   ]
  },
  {
   "cell_type": "code",
   "execution_count": 27,
   "metadata": {},
   "outputs": [
    {
     "data": {
      "text/html": [
       "<div>\n",
       "<style>\n",
       "    .dataframe thead tr:only-child th {\n",
       "        text-align: right;\n",
       "    }\n",
       "\n",
       "    .dataframe thead th {\n",
       "        text-align: left;\n",
       "    }\n",
       "\n",
       "    .dataframe tbody tr th {\n",
       "        vertical-align: top;\n",
       "    }\n",
       "</style>\n",
       "<table border=\"1\" class=\"dataframe\">\n",
       "  <thead>\n",
       "    <tr style=\"text-align: right;\">\n",
       "      <th></th>\n",
       "      <th>MINING_DW_SUBSCR_NO</th>\n",
       "      <th>Groups</th>\n",
       "    </tr>\n",
       "  </thead>\n",
       "  <tbody>\n",
       "    <tr>\n",
       "      <th>0</th>\n",
       "      <td>8134330931</td>\n",
       "      <td>InstantMessage-Low</td>\n",
       "    </tr>\n",
       "    <tr>\n",
       "      <th>1</th>\n",
       "      <td>2118544651</td>\n",
       "      <td>Infrequent Internet User</td>\n",
       "    </tr>\n",
       "    <tr>\n",
       "      <th>2</th>\n",
       "      <td>10000337216</td>\n",
       "      <td>No significant preference</td>\n",
       "    </tr>\n",
       "    <tr>\n",
       "      <th>3</th>\n",
       "      <td>3133428916</td>\n",
       "      <td>No significant preference</td>\n",
       "    </tr>\n",
       "    <tr>\n",
       "      <th>5</th>\n",
       "      <td>3135493626</td>\n",
       "      <td>InstantMessage-Low</td>\n",
       "    </tr>\n",
       "  </tbody>\n",
       "</table>\n",
       "</div>"
      ],
      "text/plain": [
       "   MINING_DW_SUBSCR_NO                     Groups\n",
       "0           8134330931         InstantMessage-Low\n",
       "1           2118544651   Infrequent Internet User\n",
       "2          10000337216  No significant preference\n",
       "3           3133428916  No significant preference\n",
       "5           3135493626         InstantMessage-Low"
      ]
     },
     "execution_count": 27,
     "metadata": {},
     "output_type": "execute_result"
    }
   ],
   "source": [
    "user_df.head()"
   ]
  },
  {
   "cell_type": "code",
   "execution_count": 28,
   "metadata": {},
   "outputs": [
    {
     "data": {
      "text/html": [
       "<div>\n",
       "<style>\n",
       "    .dataframe thead tr:only-child th {\n",
       "        text-align: right;\n",
       "    }\n",
       "\n",
       "    .dataframe thead th {\n",
       "        text-align: left;\n",
       "    }\n",
       "\n",
       "    .dataframe tbody tr th {\n",
       "        vertical-align: top;\n",
       "    }\n",
       "</style>\n",
       "<table border=\"1\" class=\"dataframe\">\n",
       "  <thead>\n",
       "    <tr style=\"text-align: right;\">\n",
       "      <th></th>\n",
       "      <th>MINING_DW_SUBSCR_NO</th>\n",
       "    </tr>\n",
       "    <tr>\n",
       "      <th>Groups</th>\n",
       "      <th></th>\n",
       "    </tr>\n",
       "  </thead>\n",
       "  <tbody>\n",
       "    <tr>\n",
       "      <th>Adult</th>\n",
       "      <td>54272</td>\n",
       "    </tr>\n",
       "    <tr>\n",
       "      <th>Game</th>\n",
       "      <td>87526</td>\n",
       "    </tr>\n",
       "    <tr>\n",
       "      <th>HomeLife</th>\n",
       "      <td>74912</td>\n",
       "    </tr>\n",
       "    <tr>\n",
       "      <th>Infrequent Internet User</th>\n",
       "      <td>144850</td>\n",
       "    </tr>\n",
       "    <tr>\n",
       "      <th>InstantMessage-High</th>\n",
       "      <td>424384</td>\n",
       "    </tr>\n",
       "    <tr>\n",
       "      <th>InstantMessage-Low</th>\n",
       "      <td>431647</td>\n",
       "    </tr>\n",
       "    <tr>\n",
       "      <th>Map</th>\n",
       "      <td>103733</td>\n",
       "    </tr>\n",
       "    <tr>\n",
       "      <th>News</th>\n",
       "      <td>57131</td>\n",
       "    </tr>\n",
       "    <tr>\n",
       "      <th>No significant preference</th>\n",
       "      <td>266772</td>\n",
       "    </tr>\n",
       "    <tr>\n",
       "      <th>None</th>\n",
       "      <td>460339</td>\n",
       "    </tr>\n",
       "    <tr>\n",
       "      <th>Portal</th>\n",
       "      <td>98511</td>\n",
       "    </tr>\n",
       "    <tr>\n",
       "      <th>Social-media</th>\n",
       "      <td>138891</td>\n",
       "    </tr>\n",
       "  </tbody>\n",
       "</table>\n",
       "</div>"
      ],
      "text/plain": [
       "                           MINING_DW_SUBSCR_NO\n",
       "Groups                                        \n",
       "Adult                                    54272\n",
       "Game                                     87526\n",
       "HomeLife                                 74912\n",
       "Infrequent Internet User                144850\n",
       "InstantMessage-High                     424384\n",
       "InstantMessage-Low                      431647\n",
       "Map                                     103733\n",
       "News                                     57131\n",
       "No significant preference               266772\n",
       "None                                    460339\n",
       "Portal                                   98511\n",
       "Social-media                            138891"
      ]
     },
     "execution_count": 28,
     "metadata": {},
     "output_type": "execute_result"
    }
   ],
   "source": [
    "user_df.groupby(\"Groups\").count()"
   ]
  },
  {
   "cell_type": "code",
   "execution_count": 29,
   "metadata": {},
   "outputs": [
    {
     "data": {
      "text/plain": [
       "2342968"
      ]
     },
     "execution_count": 29,
     "metadata": {},
     "output_type": "execute_result"
    }
   ],
   "source": [
    "len(user_df)"
   ]
  },
  {
   "cell_type": "code",
   "execution_count": 45,
   "metadata": {},
   "outputs": [
    {
     "name": "stdout",
     "output_type": "stream",
     "text": [
      "time for output csv file: 191.74\n"
     ]
    }
   ],
   "source": [
    "save_dataframe(user_df, \".\\marketing_analyze\\mkt_with_group_id_20170712\")"
   ]
  },
  {
   "cell_type": "code",
   "execution_count": null,
   "metadata": {
    "collapsed": true
   },
   "outputs": [],
   "source": []
  },
  {
   "cell_type": "code",
   "execution_count": 90,
   "metadata": {
    "collapsed": true
   },
   "outputs": [],
   "source": [
    "# set configure\n",
    "# path = \"../DATA_FULL/\"\n",
    "# path = \"./\"\n",
    "# filename = \"DNA_KMEANS_RESULT_ID_NEW\"\n",
    "path = \".\\marketing_analyze/\"\n",
    "filename = \"april_marketing_anylze_numeric_and_bool_max_min\"\n",
    "relative_filename = path + filename + \".csv\"\n",
    "# relative_filename = path + filename + \".txt\""
   ]
  },
  {
   "cell_type": "code",
   "execution_count": 91,
   "metadata": {
    "collapsed": true
   },
   "outputs": [],
   "source": [
    "group_df =  pd.read_csv(relative_filename, error_bad_lines=False)"
   ]
  },
  {
   "cell_type": "code",
   "execution_count": 92,
   "metadata": {},
   "outputs": [
    {
     "ename": "KeyError",
     "evalue": "'MINING_DW_SUBSCR_NO'",
     "output_type": "error",
     "traceback": [
      "\u001b[1;31m---------------------------------------------------------------------------\u001b[0m",
      "\u001b[1;31mKeyError\u001b[0m                                  Traceback (most recent call last)",
      "\u001b[1;32mC:\\Users\\VIPLAB\\AppData\\Local\\conda\\conda\\envs\\py36\\lib\\site-packages\\pandas\\core\\indexes\\base.py\u001b[0m in \u001b[0;36mget_loc\u001b[1;34m(self, key, method, tolerance)\u001b[0m\n\u001b[0;32m   2392\u001b[0m             \u001b[1;32mtry\u001b[0m\u001b[1;33m:\u001b[0m\u001b[1;33m\u001b[0m\u001b[0m\n\u001b[1;32m-> 2393\u001b[1;33m                 \u001b[1;32mreturn\u001b[0m \u001b[0mself\u001b[0m\u001b[1;33m.\u001b[0m\u001b[0m_engine\u001b[0m\u001b[1;33m.\u001b[0m\u001b[0mget_loc\u001b[0m\u001b[1;33m(\u001b[0m\u001b[0mkey\u001b[0m\u001b[1;33m)\u001b[0m\u001b[1;33m\u001b[0m\u001b[0m\n\u001b[0m\u001b[0;32m   2394\u001b[0m             \u001b[1;32mexcept\u001b[0m \u001b[0mKeyError\u001b[0m\u001b[1;33m:\u001b[0m\u001b[1;33m\u001b[0m\u001b[0m\n",
      "\u001b[1;32mpandas\\_libs\\index.pyx\u001b[0m in \u001b[0;36mpandas._libs.index.IndexEngine.get_loc (pandas\\_libs\\index.c:5239)\u001b[1;34m()\u001b[0m\n",
      "\u001b[1;32mpandas\\_libs\\index.pyx\u001b[0m in \u001b[0;36mpandas._libs.index.IndexEngine.get_loc (pandas\\_libs\\index.c:5085)\u001b[1;34m()\u001b[0m\n",
      "\u001b[1;32mpandas\\_libs\\hashtable_class_helper.pxi\u001b[0m in \u001b[0;36mpandas._libs.hashtable.PyObjectHashTable.get_item (pandas\\_libs\\hashtable.c:20405)\u001b[1;34m()\u001b[0m\n",
      "\u001b[1;32mpandas\\_libs\\hashtable_class_helper.pxi\u001b[0m in \u001b[0;36mpandas._libs.hashtable.PyObjectHashTable.get_item (pandas\\_libs\\hashtable.c:20359)\u001b[1;34m()\u001b[0m\n",
      "\u001b[1;31mKeyError\u001b[0m: 'MINING_DW_SUBSCR_NO'",
      "\nDuring handling of the above exception, another exception occurred:\n",
      "\u001b[1;31mKeyError\u001b[0m                                  Traceback (most recent call last)",
      "\u001b[1;32m<ipython-input-92-8204a3ef2d1c>\u001b[0m in \u001b[0;36m<module>\u001b[1;34m()\u001b[0m\n\u001b[1;32m----> 1\u001b[1;33m \u001b[0muser_df\u001b[0m \u001b[1;33m=\u001b[0m \u001b[0mpd\u001b[0m\u001b[1;33m.\u001b[0m\u001b[0mmerge\u001b[0m\u001b[1;33m(\u001b[0m\u001b[0muser_df\u001b[0m\u001b[1;33m,\u001b[0m \u001b[0mgroup_df\u001b[0m\u001b[1;33m,\u001b[0m \u001b[0mon\u001b[0m\u001b[1;33m=\u001b[0m\u001b[1;34m'MINING_DW_SUBSCR_NO'\u001b[0m\u001b[1;33m,\u001b[0m \u001b[0mhow\u001b[0m\u001b[1;33m=\u001b[0m\u001b[1;34m'inner'\u001b[0m\u001b[1;33m)\u001b[0m\u001b[1;33m\u001b[0m\u001b[0m\n\u001b[0m",
      "\u001b[1;32mC:\\Users\\VIPLAB\\AppData\\Local\\conda\\conda\\envs\\py36\\lib\\site-packages\\pandas\\core\\reshape\\merge.py\u001b[0m in \u001b[0;36mmerge\u001b[1;34m(left, right, how, on, left_on, right_on, left_index, right_index, sort, suffixes, copy, indicator)\u001b[0m\n\u001b[0;32m     51\u001b[0m                          \u001b[0mright_on\u001b[0m\u001b[1;33m=\u001b[0m\u001b[0mright_on\u001b[0m\u001b[1;33m,\u001b[0m \u001b[0mleft_index\u001b[0m\u001b[1;33m=\u001b[0m\u001b[0mleft_index\u001b[0m\u001b[1;33m,\u001b[0m\u001b[1;33m\u001b[0m\u001b[0m\n\u001b[0;32m     52\u001b[0m                          \u001b[0mright_index\u001b[0m\u001b[1;33m=\u001b[0m\u001b[0mright_index\u001b[0m\u001b[1;33m,\u001b[0m \u001b[0msort\u001b[0m\u001b[1;33m=\u001b[0m\u001b[0msort\u001b[0m\u001b[1;33m,\u001b[0m \u001b[0msuffixes\u001b[0m\u001b[1;33m=\u001b[0m\u001b[0msuffixes\u001b[0m\u001b[1;33m,\u001b[0m\u001b[1;33m\u001b[0m\u001b[0m\n\u001b[1;32m---> 53\u001b[1;33m                          copy=copy, indicator=indicator)\n\u001b[0m\u001b[0;32m     54\u001b[0m     \u001b[1;32mreturn\u001b[0m \u001b[0mop\u001b[0m\u001b[1;33m.\u001b[0m\u001b[0mget_result\u001b[0m\u001b[1;33m(\u001b[0m\u001b[1;33m)\u001b[0m\u001b[1;33m\u001b[0m\u001b[0m\n\u001b[0;32m     55\u001b[0m \u001b[1;33m\u001b[0m\u001b[0m\n",
      "\u001b[1;32mC:\\Users\\VIPLAB\\AppData\\Local\\conda\\conda\\envs\\py36\\lib\\site-packages\\pandas\\core\\reshape\\merge.py\u001b[0m in \u001b[0;36m__init__\u001b[1;34m(self, left, right, how, on, left_on, right_on, axis, left_index, right_index, sort, suffixes, copy, indicator)\u001b[0m\n\u001b[0;32m    556\u001b[0m         (self.left_join_keys,\n\u001b[0;32m    557\u001b[0m          \u001b[0mself\u001b[0m\u001b[1;33m.\u001b[0m\u001b[0mright_join_keys\u001b[0m\u001b[1;33m,\u001b[0m\u001b[1;33m\u001b[0m\u001b[0m\n\u001b[1;32m--> 558\u001b[1;33m          self.join_names) = self._get_merge_keys()\n\u001b[0m\u001b[0;32m    559\u001b[0m \u001b[1;33m\u001b[0m\u001b[0m\n\u001b[0;32m    560\u001b[0m         \u001b[1;31m# validate the merge keys dtypes. We may need to coerce\u001b[0m\u001b[1;33m\u001b[0m\u001b[1;33m\u001b[0m\u001b[0m\n",
      "\u001b[1;32mC:\\Users\\VIPLAB\\AppData\\Local\\conda\\conda\\envs\\py36\\lib\\site-packages\\pandas\\core\\reshape\\merge.py\u001b[0m in \u001b[0;36m_get_merge_keys\u001b[1;34m(self)\u001b[0m\n\u001b[0;32m    808\u001b[0m                     \u001b[1;32mif\u001b[0m \u001b[1;32mnot\u001b[0m \u001b[0mis_rkey\u001b[0m\u001b[1;33m(\u001b[0m\u001b[0mrk\u001b[0m\u001b[1;33m)\u001b[0m\u001b[1;33m:\u001b[0m\u001b[1;33m\u001b[0m\u001b[0m\n\u001b[0;32m    809\u001b[0m                         \u001b[1;32mif\u001b[0m \u001b[0mrk\u001b[0m \u001b[1;32mis\u001b[0m \u001b[1;32mnot\u001b[0m \u001b[1;32mNone\u001b[0m\u001b[1;33m:\u001b[0m\u001b[1;33m\u001b[0m\u001b[0m\n\u001b[1;32m--> 810\u001b[1;33m                             \u001b[0mright_keys\u001b[0m\u001b[1;33m.\u001b[0m\u001b[0mappend\u001b[0m\u001b[1;33m(\u001b[0m\u001b[0mright\u001b[0m\u001b[1;33m[\u001b[0m\u001b[0mrk\u001b[0m\u001b[1;33m]\u001b[0m\u001b[1;33m.\u001b[0m\u001b[0m_values\u001b[0m\u001b[1;33m)\u001b[0m\u001b[1;33m\u001b[0m\u001b[0m\n\u001b[0m\u001b[0;32m    811\u001b[0m                         \u001b[1;32melse\u001b[0m\u001b[1;33m:\u001b[0m\u001b[1;33m\u001b[0m\u001b[0m\n\u001b[0;32m    812\u001b[0m                             \u001b[1;31m# work-around for merge_asof(right_index=True)\u001b[0m\u001b[1;33m\u001b[0m\u001b[1;33m\u001b[0m\u001b[0m\n",
      "\u001b[1;32mC:\\Users\\VIPLAB\\AppData\\Local\\conda\\conda\\envs\\py36\\lib\\site-packages\\pandas\\core\\frame.py\u001b[0m in \u001b[0;36m__getitem__\u001b[1;34m(self, key)\u001b[0m\n\u001b[0;32m   2060\u001b[0m             \u001b[1;32mreturn\u001b[0m \u001b[0mself\u001b[0m\u001b[1;33m.\u001b[0m\u001b[0m_getitem_multilevel\u001b[0m\u001b[1;33m(\u001b[0m\u001b[0mkey\u001b[0m\u001b[1;33m)\u001b[0m\u001b[1;33m\u001b[0m\u001b[0m\n\u001b[0;32m   2061\u001b[0m         \u001b[1;32melse\u001b[0m\u001b[1;33m:\u001b[0m\u001b[1;33m\u001b[0m\u001b[0m\n\u001b[1;32m-> 2062\u001b[1;33m             \u001b[1;32mreturn\u001b[0m \u001b[0mself\u001b[0m\u001b[1;33m.\u001b[0m\u001b[0m_getitem_column\u001b[0m\u001b[1;33m(\u001b[0m\u001b[0mkey\u001b[0m\u001b[1;33m)\u001b[0m\u001b[1;33m\u001b[0m\u001b[0m\n\u001b[0m\u001b[0;32m   2063\u001b[0m \u001b[1;33m\u001b[0m\u001b[0m\n\u001b[0;32m   2064\u001b[0m     \u001b[1;32mdef\u001b[0m \u001b[0m_getitem_column\u001b[0m\u001b[1;33m(\u001b[0m\u001b[0mself\u001b[0m\u001b[1;33m,\u001b[0m \u001b[0mkey\u001b[0m\u001b[1;33m)\u001b[0m\u001b[1;33m:\u001b[0m\u001b[1;33m\u001b[0m\u001b[0m\n",
      "\u001b[1;32mC:\\Users\\VIPLAB\\AppData\\Local\\conda\\conda\\envs\\py36\\lib\\site-packages\\pandas\\core\\frame.py\u001b[0m in \u001b[0;36m_getitem_column\u001b[1;34m(self, key)\u001b[0m\n\u001b[0;32m   2067\u001b[0m         \u001b[1;31m# get column\u001b[0m\u001b[1;33m\u001b[0m\u001b[1;33m\u001b[0m\u001b[0m\n\u001b[0;32m   2068\u001b[0m         \u001b[1;32mif\u001b[0m \u001b[0mself\u001b[0m\u001b[1;33m.\u001b[0m\u001b[0mcolumns\u001b[0m\u001b[1;33m.\u001b[0m\u001b[0mis_unique\u001b[0m\u001b[1;33m:\u001b[0m\u001b[1;33m\u001b[0m\u001b[0m\n\u001b[1;32m-> 2069\u001b[1;33m             \u001b[1;32mreturn\u001b[0m \u001b[0mself\u001b[0m\u001b[1;33m.\u001b[0m\u001b[0m_get_item_cache\u001b[0m\u001b[1;33m(\u001b[0m\u001b[0mkey\u001b[0m\u001b[1;33m)\u001b[0m\u001b[1;33m\u001b[0m\u001b[0m\n\u001b[0m\u001b[0;32m   2070\u001b[0m \u001b[1;33m\u001b[0m\u001b[0m\n\u001b[0;32m   2071\u001b[0m         \u001b[1;31m# duplicate columns & possible reduce dimensionality\u001b[0m\u001b[1;33m\u001b[0m\u001b[1;33m\u001b[0m\u001b[0m\n",
      "\u001b[1;32mC:\\Users\\VIPLAB\\AppData\\Local\\conda\\conda\\envs\\py36\\lib\\site-packages\\pandas\\core\\generic.py\u001b[0m in \u001b[0;36m_get_item_cache\u001b[1;34m(self, item)\u001b[0m\n\u001b[0;32m   1532\u001b[0m         \u001b[0mres\u001b[0m \u001b[1;33m=\u001b[0m \u001b[0mcache\u001b[0m\u001b[1;33m.\u001b[0m\u001b[0mget\u001b[0m\u001b[1;33m(\u001b[0m\u001b[0mitem\u001b[0m\u001b[1;33m)\u001b[0m\u001b[1;33m\u001b[0m\u001b[0m\n\u001b[0;32m   1533\u001b[0m         \u001b[1;32mif\u001b[0m \u001b[0mres\u001b[0m \u001b[1;32mis\u001b[0m \u001b[1;32mNone\u001b[0m\u001b[1;33m:\u001b[0m\u001b[1;33m\u001b[0m\u001b[0m\n\u001b[1;32m-> 1534\u001b[1;33m             \u001b[0mvalues\u001b[0m \u001b[1;33m=\u001b[0m \u001b[0mself\u001b[0m\u001b[1;33m.\u001b[0m\u001b[0m_data\u001b[0m\u001b[1;33m.\u001b[0m\u001b[0mget\u001b[0m\u001b[1;33m(\u001b[0m\u001b[0mitem\u001b[0m\u001b[1;33m)\u001b[0m\u001b[1;33m\u001b[0m\u001b[0m\n\u001b[0m\u001b[0;32m   1535\u001b[0m             \u001b[0mres\u001b[0m \u001b[1;33m=\u001b[0m \u001b[0mself\u001b[0m\u001b[1;33m.\u001b[0m\u001b[0m_box_item_values\u001b[0m\u001b[1;33m(\u001b[0m\u001b[0mitem\u001b[0m\u001b[1;33m,\u001b[0m \u001b[0mvalues\u001b[0m\u001b[1;33m)\u001b[0m\u001b[1;33m\u001b[0m\u001b[0m\n\u001b[0;32m   1536\u001b[0m             \u001b[0mcache\u001b[0m\u001b[1;33m[\u001b[0m\u001b[0mitem\u001b[0m\u001b[1;33m]\u001b[0m \u001b[1;33m=\u001b[0m \u001b[0mres\u001b[0m\u001b[1;33m\u001b[0m\u001b[0m\n",
      "\u001b[1;32mC:\\Users\\VIPLAB\\AppData\\Local\\conda\\conda\\envs\\py36\\lib\\site-packages\\pandas\\core\\internals.py\u001b[0m in \u001b[0;36mget\u001b[1;34m(self, item, fastpath)\u001b[0m\n\u001b[0;32m   3588\u001b[0m \u001b[1;33m\u001b[0m\u001b[0m\n\u001b[0;32m   3589\u001b[0m             \u001b[1;32mif\u001b[0m \u001b[1;32mnot\u001b[0m \u001b[0misnull\u001b[0m\u001b[1;33m(\u001b[0m\u001b[0mitem\u001b[0m\u001b[1;33m)\u001b[0m\u001b[1;33m:\u001b[0m\u001b[1;33m\u001b[0m\u001b[0m\n\u001b[1;32m-> 3590\u001b[1;33m                 \u001b[0mloc\u001b[0m \u001b[1;33m=\u001b[0m \u001b[0mself\u001b[0m\u001b[1;33m.\u001b[0m\u001b[0mitems\u001b[0m\u001b[1;33m.\u001b[0m\u001b[0mget_loc\u001b[0m\u001b[1;33m(\u001b[0m\u001b[0mitem\u001b[0m\u001b[1;33m)\u001b[0m\u001b[1;33m\u001b[0m\u001b[0m\n\u001b[0m\u001b[0;32m   3591\u001b[0m             \u001b[1;32melse\u001b[0m\u001b[1;33m:\u001b[0m\u001b[1;33m\u001b[0m\u001b[0m\n\u001b[0;32m   3592\u001b[0m                 \u001b[0mindexer\u001b[0m \u001b[1;33m=\u001b[0m \u001b[0mnp\u001b[0m\u001b[1;33m.\u001b[0m\u001b[0marange\u001b[0m\u001b[1;33m(\u001b[0m\u001b[0mlen\u001b[0m\u001b[1;33m(\u001b[0m\u001b[0mself\u001b[0m\u001b[1;33m.\u001b[0m\u001b[0mitems\u001b[0m\u001b[1;33m)\u001b[0m\u001b[1;33m)\u001b[0m\u001b[1;33m[\u001b[0m\u001b[0misnull\u001b[0m\u001b[1;33m(\u001b[0m\u001b[0mself\u001b[0m\u001b[1;33m.\u001b[0m\u001b[0mitems\u001b[0m\u001b[1;33m)\u001b[0m\u001b[1;33m]\u001b[0m\u001b[1;33m\u001b[0m\u001b[0m\n",
      "\u001b[1;32mC:\\Users\\VIPLAB\\AppData\\Local\\conda\\conda\\envs\\py36\\lib\\site-packages\\pandas\\core\\indexes\\base.py\u001b[0m in \u001b[0;36mget_loc\u001b[1;34m(self, key, method, tolerance)\u001b[0m\n\u001b[0;32m   2393\u001b[0m                 \u001b[1;32mreturn\u001b[0m \u001b[0mself\u001b[0m\u001b[1;33m.\u001b[0m\u001b[0m_engine\u001b[0m\u001b[1;33m.\u001b[0m\u001b[0mget_loc\u001b[0m\u001b[1;33m(\u001b[0m\u001b[0mkey\u001b[0m\u001b[1;33m)\u001b[0m\u001b[1;33m\u001b[0m\u001b[0m\n\u001b[0;32m   2394\u001b[0m             \u001b[1;32mexcept\u001b[0m \u001b[0mKeyError\u001b[0m\u001b[1;33m:\u001b[0m\u001b[1;33m\u001b[0m\u001b[0m\n\u001b[1;32m-> 2395\u001b[1;33m                 \u001b[1;32mreturn\u001b[0m \u001b[0mself\u001b[0m\u001b[1;33m.\u001b[0m\u001b[0m_engine\u001b[0m\u001b[1;33m.\u001b[0m\u001b[0mget_loc\u001b[0m\u001b[1;33m(\u001b[0m\u001b[0mself\u001b[0m\u001b[1;33m.\u001b[0m\u001b[0m_maybe_cast_indexer\u001b[0m\u001b[1;33m(\u001b[0m\u001b[0mkey\u001b[0m\u001b[1;33m)\u001b[0m\u001b[1;33m)\u001b[0m\u001b[1;33m\u001b[0m\u001b[0m\n\u001b[0m\u001b[0;32m   2396\u001b[0m \u001b[1;33m\u001b[0m\u001b[0m\n\u001b[0;32m   2397\u001b[0m         \u001b[0mindexer\u001b[0m \u001b[1;33m=\u001b[0m \u001b[0mself\u001b[0m\u001b[1;33m.\u001b[0m\u001b[0mget_indexer\u001b[0m\u001b[1;33m(\u001b[0m\u001b[1;33m[\u001b[0m\u001b[0mkey\u001b[0m\u001b[1;33m]\u001b[0m\u001b[1;33m,\u001b[0m \u001b[0mmethod\u001b[0m\u001b[1;33m=\u001b[0m\u001b[0mmethod\u001b[0m\u001b[1;33m,\u001b[0m \u001b[0mtolerance\u001b[0m\u001b[1;33m=\u001b[0m\u001b[0mtolerance\u001b[0m\u001b[1;33m)\u001b[0m\u001b[1;33m\u001b[0m\u001b[0m\n",
      "\u001b[1;32mpandas\\_libs\\index.pyx\u001b[0m in \u001b[0;36mpandas._libs.index.IndexEngine.get_loc (pandas\\_libs\\index.c:5239)\u001b[1;34m()\u001b[0m\n",
      "\u001b[1;32mpandas\\_libs\\index.pyx\u001b[0m in \u001b[0;36mpandas._libs.index.IndexEngine.get_loc (pandas\\_libs\\index.c:5085)\u001b[1;34m()\u001b[0m\n",
      "\u001b[1;32mpandas\\_libs\\hashtable_class_helper.pxi\u001b[0m in \u001b[0;36mpandas._libs.hashtable.PyObjectHashTable.get_item (pandas\\_libs\\hashtable.c:20405)\u001b[1;34m()\u001b[0m\n",
      "\u001b[1;32mpandas\\_libs\\hashtable_class_helper.pxi\u001b[0m in \u001b[0;36mpandas._libs.hashtable.PyObjectHashTable.get_item (pandas\\_libs\\hashtable.c:20359)\u001b[1;34m()\u001b[0m\n",
      "\u001b[1;31mKeyError\u001b[0m: 'MINING_DW_SUBSCR_NO'"
     ]
    }
   ],
   "source": [
    "user_df = pd.merge(user_df, group_df, on='MINING_DW_SUBSCR_NO', how='inner')\n"
   ]
  },
  {
   "cell_type": "code",
   "execution_count": null,
   "metadata": {
    "collapsed": true
   },
   "outputs": [],
   "source": [
    "save_dataframe(user_df, path + filename + \"_group11\")"
   ]
  },
  {
   "cell_type": "code",
   "execution_count": null,
   "metadata": {
    "collapsed": true
   },
   "outputs": [],
   "source": []
  },
  {
   "cell_type": "code",
   "execution_count": null,
   "metadata": {
    "collapsed": true
   },
   "outputs": [],
   "source": []
  },
  {
   "cell_type": "code",
   "execution_count": null,
   "metadata": {
    "collapsed": true
   },
   "outputs": [],
   "source": []
  },
  {
   "cell_type": "code",
   "execution_count": null,
   "metadata": {
    "collapsed": true
   },
   "outputs": [],
   "source": []
  },
  {
   "cell_type": "code",
   "execution_count": null,
   "metadata": {
    "collapsed": true
   },
   "outputs": [],
   "source": []
  },
  {
   "cell_type": "code",
   "execution_count": null,
   "metadata": {
    "collapsed": true
   },
   "outputs": [],
   "source": []
  },
  {
   "cell_type": "code",
   "execution_count": 10,
   "metadata": {},
   "outputs": [
    {
     "ename": "KeyError",
     "evalue": "'MINING_DW_SUBSCR_NO'",
     "output_type": "error",
     "traceback": [
      "\u001b[1;31m---------------------------------------------------------------------------\u001b[0m",
      "\u001b[1;31mKeyError\u001b[0m                                  Traceback (most recent call last)",
      "\u001b[1;32mC:\\Users\\VIPLAB\\AppData\\Local\\conda\\conda\\envs\\py36\\lib\\site-packages\\pandas\\core\\indexes\\base.py\u001b[0m in \u001b[0;36mget_loc\u001b[1;34m(self, key, method, tolerance)\u001b[0m\n\u001b[0;32m   2392\u001b[0m             \u001b[1;32mtry\u001b[0m\u001b[1;33m:\u001b[0m\u001b[1;33m\u001b[0m\u001b[0m\n\u001b[1;32m-> 2393\u001b[1;33m                 \u001b[1;32mreturn\u001b[0m \u001b[0mself\u001b[0m\u001b[1;33m.\u001b[0m\u001b[0m_engine\u001b[0m\u001b[1;33m.\u001b[0m\u001b[0mget_loc\u001b[0m\u001b[1;33m(\u001b[0m\u001b[0mkey\u001b[0m\u001b[1;33m)\u001b[0m\u001b[1;33m\u001b[0m\u001b[0m\n\u001b[0m\u001b[0;32m   2394\u001b[0m             \u001b[1;32mexcept\u001b[0m \u001b[0mKeyError\u001b[0m\u001b[1;33m:\u001b[0m\u001b[1;33m\u001b[0m\u001b[0m\n",
      "\u001b[1;32mpandas\\_libs\\index.pyx\u001b[0m in \u001b[0;36mpandas._libs.index.IndexEngine.get_loc (pandas\\_libs\\index.c:5239)\u001b[1;34m()\u001b[0m\n",
      "\u001b[1;32mpandas\\_libs\\index.pyx\u001b[0m in \u001b[0;36mpandas._libs.index.IndexEngine.get_loc (pandas\\_libs\\index.c:5085)\u001b[1;34m()\u001b[0m\n",
      "\u001b[1;32mpandas\\_libs\\hashtable_class_helper.pxi\u001b[0m in \u001b[0;36mpandas._libs.hashtable.PyObjectHashTable.get_item (pandas\\_libs\\hashtable.c:20405)\u001b[1;34m()\u001b[0m\n",
      "\u001b[1;32mpandas\\_libs\\hashtable_class_helper.pxi\u001b[0m in \u001b[0;36mpandas._libs.hashtable.PyObjectHashTable.get_item (pandas\\_libs\\hashtable.c:20359)\u001b[1;34m()\u001b[0m\n",
      "\u001b[1;31mKeyError\u001b[0m: 'MINING_DW_SUBSCR_NO'",
      "\nDuring handling of the above exception, another exception occurred:\n",
      "\u001b[1;31mKeyError\u001b[0m                                  Traceback (most recent call last)",
      "\u001b[1;32m<ipython-input-10-2e66ac29697f>\u001b[0m in \u001b[0;36m<module>\u001b[1;34m()\u001b[0m\n\u001b[0;32m      2\u001b[0m \u001b[1;33m\u001b[0m\u001b[0m\n\u001b[0;32m      3\u001b[0m \u001b[1;31m# user_df.sort_values([\"AGE\"], inplace = True)\u001b[0m\u001b[1;33m\u001b[0m\u001b[1;33m\u001b[0m\u001b[0m\n\u001b[1;32m----> 4\u001b[1;33m \u001b[0muser_df\u001b[0m \u001b[1;33m=\u001b[0m \u001b[0muser_df\u001b[0m\u001b[1;33m.\u001b[0m\u001b[0mset_index\u001b[0m\u001b[1;33m(\u001b[0m\u001b[1;34m\"MINING_DW_SUBSCR_NO\"\u001b[0m\u001b[1;33m)\u001b[0m\u001b[1;33m\u001b[0m\u001b[0m\n\u001b[0m\u001b[0;32m      5\u001b[0m \u001b[0muser_df\u001b[0m\u001b[1;33m.\u001b[0m\u001b[0msort_index\u001b[0m\u001b[1;33m(\u001b[0m\u001b[0minplace\u001b[0m \u001b[1;33m=\u001b[0m \u001b[1;32mTrue\u001b[0m\u001b[1;33m)\u001b[0m\u001b[1;33m\u001b[0m\u001b[0m\n\u001b[0;32m      6\u001b[0m \u001b[1;33m\u001b[0m\u001b[0m\n",
      "\u001b[1;32mC:\\Users\\VIPLAB\\AppData\\Local\\conda\\conda\\envs\\py36\\lib\\site-packages\\pandas\\core\\frame.py\u001b[0m in \u001b[0;36mset_index\u001b[1;34m(self, keys, drop, append, inplace, verify_integrity)\u001b[0m\n\u001b[0;32m   2926\u001b[0m                 \u001b[0mnames\u001b[0m\u001b[1;33m.\u001b[0m\u001b[0mappend\u001b[0m\u001b[1;33m(\u001b[0m\u001b[1;32mNone\u001b[0m\u001b[1;33m)\u001b[0m\u001b[1;33m\u001b[0m\u001b[0m\n\u001b[0;32m   2927\u001b[0m             \u001b[1;32melse\u001b[0m\u001b[1;33m:\u001b[0m\u001b[1;33m\u001b[0m\u001b[0m\n\u001b[1;32m-> 2928\u001b[1;33m                 \u001b[0mlevel\u001b[0m \u001b[1;33m=\u001b[0m \u001b[0mframe\u001b[0m\u001b[1;33m[\u001b[0m\u001b[0mcol\u001b[0m\u001b[1;33m]\u001b[0m\u001b[1;33m.\u001b[0m\u001b[0m_values\u001b[0m\u001b[1;33m\u001b[0m\u001b[0m\n\u001b[0m\u001b[0;32m   2929\u001b[0m                 \u001b[0mnames\u001b[0m\u001b[1;33m.\u001b[0m\u001b[0mappend\u001b[0m\u001b[1;33m(\u001b[0m\u001b[0mcol\u001b[0m\u001b[1;33m)\u001b[0m\u001b[1;33m\u001b[0m\u001b[0m\n\u001b[0;32m   2930\u001b[0m                 \u001b[1;32mif\u001b[0m \u001b[0mdrop\u001b[0m\u001b[1;33m:\u001b[0m\u001b[1;33m\u001b[0m\u001b[0m\n",
      "\u001b[1;32mC:\\Users\\VIPLAB\\AppData\\Local\\conda\\conda\\envs\\py36\\lib\\site-packages\\pandas\\core\\frame.py\u001b[0m in \u001b[0;36m__getitem__\u001b[1;34m(self, key)\u001b[0m\n\u001b[0;32m   2060\u001b[0m             \u001b[1;32mreturn\u001b[0m \u001b[0mself\u001b[0m\u001b[1;33m.\u001b[0m\u001b[0m_getitem_multilevel\u001b[0m\u001b[1;33m(\u001b[0m\u001b[0mkey\u001b[0m\u001b[1;33m)\u001b[0m\u001b[1;33m\u001b[0m\u001b[0m\n\u001b[0;32m   2061\u001b[0m         \u001b[1;32melse\u001b[0m\u001b[1;33m:\u001b[0m\u001b[1;33m\u001b[0m\u001b[0m\n\u001b[1;32m-> 2062\u001b[1;33m             \u001b[1;32mreturn\u001b[0m \u001b[0mself\u001b[0m\u001b[1;33m.\u001b[0m\u001b[0m_getitem_column\u001b[0m\u001b[1;33m(\u001b[0m\u001b[0mkey\u001b[0m\u001b[1;33m)\u001b[0m\u001b[1;33m\u001b[0m\u001b[0m\n\u001b[0m\u001b[0;32m   2063\u001b[0m \u001b[1;33m\u001b[0m\u001b[0m\n\u001b[0;32m   2064\u001b[0m     \u001b[1;32mdef\u001b[0m \u001b[0m_getitem_column\u001b[0m\u001b[1;33m(\u001b[0m\u001b[0mself\u001b[0m\u001b[1;33m,\u001b[0m \u001b[0mkey\u001b[0m\u001b[1;33m)\u001b[0m\u001b[1;33m:\u001b[0m\u001b[1;33m\u001b[0m\u001b[0m\n",
      "\u001b[1;32mC:\\Users\\VIPLAB\\AppData\\Local\\conda\\conda\\envs\\py36\\lib\\site-packages\\pandas\\core\\frame.py\u001b[0m in \u001b[0;36m_getitem_column\u001b[1;34m(self, key)\u001b[0m\n\u001b[0;32m   2067\u001b[0m         \u001b[1;31m# get column\u001b[0m\u001b[1;33m\u001b[0m\u001b[1;33m\u001b[0m\u001b[0m\n\u001b[0;32m   2068\u001b[0m         \u001b[1;32mif\u001b[0m \u001b[0mself\u001b[0m\u001b[1;33m.\u001b[0m\u001b[0mcolumns\u001b[0m\u001b[1;33m.\u001b[0m\u001b[0mis_unique\u001b[0m\u001b[1;33m:\u001b[0m\u001b[1;33m\u001b[0m\u001b[0m\n\u001b[1;32m-> 2069\u001b[1;33m             \u001b[1;32mreturn\u001b[0m \u001b[0mself\u001b[0m\u001b[1;33m.\u001b[0m\u001b[0m_get_item_cache\u001b[0m\u001b[1;33m(\u001b[0m\u001b[0mkey\u001b[0m\u001b[1;33m)\u001b[0m\u001b[1;33m\u001b[0m\u001b[0m\n\u001b[0m\u001b[0;32m   2070\u001b[0m \u001b[1;33m\u001b[0m\u001b[0m\n\u001b[0;32m   2071\u001b[0m         \u001b[1;31m# duplicate columns & possible reduce dimensionality\u001b[0m\u001b[1;33m\u001b[0m\u001b[1;33m\u001b[0m\u001b[0m\n",
      "\u001b[1;32mC:\\Users\\VIPLAB\\AppData\\Local\\conda\\conda\\envs\\py36\\lib\\site-packages\\pandas\\core\\generic.py\u001b[0m in \u001b[0;36m_get_item_cache\u001b[1;34m(self, item)\u001b[0m\n\u001b[0;32m   1532\u001b[0m         \u001b[0mres\u001b[0m \u001b[1;33m=\u001b[0m \u001b[0mcache\u001b[0m\u001b[1;33m.\u001b[0m\u001b[0mget\u001b[0m\u001b[1;33m(\u001b[0m\u001b[0mitem\u001b[0m\u001b[1;33m)\u001b[0m\u001b[1;33m\u001b[0m\u001b[0m\n\u001b[0;32m   1533\u001b[0m         \u001b[1;32mif\u001b[0m \u001b[0mres\u001b[0m \u001b[1;32mis\u001b[0m \u001b[1;32mNone\u001b[0m\u001b[1;33m:\u001b[0m\u001b[1;33m\u001b[0m\u001b[0m\n\u001b[1;32m-> 1534\u001b[1;33m             \u001b[0mvalues\u001b[0m \u001b[1;33m=\u001b[0m \u001b[0mself\u001b[0m\u001b[1;33m.\u001b[0m\u001b[0m_data\u001b[0m\u001b[1;33m.\u001b[0m\u001b[0mget\u001b[0m\u001b[1;33m(\u001b[0m\u001b[0mitem\u001b[0m\u001b[1;33m)\u001b[0m\u001b[1;33m\u001b[0m\u001b[0m\n\u001b[0m\u001b[0;32m   1535\u001b[0m             \u001b[0mres\u001b[0m \u001b[1;33m=\u001b[0m \u001b[0mself\u001b[0m\u001b[1;33m.\u001b[0m\u001b[0m_box_item_values\u001b[0m\u001b[1;33m(\u001b[0m\u001b[0mitem\u001b[0m\u001b[1;33m,\u001b[0m \u001b[0mvalues\u001b[0m\u001b[1;33m)\u001b[0m\u001b[1;33m\u001b[0m\u001b[0m\n\u001b[0;32m   1536\u001b[0m             \u001b[0mcache\u001b[0m\u001b[1;33m[\u001b[0m\u001b[0mitem\u001b[0m\u001b[1;33m]\u001b[0m \u001b[1;33m=\u001b[0m \u001b[0mres\u001b[0m\u001b[1;33m\u001b[0m\u001b[0m\n",
      "\u001b[1;32mC:\\Users\\VIPLAB\\AppData\\Local\\conda\\conda\\envs\\py36\\lib\\site-packages\\pandas\\core\\internals.py\u001b[0m in \u001b[0;36mget\u001b[1;34m(self, item, fastpath)\u001b[0m\n\u001b[0;32m   3588\u001b[0m \u001b[1;33m\u001b[0m\u001b[0m\n\u001b[0;32m   3589\u001b[0m             \u001b[1;32mif\u001b[0m \u001b[1;32mnot\u001b[0m \u001b[0misnull\u001b[0m\u001b[1;33m(\u001b[0m\u001b[0mitem\u001b[0m\u001b[1;33m)\u001b[0m\u001b[1;33m:\u001b[0m\u001b[1;33m\u001b[0m\u001b[0m\n\u001b[1;32m-> 3590\u001b[1;33m                 \u001b[0mloc\u001b[0m \u001b[1;33m=\u001b[0m \u001b[0mself\u001b[0m\u001b[1;33m.\u001b[0m\u001b[0mitems\u001b[0m\u001b[1;33m.\u001b[0m\u001b[0mget_loc\u001b[0m\u001b[1;33m(\u001b[0m\u001b[0mitem\u001b[0m\u001b[1;33m)\u001b[0m\u001b[1;33m\u001b[0m\u001b[0m\n\u001b[0m\u001b[0;32m   3591\u001b[0m             \u001b[1;32melse\u001b[0m\u001b[1;33m:\u001b[0m\u001b[1;33m\u001b[0m\u001b[0m\n\u001b[0;32m   3592\u001b[0m                 \u001b[0mindexer\u001b[0m \u001b[1;33m=\u001b[0m \u001b[0mnp\u001b[0m\u001b[1;33m.\u001b[0m\u001b[0marange\u001b[0m\u001b[1;33m(\u001b[0m\u001b[0mlen\u001b[0m\u001b[1;33m(\u001b[0m\u001b[0mself\u001b[0m\u001b[1;33m.\u001b[0m\u001b[0mitems\u001b[0m\u001b[1;33m)\u001b[0m\u001b[1;33m)\u001b[0m\u001b[1;33m[\u001b[0m\u001b[0misnull\u001b[0m\u001b[1;33m(\u001b[0m\u001b[0mself\u001b[0m\u001b[1;33m.\u001b[0m\u001b[0mitems\u001b[0m\u001b[1;33m)\u001b[0m\u001b[1;33m]\u001b[0m\u001b[1;33m\u001b[0m\u001b[0m\n",
      "\u001b[1;32mC:\\Users\\VIPLAB\\AppData\\Local\\conda\\conda\\envs\\py36\\lib\\site-packages\\pandas\\core\\indexes\\base.py\u001b[0m in \u001b[0;36mget_loc\u001b[1;34m(self, key, method, tolerance)\u001b[0m\n\u001b[0;32m   2393\u001b[0m                 \u001b[1;32mreturn\u001b[0m \u001b[0mself\u001b[0m\u001b[1;33m.\u001b[0m\u001b[0m_engine\u001b[0m\u001b[1;33m.\u001b[0m\u001b[0mget_loc\u001b[0m\u001b[1;33m(\u001b[0m\u001b[0mkey\u001b[0m\u001b[1;33m)\u001b[0m\u001b[1;33m\u001b[0m\u001b[0m\n\u001b[0;32m   2394\u001b[0m             \u001b[1;32mexcept\u001b[0m \u001b[0mKeyError\u001b[0m\u001b[1;33m:\u001b[0m\u001b[1;33m\u001b[0m\u001b[0m\n\u001b[1;32m-> 2395\u001b[1;33m                 \u001b[1;32mreturn\u001b[0m \u001b[0mself\u001b[0m\u001b[1;33m.\u001b[0m\u001b[0m_engine\u001b[0m\u001b[1;33m.\u001b[0m\u001b[0mget_loc\u001b[0m\u001b[1;33m(\u001b[0m\u001b[0mself\u001b[0m\u001b[1;33m.\u001b[0m\u001b[0m_maybe_cast_indexer\u001b[0m\u001b[1;33m(\u001b[0m\u001b[0mkey\u001b[0m\u001b[1;33m)\u001b[0m\u001b[1;33m)\u001b[0m\u001b[1;33m\u001b[0m\u001b[0m\n\u001b[0m\u001b[0;32m   2396\u001b[0m \u001b[1;33m\u001b[0m\u001b[0m\n\u001b[0;32m   2397\u001b[0m         \u001b[0mindexer\u001b[0m \u001b[1;33m=\u001b[0m \u001b[0mself\u001b[0m\u001b[1;33m.\u001b[0m\u001b[0mget_indexer\u001b[0m\u001b[1;33m(\u001b[0m\u001b[1;33m[\u001b[0m\u001b[0mkey\u001b[0m\u001b[1;33m]\u001b[0m\u001b[1;33m,\u001b[0m \u001b[0mmethod\u001b[0m\u001b[1;33m=\u001b[0m\u001b[0mmethod\u001b[0m\u001b[1;33m,\u001b[0m \u001b[0mtolerance\u001b[0m\u001b[1;33m=\u001b[0m\u001b[0mtolerance\u001b[0m\u001b[1;33m)\u001b[0m\u001b[1;33m\u001b[0m\u001b[0m\n",
      "\u001b[1;32mpandas\\_libs\\index.pyx\u001b[0m in \u001b[0;36mpandas._libs.index.IndexEngine.get_loc (pandas\\_libs\\index.c:5239)\u001b[1;34m()\u001b[0m\n",
      "\u001b[1;32mpandas\\_libs\\index.pyx\u001b[0m in \u001b[0;36mpandas._libs.index.IndexEngine.get_loc (pandas\\_libs\\index.c:5085)\u001b[1;34m()\u001b[0m\n",
      "\u001b[1;32mpandas\\_libs\\hashtable_class_helper.pxi\u001b[0m in \u001b[0;36mpandas._libs.hashtable.PyObjectHashTable.get_item (pandas\\_libs\\hashtable.c:20405)\u001b[1;34m()\u001b[0m\n",
      "\u001b[1;32mpandas\\_libs\\hashtable_class_helper.pxi\u001b[0m in \u001b[0;36mpandas._libs.hashtable.PyObjectHashTable.get_item (pandas\\_libs\\hashtable.c:20359)\u001b[1;34m()\u001b[0m\n",
      "\u001b[1;31mKeyError\u001b[0m: 'MINING_DW_SUBSCR_NO'"
     ]
    }
   ],
   "source": [
    "users_count = len(user_df)\n",
    "\n",
    "# user_df.sort_values([\"AGE\"], inplace = True)\n",
    "user_df = user_df.set_index(\"MINING_DW_SUBSCR_NO\")\n",
    "user_df.sort_index(inplace = True)\n",
    "\n",
    "# user_df[\"Groups\"] = np.nan\n",
    "# user_df[\"label\"] = np.nan\n",
    "user_df[\"Groups\"] = np.nan\n",
    "# user_df[\"label\"] = user_df[\"label\"].apply(np.int64)\n"
   ]
  },
  {
   "cell_type": "markdown",
   "metadata": {},
   "source": [
    "# paste all group\n"
   ]
  },
  {
   "cell_type": "code",
   "execution_count": 21,
   "metadata": {},
   "outputs": [
    {
     "name": "stdout",
     "output_type": "stream",
     "text": [
      "filename = ./kid\\table_with_kid_1.csv , Groups = 1\n",
      "group_name = 1\n",
      "len(label_df[Groups]) = 407597\n"
     ]
    },
    {
     "name": "stderr",
     "output_type": "stream",
     "text": [
      "C:\\ProgramData\\Anaconda3\\lib\\site-packages\\pandas\\core\\frame.py:3863: SettingWithCopyWarning: \n",
      "A value is trying to be set on a copy of a slice from a DataFrame.\n",
      "Try using .loc[row_indexer,col_indexer] = value instead\n",
      "\n",
      "See the caveats in the documentation: http://pandas.pydata.org/pandas-docs/stable/indexing.html#indexing-view-versus-copy\n",
      "  raise_on_error=True)\n"
     ]
    },
    {
     "name": "stdout",
     "output_type": "stream",
     "text": [
      "filename = ./kid\\table_with_kid_2.csv , Groups = 2\n",
      "group_name = 2\n",
      "len(label_df[Groups]) = 184644\n",
      "filename = ./kid\\table_with_kid_3.csv , Groups = 3\n",
      "group_name = 3\n",
      "len(label_df[Groups]) = 105809\n",
      "filename = ./kid\\table_with_kid_4.csv , Groups = 4\n",
      "group_name = 4\n",
      "len(label_df[Groups]) = 116958\n",
      "filename = ./kid\\table_with_kid_5.csv , Groups = 5\n",
      "group_name = 5\n",
      "len(label_df[Groups]) = 110474\n",
      "filename = ./kid\\table_with_kid_6.csv , Groups = 6\n",
      "group_name = 6\n",
      "len(label_df[Groups]) = 146047\n",
      "filename = ./kid\\table_with_kid_7.csv , Groups = 7\n",
      "group_name = 7\n",
      "len(label_df[Groups]) = 164149\n",
      "filename = ./kid\\table_with_kid_8.csv , Groups = 8\n",
      "group_name = 8\n",
      "len(label_df[Groups]) = 490166\n",
      "filename = ./kid\\table_with_kid_None.csv , Groups = None\n",
      "group_name = None\n",
      "len(label_df[Groups]) = 531990\n",
      "filename = ./kid\\table_with_kid_seldom.csv , Groups = seldom\n",
      "group_name = seldom\n",
      "len(label_df[Groups]) = 338963\n",
      "filename = ./kid\\test_kid.csv , Groups = kid\n",
      "group_name = kid\n",
      "len(label_df[Groups]) = 7\n",
      "filename = ./kid\\test_single.csv , Groups = single\n",
      "group_name = single\n",
      "len(label_df[Groups]) = 8\n"
     ]
    }
   ],
   "source": [
    "# set configure\n",
    "# path = \"../DATA_FULL/\"\n",
    "path = \"./kid/\"\n",
    "out_path = path\n",
    "for file in glob.glob(path + \"*.csv\"):\n",
    "    keyword = \"_\".join(file.split(\"_\")[-2:]) \n",
    "#     filter .csv\n",
    "    keyword = keyword[:-4]\n",
    "    if(\"kid\" in keyword):\n",
    "        group_name = keyword.split(\"_\")[1].strip()\n",
    "        print(\"filename = %s , Groups = %s\" % (file, group_name))\n",
    "        wants_cols = [\"MINING_DW_SUBSCR_NO\"]\n",
    "        label_df = pd.read_csv(file, error_bad_lines=False, usecols = wants_cols)\n",
    "        print(\"group_name =\", group_name)\n",
    "        label_df[\"Groups\"] = group_name\n",
    "        print(\"len(label_df[Groups]) =\", len(label_df[\"Groups\"]))\n",
    "        label_df = label_df.set_index(\"MINING_DW_SUBSCR_NO\")\n",
    "        label_df.sort_index(inplace = True)\n",
    "        new_user_label = user_df[['Groups']]\n",
    "        new_user_label.update(label_df)\n",
    "        user_df[['Groups']] = new_user_label\n",
    "        \n",
    "   "
   ]
  },
  {
   "cell_type": "code",
   "execution_count": 24,
   "metadata": {},
   "outputs": [
    {
     "name": "stdout",
     "output_type": "stream",
     "text": [
      "2596797\n",
      "490164\n"
     ]
    }
   ],
   "source": [
    "print(len(user_df))\n",
    "print(len(user_df[user_df[\"Groups\"] == \"8\"]))\n"
   ]
  },
  {
   "cell_type": "code",
   "execution_count": 25,
   "metadata": {},
   "outputs": [
    {
     "data": {
      "text/plain": [
       "DATA_MONTH        object\n",
       "AGE               object\n",
       "PTY_CBU_PO_CNT     int64\n",
       "Groups            object\n",
       "dtype: object"
      ]
     },
     "execution_count": 25,
     "metadata": {},
     "output_type": "execute_result"
    }
   ],
   "source": [
    "user_df.dtypes"
   ]
  },
  {
   "cell_type": "code",
   "execution_count": 26,
   "metadata": {},
   "outputs": [
    {
     "name": "stdout",
     "output_type": "stream",
     "text": [
      "time for output csv file: 4.91\n"
     ]
    }
   ],
   "source": [
    "save_dataframe_with_id(user_df, out_path +  \"single_id_age_group_10\")"
   ]
  },
  {
   "cell_type": "code",
   "execution_count": 28,
   "metadata": {},
   "outputs": [
    {
     "name": "stdout",
     "output_type": "stream",
     "text": [
      "origin users_count 2596797\n",
      "current users_count 2596797\n"
     ]
    }
   ],
   "source": [
    "print(\"origin users_count\", users_count)\n",
    "print(\"current users_count\", len(user_df))"
   ]
  },
  {
   "cell_type": "code",
   "execution_count": null,
   "metadata": {
    "collapsed": true
   },
   "outputs": [],
   "source": []
  }
 ],
 "metadata": {
  "kernelspec": {
   "display_name": "Python 3",
   "language": "python",
   "name": "python3"
  },
  "language_info": {
   "codemirror_mode": {
    "name": "ipython",
    "version": 3
   },
   "file_extension": ".py",
   "mimetype": "text/x-python",
   "name": "python",
   "nbconvert_exporter": "python",
   "pygments_lexer": "ipython3",
   "version": "3.5.3"
  }
 },
 "nbformat": 4,
 "nbformat_minor": 2
}
