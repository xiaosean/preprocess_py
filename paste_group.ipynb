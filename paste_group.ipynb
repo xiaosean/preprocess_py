{
 "cells": [
  {
   "cell_type": "code",
   "execution_count": 11,
   "metadata": {
    "collapsed": true
   },
   "outputs": [],
   "source": [
    "import os.path\n",
    "import numpy as np\n",
    "import pandas as pd\n",
    "from time import time\n",
    "from os import listdir\n",
    "import glob\n",
    "from os.path import isfile, join"
   ]
  },
  {
   "cell_type": "code",
   "execution_count": 12,
   "metadata": {
    "collapsed": true
   },
   "outputs": [],
   "source": [
    "def read_csv(filename):\n",
    "    # read revise csv file and print cost time\n",
    "    t0 = time()\n",
    "    df = pd.read_csv(filename, error_bad_lines=False)\n",
    "    print(\"time for read csv: %.2f\" % (time()-t0))\n",
    "    return df"
   ]
  },
  {
   "cell_type": "code",
   "execution_count": 13,
   "metadata": {
    "collapsed": true
   },
   "outputs": [],
   "source": [
    "def file_csv_list(target_path):\n",
    "    return [f for f in listdir(target_path) if isfile(join(target_path, f))]"
   ]
  },
  {
   "cell_type": "code",
   "execution_count": 14,
   "metadata": {
    "collapsed": true
   },
   "outputs": [],
   "source": [
    "def save_dataframe(df, out_filename):\n",
    "   # write to csv and no index\n",
    "    t0 = time()\n",
    "    df.to_csv(out_filename + \".csv\", index=False, encoding='utf-8')\n",
    "#     df.to_csv(out_filename + \".csv\", encoding='utf-8')\n",
    "    print(\"time for output csv file: %.2f\" % (time()-t0))"
   ]
  },
  {
   "cell_type": "code",
   "execution_count": 15,
   "metadata": {
    "collapsed": true
   },
   "outputs": [],
   "source": [
    "def save_dataframe_with_id(df, out_filename):\n",
    "   # write to csv and no index\n",
    "    t0 = time()\n",
    "    df.to_csv(out_filename + \".csv\", encoding='utf-8')\n",
    "#     df.to_csv(out_filename + \".csv\", encoding='utf-8')\n",
    "    print(\"time for output csv file: %.2f\" % (time()-t0))"
   ]
  },
  {
   "cell_type": "markdown",
   "metadata": {},
   "source": [
    "# LOAD MINING USER"
   ]
  },
  {
   "cell_type": "code",
   "execution_count": 16,
   "metadata": {
    "collapsed": true
   },
   "outputs": [],
   "source": [
    "# set configure\n",
    "# path = \"../DATA_FULL/\"\n",
    "# path = \"./\"\n",
    "# filename = \"DNA_KMEANS_RESULT_ID_NEW\"\n",
    "path = \"D:/NEW_DATA_FULL_2017_6_30/\"\n",
    "filename = \"MDS_April_age_SINGLE_SIM_COMPLETED\"\n",
    "# relative_filename = path + filename + \".csv\"\n",
    "relative_filename = path + filename + \".txt\""
   ]
  },
  {
   "cell_type": "code",
   "execution_count": 17,
   "metadata": {
    "collapsed": true
   },
   "outputs": [],
   "source": [
    "# user_df =  pd.read_csv(relative_filename, error_bad_lines=False)\n",
    "user_df =  pd.read_csv(relative_filename, error_bad_lines=False, sep  = '\\t')\n",
    "\n",
    "# user_df = user_df[user_df[\"MINING_DW_SUBSCR_NO\"] != \"MINING_DW_SUBSCR_NO\"]\n",
    "# user_df[\"MINING_DW_SUBSCR_NO\"] = user_df[\"MINING_DW_SUBSCR_NO\"].apply(np.int64)"
   ]
  },
  {
   "cell_type": "code",
   "execution_count": 18,
   "metadata": {
    "collapsed": true
   },
   "outputs": [],
   "source": [
    "users_count = len(user_df)\n",
    "\n",
    "# user_df.sort_values([\"AGE\"], inplace = True)\n",
    "user_df = user_df.set_index(\"MINING_DW_SUBSCR_NO\")\n",
    "user_df.sort_index(inplace = True)\n",
    "\n",
    "# user_df[\"Groups\"] = np.nan\n",
    "# user_df[\"label\"] = np.nan\n",
    "user_df[\"Groups\"] = np.nan\n",
    "# user_df[\"label\"] = user_df[\"label\"].apply(np.int64)\n"
   ]
  },
  {
   "cell_type": "markdown",
   "metadata": {},
   "source": [
    "# paste all group\n"
   ]
  },
  {
   "cell_type": "code",
   "execution_count": 21,
   "metadata": {},
   "outputs": [
    {
     "name": "stdout",
     "output_type": "stream",
     "text": [
      "filename = ./kid\\table_with_kid_1.csv , Groups = 1\n",
      "group_name = 1\n",
      "len(label_df[Groups]) = 407597\n"
     ]
    },
    {
     "name": "stderr",
     "output_type": "stream",
     "text": [
      "C:\\ProgramData\\Anaconda3\\lib\\site-packages\\pandas\\core\\frame.py:3863: SettingWithCopyWarning: \n",
      "A value is trying to be set on a copy of a slice from a DataFrame.\n",
      "Try using .loc[row_indexer,col_indexer] = value instead\n",
      "\n",
      "See the caveats in the documentation: http://pandas.pydata.org/pandas-docs/stable/indexing.html#indexing-view-versus-copy\n",
      "  raise_on_error=True)\n"
     ]
    },
    {
     "name": "stdout",
     "output_type": "stream",
     "text": [
      "filename = ./kid\\table_with_kid_2.csv , Groups = 2\n",
      "group_name = 2\n",
      "len(label_df[Groups]) = 184644\n",
      "filename = ./kid\\table_with_kid_3.csv , Groups = 3\n",
      "group_name = 3\n",
      "len(label_df[Groups]) = 105809\n",
      "filename = ./kid\\table_with_kid_4.csv , Groups = 4\n",
      "group_name = 4\n",
      "len(label_df[Groups]) = 116958\n",
      "filename = ./kid\\table_with_kid_5.csv , Groups = 5\n",
      "group_name = 5\n",
      "len(label_df[Groups]) = 110474\n",
      "filename = ./kid\\table_with_kid_6.csv , Groups = 6\n",
      "group_name = 6\n",
      "len(label_df[Groups]) = 146047\n",
      "filename = ./kid\\table_with_kid_7.csv , Groups = 7\n",
      "group_name = 7\n",
      "len(label_df[Groups]) = 164149\n",
      "filename = ./kid\\table_with_kid_8.csv , Groups = 8\n",
      "group_name = 8\n",
      "len(label_df[Groups]) = 490166\n",
      "filename = ./kid\\table_with_kid_None.csv , Groups = None\n",
      "group_name = None\n",
      "len(label_df[Groups]) = 531990\n",
      "filename = ./kid\\table_with_kid_seldom.csv , Groups = seldom\n",
      "group_name = seldom\n",
      "len(label_df[Groups]) = 338963\n",
      "filename = ./kid\\test_kid.csv , Groups = kid\n",
      "group_name = kid\n",
      "len(label_df[Groups]) = 7\n",
      "filename = ./kid\\test_single.csv , Groups = single\n",
      "group_name = single\n",
      "len(label_df[Groups]) = 8\n"
     ]
    }
   ],
   "source": [
    "# set configure\n",
    "# path = \"../DATA_FULL/\"\n",
    "path = \"./kid/\"\n",
    "out_path = path\n",
    "for file in glob.glob(path + \"*.csv\"):\n",
    "    keyword = \"_\".join(file.split(\"_\")[-2:]) \n",
    "#     filter .csv\n",
    "    keyword = keyword[:-4]\n",
    "    if(\"kid\" in keyword):\n",
    "        group_name = keyword.split(\"_\")[1].strip()\n",
    "        print(\"filename = %s , Groups = %s\" % (file, group_name))\n",
    "        wants_cols = [\"MINING_DW_SUBSCR_NO\"]\n",
    "        label_df = pd.read_csv(file, error_bad_lines=False, usecols = wants_cols)\n",
    "        print(\"group_name =\", group_name)\n",
    "        label_df[\"Groups\"] = group_name\n",
    "        print(\"len(label_df[Groups]) =\", len(label_df[\"Groups\"]))\n",
    "        label_df = label_df.set_index(\"MINING_DW_SUBSCR_NO\")\n",
    "        label_df.sort_index(inplace = True)\n",
    "        new_user_label = user_df[['Groups']]\n",
    "        new_user_label.update(label_df)\n",
    "        user_df[['Groups']] = new_user_label\n",
    "        \n",
    "   "
   ]
  },
  {
   "cell_type": "code",
   "execution_count": 24,
   "metadata": {},
   "outputs": [
    {
     "name": "stdout",
     "output_type": "stream",
     "text": [
      "2596797\n",
      "490164\n"
     ]
    }
   ],
   "source": [
    "print(len(user_df))\n",
    "print(len(user_df[user_df[\"Groups\"] == \"8\"]))\n"
   ]
  },
  {
   "cell_type": "code",
   "execution_count": 25,
   "metadata": {},
   "outputs": [
    {
     "data": {
      "text/plain": [
       "DATA_MONTH        object\n",
       "AGE               object\n",
       "PTY_CBU_PO_CNT     int64\n",
       "Groups            object\n",
       "dtype: object"
      ]
     },
     "execution_count": 25,
     "metadata": {},
     "output_type": "execute_result"
    }
   ],
   "source": [
    "user_df.dtypes"
   ]
  },
  {
   "cell_type": "code",
   "execution_count": 26,
   "metadata": {},
   "outputs": [
    {
     "name": "stdout",
     "output_type": "stream",
     "text": [
      "time for output csv file: 4.91\n"
     ]
    }
   ],
   "source": [
    "save_dataframe_with_id(user_df, out_path +  \"single_id_age_group_10\")"
   ]
  },
  {
   "cell_type": "code",
   "execution_count": 28,
   "metadata": {},
   "outputs": [
    {
     "name": "stdout",
     "output_type": "stream",
     "text": [
      "origin users_count 2596797\n",
      "current users_count 2596797\n"
     ]
    }
   ],
   "source": [
    "print(\"origin users_count\", users_count)\n",
    "print(\"current users_count\", len(user_df))"
   ]
  },
  {
   "cell_type": "code",
   "execution_count": null,
   "metadata": {
    "collapsed": true
   },
   "outputs": [],
   "source": []
  }
 ],
 "metadata": {
  "kernelspec": {
   "display_name": "Python 3",
   "language": "python",
   "name": "python3"
  },
  "language_info": {
   "codemirror_mode": {
    "name": "ipython",
    "version": 3
   },
   "file_extension": ".py",
   "mimetype": "text/x-python",
   "name": "python",
   "nbconvert_exporter": "python",
   "pygments_lexer": "ipython3",
   "version": "3.6.1"
  }
 },
 "nbformat": 4,
 "nbformat_minor": 2
}
