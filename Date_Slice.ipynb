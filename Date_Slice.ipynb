{
 "cells": [
  {
   "cell_type": "code",
   "execution_count": 3,
   "metadata": {
    "collapsed": true
   },
   "outputs": [],
   "source": [
    "import os.path\n",
    "import numpy as np\n",
    "import pandas as pd\n",
    "from time import time"
   ]
  },
  {
   "cell_type": "code",
   "execution_count": 10,
   "metadata": {},
   "outputs": [],
   "source": [
    "# set configure\n",
    "# path = \"../DATA_FULL/\"\n",
    "path = \"./\"\n",
    "\n",
    "filename = \"CDR_MT_WEEK_COMPLETED_revise\"\n",
    "relative_filename = path + filename + \".csv\"\n",
    "out_filename = \"./CDR_MONTHLY/\" + filename + \"_month_\"\n",
    "# after the numeric_st_idx's number will be tranform to int64\n",
    "numeric_st_idx = 2\n",
    "# pick the columns of u wants\n",
    "# wants_cols = ['DATA_MONTH', 'MINING_DW_SUBSCR_NO', 'AGE', \"MO_TTL_DURATION\",\"MO_ONNET_DUR\",\"MO_OFFNET_DUR\",\"PSTN_DUR\",\"MO_TTL_COUNT\",\"MO_ONNET_CNT\",\"MO_OFFNET_CNT\",\"PSTN_CNT\",\"MT_TTL_DURATION\",\"MT_ONNET_DUR\",\"MT_OFFNET_DUR\",\"MT_PSTN_DUR\",\"MT_TTL_COUNT\",\"MT_ONNET_CNT\",\"MT_OFFNET_CNT\",\"MT_PSTN_CNT\",\"MOC_FET_DUR\",\"MOC_TWM_DUR\",\"MOC_CHM_DUR\",\"MOC_OTH_DUR\",\"MOC_PSTN_DUR\",\"MOST_MO_DUR\",\"MTC_FET_DUR\",\"MTC_TWM_DUR\",\"MTC_CHM_DUR\",\"MTC_PSTN_DUR\",\"MOST_MT_DUR\"]"
   ]
  },
  {
   "cell_type": "code",
   "execution_count": 11,
   "metadata": {},
   "outputs": [
    {
     "name": "stdout",
     "output_type": "stream",
     "text": [
      "time for read csv: 18.61\n"
     ]
    }
   ],
   "source": [
    "# read csv file and print cost time\n",
    "t0 = time()\n",
    "# df = pd.read_csv(relative_filename, usecols = wants_cols, error_bad_lines=False)\n",
    "# df = pd.read_csv(relative_filename, error_bad_lines=False, nrows=100)\n",
    "df = pd.read_csv(relative_filename, error_bad_lines=False)\n",
    "print(\"time for read csv: %.2f\" % (time()-t0))"
   ]
  },
  {
   "cell_type": "code",
   "execution_count": 12,
   "metadata": {
    "scrolled": true
   },
   "outputs": [
    {
     "data": {
      "text/html": [
       "<div>\n",
       "<style>\n",
       "    .dataframe thead tr:only-child th {\n",
       "        text-align: right;\n",
       "    }\n",
       "\n",
       "    .dataframe thead th {\n",
       "        text-align: left;\n",
       "    }\n",
       "\n",
       "    .dataframe tbody tr th {\n",
       "        vertical-align: top;\n",
       "    }\n",
       "</style>\n",
       "<table border=\"1\" class=\"dataframe\">\n",
       "  <thead>\n",
       "    <tr style=\"text-align: right;\">\n",
       "      <th></th>\n",
       "      <th>MINING_DW_SUBSCR_NO</th>\n",
       "      <th>VOICE_MONTH</th>\n",
       "      <th>VOICE_MT_SUN_CNT</th>\n",
       "      <th>VOICE_MT_MON_CNT</th>\n",
       "      <th>VOICE_MT_TUE_CNT</th>\n",
       "      <th>VOICE_MT_WED_CNT</th>\n",
       "      <th>VOICE_MT_THU_CNT</th>\n",
       "      <th>VOICE_MT_FRI_CNT</th>\n",
       "      <th>VOICE_MT_SAT_CNT</th>\n",
       "      <th>VOICE_MT_SUN_TIME</th>\n",
       "      <th>VOICE_MT_MON_TIME</th>\n",
       "      <th>VOICE_MT_TUE_TIME</th>\n",
       "      <th>VOICE_MT_WED_TIME</th>\n",
       "      <th>VOICE_MT_THU_TIME</th>\n",
       "      <th>VOICE_MT_FRI_TIME</th>\n",
       "      <th>VOICE_MT_SAT_TIME</th>\n",
       "    </tr>\n",
       "  </thead>\n",
       "  <tbody>\n",
       "    <tr>\n",
       "      <th>0</th>\n",
       "      <td>3122004560</td>\n",
       "      <td>2017/1/1</td>\n",
       "      <td>18</td>\n",
       "      <td>10</td>\n",
       "      <td>21</td>\n",
       "      <td>12</td>\n",
       "      <td>18</td>\n",
       "      <td>7</td>\n",
       "      <td>6</td>\n",
       "      <td>769</td>\n",
       "      <td>1540</td>\n",
       "      <td>1433</td>\n",
       "      <td>537</td>\n",
       "      <td>933</td>\n",
       "      <td>668</td>\n",
       "      <td>241</td>\n",
       "    </tr>\n",
       "    <tr>\n",
       "      <th>1</th>\n",
       "      <td>113343266</td>\n",
       "      <td>2017/1/1</td>\n",
       "      <td>21</td>\n",
       "      <td>7</td>\n",
       "      <td>13</td>\n",
       "      <td>7</td>\n",
       "      <td>9</td>\n",
       "      <td>9</td>\n",
       "      <td>18</td>\n",
       "      <td>668</td>\n",
       "      <td>232</td>\n",
       "      <td>1791</td>\n",
       "      <td>468</td>\n",
       "      <td>543</td>\n",
       "      <td>367</td>\n",
       "      <td>782</td>\n",
       "    </tr>\n",
       "    <tr>\n",
       "      <th>2</th>\n",
       "      <td>3125192737</td>\n",
       "      <td>2017/1/1</td>\n",
       "      <td>2</td>\n",
       "      <td>2</td>\n",
       "      <td>2</td>\n",
       "      <td>6</td>\n",
       "      <td>8</td>\n",
       "      <td>4</td>\n",
       "      <td>2</td>\n",
       "      <td>44</td>\n",
       "      <td>23</td>\n",
       "      <td>26</td>\n",
       "      <td>129</td>\n",
       "      <td>202</td>\n",
       "      <td>58</td>\n",
       "      <td>39</td>\n",
       "    </tr>\n",
       "    <tr>\n",
       "      <th>3</th>\n",
       "      <td>3116849377</td>\n",
       "      <td>2017/1/1</td>\n",
       "      <td>2</td>\n",
       "      <td>3</td>\n",
       "      <td>7</td>\n",
       "      <td>6</td>\n",
       "      <td>2</td>\n",
       "      <td>4</td>\n",
       "      <td>2</td>\n",
       "      <td>55</td>\n",
       "      <td>204</td>\n",
       "      <td>334</td>\n",
       "      <td>150</td>\n",
       "      <td>82</td>\n",
       "      <td>150</td>\n",
       "      <td>122</td>\n",
       "    </tr>\n",
       "    <tr>\n",
       "      <th>4</th>\n",
       "      <td>10001140668</td>\n",
       "      <td>2017/3/1</td>\n",
       "      <td>0</td>\n",
       "      <td>0</td>\n",
       "      <td>0</td>\n",
       "      <td>3</td>\n",
       "      <td>1</td>\n",
       "      <td>1</td>\n",
       "      <td>0</td>\n",
       "      <td>0</td>\n",
       "      <td>0</td>\n",
       "      <td>0</td>\n",
       "      <td>248</td>\n",
       "      <td>340</td>\n",
       "      <td>242</td>\n",
       "      <td>0</td>\n",
       "    </tr>\n",
       "  </tbody>\n",
       "</table>\n",
       "</div>"
      ],
      "text/plain": [
       "   MINING_DW_SUBSCR_NO VOICE_MONTH  VOICE_MT_SUN_CNT  VOICE_MT_MON_CNT  \\\n",
       "0           3122004560    2017/1/1                18                10   \n",
       "1            113343266    2017/1/1                21                 7   \n",
       "2           3125192737    2017/1/1                 2                 2   \n",
       "3           3116849377    2017/1/1                 2                 3   \n",
       "4          10001140668    2017/3/1                 0                 0   \n",
       "\n",
       "   VOICE_MT_TUE_CNT  VOICE_MT_WED_CNT  VOICE_MT_THU_CNT  VOICE_MT_FRI_CNT  \\\n",
       "0                21                12                18                 7   \n",
       "1                13                 7                 9                 9   \n",
       "2                 2                 6                 8                 4   \n",
       "3                 7                 6                 2                 4   \n",
       "4                 0                 3                 1                 1   \n",
       "\n",
       "   VOICE_MT_SAT_CNT  VOICE_MT_SUN_TIME  VOICE_MT_MON_TIME  VOICE_MT_TUE_TIME  \\\n",
       "0                 6                769               1540               1433   \n",
       "1                18                668                232               1791   \n",
       "2                 2                 44                 23                 26   \n",
       "3                 2                 55                204                334   \n",
       "4                 0                  0                  0                  0   \n",
       "\n",
       "   VOICE_MT_WED_TIME  VOICE_MT_THU_TIME  VOICE_MT_FRI_TIME  VOICE_MT_SAT_TIME  \n",
       "0                537                933                668                241  \n",
       "1                468                543                367                782  \n",
       "2                129                202                 58                 39  \n",
       "3                150                 82                150                122  \n",
       "4                248                340                242                  0  "
      ]
     },
     "execution_count": 12,
     "metadata": {},
     "output_type": "execute_result"
    }
   ],
   "source": [
    "df.head()"
   ]
  },
  {
   "cell_type": "code",
   "execution_count": 13,
   "metadata": {
    "scrolled": true
   },
   "outputs": [],
   "source": [
    "# to date type\n",
    "# df['VOICE_DATE'] = pd.to_datetime(df['VOICE_DATE'])\n",
    "df['VOICE_MONTH'] = pd.to_datetime(df['VOICE_MONTH'])"
   ]
  },
  {
   "cell_type": "code",
   "execution_count": 14,
   "metadata": {},
   "outputs": [
    {
     "name": "stdout",
     "output_type": "stream",
     "text": [
      "time for output csv file: 57.46\n",
      "time for output csv file: 25.36\n",
      "time for output csv file: 58.46\n",
      "time for output csv file: 57.97\n"
     ]
    }
   ],
   "source": [
    "# slice 12months data\n",
    "for month_idx in range(1,13):\n",
    "    divide_month = df[df['VOICE_MONTH'].dt.month == month_idx]\n",
    "    if(len(divide_month) == 0):\n",
    "        continue\n",
    "    # write to csv and no index\n",
    "    t0 = time()\n",
    "    divide_month.to_csv(out_filename + str(month_idx) + \".csv\", index=False)\n",
    "    print(\"time for output csv file: %.2f\" % (time()-t0))"
   ]
  },
  {
   "cell_type": "code",
   "execution_count": 15,
   "metadata": {
    "collapsed": true
   },
   "outputs": [],
   "source": [
    "del df"
   ]
  },
  {
   "cell_type": "code",
   "execution_count": null,
   "metadata": {
    "collapsed": true
   },
   "outputs": [],
   "source": []
  }
 ],
 "metadata": {
  "kernelspec": {
   "display_name": "Python 3",
   "language": "python",
   "name": "python3"
  },
  "language_info": {
   "codemirror_mode": {
    "name": "ipython",
    "version": 3
   },
   "file_extension": ".py",
   "mimetype": "text/x-python",
   "name": "python",
   "nbconvert_exporter": "python",
   "pygments_lexer": "ipython3",
   "version": "3.6.1"
  }
 },
 "nbformat": 4,
 "nbformat_minor": 2
}
