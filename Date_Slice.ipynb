{
 "cells": [
  {
   "cell_type": "code",
   "execution_count": 9,
   "metadata": {
    "collapsed": true
   },
   "outputs": [],
   "source": [
    "import os.path\n",
    "import numpy as np\n",
    "import pandas as pd\n",
    "from time import time"
   ]
  },
  {
   "cell_type": "code",
   "execution_count": 10,
   "metadata": {
    "collapsed": true
   },
   "outputs": [],
   "source": [
    "# set configure\n",
    "# path = \"../DATA_FULL/\"\n",
    "path = \"./\"\n",
    "\n",
    "filename = \"CDR_MO_WEEK_COMPLETED_revise\"\n",
    "relative_filename = path + filename + \".csv\"\n",
    "out_filename = \"./CDR_MONTHLY/\" + filename + \"_month_\"\n",
    "# after the numeric_st_idx's number will be tranform to int64\n",
    "numeric_st_idx = 2\n",
    "# pick the columns of u wants\n",
    "# wants_cols = ['DATA_MONTH', 'MINING_DW_SUBSCR_NO', 'AGE', \"MO_TTL_DURATION\",\"MO_ONNET_DUR\",\"MO_OFFNET_DUR\",\"PSTN_DUR\",\"MO_TTL_COUNT\",\"MO_ONNET_CNT\",\"MO_OFFNET_CNT\",\"PSTN_CNT\",\"MT_TTL_DURATION\",\"MT_ONNET_DUR\",\"MT_OFFNET_DUR\",\"MT_PSTN_DUR\",\"MT_TTL_COUNT\",\"MT_ONNET_CNT\",\"MT_OFFNET_CNT\",\"MT_PSTN_CNT\",\"MOC_FET_DUR\",\"MOC_TWM_DUR\",\"MOC_CHM_DUR\",\"MOC_OTH_DUR\",\"MOC_PSTN_DUR\",\"MOST_MO_DUR\",\"MTC_FET_DUR\",\"MTC_TWM_DUR\",\"MTC_CHM_DUR\",\"MTC_PSTN_DUR\",\"MOST_MT_DUR\"]"
   ]
  },
  {
   "cell_type": "code",
   "execution_count": 11,
   "metadata": {},
   "outputs": [
    {
     "name": "stdout",
     "output_type": "stream",
     "text": [
      "time for read csv: 20.15\n"
     ]
    }
   ],
   "source": [
    "# read csv file and print cost time\n",
    "t0 = time()\n",
    "# df = pd.read_csv(relative_filename, usecols = wants_cols, error_bad_lines=False)\n",
    "# df = pd.read_csv(relative_filename, error_bad_lines=False, nrows=100)\n",
    "df = pd.read_csv(relative_filename, error_bad_lines=False)\n",
    "print(\"time for read csv: %.2f\" % (time()-t0))"
   ]
  },
  {
   "cell_type": "code",
   "execution_count": 12,
   "metadata": {
    "scrolled": true
   },
   "outputs": [
    {
     "data": {
      "text/html": [
       "<div>\n",
       "<style>\n",
       "    .dataframe thead tr:only-child th {\n",
       "        text-align: right;\n",
       "    }\n",
       "\n",
       "    .dataframe thead th {\n",
       "        text-align: left;\n",
       "    }\n",
       "\n",
       "    .dataframe tbody tr th {\n",
       "        vertical-align: top;\n",
       "    }\n",
       "</style>\n",
       "<table border=\"1\" class=\"dataframe\">\n",
       "  <thead>\n",
       "    <tr style=\"text-align: right;\">\n",
       "      <th></th>\n",
       "      <th>MINING_DW_SUBSCR_NO</th>\n",
       "      <th>VOICE_MONTH</th>\n",
       "      <th>VOICE_MO_HOUR_SUN_CNT</th>\n",
       "      <th>VOICE_MO_HOUR_MON_CNT</th>\n",
       "      <th>VOICE_MO_HOUR_TUE_CNT</th>\n",
       "      <th>VOICE_MO_HOUR_WED_CNT</th>\n",
       "      <th>VOICE_MO_HOUR_THU_CNT</th>\n",
       "      <th>VOICE_MO_HOUR_FRI_CNT</th>\n",
       "      <th>VOICE_MO_HOUR_SAT_CNT</th>\n",
       "      <th>VOICE_MO_HOUR_SUN_TIME</th>\n",
       "      <th>VOICE_MO_HOUR_MON_TIME</th>\n",
       "      <th>VOICE_MO_HOUR_TUE_TIME</th>\n",
       "      <th>VOICE_MO_HOUR_WED_TIME</th>\n",
       "      <th>VOICE_MO_HOUR_THU_TIME</th>\n",
       "      <th>VOICE_MO_HOUR_FRI_TIME</th>\n",
       "      <th>VOICE_MO_HOUR_SAT_TIME</th>\n",
       "    </tr>\n",
       "  </thead>\n",
       "  <tbody>\n",
       "    <tr>\n",
       "      <th>0</th>\n",
       "      <td>10001264549</td>\n",
       "      <td>2017/2/1</td>\n",
       "      <td>0</td>\n",
       "      <td>0</td>\n",
       "      <td>0</td>\n",
       "      <td>0</td>\n",
       "      <td>0</td>\n",
       "      <td>0</td>\n",
       "      <td>1</td>\n",
       "      <td>0</td>\n",
       "      <td>0</td>\n",
       "      <td>0</td>\n",
       "      <td>0</td>\n",
       "      <td>0</td>\n",
       "      <td>0</td>\n",
       "      <td>317</td>\n",
       "    </tr>\n",
       "    <tr>\n",
       "      <th>1</th>\n",
       "      <td>10000766476</td>\n",
       "      <td>2017/1/1</td>\n",
       "      <td>8</td>\n",
       "      <td>7</td>\n",
       "      <td>7</td>\n",
       "      <td>6</td>\n",
       "      <td>3</td>\n",
       "      <td>4</td>\n",
       "      <td>4</td>\n",
       "      <td>5929</td>\n",
       "      <td>5451</td>\n",
       "      <td>4597</td>\n",
       "      <td>4515</td>\n",
       "      <td>4164</td>\n",
       "      <td>3625</td>\n",
       "      <td>1316</td>\n",
       "    </tr>\n",
       "    <tr>\n",
       "      <th>2</th>\n",
       "      <td>3125192737</td>\n",
       "      <td>2017/1/1</td>\n",
       "      <td>0</td>\n",
       "      <td>2</td>\n",
       "      <td>1</td>\n",
       "      <td>0</td>\n",
       "      <td>1</td>\n",
       "      <td>0</td>\n",
       "      <td>0</td>\n",
       "      <td>0</td>\n",
       "      <td>119</td>\n",
       "      <td>132</td>\n",
       "      <td>0</td>\n",
       "      <td>15</td>\n",
       "      <td>0</td>\n",
       "      <td>0</td>\n",
       "    </tr>\n",
       "    <tr>\n",
       "      <th>3</th>\n",
       "      <td>3116849377</td>\n",
       "      <td>2017/1/1</td>\n",
       "      <td>0</td>\n",
       "      <td>3</td>\n",
       "      <td>8</td>\n",
       "      <td>3</td>\n",
       "      <td>0</td>\n",
       "      <td>0</td>\n",
       "      <td>1</td>\n",
       "      <td>0</td>\n",
       "      <td>343</td>\n",
       "      <td>648</td>\n",
       "      <td>601</td>\n",
       "      <td>0</td>\n",
       "      <td>0</td>\n",
       "      <td>30</td>\n",
       "    </tr>\n",
       "    <tr>\n",
       "      <th>4</th>\n",
       "      <td>10001140668</td>\n",
       "      <td>2017/2/1</td>\n",
       "      <td>1</td>\n",
       "      <td>3</td>\n",
       "      <td>0</td>\n",
       "      <td>1</td>\n",
       "      <td>0</td>\n",
       "      <td>1</td>\n",
       "      <td>1</td>\n",
       "      <td>42</td>\n",
       "      <td>49</td>\n",
       "      <td>0</td>\n",
       "      <td>51</td>\n",
       "      <td>0</td>\n",
       "      <td>17</td>\n",
       "      <td>25</td>\n",
       "    </tr>\n",
       "  </tbody>\n",
       "</table>\n",
       "</div>"
      ],
      "text/plain": [
       "   MINING_DW_SUBSCR_NO VOICE_MONTH  VOICE_MO_HOUR_SUN_CNT  \\\n",
       "0          10001264549    2017/2/1                      0   \n",
       "1          10000766476    2017/1/1                      8   \n",
       "2           3125192737    2017/1/1                      0   \n",
       "3           3116849377    2017/1/1                      0   \n",
       "4          10001140668    2017/2/1                      1   \n",
       "\n",
       "   VOICE_MO_HOUR_MON_CNT  VOICE_MO_HOUR_TUE_CNT  VOICE_MO_HOUR_WED_CNT  \\\n",
       "0                      0                      0                      0   \n",
       "1                      7                      7                      6   \n",
       "2                      2                      1                      0   \n",
       "3                      3                      8                      3   \n",
       "4                      3                      0                      1   \n",
       "\n",
       "   VOICE_MO_HOUR_THU_CNT  VOICE_MO_HOUR_FRI_CNT  VOICE_MO_HOUR_SAT_CNT  \\\n",
       "0                      0                      0                      1   \n",
       "1                      3                      4                      4   \n",
       "2                      1                      0                      0   \n",
       "3                      0                      0                      1   \n",
       "4                      0                      1                      1   \n",
       "\n",
       "   VOICE_MO_HOUR_SUN_TIME  VOICE_MO_HOUR_MON_TIME  VOICE_MO_HOUR_TUE_TIME  \\\n",
       "0                       0                       0                       0   \n",
       "1                    5929                    5451                    4597   \n",
       "2                       0                     119                     132   \n",
       "3                       0                     343                     648   \n",
       "4                      42                      49                       0   \n",
       "\n",
       "   VOICE_MO_HOUR_WED_TIME  VOICE_MO_HOUR_THU_TIME  VOICE_MO_HOUR_FRI_TIME  \\\n",
       "0                       0                       0                       0   \n",
       "1                    4515                    4164                    3625   \n",
       "2                       0                      15                       0   \n",
       "3                     601                       0                       0   \n",
       "4                      51                       0                      17   \n",
       "\n",
       "   VOICE_MO_HOUR_SAT_TIME  \n",
       "0                     317  \n",
       "1                    1316  \n",
       "2                       0  \n",
       "3                      30  \n",
       "4                      25  "
      ]
     },
     "execution_count": 12,
     "metadata": {},
     "output_type": "execute_result"
    }
   ],
   "source": [
    "df.head()"
   ]
  },
  {
   "cell_type": "code",
   "execution_count": 13,
   "metadata": {
    "collapsed": true,
    "scrolled": true
   },
   "outputs": [],
   "source": [
    "# to date type\n",
    "# df['VOICE_DATE'] = pd.to_datetime(df['VOICE_DATE'])\n",
    "df['VOICE_MONTH'] = pd.to_datetime(df['VOICE_MONTH'])"
   ]
  },
  {
   "cell_type": "code",
   "execution_count": 14,
   "metadata": {},
   "outputs": [
    {
     "name": "stdout",
     "output_type": "stream",
     "text": [
      "time for output csv file: 56.58\n",
      "time for output csv file: 57.46\n",
      "time for output csv file: 57.36\n",
      "time for output csv file: 56.89\n"
     ]
    }
   ],
   "source": [
    "# slice 12months data\n",
    "for month_idx in range(1,13):\n",
    "    divide_month = df[df['VOICE_MONTH'].dt.month == month_idx]\n",
    "    if(len(divide_month) == 0):\n",
    "        continue\n",
    "    # write to csv and no index\n",
    "    t0 = time()\n",
    "    divide_month.to_csv(out_filename + str(month_idx) + \".csv\", index=False)\n",
    "    print(\"time for output csv file: %.2f\" % (time()-t0))"
   ]
  },
  {
   "cell_type": "code",
   "execution_count": 15,
   "metadata": {
    "collapsed": true
   },
   "outputs": [],
   "source": [
    "del df"
   ]
  },
  {
   "cell_type": "code",
   "execution_count": null,
   "metadata": {
    "collapsed": true
   },
   "outputs": [],
   "source": []
  }
 ],
 "metadata": {
  "kernelspec": {
   "display_name": "Python 3",
   "language": "python",
   "name": "python3"
  },
  "language_info": {
   "codemirror_mode": {
    "name": "ipython",
    "version": 3
   },
   "file_extension": ".py",
   "mimetype": "text/x-python",
   "name": "python",
   "nbconvert_exporter": "python",
   "pygments_lexer": "ipython3",
   "version": "3.6.1"
  }
 },
 "nbformat": 4,
 "nbformat_minor": 2
}
