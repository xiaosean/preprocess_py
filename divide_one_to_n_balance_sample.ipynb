{
 "cells": [
  {
   "cell_type": "markdown",
   "metadata": {},
   "source": [
    "# Read & Clear Data"
   ]
  },
  {
   "cell_type": "code",
   "execution_count": 1,
   "metadata": {
    "collapsed": true
   },
   "outputs": [],
   "source": [
    "import random\n",
    "import os.path\n",
    "import numpy as np\n",
    "import pandas as pd\n",
    "import feather \n",
    "from time import time\n",
    "from sklearn.model_selection import train_test_split\n",
    "import feather"
   ]
  },
  {
   "cell_type": "code",
   "execution_count": 2,
   "metadata": {
    "collapsed": true
   },
   "outputs": [],
   "source": [
    "out_dir = \"0731_sample/\""
   ]
  },
  {
   "cell_type": "code",
   "execution_count": 3,
   "metadata": {
    "collapsed": true
   },
   "outputs": [],
   "source": [
    "def save_dataframe(df, out_filename):\n",
    "   # write to csv and no index\n",
    "    t0 = time()\n",
    "#     feather.write_dataframe(df, out_filename + \".feather\")\n",
    "    df.to_csv(out_filename + \".csv\", index=False, encoding='utf-8')\n",
    "#     df.to_csv(out_filename + \".csv\", encoding='utf-8')\n",
    "#     print(\"time for output csv file: %.2f\" % (time()-t0))\n",
    "    print(\"time for output feather file: %.2f\" % (time()-t0))"
   ]
  },
  {
   "cell_type": "code",
   "execution_count": 4,
   "metadata": {
    "collapsed": true
   },
   "outputs": [],
   "source": [
    "def cut_target_mini_sample(target_group, sample_count = 1):\n",
    "    for i in range(sample_count):\n",
    "        sample_df = pd.DataFrame(columns = df.columns)\n",
    "        sample_df = sample_df.append(df[df[\"Groups\"] == target_group])\n",
    "        target_groups_count = len(df[df[\"Groups\"] == target_group])\n",
    "        other_groups = list(df[\"Groups\"].unique())\n",
    "        other_groups.remove(target_group)\n",
    "#         other_groups.remove(\"Infrequent_User\")\n",
    "        other_groups_count = len(df[df[\"Groups\"] != target_group])\n",
    "        for other_group in other_groups:\n",
    "        #     group_ratio = len(df[df[\"Groups\"] == other_group]) / other_groups_count\n",
    "        #     random_group = df[df[\"Groups\"] == other_group].sample(n = int(group_ratio*target_groups_count))\n",
    "            random_group = df[df[\"Groups\"] == other_group].sample(n = int(target_groups_count / len(other_groups)), random_state = random.randint(1, 10000))\n",
    "            sample_df = sample_df.append(random_group)\n",
    "        group_list = other_groups.copy()\n",
    "        group_list.append(target_group)\n",
    "        group_list_val = [\"Others\" for i in other_groups]\n",
    "        group_list_val.append(target_group)\n",
    "        d = dict(zip(group_list, group_list_val))\n",
    "        sample_df[\"Groups\"] = sample_df[\"Groups\"].map(d)\n",
    "        out_path = path + out_dir + target_group + \"/\"\n",
    "        if not os.path.exists(out_path):\n",
    "            os.makedirs(out_path)\n",
    "        save_dataframe(sample_df, out_path + out_filename + \"_sample_\" + target_group + \"_others_\" + str(i))"
   ]
  },
  {
   "cell_type": "code",
   "execution_count": 5,
   "metadata": {},
   "outputs": [
    {
     "name": "stdout",
     "output_type": "stream",
     "text": [
      "C:/Users/VIPLAB/Desktop/preprocess_py/marketing_analyze/0731_marketing_with_picked_group11_numeric_max_min.csv\n"
     ]
    }
   ],
   "source": [
    "# set configure\n",
    "# path = \"./CDR_MONTHLY_AGGR/\"\n",
    "# path = \"D:/0625_fet_analyze/CDR_FINAL/\"\n",
    "# path = \"C:/Users/VIPLAB/Downloads/Spark_data/\"\n",
    "# path = \"./marketing_analyze/\"\n",
    "path = \"C:/Users/VIPLAB/Desktop/preprocess_py/marketing_analyze/\"\n",
    "filename = \"0731_marketing_with_picked_group11_numeric_max_min\"\n",
    "out_filename = filename\n",
    "# path = \"./\"\n",
    "# filename = \"dm_subscr_mtc_mly_COMPLETED_revise\"\n",
    "relative_filename = path + filename + \".csv\"\n",
    "# relative_filename = path + filename + \".txt\"\n",
    "# relative_filename = path + filename + \".feather\"\n",
    "print(relative_filename)"
   ]
  },
  {
   "cell_type": "code",
   "execution_count": 6,
   "metadata": {},
   "outputs": [
    {
     "name": "stdout",
     "output_type": "stream",
     "text": [
      "time for read csv: 55.17\n"
     ]
    }
   ],
   "source": [
    "t0 = time()\n",
    "df = pd.read_csv(relative_filename, error_bad_lines=False)\n",
    "# df = pd.read_csv(relative_filename, usecols = wants_cols, error_bad_lines=False)\n",
    "# df = feather.read_dataframe(relative_filename)\n",
    "\n",
    "print(\"time for read csv: %.2f\" % (time()-t0))"
   ]
  },
  {
   "cell_type": "code",
   "execution_count": 20,
   "metadata": {
    "collapsed": true
   },
   "outputs": [],
   "source": [
    "target_group = \"Infrequent_User\"\n",
    "target_df = df[df[\"Groups\"] == target_group]\n",
    "else_df = df[df[\"Groups\"] != target_group]"
   ]
  },
  {
   "cell_type": "code",
   "execution_count": 21,
   "metadata": {
    "collapsed": true
   },
   "outputs": [],
   "source": [
    "target_col = \"L1M_DATA_MONTHLY_FEE\""
   ]
  },
  {
   "cell_type": "code",
   "execution_count": 22,
   "metadata": {},
   "outputs": [
    {
     "data": {
      "text/plain": [
       "count    137966.000000\n",
       "mean          0.235430\n",
       "std           0.110887\n",
       "min           0.000000\n",
       "25%           0.211189\n",
       "50%           0.221934\n",
       "75%           0.285291\n",
       "max           1.000000\n",
       "Name: L1M_DATA_MONTHLY_FEE, dtype: float64"
      ]
     },
     "execution_count": 22,
     "metadata": {},
     "output_type": "execute_result"
    }
   ],
   "source": [
    "target_df[target_col].describe()"
   ]
  },
  {
   "cell_type": "code",
   "execution_count": 23,
   "metadata": {},
   "outputs": [
    {
     "data": {
      "text/plain": [
       "count    1.674048e+06\n",
       "mean     3.673682e-01\n",
       "std      1.386012e-01\n",
       "min      0.000000e+00\n",
       "25%      2.589848e-01\n",
       "50%      3.519822e-01\n",
       "75%      5.183401e-01\n",
       "max      1.000000e+00\n",
       "Name: L1M_DATA_MONTHLY_FEE, dtype: float64"
      ]
     },
     "execution_count": 23,
     "metadata": {},
     "output_type": "execute_result"
    }
   ],
   "source": [
    "else_df[target_col].describe()"
   ]
  },
  {
   "cell_type": "code",
   "execution_count": 7,
   "metadata": {},
   "outputs": [
    {
     "data": {
      "text/plain": [
       "1812014"
      ]
     },
     "execution_count": 7,
     "metadata": {},
     "output_type": "execute_result"
    }
   ],
   "source": [
    "len(df)"
   ]
  },
  {
   "cell_type": "code",
   "execution_count": 8,
   "metadata": {},
   "outputs": [
    {
     "data": {
      "text/html": [
       "<div>\n",
       "<style>\n",
       "    .dataframe thead tr:only-child th {\n",
       "        text-align: right;\n",
       "    }\n",
       "\n",
       "    .dataframe thead th {\n",
       "        text-align: left;\n",
       "    }\n",
       "\n",
       "    .dataframe tbody tr th {\n",
       "        vertical-align: top;\n",
       "    }\n",
       "</style>\n",
       "<table border=\"1\" class=\"dataframe\">\n",
       "  <thead>\n",
       "    <tr style=\"text-align: right;\">\n",
       "      <th></th>\n",
       "      <th>DATA_MONTH</th>\n",
       "      <th>RENEW_IND</th>\n",
       "      <th>GA_IND</th>\n",
       "      <th>ACTV_TYPE</th>\n",
       "      <th>SRV_TYPE_DESC</th>\n",
       "      <th>GENDER_CODE</th>\n",
       "      <th>ORIG_OPR_ID</th>\n",
       "      <th>AGE</th>\n",
       "      <th>TENURE_SCV</th>\n",
       "      <th>BILL_CITY_NAME</th>\n",
       "      <th>...</th>\n",
       "      <th>CWC_CATG4_CNT</th>\n",
       "      <th>CWC_CATG5_CNT</th>\n",
       "      <th>CWC_CATG6_CNT</th>\n",
       "      <th>CWC_CATG7_CNT</th>\n",
       "      <th>CWC_CATG8_CNT</th>\n",
       "      <th>CWC_CATG9_CNT</th>\n",
       "      <th>CWC_CATG10_CNT</th>\n",
       "      <th>CWC_CATG11_CNT</th>\n",
       "      <th>CWC_CATG12_CNT</th>\n",
       "      <th>CWC_CATG13_CNT</th>\n",
       "    </tr>\n",
       "    <tr>\n",
       "      <th>Groups</th>\n",
       "      <th></th>\n",
       "      <th></th>\n",
       "      <th></th>\n",
       "      <th></th>\n",
       "      <th></th>\n",
       "      <th></th>\n",
       "      <th></th>\n",
       "      <th></th>\n",
       "      <th></th>\n",
       "      <th></th>\n",
       "      <th></th>\n",
       "      <th></th>\n",
       "      <th></th>\n",
       "      <th></th>\n",
       "      <th></th>\n",
       "      <th></th>\n",
       "      <th></th>\n",
       "      <th></th>\n",
       "      <th></th>\n",
       "      <th></th>\n",
       "      <th></th>\n",
       "    </tr>\n",
       "  </thead>\n",
       "  <tbody>\n",
       "    <tr>\n",
       "      <th>Adult</th>\n",
       "      <td>52284</td>\n",
       "      <td>52284</td>\n",
       "      <td>52284</td>\n",
       "      <td>52284</td>\n",
       "      <td>52284</td>\n",
       "      <td>52284</td>\n",
       "      <td>52284</td>\n",
       "      <td>52284</td>\n",
       "      <td>52284</td>\n",
       "      <td>52284</td>\n",
       "      <td>...</td>\n",
       "      <td>52284</td>\n",
       "      <td>52284</td>\n",
       "      <td>52284</td>\n",
       "      <td>52284</td>\n",
       "      <td>52284</td>\n",
       "      <td>52284</td>\n",
       "      <td>52284</td>\n",
       "      <td>52284</td>\n",
       "      <td>52284</td>\n",
       "      <td>52284</td>\n",
       "    </tr>\n",
       "    <tr>\n",
       "      <th>Game</th>\n",
       "      <td>84443</td>\n",
       "      <td>84443</td>\n",
       "      <td>84443</td>\n",
       "      <td>84443</td>\n",
       "      <td>84443</td>\n",
       "      <td>84443</td>\n",
       "      <td>84443</td>\n",
       "      <td>84443</td>\n",
       "      <td>84443</td>\n",
       "      <td>84443</td>\n",
       "      <td>...</td>\n",
       "      <td>84443</td>\n",
       "      <td>84443</td>\n",
       "      <td>84443</td>\n",
       "      <td>84443</td>\n",
       "      <td>84443</td>\n",
       "      <td>84443</td>\n",
       "      <td>84443</td>\n",
       "      <td>84443</td>\n",
       "      <td>84443</td>\n",
       "      <td>84443</td>\n",
       "    </tr>\n",
       "    <tr>\n",
       "      <th>HomeLife</th>\n",
       "      <td>70069</td>\n",
       "      <td>70069</td>\n",
       "      <td>70069</td>\n",
       "      <td>70069</td>\n",
       "      <td>70069</td>\n",
       "      <td>70069</td>\n",
       "      <td>70069</td>\n",
       "      <td>70069</td>\n",
       "      <td>70069</td>\n",
       "      <td>70069</td>\n",
       "      <td>...</td>\n",
       "      <td>70069</td>\n",
       "      <td>70069</td>\n",
       "      <td>70069</td>\n",
       "      <td>70069</td>\n",
       "      <td>70069</td>\n",
       "      <td>70069</td>\n",
       "      <td>70069</td>\n",
       "      <td>70069</td>\n",
       "      <td>70069</td>\n",
       "      <td>70069</td>\n",
       "    </tr>\n",
       "    <tr>\n",
       "      <th>Infrequent_User</th>\n",
       "      <td>137966</td>\n",
       "      <td>137966</td>\n",
       "      <td>137966</td>\n",
       "      <td>137966</td>\n",
       "      <td>137966</td>\n",
       "      <td>137966</td>\n",
       "      <td>137966</td>\n",
       "      <td>137966</td>\n",
       "      <td>137966</td>\n",
       "      <td>137966</td>\n",
       "      <td>...</td>\n",
       "      <td>137966</td>\n",
       "      <td>137966</td>\n",
       "      <td>137966</td>\n",
       "      <td>137966</td>\n",
       "      <td>137966</td>\n",
       "      <td>137966</td>\n",
       "      <td>137966</td>\n",
       "      <td>137966</td>\n",
       "      <td>137966</td>\n",
       "      <td>137966</td>\n",
       "    </tr>\n",
       "    <tr>\n",
       "      <th>InstantMessage-High</th>\n",
       "      <td>349096</td>\n",
       "      <td>349096</td>\n",
       "      <td>349096</td>\n",
       "      <td>349096</td>\n",
       "      <td>349096</td>\n",
       "      <td>349096</td>\n",
       "      <td>349096</td>\n",
       "      <td>349096</td>\n",
       "      <td>349096</td>\n",
       "      <td>349096</td>\n",
       "      <td>...</td>\n",
       "      <td>349096</td>\n",
       "      <td>349096</td>\n",
       "      <td>349096</td>\n",
       "      <td>349096</td>\n",
       "      <td>349096</td>\n",
       "      <td>349096</td>\n",
       "      <td>349096</td>\n",
       "      <td>349096</td>\n",
       "      <td>349096</td>\n",
       "      <td>349096</td>\n",
       "    </tr>\n",
       "    <tr>\n",
       "      <th>InstantMessage-SuperHigh</th>\n",
       "      <td>329581</td>\n",
       "      <td>329581</td>\n",
       "      <td>329581</td>\n",
       "      <td>329581</td>\n",
       "      <td>329581</td>\n",
       "      <td>329581</td>\n",
       "      <td>329581</td>\n",
       "      <td>329581</td>\n",
       "      <td>329581</td>\n",
       "      <td>329581</td>\n",
       "      <td>...</td>\n",
       "      <td>329581</td>\n",
       "      <td>329581</td>\n",
       "      <td>329581</td>\n",
       "      <td>329581</td>\n",
       "      <td>329581</td>\n",
       "      <td>329581</td>\n",
       "      <td>329581</td>\n",
       "      <td>329581</td>\n",
       "      <td>329581</td>\n",
       "      <td>329581</td>\n",
       "    </tr>\n",
       "    <tr>\n",
       "      <th>Map</th>\n",
       "      <td>97828</td>\n",
       "      <td>97828</td>\n",
       "      <td>97828</td>\n",
       "      <td>97828</td>\n",
       "      <td>97828</td>\n",
       "      <td>97828</td>\n",
       "      <td>97828</td>\n",
       "      <td>97828</td>\n",
       "      <td>97828</td>\n",
       "      <td>97828</td>\n",
       "      <td>...</td>\n",
       "      <td>97828</td>\n",
       "      <td>97828</td>\n",
       "      <td>97828</td>\n",
       "      <td>97828</td>\n",
       "      <td>97828</td>\n",
       "      <td>97828</td>\n",
       "      <td>97828</td>\n",
       "      <td>97828</td>\n",
       "      <td>97828</td>\n",
       "      <td>97828</td>\n",
       "    </tr>\n",
       "    <tr>\n",
       "      <th>No_ignificant_preference</th>\n",
       "      <td>212045</td>\n",
       "      <td>212045</td>\n",
       "      <td>212045</td>\n",
       "      <td>212045</td>\n",
       "      <td>212045</td>\n",
       "      <td>212045</td>\n",
       "      <td>212045</td>\n",
       "      <td>212045</td>\n",
       "      <td>212045</td>\n",
       "      <td>212045</td>\n",
       "      <td>...</td>\n",
       "      <td>212045</td>\n",
       "      <td>212045</td>\n",
       "      <td>212045</td>\n",
       "      <td>212045</td>\n",
       "      <td>212045</td>\n",
       "      <td>212045</td>\n",
       "      <td>212045</td>\n",
       "      <td>212045</td>\n",
       "      <td>212045</td>\n",
       "      <td>212045</td>\n",
       "    </tr>\n",
       "    <tr>\n",
       "      <th>No_ignificant_preference(instant_message)</th>\n",
       "      <td>256844</td>\n",
       "      <td>256844</td>\n",
       "      <td>256844</td>\n",
       "      <td>256844</td>\n",
       "      <td>256844</td>\n",
       "      <td>256844</td>\n",
       "      <td>256844</td>\n",
       "      <td>256844</td>\n",
       "      <td>256844</td>\n",
       "      <td>256844</td>\n",
       "      <td>...</td>\n",
       "      <td>256844</td>\n",
       "      <td>256844</td>\n",
       "      <td>256844</td>\n",
       "      <td>256844</td>\n",
       "      <td>256844</td>\n",
       "      <td>256844</td>\n",
       "      <td>256844</td>\n",
       "      <td>256844</td>\n",
       "      <td>256844</td>\n",
       "      <td>256844</td>\n",
       "    </tr>\n",
       "    <tr>\n",
       "      <th>Portal</th>\n",
       "      <td>95660</td>\n",
       "      <td>95660</td>\n",
       "      <td>95660</td>\n",
       "      <td>95660</td>\n",
       "      <td>95660</td>\n",
       "      <td>95660</td>\n",
       "      <td>95660</td>\n",
       "      <td>95660</td>\n",
       "      <td>95660</td>\n",
       "      <td>95660</td>\n",
       "      <td>...</td>\n",
       "      <td>95660</td>\n",
       "      <td>95660</td>\n",
       "      <td>95660</td>\n",
       "      <td>95660</td>\n",
       "      <td>95660</td>\n",
       "      <td>95660</td>\n",
       "      <td>95660</td>\n",
       "      <td>95660</td>\n",
       "      <td>95660</td>\n",
       "      <td>95660</td>\n",
       "    </tr>\n",
       "    <tr>\n",
       "      <th>Social-media</th>\n",
       "      <td>126198</td>\n",
       "      <td>126198</td>\n",
       "      <td>126198</td>\n",
       "      <td>126198</td>\n",
       "      <td>126198</td>\n",
       "      <td>126198</td>\n",
       "      <td>126198</td>\n",
       "      <td>126198</td>\n",
       "      <td>126198</td>\n",
       "      <td>126198</td>\n",
       "      <td>...</td>\n",
       "      <td>126198</td>\n",
       "      <td>126198</td>\n",
       "      <td>126198</td>\n",
       "      <td>126198</td>\n",
       "      <td>126198</td>\n",
       "      <td>126198</td>\n",
       "      <td>126198</td>\n",
       "      <td>126198</td>\n",
       "      <td>126198</td>\n",
       "      <td>126198</td>\n",
       "    </tr>\n",
       "  </tbody>\n",
       "</table>\n",
       "<p>11 rows × 169 columns</p>\n",
       "</div>"
      ],
      "text/plain": [
       "                                           DATA_MONTH  RENEW_IND  GA_IND  \\\n",
       "Groups                                                                     \n",
       "Adult                                           52284      52284   52284   \n",
       "Game                                            84443      84443   84443   \n",
       "HomeLife                                        70069      70069   70069   \n",
       "Infrequent_User                                137966     137966  137966   \n",
       "InstantMessage-High                            349096     349096  349096   \n",
       "InstantMessage-SuperHigh                       329581     329581  329581   \n",
       "Map                                             97828      97828   97828   \n",
       "No_ignificant_preference                       212045     212045  212045   \n",
       "No_ignificant_preference(instant_message)      256844     256844  256844   \n",
       "Portal                                          95660      95660   95660   \n",
       "Social-media                                   126198     126198  126198   \n",
       "\n",
       "                                           ACTV_TYPE  SRV_TYPE_DESC  \\\n",
       "Groups                                                                \n",
       "Adult                                          52284          52284   \n",
       "Game                                           84443          84443   \n",
       "HomeLife                                       70069          70069   \n",
       "Infrequent_User                               137966         137966   \n",
       "InstantMessage-High                           349096         349096   \n",
       "InstantMessage-SuperHigh                      329581         329581   \n",
       "Map                                            97828          97828   \n",
       "No_ignificant_preference                      212045         212045   \n",
       "No_ignificant_preference(instant_message)     256844         256844   \n",
       "Portal                                         95660          95660   \n",
       "Social-media                                  126198         126198   \n",
       "\n",
       "                                           GENDER_CODE  ORIG_OPR_ID     AGE  \\\n",
       "Groups                                                                        \n",
       "Adult                                            52284        52284   52284   \n",
       "Game                                             84443        84443   84443   \n",
       "HomeLife                                         70069        70069   70069   \n",
       "Infrequent_User                                 137966       137966  137966   \n",
       "InstantMessage-High                             349096       349096  349096   \n",
       "InstantMessage-SuperHigh                        329581       329581  329581   \n",
       "Map                                              97828        97828   97828   \n",
       "No_ignificant_preference                        212045       212045  212045   \n",
       "No_ignificant_preference(instant_message)       256844       256844  256844   \n",
       "Portal                                           95660        95660   95660   \n",
       "Social-media                                    126198       126198  126198   \n",
       "\n",
       "                                           TENURE_SCV  BILL_CITY_NAME  \\\n",
       "Groups                                                                  \n",
       "Adult                                           52284           52284   \n",
       "Game                                            84443           84443   \n",
       "HomeLife                                        70069           70069   \n",
       "Infrequent_User                                137966          137966   \n",
       "InstantMessage-High                            349096          349096   \n",
       "InstantMessage-SuperHigh                       329581          329581   \n",
       "Map                                             97828           97828   \n",
       "No_ignificant_preference                       212045          212045   \n",
       "No_ignificant_preference(instant_message)      256844          256844   \n",
       "Portal                                          95660           95660   \n",
       "Social-media                                   126198          126198   \n",
       "\n",
       "                                                ...        CWC_CATG4_CNT  \\\n",
       "Groups                                          ...                        \n",
       "Adult                                           ...                52284   \n",
       "Game                                            ...                84443   \n",
       "HomeLife                                        ...                70069   \n",
       "Infrequent_User                                 ...               137966   \n",
       "InstantMessage-High                             ...               349096   \n",
       "InstantMessage-SuperHigh                        ...               329581   \n",
       "Map                                             ...                97828   \n",
       "No_ignificant_preference                        ...               212045   \n",
       "No_ignificant_preference(instant_message)       ...               256844   \n",
       "Portal                                          ...                95660   \n",
       "Social-media                                    ...               126198   \n",
       "\n",
       "                                           CWC_CATG5_CNT  CWC_CATG6_CNT  \\\n",
       "Groups                                                                    \n",
       "Adult                                              52284          52284   \n",
       "Game                                               84443          84443   \n",
       "HomeLife                                           70069          70069   \n",
       "Infrequent_User                                   137966         137966   \n",
       "InstantMessage-High                               349096         349096   \n",
       "InstantMessage-SuperHigh                          329581         329581   \n",
       "Map                                                97828          97828   \n",
       "No_ignificant_preference                          212045         212045   \n",
       "No_ignificant_preference(instant_message)         256844         256844   \n",
       "Portal                                             95660          95660   \n",
       "Social-media                                      126198         126198   \n",
       "\n",
       "                                           CWC_CATG7_CNT  CWC_CATG8_CNT  \\\n",
       "Groups                                                                    \n",
       "Adult                                              52284          52284   \n",
       "Game                                               84443          84443   \n",
       "HomeLife                                           70069          70069   \n",
       "Infrequent_User                                   137966         137966   \n",
       "InstantMessage-High                               349096         349096   \n",
       "InstantMessage-SuperHigh                          329581         329581   \n",
       "Map                                                97828          97828   \n",
       "No_ignificant_preference                          212045         212045   \n",
       "No_ignificant_preference(instant_message)         256844         256844   \n",
       "Portal                                             95660          95660   \n",
       "Social-media                                      126198         126198   \n",
       "\n",
       "                                           CWC_CATG9_CNT  CWC_CATG10_CNT  \\\n",
       "Groups                                                                     \n",
       "Adult                                              52284           52284   \n",
       "Game                                               84443           84443   \n",
       "HomeLife                                           70069           70069   \n",
       "Infrequent_User                                   137966          137966   \n",
       "InstantMessage-High                               349096          349096   \n",
       "InstantMessage-SuperHigh                          329581          329581   \n",
       "Map                                                97828           97828   \n",
       "No_ignificant_preference                          212045          212045   \n",
       "No_ignificant_preference(instant_message)         256844          256844   \n",
       "Portal                                             95660           95660   \n",
       "Social-media                                      126198          126198   \n",
       "\n",
       "                                           CWC_CATG11_CNT  CWC_CATG12_CNT  \\\n",
       "Groups                                                                      \n",
       "Adult                                               52284           52284   \n",
       "Game                                                84443           84443   \n",
       "HomeLife                                            70069           70069   \n",
       "Infrequent_User                                    137966          137966   \n",
       "InstantMessage-High                                349096          349096   \n",
       "InstantMessage-SuperHigh                           329581          329581   \n",
       "Map                                                 97828           97828   \n",
       "No_ignificant_preference                           212045          212045   \n",
       "No_ignificant_preference(instant_message)          256844          256844   \n",
       "Portal                                              95660           95660   \n",
       "Social-media                                       126198          126198   \n",
       "\n",
       "                                           CWC_CATG13_CNT  \n",
       "Groups                                                     \n",
       "Adult                                               52284  \n",
       "Game                                                84443  \n",
       "HomeLife                                            70069  \n",
       "Infrequent_User                                    137966  \n",
       "InstantMessage-High                                349096  \n",
       "InstantMessage-SuperHigh                           329581  \n",
       "Map                                                 97828  \n",
       "No_ignificant_preference                           212045  \n",
       "No_ignificant_preference(instant_message)          256844  \n",
       "Portal                                              95660  \n",
       "Social-media                                       126198  \n",
       "\n",
       "[11 rows x 169 columns]"
      ]
     },
     "execution_count": 8,
     "metadata": {},
     "output_type": "execute_result"
    }
   ],
   "source": [
    "df.groupby(\"Groups\").count()"
   ]
  },
  {
   "cell_type": "code",
   "execution_count": 9,
   "metadata": {
    "collapsed": true
   },
   "outputs": [],
   "source": [
    "groups = list(df[\"Groups\"].unique())\n",
    "# groups.remove(\"Infrequent_User\")\n"
   ]
  },
  {
   "cell_type": "code",
   "execution_count": 10,
   "metadata": {
    "scrolled": true
   },
   "outputs": [
    {
     "data": {
      "text/plain": [
       "['Infrequent_User',\n",
       " 'No_ignificant_preference',\n",
       " 'No_ignificant_preference(instant_message)',\n",
       " 'InstantMessage-High',\n",
       " 'InstantMessage-SuperHigh',\n",
       " 'Social-media',\n",
       " 'Map',\n",
       " 'Adult',\n",
       " 'HomeLife',\n",
       " 'Game',\n",
       " 'Portal']"
      ]
     },
     "execution_count": 10,
     "metadata": {},
     "output_type": "execute_result"
    }
   ],
   "source": [
    "groups"
   ]
  },
  {
   "cell_type": "code",
   "execution_count": 11,
   "metadata": {},
   "outputs": [
    {
     "data": {
      "text/html": [
       "<div>\n",
       "<style>\n",
       "    .dataframe thead tr:only-child th {\n",
       "        text-align: right;\n",
       "    }\n",
       "\n",
       "    .dataframe thead th {\n",
       "        text-align: left;\n",
       "    }\n",
       "\n",
       "    .dataframe tbody tr th {\n",
       "        vertical-align: top;\n",
       "    }\n",
       "</style>\n",
       "<table border=\"1\" class=\"dataframe\">\n",
       "  <thead>\n",
       "    <tr style=\"text-align: right;\">\n",
       "      <th></th>\n",
       "      <th>DATA_MONTH</th>\n",
       "      <th>RENEW_IND</th>\n",
       "      <th>GA_IND</th>\n",
       "      <th>ACTV_TYPE</th>\n",
       "      <th>SRV_TYPE_DESC</th>\n",
       "      <th>GENDER_CODE</th>\n",
       "      <th>ORIG_OPR_ID</th>\n",
       "      <th>AGE</th>\n",
       "      <th>TENURE_SCV</th>\n",
       "      <th>BILL_CITY_NAME</th>\n",
       "      <th>...</th>\n",
       "      <th>CWC_CATG5_CNT</th>\n",
       "      <th>CWC_CATG6_CNT</th>\n",
       "      <th>CWC_CATG7_CNT</th>\n",
       "      <th>CWC_CATG8_CNT</th>\n",
       "      <th>CWC_CATG9_CNT</th>\n",
       "      <th>CWC_CATG10_CNT</th>\n",
       "      <th>CWC_CATG11_CNT</th>\n",
       "      <th>CWC_CATG12_CNT</th>\n",
       "      <th>CWC_CATG13_CNT</th>\n",
       "      <th>Groups</th>\n",
       "    </tr>\n",
       "  </thead>\n",
       "  <tbody>\n",
       "    <tr>\n",
       "      <th>0</th>\n",
       "      <td>0</td>\n",
       "      <td>0.0</td>\n",
       "      <td>0</td>\n",
       "      <td>0.000000</td>\n",
       "      <td>0.0</td>\n",
       "      <td>0.0</td>\n",
       "      <td>0.0</td>\n",
       "      <td>0.533333</td>\n",
       "      <td>0.941723</td>\n",
       "      <td>0.000000</td>\n",
       "      <td>...</td>\n",
       "      <td>0.0</td>\n",
       "      <td>0.0</td>\n",
       "      <td>0.0</td>\n",
       "      <td>0.0</td>\n",
       "      <td>0.0</td>\n",
       "      <td>0.0</td>\n",
       "      <td>0.0</td>\n",
       "      <td>0.0</td>\n",
       "      <td>0.0</td>\n",
       "      <td>Infrequent_User</td>\n",
       "    </tr>\n",
       "    <tr>\n",
       "      <th>1</th>\n",
       "      <td>0</td>\n",
       "      <td>0.0</td>\n",
       "      <td>0</td>\n",
       "      <td>0.333333</td>\n",
       "      <td>0.0</td>\n",
       "      <td>0.5</td>\n",
       "      <td>0.2</td>\n",
       "      <td>0.422222</td>\n",
       "      <td>0.016892</td>\n",
       "      <td>0.047619</td>\n",
       "      <td>...</td>\n",
       "      <td>0.0</td>\n",
       "      <td>0.0</td>\n",
       "      <td>0.0</td>\n",
       "      <td>0.0</td>\n",
       "      <td>0.0</td>\n",
       "      <td>0.0</td>\n",
       "      <td>0.0</td>\n",
       "      <td>0.0</td>\n",
       "      <td>0.0</td>\n",
       "      <td>No_ignificant_preference</td>\n",
       "    </tr>\n",
       "    <tr>\n",
       "      <th>2</th>\n",
       "      <td>0</td>\n",
       "      <td>0.0</td>\n",
       "      <td>0</td>\n",
       "      <td>0.333333</td>\n",
       "      <td>1.0</td>\n",
       "      <td>0.0</td>\n",
       "      <td>0.4</td>\n",
       "      <td>0.188889</td>\n",
       "      <td>0.089105</td>\n",
       "      <td>0.095238</td>\n",
       "      <td>...</td>\n",
       "      <td>0.0</td>\n",
       "      <td>0.0</td>\n",
       "      <td>0.0</td>\n",
       "      <td>0.0</td>\n",
       "      <td>0.0</td>\n",
       "      <td>0.0</td>\n",
       "      <td>0.0</td>\n",
       "      <td>0.0</td>\n",
       "      <td>0.0</td>\n",
       "      <td>No_ignificant_preference(instant_message)</td>\n",
       "    </tr>\n",
       "    <tr>\n",
       "      <th>3</th>\n",
       "      <td>0</td>\n",
       "      <td>0.0</td>\n",
       "      <td>0</td>\n",
       "      <td>0.333333</td>\n",
       "      <td>0.0</td>\n",
       "      <td>0.5</td>\n",
       "      <td>0.2</td>\n",
       "      <td>0.188889</td>\n",
       "      <td>0.058699</td>\n",
       "      <td>0.000000</td>\n",
       "      <td>...</td>\n",
       "      <td>0.0</td>\n",
       "      <td>0.0</td>\n",
       "      <td>0.0</td>\n",
       "      <td>0.0</td>\n",
       "      <td>0.0</td>\n",
       "      <td>0.0</td>\n",
       "      <td>0.0</td>\n",
       "      <td>0.0</td>\n",
       "      <td>0.0</td>\n",
       "      <td>InstantMessage-High</td>\n",
       "    </tr>\n",
       "    <tr>\n",
       "      <th>4</th>\n",
       "      <td>0</td>\n",
       "      <td>0.0</td>\n",
       "      <td>0</td>\n",
       "      <td>0.333333</td>\n",
       "      <td>1.0</td>\n",
       "      <td>0.0</td>\n",
       "      <td>0.2</td>\n",
       "      <td>0.333333</td>\n",
       "      <td>0.243243</td>\n",
       "      <td>0.000000</td>\n",
       "      <td>...</td>\n",
       "      <td>0.0</td>\n",
       "      <td>0.0</td>\n",
       "      <td>0.0</td>\n",
       "      <td>0.0</td>\n",
       "      <td>0.0</td>\n",
       "      <td>0.0</td>\n",
       "      <td>0.0</td>\n",
       "      <td>0.0</td>\n",
       "      <td>0.0</td>\n",
       "      <td>InstantMessage-High</td>\n",
       "    </tr>\n",
       "  </tbody>\n",
       "</table>\n",
       "<p>5 rows × 170 columns</p>\n",
       "</div>"
      ],
      "text/plain": [
       "   DATA_MONTH  RENEW_IND  GA_IND  ACTV_TYPE  SRV_TYPE_DESC  GENDER_CODE  \\\n",
       "0           0        0.0       0   0.000000            0.0          0.0   \n",
       "1           0        0.0       0   0.333333            0.0          0.5   \n",
       "2           0        0.0       0   0.333333            1.0          0.0   \n",
       "3           0        0.0       0   0.333333            0.0          0.5   \n",
       "4           0        0.0       0   0.333333            1.0          0.0   \n",
       "\n",
       "   ORIG_OPR_ID       AGE  TENURE_SCV  BILL_CITY_NAME  \\\n",
       "0          0.0  0.533333    0.941723        0.000000   \n",
       "1          0.2  0.422222    0.016892        0.047619   \n",
       "2          0.4  0.188889    0.089105        0.095238   \n",
       "3          0.2  0.188889    0.058699        0.000000   \n",
       "4          0.2  0.333333    0.243243        0.000000   \n",
       "\n",
       "                     ...                      CWC_CATG5_CNT  CWC_CATG6_CNT  \\\n",
       "0                    ...                                0.0            0.0   \n",
       "1                    ...                                0.0            0.0   \n",
       "2                    ...                                0.0            0.0   \n",
       "3                    ...                                0.0            0.0   \n",
       "4                    ...                                0.0            0.0   \n",
       "\n",
       "   CWC_CATG7_CNT  CWC_CATG8_CNT  CWC_CATG9_CNT  CWC_CATG10_CNT  \\\n",
       "0            0.0            0.0            0.0             0.0   \n",
       "1            0.0            0.0            0.0             0.0   \n",
       "2            0.0            0.0            0.0             0.0   \n",
       "3            0.0            0.0            0.0             0.0   \n",
       "4            0.0            0.0            0.0             0.0   \n",
       "\n",
       "   CWC_CATG11_CNT  CWC_CATG12_CNT  CWC_CATG13_CNT  \\\n",
       "0             0.0             0.0             0.0   \n",
       "1             0.0             0.0             0.0   \n",
       "2             0.0             0.0             0.0   \n",
       "3             0.0             0.0             0.0   \n",
       "4             0.0             0.0             0.0   \n",
       "\n",
       "                                      Groups  \n",
       "0                            Infrequent_User  \n",
       "1                   No_ignificant_preference  \n",
       "2  No_ignificant_preference(instant_message)  \n",
       "3                        InstantMessage-High  \n",
       "4                        InstantMessage-High  \n",
       "\n",
       "[5 rows x 170 columns]"
      ]
     },
     "execution_count": 11,
     "metadata": {},
     "output_type": "execute_result"
    }
   ],
   "source": [
    "df.head()"
   ]
  },
  {
   "cell_type": "code",
   "execution_count": 12,
   "metadata": {},
   "outputs": [
    {
     "name": "stdout",
     "output_type": "stream",
     "text": [
      "time for output feather file: 42.24\n",
      "time for output feather file: 64.69\n",
      "time for output feather file: 78.68\n",
      "time for output feather file: 107.81\n",
      "time for output feather file: 109.24\n",
      "time for output feather file: 42.51\n",
      "time for output feather file: 32.09\n",
      "time for output feather file: 16.37\n",
      "time for output feather file: 21.89\n",
      "time for output feather file: 26.89\n",
      "time for output feather file: 29.30\n"
     ]
    }
   ],
   "source": [
    "for group in groups:\n",
    "    cut_target_mini_sample(group, 1)"
   ]
  },
  {
   "cell_type": "markdown",
   "metadata": {},
   "source": [
    "# save all balanace columns"
   ]
  },
  {
   "cell_type": "code",
   "execution_count": 13,
   "metadata": {},
   "outputs": [
    {
     "name": "stdout",
     "output_type": "stream",
     "text": [
      "Adult\n",
      "52284\n"
     ]
    }
   ],
   "source": [
    "min_size_group = 0\n",
    "mini_group = \"\"\n",
    "for idx, group in enumerate(groups):\n",
    "    if idx == 0:\n",
    "        mini_group = group\n",
    "        min_size_group = len(df[df[\"Groups\"] == group])\n",
    "    if(min_size_group > len(df[df[\"Groups\"] == group])):\n",
    "        mini_group = group\n",
    "        min_size_group = len(df[df[\"Groups\"] == group])\n",
    "print(mini_group)\n",
    "print(min_size_group)\n",
    "\n",
    "target_group = mini_group"
   ]
  },
  {
   "cell_type": "code",
   "execution_count": 14,
   "metadata": {},
   "outputs": [
    {
     "name": "stdout",
     "output_type": "stream",
     "text": [
      "time for output feather file: 87.36\n"
     ]
    }
   ],
   "source": [
    "sample_count = 1\n",
    "for i in range(sample_count):\n",
    "\n",
    "    sample_df = pd.DataFrame(columns = df.columns)\n",
    "    sample_df = sample_df.append(df[df[\"Groups\"] == target_group])\n",
    "    target_groups_count = len(df[df[\"Groups\"] == target_group])\n",
    "    other_groups = list(df[\"Groups\"].unique())\n",
    "    other_groups.remove(target_group)\n",
    "    #         other_groups.remove(\"Infrequent_User\")\n",
    "    other_groups_count = len(df[df[\"Groups\"] != target_group])\n",
    "    for other_group in other_groups:\n",
    "    #     group_ratio = len(df[df[\"Groups\"] == other_group]) / other_groups_count\n",
    "    #     random_group = df[df[\"Groups\"] == other_group].sample(n = int(group_ratio*target_groups_count))\n",
    "        random_group = df[df[\"Groups\"] == other_group].sample(n = target_groups_count, random_state = random.randint(1, 10000))\n",
    "        sample_df = sample_df.append(random_group)\n",
    "    out_path = path + out_dir + \"all/\"\n",
    "    if not os.path.exists(out_path):\n",
    "        os.makedirs(out_path)\n",
    "    save_dataframe(sample_df, out_path + out_filename + \"_sample_all_\" + str(i))"
   ]
  },
  {
   "cell_type": "code",
   "execution_count": 15,
   "metadata": {},
   "outputs": [
    {
     "name": "stdout",
     "output_type": "stream",
     "text": [
      "Start Send Mail\n",
      "User Email : a - DONE \n",
      "User Email : a - DONE \n",
      "User Email : 2 - DONE \n",
      "User Email : 6 - DONE \n",
      "User Email : 3 - DONE \n",
      "User Email : 6 - DONE \n",
      "User Email : 5 - DONE \n",
      "User Email : 5 - DONE \n",
      "User Email : 6 - DONE \n",
      "User Email : 6 - DONE \n",
      "User Email : @ - DONE \n",
      "User Email : g - DONE \n",
      "User Email : m - DONE \n",
      "User Email : a - DONE \n",
      "User Email : i - DONE \n",
      "User Email : l - DONE \n",
      "User Email : . - DONE \n",
      "User Email : c - DONE \n",
      "User Email : o - DONE \n",
      "User Email : m - DONE \n",
      "Finish Send Mail\n"
     ]
    }
   ],
   "source": [
    "from mailerWithUtf8 import mail\n",
    "test=mail()\n",
    "test.main(\"sample finished\", \"done\")"
   ]
  },
  {
   "cell_type": "code",
   "execution_count": null,
   "metadata": {
    "collapsed": true
   },
   "outputs": [],
   "source": [
    "sample_df.groupby(\"Groups\").count()"
   ]
  },
  {
   "cell_type": "code",
   "execution_count": null,
   "metadata": {
    "collapsed": true
   },
   "outputs": [],
   "source": [
    "sample_df.columns"
   ]
  },
  {
   "cell_type": "code",
   "execution_count": null,
   "metadata": {
    "collapsed": true
   },
   "outputs": [],
   "source": []
  },
  {
   "cell_type": "code",
   "execution_count": null,
   "metadata": {
    "collapsed": true
   },
   "outputs": [],
   "source": []
  },
  {
   "cell_type": "code",
   "execution_count": null,
   "metadata": {
    "collapsed": true
   },
   "outputs": [],
   "source": []
  },
  {
   "cell_type": "markdown",
   "metadata": {},
   "source": [
    "# pick the target group"
   ]
  },
  {
   "cell_type": "code",
   "execution_count": null,
   "metadata": {
    "collapsed": true
   },
   "outputs": [],
   "source": [
    "target_group = \"Adult\"\n",
    "sample_count = 5"
   ]
  },
  {
   "cell_type": "code",
   "execution_count": null,
   "metadata": {
    "collapsed": true
   },
   "outputs": [],
   "source": [
    "sample_df = pd.DataFrame(columns = df.columns)"
   ]
  },
  {
   "cell_type": "code",
   "execution_count": null,
   "metadata": {
    "collapsed": true
   },
   "outputs": [],
   "source": [
    "sample_df = sample_df.append(df[df[\"Groups\"] == target_group])"
   ]
  },
  {
   "cell_type": "code",
   "execution_count": null,
   "metadata": {
    "collapsed": true
   },
   "outputs": [],
   "source": [
    "target_groups_count = len(df[df[\"Groups\"] == target_group])"
   ]
  },
  {
   "cell_type": "code",
   "execution_count": null,
   "metadata": {
    "collapsed": true
   },
   "outputs": [],
   "source": [
    "# get specific group\n",
    "len(sample_df)"
   ]
  },
  {
   "cell_type": "markdown",
   "metadata": {},
   "source": [
    "# pick other group no infrequent user"
   ]
  },
  {
   "cell_type": "code",
   "execution_count": null,
   "metadata": {
    "collapsed": true
   },
   "outputs": [],
   "source": [
    "other_groups = list(df[\"Groups\"].unique())\n",
    "other_groups.remove(target_group)\n",
    "other_groups.remove(\"Infrequent_User\")"
   ]
  },
  {
   "cell_type": "code",
   "execution_count": null,
   "metadata": {
    "collapsed": true
   },
   "outputs": [],
   "source": [
    "other_groups"
   ]
  },
  {
   "cell_type": "code",
   "execution_count": null,
   "metadata": {
    "collapsed": true
   },
   "outputs": [],
   "source": [
    "other_groups_count = len(df[df[\"Groups\"] != target_group])"
   ]
  },
  {
   "cell_type": "code",
   "execution_count": null,
   "metadata": {
    "collapsed": true
   },
   "outputs": [],
   "source": [
    "other_groups_count"
   ]
  },
  {
   "cell_type": "code",
   "execution_count": null,
   "metadata": {
    "collapsed": true
   },
   "outputs": [],
   "source": [
    "for other_group in other_groups:\n",
    "#     group_ratio = len(df[df[\"Groups\"] == other_group]) / other_groups_count\n",
    "#     random_group = df[df[\"Groups\"] == other_group].sample(n = int(group_ratio*target_groups_count))\n",
    "    random_group = df[df[\"Groups\"] == other_group].sample(n = int(target_groups_count / len(other_groups)), random_state = random.randint(1, 10000))\n",
    "    sample_df = sample_df.append(random_group)"
   ]
  },
  {
   "cell_type": "code",
   "execution_count": null,
   "metadata": {
    "collapsed": true
   },
   "outputs": [],
   "source": [
    "len(sample_df)"
   ]
  },
  {
   "cell_type": "code",
   "execution_count": null,
   "metadata": {
    "collapsed": true
   },
   "outputs": [],
   "source": [
    "sample_df.groupby(\"Groups\").count()"
   ]
  },
  {
   "cell_type": "code",
   "execution_count": null,
   "metadata": {
    "collapsed": true
   },
   "outputs": [],
   "source": [
    "group_list = other_groups.copy()\n",
    "group_list.append(target_group)\n",
    "group_list_val = [\"Others\" for i in other_groups]\n",
    "group_list_val.append(target_group)"
   ]
  },
  {
   "cell_type": "code",
   "execution_count": null,
   "metadata": {
    "collapsed": true
   },
   "outputs": [],
   "source": [
    "d = dict(zip(group_list, group_list_val))\n",
    "sample_df[\"Groups\"] = sample_df[\"Groups\"].map(d)"
   ]
  },
  {
   "cell_type": "code",
   "execution_count": null,
   "metadata": {
    "collapsed": true
   },
   "outputs": [],
   "source": [
    "sample_df.groupby(\"Groups\").count()"
   ]
  },
  {
   "cell_type": "code",
   "execution_count": null,
   "metadata": {
    "collapsed": true
   },
   "outputs": [],
   "source": [
    "save_dataframe(sample_df, path + out_filename + \"_sample_adult_others_\" + str(sample_count))"
   ]
  },
  {
   "cell_type": "code",
   "execution_count": null,
   "metadata": {
    "collapsed": true
   },
   "outputs": [],
   "source": [
    "from winsound import Beep\n",
    "Beep(440, 500) \n",
    "Beep(440, 500) "
   ]
  },
  {
   "cell_type": "code",
   "execution_count": null,
   "metadata": {
    "collapsed": true
   },
   "outputs": [],
   "source": []
  },
  {
   "cell_type": "code",
   "execution_count": null,
   "metadata": {
    "collapsed": true
   },
   "outputs": [],
   "source": []
  },
  {
   "cell_type": "code",
   "execution_count": null,
   "metadata": {
    "collapsed": true
   },
   "outputs": [],
   "source": []
  },
  {
   "cell_type": "code",
   "execution_count": null,
   "metadata": {
    "collapsed": true
   },
   "outputs": [],
   "source": []
  },
  {
   "cell_type": "code",
   "execution_count": null,
   "metadata": {
    "collapsed": true
   },
   "outputs": [],
   "source": []
  },
  {
   "cell_type": "code",
   "execution_count": null,
   "metadata": {
    "collapsed": true
   },
   "outputs": [],
   "source": []
  },
  {
   "cell_type": "code",
   "execution_count": null,
   "metadata": {
    "collapsed": true
   },
   "outputs": [],
   "source": []
  },
  {
   "cell_type": "code",
   "execution_count": null,
   "metadata": {
    "collapsed": true
   },
   "outputs": [],
   "source": []
  },
  {
   "cell_type": "code",
   "execution_count": null,
   "metadata": {
    "collapsed": true
   },
   "outputs": [],
   "source": []
  },
  {
   "cell_type": "code",
   "execution_count": null,
   "metadata": {
    "collapsed": true
   },
   "outputs": [],
   "source": []
  },
  {
   "cell_type": "code",
   "execution_count": null,
   "metadata": {
    "collapsed": true
   },
   "outputs": [],
   "source": []
  }
 ],
 "metadata": {
  "kernelspec": {
   "display_name": "Python 3",
   "language": "python",
   "name": "python3"
  },
  "language_info": {
   "codemirror_mode": {
    "name": "ipython",
    "version": 3
   },
   "file_extension": ".py",
   "mimetype": "text/x-python",
   "name": "python",
   "nbconvert_exporter": "python",
   "pygments_lexer": "ipython3",
   "version": "3.5.3"
  }
 },
 "nbformat": 4,
 "nbformat_minor": 2
}
