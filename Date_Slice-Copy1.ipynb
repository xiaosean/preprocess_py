{
 "cells": [
  {
   "cell_type": "code",
   "execution_count": 1,
   "metadata": {
    "collapsed": true
   },
   "outputs": [],
   "source": [
    "import os.path\n",
    "import numpy as np\n",
    "import pandas as pd\n",
    "from time import time"
   ]
  },
  {
   "cell_type": "code",
   "execution_count": 9,
   "metadata": {
    "collapsed": true
   },
   "outputs": [],
   "source": [
    "# set configure\n",
    "# path = \"../DATA_FULL/\"\n",
    "path = \"./\"\n",
    "\n",
    "filename = \"dm_subscr_moc_mly_COMPLETED_revise\"\n",
    "relative_filename = path + filename + \".csv\"\n",
    "out_filename = \"./CDR_MONTHLY/\" + filename + \"_month_\"\n",
    "# after the numeric_st_idx's number will be tranform to int64\n",
    "numeric_st_idx = 2\n",
    "# pick the columns of u wants\n",
    "# wants_cols = ['DATA_MONTH', 'MINING_DW_SUBSCR_NO', 'AGE', \"MO_TTL_DURATION\",\"MO_ONNET_DUR\",\"MO_OFFNET_DUR\",\"PSTN_DUR\",\"MO_TTL_COUNT\",\"MO_ONNET_CNT\",\"MO_OFFNET_CNT\",\"PSTN_CNT\",\"MT_TTL_DURATION\",\"MT_ONNET_DUR\",\"MT_OFFNET_DUR\",\"MT_PSTN_DUR\",\"MT_TTL_COUNT\",\"MT_ONNET_CNT\",\"MT_OFFNET_CNT\",\"MT_PSTN_CNT\",\"MOC_FET_DUR\",\"MOC_TWM_DUR\",\"MOC_CHM_DUR\",\"MOC_OTH_DUR\",\"MOC_PSTN_DUR\",\"MOST_MO_DUR\",\"MTC_FET_DUR\",\"MTC_TWM_DUR\",\"MTC_CHM_DUR\",\"MTC_PSTN_DUR\",\"MOST_MT_DUR\"]"
   ]
  },
  {
   "cell_type": "code",
   "execution_count": 10,
   "metadata": {},
   "outputs": [
    {
     "name": "stdout",
     "output_type": "stream",
     "text": [
      "time for read csv: 21.62\n"
     ]
    }
   ],
   "source": [
    "# read csv file and print cost time\n",
    "t0 = time()\n",
    "# df = pd.read_csv(relative_filename, usecols = wants_cols, error_bad_lines=False)\n",
    "# df = pd.read_csv(relative_filename, error_bad_lines=False, nrows=100)\n",
    "df = pd.read_csv(relative_filename, error_bad_lines=False)\n",
    "print(\"time for read csv: %.2f\" % (time()-t0))"
   ]
  },
  {
   "cell_type": "code",
   "execution_count": 11,
   "metadata": {
    "scrolled": true
   },
   "outputs": [
    {
     "data": {
      "text/html": [
       "<div>\n",
       "<style>\n",
       "    .dataframe thead tr:only-child th {\n",
       "        text-align: right;\n",
       "    }\n",
       "\n",
       "    .dataframe thead th {\n",
       "        text-align: left;\n",
       "    }\n",
       "\n",
       "    .dataframe tbody tr th {\n",
       "        vertical-align: top;\n",
       "    }\n",
       "</style>\n",
       "<table border=\"1\" class=\"dataframe\">\n",
       "  <thead>\n",
       "    <tr style=\"text-align: right;\">\n",
       "      <th></th>\n",
       "      <th>DATA_MONTH</th>\n",
       "      <th>MINING_DW_SUBSCR_NO</th>\n",
       "      <th>MOC_CNT</th>\n",
       "      <th>MOC_DUR</th>\n",
       "      <th>MOC_FET_CNT</th>\n",
       "      <th>MOC_FET_DUR</th>\n",
       "      <th>MOC_TWM_CNT</th>\n",
       "      <th>MOC_TWM_DUR</th>\n",
       "      <th>MOC_CHM_CNT</th>\n",
       "      <th>MOC_CHM_DUR</th>\n",
       "      <th>MOC_APT_CNT</th>\n",
       "      <th>MOC_APT_DUR</th>\n",
       "      <th>MOC_TSC_CNT</th>\n",
       "      <th>MOC_TSC_DUR</th>\n",
       "      <th>MOC_PSTN_CNT</th>\n",
       "      <th>MOC_PSTN_DUR</th>\n",
       "    </tr>\n",
       "  </thead>\n",
       "  <tbody>\n",
       "    <tr>\n",
       "      <th>0</th>\n",
       "      <td>2017/1/1</td>\n",
       "      <td>8130102583</td>\n",
       "      <td>16</td>\n",
       "      <td>564</td>\n",
       "      <td>0</td>\n",
       "      <td>0</td>\n",
       "      <td>0</td>\n",
       "      <td>0</td>\n",
       "      <td>0</td>\n",
       "      <td>0</td>\n",
       "      <td>14</td>\n",
       "      <td>461</td>\n",
       "      <td>0</td>\n",
       "      <td>0</td>\n",
       "      <td>1</td>\n",
       "      <td>63</td>\n",
       "    </tr>\n",
       "    <tr>\n",
       "      <th>1</th>\n",
       "      <td>2017/3/1</td>\n",
       "      <td>3125432405</td>\n",
       "      <td>1</td>\n",
       "      <td>13</td>\n",
       "      <td>0</td>\n",
       "      <td>0</td>\n",
       "      <td>0</td>\n",
       "      <td>0</td>\n",
       "      <td>0</td>\n",
       "      <td>0</td>\n",
       "      <td>0</td>\n",
       "      <td>0</td>\n",
       "      <td>0</td>\n",
       "      <td>0</td>\n",
       "      <td>1</td>\n",
       "      <td>13</td>\n",
       "    </tr>\n",
       "    <tr>\n",
       "      <th>2</th>\n",
       "      <td>2017/4/1</td>\n",
       "      <td>10000337216</td>\n",
       "      <td>73</td>\n",
       "      <td>5756</td>\n",
       "      <td>48</td>\n",
       "      <td>4275</td>\n",
       "      <td>5</td>\n",
       "      <td>202</td>\n",
       "      <td>9</td>\n",
       "      <td>545</td>\n",
       "      <td>4</td>\n",
       "      <td>280</td>\n",
       "      <td>2</td>\n",
       "      <td>115</td>\n",
       "      <td>5</td>\n",
       "      <td>339</td>\n",
       "    </tr>\n",
       "    <tr>\n",
       "      <th>3</th>\n",
       "      <td>2017/4/1</td>\n",
       "      <td>3137418985</td>\n",
       "      <td>148</td>\n",
       "      <td>12949</td>\n",
       "      <td>88</td>\n",
       "      <td>6762</td>\n",
       "      <td>8</td>\n",
       "      <td>899</td>\n",
       "      <td>33</td>\n",
       "      <td>3705</td>\n",
       "      <td>0</td>\n",
       "      <td>0</td>\n",
       "      <td>1</td>\n",
       "      <td>58</td>\n",
       "      <td>18</td>\n",
       "      <td>1525</td>\n",
       "    </tr>\n",
       "    <tr>\n",
       "      <th>4</th>\n",
       "      <td>2017/1/1</td>\n",
       "      <td>8233617448</td>\n",
       "      <td>10</td>\n",
       "      <td>264</td>\n",
       "      <td>5</td>\n",
       "      <td>46</td>\n",
       "      <td>3</td>\n",
       "      <td>89</td>\n",
       "      <td>2</td>\n",
       "      <td>129</td>\n",
       "      <td>0</td>\n",
       "      <td>0</td>\n",
       "      <td>0</td>\n",
       "      <td>0</td>\n",
       "      <td>0</td>\n",
       "      <td>0</td>\n",
       "    </tr>\n",
       "  </tbody>\n",
       "</table>\n",
       "</div>"
      ],
      "text/plain": [
       "  DATA_MONTH  MINING_DW_SUBSCR_NO  MOC_CNT  MOC_DUR  MOC_FET_CNT  MOC_FET_DUR  \\\n",
       "0   2017/1/1           8130102583       16      564            0            0   \n",
       "1   2017/3/1           3125432405        1       13            0            0   \n",
       "2   2017/4/1          10000337216       73     5756           48         4275   \n",
       "3   2017/4/1           3137418985      148    12949           88         6762   \n",
       "4   2017/1/1           8233617448       10      264            5           46   \n",
       "\n",
       "   MOC_TWM_CNT  MOC_TWM_DUR  MOC_CHM_CNT  MOC_CHM_DUR  MOC_APT_CNT  \\\n",
       "0            0            0            0            0           14   \n",
       "1            0            0            0            0            0   \n",
       "2            5          202            9          545            4   \n",
       "3            8          899           33         3705            0   \n",
       "4            3           89            2          129            0   \n",
       "\n",
       "   MOC_APT_DUR  MOC_TSC_CNT  MOC_TSC_DUR  MOC_PSTN_CNT  MOC_PSTN_DUR  \n",
       "0          461            0            0             1            63  \n",
       "1            0            0            0             1            13  \n",
       "2          280            2          115             5           339  \n",
       "3            0            1           58            18          1525  \n",
       "4            0            0            0             0             0  "
      ]
     },
     "execution_count": 11,
     "metadata": {},
     "output_type": "execute_result"
    }
   ],
   "source": [
    "df.head()"
   ]
  },
  {
   "cell_type": "code",
   "execution_count": 12,
   "metadata": {
    "scrolled": true
   },
   "outputs": [],
   "source": [
    "# to date type\n",
    "# df['VOICE_DATE'] = pd.to_datetime(df['VOICE_DATE'])\n",
    "# df['VOICE_MONTH'] = pd.to_datetime(df['VOICE_MONTH'])\n",
    "df['DATA_MONTH'] = pd.to_datetime(df['DATA_MONTH'])"
   ]
  },
  {
   "cell_type": "code",
   "execution_count": 13,
   "metadata": {},
   "outputs": [
    {
     "name": "stdout",
     "output_type": "stream",
     "text": [
      "time for output csv file: 62.41\n",
      "time for output csv file: 62.10\n",
      "time for output csv file: 60.39\n",
      "time for output csv file: 59.37\n"
     ]
    }
   ],
   "source": [
    "# slice 12months data\n",
    "for month_idx in range(1,13):\n",
    "    divide_month = df[df['DATA_MONTH'].dt.month == month_idx]\n",
    "    if(len(divide_month) == 0):\n",
    "        continue\n",
    "    # write to csv and no index\n",
    "    t0 = time()\n",
    "    divide_month.to_csv(out_filename + str(month_idx) + \".csv\", index=False)\n",
    "    print(\"time for output csv file: %.2f\" % (time()-t0))"
   ]
  },
  {
   "cell_type": "code",
   "execution_count": 14,
   "metadata": {
    "collapsed": true
   },
   "outputs": [],
   "source": [
    "del df"
   ]
  },
  {
   "cell_type": "code",
   "execution_count": null,
   "metadata": {
    "collapsed": true
   },
   "outputs": [],
   "source": []
  },
  {
   "cell_type": "code",
   "execution_count": null,
   "metadata": {
    "collapsed": true
   },
   "outputs": [],
   "source": []
  }
 ],
 "metadata": {
  "kernelspec": {
   "display_name": "Python 3",
   "language": "python",
   "name": "python3"
  },
  "language_info": {
   "codemirror_mode": {
    "name": "ipython",
    "version": 3
   },
   "file_extension": ".py",
   "mimetype": "text/x-python",
   "name": "python",
   "nbconvert_exporter": "python",
   "pygments_lexer": "ipython3",
   "version": "3.6.1"
  }
 },
 "nbformat": 4,
 "nbformat_minor": 2
}
