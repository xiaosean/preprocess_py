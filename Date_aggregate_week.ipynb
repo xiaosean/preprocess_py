{
 "cells": [
  {
   "cell_type": "code",
   "execution_count": 1,
   "metadata": {
    "collapsed": true
   },
   "outputs": [],
   "source": [
    "import os.path\n",
    "import numpy as np\n",
    "import pandas as pd\n",
    "from time import time\n",
    "from os import listdir\n",
    "from os.path import isfile, join"
   ]
  },
  {
   "cell_type": "code",
   "execution_count": 2,
   "metadata": {
    "collapsed": true
   },
   "outputs": [],
   "source": [
    "def file_csv_list(target_path):\n",
    "    return [f for f in listdir(target_path) if isfile(join(target_path, f))]"
   ]
  },
  {
   "cell_type": "code",
   "execution_count": 3,
   "metadata": {
    "collapsed": true
   },
   "outputs": [],
   "source": [
    "def read_csv(filename):\n",
    "    # read revise csv file and print cost time\n",
    "    t0 = time()\n",
    "    df = pd.read_csv(filename, error_bad_lines=False)\n",
    "    print(\"time for read csv: %.2f\" % (time()-t0))\n",
    "    return df"
   ]
  },
  {
   "cell_type": "code",
   "execution_count": 4,
   "metadata": {
    "collapsed": true
   },
   "outputs": [],
   "source": [
    "def remove_date_column(df):\n",
    "    # we don't use VOICE_DATE/VOICE_MONTH bcz it is a monthly data\n",
    "    if(\"VOICE_DATE\" in df.columns):\n",
    "        df = df.drop('VOICE_DATE', 1)\n",
    "        print(\"Drop VOICE_DATE\")\n",
    "    if(\"VOICE_MONTH\" in df.columns):\n",
    "        df = df.drop('VOICE_MONTH', 1)\n",
    "        print(\"Drop VOICE_MONTH\")\n",
    "    return df"
   ]
  },
  {
   "cell_type": "code",
   "execution_count": 5,
   "metadata": {
    "collapsed": true
   },
   "outputs": [],
   "source": [
    "def save_dataframe(df, out_filename):\n",
    "   # write to csv and no index\n",
    "    t0 = time()\n",
    "    df.to_csv(out_filename + \".csv\", index=False, encoding='utf-8')\n",
    "    print(\"time for output csv file: %.2f\" % (time()-t0))"
   ]
  },
  {
   "cell_type": "code",
   "execution_count": 6,
   "metadata": {
    "collapsed": true
   },
   "outputs": [],
   "source": [
    "def split_work_holiday(df):\n",
    "    # let it sort mon ~ sun\n",
    "    cnt_col_list = df.columns[2:8]\n",
    "    cnt_col_list = cnt_col_list.append(df.columns[1:2])\n",
    "    time_col_list = df.columns[9:15]\n",
    "    time_col_list = time_col_list.append(df.columns[8:9])\n",
    "    prefix = \"VOICE_MT_\"\n",
    "    if \"VOICE_MO_HOUR_SUN_CNT\" in df.columns:\n",
    "        prefix = \"VOICE_MO_\"\n",
    " \n",
    "    # sum\n",
    "    df[prefix + \"workday_cnt\"] = 0\n",
    "    for col in cnt_col_list[:5]:\n",
    "        df[prefix + \"workday_cnt\"] += df[col]\n",
    "    # sum\n",
    "    df[prefix + \"workday_cnt_avg\"] = 0\n",
    "    df[prefix + \"workday_cnt_avg\"] =df[prefix + \"workday_cnt\"] / 5\n",
    "            \n",
    "    df[prefix + \"workday_time\"] = 0\n",
    "    for col in time_col_list[:5]:\n",
    "        df[prefix + \"workday_time\"] += df[col]\n",
    "    df[prefix + \"workday_time_avg\"] = 0\n",
    "    df[prefix + \"workday_time_avg\"] =df[prefix + \"workday_time\"] / 5\n",
    "    \n",
    "    df[prefix + \"holiday_cnt\"] = 0\n",
    "    for col in cnt_col_list[5:]:\n",
    "        df[prefix + \"holiday_cnt\"] += df[col]\n",
    "    df[prefix + \"holiday_cnt_avg\"] = 0\n",
    "    df[prefix + \"holiday_cnt_avg\"] =df[prefix + \"holiday_cnt\"] / 2\n",
    "    \n",
    "    df[prefix + \"holiday_time\"] = 0\n",
    "    for col in time_col_list[5:]:\n",
    "        df[prefix + \"holiday_time\"] += df[col]\n",
    "    df[prefix + \"holiday_time_avg\"] = 0\n",
    "    df[prefix + \"holiday_time_avg\"] =df[prefix + \"holiday_time\"] / 2\n",
    "    return df"
   ]
  },
  {
   "cell_type": "code",
   "execution_count": null,
   "metadata": {
    "scrolled": true
   },
   "outputs": [
    {
     "name": "stdout",
     "output_type": "stream",
     "text": [
      "time for read csv: 4.79\n",
      "time for output csv file: 53.20\n",
      "time for read csv: 4.78\n"
     ]
    }
   ],
   "source": [
    "# set configure\n",
    "# path = \"../DATA_FULL/\"\n",
    "path = \"./CDR_MONTHLY_AGGR/\"\n",
    "# filename = \"CDR_MO_HOUR_revise_month_1\"\n",
    "# relative_filename = path + filename + \".csv\"\n",
    "# out_path = \"./CDR_MONTHLY_WORKDAY/\"\n",
    "out_path = \"./CDR_MONTHLY_AGGR/\"\n",
    "\n",
    "for filename in file_csv_list(path):\n",
    "    if \".csv\" in filename and \"WEEK\" in filename:\n",
    "        filename_none_postfix = filename[:-4]\n",
    "        out_filename =  out_path + filename_none_postfix + \"_workday\"\n",
    "        df = read_csv(path + filename)\n",
    "        df = split_work_holiday(df)\n",
    "        save_dataframe(df, out_filename)\n",
    "#         print(df.columns)"
   ]
  },
  {
   "cell_type": "code",
   "execution_count": null,
   "metadata": {
    "collapsed": true
   },
   "outputs": [],
   "source": [
    "df.head()"
   ]
  },
  {
   "cell_type": "code",
   "execution_count": null,
   "metadata": {
    "collapsed": true
   },
   "outputs": [],
   "source": []
  }
 ],
 "metadata": {
  "kernelspec": {
   "display_name": "Python 3",
   "language": "python",
   "name": "python3"
  },
  "language_info": {
   "codemirror_mode": {
    "name": "ipython",
    "version": 3
   },
   "file_extension": ".py",
   "mimetype": "text/x-python",
   "name": "python",
   "nbconvert_exporter": "python",
   "pygments_lexer": "ipython3",
   "version": "3.6.1"
  }
 },
 "nbformat": 4,
 "nbformat_minor": 2
}
