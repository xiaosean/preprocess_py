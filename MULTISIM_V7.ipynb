{
 "cells": [
  {
   "cell_type": "code",
   "execution_count": null,
   "metadata": {
    "collapsed": true
   },
   "outputs": [],
   "source": [
    "import pandas as pd\n",
    "import numpy as np\n",
    "import time"
   ]
  },
  {
   "cell_type": "code",
   "execution_count": null,
   "metadata": {
    "collapsed": true
   },
   "outputs": [],
   "source": [
    "def log(msg):\n",
    "    current_time = time.strftime(\"%Y-%m-%d %H:%M:%S\", time.gmtime(time.time()))\n",
    "    msg = current_time + \"\\t\" + msg + \"\\n\"\n",
    "    print(msg)\n",
    "    with open(\"log.txt\", \"a\") as log_file:\n",
    "        log_file.write(msg)"
   ]
  },
  {
   "cell_type": "code",
   "execution_count": null,
   "metadata": {
    "collapsed": true
   },
   "outputs": [],
   "source": [
    "log(\"Importing Packages\")"
   ]
  },
  {
   "cell_type": "code",
   "execution_count": null,
   "metadata": {
    "collapsed": true
   },
   "outputs": [],
   "source": [
    "def check_ci_bound(data, ci=0.95):\n",
    "    return np.sort(data.values)[int(len(data) * ci)]"
   ]
  },
  {
   "cell_type": "code",
   "execution_count": null,
   "metadata": {
    "collapsed": true
   },
   "outputs": [],
   "source": [
    "log(\"Reading Data\")"
   ]
  },
  {
   "cell_type": "code",
   "execution_count": null,
   "metadata": {
    "collapsed": true
   },
   "outputs": [],
   "source": [
    "cols = ['DATA_MONTH', 'MINING_DW_SUBSCR_NO', 'DW_PARTY_ID', 'PTY_CBU_PO_CNT', 'SUBSCR_STATUS_CODE', 'DORMANT_MONTH_CNT_MKT', 'TENURE_SCV', 'RPS_NAME', 'CUST_TYPE']\n",
    "multisim_mds = pd.read_csv('NEW_DATA_FULL_2017_10_18/ALL_MDS.txt', usecols=cols)"
   ]
  },
  {
   "cell_type": "code",
   "execution_count": null,
   "metadata": {
    "collapsed": true,
    "scrolled": true
   },
   "outputs": [],
   "source": [
    "multisim_mds.PTY_CBU_PO_CNT = pd.to_numeric(multisim_mds.PTY_CBU_PO_CNT, errors='coerce')\n",
    "multisim_mds.PTY_CBU_PO_CNT.fillna(0, inplace=True)"
   ]
  },
  {
   "cell_type": "code",
   "execution_count": null,
   "metadata": {
    "collapsed": true,
    "scrolled": true
   },
   "outputs": [],
   "source": [
    "multisim_mds_filter = multisim_mds[(multisim_mds.RPS_NAME == \"CONSUMER MOBILITY\") & (multisim_mds.SUBSCR_STATUS_CODE == 'A') & \\\n",
    "                                    (multisim_mds.TENURE_SCV >=3) & (multisim_mds.DORMANT_MONTH_CNT_MKT < 2) & \\\n",
    "                                    (multisim_mds.DATA_MONTH == '2017/4/1')]"
   ]
  },
  {
   "cell_type": "code",
   "execution_count": null,
   "metadata": {
    "collapsed": true
   },
   "outputs": [],
   "source": [
    "mining_id_df = pd.DataFrame(multisim_mds_filter.groupby('DW_PARTY_ID')['MINING_DW_SUBSCR_NO'].apply(np.array).reset_index())"
   ]
  },
  {
   "cell_type": "code",
   "execution_count": null,
   "metadata": {
    "collapsed": true
   },
   "outputs": [],
   "source": [
    "df1_2 = pd.read_csv('NEW_DATA_FULL_2017_10_18/CDR_2SIM_DIALING_CALL.txt')\n",
    "df1_3 = pd.read_csv('NEW_DATA_FULL_2017_10_18/CDR_3SIM_DIALING_CALL.txt')\n",
    "df1_4 = pd.read_csv('NEW_DATA_FULL_2017_10_18/OH_FNL_1_4SIM_20171013.txt')\n",
    "df1_2 = df1_2.rename(columns={'SELF_CALL': 'AB_SELF_CALL'})"
   ]
  },
  {
   "cell_type": "code",
   "execution_count": null,
   "metadata": {
    "collapsed": true
   },
   "outputs": [],
   "source": [
    "df2_2 = pd.read_csv('NEW_DATA_FULL_2017_10_18/CDR_2SIM_CALL_INT.txt', error_bad_lines=False)\n",
    "df2_3 = pd.read_csv('NEW_DATA_FULL_2017_10_18/CDR_3SIM_CALL_INT.txt', error_bad_lines=False)\n",
    "df2_4 = pd.read_csv('NEW_DATA_FULL_2017_10_18/OH_FNL_2_4SIM_20171013.txt', error_bad_lines=False)\n",
    "df2_2 = df2_2.rename(columns={'INTERSECTION': 'AB_INTERSECTION'})"
   ]
  },
  {
   "cell_type": "code",
   "execution_count": null,
   "metadata": {
    "collapsed": true
   },
   "outputs": [],
   "source": [
    "df4_2 = pd.read_csv('NEW_DATA_FULL_2017_10_18/CDR_2SIM_LOCATION_INT_02_WITHMI.txt', error_bad_lines=False)\n",
    "df4_3 = pd.read_csv('NEW_DATA_FULL_2017_10_18/CDR_3SIM_LOCATION_INT_02_WITHMI.txt', error_bad_lines=False)\n",
    "df4_4 = pd.read_csv('NEW_DATA_FULL_2017_10_18/OH_FNL_4_4SIM_20171013.txt', error_bad_lines=False)\n",
    "df4_2 = df4_2.rename(columns={'INTERSECTION_VOICE': 'AB_INTERSECTION_VOICE', \n",
    "                              'INTERSECTION_DATA': 'AB_INTERSECTION_DATA', \n",
    "                              'INTERSECTION': 'AB_INTERSECTION'})"
   ]
  },
  {
   "cell_type": "code",
   "execution_count": null,
   "metadata": {
    "collapsed": true
   },
   "outputs": [],
   "source": [
    "log(\"Joining 2, 3, 4 sims\")"
   ]
  },
  {
   "cell_type": "code",
   "execution_count": null,
   "metadata": {
    "collapsed": true
   },
   "outputs": [],
   "source": [
    "df1 = pd.concat([df1_4, df1_3, df1_2], ignore_index=True)"
   ]
  },
  {
   "cell_type": "code",
   "execution_count": null,
   "metadata": {
    "collapsed": true
   },
   "outputs": [],
   "source": [
    "ABCD_ID = df1[['DW_PARTY_ID', 'MINING_DW_SUBSCR_NO_A','MINING_DW_SUBSCR_NO_B', 'MINING_DW_SUBSCR_NO_C', 'MINING_DW_SUBSCR_NO_D']]"
   ]
  },
  {
   "cell_type": "code",
   "execution_count": null,
   "metadata": {
    "collapsed": true
   },
   "outputs": [],
   "source": [
    "ABCD_ID = pd.merge(ABCD_ID, mining_id_df, how='left', on='DW_PARTY_ID')"
   ]
  },
  {
   "cell_type": "code",
   "execution_count": null,
   "metadata": {
    "collapsed": true
   },
   "outputs": [],
   "source": [
    "ABCD_ID = ABCD_ID[pd.notnull(ABCD_ID.MINING_DW_SUBSCR_NO)]"
   ]
  },
  {
   "cell_type": "code",
   "execution_count": null,
   "metadata": {
    "collapsed": true
   },
   "outputs": [],
   "source": [
    "sims = ['A', 'B', 'C', 'D']\n",
    "for index, row in ABCD_ID.iterrows():\n",
    "    for s in sims:\n",
    "        if pd.notnull(row['MINING_DW_SUBSCR_NO_' + s]) and not row['MINING_DW_SUBSCR_NO_' + s] in row['MINING_DW_SUBSCR_NO']:\n",
    "            ABCD_ID.at[index, 'MINING_DW_SUBSCR_NO_' + s] = None"
   ]
  },
  {
   "cell_type": "code",
   "execution_count": null,
   "metadata": {
    "collapsed": true
   },
   "outputs": [],
   "source": [
    "log(\"Computing Location Bound\")"
   ]
  },
  {
   "cell_type": "code",
   "execution_count": null,
   "metadata": {
    "collapsed": true
   },
   "outputs": [],
   "source": [
    "df4 = pd.concat([df4_4, df4_3, df4_2], ignore_index=True)"
   ]
  },
  {
   "cell_type": "code",
   "execution_count": null,
   "metadata": {
    "collapsed": true,
    "scrolled": true
   },
   "outputs": [],
   "source": [
    "df4.drop(['MINING_DW_SUBSCR_NO_A', 'MINING_DW_SUBSCR_NO_B', 'MINING_DW_SUBSCR_NO_C', 'MINING_DW_SUBSCR_NO_D'], 1, inplace=True)\n",
    "df4 = pd.merge(df4, ABCD_ID, how='left', on='DW_PARTY_ID')"
   ]
  },
  {
   "cell_type": "code",
   "execution_count": null,
   "metadata": {
    "collapsed": true
   },
   "outputs": [],
   "source": [
    "sims = ['A', 'B', 'C', 'D']\n",
    "for s in sims:\n",
    "    df4[s + '_LOCATION'] = df4[s + '_LOCATION_DATA'] + df4[s + '_LOCATION_VOICE']"
   ]
  },
  {
   "cell_type": "code",
   "execution_count": null,
   "metadata": {
    "collapsed": true
   },
   "outputs": [],
   "source": [
    "sims = ['A', 'B', 'C', 'D']\n",
    "for i in range(len(sims) - 1):\n",
    "    s1 = sims[i]\n",
    "    for s2 in sims[i+1:]:\n",
    "        df4[s1 + s2 + '_INTERSECTION'] = df4[s1 + s2 + '_INTERSECTION_VOICE'] + df4[s1 + s2 + '_INTERSECTION_DATA']\n",
    "        df4[s1 + s2 + '_intersect_persentage'] = df4[s1 + s2 + '_INTERSECTION'] / ((df4[s1 + '_LOCATION'] + df4[s2 + '_LOCATION']) / 2)\n",
    "        df4.loc[(df4[s1 + '_LOCATION'] + df4[s2 + '_LOCATION']) == 0, s1 + s2 + '_intersect_persentage'] = 0"
   ]
  },
  {
   "cell_type": "code",
   "execution_count": null,
   "metadata": {
    "collapsed": true
   },
   "outputs": [],
   "source": [
    "location_intersection = pd.concat([\n",
    "    df4.loc[(pd.notnull(df4.MINING_DW_SUBSCR_NO_A) & pd.notnull(df4.MINING_DW_SUBSCR_NO_B)), 'AB_intersect_persentage'].dropna(), \n",
    "    df4.loc[(pd.notnull(df4.MINING_DW_SUBSCR_NO_A) & pd.notnull(df4.MINING_DW_SUBSCR_NO_C)), 'AC_intersect_persentage'].dropna(),\n",
    "    df4.loc[(pd.notnull(df4.MINING_DW_SUBSCR_NO_A) & pd.notnull(df4.MINING_DW_SUBSCR_NO_D)), 'AD_intersect_persentage'].dropna(), \n",
    "    df4.loc[(pd.notnull(df4.MINING_DW_SUBSCR_NO_B) & pd.notnull(df4.MINING_DW_SUBSCR_NO_C)), 'BC_intersect_persentage'].dropna(), \n",
    "    df4.loc[(pd.notnull(df4.MINING_DW_SUBSCR_NO_B) & pd.notnull(df4.MINING_DW_SUBSCR_NO_D)), 'BD_intersect_persentage'].dropna(), \n",
    "    df4.loc[(pd.notnull(df4.MINING_DW_SUBSCR_NO_C) & pd.notnull(df4.MINING_DW_SUBSCR_NO_D)), 'CD_intersect_persentage'].dropna()\n",
    "])\n",
    "\n",
    "location_bound = check_ci_bound(location_intersection)"
   ]
  },
  {
   "cell_type": "code",
   "execution_count": null,
   "metadata": {
    "collapsed": true
   },
   "outputs": [],
   "source": [
    "df2 = pd.concat([df2_4, df2_3, df2_2], ignore_index=True)"
   ]
  },
  {
   "cell_type": "code",
   "execution_count": null,
   "metadata": {
    "collapsed": true,
    "scrolled": true
   },
   "outputs": [],
   "source": [
    "df2.drop(['MINING_DW_SUBSCR_NO_A', 'MINING_DW_SUBSCR_NO_B', 'MINING_DW_SUBSCR_NO_C', 'MINING_DW_SUBSCR_NO_D'], 1, inplace=True)\n",
    "df2 = pd.merge(df2, ABCD_ID, how='left', on='DW_PARTY_ID')"
   ]
  },
  {
   "cell_type": "code",
   "execution_count": null,
   "metadata": {
    "collapsed": true
   },
   "outputs": [],
   "source": [
    "sims = ['A', 'B', 'C', 'D']\n",
    "for i in range(len(sims) - 1):\n",
    "    s1 = sims[i]\n",
    "    for s2 in sims[i+1:]:\n",
    "        df2[s1 + s2 + '_intersect_persentage'] = df2[s1 + s2 + '_INTERSECTION'] / ((df2[s1 + '_CALL_RECORD'] + df2[s2 + '_CALL_RECORD']) / 2)\n",
    "        df2.loc[(df2[s1 + '_CALL_RECORD'] + df2[s2 + '_CALL_RECORD']) == 0, s1 + s2 + '_intersect_persentage'] = 0"
   ]
  },
  {
   "cell_type": "code",
   "execution_count": null,
   "metadata": {
    "collapsed": true
   },
   "outputs": [],
   "source": [
    "call_intersection = pd.concat([\n",
    "    df2.loc[(pd.notnull(df2.MINING_DW_SUBSCR_NO_A) & pd.notnull(df2.MINING_DW_SUBSCR_NO_B)), 'AB_intersect_persentage'].dropna(), \n",
    "    df2.loc[(pd.notnull(df2.MINING_DW_SUBSCR_NO_A) & pd.notnull(df2.MINING_DW_SUBSCR_NO_C)), 'AC_intersect_persentage'].dropna(),\n",
    "    df2.loc[(pd.notnull(df2.MINING_DW_SUBSCR_NO_A) & pd.notnull(df2.MINING_DW_SUBSCR_NO_D)), 'AD_intersect_persentage'].dropna(), \n",
    "    df2.loc[(pd.notnull(df2.MINING_DW_SUBSCR_NO_B) & pd.notnull(df2.MINING_DW_SUBSCR_NO_C)), 'BC_intersect_persentage'].dropna(), \n",
    "    df2.loc[(pd.notnull(df2.MINING_DW_SUBSCR_NO_B) & pd.notnull(df2.MINING_DW_SUBSCR_NO_D)), 'BD_intersect_persentage'].dropna(), \n",
    "    df2.loc[(pd.notnull(df2.MINING_DW_SUBSCR_NO_C) & pd.notnull(df2.MINING_DW_SUBSCR_NO_D)), 'CD_intersect_persentage'].dropna()\n",
    "])\n",
    "\n",
    "call_bound = check_ci_bound(call_intersection)"
   ]
  },
  {
   "cell_type": "code",
   "execution_count": null,
   "metadata": {
    "collapsed": true
   },
   "outputs": [],
   "source": [
    "log(\"Cheking Different or Same behavior in each party id\")"
   ]
  },
  {
   "cell_type": "code",
   "execution_count": null,
   "metadata": {
    "collapsed": true
   },
   "outputs": [],
   "source": [
    "result = ABCD_ID.copy()"
   ]
  },
  {
   "cell_type": "code",
   "execution_count": null,
   "metadata": {
    "collapsed": true,
    "scrolled": true
   },
   "outputs": [],
   "source": [
    "sims = ['A', 'B', 'C', 'D']\n",
    "for i in range(len(sims) - 1):\n",
    "    s1 = sims[i]\n",
    "    for s2 in sims[i+1:]:\n",
    "        result.loc[:, s1 + s2 + '_diff'] = ((df2[s1 + s2 + '_intersect_persentage'] < call_bound) & \\\n",
    "                                    (df4[s1 + s2 + '_intersect_persentage'] < location_bound)) | \\\n",
    "                                    ((df2[s1 + s2 + '_intersect_persentage'] < call_bound) & \\\n",
    "                                    (df4[s1 + s2 + '_intersect_persentage'] >= location_bound) & \\\n",
    "                                    (df1[s1 + s2 + '_SELF_CALL'] > 0))"
   ]
  },
  {
   "cell_type": "code",
   "execution_count": null,
   "metadata": {
    "collapsed": true
   },
   "outputs": [],
   "source": [
    "sims = ['A', 'B', 'C', 'D']\n",
    "result.loc[:, 'All_diff'] = True\n",
    "\n",
    "for i in range(len(sims)-1):\n",
    "    s1 = sims[i]\n",
    "    for s2 in sims[i+1:]:\n",
    "        result.loc[((~pd.isnull(result['MINING_DW_SUBSCR_NO_' + s1])) & \\\n",
    "                   (~pd.isnull(result['MINING_DW_SUBSCR_NO_' + s2])) & \\\n",
    "                   (result[s1 + s2 + '_diff'] == False)), 'All_diff'] = False\n"
   ]
  },
  {
   "cell_type": "code",
   "execution_count": null,
   "metadata": {
    "collapsed": true
   },
   "outputs": [],
   "source": [
    "result_diff_id_df = pd.DataFrame()\n",
    "result_diff_id_df['MINING_DW_SUBSCR_NO'] = np.concatenate(result[result.All_diff].MINING_DW_SUBSCR_NO.values)\n",
    "\n",
    "result_other_id_df = pd.DataFrame()\n",
    "result_other_id_df['MINING_DW_SUBSCR_NO'] = np.concatenate(result[result.All_diff != True].MINING_DW_SUBSCR_NO.values)"
   ]
  },
  {
   "cell_type": "code",
   "execution_count": null,
   "metadata": {
    "collapsed": true
   },
   "outputs": [],
   "source": [
    "log(\"Merging Real sim count\")"
   ]
  },
  {
   "cell_type": "code",
   "execution_count": null,
   "metadata": {
    "collapsed": true
   },
   "outputs": [],
   "source": [
    "result['REAL_PTY_CNT'] = result.MINING_DW_SUBSCR_NO.apply(len)"
   ]
  },
  {
   "cell_type": "code",
   "execution_count": null,
   "metadata": {
    "collapsed": true
   },
   "outputs": [],
   "source": [
    "real_cnt = result.REAL_PTY_CNT.value_counts()"
   ]
  },
  {
   "cell_type": "code",
   "execution_count": null,
   "metadata": {
    "collapsed": true
   },
   "outputs": [],
   "source": [
    "mining_id_to_real_cnt = result.groupby('REAL_PTY_CNT')['MINING_DW_SUBSCR_NO'].apply(np.array)"
   ]
  },
  {
   "cell_type": "code",
   "execution_count": null,
   "metadata": {
    "collapsed": true
   },
   "outputs": [],
   "source": [
    "mining_real_cnt_df = pd.DataFrame()\n",
    "for index in mining_id_to_real_cnt.index:\n",
    "    mining = mining_id_to_real_cnt[index]\n",
    "    temp = np.concatenate(mining)\n",
    "    temp_df = pd.DataFrame()\n",
    "    temp_df['MINING_DW_SUBSCR_NO'] = temp\n",
    "    temp_df['REAL_PTY_CNT'] = [index] * len(temp)\n",
    "    mining_real_cnt_df = pd.concat([mining_real_cnt_df, temp_df], ignore_index=True)"
   ]
  },
  {
   "cell_type": "code",
   "execution_count": null,
   "metadata": {
    "collapsed": true
   },
   "outputs": [],
   "source": [
    "result_diff_id_df = pd.merge(result_diff_id_df, mining_real_cnt_df, how='left', on='MINING_DW_SUBSCR_NO')\n",
    "result_other_id_df = pd.merge(result_other_id_df, mining_real_cnt_df, how='left', on='MINING_DW_SUBSCR_NO')"
   ]
  },
  {
   "cell_type": "code",
   "execution_count": null,
   "metadata": {
    "collapsed": true
   },
   "outputs": [],
   "source": [
    "log(\"Writing to CSV\")"
   ]
  },
  {
   "cell_type": "code",
   "execution_count": null,
   "metadata": {
    "collapsed": true
   },
   "outputs": [],
   "source": [
    "result_diff_id_df.to_csv('result_diff_all.csv', index=False)\n",
    "result_other_id_df.to_csv('result_other_all.csv', index=False)"
   ]
  },
  {
   "cell_type": "code",
   "execution_count": null,
   "metadata": {
    "collapsed": true
   },
   "outputs": [],
   "source": [
    "log(\"Finished\")"
   ]
  }
 ],
 "metadata": {
  "kernelspec": {
   "display_name": "Python 3",
   "language": "python",
   "name": "python3"
  },
  "language_info": {
   "codemirror_mode": {
    "name": "ipython",
    "version": 3
   },
   "file_extension": ".py",
   "mimetype": "text/x-python",
   "name": "python",
   "nbconvert_exporter": "python",
   "pygments_lexer": "ipython3",
   "version": "3.6.1"
  }
 },
 "nbformat": 4,
 "nbformat_minor": 2
}
