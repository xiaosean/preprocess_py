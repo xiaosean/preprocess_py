{
 "cells": [
  {
   "cell_type": "markdown",
   "metadata": {},
   "source": [
    "# Read & Clear Data"
   ]
  },
  {
   "cell_type": "code",
   "execution_count": 1,
   "metadata": {
    "collapsed": true
   },
   "outputs": [],
   "source": [
    "import numpy as np\n",
    "import pandas as pd\n",
    "import feather \n",
    "import matplotlib.pyplot as plt  \n",
    "from time import time\n",
    "from mailerWithUtf8 import mail\n",
    "from sklearn.model_selection import GridSearchCV\n",
    "from sklearn.preprocessing import LabelEncoder\n",
    "from sklearn.ensemble import RandomForestClassifier\n",
    "from sklearn.model_selection import train_test_split  \n",
    "from sklearn.externals import joblib\n",
    "from sklearn import preprocessing\n",
    "from sklearn.metrics import confusion_matrix\n",
    "from sklearn.model_selection import cross_val_score\n",
    "from sklearn.model_selection import ShuffleSplit\n",
    "import os"
   ]
  },
  {
   "cell_type": "code",
   "execution_count": 2,
   "metadata": {
    "collapsed": true
   },
   "outputs": [],
   "source": [
    "def save_dataframe(df, out_filename):\n",
    "   # write to csv and no index\n",
    "    t0 = time()\n",
    "    df.to_csv(out_filename + \".csv\", index=False, encoding='utf-8')\n",
    "#     df.to_csv(out_filename + \".csv\", encoding='utf-8')\n",
    "    print(\"time for output csv file: %.2f\" % (time()-t0))"
   ]
  },
  {
   "cell_type": "code",
   "execution_count": 74,
   "metadata": {
    "collapsed": true
   },
   "outputs": [],
   "source": [
    "file_sample_count = \"3\""
   ]
  },
  {
   "cell_type": "code",
   "execution_count": 75,
   "metadata": {},
   "outputs": [
    {
     "name": "stdout",
     "output_type": "stream",
     "text": [
      "load feather %s seconds 4.6821324825286865\n"
     ]
    }
   ],
   "source": [
    "start_time = time()\n",
    "path = \"C:/Users/VIPLAB/Desktop/preprocess_py/marketing_analyze/\"\n",
    "# filename = '0713_april_marketing_anylze_full_table_group12_select_max_min.feather' \n",
    "# filename = \"0725_april_marketing_anylze_select_294_table_group11_max_min_sample_adult_others_1.csv\"\n",
    "filename = \"0725_april_marketing_anylze_select_294_table_group11_max_min_sample_adult_others_\" + file_sample_count +\".csv\"\n",
    "\n",
    "# train_df = feather.read_dataframe(path + filename)\n",
    "train_df = pd.read_csv(path + filename, error_bad_lines=False)\n",
    "\n",
    "print('load feather %s seconds', format(time() - start_time))"
   ]
  },
  {
   "cell_type": "code",
   "execution_count": null,
   "metadata": {
    "collapsed": true
   },
   "outputs": [],
   "source": []
  },
  {
   "cell_type": "code",
   "execution_count": 76,
   "metadata": {
    "collapsed": true
   },
   "outputs": [],
   "source": [
    "# filename = '0713_april_marketing_anylze_full_table_group12_max_min_test.feather' \n",
    "# filename = '0713_april_marketing_anylze_full_table_group12_select_max_min_test.feather' \n",
    "# filename = '0713_april_marketing_anylze_full_table_group12_max_min.feather' \n",
    "\n",
    "# test_df = feather.read_dataframe(path + filename)\n",
    "# filename = \"0725_april_marketing_anylze_select_294_table_group11_max_min_test.csv\"\n",
    "# test_df = pd.read_csv(path + filename, error_bad_lines=False)\n",
    "\n",
    "# print('load feather %s seconds', format(time() - start_time))"
   ]
  },
  {
   "cell_type": "code",
   "execution_count": 77,
   "metadata": {
    "collapsed": true
   },
   "outputs": [],
   "source": [
    "# train_df = train_df[train_df['Groups'] != 'Infrequent_User']\n",
    "# test_df = test_df[test_df['Groups'] != 'Infrequent_User']\n"
   ]
  },
  {
   "cell_type": "code",
   "execution_count": 78,
   "metadata": {
    "collapsed": true
   },
   "outputs": [],
   "source": [
    "# train_df, test_df = train_test_split(df, test_size = 0.4, random_state = 200)\n"
   ]
  },
  {
   "cell_type": "code",
   "execution_count": 79,
   "metadata": {
    "collapsed": true
   },
   "outputs": [],
   "source": [
    "# train_df = train_df[wants_col]\n",
    "# test_df = test_df[wants_col]"
   ]
  },
  {
   "cell_type": "code",
   "execution_count": 80,
   "metadata": {
    "collapsed": true
   },
   "outputs": [],
   "source": [
    "CLASSIFIER = \"RANDOM_FOREST\"\n",
    "CURRENT_MODE = \"adult_vs_others\"\n"
   ]
  },
  {
   "cell_type": "code",
   "execution_count": 81,
   "metadata": {
    "collapsed": true
   },
   "outputs": [],
   "source": [
    "groups = train_df[\"Groups\"].unique()"
   ]
  },
  {
   "cell_type": "code",
   "execution_count": 82,
   "metadata": {
    "collapsed": true
   },
   "outputs": [],
   "source": [
    "out_filename = CLASSIFIER + \"_\" + CURRENT_MODE + '_'"
   ]
  },
  {
   "cell_type": "code",
   "execution_count": 83,
   "metadata": {
    "collapsed": true
   },
   "outputs": [],
   "source": [
    "out_path = \"clf_random_forest_model_kFold/adult_test_vs_others/\" + file_sample_count +\"/\"\n",
    "if not os.path.exists(out_path):\n",
    "    os.makedirs(out_path)"
   ]
  },
  {
   "cell_type": "code",
   "execution_count": null,
   "metadata": {
    "collapsed": true
   },
   "outputs": [],
   "source": []
  },
  {
   "cell_type": "code",
   "execution_count": null,
   "metadata": {
    "collapsed": true
   },
   "outputs": [],
   "source": []
  },
  {
   "cell_type": "code",
   "execution_count": 84,
   "metadata": {
    "collapsed": true
   },
   "outputs": [],
   "source": [
    "train_x, train_y = train_df.iloc[:, 0:-1].values, train_df.iloc[:, -1].values"
   ]
  },
  {
   "cell_type": "code",
   "execution_count": 85,
   "metadata": {
    "collapsed": true
   },
   "outputs": [],
   "source": [
    "# test_x, test_y = test_df.iloc[:, 0:-1].values, test_df.iloc[:, -1].values"
   ]
  },
  {
   "cell_type": "markdown",
   "metadata": {},
   "source": [
    "# convert y to numeric# "
   ]
  },
  {
   "cell_type": "code",
   "execution_count": 86,
   "metadata": {
    "collapsed": true
   },
   "outputs": [],
   "source": [
    "le = preprocessing.LabelEncoder()\n",
    "le.fit(train_df[\"Groups\"].unique())\n",
    "train_numeric_y = le.transform(train_y)\n"
   ]
  },
  {
   "cell_type": "code",
   "execution_count": 87,
   "metadata": {
    "collapsed": true
   },
   "outputs": [],
   "source": [
    "# test_numeric_y = le.transform(test_y) "
   ]
  },
  {
   "cell_type": "markdown",
   "metadata": {},
   "source": [
    "# build Random Forest Classifier\n"
   ]
  },
  {
   "cell_type": "code",
   "execution_count": 88,
   "metadata": {
    "collapsed": true
   },
   "outputs": [],
   "source": [
    "start_time = time()\n"
   ]
  },
  {
   "cell_type": "code",
   "execution_count": 89,
   "metadata": {
    "collapsed": true
   },
   "outputs": [],
   "source": [
    "rf = RandomForestClassifier(max_features='auto',\n",
    "                            oob_score=True,\n",
    "                            random_state=1,\n",
    "                            n_jobs=3,\n",
    "                            n_estimators = 100)\n",
    "\n"
   ]
  },
  {
   "cell_type": "code",
   "execution_count": 90,
   "metadata": {
    "collapsed": true
   },
   "outputs": [],
   "source": [
    "param_grid = {\"criterion\" : [\"gini\"], \n",
    "              \"min_samples_leaf\" : [20, 22, 25, 30], \n",
    "              \"min_samples_split\" : [2,3,4],\n",
    "              \"max_depth\" : [15, 20, 25],\n",
    "              \"n_estimators\": [300, 500]}\n",
    "# best \n",
    "# {'criterion': 'gini',\n",
    "#  'max_depth': 25,\n",
    "#  'min_samples_leaf': 25,\n",
    "#  'min_samples_split': 2,\n",
    "#  'n_estimators': 100}"
   ]
  },
  {
   "cell_type": "code",
   "execution_count": 91,
   "metadata": {
    "collapsed": true
   },
   "outputs": [],
   "source": [
    "param_grid = {\"criterion\" : [\"gini\"], \n",
    "              \"min_samples_leaf\" : [25], \n",
    "              \"min_samples_split\" : [2],\n",
    "              \"max_depth\" : [25],\n",
    "              \"min_weight_fraction_leaf\" : [0],\n",
    "              \"n_estimators\": [500]}"
   ]
  },
  {
   "cell_type": "code",
   "execution_count": 92,
   "metadata": {
    "collapsed": true
   },
   "outputs": [],
   "source": [
    "# param_grid = {\"criterion\" : [\"gini\"], \n",
    "#               \"min_samples_leaf\" : [10], \n",
    "#               \"min_samples_split\" : [2],\n",
    "# #               \"max_depth\" : [10],\n",
    "#               \"n_estimators\": [100]}"
   ]
  },
  {
   "cell_type": "code",
   "execution_count": 93,
   "metadata": {
    "collapsed": true
   },
   "outputs": [],
   "source": [
    "gs = GridSearchCV(estimator=rf, param_grid=param_grid, scoring='accuracy', cv=5, n_jobs=3)\n",
    "grid_clf = gs.fit(train_x, train_numeric_y)"
   ]
  },
  {
   "cell_type": "code",
   "execution_count": 94,
   "metadata": {},
   "outputs": [
    {
     "data": {
      "text/plain": [
       "0.67489757399990791"
      ]
     },
     "execution_count": 94,
     "metadata": {},
     "output_type": "execute_result"
    }
   ],
   "source": [
    "gs.cv_results_[\"mean_test_score\"][0]"
   ]
  },
  {
   "cell_type": "code",
   "execution_count": 95,
   "metadata": {
    "collapsed": true
   },
   "outputs": [],
   "source": [
    "from winsound import Beep\n",
    "Beep(440, 500) \n",
    "Beep(440, 500) "
   ]
  },
  {
   "cell_type": "code",
   "execution_count": 96,
   "metadata": {
    "scrolled": true
   },
   "outputs": [
    {
     "data": {
      "text/plain": [
       "{'mean_fit_time': array([ 106.46937056]),\n",
       " 'mean_score_time': array([ 1.10299807]),\n",
       " 'mean_test_score': array([ 0.67489757]),\n",
       " 'mean_train_score': array([ 0.77343137]),\n",
       " 'param_criterion': masked_array(data = ['gini'],\n",
       "              mask = [False],\n",
       "        fill_value = ?),\n",
       " 'param_max_depth': masked_array(data = [25],\n",
       "              mask = [False],\n",
       "        fill_value = ?),\n",
       " 'param_min_samples_leaf': masked_array(data = [25],\n",
       "              mask = [False],\n",
       "        fill_value = ?),\n",
       " 'param_min_samples_split': masked_array(data = [2],\n",
       "              mask = [False],\n",
       "        fill_value = ?),\n",
       " 'param_min_weight_fraction_leaf': masked_array(data = [0],\n",
       "              mask = [False],\n",
       "        fill_value = ?),\n",
       " 'param_n_estimators': masked_array(data = [500],\n",
       "              mask = [False],\n",
       "        fill_value = ?),\n",
       " 'params': ({'criterion': 'gini',\n",
       "   'max_depth': 25,\n",
       "   'min_samples_leaf': 25,\n",
       "   'min_samples_split': 2,\n",
       "   'min_weight_fraction_leaf': 0,\n",
       "   'n_estimators': 500},),\n",
       " 'rank_test_score': array([1]),\n",
       " 'split0_test_score': array([ 0.67717732]),\n",
       " 'split0_train_score': array([ 0.77235847]),\n",
       " 'split1_test_score': array([ 0.71537081]),\n",
       " 'split1_train_score': array([ 0.77145192]),\n",
       " 'split2_test_score': array([ 0.71596925]),\n",
       " 'split2_train_score': array([ 0.77058878]),\n",
       " 'split3_test_score': array([ 0.64544492]),\n",
       " 'split3_train_score': array([ 0.77351195]),\n",
       " 'split4_test_score': array([ 0.62052297]),\n",
       " 'split4_train_score': array([ 0.77924574]),\n",
       " 'std_fit_time': array([ 14.94466423]),\n",
       " 'std_score_time': array([ 0.15827224]),\n",
       " 'std_test_score': array([ 0.03782614]),\n",
       " 'std_train_score': array([ 0.00306474])}"
      ]
     },
     "execution_count": 96,
     "metadata": {},
     "output_type": "execute_result"
    }
   ],
   "source": [
    "gs.cv_results_"
   ]
  },
  {
   "cell_type": "code",
   "execution_count": 97,
   "metadata": {
    "collapsed": true
   },
   "outputs": [],
   "source": [
    "clf = grid_clf.best_estimator_"
   ]
  },
  {
   "cell_type": "code",
   "execution_count": 98,
   "metadata": {},
   "outputs": [
    {
     "data": {
      "text/plain": [
       "{'criterion': 'gini',\n",
       " 'max_depth': 25,\n",
       " 'min_samples_leaf': 25,\n",
       " 'min_samples_split': 2,\n",
       " 'min_weight_fraction_leaf': 0,\n",
       " 'n_estimators': 500}"
      ]
     },
     "execution_count": 98,
     "metadata": {},
     "output_type": "execute_result"
    }
   ],
   "source": [
    "gs.best_params_"
   ]
  },
  {
   "cell_type": "code",
   "execution_count": 99,
   "metadata": {},
   "outputs": [
    {
     "data": {
      "text/plain": [
       "0.67489757399990791"
      ]
     },
     "execution_count": 99,
     "metadata": {},
     "output_type": "execute_result"
    }
   ],
   "source": [
    "gs.best_score_"
   ]
  },
  {
   "cell_type": "code",
   "execution_count": 100,
   "metadata": {},
   "outputs": [
    {
     "name": "stdout",
     "output_type": "stream",
     "text": [
      "Start Send Mail\n",
      "User Email : aa26365566@gmail.com - DONE \n",
      "Finish Send Mail\n"
     ]
    }
   ],
   "source": [
    "from mailerWithUtf8 import mail\n",
    "test=mail()\n",
    "test.main(\"clf_info finished\", \"done\")"
   ]
  },
  {
   "cell_type": "markdown",
   "metadata": {},
   "source": [
    "# saving classifier"
   ]
  },
  {
   "cell_type": "code",
   "execution_count": 27,
   "metadata": {
    "collapsed": true
   },
   "outputs": [],
   "source": [
    "# joblib.dump(clf, out_path + out_filename + 'CLF.pkl') \n",
    "# clf = joblib.load('filename.pkl') \n"
   ]
  },
  {
   "cell_type": "code",
   "execution_count": 28,
   "metadata": {},
   "outputs": [
    {
     "name": "stdout",
     "output_type": "stream",
     "text": [
      "Accuracy on training set: 0.671896\n",
      "fit time 770.127076625824 seconds\n",
      "\n"
     ]
    }
   ],
   "source": [
    "clf_info = str((\"Accuracy on training set: %f\" % gs.cv_results_[\"mean_test_score\"][0])) + '\\n'\n",
    "# clf_info += str((\"Accuracy on test set: %f\" % clf.score(test_x, test_numeric_y))) + '\\n'\n",
    "clf_info += str(('fit time %s seconds' % format(time() - start_time))) + '\\n'\n",
    "print(clf_info)"
   ]
  },
  {
   "cell_type": "code",
   "execution_count": null,
   "metadata": {
    "collapsed": true
   },
   "outputs": [],
   "source": [
    "# predict_y = clf.predict(test_x)"
   ]
  },
  {
   "cell_type": "code",
   "execution_count": null,
   "metadata": {
    "collapsed": true
   },
   "outputs": [],
   "source": [
    "# predict_y "
   ]
  },
  {
   "cell_type": "code",
   "execution_count": null,
   "metadata": {
    "collapsed": true
   },
   "outputs": [],
   "source": [
    "# test_numeric_y"
   ]
  },
  {
   "cell_type": "markdown",
   "metadata": {},
   "source": [
    "# get feature importances"
   ]
  },
  {
   "cell_type": "code",
   "execution_count": 102,
   "metadata": {
    "collapsed": true
   },
   "outputs": [],
   "source": [
    "important_dict = dict(zip(train_df.columns[:-1],clf.feature_importances_))"
   ]
  },
  {
   "cell_type": "code",
   "execution_count": 103,
   "metadata": {},
   "outputs": [
    {
     "data": {
      "text/plain": [
       "{'ACTV_CHANNEL_NAME': 0.0057254655176351352,\n",
       " 'ACTV_TYPE': 0.0016295484742762669,\n",
       " 'AGE': 0.0055614526308373387,\n",
       " 'AGENCY_AMT': 0.0020701926143019754,\n",
       " 'AGENCY_FLAG': 0.00060214502134019134,\n",
       " 'ANOTHER_ACTIVE_D': 1.8066764197558478e-06,\n",
       " 'ANOTHER_ACTIVE_VD': 4.7627279217794688e-05,\n",
       " 'APPLY_CURR_EBILL_SBILL_FLAG': 0.0012596318204756004,\n",
       " 'AUTOPAY_IND': 0.0011768960632969796,\n",
       " 'AVG_HS_USE_MONTH': 0.0,\n",
       " 'AVG_HS_USE_MONTH_EX_CURR': 0.0,\n",
       " 'BEST_DRP_DESC': 0.00083424683769659825,\n",
       " 'BEST_VRP_DESC': 0.00027222687843312261,\n",
       " 'BILL_CITY_NAME': 0.0041715371032302545,\n",
       " 'BILL_DISTRICT_NAME': 0.0073437941045640274,\n",
       " 'BL_CYCLE_DESC': 0.0028529104476178015,\n",
       " 'BONDING_FLAG': 0.0011317042268812448,\n",
       " 'BOOSTER_AMT': 0.0,\n",
       " 'CCI_CHG_DATE': 0.0,\n",
       " 'CHANNEL_CHURN_INDEX': 4.8543723929085405e-05,\n",
       " 'CHURN_CLM_IND': 0.00033814361777349545,\n",
       " 'CHURN_IND': 3.6233729729888933e-06,\n",
       " 'CHURN_INDEX': 4.6607436345834054e-05,\n",
       " 'CHURN_TYPE': 7.6867719600520355e-07,\n",
       " 'CHURN_WELCOME_STAGE': 4.657503063992222e-05,\n",
       " 'CURR_BILL_PLAN_NAME': 0.00069665761955414523,\n",
       " 'CURR_BILL_PLAN_START_DATE': 0.0,\n",
       " 'CURR_DATA_BILL_PLAN_END_DATE': 0.0,\n",
       " 'CURR_DATA_BILL_PLAN_NAME': 0.001683381276297251,\n",
       " 'CURR_DATA_BILL_PLAN_START_DATE': 0.0,\n",
       " 'CURR_DEVICE_MAKER': 0.0092329494071570588,\n",
       " 'CURR_DEVICE_MODEL': 0.0074163627395630845,\n",
       " 'CURR_DEVICE_PRICE_TIER': 0.0041622818503716718,\n",
       " 'CURR_PROM_COMMIT_MONTHS': 0.0,\n",
       " 'CURR_PROM_CONTRACT_PERIOD': 0.00051963407837204458,\n",
       " 'CURR_PROM_TTL_CMF': 0.0025577837206564812,\n",
       " 'CUST_TYPE': 8.6007497214405165e-05,\n",
       " 'CVS_PYMT_IND': 0.00098580321877243587,\n",
       " 'DATA_BOOSTER_CURR_APPLY_FLAG': 2.8618218536553039e-06,\n",
       " 'DATA_BOOSTER_CURR_FEATURE_NAME': 0.0,\n",
       " 'DATA_BOOSTER_CURR_START_DATE': 0.0,\n",
       " 'DATA_BOOSTER_EVER_USE_FLAG': 9.7194908866482496e-06,\n",
       " 'DATA_INV_AMT': 0.0054314602796186728,\n",
       " 'DATA_MONTH': 0.0,\n",
       " 'DATA_MONTHLY_FEE': 0.0028311647204264001,\n",
       " 'DATA_RATING_USAGE_MB': 0.029700188568343309,\n",
       " 'DATA_RC_AMT': 0.0044168949474964738,\n",
       " 'DATA_USAGE_MB': 0.037731059345250048,\n",
       " 'DIRECT_STORE_PYMT_IND': 0.00024407714617018242,\n",
       " 'DISC_TYPE_AD_IND': 1.1911265651193358e-05,\n",
       " 'DISC_TYPE_AM_IND': 0.0,\n",
       " 'DISC_TYPE_AW_IND': 0.00015638837453998738,\n",
       " 'DISC_TYPE_DB_IND': 0.00077891035129007988,\n",
       " 'DISC_TYPE_DC_IND': 0.0010317113387365631,\n",
       " 'DISC_TYPE_DM_IND': 0.0,\n",
       " 'DISC_TYPE_DO_IND': 0.00021310139251940019,\n",
       " 'DISC_TYPE_DP_IND': 0.001430530816887247,\n",
       " 'DISC_TYPE_DR_IND': 0.00054696258374139681,\n",
       " 'DISC_TYPE_DS_IND': 0.00054321091197072964,\n",
       " 'DISC_TYPE_DU_IND': 0.0,\n",
       " 'DORMANT_MONTH_CNT_MKT': 0.0,\n",
       " 'DUM_PROM_CODE': 0.00030742461823457073,\n",
       " 'EVER_PSTN_FEATURE_END_DATE': 0.0,\n",
       " 'EVER_PSTN_FEATURE_FLAG': 4.0299669577702476e-06,\n",
       " 'EVER_PSTN_FEATURE_NAME': 5.7252383883639563e-06,\n",
       " 'EVER_PSTN_FEATURE_START_DATE': 0.0,\n",
       " 'EVER_PSTN_MONTH_APPLY_CANCEL_FLAG': 0.0,\n",
       " 'FETNET_IND': 0.00053431183298973501,\n",
       " 'FLAT_RATE_3G_IND': 0.00027389012119602663,\n",
       " 'FLAT_RATE_4G_IND': 0.00075191207749871402,\n",
       " 'GA_DATE': 0.0,\n",
       " 'GA_IND': 0.0,\n",
       " 'GENDER_CODE': 0.095645676306105515,\n",
       " 'GOOGLE_PLAY_IND': 0.00074543365627428404,\n",
       " 'GPRS_AMT': 5.3950908298419117e-06,\n",
       " 'GPRS_CAP_IND': 0.0,\n",
       " 'HAPPYGO_IND': 0.0081286367768757008,\n",
       " 'HG_SEGMENT': 0.0024921691137022722,\n",
       " 'HS_CHG_CNT': 0.0015768168639034585,\n",
       " 'HS_LEASE_CONTR_END_DATE': 0.0,\n",
       " 'HS_LEASE_CONTR_NAME': 0.0,\n",
       " 'HS_LEASE_CONTR_START_DATE': 0.0,\n",
       " 'HS_LEASE_FEATURE_END_DATE': 0.0,\n",
       " 'HS_LEASE_FEATURE_NAME': 0.00038297758305801371,\n",
       " 'HS_LEASE_FEATURE_START_DATE': 0.0,\n",
       " 'HS_USE_MONTH': 0.0,\n",
       " 'IDD_AMT': 8.0737477974638309e-06,\n",
       " 'IMEI_BAND': 0.0023409111418602269,\n",
       " 'IMEI_MFG_NAME': 0.03304383909801413,\n",
       " 'IMEI_MKT_NAME': 0.032640131905697534,\n",
       " 'IMEI_SMART_OS_FLAG': 0.03397587207558031,\n",
       " 'IMEI_TYPE': 0.00052118809694468742,\n",
       " 'INACTV_DATE': 0.0,\n",
       " 'INT_ROAM_AMT': 8.354519891712397e-05,\n",
       " 'L1M_CHANNEL_CHURN_INDEX': 3.8736408172751088e-05,\n",
       " 'L1M_DATA_BILL_PLAN_NAME': 0.0018446251038749257,\n",
       " 'L1M_DATA_MONTHLY_FEE': 0.0038447109669372294,\n",
       " 'L1M_DATA_USAGE_MB': 0.025795612548566452,\n",
       " 'L1M_DEVICE_MAKER': 0.0038910616712690086,\n",
       " 'L1M_DEVICE_MODEL': 0.0060294278584726137,\n",
       " 'L1M_DEVICE_PRICE_TIER': 0.0010635440821977495,\n",
       " 'L1M_DEVICE_TENURE': 0.0025446972976515495,\n",
       " 'L1M_DEVICE_TYPE': 0.0011658553748673008,\n",
       " 'L1M_GPRS_AMT': 3.3173251054466819e-06,\n",
       " 'L1M_NET_INV_AMT': 0.0062229288483089812,\n",
       " 'L1M_PROM_CODE': 0.0046875312415066836,\n",
       " 'L1M_PROM_COMMIT_MONTHS': 0.0,\n",
       " 'L1M_PROM_CONTRACT_PERIOD': 0.00050894518088864815,\n",
       " 'L1M_PROM_TTL_CMF': 0.0024831572559642565,\n",
       " 'L1M_VOICE_MONTHLY_FEE': 0.00030364160895911306,\n",
       " 'L2M_DATA_USAGE_MB': 0.023519049608132576,\n",
       " 'L2M_DEVICE_MAKER': 0.0020964610611391792,\n",
       " 'L2M_DEVICE_MODEL': 0.0028501292320098227,\n",
       " 'L2M_DEVICE_PRICE_TIER': 0.00045704826177870417,\n",
       " 'L2M_DEVICE_TENURE': 0.0015938743550977367,\n",
       " 'L2M_DEVICE_TYPE': 0.00075896724704140799,\n",
       " 'L2M_GPRS_AMT': 1.1735183736777083e-05,\n",
       " 'L2M_NET_INV_AMT': 0.0061989410710648462,\n",
       " 'L3M_AVG_NET_INV_AMT': 0.0070234674059891037,\n",
       " 'L3M_AVG_SMS_INV_AMT': 0.0019203635684423182,\n",
       " 'L3M_AVG_VAS_MB': 0.031992215002652064,\n",
       " 'L3M_CVS_PYMT_IND': 0.00068159457457544971,\n",
       " 'L3M_DATA_USAGE_MB': 0.021417569292567596,\n",
       " 'L3M_DIRECT_STORE_PYMT_IND': 6.6443978610064878e-05,\n",
       " 'L3M_GPRS_AMT': 5.2678693630917853e-06,\n",
       " 'L3M_NET_INV_AMT': 0.0057827405178013042,\n",
       " 'L3M_VIRTUAL_CHANNEL_PYMT_IND': 0.0002559795947692107,\n",
       " 'L6M_AVG_GPRS_AMT': 8.0150469519681377e-05,\n",
       " 'L6M_AVG_NET_INV_AMT': 0.0064383514735603204,\n",
       " 'L6M_AVG_VAS_MB': 0.029562157942655383,\n",
       " 'LAST_CHANNEL_TYPE': 0.0018786783739601182,\n",
       " 'LIM_BILL_PLAN_NAME': 0.00059907629928888527,\n",
       " 'MDS_CURR_RENEW_CNT': 0.0018308252244711117,\n",
       " 'MDS_CURR_RENEW_TYPE': 0.0015073171713053731,\n",
       " 'MDS_ELIGIBLE_FLAG': 0.00032494281145944748,\n",
       " 'MKT_CHURN_DATE': 0.0,\n",
       " 'MOC_CHM_DUR': 0.0055499331097480179,\n",
       " 'MOC_FET_DUR': 0.0044989769666498453,\n",
       " 'MOC_OTH_DUR': 0.0030239423863782657,\n",
       " 'MOC_PSTN_DUR': 0.0052303721714301232,\n",
       " 'MOC_TWM_DUR': 0.0048759989513099556,\n",
       " 'MOST_MO_DUR': 0.0056986334055426288,\n",
       " 'MOST_MO_OPERATOR': 0.0014807922589639257,\n",
       " 'MOST_MT_DUR': 0.0068726683994159684,\n",
       " 'MOST_MT_OPERATOR': 0.0014134348830962069,\n",
       " 'MO_OFFNET_CNT': 0.0053615458611709181,\n",
       " 'MO_OFFNET_DUR': 0.00581901076146067,\n",
       " 'MO_ONNET_CNT': 0.0032740269388713225,\n",
       " 'MO_ONNET_DUR': 0.0046014816594984482,\n",
       " 'MO_TTL_COUNT': 0.0049397767724399851,\n",
       " 'MO_TTL_DURATION': 0.0058076173938622086,\n",
       " 'MSISDN_LAST_NP_OUT_IND': 0.00018261970663547764,\n",
       " 'MTC_CHM_DUR': 0.005642584082052619,\n",
       " 'MTC_FET_DUR': 0.0053093831100094737,\n",
       " 'MTC_PSTN_DUR': 0.0062153576965707762,\n",
       " 'MTC_TWM_DUR': 0.0049495409143606129,\n",
       " 'MT_OFFNET_CNT': 0.0053804918369570864,\n",
       " 'MT_OFFNET_DUR': 0.0062632071060136464,\n",
       " 'MT_ONNET_CNT': 0.0037289174094972083,\n",
       " 'MT_ONNET_DUR': 0.0053592418161936524,\n",
       " 'MT_PSTN_CNT': 0.0035989704869410209,\n",
       " 'MT_PSTN_DUR': 0.0060465612616768874,\n",
       " 'MT_STM_AMT': 0.0067805784309050996,\n",
       " 'MT_TTL_COUNT': 0.0061264742077147437,\n",
       " 'MT_TTL_DURATION': 0.0071509307499426399,\n",
       " 'MULTI_SIM_EXCLUDE_WBB': 3.7749586564178658e-05,\n",
       " 'MULTI_SIM_INCLUDE_WBB': 0.00036876592135594148,\n",
       " 'NET_INV_AMT': 0.0064830747034384578,\n",
       " 'NP_IN_DATE': 0.0,\n",
       " 'NP_IN_IND': 0.00085520910936558658,\n",
       " 'NRC_AMT': 1.6896442565704846e-05,\n",
       " 'OFFNETM_AMT': 0.0008892110033286363,\n",
       " 'ONNET_AMT': 0.0001598885081978635,\n",
       " 'ORIG_OPR_ID': 0.0021394089675947129,\n",
       " 'OTH_SMS_MO_CNT': 0.0,\n",
       " 'P1M_MO_OFFNET_CNT': 0.0064292005419484726,\n",
       " 'P1M_MO_OFFNET_DUR': 0.0064342630043941916,\n",
       " 'P1M_MO_ONNET_CNT': 0.0033635192246050266,\n",
       " 'P1M_MO_ONNET_DUR': 0.0046073884657652281,\n",
       " 'P1M_MO_PSTN_CNT': 0.0030058047587963356,\n",
       " 'P1M_MO_PSTN_DUR': 0.0055679767038473186,\n",
       " 'P2P_SMS_MO_CNT': 0.00069659908736345577,\n",
       " 'P2P_SMS_MO_INT_CNT': 0.0,\n",
       " 'P2P_SMS_MO_OFFNET_CNT': 0.00042802730612651675,\n",
       " 'P2P_SMS_MO_ONNET_CNT': 0.0001559873653443848,\n",
       " 'P3M_AVG_DATA_USAGE_MB': 0.030938355919528641,\n",
       " 'P3M_MO_OFFNET_CNT': 0.0067431679182600682,\n",
       " 'P3M_MO_OFFNET_DUR': 0.0064400484619333643,\n",
       " 'P3M_MO_ONNET_CNT': 0.0038545533429472515,\n",
       " 'P3M_MO_ONNET_DUR': 0.0055956943521782787,\n",
       " 'P3M_MO_PSTN_CNT': 0.0031082227493519411,\n",
       " 'P3M_MO_PSTN_DUR': 0.0063572035932362228,\n",
       " 'P6M_AVG_DATA_USAGE_MB': 0.029560864697812286,\n",
       " 'P6M_AVG_NET_INV_AMT': 0.0062658411322646969,\n",
       " 'P6M_MO_OFFNET_CNT': 0.006189083181727428,\n",
       " 'P6M_MO_OFFNET_DUR': 0.0067106155859270617,\n",
       " 'P6M_MO_ONNET_CNT': 0.0040184870784885848,\n",
       " 'P6M_MO_ONNET_DUR': 0.0058280892200045578,\n",
       " 'P6M_MO_PSTN_CNT': 0.0033062700461484523,\n",
       " 'P6M_MO_PSTN_DUR': 0.0061306100058748439,\n",
       " 'PAY_PENALTY_AMT': 0.00033031054872633152,\n",
       " 'PAY_PENALTY_DATE': 0.0,\n",
       " 'PAY_PENALTY_FLAG': 0.0,\n",
       " 'PRE_DATA_BILL_PLAN_END_DATE': 0.0,\n",
       " 'PRE_DATA_BILL_PLAN_ID': 0.001847697440314108,\n",
       " 'PRE_DATA_BILL_PLAN_NAME': 0.0018005381681780897,\n",
       " 'PRE_DATA_BILL_PLAN_START_DATE': 0.0,\n",
       " 'PROM_ACTV_PROM_CATG': 0.0011783516553308751,\n",
       " 'PROM_ACTV_PROM_CODE': 0.0053196591074122987,\n",
       " 'PROM_ACTV_PROM_SUB_TYPE': 0.0037400945073826808,\n",
       " 'PROM_ACTV_PROM_TYPE': 0.0032769699218621827,\n",
       " 'PROM_BUNDLE_DRP': 0.0018891976397018629,\n",
       " 'PROM_BUNDLE_VRP': 0.00087151110658598109,\n",
       " 'PROM_CURR_APPLY_DATE': 0.0,\n",
       " 'PROM_CURR_CONTR_EXP_DATE': 0.0,\n",
       " 'PROM_CURR_END_DATE': 0.0,\n",
       " 'PROM_CURR_EXP_MONTH_CNT': 0.0,\n",
       " 'PROM_CURR_PROMOTION_SUB_TYPE': 0.0038594469497382645,\n",
       " 'PROM_CURR_PROMOTION_TYPE': 0.0044867990895470118,\n",
       " 'PROM_CURR_PROM_CODE': 0.0047076017761861115,\n",
       " 'PROM_CURR_START_DATE': 0.0,\n",
       " 'PROM_CURR_SYS_MODEL_IND': 0.00018227279859003512,\n",
       " 'PROM_DEVICE_BRAND': 0.0061684526602630504,\n",
       " 'PROM_DEVICE_MODEL': 0.0060035857777778652,\n",
       " 'PROM_DEVICE_OS': 0.0060826028130035728,\n",
       " 'PROM_DEVICE_TYPE': 0.00037912215444961902,\n",
       " 'PROM_FLAT_RATE_4G_IND': 0.0006923947528081467,\n",
       " 'PSTN_AMT': 0.005450426339197287,\n",
       " 'PSTN_CNT': 0.0029361052646875519,\n",
       " 'PSTN_DUR': 0.0056066150703330776,\n",
       " 'PTY_CBU_EBU_PO_CNT': 5.8146369861426115e-05,\n",
       " 'PTY_CBU_PO_CNT': 0.0,\n",
       " 'PTY_CBU_PO_D_CNT': 5.0424276642843172e-05,\n",
       " 'PTY_CBU_PO_VD_CNT': 5.2196836438186129e-05,\n",
       " 'PTY_CBU_PO_V_CNT': 0.0,\n",
       " 'PTY_EBU_PO_CNT': 6.9011122485883775e-05,\n",
       " 'PTY_EVER_PO_CNT': 0.0027744981246523195,\n",
       " 'PTY_EVER_PP_CNT': 0.0012561651705654323,\n",
       " 'PTY_NP_IN_IND': 0.0007902766486109807,\n",
       " 'PTY_NP_OUT_IND': 0.00042430421019129972,\n",
       " 'PTY_PO_ALL_CNT': 5.954220641804129e-05,\n",
       " 'RENEW_APPLY_DATE': 0.0,\n",
       " 'RENEW_IND': 3.0182573623836751e-06,\n",
       " 'RETAIL_STORE_CHURN_DEPUTY_FALG': 0.0,\n",
       " 'RETAIL_STORE_CHURN_FLAG': 0.0,\n",
       " 'RETAIL_STORE_CHURN_SRV_DATE': 0.0,\n",
       " 'RETAIL_STORE_CHURN_STOP_REASON': 4.4729215765124548e-07,\n",
       " 'RPS_NAME': 1.9628647459363903e-05,\n",
       " 'SEGMENT_NAME': 0.001572845544688237,\n",
       " 'SELFCARE_IND': 0.00086797624980614258,\n",
       " 'SERVICE_APPLY_MOVIE_FLAG': 0.0,\n",
       " 'SERVICE_APPLY_OMUSIC_FLAG': 0.0,\n",
       " 'SERVICE_APPLY_READING_FLAG': 0.0,\n",
       " 'SERVICE_STATUS_MOVIE_FLAG': 0.00015930103149011611,\n",
       " 'SERVICE_STATUS_OMUSIC_FLAG': 0.0,\n",
       " 'SERVICE_STATUS_READING_FLAG': 0.0,\n",
       " 'SHIPMENT_CHANNEL_ID': 0.0011184769208826936,\n",
       " 'SHIPMENT_CHANNEL_NAME': 0.0055076030614972923,\n",
       " 'SMS2AP_SMS_MO_CNT': 0.0,\n",
       " 'SMS2P_SMS_MO_CNT': 0.00067344568653566073,\n",
       " 'SMS30_FLAG': 1.4647520751096223e-05,\n",
       " 'SMS_INV_AMT': 0.00073855557955651921,\n",
       " 'SMS_MO_FET_CNT': 0.00017922657993352343,\n",
       " 'SMS_MO_INT_CNT': 0.0,\n",
       " 'SMS_MO_OFFNET_CNT': 0.0004454121715440671,\n",
       " 'SMS_PROM_IND': 0.00070594104941733413,\n",
       " 'SPAUTH_IND': 2.2399353268443649e-05,\n",
       " 'SRV_TYPE_DESC': 0.00041130007848919867,\n",
       " 'STORE_TYPE': 0.0035661706881177225,\n",
       " 'SUBSCR_STATUS_CODE': 3.1314882855023602e-06,\n",
       " 'SUSPEND_IND': 3.469536944580579e-06,\n",
       " 'TARGET_OPR_ID': 0.0,\n",
       " 'TEMP_INACTV_DATE': 0.0,\n",
       " 'TENURE_SCV': 0.0078660000022569513,\n",
       " 'TOTAL_MONTHLY_FEE': 0.0029328709686086527,\n",
       " 'VAS_AMT': 1.9997752780425067e-05,\n",
       " 'VIP_BEFORE_EXP_MONTH': 0.0,\n",
       " 'VIP_EXPIRY_DATE': 0.0,\n",
       " 'VIP_GRADE': 4.4421447476805014e-05,\n",
       " 'VIP_MSISDN_CHG_IND': 0.0,\n",
       " 'VIP_REDEEM_IND': 1.2182932030593777e-05,\n",
       " 'VIP_TENURE': 8.6818852528813665e-05,\n",
       " 'VIRTUAL_CHANNEL_PYMT_IND': 0.00069195509123164654,\n",
       " 'VOICE_INV_AMT': 0.0053927340656471671,\n",
       " 'VOICE_MONTHLY_FEE': 0.00029405019715566036,\n",
       " 'VOICE_RC_AMT': 0.002654129313744064,\n",
       " 'W2P_SMS_MO_CNT': 0.0,\n",
       " 'W2P_SMS_MO_INT_CNT': 0.0,\n",
       " 'W2P_SMS_MO_OFFNET_CNT': 0.0,\n",
       " 'W2P_SMS_MO_ONNET_CNT': 0.0,\n",
       " 'ZONE_ACTIVATION_IVR': 0.0012587941014301361,\n",
       " 'ZONE_ACTV_IVR_COUNTRY': 0.0024156338861079313,\n",
       " 'ZONE_ACTV_IVR_REGION': 0.0037683822282939513}"
      ]
     },
     "execution_count": 103,
     "metadata": {},
     "output_type": "execute_result"
    }
   ],
   "source": [
    "important_dict"
   ]
  },
  {
   "cell_type": "code",
   "execution_count": 109,
   "metadata": {
    "collapsed": true
   },
   "outputs": [],
   "source": [
    "important_list = sorted(important_dict.items(), key=lambda x: x[1])"
   ]
  },
  {
   "cell_type": "code",
   "execution_count": 110,
   "metadata": {
    "collapsed": true
   },
   "outputs": [],
   "source": [
    "important_list.reverse()"
   ]
  },
  {
   "cell_type": "code",
   "execution_count": 112,
   "metadata": {},
   "outputs": [
    {
     "name": "stdout",
     "output_type": "stream",
     "text": [
      "('GENDER_CODE', 0.095645676306105515)\n",
      "('DATA_USAGE_MB', 0.037731059345250048)\n",
      "('IMEI_SMART_OS_FLAG', 0.03397587207558031)\n",
      "('IMEI_MFG_NAME', 0.03304383909801413)\n",
      "('IMEI_MKT_NAME', 0.032640131905697534)\n",
      "('L3M_AVG_VAS_MB', 0.031992215002652064)\n",
      "('P3M_AVG_DATA_USAGE_MB', 0.030938355919528641)\n",
      "('DATA_RATING_USAGE_MB', 0.029700188568343309)\n",
      "('L6M_AVG_VAS_MB', 0.029562157942655383)\n",
      "('P6M_AVG_DATA_USAGE_MB', 0.029560864697812286)\n",
      "('L1M_DATA_USAGE_MB', 0.025795612548566452)\n",
      "('L2M_DATA_USAGE_MB', 0.023519049608132576)\n",
      "('L3M_DATA_USAGE_MB', 0.021417569292567596)\n",
      "('CURR_DEVICE_MAKER', 0.0092329494071570588)\n",
      "('HAPPYGO_IND', 0.0081286367768757008)\n",
      "('TENURE_SCV', 0.0078660000022569513)\n",
      "('CURR_DEVICE_MODEL', 0.0074163627395630845)\n",
      "('BILL_DISTRICT_NAME', 0.0073437941045640274)\n",
      "('MT_TTL_DURATION', 0.0071509307499426399)\n",
      "('L3M_AVG_NET_INV_AMT', 0.0070234674059891037)\n",
      "('MOST_MT_DUR', 0.0068726683994159684)\n",
      "('MT_STM_AMT', 0.0067805784309050996)\n",
      "('P3M_MO_OFFNET_CNT', 0.0067431679182600682)\n",
      "('P6M_MO_OFFNET_DUR', 0.0067106155859270617)\n",
      "('NET_INV_AMT', 0.0064830747034384578)\n",
      "('P3M_MO_OFFNET_DUR', 0.0064400484619333643)\n",
      "('L6M_AVG_NET_INV_AMT', 0.0064383514735603204)\n",
      "('P1M_MO_OFFNET_DUR', 0.0064342630043941916)\n",
      "('P1M_MO_OFFNET_CNT', 0.0064292005419484726)\n",
      "('P3M_MO_PSTN_DUR', 0.0063572035932362228)\n",
      "('P6M_AVG_NET_INV_AMT', 0.0062658411322646969)\n",
      "('MT_OFFNET_DUR', 0.0062632071060136464)\n",
      "('L1M_NET_INV_AMT', 0.0062229288483089812)\n",
      "('MTC_PSTN_DUR', 0.0062153576965707762)\n",
      "('L2M_NET_INV_AMT', 0.0061989410710648462)\n",
      "('P6M_MO_OFFNET_CNT', 0.006189083181727428)\n",
      "('PROM_DEVICE_BRAND', 0.0061684526602630504)\n",
      "('P6M_MO_PSTN_DUR', 0.0061306100058748439)\n",
      "('MT_TTL_COUNT', 0.0061264742077147437)\n",
      "('PROM_DEVICE_OS', 0.0060826028130035728)\n",
      "('MT_PSTN_DUR', 0.0060465612616768874)\n",
      "('L1M_DEVICE_MODEL', 0.0060294278584726137)\n",
      "('PROM_DEVICE_MODEL', 0.0060035857777778652)\n",
      "('P6M_MO_ONNET_DUR', 0.0058280892200045578)\n",
      "('MO_OFFNET_DUR', 0.00581901076146067)\n",
      "('MO_TTL_DURATION', 0.0058076173938622086)\n",
      "('L3M_NET_INV_AMT', 0.0057827405178013042)\n",
      "('ACTV_CHANNEL_NAME', 0.0057254655176351352)\n",
      "('MOST_MO_DUR', 0.0056986334055426288)\n",
      "('MTC_CHM_DUR', 0.005642584082052619)\n",
      "('PSTN_DUR', 0.0056066150703330776)\n",
      "('P3M_MO_ONNET_DUR', 0.0055956943521782787)\n",
      "('P1M_MO_PSTN_DUR', 0.0055679767038473186)\n",
      "('AGE', 0.0055614526308373387)\n",
      "('MOC_CHM_DUR', 0.0055499331097480179)\n",
      "('SHIPMENT_CHANNEL_NAME', 0.0055076030614972923)\n",
      "('PSTN_AMT', 0.005450426339197287)\n",
      "('DATA_INV_AMT', 0.0054314602796186728)\n",
      "('VOICE_INV_AMT', 0.0053927340656471671)\n",
      "('MT_OFFNET_CNT', 0.0053804918369570864)\n",
      "('MO_OFFNET_CNT', 0.0053615458611709181)\n",
      "('MT_ONNET_DUR', 0.0053592418161936524)\n",
      "('PROM_ACTV_PROM_CODE', 0.0053196591074122987)\n",
      "('MTC_FET_DUR', 0.0053093831100094737)\n",
      "('MOC_PSTN_DUR', 0.0052303721714301232)\n",
      "('MTC_TWM_DUR', 0.0049495409143606129)\n",
      "('MO_TTL_COUNT', 0.0049397767724399851)\n",
      "('MOC_TWM_DUR', 0.0048759989513099556)\n",
      "('PROM_CURR_PROM_CODE', 0.0047076017761861115)\n",
      "('L1M_PROM_CODE', 0.0046875312415066836)\n",
      "('P1M_MO_ONNET_DUR', 0.0046073884657652281)\n",
      "('MO_ONNET_DUR', 0.0046014816594984482)\n",
      "('MOC_FET_DUR', 0.0044989769666498453)\n",
      "('PROM_CURR_PROMOTION_TYPE', 0.0044867990895470118)\n",
      "('DATA_RC_AMT', 0.0044168949474964738)\n",
      "('BILL_CITY_NAME', 0.0041715371032302545)\n",
      "('CURR_DEVICE_PRICE_TIER', 0.0041622818503716718)\n",
      "('P6M_MO_ONNET_CNT', 0.0040184870784885848)\n",
      "('L1M_DEVICE_MAKER', 0.0038910616712690086)\n",
      "('PROM_CURR_PROMOTION_SUB_TYPE', 0.0038594469497382645)\n",
      "('P3M_MO_ONNET_CNT', 0.0038545533429472515)\n",
      "('L1M_DATA_MONTHLY_FEE', 0.0038447109669372294)\n",
      "('ZONE_ACTV_IVR_REGION', 0.0037683822282939513)\n",
      "('PROM_ACTV_PROM_SUB_TYPE', 0.0037400945073826808)\n",
      "('MT_ONNET_CNT', 0.0037289174094972083)\n",
      "('MT_PSTN_CNT', 0.0035989704869410209)\n",
      "('STORE_TYPE', 0.0035661706881177225)\n",
      "('P1M_MO_ONNET_CNT', 0.0033635192246050266)\n",
      "('P6M_MO_PSTN_CNT', 0.0033062700461484523)\n",
      "('PROM_ACTV_PROM_TYPE', 0.0032769699218621827)\n",
      "('MO_ONNET_CNT', 0.0032740269388713225)\n",
      "('P3M_MO_PSTN_CNT', 0.0031082227493519411)\n",
      "('MOC_OTH_DUR', 0.0030239423863782657)\n",
      "('P1M_MO_PSTN_CNT', 0.0030058047587963356)\n",
      "('PSTN_CNT', 0.0029361052646875519)\n",
      "('TOTAL_MONTHLY_FEE', 0.0029328709686086527)\n",
      "('BL_CYCLE_DESC', 0.0028529104476178015)\n",
      "('L2M_DEVICE_MODEL', 0.0028501292320098227)\n",
      "('DATA_MONTHLY_FEE', 0.0028311647204264001)\n",
      "('PTY_EVER_PO_CNT', 0.0027744981246523195)\n",
      "('VOICE_RC_AMT', 0.002654129313744064)\n",
      "('CURR_PROM_TTL_CMF', 0.0025577837206564812)\n",
      "('L1M_DEVICE_TENURE', 0.0025446972976515495)\n",
      "('HG_SEGMENT', 0.0024921691137022722)\n",
      "('L1M_PROM_TTL_CMF', 0.0024831572559642565)\n",
      "('ZONE_ACTV_IVR_COUNTRY', 0.0024156338861079313)\n",
      "('IMEI_BAND', 0.0023409111418602269)\n",
      "('ORIG_OPR_ID', 0.0021394089675947129)\n",
      "('L2M_DEVICE_MAKER', 0.0020964610611391792)\n",
      "('AGENCY_AMT', 0.0020701926143019754)\n",
      "('L3M_AVG_SMS_INV_AMT', 0.0019203635684423182)\n",
      "('PROM_BUNDLE_DRP', 0.0018891976397018629)\n",
      "('LAST_CHANNEL_TYPE', 0.0018786783739601182)\n",
      "('PRE_DATA_BILL_PLAN_ID', 0.001847697440314108)\n",
      "('L1M_DATA_BILL_PLAN_NAME', 0.0018446251038749257)\n",
      "('MDS_CURR_RENEW_CNT', 0.0018308252244711117)\n",
      "('PRE_DATA_BILL_PLAN_NAME', 0.0018005381681780897)\n",
      "('CURR_DATA_BILL_PLAN_NAME', 0.001683381276297251)\n",
      "('ACTV_TYPE', 0.0016295484742762669)\n",
      "('L2M_DEVICE_TENURE', 0.0015938743550977367)\n",
      "('HS_CHG_CNT', 0.0015768168639034585)\n",
      "('SEGMENT_NAME', 0.001572845544688237)\n",
      "('MDS_CURR_RENEW_TYPE', 0.0015073171713053731)\n",
      "('MOST_MO_OPERATOR', 0.0014807922589639257)\n",
      "('DISC_TYPE_DP_IND', 0.001430530816887247)\n",
      "('MOST_MT_OPERATOR', 0.0014134348830962069)\n",
      "('APPLY_CURR_EBILL_SBILL_FLAG', 0.0012596318204756004)\n",
      "('ZONE_ACTIVATION_IVR', 0.0012587941014301361)\n",
      "('PTY_EVER_PP_CNT', 0.0012561651705654323)\n",
      "('PROM_ACTV_PROM_CATG', 0.0011783516553308751)\n",
      "('AUTOPAY_IND', 0.0011768960632969796)\n",
      "('L1M_DEVICE_TYPE', 0.0011658553748673008)\n",
      "('BONDING_FLAG', 0.0011317042268812448)\n",
      "('SHIPMENT_CHANNEL_ID', 0.0011184769208826936)\n",
      "('L1M_DEVICE_PRICE_TIER', 0.0010635440821977495)\n",
      "('DISC_TYPE_DC_IND', 0.0010317113387365631)\n",
      "('CVS_PYMT_IND', 0.00098580321877243587)\n",
      "('OFFNETM_AMT', 0.0008892110033286363)\n",
      "('PROM_BUNDLE_VRP', 0.00087151110658598109)\n",
      "('SELFCARE_IND', 0.00086797624980614258)\n",
      "('NP_IN_IND', 0.00085520910936558658)\n",
      "('BEST_DRP_DESC', 0.00083424683769659825)\n",
      "('PTY_NP_IN_IND', 0.0007902766486109807)\n",
      "('DISC_TYPE_DB_IND', 0.00077891035129007988)\n",
      "('L2M_DEVICE_TYPE', 0.00075896724704140799)\n",
      "('FLAT_RATE_4G_IND', 0.00075191207749871402)\n",
      "('GOOGLE_PLAY_IND', 0.00074543365627428404)\n",
      "('SMS_INV_AMT', 0.00073855557955651921)\n",
      "('SMS_PROM_IND', 0.00070594104941733413)\n",
      "('CURR_BILL_PLAN_NAME', 0.00069665761955414523)\n",
      "('P2P_SMS_MO_CNT', 0.00069659908736345577)\n",
      "('PROM_FLAT_RATE_4G_IND', 0.0006923947528081467)\n",
      "('VIRTUAL_CHANNEL_PYMT_IND', 0.00069195509123164654)\n",
      "('L3M_CVS_PYMT_IND', 0.00068159457457544971)\n",
      "('SMS2P_SMS_MO_CNT', 0.00067344568653566073)\n",
      "('AGENCY_FLAG', 0.00060214502134019134)\n",
      "('LIM_BILL_PLAN_NAME', 0.00059907629928888527)\n",
      "('DISC_TYPE_DR_IND', 0.00054696258374139681)\n",
      "('DISC_TYPE_DS_IND', 0.00054321091197072964)\n",
      "('FETNET_IND', 0.00053431183298973501)\n",
      "('IMEI_TYPE', 0.00052118809694468742)\n",
      "('CURR_PROM_CONTRACT_PERIOD', 0.00051963407837204458)\n",
      "('L1M_PROM_CONTRACT_PERIOD', 0.00050894518088864815)\n",
      "('L2M_DEVICE_PRICE_TIER', 0.00045704826177870417)\n",
      "('SMS_MO_OFFNET_CNT', 0.0004454121715440671)\n",
      "('P2P_SMS_MO_OFFNET_CNT', 0.00042802730612651675)\n",
      "('PTY_NP_OUT_IND', 0.00042430421019129972)\n",
      "('SRV_TYPE_DESC', 0.00041130007848919867)\n",
      "('HS_LEASE_FEATURE_NAME', 0.00038297758305801371)\n",
      "('PROM_DEVICE_TYPE', 0.00037912215444961902)\n",
      "('MULTI_SIM_INCLUDE_WBB', 0.00036876592135594148)\n",
      "('CHURN_CLM_IND', 0.00033814361777349545)\n",
      "('PAY_PENALTY_AMT', 0.00033031054872633152)\n",
      "('MDS_ELIGIBLE_FLAG', 0.00032494281145944748)\n",
      "('DUM_PROM_CODE', 0.00030742461823457073)\n",
      "('L1M_VOICE_MONTHLY_FEE', 0.00030364160895911306)\n",
      "('VOICE_MONTHLY_FEE', 0.00029405019715566036)\n",
      "('FLAT_RATE_3G_IND', 0.00027389012119602663)\n",
      "('BEST_VRP_DESC', 0.00027222687843312261)\n",
      "('L3M_VIRTUAL_CHANNEL_PYMT_IND', 0.0002559795947692107)\n",
      "('DIRECT_STORE_PYMT_IND', 0.00024407714617018242)\n",
      "('DISC_TYPE_DO_IND', 0.00021310139251940019)\n",
      "('MSISDN_LAST_NP_OUT_IND', 0.00018261970663547764)\n",
      "('PROM_CURR_SYS_MODEL_IND', 0.00018227279859003512)\n",
      "('SMS_MO_FET_CNT', 0.00017922657993352343)\n",
      "('ONNET_AMT', 0.0001598885081978635)\n",
      "('SERVICE_STATUS_MOVIE_FLAG', 0.00015930103149011611)\n",
      "('DISC_TYPE_AW_IND', 0.00015638837453998738)\n",
      "('P2P_SMS_MO_ONNET_CNT', 0.0001559873653443848)\n",
      "('VIP_TENURE', 8.6818852528813665e-05)\n",
      "('CUST_TYPE', 8.6007497214405165e-05)\n",
      "('INT_ROAM_AMT', 8.354519891712397e-05)\n",
      "('L6M_AVG_GPRS_AMT', 8.0150469519681377e-05)\n",
      "('PTY_EBU_PO_CNT', 6.9011122485883775e-05)\n",
      "('L3M_DIRECT_STORE_PYMT_IND', 6.6443978610064878e-05)\n",
      "('PTY_PO_ALL_CNT', 5.954220641804129e-05)\n",
      "('PTY_CBU_EBU_PO_CNT', 5.8146369861426115e-05)\n",
      "('PTY_CBU_PO_VD_CNT', 5.2196836438186129e-05)\n",
      "('PTY_CBU_PO_D_CNT', 5.0424276642843172e-05)\n",
      "('CHANNEL_CHURN_INDEX', 4.8543723929085405e-05)\n",
      "('ANOTHER_ACTIVE_VD', 4.7627279217794688e-05)\n",
      "('CHURN_INDEX', 4.6607436345834054e-05)\n",
      "('CHURN_WELCOME_STAGE', 4.657503063992222e-05)\n",
      "('VIP_GRADE', 4.4421447476805014e-05)\n",
      "('L1M_CHANNEL_CHURN_INDEX', 3.8736408172751088e-05)\n",
      "('MULTI_SIM_EXCLUDE_WBB', 3.7749586564178658e-05)\n",
      "('SPAUTH_IND', 2.2399353268443649e-05)\n",
      "('VAS_AMT', 1.9997752780425067e-05)\n",
      "('RPS_NAME', 1.9628647459363903e-05)\n",
      "('NRC_AMT', 1.6896442565704846e-05)\n",
      "('SMS30_FLAG', 1.4647520751096223e-05)\n",
      "('VIP_REDEEM_IND', 1.2182932030593777e-05)\n",
      "('DISC_TYPE_AD_IND', 1.1911265651193358e-05)\n",
      "('L2M_GPRS_AMT', 1.1735183736777083e-05)\n",
      "('DATA_BOOSTER_EVER_USE_FLAG', 9.7194908866482496e-06)\n",
      "('IDD_AMT', 8.0737477974638309e-06)\n",
      "('EVER_PSTN_FEATURE_NAME', 5.7252383883639563e-06)\n",
      "('GPRS_AMT', 5.3950908298419117e-06)\n",
      "('L3M_GPRS_AMT', 5.2678693630917853e-06)\n",
      "('EVER_PSTN_FEATURE_FLAG', 4.0299669577702476e-06)\n",
      "('CHURN_IND', 3.6233729729888933e-06)\n",
      "('SUSPEND_IND', 3.469536944580579e-06)\n",
      "('L1M_GPRS_AMT', 3.3173251054466819e-06)\n",
      "('SUBSCR_STATUS_CODE', 3.1314882855023602e-06)\n",
      "('RENEW_IND', 3.0182573623836751e-06)\n",
      "('DATA_BOOSTER_CURR_APPLY_FLAG', 2.8618218536553039e-06)\n",
      "('ANOTHER_ACTIVE_D', 1.8066764197558478e-06)\n",
      "('CHURN_TYPE', 7.6867719600520355e-07)\n",
      "('RETAIL_STORE_CHURN_STOP_REASON', 4.4729215765124548e-07)\n",
      "('AVG_HS_USE_MONTH_EX_CURR', 0.0)\n",
      "('AVG_HS_USE_MONTH', 0.0)\n",
      "('HS_USE_MONTH', 0.0)\n",
      "('RETAIL_STORE_CHURN_DEPUTY_FALG', 0.0)\n",
      "('RETAIL_STORE_CHURN_SRV_DATE', 0.0)\n",
      "('RETAIL_STORE_CHURN_FLAG', 0.0)\n",
      "('PAY_PENALTY_FLAG', 0.0)\n",
      "('PAY_PENALTY_DATE', 0.0)\n",
      "('VIP_MSISDN_CHG_IND', 0.0)\n",
      "('VIP_BEFORE_EXP_MONTH', 0.0)\n",
      "('VIP_EXPIRY_DATE', 0.0)\n",
      "('DISC_TYPE_DU_IND', 0.0)\n",
      "('DISC_TYPE_DM_IND', 0.0)\n",
      "('DISC_TYPE_AM_IND', 0.0)\n",
      "('EVER_PSTN_MONTH_APPLY_CANCEL_FLAG', 0.0)\n",
      "('EVER_PSTN_FEATURE_END_DATE', 0.0)\n",
      "('EVER_PSTN_FEATURE_START_DATE', 0.0)\n",
      "('CURR_BILL_PLAN_START_DATE', 0.0)\n",
      "('DATA_BOOSTER_CURR_FEATURE_NAME', 0.0)\n",
      "('DATA_BOOSTER_CURR_START_DATE', 0.0)\n",
      "('PRE_DATA_BILL_PLAN_END_DATE', 0.0)\n",
      "('PRE_DATA_BILL_PLAN_START_DATE', 0.0)\n",
      "('CURR_DATA_BILL_PLAN_END_DATE', 0.0)\n",
      "('CURR_DATA_BILL_PLAN_START_DATE', 0.0)\n",
      "('HS_LEASE_CONTR_END_DATE', 0.0)\n",
      "('HS_LEASE_CONTR_START_DATE', 0.0)\n",
      "('HS_LEASE_CONTR_NAME', 0.0)\n",
      "('HS_LEASE_FEATURE_END_DATE', 0.0)\n",
      "('HS_LEASE_FEATURE_START_DATE', 0.0)\n",
      "('SERVICE_STATUS_READING_FLAG', 0.0)\n",
      "('SERVICE_STATUS_OMUSIC_FLAG', 0.0)\n",
      "('SERVICE_APPLY_READING_FLAG', 0.0)\n",
      "('SERVICE_APPLY_OMUSIC_FLAG', 0.0)\n",
      "('SERVICE_APPLY_MOVIE_FLAG', 0.0)\n",
      "('SMS2AP_SMS_MO_CNT', 0.0)\n",
      "('W2P_SMS_MO_INT_CNT', 0.0)\n",
      "('P2P_SMS_MO_INT_CNT', 0.0)\n",
      "('SMS_MO_INT_CNT', 0.0)\n",
      "('W2P_SMS_MO_OFFNET_CNT', 0.0)\n",
      "('W2P_SMS_MO_ONNET_CNT', 0.0)\n",
      "('OTH_SMS_MO_CNT', 0.0)\n",
      "('W2P_SMS_MO_CNT', 0.0)\n",
      "('GPRS_CAP_IND', 0.0)\n",
      "('BOOSTER_AMT', 0.0)\n",
      "('L1M_PROM_COMMIT_MONTHS', 0.0)\n",
      "('CURR_PROM_COMMIT_MONTHS', 0.0)\n",
      "('PROM_CURR_CONTR_EXP_DATE', 0.0)\n",
      "('PROM_CURR_END_DATE', 0.0)\n",
      "('PROM_CURR_START_DATE', 0.0)\n",
      "('PROM_CURR_APPLY_DATE', 0.0)\n",
      "('PROM_CURR_EXP_MONTH_CNT', 0.0)\n",
      "('RENEW_APPLY_DATE', 0.0)\n",
      "('PTY_CBU_PO_V_CNT', 0.0)\n",
      "('PTY_CBU_PO_CNT', 0.0)\n",
      "('NP_IN_DATE', 0.0)\n",
      "('CCI_CHG_DATE', 0.0)\n",
      "('DORMANT_MONTH_CNT_MKT', 0.0)\n",
      "('TEMP_INACTV_DATE', 0.0)\n",
      "('TARGET_OPR_ID', 0.0)\n",
      "('MKT_CHURN_DATE', 0.0)\n",
      "('INACTV_DATE', 0.0)\n",
      "('GA_DATE', 0.0)\n",
      "('GA_IND', 0.0)\n",
      "('DATA_MONTH', 0.0)\n"
     ]
    }
   ],
   "source": [
    "clf_info += '\\n\\nFeature Importances\\n===================\\n'\n",
    "for row in important_list:\n",
    "    clf_info += str(row) + \"\\n\"\n",
    "    print(str(row))"
   ]
  },
  {
   "cell_type": "code",
   "execution_count": 107,
   "metadata": {
    "collapsed": true
   },
   "outputs": [],
   "source": [
    "feature_df = pd.DataFrame(important_list, columns = [\"COLUMN\", \"IMPORTANT_VALUE\"])"
   ]
  },
  {
   "cell_type": "code",
   "execution_count": 108,
   "metadata": {},
   "outputs": [
    {
     "ename": "PermissionError",
     "evalue": "[Errno 13] Permission denied: 'clf_random_forest_model_kFold/adult_test_vs_others/3/RANDOM_FOREST_adult_vs_others_feature_important_descent.csv'",
     "output_type": "error",
     "traceback": [
      "\u001b[1;31m---------------------------------------------------------------------------\u001b[0m",
      "\u001b[1;31mPermissionError\u001b[0m                           Traceback (most recent call last)",
      "\u001b[1;32m<ipython-input-108-6268bdbd447f>\u001b[0m in \u001b[0;36m<module>\u001b[1;34m()\u001b[0m\n\u001b[0;32m      1\u001b[0m \u001b[0mt0\u001b[0m \u001b[1;33m=\u001b[0m \u001b[0mtime\u001b[0m\u001b[1;33m(\u001b[0m\u001b[1;33m)\u001b[0m\u001b[1;33m\u001b[0m\u001b[0m\n\u001b[1;32m----> 2\u001b[1;33m \u001b[0mfeature_df\u001b[0m\u001b[1;33m.\u001b[0m\u001b[0mto_csv\u001b[0m\u001b[1;33m(\u001b[0m\u001b[0mout_path\u001b[0m \u001b[1;33m+\u001b[0m \u001b[0mout_filename\u001b[0m \u001b[1;33m+\u001b[0m \u001b[1;34m\"feature_important_descent.csv\"\u001b[0m\u001b[1;33m,\u001b[0m \u001b[0mindex\u001b[0m\u001b[1;33m=\u001b[0m\u001b[1;32mFalse\u001b[0m\u001b[1;33m)\u001b[0m\u001b[1;33m\u001b[0m\u001b[0m\n\u001b[0m\u001b[0;32m      3\u001b[0m \u001b[0mprint\u001b[0m\u001b[1;33m(\u001b[0m\u001b[1;34m\"time for output csv file: %.2f\"\u001b[0m \u001b[1;33m%\u001b[0m \u001b[1;33m(\u001b[0m\u001b[0mtime\u001b[0m\u001b[1;33m(\u001b[0m\u001b[1;33m)\u001b[0m\u001b[1;33m-\u001b[0m\u001b[0mt0\u001b[0m\u001b[1;33m)\u001b[0m\u001b[1;33m)\u001b[0m\u001b[1;33m\u001b[0m\u001b[0m\n",
      "\u001b[1;32mC:\\Users\\VIPLAB\\AppData\\Local\\conda\\conda\\envs\\py36\\lib\\site-packages\\pandas\\core\\frame.py\u001b[0m in \u001b[0;36mto_csv\u001b[1;34m(self, path_or_buf, sep, na_rep, float_format, columns, header, index, index_label, mode, encoding, compression, quoting, quotechar, line_terminator, chunksize, tupleize_cols, date_format, doublequote, escapechar, decimal)\u001b[0m\n\u001b[0;32m   1411\u001b[0m                                      \u001b[0mdoublequote\u001b[0m\u001b[1;33m=\u001b[0m\u001b[0mdoublequote\u001b[0m\u001b[1;33m,\u001b[0m\u001b[1;33m\u001b[0m\u001b[0m\n\u001b[0;32m   1412\u001b[0m                                      escapechar=escapechar, decimal=decimal)\n\u001b[1;32m-> 1413\u001b[1;33m         \u001b[0mformatter\u001b[0m\u001b[1;33m.\u001b[0m\u001b[0msave\u001b[0m\u001b[1;33m(\u001b[0m\u001b[1;33m)\u001b[0m\u001b[1;33m\u001b[0m\u001b[0m\n\u001b[0m\u001b[0;32m   1414\u001b[0m \u001b[1;33m\u001b[0m\u001b[0m\n\u001b[0;32m   1415\u001b[0m         \u001b[1;32mif\u001b[0m \u001b[0mpath_or_buf\u001b[0m \u001b[1;32mis\u001b[0m \u001b[1;32mNone\u001b[0m\u001b[1;33m:\u001b[0m\u001b[1;33m\u001b[0m\u001b[0m\n",
      "\u001b[1;32mC:\\Users\\VIPLAB\\AppData\\Local\\conda\\conda\\envs\\py36\\lib\\site-packages\\pandas\\io\\formats\\format.py\u001b[0m in \u001b[0;36msave\u001b[1;34m(self)\u001b[0m\n\u001b[0;32m   1566\u001b[0m             f, handles = _get_handle(self.path_or_buf, self.mode,\n\u001b[0;32m   1567\u001b[0m                                      \u001b[0mencoding\u001b[0m\u001b[1;33m=\u001b[0m\u001b[0mself\u001b[0m\u001b[1;33m.\u001b[0m\u001b[0mencoding\u001b[0m\u001b[1;33m,\u001b[0m\u001b[1;33m\u001b[0m\u001b[0m\n\u001b[1;32m-> 1568\u001b[1;33m                                      compression=self.compression)\n\u001b[0m\u001b[0;32m   1569\u001b[0m             \u001b[0mclose\u001b[0m \u001b[1;33m=\u001b[0m \u001b[1;32mTrue\u001b[0m\u001b[1;33m\u001b[0m\u001b[0m\n\u001b[0;32m   1570\u001b[0m \u001b[1;33m\u001b[0m\u001b[0m\n",
      "\u001b[1;32mC:\\Users\\VIPLAB\\AppData\\Local\\conda\\conda\\envs\\py36\\lib\\site-packages\\pandas\\io\\common.py\u001b[0m in \u001b[0;36m_get_handle\u001b[1;34m(path_or_buf, mode, encoding, compression, memory_map, is_text)\u001b[0m\n\u001b[0;32m    380\u001b[0m         \u001b[1;32melif\u001b[0m \u001b[0mis_text\u001b[0m\u001b[1;33m:\u001b[0m\u001b[1;33m\u001b[0m\u001b[0m\n\u001b[0;32m    381\u001b[0m             \u001b[1;31m# Python 3 and no explicit encoding\u001b[0m\u001b[1;33m\u001b[0m\u001b[1;33m\u001b[0m\u001b[0m\n\u001b[1;32m--> 382\u001b[1;33m             \u001b[0mf\u001b[0m \u001b[1;33m=\u001b[0m \u001b[0mopen\u001b[0m\u001b[1;33m(\u001b[0m\u001b[0mpath_or_buf\u001b[0m\u001b[1;33m,\u001b[0m \u001b[0mmode\u001b[0m\u001b[1;33m,\u001b[0m \u001b[0merrors\u001b[0m\u001b[1;33m=\u001b[0m\u001b[1;34m'replace'\u001b[0m\u001b[1;33m)\u001b[0m\u001b[1;33m\u001b[0m\u001b[0m\n\u001b[0m\u001b[0;32m    383\u001b[0m         \u001b[1;32melse\u001b[0m\u001b[1;33m:\u001b[0m\u001b[1;33m\u001b[0m\u001b[0m\n\u001b[0;32m    384\u001b[0m             \u001b[1;31m# Python 3 and binary mode\u001b[0m\u001b[1;33m\u001b[0m\u001b[1;33m\u001b[0m\u001b[0m\n",
      "\u001b[1;31mPermissionError\u001b[0m: [Errno 13] Permission denied: 'clf_random_forest_model_kFold/adult_test_vs_others/3/RANDOM_FOREST_adult_vs_others_feature_important_descent.csv'"
     ]
    }
   ],
   "source": [
    "t0 = time()\n",
    "feature_df.to_csv(out_path + out_filename + \"feature_important_descent.csv\", index=False)\n",
    "print(\"time for output csv file: %.2f\" % (time()-t0))"
   ]
  },
  {
   "cell_type": "code",
   "execution_count": null,
   "metadata": {
    "collapsed": true
   },
   "outputs": [],
   "source": [
    "# cpy_dict = dict(important_list)\n",
    "# cpy_dict[\"Groups\"] = target_groups\n",
    "# feature_df = pd.DataFrame(cpy_dict, index = [0])"
   ]
  },
  {
   "cell_type": "code",
   "execution_count": null,
   "metadata": {
    "collapsed": true
   },
   "outputs": [],
   "source": [
    "# cpy_dict = dict(important_list)\n",
    "# # cpy_dict[\"Groups\"] = target_groups\n",
    "# feature_df = pd.DataFrame(cpy_dict, index = [0])"
   ]
  },
  {
   "cell_type": "code",
   "execution_count": null,
   "metadata": {
    "collapsed": true,
    "scrolled": true
   },
   "outputs": [],
   "source": [
    "# t0 = time()\n",
    "# feature_df.to_csv(out_path + out_filename + \"feature_important_one_row.csv\", index=False)\n",
    "# print(\"time for output csv file: %.2f\" % (time()-t0))"
   ]
  },
  {
   "cell_type": "code",
   "execution_count": null,
   "metadata": {
    "collapsed": true
   },
   "outputs": [],
   "source": [
    "clf.n_classes_"
   ]
  },
  {
   "cell_type": "code",
   "execution_count": null,
   "metadata": {
    "collapsed": true
   },
   "outputs": [],
   "source": [
    "clf.n_outputs_"
   ]
  },
  {
   "cell_type": "code",
   "execution_count": null,
   "metadata": {
    "collapsed": true
   },
   "outputs": [],
   "source": []
  },
  {
   "cell_type": "code",
   "execution_count": null,
   "metadata": {
    "collapsed": true
   },
   "outputs": [],
   "source": [
    "predict_y = clf.predict(train_x)"
   ]
  },
  {
   "cell_type": "code",
   "execution_count": null,
   "metadata": {
    "collapsed": true
   },
   "outputs": [],
   "source": [
    "# cnf_matrix = confusion_matrix(test_numeric_y, predict_y )\n",
    "cnf_matrix = confusion_matrix(train_numeric_y, predict_y )\n",
    "cnf_matrix"
   ]
  },
  {
   "cell_type": "code",
   "execution_count": null,
   "metadata": {
    "collapsed": true
   },
   "outputs": [],
   "source": [
    "group_encoder = []\n",
    "for idx, row in enumerate(cnf_matrix):\n",
    "#     success predict\n",
    "#     print(row[idx])\n",
    "    current_group = str(le.inverse_transform(idx))\n",
    "    group_encoder.append(current_group)\n",
    "#     current_group = groups[idx]\n",
    "\n",
    "    print(current_group)\n",
    "\n",
    "#     idx_count_in_group = len(test_df[test_df[\"Groups\"] == current_group])\n",
    "    idx_count_in_group = len(train_df[train_df[\"Groups\"] == current_group])\n",
    "\n",
    "    clf_info +=  \"\\n\\n\" + str(\"class = %s count = [%s / %s]\" % (current_group, row[idx], idx_count_in_group))\n",
    "    clf_info +=  \"\\n\\n\" + str(\"predict %s accurancy = %s\" % (current_group, row[idx] / idx_count_in_group))\n",
    "    print(\"class = %s count = [%s / %s]\" % (current_group,row[idx],str(idx_count_in_group)))\n",
    "    print(\"predict %s accurancy = %s\" % (current_group, row[idx] / idx_count_in_group))\n",
    "    print()"
   ]
  },
  {
   "cell_type": "code",
   "execution_count": null,
   "metadata": {
    "collapsed": true,
    "scrolled": true
   },
   "outputs": [],
   "source": []
  },
  {
   "cell_type": "code",
   "execution_count": null,
   "metadata": {
    "collapsed": true
   },
   "outputs": [],
   "source": [
    "cnf_df = pd.DataFrame(cnf_matrix)\n",
    "cnf_df.columns = group_encoder\n",
    "cnf_df.index = group_encoder"
   ]
  },
  {
   "cell_type": "code",
   "execution_count": null,
   "metadata": {
    "collapsed": true
   },
   "outputs": [],
   "source": []
  },
  {
   "cell_type": "code",
   "execution_count": null,
   "metadata": {
    "collapsed": true
   },
   "outputs": [],
   "source": [
    "cnf_df"
   ]
  },
  {
   "cell_type": "code",
   "execution_count": null,
   "metadata": {
    "collapsed": true
   },
   "outputs": [],
   "source": [
    "cnf_df.to_csv(out_path + out_filename + \"confusion_matrix.csv\", index=False)\n"
   ]
  },
  {
   "cell_type": "code",
   "execution_count": null,
   "metadata": {
    "collapsed": true
   },
   "outputs": [],
   "source": [
    "md_info = clf_info.replace(\"\\n\", \"<br>\")\n",
    "with open(out_path + out_filename + 'readme.md', 'w+') as f:\n",
    "     f.write(md_info)\n",
    "f.closed"
   ]
  },
  {
   "cell_type": "code",
   "execution_count": null,
   "metadata": {
    "collapsed": true,
    "scrolled": true
   },
   "outputs": [],
   "source": [
    "plt.plot(clf.feature_importances_, 'o')  \n",
    "# for i in \n",
    "plt.xticks(range(train_x.shape[1]), train_df.columns[:-1], rotation=90)  \n",
    "plt.ylim(0, 1)  \n",
    "plt.show()  "
   ]
  },
  {
   "cell_type": "code",
   "execution_count": null,
   "metadata": {
    "collapsed": true
   },
   "outputs": [],
   "source": []
  },
  {
   "cell_type": "code",
   "execution_count": null,
   "metadata": {
    "collapsed": true
   },
   "outputs": [],
   "source": []
  },
  {
   "cell_type": "code",
   "execution_count": null,
   "metadata": {
    "collapsed": true
   },
   "outputs": [],
   "source": [
    "from winsound import Beep\n",
    "Beep(440, 500) \n",
    "Beep(440, 500) "
   ]
  },
  {
   "cell_type": "code",
   "execution_count": null,
   "metadata": {
    "collapsed": true
   },
   "outputs": [],
   "source": []
  },
  {
   "cell_type": "code",
   "execution_count": null,
   "metadata": {
    "collapsed": true
   },
   "outputs": [],
   "source": []
  },
  {
   "cell_type": "code",
   "execution_count": null,
   "metadata": {
    "collapsed": true
   },
   "outputs": [],
   "source": []
  },
  {
   "cell_type": "code",
   "execution_count": null,
   "metadata": {
    "collapsed": true
   },
   "outputs": [],
   "source": []
  },
  {
   "cell_type": "code",
   "execution_count": null,
   "metadata": {
    "collapsed": true
   },
   "outputs": [],
   "source": []
  },
  {
   "cell_type": "code",
   "execution_count": null,
   "metadata": {
    "collapsed": true
   },
   "outputs": [],
   "source": []
  },
  {
   "cell_type": "code",
   "execution_count": null,
   "metadata": {
    "collapsed": true
   },
   "outputs": [],
   "source": []
  },
  {
   "cell_type": "code",
   "execution_count": null,
   "metadata": {
    "collapsed": true
   },
   "outputs": [],
   "source": []
  },
  {
   "cell_type": "code",
   "execution_count": null,
   "metadata": {
    "collapsed": true
   },
   "outputs": [],
   "source": []
  },
  {
   "cell_type": "code",
   "execution_count": null,
   "metadata": {
    "collapsed": true
   },
   "outputs": [],
   "source": []
  },
  {
   "cell_type": "code",
   "execution_count": null,
   "metadata": {
    "collapsed": true
   },
   "outputs": [],
   "source": []
  },
  {
   "cell_type": "code",
   "execution_count": null,
   "metadata": {
    "collapsed": true
   },
   "outputs": [],
   "source": []
  },
  {
   "cell_type": "code",
   "execution_count": null,
   "metadata": {
    "collapsed": true
   },
   "outputs": [],
   "source": []
  },
  {
   "cell_type": "code",
   "execution_count": null,
   "metadata": {
    "collapsed": true
   },
   "outputs": [],
   "source": []
  },
  {
   "cell_type": "code",
   "execution_count": null,
   "metadata": {
    "collapsed": true
   },
   "outputs": [],
   "source": [
    "from mailerWithUtf8 import mail\n",
    "mail_info = clf_info.replace(\"\\n\", \"<br>\")\n",
    "test=mail()\n",
    "test.main(\"clf_info finished\", mail_info)"
   ]
  },
  {
   "cell_type": "markdown",
   "metadata": {
    "collapsed": true
   },
   "source": [
    "# Check feature importances accurancy"
   ]
  },
  {
   "cell_type": "code",
   "execution_count": 113,
   "metadata": {
    "collapsed": true
   },
   "outputs": [],
   "source": [
    "feature_cols = []\n",
    "limit_importances = 20\n",
    "for idx, feature in enumerate(important_list):\n",
    "    if(idx == limit_importances):\n",
    "        break\n",
    "\n",
    "    #     print(feature[0])\n",
    "    feature_cols.append(feature[0])\n",
    "feature_cols.append(\"Groups\")"
   ]
  },
  {
   "cell_type": "code",
   "execution_count": 114,
   "metadata": {},
   "outputs": [
    {
     "data": {
      "text/plain": [
       "['GENDER_CODE',\n",
       " 'DATA_USAGE_MB',\n",
       " 'IMEI_SMART_OS_FLAG',\n",
       " 'IMEI_MFG_NAME',\n",
       " 'IMEI_MKT_NAME',\n",
       " 'L3M_AVG_VAS_MB',\n",
       " 'P3M_AVG_DATA_USAGE_MB',\n",
       " 'DATA_RATING_USAGE_MB',\n",
       " 'L6M_AVG_VAS_MB',\n",
       " 'P6M_AVG_DATA_USAGE_MB',\n",
       " 'L1M_DATA_USAGE_MB',\n",
       " 'L2M_DATA_USAGE_MB',\n",
       " 'L3M_DATA_USAGE_MB',\n",
       " 'CURR_DEVICE_MAKER',\n",
       " 'HAPPYGO_IND',\n",
       " 'TENURE_SCV',\n",
       " 'CURR_DEVICE_MODEL',\n",
       " 'BILL_DISTRICT_NAME',\n",
       " 'MT_TTL_DURATION',\n",
       " 'L3M_AVG_NET_INV_AMT',\n",
       " 'Groups']"
      ]
     },
     "execution_count": 114,
     "metadata": {},
     "output_type": "execute_result"
    }
   ],
   "source": [
    "feature_cols"
   ]
  },
  {
   "cell_type": "code",
   "execution_count": 115,
   "metadata": {
    "collapsed": true
   },
   "outputs": [],
   "source": [
    "feature_train_x = train_df[feature_cols].iloc[:, 0:-1].values\n",
    "# feature_test_x = test_df[feature_cols].iloc[:, 0:-1].values"
   ]
  },
  {
   "cell_type": "code",
   "execution_count": 116,
   "metadata": {
    "collapsed": true
   },
   "outputs": [],
   "source": [
    "gs_feature = GridSearchCV(estimator=rf, param_grid=param_grid, scoring='accuracy', cv=5, n_jobs=-1)\n",
    "grid_feature_clf = gs_feature.fit(feature_train_x, train_numeric_y)"
   ]
  },
  {
   "cell_type": "code",
   "execution_count": 122,
   "metadata": {},
   "outputs": [
    {
     "name": "stdout",
     "output_type": "stream",
     "text": [
      "Accuracy on training set: 0.751673\n",
      "fit time 2601.451102733612 seconds\n",
      "feature selection numbers = 20\n",
      "\n"
     ]
    }
   ],
   "source": [
    "clf_feature = grid_feature_clf.best_estimator_\n",
    "clf_feature_info = str((\"Accuracy on training set: %f\" % clf_feature.score(feature_train_x, train_numeric_y))) + '\\n'\n",
    "# clf_feature_info += str((\"Accuracy on test set: %f\" % clf_feature.score(feature_test_x, test_numeric_y))) + '\\n'\n",
    "clf_feature_info += str(('fit time %s seconds' % format(time() - start_time))) + '\\n'\n",
    "clf_feature_info += str(('feature selection numbers = %s' % str(limit_importances) + '\\n'))\n",
    "print(clf_feature_info)"
   ]
  },
  {
   "cell_type": "code",
   "execution_count": 123,
   "metadata": {},
   "outputs": [
    {
     "data": {
      "text/plain": [
       "{'mean_fit_time': array([ 106.46937056]),\n",
       " 'mean_score_time': array([ 1.10299807]),\n",
       " 'mean_test_score': array([ 0.67489757]),\n",
       " 'mean_train_score': array([ 0.77343137]),\n",
       " 'param_criterion': masked_array(data = ['gini'],\n",
       "              mask = [False],\n",
       "        fill_value = ?),\n",
       " 'param_max_depth': masked_array(data = [25],\n",
       "              mask = [False],\n",
       "        fill_value = ?),\n",
       " 'param_min_samples_leaf': masked_array(data = [25],\n",
       "              mask = [False],\n",
       "        fill_value = ?),\n",
       " 'param_min_samples_split': masked_array(data = [2],\n",
       "              mask = [False],\n",
       "        fill_value = ?),\n",
       " 'param_min_weight_fraction_leaf': masked_array(data = [0],\n",
       "              mask = [False],\n",
       "        fill_value = ?),\n",
       " 'param_n_estimators': masked_array(data = [500],\n",
       "              mask = [False],\n",
       "        fill_value = ?),\n",
       " 'params': ({'criterion': 'gini',\n",
       "   'max_depth': 25,\n",
       "   'min_samples_leaf': 25,\n",
       "   'min_samples_split': 2,\n",
       "   'min_weight_fraction_leaf': 0,\n",
       "   'n_estimators': 500},),\n",
       " 'rank_test_score': array([1]),\n",
       " 'split0_test_score': array([ 0.67717732]),\n",
       " 'split0_train_score': array([ 0.77235847]),\n",
       " 'split1_test_score': array([ 0.71537081]),\n",
       " 'split1_train_score': array([ 0.77145192]),\n",
       " 'split2_test_score': array([ 0.71596925]),\n",
       " 'split2_train_score': array([ 0.77058878]),\n",
       " 'split3_test_score': array([ 0.64544492]),\n",
       " 'split3_train_score': array([ 0.77351195]),\n",
       " 'split4_test_score': array([ 0.62052297]),\n",
       " 'split4_train_score': array([ 0.77924574]),\n",
       " 'std_fit_time': array([ 14.94466423]),\n",
       " 'std_score_time': array([ 0.15827224]),\n",
       " 'std_test_score': array([ 0.03782614]),\n",
       " 'std_train_score': array([ 0.00306474])}"
      ]
     },
     "execution_count": 123,
     "metadata": {},
     "output_type": "execute_result"
    }
   ],
   "source": [
    "gs.cv_results_"
   ]
  },
  {
   "cell_type": "code",
   "execution_count": 124,
   "metadata": {},
   "outputs": [
    {
     "data": {
      "text/plain": [
       "0.67489757399990791"
      ]
     },
     "execution_count": 124,
     "metadata": {},
     "output_type": "execute_result"
    }
   ],
   "source": [
    "gs.best_score_"
   ]
  },
  {
   "cell_type": "code",
   "execution_count": null,
   "metadata": {
    "collapsed": true
   },
   "outputs": [],
   "source": [
    "predict_feature_y = clf_feature.predict(feature_test_x)"
   ]
  },
  {
   "cell_type": "code",
   "execution_count": null,
   "metadata": {
    "collapsed": true
   },
   "outputs": [],
   "source": [
    "cnf_matrix = confusion_matrix(test_numeric_y, predict_feature_y )\n",
    "cnf_matrix"
   ]
  },
  {
   "cell_type": "code",
   "execution_count": null,
   "metadata": {
    "collapsed": true
   },
   "outputs": [],
   "source": [
    "group_encoder = []\n",
    "for idx, row in enumerate(cnf_matrix):\n",
    "#     success predict\n",
    "#     print(row[idx])\n",
    "    current_group = str(le.inverse_transform(idx))\n",
    "    group_encoder.append(current_group)\n",
    "#     current_group = groups[idx]\n",
    "\n",
    "    print(current_group)\n",
    "\n",
    "    idx_count_in_group = len(test_df[test_df[\"Groups\"] == current_group])\n",
    "    clf_feature_info +=  \"\\n\\n\" + str(\"class = %s count = [%s / %s]\" % (current_group, row[idx], idx_count_in_group))\n",
    "    clf_feature_info +=  \"\\n\\n\" + str(\"predict %s accurancy = %s\" % (current_group, row[idx] / idx_count_in_group))\n",
    "    print(\"class = %s count = [%s / %s]\" % (current_group,row[idx],str(idx_count_in_group)))\n",
    "    print(\"predict %s accurancy = %s\" % (current_group, row[idx] / idx_count_in_group))\n",
    "    print()"
   ]
  },
  {
   "cell_type": "code",
   "execution_count": null,
   "metadata": {
    "collapsed": true
   },
   "outputs": [],
   "source": [
    "cnf_pd = pd.DataFrame(cnf_matrix)\n",
    "cnf_pd.columns = group_encoder\n",
    "cnf_pd.index = group_encoder"
   ]
  },
  {
   "cell_type": "code",
   "execution_count": null,
   "metadata": {
    "collapsed": true
   },
   "outputs": [],
   "source": [
    "cnf_pd"
   ]
  },
  {
   "cell_type": "code",
   "execution_count": null,
   "metadata": {
    "collapsed": true
   },
   "outputs": [],
   "source": [
    "from winsound import Beep\n",
    "Beep(440, 500) \n",
    "Beep(440, 500) \n",
    "Beep(440, 500) \n",
    "Beep(349, 350) \n",
    "Beep(523, 150) \n",
    "Beep(440, 500) \n",
    "Beep(349, 350) \n",
    "Beep(523, 150) \n",
    "Beep(440, 1000) \n",
    "Beep(659, 500) \n",
    "Beep(659, 500) \n",
    "Beep(659, 500) \n",
    "Beep(698, 350) \n",
    "Beep(523, 150) \n",
    "Beep(415, 500) \n",
    "Beep(349, 350) \n",
    "Beep(523, 150) \n",
    "Beep(440, 1000)"
   ]
  },
  {
   "cell_type": "code",
   "execution_count": null,
   "metadata": {
    "collapsed": true
   },
   "outputs": [],
   "source": []
  },
  {
   "cell_type": "code",
   "execution_count": null,
   "metadata": {
    "collapsed": true
   },
   "outputs": [],
   "source": []
  },
  {
   "cell_type": "code",
   "execution_count": null,
   "metadata": {
    "collapsed": true
   },
   "outputs": [],
   "source": []
  },
  {
   "cell_type": "code",
   "execution_count": null,
   "metadata": {
    "collapsed": true
   },
   "outputs": [],
   "source": []
  },
  {
   "cell_type": "code",
   "execution_count": null,
   "metadata": {
    "collapsed": true
   },
   "outputs": [],
   "source": []
  },
  {
   "cell_type": "code",
   "execution_count": null,
   "metadata": {
    "collapsed": true
   },
   "outputs": [],
   "source": []
  },
  {
   "cell_type": "code",
   "execution_count": null,
   "metadata": {
    "collapsed": true
   },
   "outputs": [],
   "source": []
  },
  {
   "cell_type": "code",
   "execution_count": null,
   "metadata": {
    "collapsed": true
   },
   "outputs": [],
   "source": []
  },
  {
   "cell_type": "code",
   "execution_count": null,
   "metadata": {
    "collapsed": true
   },
   "outputs": [],
   "source": []
  },
  {
   "cell_type": "code",
   "execution_count": null,
   "metadata": {
    "collapsed": true
   },
   "outputs": [],
   "source": []
  },
  {
   "cell_type": "code",
   "execution_count": null,
   "metadata": {
    "collapsed": true
   },
   "outputs": [],
   "source": []
  }
 ],
 "metadata": {
  "kernelspec": {
   "display_name": "Python 3",
   "language": "python",
   "name": "python3"
  },
  "language_info": {
   "codemirror_mode": {
    "name": "ipython",
    "version": 3
   },
   "file_extension": ".py",
   "mimetype": "text/x-python",
   "name": "python",
   "nbconvert_exporter": "python",
   "pygments_lexer": "ipython3",
   "version": "3.6.1"
  }
 },
 "nbformat": 4,
 "nbformat_minor": 2
}
