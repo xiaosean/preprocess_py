{
 "cells": [
  {
   "cell_type": "code",
   "execution_count": null,
   "metadata": {
    "collapsed": true
   },
   "outputs": [],
   "source": [
    "df.to_csv(out_filename + \".csv\", index=False, encoding='utf-8')"
   ]
  },
  {
   "cell_type": "code",
   "execution_count": null,
   "metadata": {
    "collapsed": true
   },
   "outputs": [],
   "source": [
    "group_mean = group_mean.drop(\"MINING_DW_SUBSCR_NO\", axis = 1)"
   ]
  },
  {
   "cell_type": "code",
   "execution_count": null,
   "metadata": {
    "collapsed": true
   },
   "outputs": [],
   "source": [
    "# df = pd.read_csv(relative_filename, usecols = wants_cols, error_bad_lines=False, sep  = '\\t', nrows = 10)\n",
    "# df = pd.read_csv(relative_filename, usecols = wants_cols, error_bad_lines=False, nrows = 100000)\n",
    "df = pd.read_csv(relative_filename, error_bad_lines=False, nrows = 10)\n",
    "# df = pd.read_csv(relative_filename, error_bad_lines=False)\n"
   ]
  },
  {
   "cell_type": "code",
   "execution_count": null,
   "metadata": {
    "collapsed": true
   },
   "outputs": [],
   "source": [
    "# 讀取資料夾內檔案\n",
    "from os import listdir\n",
    "from os.path import isfile, join\n",
    "def file_csv_list(target_path):\n",
    "    return [f for f in listdir(target_path) if isfile(join(target_path, f))]"
   ]
  },
  {
   "cell_type": "code",
   "execution_count": null,
   "metadata": {
    "collapsed": true
   },
   "outputs": [],
   "source": [
    "from glob import glob\n",
    "all_csvs = glob(path + \"*.csv\")\n"
   ]
  },
  {
   "cell_type": "code",
   "execution_count": null,
   "metadata": {
    "collapsed": true
   },
   "outputs": [],
   "source": [
    "def read_csv(filename):\n",
    "    # read revise csv file and print cost time\n",
    "    t0 = time()\n",
    "    df = pd.read_csv(filename, error_bad_lines=False)\n",
    "    print(\"time for read csv: %.2f\" % (time()-t0))\n",
    "    return df"
   ]
  },
  {
   "cell_type": "code",
   "execution_count": null,
   "metadata": {
    "collapsed": true
   },
   "outputs": [],
   "source": [
    "# df = pd.read_csv(relative_filename, usecols = wants_cols, error_bad_lines=False, nrows = 100000)"
   ]
  },
  {
   "cell_type": "code",
   "execution_count": null,
   "metadata": {
    "collapsed": true
   },
   "outputs": [],
   "source": [
    "df.groupby(\"groups\").count()"
   ]
  },
  {
   "cell_type": "code",
   "execution_count": null,
   "metadata": {
    "collapsed": true
   },
   "outputs": [],
   "source": [
    "df.isnull().sum()"
   ]
  },
  {
   "cell_type": "code",
   "execution_count": null,
   "metadata": {
    "collapsed": true
   },
   "outputs": [],
   "source": [
    "df[col].max(), df[col].min, df[col].mean()"
   ]
  },
  {
   "cell_type": "code",
   "execution_count": null,
   "metadata": {
    "collapsed": true
   },
   "outputs": [],
   "source": [
    "df[\"DATA_MONTH\"].value_counts()"
   ]
  },
  {
   "cell_type": "code",
   "execution_count": null,
   "metadata": {
    "collapsed": true
   },
   "outputs": [],
   "source": [
    "df[\"DATA_MONTH_RPT_TEMP2\"].value_counts().keys()"
   ]
  },
  {
   "cell_type": "code",
   "execution_count": null,
   "metadata": {
    "collapsed": true
   },
   "outputs": [],
   "source": [
    "df[\"DATA_MONTH_RPT_TEMP2\"].value_counts().values"
   ]
  },
  {
   "cell_type": "markdown",
   "metadata": {},
   "source": [
    "# isin"
   ]
  },
  {
   "cell_type": "code",
   "execution_count": null,
   "metadata": {
    "collapsed": true
   },
   "outputs": [],
   "source": [
    "filter_result_df = result[result['MINING_DW_SUBSCR_NO'].isin(filter_df['MINING_DW_SUBSCR_NO'])]"
   ]
  },
  {
   "cell_type": "code",
   "execution_count": null,
   "metadata": {
    "collapsed": true
   },
   "outputs": [],
   "source": [
    "test_df = result[~result['MINING_DW_SUBSCR_NO'].isin(filter_df['MINING_DW_SUBSCR_NO'])]"
   ]
  },
  {
   "cell_type": "code",
   "execution_count": null,
   "metadata": {
    "collapsed": true
   },
   "outputs": [],
   "source": []
  },
  {
   "cell_type": "code",
   "execution_count": null,
   "metadata": {
    "collapsed": true
   },
   "outputs": [],
   "source": [
    "result = pd.merge(customer_df, filter_result_df, on='MINING_DW_SUBSCR_NO', how='left')\n"
   ]
  },
  {
   "cell_type": "code",
   "execution_count": null,
   "metadata": {
    "collapsed": true
   },
   "outputs": [],
   "source": [
    "// copy\n",
    "user_df = user_df[[\"MINING_DW_SUBSCR_NO\", \"Groups\"]]"
   ]
  },
  {
   "cell_type": "markdown",
   "metadata": {},
   "source": [
    "# check and transform to numeric cols"
   ]
  },
  {
   "cell_type": "code",
   "execution_count": null,
   "metadata": {
    "collapsed": true
   },
   "outputs": [],
   "source": [
    "for col_index, col in enumerate(df.columns):\n",
    "    print(\"progress ============  %d/%d\" %(col_index, total_cols))\n",
    "    if not np.issubdtype(df[col].dtypes, np.number):\n",
    "        if(\"MONTH\" in col or \"DATE\" in col):\n",
    "            numeric_cols.remove(col)\n",
    "            print(\"%s => this column is datetime\" % col)\n",
    "        else:\n",
    "            df[col] = df[col].fillna(0)\n",
    "            unique_list  = df[col].unique()\n",
    "            unique_count = len(unique_list)\n",
    "            values = [i for i in range(unique_count)]\n",
    "            d = dict(zip(unique_list, values))\n",
    "            df[col] = df[col].map(d)\n",
    "    #         for idx, item in enumerate(unique_list):\n",
    "    #             df.loc[df[df[col] == item].index, col] = idx+1\n",
    "            df[col] = df[col].apply(np.int64)"
   ]
  },
  {
   "cell_type": "markdown",
   "metadata": {},
   "source": [
    "# Date to num"
   ]
  },
  {
   "cell_type": "code",
   "execution_count": null,
   "metadata": {
    "collapsed": true
   },
   "outputs": [],
   "source": [
    "def DATE_to_num(date_str):\n",
    "    try:\n",
    "        date = datetime.strptime(date_str, \"%Y/%m/%d\")\n",
    "    except:\n",
    "        return 0\n",
    "    else:\n",
    "        date_pivot = datetime.strptime('2017/4/1', \"%Y/%m/%d\")\n",
    "        delta = date_pivot - date\n",
    "        return delta.days"
   ]
  },
  {
   "cell_type": "markdown",
   "metadata": {},
   "source": [
    "# category dummy "
   ]
  },
  {
   "cell_type": "code",
   "execution_count": null,
   "metadata": {
    "collapsed": true
   },
   "outputs": [],
   "source": [
    "dummy_df = pd.get_dummies(group_df[pick_columns])"
   ]
  },
  {
   "cell_type": "markdown",
   "metadata": {},
   "source": [
    "# sort"
   ]
  },
  {
   "cell_type": "code",
   "execution_count": null,
   "metadata": {
    "collapsed": true
   },
   "outputs": [],
   "source": [
    "important_list = sorted(important_dict.items(), key=lambda x: x[1])"
   ]
  },
  {
   "cell_type": "code",
   "execution_count": null,
   "metadata": {
    "collapsed": true
   },
   "outputs": [],
   "source": [
    "# with pandas column\n",
    "col_rank = col_rank.sort_values('importance', ascending = False)"
   ]
  },
  {
   "cell_type": "markdown",
   "metadata": {},
   "source": [
    "# appending file"
   ]
  },
  {
   "cell_type": "code",
   "execution_count": null,
   "metadata": {
    "collapsed": true
   },
   "outputs": [],
   "source": [
    "df.to_csv('my_csv.csv', mode='a', header=False)"
   ]
  },
  {
   "cell_type": "markdown",
   "metadata": {},
   "source": [
    "# beep "
   ]
  },
  {
   "cell_type": "code",
   "execution_count": 2,
   "metadata": {
    "collapsed": true
   },
   "outputs": [],
   "source": [
    "import winsound         # for sound  \n",
    "import time             # for sleep\n",
    "for i in range(5):\n",
    "    winsound.Beep(440, 250) # frequency, duration\n",
    "    time.sleep(0.25)        # in seconds (0.25 is 250ms)\n",
    "\n",
    "    winsound.Beep(600, 250)\n",
    "    time.sleep(0.25)\n"
   ]
  },
  {
   "cell_type": "markdown",
   "metadata": {},
   "source": [
    "# mail"
   ]
  },
  {
   "cell_type": "code",
   "execution_count": null,
   "metadata": {
    "collapsed": true
   },
   "outputs": [],
   "source": [
    "from mailerWithUtf8 import mail\n",
    "test=mail()\n",
    "test.main(\"finished\", \"\")"
   ]
  },
  {
   "cell_type": "markdown",
   "metadata": {},
   "source": [
    "# IT'S SOUNDS GREAT"
   ]
  },
  {
   "cell_type": "code",
   "execution_count": 5,
   "metadata": {
    "collapsed": true,
    "scrolled": true
   },
   "outputs": [],
   "source": [
    "from winsound import Beep\n",
    "Beep(440, 500) \n",
    "Beep(440, 500) \n",
    "Beep(440, 500) \n",
    "Beep(349, 350) \n",
    "Beep(523, 150) \n",
    "Beep(440, 500) \n",
    "Beep(349, 350) \n",
    "Beep(523, 150) \n",
    "Beep(440, 1000) \n",
    "Beep(659, 500) \n",
    "Beep(659, 500) \n",
    "Beep(659, 500) \n",
    "Beep(698, 350) \n",
    "Beep(523, 150) \n",
    "Beep(415, 500) \n",
    "Beep(349, 350) \n",
    "Beep(523, 150) \n",
    "Beep(440, 1000)"
   ]
  },
  {
   "cell_type": "code",
   "execution_count": 2,
   "metadata": {},
   "outputs": [
    {
     "ename": "ImportError",
     "evalue": "No module named 'vlc'",
     "output_type": "error",
     "traceback": [
      "\u001b[1;31m---------------------------------------------------------------------------\u001b[0m",
      "\u001b[1;31mImportError\u001b[0m                               Traceback (most recent call last)",
      "\u001b[1;32m<ipython-input-2-e703f1949dc1>\u001b[0m in \u001b[0;36m<module>\u001b[1;34m()\u001b[0m\n\u001b[1;32m----> 1\u001b[1;33m \u001b[1;32mimport\u001b[0m \u001b[0mvlc\u001b[0m\u001b[1;33m\u001b[0m\u001b[0m\n\u001b[0m\u001b[0;32m      2\u001b[0m \u001b[0mp\u001b[0m \u001b[1;33m=\u001b[0m \u001b[0mvlc\u001b[0m\u001b[1;33m.\u001b[0m\u001b[0mMediaPlayer\u001b[0m\u001b[1;33m(\u001b[0m\u001b[1;34m\"./Beep beep I m a SHEEP short.mp3.mp3\"\u001b[0m\u001b[1;33m)\u001b[0m\u001b[1;33m\u001b[0m\u001b[0m\n\u001b[0;32m      3\u001b[0m \u001b[0mp\u001b[0m\u001b[1;33m.\u001b[0m\u001b[0mplay\u001b[0m\u001b[1;33m(\u001b[0m\u001b[1;33m)\u001b[0m\u001b[1;33m\u001b[0m\u001b[0m\n",
      "\u001b[1;31mImportError\u001b[0m: No module named 'vlc'"
     ]
    }
   ],
   "source": [
    "import vlc\n",
    "p = vlc.MediaPlayer(\"./Beep beep I m a SHEEP short.mp3.mp3\")\n",
    "p.play()"
   ]
  },
  {
   "cell_type": "code",
   "execution_count": 1,
   "metadata": {},
   "outputs": [
    {
     "data": {
      "text/plain": [
       "4.166666666666667"
      ]
     },
     "execution_count": 1,
     "metadata": {},
     "output_type": "execute_result"
    }
   ],
   "source": [
    "50*300/3600"
   ]
  },
  {
   "cell_type": "code",
   "execution_count": null,
   "metadata": {
    "collapsed": true
   },
   "outputs": [],
   "source": []
  }
 ],
 "metadata": {
  "kernelspec": {
   "display_name": "Python 3",
   "language": "python",
   "name": "python3"
  },
  "language_info": {
   "codemirror_mode": {
    "name": "ipython",
    "version": 3
   },
   "file_extension": ".py",
   "mimetype": "text/x-python",
   "name": "python",
   "nbconvert_exporter": "python",
   "pygments_lexer": "ipython3",
   "version": "3.5.3"
  }
 },
 "nbformat": 4,
 "nbformat_minor": 2
}
