{
 "cells": [
  {
   "cell_type": "code",
   "execution_count": 1,
   "metadata": {
    "collapsed": true
   },
   "outputs": [],
   "source": [
    "import os.path\n",
    "import numpy as np\n",
    "import pandas as pd\n",
    "from time import time\n",
    "from os import listdir\n",
    "from os.path import isfile, join"
   ]
  },
  {
   "cell_type": "code",
   "execution_count": 2,
   "metadata": {
    "collapsed": true
   },
   "outputs": [],
   "source": [
    "def read_csv(filename):\n",
    "    # read revise csv file and print cost time\n",
    "    t0 = time()\n",
    "    df = pd.read_csv(filename, error_bad_lines=False)\n",
    "    print(\"time for read csv: %.2f\" % (time()-t0))\n",
    "    return df"
   ]
  },
  {
   "cell_type": "code",
   "execution_count": 3,
   "metadata": {
    "collapsed": true
   },
   "outputs": [],
   "source": [
    "def file_csv_list(target_path):\n",
    "    return [f for f in listdir(target_path) if isfile(join(target_path, f))]"
   ]
  },
  {
   "cell_type": "code",
   "execution_count": 4,
   "metadata": {
    "collapsed": true
   },
   "outputs": [],
   "source": [
    "def read_csv_subcr_id(filename):\n",
    "    # read revise csv file and print cost time\n",
    "    t0 = time()\n",
    "    df = pd.read_csv(filename, error_bad_lines=False, usecols = [\"MINING_DW_SUBSCR_NO\"])\n",
    "    print(\"time for read csv: %.2f\" % (time()-t0))\n",
    "    return df"
   ]
  },
  {
   "cell_type": "code",
   "execution_count": 5,
   "metadata": {
    "collapsed": true
   },
   "outputs": [],
   "source": [
    "def process_csv_kmean_result(filename, concat_df):\n",
    "    # read revise csv file and print cost time\n",
    "    kmean_df = pd.read_csv(filename, error_bad_lines=False, usecols = [\"MINING_DW_SUBSCR_NO\", \"Groups\"])\n",
    "    concat_df = pd.merge(kmean_df, concat_df, on='MINING_DW_SUBSCR_NO', how='left')\n",
    "    return concat_df"
   ]
  },
  {
   "cell_type": "code",
   "execution_count": 6,
   "metadata": {
    "collapsed": true
   },
   "outputs": [],
   "source": [
    "def save_dataframe(df, out_filename):\n",
    "   # write to csv and no index\n",
    "    t0 = time()\n",
    "    df.to_csv(out_filename + \".csv\", index=False, encoding='utf-8')\n",
    "#     df.to_csv(out_filename + \".csv\", encoding='utf-8')\n",
    "    print(\"time for output csv file: %.2f\" % (time()-t0))"
   ]
  },
  {
   "cell_type": "code",
   "execution_count": 7,
   "metadata": {
    "collapsed": true
   },
   "outputs": [],
   "source": [
    "# set configure\n",
    "# path = \"../DATA_FULL/\"\n",
    "path = \"./CDR_FINAL/\"\n",
    "filename = \"CDR_CONCAT_TABLE_4\"\n",
    "relative_filename = path + filename + \".csv\"\n",
    "out_path = \"./CDR_FINAL/\"\n",
    "\n"
   ]
  },
  {
   "cell_type": "code",
   "execution_count": 8,
   "metadata": {},
   "outputs": [
    {
     "name": "stdout",
     "output_type": "stream",
     "text": [
      "time for read csv: 71.48\n"
     ]
    }
   ],
   "source": [
    "df = read_csv(relative_filename)"
   ]
  },
  {
   "cell_type": "code",
   "execution_count": 9,
   "metadata": {},
   "outputs": [
    {
     "data": {
      "text/html": [
       "<div>\n",
       "<style>\n",
       "    .dataframe thead tr:only-child th {\n",
       "        text-align: right;\n",
       "    }\n",
       "\n",
       "    .dataframe thead th {\n",
       "        text-align: left;\n",
       "    }\n",
       "\n",
       "    .dataframe tbody tr th {\n",
       "        vertical-align: top;\n",
       "    }\n",
       "</style>\n",
       "<table border=\"1\" class=\"dataframe\">\n",
       "  <thead>\n",
       "    <tr style=\"text-align: right;\">\n",
       "      <th></th>\n",
       "      <th>MINING_DW_SUBSCR_NO</th>\n",
       "      <th>VOICE_MO_HOUR_0_CNT</th>\n",
       "      <th>VOICE_MO_HOUR_1_CNT</th>\n",
       "      <th>VOICE_MO_HOUR_2_CNT</th>\n",
       "      <th>VOICE_MO_HOUR_3_CNT</th>\n",
       "      <th>VOICE_MO_HOUR_4_CNT</th>\n",
       "      <th>VOICE_MO_HOUR_5_CNT</th>\n",
       "      <th>VOICE_MO_HOUR_6_CNT</th>\n",
       "      <th>VOICE_MO_HOUR_7_CNT</th>\n",
       "      <th>VOICE_MO_HOUR_8_CNT</th>\n",
       "      <th>...</th>\n",
       "      <th>DNA_HOUR_21_CNT</th>\n",
       "      <th>DNA_HOUR_22_CNT</th>\n",
       "      <th>DNA_HOUR_23_CNT</th>\n",
       "      <th>DNA_Monday</th>\n",
       "      <th>DNA_Tuesday</th>\n",
       "      <th>DNA_Wednesday</th>\n",
       "      <th>DNA_Thursday</th>\n",
       "      <th>DNA_Friday</th>\n",
       "      <th>DNA_Saturday</th>\n",
       "      <th>DNA_Sunday</th>\n",
       "    </tr>\n",
       "  </thead>\n",
       "  <tbody>\n",
       "    <tr>\n",
       "      <th>0</th>\n",
       "      <td>8134330931</td>\n",
       "      <td>0.0</td>\n",
       "      <td>0.0</td>\n",
       "      <td>0.0</td>\n",
       "      <td>0.0</td>\n",
       "      <td>0.0</td>\n",
       "      <td>0.0</td>\n",
       "      <td>0.0</td>\n",
       "      <td>1.0</td>\n",
       "      <td>2.0</td>\n",
       "      <td>...</td>\n",
       "      <td>1.866667</td>\n",
       "      <td>2.7</td>\n",
       "      <td>1.9</td>\n",
       "      <td>0.0</td>\n",
       "      <td>0.0</td>\n",
       "      <td>0.0</td>\n",
       "      <td>0.0</td>\n",
       "      <td>0.0</td>\n",
       "      <td>0.0</td>\n",
       "      <td>0.0</td>\n",
       "    </tr>\n",
       "    <tr>\n",
       "      <th>1</th>\n",
       "      <td>2118544651</td>\n",
       "      <td>0.0</td>\n",
       "      <td>0.0</td>\n",
       "      <td>0.0</td>\n",
       "      <td>0.0</td>\n",
       "      <td>0.0</td>\n",
       "      <td>0.0</td>\n",
       "      <td>0.0</td>\n",
       "      <td>0.0</td>\n",
       "      <td>0.0</td>\n",
       "      <td>...</td>\n",
       "      <td>0.000000</td>\n",
       "      <td>0.0</td>\n",
       "      <td>0.0</td>\n",
       "      <td>0.0</td>\n",
       "      <td>0.0</td>\n",
       "      <td>0.0</td>\n",
       "      <td>0.0</td>\n",
       "      <td>0.0</td>\n",
       "      <td>0.0</td>\n",
       "      <td>0.0</td>\n",
       "    </tr>\n",
       "    <tr>\n",
       "      <th>2</th>\n",
       "      <td>10000337216</td>\n",
       "      <td>0.0</td>\n",
       "      <td>0.0</td>\n",
       "      <td>0.0</td>\n",
       "      <td>0.0</td>\n",
       "      <td>0.0</td>\n",
       "      <td>0.0</td>\n",
       "      <td>2.0</td>\n",
       "      <td>1.0</td>\n",
       "      <td>3.0</td>\n",
       "      <td>...</td>\n",
       "      <td>4.566667</td>\n",
       "      <td>6.2</td>\n",
       "      <td>4.1</td>\n",
       "      <td>0.0</td>\n",
       "      <td>0.0</td>\n",
       "      <td>0.0</td>\n",
       "      <td>0.0</td>\n",
       "      <td>0.0</td>\n",
       "      <td>0.0</td>\n",
       "      <td>0.0</td>\n",
       "    </tr>\n",
       "    <tr>\n",
       "      <th>3</th>\n",
       "      <td>3133428916</td>\n",
       "      <td>0.0</td>\n",
       "      <td>0.0</td>\n",
       "      <td>0.0</td>\n",
       "      <td>0.0</td>\n",
       "      <td>0.0</td>\n",
       "      <td>0.0</td>\n",
       "      <td>0.0</td>\n",
       "      <td>0.0</td>\n",
       "      <td>0.0</td>\n",
       "      <td>...</td>\n",
       "      <td>1.233333</td>\n",
       "      <td>0.0</td>\n",
       "      <td>0.6</td>\n",
       "      <td>0.0</td>\n",
       "      <td>0.0</td>\n",
       "      <td>0.0</td>\n",
       "      <td>0.0</td>\n",
       "      <td>0.0</td>\n",
       "      <td>0.0</td>\n",
       "      <td>0.0</td>\n",
       "    </tr>\n",
       "    <tr>\n",
       "      <th>4</th>\n",
       "      <td>3119268553</td>\n",
       "      <td>0.0</td>\n",
       "      <td>0.0</td>\n",
       "      <td>0.0</td>\n",
       "      <td>0.0</td>\n",
       "      <td>0.0</td>\n",
       "      <td>0.0</td>\n",
       "      <td>0.0</td>\n",
       "      <td>0.0</td>\n",
       "      <td>0.0</td>\n",
       "      <td>...</td>\n",
       "      <td>0.000000</td>\n",
       "      <td>0.0</td>\n",
       "      <td>0.0</td>\n",
       "      <td>0.0</td>\n",
       "      <td>0.0</td>\n",
       "      <td>0.0</td>\n",
       "      <td>0.0</td>\n",
       "      <td>0.0</td>\n",
       "      <td>0.0</td>\n",
       "      <td>0.0</td>\n",
       "    </tr>\n",
       "  </tbody>\n",
       "</table>\n",
       "<p>5 rows × 200 columns</p>\n",
       "</div>"
      ],
      "text/plain": [
       "   MINING_DW_SUBSCR_NO  VOICE_MO_HOUR_0_CNT  VOICE_MO_HOUR_1_CNT  \\\n",
       "0           8134330931                  0.0                  0.0   \n",
       "1           2118544651                  0.0                  0.0   \n",
       "2          10000337216                  0.0                  0.0   \n",
       "3           3133428916                  0.0                  0.0   \n",
       "4           3119268553                  0.0                  0.0   \n",
       "\n",
       "   VOICE_MO_HOUR_2_CNT  VOICE_MO_HOUR_3_CNT  VOICE_MO_HOUR_4_CNT  \\\n",
       "0                  0.0                  0.0                  0.0   \n",
       "1                  0.0                  0.0                  0.0   \n",
       "2                  0.0                  0.0                  0.0   \n",
       "3                  0.0                  0.0                  0.0   \n",
       "4                  0.0                  0.0                  0.0   \n",
       "\n",
       "   VOICE_MO_HOUR_5_CNT  VOICE_MO_HOUR_6_CNT  VOICE_MO_HOUR_7_CNT  \\\n",
       "0                  0.0                  0.0                  1.0   \n",
       "1                  0.0                  0.0                  0.0   \n",
       "2                  0.0                  2.0                  1.0   \n",
       "3                  0.0                  0.0                  0.0   \n",
       "4                  0.0                  0.0                  0.0   \n",
       "\n",
       "   VOICE_MO_HOUR_8_CNT     ...      DNA_HOUR_21_CNT  DNA_HOUR_22_CNT  \\\n",
       "0                  2.0     ...             1.866667              2.7   \n",
       "1                  0.0     ...             0.000000              0.0   \n",
       "2                  3.0     ...             4.566667              6.2   \n",
       "3                  0.0     ...             1.233333              0.0   \n",
       "4                  0.0     ...             0.000000              0.0   \n",
       "\n",
       "   DNA_HOUR_23_CNT   DNA_Monday  DNA_Tuesday  DNA_Wednesday  DNA_Thursday  \\\n",
       "0               1.9         0.0          0.0            0.0           0.0   \n",
       "1               0.0         0.0          0.0            0.0           0.0   \n",
       "2               4.1         0.0          0.0            0.0           0.0   \n",
       "3               0.6         0.0          0.0            0.0           0.0   \n",
       "4               0.0         0.0          0.0            0.0           0.0   \n",
       "\n",
       "   DNA_Friday  DNA_Saturday  DNA_Sunday  \n",
       "0         0.0           0.0         0.0  \n",
       "1         0.0           0.0         0.0  \n",
       "2         0.0           0.0         0.0  \n",
       "3         0.0           0.0         0.0  \n",
       "4         0.0           0.0         0.0  \n",
       "\n",
       "[5 rows x 200 columns]"
      ]
     },
     "execution_count": 9,
     "metadata": {},
     "output_type": "execute_result"
    }
   ],
   "source": [
    "df.head()"
   ]
  },
  {
   "cell_type": "code",
   "execution_count": 10,
   "metadata": {},
   "outputs": [
    {
     "data": {
      "text/plain": [
       "\"['MINING_DW_SUBSCR_NO', 'VOICE_MO_HOUR_0_CNT', 'VOICE_MO_HOUR_1_CNT', 'VOICE_MO_HOUR_2_CNT', 'VOICE_MO_HOUR_3_CNT', 'VOICE_MO_HOUR_4_CNT', 'VOICE_MO_HOUR_5_CNT', 'VOICE_MO_HOUR_6_CNT', 'VOICE_MO_HOUR_7_CNT', 'VOICE_MO_HOUR_8_CNT', 'VOICE_MO_HOUR_9_CNT', 'VOICE_MO_HOUR_10_CNT', 'VOICE_MO_HOUR_11_CNT', 'VOICE_MO_HOUR_12_CNT', 'VOICE_MO_HOUR_13_CNT', 'VOICE_MO_HOUR_14_CNT', 'VOICE_MO_HOUR_15_CNT', 'VOICE_MO_HOUR_16_CNT', 'VOICE_MO_HOUR_17_CNT', 'VOICE_MO_HOUR_18_CNT', 'VOICE_MO_HOUR_19_CNT', 'VOICE_MO_HOUR_20_CNT', 'VOICE_MO_HOUR_21_CNT', 'VOICE_MO_HOUR_22_CNT', 'VOICE_MO_HOUR_23_CNT', 'VOICE_MO_HOUR_0_TIME', 'VOICE_MO_HOUR_1_TIME', 'VOICE_MO_HOUR_2_TIME', 'VOICE_MO_HOUR_3_TIME', 'VOICE_MO_HOUR_4_TIME', 'VOICE_MO_HOUR_5_TIME', 'VOICE_MO_HOUR_6_TIME', 'VOICE_MO_HOUR_7_TIME', 'VOICE_MO_HOUR_8_TIME', 'VOICE_MO_HOUR_9_TIME', 'VOICE_MO_HOUR_10_TIME', 'VOICE_MO_HOUR_11_TIME', 'VOICE_MO_HOUR_12_TIME', 'VOICE_MO_HOUR_13_TIME', 'VOICE_MO_HOUR_14_TIME', 'VOICE_MO_HOUR_15_TIME', 'VOICE_MO_HOUR_16_TIME', 'VOICE_MO_HOUR_17_TIME', 'VOICE_MO_HOUR_18_TIME', 'VOICE_MO_HOUR_19_TIME', 'VOICE_MO_HOUR_20_TIME', 'VOICE_MO_HOUR_21_TIME', 'VOICE_MO_HOUR_22_TIME', 'VOICE_MO_HOUR_23_TIME', 'VOICE_MT_HOUR_0_CNT', 'VOICE_MT_HOUR_1_CNT', 'VOICE_MT_HOUR_2_CNT', 'VOICE_MT_HOUR_3_CNT', 'VOICE_MT_HOUR_4_CNT', 'VOICE_MT_HOUR_5_CNT', 'VOICE_MT_HOUR_6_CNT', 'VOICE_MT_HOUR_7_CNT', 'VOICE_MT_HOUR_8_CNT', 'VOICE_MT_HOUR_9_CNT', 'VOICE_MT_HOUR_10_CNT', 'VOICE_MT_HOUR_11_CNT', 'VOICE_MT_HOUR_12_CNT', 'VOICE_MT_HOUR_13_CNT', 'VOICE_MT_HOUR_14_CNT', 'VOICE_MT_HOUR_15_CNT', 'VOICE_MT_HOUR_16_CNT', 'VOICE_MT_HOUR_17_CNT', 'VOICE_MT_HOUR_18_CNT', 'VOICE_MT_HOUR_19_CNT', 'VOICE_MT_HOUR_20_CNT', 'VOICE_MT_HOUR_21_CNT', 'VOICE_MT_HOUR_22_CNT', 'VOICE_MT_HOUR_23_CNT', 'VOICE_MT_HOUR_0_TIME', 'VOICE_MT_HOUR_1_TIME', 'VOICE_MT_HOUR_2_TIME', 'VOICE_MT_HOUR_3_TIME', 'VOICE_MT_HOUR_4_TIME', 'VOICE_MT_HOUR_5_TIME', 'VOICE_MT_HOUR_6_TIME', 'VOICE_MT_HOUR_7_TIME', 'VOICE_MT_HOUR_8_TIME', 'VOICE_MT_HOUR_9_TIME', 'VOICE_MT_HOUR_10_TIME', 'VOICE_MT_HOUR_11_TIME', 'VOICE_MT_HOUR_12_TIME', 'VOICE_MT_HOUR_13_TIME', 'VOICE_MT_HOUR_14_TIME', 'VOICE_MT_HOUR_15_TIME', 'VOICE_MT_HOUR_16_TIME', 'VOICE_MT_HOUR_17_TIME', 'VOICE_MT_HOUR_18_TIME', 'VOICE_MT_HOUR_19_TIME', 'VOICE_MT_HOUR_20_TIME', 'VOICE_MT_HOUR_21_TIME', 'VOICE_MT_HOUR_22_TIME', 'VOICE_MT_HOUR_23_TIME', 'VOICE_MO_MON_CNT', 'VOICE_MO_TUE_CNT', 'VOICE_MO_WED_CNT', 'VOICE_MO_THU_CNT', 'VOICE_MO_FRI_CNT', 'VOICE_MO_SAT_CNT', 'VOICE_MO_SUN_CNT', 'VOICE_MO_MON_TIME', 'VOICE_MO_TUE_TIME', 'VOICE_MO_WED_TIME', 'VOICE_MO_THU_TIME', 'VOICE_MO_FRI_TIME', 'VOICE_MO_SAT_TIME', 'VOICE_MO_SUN_TIME', 'VOICE_MO_workday_cnt', 'VOICE_MO_workday_cnt_avg', 'VOICE_MO_workday_time', 'VOICE_MO_workday_time_avg', 'VOICE_MO_holiday_cnt', 'VOICE_MO_holiday_cnt_avg', 'VOICE_MO_holiday_time', 'VOICE_MO_holiday_time_avg', 'VOICE_MT_MON_CNT', 'VOICE_MT_TUE_CNT', 'VOICE_MT_WED_CNT', 'VOICE_MT_THU_CNT', 'VOICE_MT_FRI_CNT', 'VOICE_MT_SAT_CNT', 'VOICE_MT_SUN_CNT', 'VOICE_MT_MON_TIME', 'VOICE_MT_TUE_TIME', 'VOICE_MT_WED_TIME', 'VOICE_MT_THU_TIME', 'VOICE_MT_FRI_TIME', 'VOICE_MT_SAT_TIME', 'VOICE_MT_SUN_TIME', 'VOICE_MT_workday_cnt', 'VOICE_MT_workday_cnt_avg', 'VOICE_MT_workday_time', 'VOICE_MT_workday_time_avg', 'VOICE_MT_holiday_cnt', 'VOICE_MT_holiday_cnt_avg', 'VOICE_MT_holiday_time', 'VOICE_MT_holiday_time_avg', 'MTC_CNT', 'MTC_DUR', 'MTC_FET_CNT', 'MTC_FET_DUR', 'MTC_TWM_CNT', 'MTC_TWM_DUR', 'MTC_CHM_CNT', 'MTC_CHM_DUR', 'MTC_APT_CNT', 'MTC_APT_DUR', 'MTC_TSC_CNT', 'MTC_TSC_DUR', 'MTC_PSTN_CNT', 'MTC_PSTN_DUR', 'MOC_CNT', 'MOC_DUR', 'MOC_FET_CNT', 'MOC_FET_DUR', 'MOC_TWM_CNT', 'MOC_TWM_DUR', 'MOC_CHM_CNT', 'MOC_CHM_DUR', 'MOC_APT_CNT', 'MOC_APT_DUR', 'MOC_TSC_CNT', 'MOC_TSC_DUR', 'MOC_PSTN_CNT', 'MOC_PSTN_DUR', 'DNA_HOUR_0_CNT', 'DNA_HOUR_1_CNT', 'DNA_HOUR_2_CNT', 'DNA_HOUR_3_CNT', 'DNA_HOUR_4_CNT', 'DNA_HOUR_5_CNT', 'DNA_HOUR_6_CNT', 'DNA_HOUR_7_CNT', 'DNA_HOUR_8_CNT', 'DNA_HOUR_9_CNT', 'DNA_HOUR_10_CNT', 'DNA_HOUR_11_CNT', 'DNA_HOUR_12_CNT', 'DNA_HOUR_13_CNT', 'DNA_HOUR_14_CNT', 'DNA_HOUR_15_CNT', 'DNA_HOUR_16_CNT', 'DNA_HOUR_17_CNT', 'DNA_HOUR_18_CNT', 'DNA_HOUR_19_CNT', 'DNA_HOUR_20_CNT', 'DNA_HOUR_21_CNT', 'DNA_HOUR_22_CNT', 'DNA_HOUR_23_CNT ', 'DNA_Monday', 'DNA_Tuesday', 'DNA_Wednesday', 'DNA_Thursday', 'DNA_Friday', 'DNA_Saturday', 'DNA_Sunday']\""
      ]
     },
     "execution_count": 10,
     "metadata": {},
     "output_type": "execute_result"
    }
   ],
   "source": [
    "str(list(df.columns))"
   ]
  },
  {
   "cell_type": "code",
   "execution_count": 68,
   "metadata": {
    "collapsed": true
   },
   "outputs": [],
   "source": [
    "df=df.rename(columns = {'DNA_HOUR_23_CNT ':'DNA_HOUR_23_CNT'})\n",
    "result = pd.DataFrame() \n",
    "result[\"MINING_DW_SUBSCR_NO\"] = df[\"MINING_DW_SUBSCR_NO\"]\n",
    "temp_result = pd.DataFrame() \n",
    "temp_result[\"MINING_DW_SUBSCR_NO\"] = df[\"MINING_DW_SUBSCR_NO\"]"
   ]
  },
  {
   "cell_type": "markdown",
   "metadata": {},
   "source": [
    "# VOICE HOUR RELATIVE\n",
    "# HOUR TIME = MO TIME + MT TIME"
   ]
  },
  {
   "cell_type": "code",
   "execution_count": 69,
   "metadata": {},
   "outputs": [
    {
     "name": "stdout",
     "output_type": "stream",
     "text": [
      "VOICE_HOUR_0_TIME\n",
      "VOICE_HOUR_1_TIME\n",
      "VOICE_HOUR_2_TIME\n",
      "VOICE_HOUR_3_TIME\n",
      "VOICE_HOUR_4_TIME\n",
      "VOICE_HOUR_5_TIME\n",
      "VOICE_HOUR_6_TIME\n",
      "VOICE_HOUR_7_TIME\n",
      "VOICE_HOUR_8_TIME\n",
      "VOICE_HOUR_9_TIME\n",
      "VOICE_HOUR_10_TIME\n",
      "VOICE_HOUR_11_TIME\n",
      "VOICE_HOUR_12_TIME\n",
      "VOICE_HOUR_13_TIME\n",
      "VOICE_HOUR_14_TIME\n",
      "VOICE_HOUR_15_TIME\n",
      "VOICE_HOUR_16_TIME\n",
      "VOICE_HOUR_17_TIME\n",
      "VOICE_HOUR_18_TIME\n",
      "VOICE_HOUR_19_TIME\n",
      "VOICE_HOUR_20_TIME\n",
      "VOICE_HOUR_21_TIME\n",
      "VOICE_HOUR_22_TIME\n",
      "VOICE_HOUR_23_TIME\n"
     ]
    }
   ],
   "source": [
    "temp_result = pd.DataFrame() \n",
    "temp_result[\"MINING_DW_SUBSCR_NO\"] = df[\"MINING_DW_SUBSCR_NO\"]\n",
    "for i in range(24):\n",
    "    col_name = \"VOICE_\" + \"HOUR_\" + str(i) + \"_TIME\"\n",
    "    print(col_name)\n",
    "    temp_result[col_name] = 0\n",
    "    for m_ in [\"_MO_\", \"_MT_\"]:\n",
    "        temp_result[col_name] += df[\"VOICE\"+  m_ + \"HOUR_\" + str(i) + \"_TIME\"]\n",
    "    temp_result[col_name] /= 30\n"
   ]
  },
  {
   "cell_type": "code",
   "execution_count": 70,
   "metadata": {},
   "outputs": [],
   "source": [
    "temp_result = temp_result.round(3)"
   ]
  },
  {
   "cell_type": "code",
   "execution_count": 71,
   "metadata": {},
   "outputs": [
    {
     "data": {
      "text/html": [
       "<div>\n",
       "<style>\n",
       "    .dataframe thead tr:only-child th {\n",
       "        text-align: right;\n",
       "    }\n",
       "\n",
       "    .dataframe thead th {\n",
       "        text-align: left;\n",
       "    }\n",
       "\n",
       "    .dataframe tbody tr th {\n",
       "        vertical-align: top;\n",
       "    }\n",
       "</style>\n",
       "<table border=\"1\" class=\"dataframe\">\n",
       "  <thead>\n",
       "    <tr style=\"text-align: right;\">\n",
       "      <th></th>\n",
       "      <th>MINING_DW_SUBSCR_NO</th>\n",
       "      <th>VOICE_HOUR_0_TIME</th>\n",
       "      <th>VOICE_HOUR_1_TIME</th>\n",
       "      <th>VOICE_HOUR_2_TIME</th>\n",
       "      <th>VOICE_HOUR_3_TIME</th>\n",
       "      <th>VOICE_HOUR_4_TIME</th>\n",
       "      <th>VOICE_HOUR_5_TIME</th>\n",
       "      <th>VOICE_HOUR_6_TIME</th>\n",
       "      <th>VOICE_HOUR_7_TIME</th>\n",
       "      <th>VOICE_HOUR_8_TIME</th>\n",
       "      <th>...</th>\n",
       "      <th>VOICE_HOUR_14_TIME</th>\n",
       "      <th>VOICE_HOUR_15_TIME</th>\n",
       "      <th>VOICE_HOUR_16_TIME</th>\n",
       "      <th>VOICE_HOUR_17_TIME</th>\n",
       "      <th>VOICE_HOUR_18_TIME</th>\n",
       "      <th>VOICE_HOUR_19_TIME</th>\n",
       "      <th>VOICE_HOUR_20_TIME</th>\n",
       "      <th>VOICE_HOUR_21_TIME</th>\n",
       "      <th>VOICE_HOUR_22_TIME</th>\n",
       "      <th>VOICE_HOUR_23_TIME</th>\n",
       "    </tr>\n",
       "  </thead>\n",
       "  <tbody>\n",
       "    <tr>\n",
       "      <th>0</th>\n",
       "      <td>10000000005</td>\n",
       "      <td>0.0</td>\n",
       "      <td>0.0</td>\n",
       "      <td>0.0</td>\n",
       "      <td>0.0</td>\n",
       "      <td>0.0</td>\n",
       "      <td>0.0</td>\n",
       "      <td>5.267</td>\n",
       "      <td>2.567</td>\n",
       "      <td>1.000</td>\n",
       "      <td>...</td>\n",
       "      <td>3.067</td>\n",
       "      <td>29.233</td>\n",
       "      <td>1.467</td>\n",
       "      <td>12.900</td>\n",
       "      <td>8.667</td>\n",
       "      <td>1.567</td>\n",
       "      <td>16.600</td>\n",
       "      <td>1.067</td>\n",
       "      <td>11.833</td>\n",
       "      <td>0.4</td>\n",
       "    </tr>\n",
       "    <tr>\n",
       "      <th>1</th>\n",
       "      <td>10000000006</td>\n",
       "      <td>0.0</td>\n",
       "      <td>0.0</td>\n",
       "      <td>0.0</td>\n",
       "      <td>0.0</td>\n",
       "      <td>0.0</td>\n",
       "      <td>0.0</td>\n",
       "      <td>0.000</td>\n",
       "      <td>0.000</td>\n",
       "      <td>0.000</td>\n",
       "      <td>...</td>\n",
       "      <td>0.667</td>\n",
       "      <td>0.000</td>\n",
       "      <td>0.500</td>\n",
       "      <td>3.300</td>\n",
       "      <td>12.733</td>\n",
       "      <td>2.133</td>\n",
       "      <td>2.533</td>\n",
       "      <td>0.000</td>\n",
       "      <td>0.000</td>\n",
       "      <td>0.0</td>\n",
       "    </tr>\n",
       "    <tr>\n",
       "      <th>2</th>\n",
       "      <td>10000000008</td>\n",
       "      <td>0.0</td>\n",
       "      <td>0.0</td>\n",
       "      <td>0.0</td>\n",
       "      <td>0.0</td>\n",
       "      <td>0.0</td>\n",
       "      <td>0.0</td>\n",
       "      <td>0.000</td>\n",
       "      <td>0.000</td>\n",
       "      <td>20.933</td>\n",
       "      <td>...</td>\n",
       "      <td>0.000</td>\n",
       "      <td>0.000</td>\n",
       "      <td>10.367</td>\n",
       "      <td>1.333</td>\n",
       "      <td>0.567</td>\n",
       "      <td>0.000</td>\n",
       "      <td>0.000</td>\n",
       "      <td>0.000</td>\n",
       "      <td>0.000</td>\n",
       "      <td>0.0</td>\n",
       "    </tr>\n",
       "    <tr>\n",
       "      <th>3</th>\n",
       "      <td>10000000013</td>\n",
       "      <td>0.0</td>\n",
       "      <td>0.0</td>\n",
       "      <td>0.0</td>\n",
       "      <td>0.0</td>\n",
       "      <td>0.0</td>\n",
       "      <td>0.0</td>\n",
       "      <td>0.667</td>\n",
       "      <td>0.767</td>\n",
       "      <td>0.000</td>\n",
       "      <td>...</td>\n",
       "      <td>0.000</td>\n",
       "      <td>2.767</td>\n",
       "      <td>1.167</td>\n",
       "      <td>15.167</td>\n",
       "      <td>0.700</td>\n",
       "      <td>2.833</td>\n",
       "      <td>0.000</td>\n",
       "      <td>0.000</td>\n",
       "      <td>0.000</td>\n",
       "      <td>0.0</td>\n",
       "    </tr>\n",
       "    <tr>\n",
       "      <th>4</th>\n",
       "      <td>10000000020</td>\n",
       "      <td>0.0</td>\n",
       "      <td>0.0</td>\n",
       "      <td>0.0</td>\n",
       "      <td>0.0</td>\n",
       "      <td>0.0</td>\n",
       "      <td>0.0</td>\n",
       "      <td>0.000</td>\n",
       "      <td>0.000</td>\n",
       "      <td>0.000</td>\n",
       "      <td>...</td>\n",
       "      <td>14.167</td>\n",
       "      <td>2.800</td>\n",
       "      <td>7.200</td>\n",
       "      <td>15.667</td>\n",
       "      <td>0.000</td>\n",
       "      <td>16.767</td>\n",
       "      <td>3.700</td>\n",
       "      <td>0.000</td>\n",
       "      <td>0.000</td>\n",
       "      <td>0.0</td>\n",
       "    </tr>\n",
       "  </tbody>\n",
       "</table>\n",
       "<p>5 rows × 25 columns</p>\n",
       "</div>"
      ],
      "text/plain": [
       "   MINING_DW_SUBSCR_NO  VOICE_HOUR_0_TIME  VOICE_HOUR_1_TIME  \\\n",
       "0          10000000005                0.0                0.0   \n",
       "1          10000000006                0.0                0.0   \n",
       "2          10000000008                0.0                0.0   \n",
       "3          10000000013                0.0                0.0   \n",
       "4          10000000020                0.0                0.0   \n",
       "\n",
       "   VOICE_HOUR_2_TIME  VOICE_HOUR_3_TIME  VOICE_HOUR_4_TIME  VOICE_HOUR_5_TIME  \\\n",
       "0                0.0                0.0                0.0                0.0   \n",
       "1                0.0                0.0                0.0                0.0   \n",
       "2                0.0                0.0                0.0                0.0   \n",
       "3                0.0                0.0                0.0                0.0   \n",
       "4                0.0                0.0                0.0                0.0   \n",
       "\n",
       "   VOICE_HOUR_6_TIME  VOICE_HOUR_7_TIME  VOICE_HOUR_8_TIME  \\\n",
       "0              5.267              2.567              1.000   \n",
       "1              0.000              0.000              0.000   \n",
       "2              0.000              0.000             20.933   \n",
       "3              0.667              0.767              0.000   \n",
       "4              0.000              0.000              0.000   \n",
       "\n",
       "          ...          VOICE_HOUR_14_TIME  VOICE_HOUR_15_TIME  \\\n",
       "0         ...                       3.067              29.233   \n",
       "1         ...                       0.667               0.000   \n",
       "2         ...                       0.000               0.000   \n",
       "3         ...                       0.000               2.767   \n",
       "4         ...                      14.167               2.800   \n",
       "\n",
       "   VOICE_HOUR_16_TIME  VOICE_HOUR_17_TIME  VOICE_HOUR_18_TIME  \\\n",
       "0               1.467              12.900               8.667   \n",
       "1               0.500               3.300              12.733   \n",
       "2              10.367               1.333               0.567   \n",
       "3               1.167              15.167               0.700   \n",
       "4               7.200              15.667               0.000   \n",
       "\n",
       "   VOICE_HOUR_19_TIME  VOICE_HOUR_20_TIME  VOICE_HOUR_21_TIME  \\\n",
       "0               1.567              16.600               1.067   \n",
       "1               2.133               2.533               0.000   \n",
       "2               0.000               0.000               0.000   \n",
       "3               2.833               0.000               0.000   \n",
       "4              16.767               3.700               0.000   \n",
       "\n",
       "   VOICE_HOUR_22_TIME  VOICE_HOUR_23_TIME  \n",
       "0              11.833                 0.4  \n",
       "1               0.000                 0.0  \n",
       "2               0.000                 0.0  \n",
       "3               0.000                 0.0  \n",
       "4               0.000                 0.0  \n",
       "\n",
       "[5 rows x 25 columns]"
      ]
     },
     "execution_count": 71,
     "metadata": {},
     "output_type": "execute_result"
    }
   ],
   "source": [
    "temp_result.head()"
   ]
  },
  {
   "cell_type": "code",
   "execution_count": 60,
   "metadata": {},
   "outputs": [
    {
     "name": "stdout",
     "output_type": "stream",
     "text": [
      "time for output csv file: 37.55\n"
     ]
    }
   ],
   "source": [
    "save_dataframe(temp_result, out_path +  \"voice_hour_24_cols\")"
   ]
  },
  {
   "cell_type": "code",
   "execution_count": null,
   "metadata": {
    "collapsed": true
   },
   "outputs": [],
   "source": []
  },
  {
   "cell_type": "code",
   "execution_count": 72,
   "metadata": {},
   "outputs": [],
   "source": [
    "# sum \n",
    "temp_result[\"temp_sum\"] = 0\n",
    "for i in temp_result.columns[:-1]:\n",
    "    if(i !=  \"MINING_DW_SUBSCR_NO\"):\n",
    "        temp_result[\"temp_sum\"] += temp_result[i]"
   ]
  },
  {
   "cell_type": "code",
   "execution_count": 73,
   "metadata": {},
   "outputs": [],
   "source": [
    "# get hour normalize\n",
    "for i in temp_result.columns[:-1]:\n",
    "    if(i !=  \"MINING_DW_SUBSCR_NO\"):\n",
    "        result[i] = temp_result[i] / temp_result[\"temp_sum\"]"
   ]
  },
  {
   "cell_type": "code",
   "execution_count": 74,
   "metadata": {},
   "outputs": [
    {
     "data": {
      "text/html": [
       "<div>\n",
       "<style>\n",
       "    .dataframe thead tr:only-child th {\n",
       "        text-align: right;\n",
       "    }\n",
       "\n",
       "    .dataframe thead th {\n",
       "        text-align: left;\n",
       "    }\n",
       "\n",
       "    .dataframe tbody tr th {\n",
       "        vertical-align: top;\n",
       "    }\n",
       "</style>\n",
       "<table border=\"1\" class=\"dataframe\">\n",
       "  <thead>\n",
       "    <tr style=\"text-align: right;\">\n",
       "      <th></th>\n",
       "      <th>MINING_DW_SUBSCR_NO</th>\n",
       "      <th>VOICE_HOUR_0_TIME</th>\n",
       "      <th>VOICE_HOUR_1_TIME</th>\n",
       "      <th>VOICE_HOUR_2_TIME</th>\n",
       "      <th>VOICE_HOUR_3_TIME</th>\n",
       "      <th>VOICE_HOUR_4_TIME</th>\n",
       "      <th>VOICE_HOUR_5_TIME</th>\n",
       "      <th>VOICE_HOUR_6_TIME</th>\n",
       "      <th>VOICE_HOUR_7_TIME</th>\n",
       "      <th>VOICE_HOUR_8_TIME</th>\n",
       "      <th>...</th>\n",
       "      <th>VOICE_HOUR_14_TIME</th>\n",
       "      <th>VOICE_HOUR_15_TIME</th>\n",
       "      <th>VOICE_HOUR_16_TIME</th>\n",
       "      <th>VOICE_HOUR_17_TIME</th>\n",
       "      <th>VOICE_HOUR_18_TIME</th>\n",
       "      <th>VOICE_HOUR_19_TIME</th>\n",
       "      <th>VOICE_HOUR_20_TIME</th>\n",
       "      <th>VOICE_HOUR_21_TIME</th>\n",
       "      <th>VOICE_HOUR_22_TIME</th>\n",
       "      <th>VOICE_HOUR_23_TIME</th>\n",
       "    </tr>\n",
       "  </thead>\n",
       "  <tbody>\n",
       "    <tr>\n",
       "      <th>0</th>\n",
       "      <td>10000000005</td>\n",
       "      <td>0.0</td>\n",
       "      <td>0.0</td>\n",
       "      <td>0.0</td>\n",
       "      <td>0.0</td>\n",
       "      <td>0.0</td>\n",
       "      <td>0.0</td>\n",
       "      <td>0.032405</td>\n",
       "      <td>0.015794</td>\n",
       "      <td>0.006153</td>\n",
       "      <td>...</td>\n",
       "      <td>0.018870</td>\n",
       "      <td>0.179857</td>\n",
       "      <td>0.009026</td>\n",
       "      <td>0.079368</td>\n",
       "      <td>0.053324</td>\n",
       "      <td>0.009641</td>\n",
       "      <td>0.102132</td>\n",
       "      <td>0.006565</td>\n",
       "      <td>0.072803</td>\n",
       "      <td>0.002461</td>\n",
       "    </tr>\n",
       "    <tr>\n",
       "      <th>1</th>\n",
       "      <td>10000000006</td>\n",
       "      <td>0.0</td>\n",
       "      <td>0.0</td>\n",
       "      <td>0.0</td>\n",
       "      <td>0.0</td>\n",
       "      <td>0.0</td>\n",
       "      <td>0.0</td>\n",
       "      <td>0.000000</td>\n",
       "      <td>0.000000</td>\n",
       "      <td>0.000000</td>\n",
       "      <td>...</td>\n",
       "      <td>0.003780</td>\n",
       "      <td>0.000000</td>\n",
       "      <td>0.002834</td>\n",
       "      <td>0.018704</td>\n",
       "      <td>0.072169</td>\n",
       "      <td>0.012090</td>\n",
       "      <td>0.014357</td>\n",
       "      <td>0.000000</td>\n",
       "      <td>0.000000</td>\n",
       "      <td>0.000000</td>\n",
       "    </tr>\n",
       "    <tr>\n",
       "      <th>2</th>\n",
       "      <td>10000000008</td>\n",
       "      <td>0.0</td>\n",
       "      <td>0.0</td>\n",
       "      <td>0.0</td>\n",
       "      <td>0.0</td>\n",
       "      <td>0.0</td>\n",
       "      <td>0.0</td>\n",
       "      <td>0.000000</td>\n",
       "      <td>0.000000</td>\n",
       "      <td>0.472528</td>\n",
       "      <td>...</td>\n",
       "      <td>0.000000</td>\n",
       "      <td>0.000000</td>\n",
       "      <td>0.234018</td>\n",
       "      <td>0.030090</td>\n",
       "      <td>0.012799</td>\n",
       "      <td>0.000000</td>\n",
       "      <td>0.000000</td>\n",
       "      <td>0.000000</td>\n",
       "      <td>0.000000</td>\n",
       "      <td>0.000000</td>\n",
       "    </tr>\n",
       "    <tr>\n",
       "      <th>3</th>\n",
       "      <td>10000000013</td>\n",
       "      <td>0.0</td>\n",
       "      <td>0.0</td>\n",
       "      <td>0.0</td>\n",
       "      <td>0.0</td>\n",
       "      <td>0.0</td>\n",
       "      <td>0.0</td>\n",
       "      <td>0.027713</td>\n",
       "      <td>0.031868</td>\n",
       "      <td>0.000000</td>\n",
       "      <td>...</td>\n",
       "      <td>0.000000</td>\n",
       "      <td>0.114966</td>\n",
       "      <td>0.048488</td>\n",
       "      <td>0.630173</td>\n",
       "      <td>0.029084</td>\n",
       "      <td>0.117708</td>\n",
       "      <td>0.000000</td>\n",
       "      <td>0.000000</td>\n",
       "      <td>0.000000</td>\n",
       "      <td>0.000000</td>\n",
       "    </tr>\n",
       "    <tr>\n",
       "      <th>4</th>\n",
       "      <td>10000000020</td>\n",
       "      <td>0.0</td>\n",
       "      <td>0.0</td>\n",
       "      <td>0.0</td>\n",
       "      <td>0.0</td>\n",
       "      <td>0.0</td>\n",
       "      <td>0.0</td>\n",
       "      <td>0.000000</td>\n",
       "      <td>0.000000</td>\n",
       "      <td>0.000000</td>\n",
       "      <td>...</td>\n",
       "      <td>0.171372</td>\n",
       "      <td>0.033870</td>\n",
       "      <td>0.087095</td>\n",
       "      <td>0.189517</td>\n",
       "      <td>0.000000</td>\n",
       "      <td>0.202823</td>\n",
       "      <td>0.044757</td>\n",
       "      <td>0.000000</td>\n",
       "      <td>0.000000</td>\n",
       "      <td>0.000000</td>\n",
       "    </tr>\n",
       "  </tbody>\n",
       "</table>\n",
       "<p>5 rows × 25 columns</p>\n",
       "</div>"
      ],
      "text/plain": [
       "   MINING_DW_SUBSCR_NO  VOICE_HOUR_0_TIME  VOICE_HOUR_1_TIME  \\\n",
       "0          10000000005                0.0                0.0   \n",
       "1          10000000006                0.0                0.0   \n",
       "2          10000000008                0.0                0.0   \n",
       "3          10000000013                0.0                0.0   \n",
       "4          10000000020                0.0                0.0   \n",
       "\n",
       "   VOICE_HOUR_2_TIME  VOICE_HOUR_3_TIME  VOICE_HOUR_4_TIME  VOICE_HOUR_5_TIME  \\\n",
       "0                0.0                0.0                0.0                0.0   \n",
       "1                0.0                0.0                0.0                0.0   \n",
       "2                0.0                0.0                0.0                0.0   \n",
       "3                0.0                0.0                0.0                0.0   \n",
       "4                0.0                0.0                0.0                0.0   \n",
       "\n",
       "   VOICE_HOUR_6_TIME  VOICE_HOUR_7_TIME  VOICE_HOUR_8_TIME  \\\n",
       "0           0.032405           0.015794           0.006153   \n",
       "1           0.000000           0.000000           0.000000   \n",
       "2           0.000000           0.000000           0.472528   \n",
       "3           0.027713           0.031868           0.000000   \n",
       "4           0.000000           0.000000           0.000000   \n",
       "\n",
       "          ...          VOICE_HOUR_14_TIME  VOICE_HOUR_15_TIME  \\\n",
       "0         ...                    0.018870            0.179857   \n",
       "1         ...                    0.003780            0.000000   \n",
       "2         ...                    0.000000            0.000000   \n",
       "3         ...                    0.000000            0.114966   \n",
       "4         ...                    0.171372            0.033870   \n",
       "\n",
       "   VOICE_HOUR_16_TIME  VOICE_HOUR_17_TIME  VOICE_HOUR_18_TIME  \\\n",
       "0            0.009026            0.079368            0.053324   \n",
       "1            0.002834            0.018704            0.072169   \n",
       "2            0.234018            0.030090            0.012799   \n",
       "3            0.048488            0.630173            0.029084   \n",
       "4            0.087095            0.189517            0.000000   \n",
       "\n",
       "   VOICE_HOUR_19_TIME  VOICE_HOUR_20_TIME  VOICE_HOUR_21_TIME  \\\n",
       "0            0.009641            0.102132            0.006565   \n",
       "1            0.012090            0.014357            0.000000   \n",
       "2            0.000000            0.000000            0.000000   \n",
       "3            0.117708            0.000000            0.000000   \n",
       "4            0.202823            0.044757            0.000000   \n",
       "\n",
       "   VOICE_HOUR_22_TIME  VOICE_HOUR_23_TIME  \n",
       "0            0.072803            0.002461  \n",
       "1            0.000000            0.000000  \n",
       "2            0.000000            0.000000  \n",
       "3            0.000000            0.000000  \n",
       "4            0.000000            0.000000  \n",
       "\n",
       "[5 rows x 25 columns]"
      ]
     },
     "execution_count": 74,
     "metadata": {},
     "output_type": "execute_result"
    }
   ],
   "source": [
    "result = result.fillna(0)\n",
    "result.head()"
   ]
  },
  {
   "cell_type": "markdown",
   "metadata": {},
   "source": [
    "# VOICE WEEK relative"
   ]
  },
  {
   "cell_type": "code",
   "execution_count": 76,
   "metadata": {},
   "outputs": [
    {
     "name": "stdout",
     "output_type": "stream",
     "text": [
      "VOICE_HOUR_MON_TIME\n",
      "VOICE_HOUR_TUE_TIME\n",
      "VOICE_HOUR_WED_TIME\n",
      "VOICE_HOUR_THU_TIME\n",
      "VOICE_HOUR_FRI_TIME\n",
      "VOICE_HOUR_SAT_TIME\n",
      "VOICE_HOUR_SUN_TIME\n"
     ]
    }
   ],
   "source": [
    "temp_result = pd.DataFrame() \n",
    "temp_result[\"MINING_DW_SUBSCR_NO\"] = df[\"MINING_DW_SUBSCR_NO\"]\n",
    "time_week = [\"MON\", \"TUE\", \"WED\", \"THU\", \"FRI\", \"SAT\", \"SUN\"]\n",
    "\n",
    "for i in time_week:\n",
    "    col_name = \"VOICE_\" + \"HOUR_\" + str(i) + \"_TIME\"\n",
    "    print(col_name)\n",
    "    temp_result[col_name] = 0\n",
    "    for m_ in [\"_MO_\", \"_MT_\"]:\n",
    "        temp_result[col_name] += df[\"VOICE\"+  m_  + str(i) + \"_TIME\"]\n",
    "        "
   ]
  },
  {
   "cell_type": "code",
   "execution_count": 77,
   "metadata": {},
   "outputs": [
    {
     "data": {
      "text/html": [
       "<div>\n",
       "<style>\n",
       "    .dataframe thead tr:only-child th {\n",
       "        text-align: right;\n",
       "    }\n",
       "\n",
       "    .dataframe thead th {\n",
       "        text-align: left;\n",
       "    }\n",
       "\n",
       "    .dataframe tbody tr th {\n",
       "        vertical-align: top;\n",
       "    }\n",
       "</style>\n",
       "<table border=\"1\" class=\"dataframe\">\n",
       "  <thead>\n",
       "    <tr style=\"text-align: right;\">\n",
       "      <th></th>\n",
       "      <th>MINING_DW_SUBSCR_NO</th>\n",
       "      <th>VOICE_HOUR_MON_TIME</th>\n",
       "      <th>VOICE_HOUR_TUE_TIME</th>\n",
       "      <th>VOICE_HOUR_WED_TIME</th>\n",
       "      <th>VOICE_HOUR_THU_TIME</th>\n",
       "      <th>VOICE_HOUR_FRI_TIME</th>\n",
       "      <th>VOICE_HOUR_SAT_TIME</th>\n",
       "      <th>VOICE_HOUR_SUN_TIME</th>\n",
       "    </tr>\n",
       "  </thead>\n",
       "  <tbody>\n",
       "    <tr>\n",
       "      <th>0</th>\n",
       "      <td>10000000005</td>\n",
       "      <td>865.0</td>\n",
       "      <td>203.0</td>\n",
       "      <td>691.0</td>\n",
       "      <td>140.0</td>\n",
       "      <td>647.0</td>\n",
       "      <td>1401.0</td>\n",
       "      <td>929.0</td>\n",
       "    </tr>\n",
       "    <tr>\n",
       "      <th>1</th>\n",
       "      <td>10000000006</td>\n",
       "      <td>1025.0</td>\n",
       "      <td>1293.0</td>\n",
       "      <td>314.0</td>\n",
       "      <td>1202.0</td>\n",
       "      <td>227.0</td>\n",
       "      <td>298.0</td>\n",
       "      <td>934.0</td>\n",
       "    </tr>\n",
       "    <tr>\n",
       "      <th>2</th>\n",
       "      <td>10000000008</td>\n",
       "      <td>225.0</td>\n",
       "      <td>314.0</td>\n",
       "      <td>0.0</td>\n",
       "      <td>17.0</td>\n",
       "      <td>751.0</td>\n",
       "      <td>22.0</td>\n",
       "      <td>0.0</td>\n",
       "    </tr>\n",
       "    <tr>\n",
       "      <th>3</th>\n",
       "      <td>10000000013</td>\n",
       "      <td>56.0</td>\n",
       "      <td>17.0</td>\n",
       "      <td>0.0</td>\n",
       "      <td>113.0</td>\n",
       "      <td>417.0</td>\n",
       "      <td>29.0</td>\n",
       "      <td>90.0</td>\n",
       "    </tr>\n",
       "    <tr>\n",
       "      <th>4</th>\n",
       "      <td>10000000020</td>\n",
       "      <td>381.0</td>\n",
       "      <td>503.0</td>\n",
       "      <td>1.0</td>\n",
       "      <td>567.0</td>\n",
       "      <td>600.0</td>\n",
       "      <td>387.0</td>\n",
       "      <td>41.0</td>\n",
       "    </tr>\n",
       "  </tbody>\n",
       "</table>\n",
       "</div>"
      ],
      "text/plain": [
       "   MINING_DW_SUBSCR_NO  VOICE_HOUR_MON_TIME  VOICE_HOUR_TUE_TIME  \\\n",
       "0          10000000005                865.0                203.0   \n",
       "1          10000000006               1025.0               1293.0   \n",
       "2          10000000008                225.0                314.0   \n",
       "3          10000000013                 56.0                 17.0   \n",
       "4          10000000020                381.0                503.0   \n",
       "\n",
       "   VOICE_HOUR_WED_TIME  VOICE_HOUR_THU_TIME  VOICE_HOUR_FRI_TIME  \\\n",
       "0                691.0                140.0                647.0   \n",
       "1                314.0               1202.0                227.0   \n",
       "2                  0.0                 17.0                751.0   \n",
       "3                  0.0                113.0                417.0   \n",
       "4                  1.0                567.0                600.0   \n",
       "\n",
       "   VOICE_HOUR_SAT_TIME  VOICE_HOUR_SUN_TIME  \n",
       "0               1401.0                929.0  \n",
       "1                298.0                934.0  \n",
       "2                 22.0                  0.0  \n",
       "3                 29.0                 90.0  \n",
       "4                387.0                 41.0  "
      ]
     },
     "execution_count": 77,
     "metadata": {},
     "output_type": "execute_result"
    }
   ],
   "source": [
    "temp_result.head()"
   ]
  },
  {
   "cell_type": "code",
   "execution_count": 78,
   "metadata": {
    "collapsed": true
   },
   "outputs": [],
   "source": [
    "# sum \n",
    "temp_result[\"temp_sum\"] = 0\n",
    "for i in temp_result.columns[:-1]:\n",
    "    if(i !=  \"MINING_DW_SUBSCR_NO\"):\n",
    "        temp_result[\"temp_sum\"] += temp_result[i]"
   ]
  },
  {
   "cell_type": "code",
   "execution_count": 79,
   "metadata": {
    "collapsed": true
   },
   "outputs": [],
   "source": [
    "# get day normalize\n",
    "for i in temp_result.columns[:-1]:\n",
    "    if(i !=  \"MINING_DW_SUBSCR_NO\"):\n",
    "        result[i] = temp_result[i] / temp_result[\"temp_sum\"]"
   ]
  },
  {
   "cell_type": "markdown",
   "metadata": {},
   "source": [
    "# DNA relative"
   ]
  },
  {
   "cell_type": "code",
   "execution_count": 80,
   "metadata": {
    "collapsed": true
   },
   "outputs": [],
   "source": [
    "# week\n",
    "temp_result = pd.DataFrame() \n",
    "temp_result[\"MINING_DW_SUBSCR_NO\"] = df[\"MINING_DW_SUBSCR_NO\"]\n",
    "time_week = [\"Mon\", \"Tue\", \"Wed\", \"Thu\", \"Fri\", \"Sat\", \"Sun\"]\n",
    "for i in df.columns:\n",
    "    if( \"DNA_\" in i and any(list(map(lambda x: True if x in i else False, time_week)))):\n",
    "        temp_result[i] = df[i]\n"
   ]
  },
  {
   "cell_type": "code",
   "execution_count": 81,
   "metadata": {
    "collapsed": true
   },
   "outputs": [],
   "source": [
    "# sum \n",
    "temp_result[\"temp_sum\"] = 0\n",
    "for i in temp_result.columns[:-1]:\n",
    "    if(i !=  \"MINING_DW_SUBSCR_NO\"):\n",
    "        temp_result[\"temp_sum\"] += temp_result[i]\n",
    "# get hour normalize\n",
    "for i in temp_result.columns[:-1]:\n",
    "    if(i !=  \"MINING_DW_SUBSCR_NO\"):\n",
    "        result[i] = temp_result[i] / temp_result[\"temp_sum\"]"
   ]
  },
  {
   "cell_type": "code",
   "execution_count": 82,
   "metadata": {
    "collapsed": true
   },
   "outputs": [],
   "source": [
    "# 24hr\n",
    "temp_result = pd.DataFrame() \n",
    "temp_result[\"MINING_DW_SUBSCR_NO\"] = df[\"MINING_DW_SUBSCR_NO\"]\n",
    "time_week = [\"Mon\", \"Tue\", \"Wed\", \"Thu\", \"Fri\", \"Sat\", \"Sun\"]\n",
    "for i in df.columns:\n",
    "    if( \"DNA_\" in i and not(any(list(map(lambda x: True if x in i else False, time_week))))):\n",
    "        temp_result[i] = df[i]\n",
    "# sum \n",
    "temp_result[\"temp_sum\"] = 0\n",
    "for i in temp_result.columns[:-1]:\n",
    "    if(i !=  \"MINING_DW_SUBSCR_NO\"):\n",
    "        temp_result[\"temp_sum\"] += temp_result[i]\n",
    "# get hour normalize\n",
    "for i in temp_result.columns[:-1]:\n",
    "    if(i !=  \"MINING_DW_SUBSCR_NO\"):\n",
    "        result[i] = temp_result[i] / temp_result[\"temp_sum\"]"
   ]
  },
  {
   "cell_type": "code",
   "execution_count": 83,
   "metadata": {},
   "outputs": [
    {
     "data": {
      "text/html": [
       "<div>\n",
       "<style>\n",
       "    .dataframe thead tr:only-child th {\n",
       "        text-align: right;\n",
       "    }\n",
       "\n",
       "    .dataframe thead th {\n",
       "        text-align: left;\n",
       "    }\n",
       "\n",
       "    .dataframe tbody tr th {\n",
       "        vertical-align: top;\n",
       "    }\n",
       "</style>\n",
       "<table border=\"1\" class=\"dataframe\">\n",
       "  <thead>\n",
       "    <tr style=\"text-align: right;\">\n",
       "      <th></th>\n",
       "      <th>MINING_DW_SUBSCR_NO</th>\n",
       "      <th>VOICE_HOUR_0_TIME</th>\n",
       "      <th>VOICE_HOUR_1_TIME</th>\n",
       "      <th>VOICE_HOUR_2_TIME</th>\n",
       "      <th>VOICE_HOUR_3_TIME</th>\n",
       "      <th>VOICE_HOUR_4_TIME</th>\n",
       "      <th>VOICE_HOUR_5_TIME</th>\n",
       "      <th>VOICE_HOUR_6_TIME</th>\n",
       "      <th>VOICE_HOUR_7_TIME</th>\n",
       "      <th>VOICE_HOUR_8_TIME</th>\n",
       "      <th>...</th>\n",
       "      <th>DNA_HOUR_14_CNT</th>\n",
       "      <th>DNA_HOUR_15_CNT</th>\n",
       "      <th>DNA_HOUR_16_CNT</th>\n",
       "      <th>DNA_HOUR_17_CNT</th>\n",
       "      <th>DNA_HOUR_18_CNT</th>\n",
       "      <th>DNA_HOUR_19_CNT</th>\n",
       "      <th>DNA_HOUR_20_CNT</th>\n",
       "      <th>DNA_HOUR_21_CNT</th>\n",
       "      <th>DNA_HOUR_22_CNT</th>\n",
       "      <th>DNA_HOUR_23_CNT</th>\n",
       "    </tr>\n",
       "  </thead>\n",
       "  <tbody>\n",
       "    <tr>\n",
       "      <th>0</th>\n",
       "      <td>10000000005</td>\n",
       "      <td>0.0</td>\n",
       "      <td>0.0</td>\n",
       "      <td>0.0</td>\n",
       "      <td>0.0</td>\n",
       "      <td>0.0</td>\n",
       "      <td>0.0</td>\n",
       "      <td>0.032405</td>\n",
       "      <td>0.015794</td>\n",
       "      <td>0.006153</td>\n",
       "      <td>...</td>\n",
       "      <td>NaN</td>\n",
       "      <td>NaN</td>\n",
       "      <td>NaN</td>\n",
       "      <td>NaN</td>\n",
       "      <td>NaN</td>\n",
       "      <td>NaN</td>\n",
       "      <td>NaN</td>\n",
       "      <td>NaN</td>\n",
       "      <td>NaN</td>\n",
       "      <td>NaN</td>\n",
       "    </tr>\n",
       "    <tr>\n",
       "      <th>1</th>\n",
       "      <td>10000000006</td>\n",
       "      <td>0.0</td>\n",
       "      <td>0.0</td>\n",
       "      <td>0.0</td>\n",
       "      <td>0.0</td>\n",
       "      <td>0.0</td>\n",
       "      <td>0.0</td>\n",
       "      <td>0.000000</td>\n",
       "      <td>0.000000</td>\n",
       "      <td>0.000000</td>\n",
       "      <td>...</td>\n",
       "      <td>NaN</td>\n",
       "      <td>NaN</td>\n",
       "      <td>NaN</td>\n",
       "      <td>NaN</td>\n",
       "      <td>NaN</td>\n",
       "      <td>NaN</td>\n",
       "      <td>NaN</td>\n",
       "      <td>NaN</td>\n",
       "      <td>NaN</td>\n",
       "      <td>NaN</td>\n",
       "    </tr>\n",
       "    <tr>\n",
       "      <th>2</th>\n",
       "      <td>10000000008</td>\n",
       "      <td>0.0</td>\n",
       "      <td>0.0</td>\n",
       "      <td>0.0</td>\n",
       "      <td>0.0</td>\n",
       "      <td>0.0</td>\n",
       "      <td>0.0</td>\n",
       "      <td>0.000000</td>\n",
       "      <td>0.000000</td>\n",
       "      <td>0.472528</td>\n",
       "      <td>...</td>\n",
       "      <td>0.043602</td>\n",
       "      <td>0.058308</td>\n",
       "      <td>0.047730</td>\n",
       "      <td>0.059856</td>\n",
       "      <td>0.054180</td>\n",
       "      <td>0.040506</td>\n",
       "      <td>0.049278</td>\n",
       "      <td>0.047472</td>\n",
       "      <td>0.033540</td>\n",
       "      <td>0.037410</td>\n",
       "    </tr>\n",
       "    <tr>\n",
       "      <th>3</th>\n",
       "      <td>10000000013</td>\n",
       "      <td>0.0</td>\n",
       "      <td>0.0</td>\n",
       "      <td>0.0</td>\n",
       "      <td>0.0</td>\n",
       "      <td>0.0</td>\n",
       "      <td>0.0</td>\n",
       "      <td>0.027713</td>\n",
       "      <td>0.031868</td>\n",
       "      <td>0.000000</td>\n",
       "      <td>...</td>\n",
       "      <td>0.016345</td>\n",
       "      <td>0.016982</td>\n",
       "      <td>0.018467</td>\n",
       "      <td>0.018467</td>\n",
       "      <td>0.031840</td>\n",
       "      <td>0.048185</td>\n",
       "      <td>0.305668</td>\n",
       "      <td>0.139673</td>\n",
       "      <td>0.023986</td>\n",
       "      <td>0.042029</td>\n",
       "    </tr>\n",
       "    <tr>\n",
       "      <th>4</th>\n",
       "      <td>10000000020</td>\n",
       "      <td>0.0</td>\n",
       "      <td>0.0</td>\n",
       "      <td>0.0</td>\n",
       "      <td>0.0</td>\n",
       "      <td>0.0</td>\n",
       "      <td>0.0</td>\n",
       "      <td>0.000000</td>\n",
       "      <td>0.000000</td>\n",
       "      <td>0.000000</td>\n",
       "      <td>...</td>\n",
       "      <td>0.066007</td>\n",
       "      <td>0.091309</td>\n",
       "      <td>0.037404</td>\n",
       "      <td>0.124312</td>\n",
       "      <td>0.141914</td>\n",
       "      <td>0.009901</td>\n",
       "      <td>0.068207</td>\n",
       "      <td>0.052805</td>\n",
       "      <td>0.014301</td>\n",
       "      <td>0.007701</td>\n",
       "    </tr>\n",
       "  </tbody>\n",
       "</table>\n",
       "<p>5 rows × 63 columns</p>\n",
       "</div>"
      ],
      "text/plain": [
       "   MINING_DW_SUBSCR_NO  VOICE_HOUR_0_TIME  VOICE_HOUR_1_TIME  \\\n",
       "0          10000000005                0.0                0.0   \n",
       "1          10000000006                0.0                0.0   \n",
       "2          10000000008                0.0                0.0   \n",
       "3          10000000013                0.0                0.0   \n",
       "4          10000000020                0.0                0.0   \n",
       "\n",
       "   VOICE_HOUR_2_TIME  VOICE_HOUR_3_TIME  VOICE_HOUR_4_TIME  VOICE_HOUR_5_TIME  \\\n",
       "0                0.0                0.0                0.0                0.0   \n",
       "1                0.0                0.0                0.0                0.0   \n",
       "2                0.0                0.0                0.0                0.0   \n",
       "3                0.0                0.0                0.0                0.0   \n",
       "4                0.0                0.0                0.0                0.0   \n",
       "\n",
       "   VOICE_HOUR_6_TIME  VOICE_HOUR_7_TIME  VOICE_HOUR_8_TIME       ...         \\\n",
       "0           0.032405           0.015794           0.006153       ...          \n",
       "1           0.000000           0.000000           0.000000       ...          \n",
       "2           0.000000           0.000000           0.472528       ...          \n",
       "3           0.027713           0.031868           0.000000       ...          \n",
       "4           0.000000           0.000000           0.000000       ...          \n",
       "\n",
       "   DNA_HOUR_14_CNT  DNA_HOUR_15_CNT  DNA_HOUR_16_CNT  DNA_HOUR_17_CNT  \\\n",
       "0              NaN              NaN              NaN              NaN   \n",
       "1              NaN              NaN              NaN              NaN   \n",
       "2         0.043602         0.058308         0.047730         0.059856   \n",
       "3         0.016345         0.016982         0.018467         0.018467   \n",
       "4         0.066007         0.091309         0.037404         0.124312   \n",
       "\n",
       "   DNA_HOUR_18_CNT  DNA_HOUR_19_CNT  DNA_HOUR_20_CNT  DNA_HOUR_21_CNT  \\\n",
       "0              NaN              NaN              NaN              NaN   \n",
       "1              NaN              NaN              NaN              NaN   \n",
       "2         0.054180         0.040506         0.049278         0.047472   \n",
       "3         0.031840         0.048185         0.305668         0.139673   \n",
       "4         0.141914         0.009901         0.068207         0.052805   \n",
       "\n",
       "   DNA_HOUR_22_CNT  DNA_HOUR_23_CNT  \n",
       "0              NaN              NaN  \n",
       "1              NaN              NaN  \n",
       "2         0.033540         0.037410  \n",
       "3         0.023986         0.042029  \n",
       "4         0.014301         0.007701  \n",
       "\n",
       "[5 rows x 63 columns]"
      ]
     },
     "execution_count": 83,
     "metadata": {},
     "output_type": "execute_result"
    }
   ],
   "source": [
    "result.head()"
   ]
  },
  {
   "cell_type": "code",
   "execution_count": 85,
   "metadata": {},
   "outputs": [
    {
     "data": {
      "text/plain": [
       "['MINING_DW_SUBSCR_NO',\n",
       " 'VOICE_HOUR_0_TIME',\n",
       " 'VOICE_HOUR_1_TIME',\n",
       " 'VOICE_HOUR_2_TIME',\n",
       " 'VOICE_HOUR_3_TIME',\n",
       " 'VOICE_HOUR_4_TIME',\n",
       " 'VOICE_HOUR_5_TIME',\n",
       " 'VOICE_HOUR_6_TIME',\n",
       " 'VOICE_HOUR_7_TIME',\n",
       " 'VOICE_HOUR_8_TIME',\n",
       " 'VOICE_HOUR_9_TIME',\n",
       " 'VOICE_HOUR_10_TIME',\n",
       " 'VOICE_HOUR_11_TIME',\n",
       " 'VOICE_HOUR_12_TIME',\n",
       " 'VOICE_HOUR_13_TIME',\n",
       " 'VOICE_HOUR_14_TIME',\n",
       " 'VOICE_HOUR_15_TIME',\n",
       " 'VOICE_HOUR_16_TIME',\n",
       " 'VOICE_HOUR_17_TIME',\n",
       " 'VOICE_HOUR_18_TIME',\n",
       " 'VOICE_HOUR_19_TIME',\n",
       " 'VOICE_HOUR_20_TIME',\n",
       " 'VOICE_HOUR_21_TIME',\n",
       " 'VOICE_HOUR_22_TIME',\n",
       " 'VOICE_HOUR_23_TIME',\n",
       " 'VOICE_HOUR_MON_TIME',\n",
       " 'VOICE_HOUR_TUE_TIME',\n",
       " 'VOICE_HOUR_WED_TIME',\n",
       " 'VOICE_HOUR_THU_TIME',\n",
       " 'VOICE_HOUR_FRI_TIME',\n",
       " 'VOICE_HOUR_SAT_TIME',\n",
       " 'VOICE_HOUR_SUN_TIME',\n",
       " 'DNA_Monday',\n",
       " 'DNA_Tuesday',\n",
       " 'DNA_Wednesday',\n",
       " 'DNA_Thursday',\n",
       " 'DNA_Friday',\n",
       " 'DNA_Saturday',\n",
       " 'DNA_Sunday',\n",
       " 'DNA_HOUR_0_CNT',\n",
       " 'DNA_HOUR_1_CNT',\n",
       " 'DNA_HOUR_2_CNT',\n",
       " 'DNA_HOUR_3_CNT',\n",
       " 'DNA_HOUR_4_CNT',\n",
       " 'DNA_HOUR_5_CNT',\n",
       " 'DNA_HOUR_6_CNT',\n",
       " 'DNA_HOUR_7_CNT',\n",
       " 'DNA_HOUR_8_CNT',\n",
       " 'DNA_HOUR_9_CNT',\n",
       " 'DNA_HOUR_10_CNT',\n",
       " 'DNA_HOUR_11_CNT',\n",
       " 'DNA_HOUR_12_CNT',\n",
       " 'DNA_HOUR_13_CNT',\n",
       " 'DNA_HOUR_14_CNT',\n",
       " 'DNA_HOUR_15_CNT',\n",
       " 'DNA_HOUR_16_CNT',\n",
       " 'DNA_HOUR_17_CNT',\n",
       " 'DNA_HOUR_18_CNT',\n",
       " 'DNA_HOUR_19_CNT',\n",
       " 'DNA_HOUR_20_CNT',\n",
       " 'DNA_HOUR_21_CNT',\n",
       " 'DNA_HOUR_22_CNT',\n",
       " 'DNA_HOUR_23_CNT']"
      ]
     },
     "execution_count": 85,
     "metadata": {},
     "output_type": "execute_result"
    }
   ],
   "source": [
    "list(result)"
   ]
  },
  {
   "cell_type": "markdown",
   "metadata": {},
   "source": [
    "# merge and filter"
   ]
  },
  {
   "cell_type": "code",
   "execution_count": 86,
   "metadata": {},
   "outputs": [
    {
     "data": {
      "text/plain": [
       "731317"
      ]
     },
     "execution_count": 86,
     "metadata": {},
     "output_type": "execute_result"
    }
   ],
   "source": [
    "filter_df = temp_result[ temp_result[\"temp_sum\"] < 1]\n",
    "len(filter_df)"
   ]
  },
  {
   "cell_type": "code",
   "execution_count": 94,
   "metadata": {},
   "outputs": [
    {
     "data": {
      "text/html": [
       "<div>\n",
       "<style>\n",
       "    .dataframe thead tr:only-child th {\n",
       "        text-align: right;\n",
       "    }\n",
       "\n",
       "    .dataframe thead th {\n",
       "        text-align: left;\n",
       "    }\n",
       "\n",
       "    .dataframe tbody tr th {\n",
       "        vertical-align: top;\n",
       "    }\n",
       "</style>\n",
       "<table border=\"1\" class=\"dataframe\">\n",
       "  <thead>\n",
       "    <tr style=\"text-align: right;\">\n",
       "      <th></th>\n",
       "      <th>MINING_DW_SUBSCR_NO</th>\n",
       "      <th>DNA_HOUR_0_CNT</th>\n",
       "      <th>DNA_HOUR_1_CNT</th>\n",
       "      <th>DNA_HOUR_2_CNT</th>\n",
       "      <th>DNA_HOUR_3_CNT</th>\n",
       "      <th>DNA_HOUR_4_CNT</th>\n",
       "      <th>DNA_HOUR_5_CNT</th>\n",
       "      <th>DNA_HOUR_6_CNT</th>\n",
       "      <th>DNA_HOUR_7_CNT</th>\n",
       "      <th>DNA_HOUR_8_CNT</th>\n",
       "      <th>...</th>\n",
       "      <th>DNA_HOUR_15_CNT</th>\n",
       "      <th>DNA_HOUR_16_CNT</th>\n",
       "      <th>DNA_HOUR_17_CNT</th>\n",
       "      <th>DNA_HOUR_18_CNT</th>\n",
       "      <th>DNA_HOUR_19_CNT</th>\n",
       "      <th>DNA_HOUR_20_CNT</th>\n",
       "      <th>DNA_HOUR_21_CNT</th>\n",
       "      <th>DNA_HOUR_22_CNT</th>\n",
       "      <th>DNA_HOUR_23_CNT</th>\n",
       "      <th>temp_sum</th>\n",
       "    </tr>\n",
       "  </thead>\n",
       "  <tbody>\n",
       "    <tr>\n",
       "      <th>0</th>\n",
       "      <td>10000000005</td>\n",
       "      <td>0.0</td>\n",
       "      <td>0.0</td>\n",
       "      <td>0.0</td>\n",
       "      <td>0.0</td>\n",
       "      <td>0.0</td>\n",
       "      <td>0.0</td>\n",
       "      <td>0.0</td>\n",
       "      <td>0.0</td>\n",
       "      <td>0.0</td>\n",
       "      <td>...</td>\n",
       "      <td>0.0</td>\n",
       "      <td>0.0</td>\n",
       "      <td>0.0</td>\n",
       "      <td>0.0</td>\n",
       "      <td>0.0</td>\n",
       "      <td>0.0</td>\n",
       "      <td>0.0</td>\n",
       "      <td>0.0</td>\n",
       "      <td>0.0</td>\n",
       "      <td>0.0</td>\n",
       "    </tr>\n",
       "    <tr>\n",
       "      <th>1</th>\n",
       "      <td>10000000006</td>\n",
       "      <td>0.0</td>\n",
       "      <td>0.0</td>\n",
       "      <td>0.0</td>\n",
       "      <td>0.0</td>\n",
       "      <td>0.0</td>\n",
       "      <td>0.0</td>\n",
       "      <td>0.0</td>\n",
       "      <td>0.0</td>\n",
       "      <td>0.0</td>\n",
       "      <td>...</td>\n",
       "      <td>0.0</td>\n",
       "      <td>0.0</td>\n",
       "      <td>0.0</td>\n",
       "      <td>0.0</td>\n",
       "      <td>0.0</td>\n",
       "      <td>0.0</td>\n",
       "      <td>0.0</td>\n",
       "      <td>0.0</td>\n",
       "      <td>0.0</td>\n",
       "      <td>0.0</td>\n",
       "    </tr>\n",
       "    <tr>\n",
       "      <th>10</th>\n",
       "      <td>10000000045</td>\n",
       "      <td>0.0</td>\n",
       "      <td>0.0</td>\n",
       "      <td>0.0</td>\n",
       "      <td>0.0</td>\n",
       "      <td>0.0</td>\n",
       "      <td>0.0</td>\n",
       "      <td>0.0</td>\n",
       "      <td>0.0</td>\n",
       "      <td>0.0</td>\n",
       "      <td>...</td>\n",
       "      <td>0.0</td>\n",
       "      <td>0.0</td>\n",
       "      <td>0.0</td>\n",
       "      <td>0.0</td>\n",
       "      <td>0.0</td>\n",
       "      <td>0.0</td>\n",
       "      <td>0.0</td>\n",
       "      <td>0.0</td>\n",
       "      <td>0.0</td>\n",
       "      <td>0.0</td>\n",
       "    </tr>\n",
       "    <tr>\n",
       "      <th>15</th>\n",
       "      <td>10000000054</td>\n",
       "      <td>0.0</td>\n",
       "      <td>0.0</td>\n",
       "      <td>0.0</td>\n",
       "      <td>0.0</td>\n",
       "      <td>0.0</td>\n",
       "      <td>0.0</td>\n",
       "      <td>0.0</td>\n",
       "      <td>0.0</td>\n",
       "      <td>0.0</td>\n",
       "      <td>...</td>\n",
       "      <td>0.0</td>\n",
       "      <td>0.0</td>\n",
       "      <td>0.0</td>\n",
       "      <td>0.0</td>\n",
       "      <td>0.0</td>\n",
       "      <td>0.0</td>\n",
       "      <td>0.0</td>\n",
       "      <td>0.0</td>\n",
       "      <td>0.0</td>\n",
       "      <td>0.0</td>\n",
       "    </tr>\n",
       "    <tr>\n",
       "      <th>25</th>\n",
       "      <td>10000000068</td>\n",
       "      <td>0.0</td>\n",
       "      <td>0.0</td>\n",
       "      <td>0.0</td>\n",
       "      <td>0.0</td>\n",
       "      <td>0.0</td>\n",
       "      <td>0.0</td>\n",
       "      <td>0.0</td>\n",
       "      <td>0.0</td>\n",
       "      <td>0.0</td>\n",
       "      <td>...</td>\n",
       "      <td>0.0</td>\n",
       "      <td>0.0</td>\n",
       "      <td>0.0</td>\n",
       "      <td>0.0</td>\n",
       "      <td>0.0</td>\n",
       "      <td>0.0</td>\n",
       "      <td>0.0</td>\n",
       "      <td>0.0</td>\n",
       "      <td>0.0</td>\n",
       "      <td>0.0</td>\n",
       "    </tr>\n",
       "  </tbody>\n",
       "</table>\n",
       "<p>5 rows × 26 columns</p>\n",
       "</div>"
      ],
      "text/plain": [
       "    MINING_DW_SUBSCR_NO  DNA_HOUR_0_CNT  DNA_HOUR_1_CNT  DNA_HOUR_2_CNT  \\\n",
       "0           10000000005             0.0             0.0             0.0   \n",
       "1           10000000006             0.0             0.0             0.0   \n",
       "10          10000000045             0.0             0.0             0.0   \n",
       "15          10000000054             0.0             0.0             0.0   \n",
       "25          10000000068             0.0             0.0             0.0   \n",
       "\n",
       "    DNA_HOUR_3_CNT  DNA_HOUR_4_CNT  DNA_HOUR_5_CNT  DNA_HOUR_6_CNT  \\\n",
       "0              0.0             0.0             0.0             0.0   \n",
       "1              0.0             0.0             0.0             0.0   \n",
       "10             0.0             0.0             0.0             0.0   \n",
       "15             0.0             0.0             0.0             0.0   \n",
       "25             0.0             0.0             0.0             0.0   \n",
       "\n",
       "    DNA_HOUR_7_CNT  DNA_HOUR_8_CNT    ...     DNA_HOUR_15_CNT  \\\n",
       "0              0.0             0.0    ...                 0.0   \n",
       "1              0.0             0.0    ...                 0.0   \n",
       "10             0.0             0.0    ...                 0.0   \n",
       "15             0.0             0.0    ...                 0.0   \n",
       "25             0.0             0.0    ...                 0.0   \n",
       "\n",
       "    DNA_HOUR_16_CNT  DNA_HOUR_17_CNT  DNA_HOUR_18_CNT  DNA_HOUR_19_CNT  \\\n",
       "0               0.0              0.0              0.0              0.0   \n",
       "1               0.0              0.0              0.0              0.0   \n",
       "10              0.0              0.0              0.0              0.0   \n",
       "15              0.0              0.0              0.0              0.0   \n",
       "25              0.0              0.0              0.0              0.0   \n",
       "\n",
       "    DNA_HOUR_20_CNT  DNA_HOUR_21_CNT  DNA_HOUR_22_CNT  DNA_HOUR_23_CNT  \\\n",
       "0               0.0              0.0              0.0              0.0   \n",
       "1               0.0              0.0              0.0              0.0   \n",
       "10              0.0              0.0              0.0              0.0   \n",
       "15              0.0              0.0              0.0              0.0   \n",
       "25              0.0              0.0              0.0              0.0   \n",
       "\n",
       "    temp_sum  \n",
       "0        0.0  \n",
       "1        0.0  \n",
       "10       0.0  \n",
       "15       0.0  \n",
       "25       0.0  \n",
       "\n",
       "[5 rows x 26 columns]"
      ]
     },
     "execution_count": 94,
     "metadata": {},
     "output_type": "execute_result"
    }
   ],
   "source": [
    "filter_df.head()"
   ]
  },
  {
   "cell_type": "code",
   "execution_count": 95,
   "metadata": {},
   "outputs": [],
   "source": [
    "for index, row in result.iterrows():\n",
    "    r_id = row[\"MINING_DW_SUBSCR_NO\"]\n",
    "    if(r_id in filter_df[\"MINING_DW_SUBSCR_NO\"]):\n",
    "        for i in result.columns:\n",
    "            if(\"DNA_\" in i):\n",
    "                result.set_value(index, i, 0)\n",
    "                #row[i] = 0\n",
    "                #result.loc[result.index[r_id]] = row\n",
    "                #result.loc[r_id][i] = 0\n",
    "                #result.iloc[index:index+1, result.columns.get_loc(i)] = 0\n"
   ]
  },
  {
   "cell_type": "code",
   "execution_count": 96,
   "metadata": {},
   "outputs": [],
   "source": [
    "result = result.fillna(0)"
   ]
  },
  {
   "cell_type": "markdown",
   "metadata": {},
   "source": [
    "# save unnormalize data"
   ]
  },
  {
   "cell_type": "code",
   "execution_count": 102,
   "metadata": {},
   "outputs": [],
   "source": [
    "path = \"./\"\n",
    "filename = \"DNA_KMEANS_RESULT_ID_NEW.csv\"\n",
    "# TAG K MEAN RESULT\n",
    "KMEANS_RESULT_ID_FILE = path + filename\n",
    "result = process_csv_kmean_result(KMEANS_RESULT_ID_FILE, result)\n"
   ]
  },
  {
   "cell_type": "code",
   "execution_count": 103,
   "metadata": {
    "collapsed": true
   },
   "outputs": [],
   "source": [
    "result = result.fillna(0)"
   ]
  },
  {
   "cell_type": "code",
   "execution_count": 104,
   "metadata": {},
   "outputs": [
    {
     "data": {
      "text/plain": [
       "2596797"
      ]
     },
     "execution_count": 104,
     "metadata": {},
     "output_type": "execute_result"
    }
   ],
   "source": [
    "len(result)"
   ]
  },
  {
   "cell_type": "code",
   "execution_count": 105,
   "metadata": {},
   "outputs": [
    {
     "data": {
      "text/plain": [
       "407597"
      ]
     },
     "execution_count": 105,
     "metadata": {},
     "output_type": "execute_result"
    }
   ],
   "source": [
    "len(result[result[\"Groups\"] == '1'])"
   ]
  },
  {
   "cell_type": "code",
   "execution_count": 106,
   "metadata": {},
   "outputs": [],
   "source": [
    "path = \"./kmean_label/\"\n",
    "filename = \"label_K8__all_max_min_0625_voice\"\n",
    "FILE = path + filename + \".npy\"\n",
    "labels_ = np.load(FILE)\n",
    "result['label'] = labels_\n",
    "# TAG K MEAN RESULT\n",
    "for index, row in result.iterrows():\n",
    "#     r_id = row[\"MINING_DW_SUBSCR_NO\"]\n",
    "    if(row[\"label\"] == 0):\n",
    "        for i in result.columns[1:]:\n",
    "            if(not \"DNA_\" in i):\n",
    "                result.set_value(index, i, 0)\n"
   ]
  },
  {
   "cell_type": "code",
   "execution_count": 107,
   "metadata": {},
   "outputs": [
    {
     "name": "stdout",
     "output_type": "stream",
     "text": [
      "time for output csv file: 117.40\n"
     ]
    }
   ],
   "source": [
    "result = result.drop(\"label\", 1)\n",
    "save_dataframe(result, out_path +  \"non_normalize_48_cols\")"
   ]
  },
  {
   "cell_type": "code",
   "execution_count": null,
   "metadata": {
    "collapsed": true
   },
   "outputs": [],
   "source": []
  },
  {
   "cell_type": "markdown",
   "metadata": {},
   "source": [
    "# normalize"
   ]
  },
  {
   "cell_type": "code",
   "execution_count": 108,
   "metadata": {
    "collapsed": true
   },
   "outputs": [],
   "source": [
    "normalize_result = pd.DataFrame() \n",
    "normalize_result[\"MINING_DW_SUBSCR_NO\"] = df[\"MINING_DW_SUBSCR_NO\"]"
   ]
  },
  {
   "cell_type": "markdown",
   "metadata": {},
   "source": [
    "# VOICE_workday/holiday_time_avg = MO TIME + MT TIME"
   ]
  },
  {
   "cell_type": "code",
   "execution_count": 109,
   "metadata": {
    "scrolled": false
   },
   "outputs": [],
   "source": [
    "week_dict = {\n",
    "    \"VOICE_workday_time\" : [\"VOICE_HOUR_MON_TIME\", \"VOICE_HOUR_TUE_TIME\", \"VOICE_HOUR_WED_TIME\", \"VOICE_HOUR_THU_TIME\", \"VOICE_HOUR_FRI_TIME\"],\n",
    "    \"VOICE_holiday_time\" : [\"VOICE_HOUR_SAT_TIME\", \"VOICE_HOUR_SUN_TIME\"]\n",
    "            }\n",
    "\n",
    "for key, col_list in week_dict.items():\n",
    "    normalize_result[key] = 0\n",
    "    for col in col_list:\n",
    "        normalize_result[key] += result[col]\n",
    "    normalize_result[key] /= len(col_list)\n",
    "week_dict = {\n",
    "    \"DNA_workday_cnt\" : [\"DNA_Monday\", \"DNA_Tuesday\", \"DNA_Wednesday\", \"DNA_Thursday\", \"DNA_Friday\"],\n",
    "    \"DNA_holiday_cnt\" : [\"DNA_Saturday\", \"DNA_Sunday\"]\n",
    "            }  \n",
    "for key, col_list in week_dict.items():\n",
    "    normalize_result[key] = 0\n",
    "    for col in col_list:\n",
    "        normalize_result[key] += result[col]\n",
    "    normalize_result[key] /= len(col_list)"
   ]
  },
  {
   "cell_type": "markdown",
   "metadata": {},
   "source": [
    "# SEGMETS HOUR TIME = PICK HOURS' TIME / HOURS' COUNT"
   ]
  },
  {
   "cell_type": "code",
   "execution_count": 110,
   "metadata": {},
   "outputs": [
    {
     "name": "stdout",
     "output_type": "stream",
     "text": [
      "hour(7~11)_time\n",
      "VOICE_ HOUR_7_TIME\n",
      "VOICE_ HOUR_8_TIME\n",
      "VOICE_ HOUR_9_TIME\n",
      "VOICE_ HOUR_10_TIME\n",
      "VOICE_ HOUR_11_TIME\n",
      "hour(12~13)_time\n",
      "VOICE_ HOUR_12_TIME\n",
      "VOICE_ HOUR_13_TIME\n",
      "hour(14~19)_time\n",
      "VOICE_ HOUR_14_TIME\n",
      "VOICE_ HOUR_15_TIME\n",
      "VOICE_ HOUR_16_TIME\n",
      "VOICE_ HOUR_17_TIME\n",
      "VOICE_ HOUR_18_TIME\n",
      "VOICE_ HOUR_19_TIME\n",
      "hour(20~3)_time\n",
      "VOICE_ HOUR_20_TIME\n",
      "VOICE_ HOUR_21_TIME\n",
      "VOICE_ HOUR_22_TIME\n",
      "VOICE_ HOUR_23_TIME\n",
      "VOICE_ HOUR_0_TIME\n",
      "VOICE_ HOUR_1_TIME\n",
      "VOICE_ HOUR_2_TIME\n",
      "VOICE_ HOUR_3_TIME\n",
      "hour(4~6)_time\n",
      "VOICE_ HOUR_4_TIME\n",
      "VOICE_ HOUR_5_TIME\n",
      "VOICE_ HOUR_6_TIME\n",
      "DNA_hour(7~11)_CNT\n",
      "DNA_7_CNT\n",
      "DNA_8_CNT\n",
      "DNA_9_CNT\n",
      "DNA_10_CNT\n",
      "DNA_11_CNT\n",
      "DNA_hour(12~13)_CNT\n",
      "DNA_12_CNT\n",
      "DNA_13_CNT\n",
      "DNA_hour(14~19)_CNT\n",
      "DNA_14_CNT\n",
      "DNA_15_CNT\n",
      "DNA_16_CNT\n",
      "DNA_17_CNT\n",
      "DNA_18_CNT\n",
      "DNA_19_CNT\n",
      "DNA_hour(20~3)_CNT\n",
      "DNA_20_CNT\n",
      "DNA_21_CNT\n",
      "DNA_22_CNT\n",
      "DNA_23_CNT\n",
      "DNA_0_CNT\n",
      "DNA_1_CNT\n",
      "DNA_2_CNT\n",
      "DNA_3_CNT\n",
      "DNA_hour(4~6)_CNT\n",
      "DNA_4_CNT\n",
      "DNA_5_CNT\n",
      "DNA_6_CNT\n"
     ]
    }
   ],
   "source": [
    "range_dict = {\"hour(7~11)\" : range(7,11+1), \"hour(12~13)\" : range(12,13+1), \"hour(14~19)\" : range(14,19+1), \"hour(20~3)\" : [20, 21, 22, 23, 0, 1, 2, 3], \"hour(4~6)\" : range(4,6 + 1)}\n",
    "for key, time_list in range_dict.items():\n",
    "    col_name = key +  \"_time\"\n",
    "    print(col_name)\n",
    "    normalize_result[col_name] = 0\n",
    "    for i in time_list:\n",
    "        print(\"VOICE_ \" + \"HOUR_\" + str(i) + \"_TIME\")\n",
    "        normalize_result[col_name] += result[\"VOICE_HOUR_\" + str(i) + \"_TIME\"]\n",
    "    normalize_result[col_name] = normalize_result[col_name] / len(time_list)\n",
    "for key, time_list in range_dict.items():\n",
    "    col_name = \"DNA_\" + key +  \"_CNT\"\n",
    "    print(col_name)\n",
    "    normalize_result[col_name] = 0\n",
    "    for i in time_list:\n",
    "        print(\"DNA_\" + str(i) + \"_CNT\")\n",
    "    \n",
    "        normalize_result[col_name] += result[\"DNA_HOUR_\" + str(i) + \"_CNT\"]\n",
    "    normalize_result[col_name] = normalize_result[col_name] / len(time_list)\n"
   ]
  },
  {
   "cell_type": "code",
   "execution_count": 111,
   "metadata": {
    "collapsed": true
   },
   "outputs": [],
   "source": [
    "# telegram_list = [\"FET\", \"TWM\", \"CHM\", \"APT\", \"TSC\", \"PSTN\"]\n",
    "\n",
    "# for telegram in telegram_list:\n",
    "#     result[telegram + \"_time\"] = df[\"MOC_\" + telegram + \"_DUR\"] + df[\"MTC_\" + telegram + \"_DUR\"]\n",
    "#     result[telegram + \"_cnt\"] = df[\"MOC_\" + telegram + \"_CNT\"] + df[\"MTC_\" + telegram + \"_CNT\"]\n",
    "\n",
    "    "
   ]
  },
  {
   "cell_type": "code",
   "execution_count": 112,
   "metadata": {
    "collapsed": true
   },
   "outputs": [],
   "source": [
    "# mo_mt_list = [\"MOC\", \"MTC\"]\n",
    "# for i in mo_mt_list:\n",
    "#     df[i+ \"_CNT\"] = df[i+ \"_CNT\"].apply(lambda x: x if x > 0 else 1)    \n",
    "#     result[i + \"_time_avg\"] =  df[i + \"_DUR\"] /  df[i+ \"_CNT\"]\n",
    "# result[\"MO/MT_CNT\"] = df[\"MOC_CNT\"] / df[\"MTC_CNT\"]"
   ]
  },
  {
   "cell_type": "code",
   "execution_count": 113,
   "metadata": {},
   "outputs": [],
   "source": [
    "path = \"./kmean_label/\"\n",
    "filename = \"label_K8__all_max_min_0625_voice\"\n",
    "FILE = path + filename + \".npy\"\n",
    "labels_ = np.load(FILE)\n",
    "normalize_result['label'] = labels_\n",
    "normalize_result = normalize_result.fillna(0)\n",
    "# TAG K MEAN RESULT\n",
    "path = \"./\"\n",
    "filename = \"DNA_KMEANS_RESULT_ID_NEW.csv\"\n",
    "# TAG K MEAN RESULT\n",
    "KMEANS_RESULT_ID_FILE = path + filename\n",
    "normalize_result = process_csv_kmean_result(KMEANS_RESULT_ID_FILE, normalize_result)\n"
   ]
  },
  {
   "cell_type": "code",
   "execution_count": 119,
   "metadata": {},
   "outputs": [
    {
     "data": {
      "text/plain": [
       "69527"
      ]
     },
     "execution_count": 119,
     "metadata": {},
     "output_type": "execute_result"
    }
   ],
   "source": [
    "len(normalize_result[normalize_result[\"Groups\"] == '1'])"
   ]
  },
  {
   "cell_type": "code",
   "execution_count": 115,
   "metadata": {},
   "outputs": [],
   "source": [
    "for index, row in normalize_result.iterrows():\n",
    "#     r_id = row[\"MINING_DW_SUBSCR_NO\"]\n",
    "    if(row[\"label\"] == 0):\n",
    "        for i in normalize_result.columns[1:]:\n",
    "            if(not \"DNA_\" in i):\n",
    "                normalize_result.set_value(index, i, 0)"
   ]
  },
  {
   "cell_type": "code",
   "execution_count": 116,
   "metadata": {},
   "outputs": [
    {
     "name": "stdout",
     "output_type": "stream",
     "text": [
      "time for output csv file: 29.59\n"
     ]
    }
   ],
   "source": [
    "normalize_result = normalize_result.drop(\"label\", 1)\n",
    "save_dataframe(normalize_result, out_path +  \"table_with_kid_all\")"
   ]
  },
  {
   "cell_type": "code",
   "execution_count": 117,
   "metadata": {
    "collapsed": true
   },
   "outputs": [],
   "source": [
    "split_list = [\"1\", \"2\", \"3\", \"4\", \"5\", \"6\", \"7\", \"8\", \"seldom\", \"None\" ]\n"
   ]
  },
  {
   "cell_type": "code",
   "execution_count": 118,
   "metadata": {},
   "outputs": [
    {
     "name": "stdout",
     "output_type": "stream",
     "text": [
      "time for output csv file: 1.29\n",
      "time for output csv file: 0.57\n",
      "time for output csv file: 0.35\n",
      "time for output csv file: 0.37\n",
      "time for output csv file: 0.31\n",
      "time for output csv file: 0.47\n",
      "time for output csv file: 0.52\n",
      "time for output csv file: 1.56\n",
      "time for output csv file: 0.93\n",
      "time for output csv file: 1.13\n"
     ]
    }
   ],
   "source": [
    "for kid in split_list:\n",
    "    temp_df = normalize_result[normalize_result[\"Groups\"] == kid]\n",
    "    temp_df = temp_df.drop(\"Groups\", 1)\n",
    "    \n",
    "    save_dataframe(temp_df, out_path + \"table_with_kid_\" + kid)"
   ]
  },
  {
   "cell_type": "code",
   "execution_count": null,
   "metadata": {
    "collapsed": true
   },
   "outputs": [],
   "source": []
  },
  {
   "cell_type": "code",
   "execution_count": null,
   "metadata": {
    "collapsed": true
   },
   "outputs": [],
   "source": []
  },
  {
   "cell_type": "code",
   "execution_count": null,
   "metadata": {
    "collapsed": true
   },
   "outputs": [],
   "source": []
  },
  {
   "cell_type": "code",
   "execution_count": null,
   "metadata": {
    "collapsed": true
   },
   "outputs": [],
   "source": []
  },
  {
   "cell_type": "code",
   "execution_count": null,
   "metadata": {
    "collapsed": true
   },
   "outputs": [],
   "source": []
  },
  {
   "cell_type": "code",
   "execution_count": 64,
   "metadata": {},
   "outputs": [],
   "source": [
    "path = \"./\"\n",
    "filename = \"DNA_KMEANS_RESULT_ID_NEW.csv\"\n",
    "# TAG K MEAN RESULT\n",
    "KMEANS_RESULT_ID_FILE = path + filename\n",
    "df = df.drop(\"Groups\", 1)\n",
    "\n",
    "df = process_csv_kmean_result(KMEANS_RESULT_ID_FILE, df)"
   ]
  },
  {
   "cell_type": "code",
   "execution_count": 65,
   "metadata": {},
   "outputs": [
    {
     "data": {
      "text/plain": [
       "407597"
      ]
     },
     "execution_count": 65,
     "metadata": {},
     "output_type": "execute_result"
    }
   ],
   "source": [
    "len(df[df[\"Groups\"] == '1'])"
   ]
  },
  {
   "cell_type": "code",
   "execution_count": 66,
   "metadata": {
    "collapsed": true
   },
   "outputs": [],
   "source": [
    "path = \"./\"\n",
    "filename = \"DNA_KMEANS_RESULT_ID_NEW.csv\"\n",
    "# TAG K MEAN RESULT\n",
    "KMEANS_RESULT_ID_FILE = path + filename\n",
    "result = df.drop(\"Groups\", 1)\n",
    "\n",
    "result = process_csv_kmean_result(KMEANS_RESULT_ID_FILE, result)"
   ]
  },
  {
   "cell_type": "code",
   "execution_count": 67,
   "metadata": {},
   "outputs": [
    {
     "data": {
      "text/plain": [
       "407597"
      ]
     },
     "execution_count": 67,
     "metadata": {},
     "output_type": "execute_result"
    }
   ],
   "source": [
    "len(result[result[\"Groups\"] == '1'])"
   ]
  },
  {
   "cell_type": "code",
   "execution_count": null,
   "metadata": {
    "collapsed": true
   },
   "outputs": [],
   "source": []
  }
 ],
 "metadata": {
  "kernelspec": {
   "display_name": "Python 3",
   "language": "python",
   "name": "python3"
  },
  "language_info": {
   "codemirror_mode": {
    "name": "ipython",
    "version": 3
   },
   "file_extension": ".py",
   "mimetype": "text/x-python",
   "name": "python",
   "nbconvert_exporter": "python",
   "pygments_lexer": "ipython3",
   "version": "3.6.1"
  }
 },
 "nbformat": 4,
 "nbformat_minor": 2
}
