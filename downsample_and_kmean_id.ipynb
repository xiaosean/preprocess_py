{
 "cells": [
  {
   "cell_type": "code",
   "execution_count": 1,
   "metadata": {
    "collapsed": true
   },
   "outputs": [],
   "source": [
    "import os.path\n",
    "import numpy as np\n",
    "import pandas as pd\n",
    "from time import time\n",
    "from os import listdir\n",
    "from os.path import isfile, join"
   ]
  },
  {
   "cell_type": "code",
   "execution_count": 2,
   "metadata": {
    "collapsed": true
   },
   "outputs": [],
   "source": [
    "def read_csv(filename):\n",
    "    # read revise csv file and print cost time\n",
    "    t0 = time()\n",
    "    df = pd.read_csv(filename, error_bad_lines=False)\n",
    "    print(\"time for read csv: %.2f\" % (time()-t0))\n",
    "    return df"
   ]
  },
  {
   "cell_type": "code",
   "execution_count": 3,
   "metadata": {
    "collapsed": true
   },
   "outputs": [],
   "source": [
    "def file_csv_list(target_path):\n",
    "    return [f for f in listdir(target_path) if isfile(join(target_path, f))]"
   ]
  },
  {
   "cell_type": "code",
   "execution_count": 4,
   "metadata": {
    "collapsed": true
   },
   "outputs": [],
   "source": [
    "def read_csv_subcr_id(filename):\n",
    "    # read revise csv file and print cost time\n",
    "    t0 = time()\n",
    "    df = pd.read_csv(filename, error_bad_lines=False, usecols = [\"MINING_DW_SUBSCR_NO\"])\n",
    "    print(\"time for read csv: %.2f\" % (time()-t0))\n",
    "    return df"
   ]
  },
  {
   "cell_type": "code",
   "execution_count": 5,
   "metadata": {
    "collapsed": true
   },
   "outputs": [],
   "source": [
    "def process_csv_kmean_result(filename, concat_df):\n",
    "    # read revise csv file and print cost time\n",
    "    kmean_df = pd.read_csv(filename, error_bad_lines=False, usecols = [\"MINING_DW_SUBSCR_NO\", \"Groups\"])\n",
    "    concat_df = pd.merge(kmean_df, concat_df, on='MINING_DW_SUBSCR_NO', how='left')\n",
    "    return concat_df"
   ]
  },
  {
   "cell_type": "code",
   "execution_count": 6,
   "metadata": {
    "collapsed": true
   },
   "outputs": [],
   "source": [
    "def save_dataframe(df, out_filename):\n",
    "   # write to csv and no index\n",
    "    t0 = time()\n",
    "    df.to_csv(out_filename + \".csv\", index=False, encoding='utf-8')\n",
    "#     df.to_csv(out_filename + \".csv\", encoding='utf-8')\n",
    "    print(\"time for output csv file: %.2f\" % (time()-t0))"
   ]
  },
  {
   "cell_type": "code",
   "execution_count": 34,
   "metadata": {
    "collapsed": true
   },
   "outputs": [],
   "source": [
    "# set configure\n",
    "# path = \"../DATA_FULL/\"\n",
    "path = \"./CDR_FINAL/\"\n",
    "filename = \"CDR_CONCAT_TABLE_4\"\n",
    "relative_filename = path + filename + \".csv\"\n",
    "out_path = \"./CDR_FINAL/\"\n",
    "\n"
   ]
  },
  {
   "cell_type": "code",
   "execution_count": 35,
   "metadata": {},
   "outputs": [
    {
     "name": "stdout",
     "output_type": "stream",
     "text": [
      "time for read csv: 77.57\n"
     ]
    }
   ],
   "source": [
    "df = read_csv(relative_filename)"
   ]
  },
  {
   "cell_type": "code",
   "execution_count": 36,
   "metadata": {},
   "outputs": [
    {
     "data": {
      "text/html": [
       "<div>\n",
       "<style>\n",
       "    .dataframe thead tr:only-child th {\n",
       "        text-align: right;\n",
       "    }\n",
       "\n",
       "    .dataframe thead th {\n",
       "        text-align: left;\n",
       "    }\n",
       "\n",
       "    .dataframe tbody tr th {\n",
       "        vertical-align: top;\n",
       "    }\n",
       "</style>\n",
       "<table border=\"1\" class=\"dataframe\">\n",
       "  <thead>\n",
       "    <tr style=\"text-align: right;\">\n",
       "      <th></th>\n",
       "      <th>MINING_DW_SUBSCR_NO</th>\n",
       "      <th>VOICE_MO_HOUR_0_CNT</th>\n",
       "      <th>VOICE_MO_HOUR_1_CNT</th>\n",
       "      <th>VOICE_MO_HOUR_2_CNT</th>\n",
       "      <th>VOICE_MO_HOUR_3_CNT</th>\n",
       "      <th>VOICE_MO_HOUR_4_CNT</th>\n",
       "      <th>VOICE_MO_HOUR_5_CNT</th>\n",
       "      <th>VOICE_MO_HOUR_6_CNT</th>\n",
       "      <th>VOICE_MO_HOUR_7_CNT</th>\n",
       "      <th>VOICE_MO_HOUR_8_CNT</th>\n",
       "      <th>...</th>\n",
       "      <th>DNA_HOUR_21_CNT</th>\n",
       "      <th>DNA_HOUR_22_CNT</th>\n",
       "      <th>DNA_HOUR_23_CNT</th>\n",
       "      <th>DNA_Monday</th>\n",
       "      <th>DNA_Tuesday</th>\n",
       "      <th>DNA_Wednesday</th>\n",
       "      <th>DNA_Thursday</th>\n",
       "      <th>DNA_Friday</th>\n",
       "      <th>DNA_Saturday</th>\n",
       "      <th>DNA_Sunday</th>\n",
       "    </tr>\n",
       "  </thead>\n",
       "  <tbody>\n",
       "    <tr>\n",
       "      <th>0</th>\n",
       "      <td>8134330931</td>\n",
       "      <td>0.0</td>\n",
       "      <td>0.0</td>\n",
       "      <td>0.0</td>\n",
       "      <td>0.0</td>\n",
       "      <td>0.0</td>\n",
       "      <td>0.0</td>\n",
       "      <td>0.0</td>\n",
       "      <td>1.0</td>\n",
       "      <td>2.0</td>\n",
       "      <td>...</td>\n",
       "      <td>1.866667</td>\n",
       "      <td>2.7</td>\n",
       "      <td>1.9</td>\n",
       "      <td>0.0</td>\n",
       "      <td>0.0</td>\n",
       "      <td>0.0</td>\n",
       "      <td>0.0</td>\n",
       "      <td>0.0</td>\n",
       "      <td>0.0</td>\n",
       "      <td>0.0</td>\n",
       "    </tr>\n",
       "    <tr>\n",
       "      <th>1</th>\n",
       "      <td>2118544651</td>\n",
       "      <td>0.0</td>\n",
       "      <td>0.0</td>\n",
       "      <td>0.0</td>\n",
       "      <td>0.0</td>\n",
       "      <td>0.0</td>\n",
       "      <td>0.0</td>\n",
       "      <td>0.0</td>\n",
       "      <td>0.0</td>\n",
       "      <td>0.0</td>\n",
       "      <td>...</td>\n",
       "      <td>0.000000</td>\n",
       "      <td>0.0</td>\n",
       "      <td>0.0</td>\n",
       "      <td>0.0</td>\n",
       "      <td>0.0</td>\n",
       "      <td>0.0</td>\n",
       "      <td>0.0</td>\n",
       "      <td>0.0</td>\n",
       "      <td>0.0</td>\n",
       "      <td>0.0</td>\n",
       "    </tr>\n",
       "    <tr>\n",
       "      <th>2</th>\n",
       "      <td>10000337216</td>\n",
       "      <td>0.0</td>\n",
       "      <td>0.0</td>\n",
       "      <td>0.0</td>\n",
       "      <td>0.0</td>\n",
       "      <td>0.0</td>\n",
       "      <td>0.0</td>\n",
       "      <td>2.0</td>\n",
       "      <td>1.0</td>\n",
       "      <td>3.0</td>\n",
       "      <td>...</td>\n",
       "      <td>4.566667</td>\n",
       "      <td>6.2</td>\n",
       "      <td>4.1</td>\n",
       "      <td>0.0</td>\n",
       "      <td>0.0</td>\n",
       "      <td>0.0</td>\n",
       "      <td>0.0</td>\n",
       "      <td>0.0</td>\n",
       "      <td>0.0</td>\n",
       "      <td>0.0</td>\n",
       "    </tr>\n",
       "    <tr>\n",
       "      <th>3</th>\n",
       "      <td>3133428916</td>\n",
       "      <td>0.0</td>\n",
       "      <td>0.0</td>\n",
       "      <td>0.0</td>\n",
       "      <td>0.0</td>\n",
       "      <td>0.0</td>\n",
       "      <td>0.0</td>\n",
       "      <td>0.0</td>\n",
       "      <td>0.0</td>\n",
       "      <td>0.0</td>\n",
       "      <td>...</td>\n",
       "      <td>1.233333</td>\n",
       "      <td>0.0</td>\n",
       "      <td>0.6</td>\n",
       "      <td>0.0</td>\n",
       "      <td>0.0</td>\n",
       "      <td>0.0</td>\n",
       "      <td>0.0</td>\n",
       "      <td>0.0</td>\n",
       "      <td>0.0</td>\n",
       "      <td>0.0</td>\n",
       "    </tr>\n",
       "    <tr>\n",
       "      <th>4</th>\n",
       "      <td>3119268553</td>\n",
       "      <td>0.0</td>\n",
       "      <td>0.0</td>\n",
       "      <td>0.0</td>\n",
       "      <td>0.0</td>\n",
       "      <td>0.0</td>\n",
       "      <td>0.0</td>\n",
       "      <td>0.0</td>\n",
       "      <td>0.0</td>\n",
       "      <td>0.0</td>\n",
       "      <td>...</td>\n",
       "      <td>0.000000</td>\n",
       "      <td>0.0</td>\n",
       "      <td>0.0</td>\n",
       "      <td>0.0</td>\n",
       "      <td>0.0</td>\n",
       "      <td>0.0</td>\n",
       "      <td>0.0</td>\n",
       "      <td>0.0</td>\n",
       "      <td>0.0</td>\n",
       "      <td>0.0</td>\n",
       "    </tr>\n",
       "  </tbody>\n",
       "</table>\n",
       "<p>5 rows × 200 columns</p>\n",
       "</div>"
      ],
      "text/plain": [
       "   MINING_DW_SUBSCR_NO  VOICE_MO_HOUR_0_CNT  VOICE_MO_HOUR_1_CNT  \\\n",
       "0           8134330931                  0.0                  0.0   \n",
       "1           2118544651                  0.0                  0.0   \n",
       "2          10000337216                  0.0                  0.0   \n",
       "3           3133428916                  0.0                  0.0   \n",
       "4           3119268553                  0.0                  0.0   \n",
       "\n",
       "   VOICE_MO_HOUR_2_CNT  VOICE_MO_HOUR_3_CNT  VOICE_MO_HOUR_4_CNT  \\\n",
       "0                  0.0                  0.0                  0.0   \n",
       "1                  0.0                  0.0                  0.0   \n",
       "2                  0.0                  0.0                  0.0   \n",
       "3                  0.0                  0.0                  0.0   \n",
       "4                  0.0                  0.0                  0.0   \n",
       "\n",
       "   VOICE_MO_HOUR_5_CNT  VOICE_MO_HOUR_6_CNT  VOICE_MO_HOUR_7_CNT  \\\n",
       "0                  0.0                  0.0                  1.0   \n",
       "1                  0.0                  0.0                  0.0   \n",
       "2                  0.0                  2.0                  1.0   \n",
       "3                  0.0                  0.0                  0.0   \n",
       "4                  0.0                  0.0                  0.0   \n",
       "\n",
       "   VOICE_MO_HOUR_8_CNT     ...      DNA_HOUR_21_CNT  DNA_HOUR_22_CNT  \\\n",
       "0                  2.0     ...             1.866667              2.7   \n",
       "1                  0.0     ...             0.000000              0.0   \n",
       "2                  3.0     ...             4.566667              6.2   \n",
       "3                  0.0     ...             1.233333              0.0   \n",
       "4                  0.0     ...             0.000000              0.0   \n",
       "\n",
       "   DNA_HOUR_23_CNT   DNA_Monday  DNA_Tuesday  DNA_Wednesday  DNA_Thursday  \\\n",
       "0               1.9         0.0          0.0            0.0           0.0   \n",
       "1               0.0         0.0          0.0            0.0           0.0   \n",
       "2               4.1         0.0          0.0            0.0           0.0   \n",
       "3               0.6         0.0          0.0            0.0           0.0   \n",
       "4               0.0         0.0          0.0            0.0           0.0   \n",
       "\n",
       "   DNA_Friday  DNA_Saturday  DNA_Sunday  \n",
       "0         0.0           0.0         0.0  \n",
       "1         0.0           0.0         0.0  \n",
       "2         0.0           0.0         0.0  \n",
       "3         0.0           0.0         0.0  \n",
       "4         0.0           0.0         0.0  \n",
       "\n",
       "[5 rows x 200 columns]"
      ]
     },
     "execution_count": 36,
     "metadata": {},
     "output_type": "execute_result"
    }
   ],
   "source": [
    "df.head()"
   ]
  },
  {
   "cell_type": "code",
   "execution_count": 37,
   "metadata": {},
   "outputs": [
    {
     "data": {
      "text/plain": [
       "\"['MINING_DW_SUBSCR_NO', 'VOICE_MO_HOUR_0_CNT', 'VOICE_MO_HOUR_1_CNT', 'VOICE_MO_HOUR_2_CNT', 'VOICE_MO_HOUR_3_CNT', 'VOICE_MO_HOUR_4_CNT', 'VOICE_MO_HOUR_5_CNT', 'VOICE_MO_HOUR_6_CNT', 'VOICE_MO_HOUR_7_CNT', 'VOICE_MO_HOUR_8_CNT', 'VOICE_MO_HOUR_9_CNT', 'VOICE_MO_HOUR_10_CNT', 'VOICE_MO_HOUR_11_CNT', 'VOICE_MO_HOUR_12_CNT', 'VOICE_MO_HOUR_13_CNT', 'VOICE_MO_HOUR_14_CNT', 'VOICE_MO_HOUR_15_CNT', 'VOICE_MO_HOUR_16_CNT', 'VOICE_MO_HOUR_17_CNT', 'VOICE_MO_HOUR_18_CNT', 'VOICE_MO_HOUR_19_CNT', 'VOICE_MO_HOUR_20_CNT', 'VOICE_MO_HOUR_21_CNT', 'VOICE_MO_HOUR_22_CNT', 'VOICE_MO_HOUR_23_CNT', 'VOICE_MO_HOUR_0_TIME', 'VOICE_MO_HOUR_1_TIME', 'VOICE_MO_HOUR_2_TIME', 'VOICE_MO_HOUR_3_TIME', 'VOICE_MO_HOUR_4_TIME', 'VOICE_MO_HOUR_5_TIME', 'VOICE_MO_HOUR_6_TIME', 'VOICE_MO_HOUR_7_TIME', 'VOICE_MO_HOUR_8_TIME', 'VOICE_MO_HOUR_9_TIME', 'VOICE_MO_HOUR_10_TIME', 'VOICE_MO_HOUR_11_TIME', 'VOICE_MO_HOUR_12_TIME', 'VOICE_MO_HOUR_13_TIME', 'VOICE_MO_HOUR_14_TIME', 'VOICE_MO_HOUR_15_TIME', 'VOICE_MO_HOUR_16_TIME', 'VOICE_MO_HOUR_17_TIME', 'VOICE_MO_HOUR_18_TIME', 'VOICE_MO_HOUR_19_TIME', 'VOICE_MO_HOUR_20_TIME', 'VOICE_MO_HOUR_21_TIME', 'VOICE_MO_HOUR_22_TIME', 'VOICE_MO_HOUR_23_TIME', 'VOICE_MT_HOUR_0_CNT', 'VOICE_MT_HOUR_1_CNT', 'VOICE_MT_HOUR_2_CNT', 'VOICE_MT_HOUR_3_CNT', 'VOICE_MT_HOUR_4_CNT', 'VOICE_MT_HOUR_5_CNT', 'VOICE_MT_HOUR_6_CNT', 'VOICE_MT_HOUR_7_CNT', 'VOICE_MT_HOUR_8_CNT', 'VOICE_MT_HOUR_9_CNT', 'VOICE_MT_HOUR_10_CNT', 'VOICE_MT_HOUR_11_CNT', 'VOICE_MT_HOUR_12_CNT', 'VOICE_MT_HOUR_13_CNT', 'VOICE_MT_HOUR_14_CNT', 'VOICE_MT_HOUR_15_CNT', 'VOICE_MT_HOUR_16_CNT', 'VOICE_MT_HOUR_17_CNT', 'VOICE_MT_HOUR_18_CNT', 'VOICE_MT_HOUR_19_CNT', 'VOICE_MT_HOUR_20_CNT', 'VOICE_MT_HOUR_21_CNT', 'VOICE_MT_HOUR_22_CNT', 'VOICE_MT_HOUR_23_CNT', 'VOICE_MT_HOUR_0_TIME', 'VOICE_MT_HOUR_1_TIME', 'VOICE_MT_HOUR_2_TIME', 'VOICE_MT_HOUR_3_TIME', 'VOICE_MT_HOUR_4_TIME', 'VOICE_MT_HOUR_5_TIME', 'VOICE_MT_HOUR_6_TIME', 'VOICE_MT_HOUR_7_TIME', 'VOICE_MT_HOUR_8_TIME', 'VOICE_MT_HOUR_9_TIME', 'VOICE_MT_HOUR_10_TIME', 'VOICE_MT_HOUR_11_TIME', 'VOICE_MT_HOUR_12_TIME', 'VOICE_MT_HOUR_13_TIME', 'VOICE_MT_HOUR_14_TIME', 'VOICE_MT_HOUR_15_TIME', 'VOICE_MT_HOUR_16_TIME', 'VOICE_MT_HOUR_17_TIME', 'VOICE_MT_HOUR_18_TIME', 'VOICE_MT_HOUR_19_TIME', 'VOICE_MT_HOUR_20_TIME', 'VOICE_MT_HOUR_21_TIME', 'VOICE_MT_HOUR_22_TIME', 'VOICE_MT_HOUR_23_TIME', 'VOICE_MO_MON_CNT', 'VOICE_MO_TUE_CNT', 'VOICE_MO_WED_CNT', 'VOICE_MO_THU_CNT', 'VOICE_MO_FRI_CNT', 'VOICE_MO_SAT_CNT', 'VOICE_MO_SUN_CNT', 'VOICE_MO_MON_TIME', 'VOICE_MO_TUE_TIME', 'VOICE_MO_WED_TIME', 'VOICE_MO_THU_TIME', 'VOICE_MO_FRI_TIME', 'VOICE_MO_SAT_TIME', 'VOICE_MO_SUN_TIME', 'VOICE_MO_workday_cnt', 'VOICE_MO_workday_cnt_avg', 'VOICE_MO_workday_time', 'VOICE_MO_workday_time_avg', 'VOICE_MO_holiday_cnt', 'VOICE_MO_holiday_cnt_avg', 'VOICE_MO_holiday_time', 'VOICE_MO_holiday_time_avg', 'VOICE_MT_MON_CNT', 'VOICE_MT_TUE_CNT', 'VOICE_MT_WED_CNT', 'VOICE_MT_THU_CNT', 'VOICE_MT_FRI_CNT', 'VOICE_MT_SAT_CNT', 'VOICE_MT_SUN_CNT', 'VOICE_MT_MON_TIME', 'VOICE_MT_TUE_TIME', 'VOICE_MT_WED_TIME', 'VOICE_MT_THU_TIME', 'VOICE_MT_FRI_TIME', 'VOICE_MT_SAT_TIME', 'VOICE_MT_SUN_TIME', 'VOICE_MT_workday_cnt', 'VOICE_MT_workday_cnt_avg', 'VOICE_MT_workday_time', 'VOICE_MT_workday_time_avg', 'VOICE_MT_holiday_cnt', 'VOICE_MT_holiday_cnt_avg', 'VOICE_MT_holiday_time', 'VOICE_MT_holiday_time_avg', 'MTC_CNT', 'MTC_DUR', 'MTC_FET_CNT', 'MTC_FET_DUR', 'MTC_TWM_CNT', 'MTC_TWM_DUR', 'MTC_CHM_CNT', 'MTC_CHM_DUR', 'MTC_APT_CNT', 'MTC_APT_DUR', 'MTC_TSC_CNT', 'MTC_TSC_DUR', 'MTC_PSTN_CNT', 'MTC_PSTN_DUR', 'MOC_CNT', 'MOC_DUR', 'MOC_FET_CNT', 'MOC_FET_DUR', 'MOC_TWM_CNT', 'MOC_TWM_DUR', 'MOC_CHM_CNT', 'MOC_CHM_DUR', 'MOC_APT_CNT', 'MOC_APT_DUR', 'MOC_TSC_CNT', 'MOC_TSC_DUR', 'MOC_PSTN_CNT', 'MOC_PSTN_DUR', 'DNA_HOUR_0_CNT', 'DNA_HOUR_1_CNT', 'DNA_HOUR_2_CNT', 'DNA_HOUR_3_CNT', 'DNA_HOUR_4_CNT', 'DNA_HOUR_5_CNT', 'DNA_HOUR_6_CNT', 'DNA_HOUR_7_CNT', 'DNA_HOUR_8_CNT', 'DNA_HOUR_9_CNT', 'DNA_HOUR_10_CNT', 'DNA_HOUR_11_CNT', 'DNA_HOUR_12_CNT', 'DNA_HOUR_13_CNT', 'DNA_HOUR_14_CNT', 'DNA_HOUR_15_CNT', 'DNA_HOUR_16_CNT', 'DNA_HOUR_17_CNT', 'DNA_HOUR_18_CNT', 'DNA_HOUR_19_CNT', 'DNA_HOUR_20_CNT', 'DNA_HOUR_21_CNT', 'DNA_HOUR_22_CNT', 'DNA_HOUR_23_CNT ', 'DNA_Monday', 'DNA_Tuesday', 'DNA_Wednesday', 'DNA_Thursday', 'DNA_Friday', 'DNA_Saturday', 'DNA_Sunday']\""
      ]
     },
     "execution_count": 37,
     "metadata": {},
     "output_type": "execute_result"
    }
   ],
   "source": [
    "str(list(df.columns))"
   ]
  },
  {
   "cell_type": "code",
   "execution_count": 38,
   "metadata": {
    "collapsed": true
   },
   "outputs": [],
   "source": [
    "df=df.rename(columns = {'DNA_HOUR_23_CNT ':'DNA_HOUR_23_CNT'})\n",
    "result = pd.DataFrame() \n",
    "result[\"MINING_DW_SUBSCR_NO\"] = df[\"MINING_DW_SUBSCR_NO\"]\n",
    "temp_result = pd.DataFrame() \n",
    "temp_result[\"MINING_DW_SUBSCR_NO\"] = df[\"MINING_DW_SUBSCR_NO\"]"
   ]
  },
  {
   "cell_type": "markdown",
   "metadata": {},
   "source": [
    "# VOICE HOUR RELATIVE\n",
    "# HOUR TIME = MO TIME + MT TIME"
   ]
  },
  {
   "cell_type": "code",
   "execution_count": 39,
   "metadata": {},
   "outputs": [
    {
     "name": "stdout",
     "output_type": "stream",
     "text": [
      "VOICE_HOUR_0_TIME\n",
      "VOICE_HOUR_1_TIME\n",
      "VOICE_HOUR_2_TIME\n",
      "VOICE_HOUR_3_TIME\n",
      "VOICE_HOUR_4_TIME\n",
      "VOICE_HOUR_5_TIME\n",
      "VOICE_HOUR_6_TIME\n",
      "VOICE_HOUR_7_TIME\n",
      "VOICE_HOUR_8_TIME\n",
      "VOICE_HOUR_9_TIME\n",
      "VOICE_HOUR_10_TIME\n",
      "VOICE_HOUR_11_TIME\n",
      "VOICE_HOUR_12_TIME\n",
      "VOICE_HOUR_13_TIME\n",
      "VOICE_HOUR_14_TIME\n",
      "VOICE_HOUR_15_TIME\n",
      "VOICE_HOUR_16_TIME\n",
      "VOICE_HOUR_17_TIME\n",
      "VOICE_HOUR_18_TIME\n",
      "VOICE_HOUR_19_TIME\n",
      "VOICE_HOUR_20_TIME\n",
      "VOICE_HOUR_21_TIME\n",
      "VOICE_HOUR_22_TIME\n",
      "VOICE_HOUR_23_TIME\n"
     ]
    }
   ],
   "source": [
    "temp_result = pd.DataFrame() \n",
    "temp_result[\"MINING_DW_SUBSCR_NO\"] = df[\"MINING_DW_SUBSCR_NO\"]\n",
    "for i in range(24):\n",
    "    col_name = \"VOICE_\" + \"HOUR_\" + str(i) + \"_TIME\"\n",
    "    print(col_name)\n",
    "    temp_result[col_name] = 0\n",
    "    for m_ in [\"_MO_\", \"_MT_\"]:\n",
    "        temp_result[col_name] += df[\"VOICE\"+  m_ + \"HOUR_\" + str(i) + \"_TIME\"]\n",
    "    temp_result[col_name] /= 30\n"
   ]
  },
  {
   "cell_type": "code",
   "execution_count": 40,
   "metadata": {
    "collapsed": true
   },
   "outputs": [],
   "source": [
    "temp_result = temp_result.round(3)"
   ]
  },
  {
   "cell_type": "code",
   "execution_count": 41,
   "metadata": {},
   "outputs": [
    {
     "data": {
      "text/html": [
       "<div>\n",
       "<style>\n",
       "    .dataframe thead tr:only-child th {\n",
       "        text-align: right;\n",
       "    }\n",
       "\n",
       "    .dataframe thead th {\n",
       "        text-align: left;\n",
       "    }\n",
       "\n",
       "    .dataframe tbody tr th {\n",
       "        vertical-align: top;\n",
       "    }\n",
       "</style>\n",
       "<table border=\"1\" class=\"dataframe\">\n",
       "  <thead>\n",
       "    <tr style=\"text-align: right;\">\n",
       "      <th></th>\n",
       "      <th>MINING_DW_SUBSCR_NO</th>\n",
       "      <th>VOICE_HOUR_0_TIME</th>\n",
       "      <th>VOICE_HOUR_1_TIME</th>\n",
       "      <th>VOICE_HOUR_2_TIME</th>\n",
       "      <th>VOICE_HOUR_3_TIME</th>\n",
       "      <th>VOICE_HOUR_4_TIME</th>\n",
       "      <th>VOICE_HOUR_5_TIME</th>\n",
       "      <th>VOICE_HOUR_6_TIME</th>\n",
       "      <th>VOICE_HOUR_7_TIME</th>\n",
       "      <th>VOICE_HOUR_8_TIME</th>\n",
       "      <th>...</th>\n",
       "      <th>VOICE_HOUR_14_TIME</th>\n",
       "      <th>VOICE_HOUR_15_TIME</th>\n",
       "      <th>VOICE_HOUR_16_TIME</th>\n",
       "      <th>VOICE_HOUR_17_TIME</th>\n",
       "      <th>VOICE_HOUR_18_TIME</th>\n",
       "      <th>VOICE_HOUR_19_TIME</th>\n",
       "      <th>VOICE_HOUR_20_TIME</th>\n",
       "      <th>VOICE_HOUR_21_TIME</th>\n",
       "      <th>VOICE_HOUR_22_TIME</th>\n",
       "      <th>VOICE_HOUR_23_TIME</th>\n",
       "    </tr>\n",
       "  </thead>\n",
       "  <tbody>\n",
       "    <tr>\n",
       "      <th>0</th>\n",
       "      <td>8134330931</td>\n",
       "      <td>0.0</td>\n",
       "      <td>0.0</td>\n",
       "      <td>0.0</td>\n",
       "      <td>0.0</td>\n",
       "      <td>0.0</td>\n",
       "      <td>0.0</td>\n",
       "      <td>0.0</td>\n",
       "      <td>5.367</td>\n",
       "      <td>0.733</td>\n",
       "      <td>...</td>\n",
       "      <td>117.433</td>\n",
       "      <td>73.233</td>\n",
       "      <td>85.000</td>\n",
       "      <td>39.633</td>\n",
       "      <td>55.4</td>\n",
       "      <td>169.8</td>\n",
       "      <td>4.533</td>\n",
       "      <td>43.600</td>\n",
       "      <td>20.033</td>\n",
       "      <td>1.500</td>\n",
       "    </tr>\n",
       "    <tr>\n",
       "      <th>1</th>\n",
       "      <td>2118544651</td>\n",
       "      <td>0.0</td>\n",
       "      <td>0.0</td>\n",
       "      <td>0.0</td>\n",
       "      <td>0.0</td>\n",
       "      <td>0.0</td>\n",
       "      <td>0.0</td>\n",
       "      <td>0.0</td>\n",
       "      <td>0.000</td>\n",
       "      <td>0.000</td>\n",
       "      <td>...</td>\n",
       "      <td>0.000</td>\n",
       "      <td>0.000</td>\n",
       "      <td>0.000</td>\n",
       "      <td>0.000</td>\n",
       "      <td>0.0</td>\n",
       "      <td>1.2</td>\n",
       "      <td>0.000</td>\n",
       "      <td>0.000</td>\n",
       "      <td>0.000</td>\n",
       "      <td>0.000</td>\n",
       "    </tr>\n",
       "    <tr>\n",
       "      <th>2</th>\n",
       "      <td>10000337216</td>\n",
       "      <td>0.0</td>\n",
       "      <td>0.0</td>\n",
       "      <td>0.0</td>\n",
       "      <td>0.0</td>\n",
       "      <td>0.0</td>\n",
       "      <td>0.8</td>\n",
       "      <td>2.1</td>\n",
       "      <td>0.300</td>\n",
       "      <td>5.100</td>\n",
       "      <td>...</td>\n",
       "      <td>23.367</td>\n",
       "      <td>20.067</td>\n",
       "      <td>5.000</td>\n",
       "      <td>9.300</td>\n",
       "      <td>12.6</td>\n",
       "      <td>23.9</td>\n",
       "      <td>16.967</td>\n",
       "      <td>27.433</td>\n",
       "      <td>0.000</td>\n",
       "      <td>0.000</td>\n",
       "    </tr>\n",
       "    <tr>\n",
       "      <th>3</th>\n",
       "      <td>3133428916</td>\n",
       "      <td>0.0</td>\n",
       "      <td>0.0</td>\n",
       "      <td>0.0</td>\n",
       "      <td>0.0</td>\n",
       "      <td>0.0</td>\n",
       "      <td>0.0</td>\n",
       "      <td>0.0</td>\n",
       "      <td>0.000</td>\n",
       "      <td>0.000</td>\n",
       "      <td>...</td>\n",
       "      <td>0.733</td>\n",
       "      <td>1.567</td>\n",
       "      <td>7.233</td>\n",
       "      <td>0.000</td>\n",
       "      <td>0.0</td>\n",
       "      <td>0.0</td>\n",
       "      <td>0.000</td>\n",
       "      <td>3.500</td>\n",
       "      <td>0.000</td>\n",
       "      <td>0.833</td>\n",
       "    </tr>\n",
       "    <tr>\n",
       "      <th>4</th>\n",
       "      <td>3119268553</td>\n",
       "      <td>0.0</td>\n",
       "      <td>0.0</td>\n",
       "      <td>0.0</td>\n",
       "      <td>0.0</td>\n",
       "      <td>0.0</td>\n",
       "      <td>0.0</td>\n",
       "      <td>0.0</td>\n",
       "      <td>0.000</td>\n",
       "      <td>0.000</td>\n",
       "      <td>...</td>\n",
       "      <td>0.000</td>\n",
       "      <td>0.000</td>\n",
       "      <td>0.000</td>\n",
       "      <td>0.000</td>\n",
       "      <td>0.0</td>\n",
       "      <td>0.0</td>\n",
       "      <td>0.000</td>\n",
       "      <td>0.000</td>\n",
       "      <td>0.000</td>\n",
       "      <td>0.000</td>\n",
       "    </tr>\n",
       "  </tbody>\n",
       "</table>\n",
       "<p>5 rows × 25 columns</p>\n",
       "</div>"
      ],
      "text/plain": [
       "   MINING_DW_SUBSCR_NO  VOICE_HOUR_0_TIME  VOICE_HOUR_1_TIME  \\\n",
       "0           8134330931                0.0                0.0   \n",
       "1           2118544651                0.0                0.0   \n",
       "2          10000337216                0.0                0.0   \n",
       "3           3133428916                0.0                0.0   \n",
       "4           3119268553                0.0                0.0   \n",
       "\n",
       "   VOICE_HOUR_2_TIME  VOICE_HOUR_3_TIME  VOICE_HOUR_4_TIME  VOICE_HOUR_5_TIME  \\\n",
       "0                0.0                0.0                0.0                0.0   \n",
       "1                0.0                0.0                0.0                0.0   \n",
       "2                0.0                0.0                0.0                0.8   \n",
       "3                0.0                0.0                0.0                0.0   \n",
       "4                0.0                0.0                0.0                0.0   \n",
       "\n",
       "   VOICE_HOUR_6_TIME  VOICE_HOUR_7_TIME  VOICE_HOUR_8_TIME  \\\n",
       "0                0.0              5.367              0.733   \n",
       "1                0.0              0.000              0.000   \n",
       "2                2.1              0.300              5.100   \n",
       "3                0.0              0.000              0.000   \n",
       "4                0.0              0.000              0.000   \n",
       "\n",
       "          ...          VOICE_HOUR_14_TIME  VOICE_HOUR_15_TIME  \\\n",
       "0         ...                     117.433              73.233   \n",
       "1         ...                       0.000               0.000   \n",
       "2         ...                      23.367              20.067   \n",
       "3         ...                       0.733               1.567   \n",
       "4         ...                       0.000               0.000   \n",
       "\n",
       "   VOICE_HOUR_16_TIME  VOICE_HOUR_17_TIME  VOICE_HOUR_18_TIME  \\\n",
       "0              85.000              39.633                55.4   \n",
       "1               0.000               0.000                 0.0   \n",
       "2               5.000               9.300                12.6   \n",
       "3               7.233               0.000                 0.0   \n",
       "4               0.000               0.000                 0.0   \n",
       "\n",
       "   VOICE_HOUR_19_TIME  VOICE_HOUR_20_TIME  VOICE_HOUR_21_TIME  \\\n",
       "0               169.8               4.533              43.600   \n",
       "1                 1.2               0.000               0.000   \n",
       "2                23.9              16.967              27.433   \n",
       "3                 0.0               0.000               3.500   \n",
       "4                 0.0               0.000               0.000   \n",
       "\n",
       "   VOICE_HOUR_22_TIME  VOICE_HOUR_23_TIME  \n",
       "0              20.033               1.500  \n",
       "1               0.000               0.000  \n",
       "2               0.000               0.000  \n",
       "3               0.000               0.833  \n",
       "4               0.000               0.000  \n",
       "\n",
       "[5 rows x 25 columns]"
      ]
     },
     "execution_count": 41,
     "metadata": {},
     "output_type": "execute_result"
    }
   ],
   "source": [
    "temp_result.head()"
   ]
  },
  {
   "cell_type": "code",
   "execution_count": 42,
   "metadata": {},
   "outputs": [
    {
     "name": "stdout",
     "output_type": "stream",
     "text": [
      "time for output csv file: 43.41\n"
     ]
    }
   ],
   "source": [
    "save_dataframe(temp_result, out_path +  \"voice_hour_24_cols\")"
   ]
  },
  {
   "cell_type": "code",
   "execution_count": null,
   "metadata": {
    "collapsed": true
   },
   "outputs": [],
   "source": []
  },
  {
   "cell_type": "code",
   "execution_count": 43,
   "metadata": {
    "collapsed": true
   },
   "outputs": [],
   "source": [
    "# sum \n",
    "temp_result[\"temp_sum\"] = 0\n",
    "for i in temp_result.columns[:-1]:\n",
    "    if(i !=  \"MINING_DW_SUBSCR_NO\"):\n",
    "        temp_result[\"temp_sum\"] += temp_result[i]"
   ]
  },
  {
   "cell_type": "code",
   "execution_count": 44,
   "metadata": {
    "collapsed": true
   },
   "outputs": [],
   "source": [
    "# get hour normalize\n",
    "for i in temp_result.columns[:-1]:\n",
    "    if(i !=  \"MINING_DW_SUBSCR_NO\"):\n",
    "        result[i] = temp_result[i] / temp_result[\"temp_sum\"]"
   ]
  },
  {
   "cell_type": "code",
   "execution_count": 45,
   "metadata": {
    "collapsed": true
   },
   "outputs": [],
   "source": [
    "result[\"VOICE_MONTHLY_SUM\"] = temp_result[\"temp_sum\"] * 30"
   ]
  },
  {
   "cell_type": "code",
   "execution_count": 46,
   "metadata": {},
   "outputs": [
    {
     "data": {
      "text/html": [
       "<div>\n",
       "<style>\n",
       "    .dataframe thead tr:only-child th {\n",
       "        text-align: right;\n",
       "    }\n",
       "\n",
       "    .dataframe thead th {\n",
       "        text-align: left;\n",
       "    }\n",
       "\n",
       "    .dataframe tbody tr th {\n",
       "        vertical-align: top;\n",
       "    }\n",
       "</style>\n",
       "<table border=\"1\" class=\"dataframe\">\n",
       "  <thead>\n",
       "    <tr style=\"text-align: right;\">\n",
       "      <th></th>\n",
       "      <th>MINING_DW_SUBSCR_NO</th>\n",
       "      <th>VOICE_HOUR_0_TIME</th>\n",
       "      <th>VOICE_HOUR_1_TIME</th>\n",
       "      <th>VOICE_HOUR_2_TIME</th>\n",
       "      <th>VOICE_HOUR_3_TIME</th>\n",
       "      <th>VOICE_HOUR_4_TIME</th>\n",
       "      <th>VOICE_HOUR_5_TIME</th>\n",
       "      <th>VOICE_HOUR_6_TIME</th>\n",
       "      <th>VOICE_HOUR_7_TIME</th>\n",
       "      <th>VOICE_HOUR_8_TIME</th>\n",
       "      <th>...</th>\n",
       "      <th>VOICE_HOUR_15_TIME</th>\n",
       "      <th>VOICE_HOUR_16_TIME</th>\n",
       "      <th>VOICE_HOUR_17_TIME</th>\n",
       "      <th>VOICE_HOUR_18_TIME</th>\n",
       "      <th>VOICE_HOUR_19_TIME</th>\n",
       "      <th>VOICE_HOUR_20_TIME</th>\n",
       "      <th>VOICE_HOUR_21_TIME</th>\n",
       "      <th>VOICE_HOUR_22_TIME</th>\n",
       "      <th>VOICE_HOUR_23_TIME</th>\n",
       "      <th>VOICE_MONTHLY_SUM</th>\n",
       "    </tr>\n",
       "  </thead>\n",
       "  <tbody>\n",
       "    <tr>\n",
       "      <th>0</th>\n",
       "      <td>8134330931</td>\n",
       "      <td>0.0</td>\n",
       "      <td>0.0</td>\n",
       "      <td>0.0</td>\n",
       "      <td>0.0</td>\n",
       "      <td>0.0</td>\n",
       "      <td>0.000</td>\n",
       "      <td>0.000</td>\n",
       "      <td>0.005</td>\n",
       "      <td>0.001</td>\n",
       "      <td>...</td>\n",
       "      <td>0.070</td>\n",
       "      <td>0.082</td>\n",
       "      <td>0.038</td>\n",
       "      <td>0.053</td>\n",
       "      <td>0.163</td>\n",
       "      <td>0.004</td>\n",
       "      <td>0.042</td>\n",
       "      <td>0.019</td>\n",
       "      <td>0.001</td>\n",
       "      <td>31177.95</td>\n",
       "    </tr>\n",
       "    <tr>\n",
       "      <th>1</th>\n",
       "      <td>2118544651</td>\n",
       "      <td>0.0</td>\n",
       "      <td>0.0</td>\n",
       "      <td>0.0</td>\n",
       "      <td>0.0</td>\n",
       "      <td>0.0</td>\n",
       "      <td>0.000</td>\n",
       "      <td>0.000</td>\n",
       "      <td>0.000</td>\n",
       "      <td>0.000</td>\n",
       "      <td>...</td>\n",
       "      <td>0.000</td>\n",
       "      <td>0.000</td>\n",
       "      <td>0.000</td>\n",
       "      <td>0.000</td>\n",
       "      <td>1.000</td>\n",
       "      <td>0.000</td>\n",
       "      <td>0.000</td>\n",
       "      <td>0.000</td>\n",
       "      <td>0.000</td>\n",
       "      <td>36.00</td>\n",
       "    </tr>\n",
       "    <tr>\n",
       "      <th>2</th>\n",
       "      <td>10000337216</td>\n",
       "      <td>0.0</td>\n",
       "      <td>0.0</td>\n",
       "      <td>0.0</td>\n",
       "      <td>0.0</td>\n",
       "      <td>0.0</td>\n",
       "      <td>0.003</td>\n",
       "      <td>0.007</td>\n",
       "      <td>0.001</td>\n",
       "      <td>0.018</td>\n",
       "      <td>...</td>\n",
       "      <td>0.070</td>\n",
       "      <td>0.017</td>\n",
       "      <td>0.032</td>\n",
       "      <td>0.044</td>\n",
       "      <td>0.083</td>\n",
       "      <td>0.059</td>\n",
       "      <td>0.096</td>\n",
       "      <td>0.000</td>\n",
       "      <td>0.000</td>\n",
       "      <td>8613.03</td>\n",
       "    </tr>\n",
       "    <tr>\n",
       "      <th>3</th>\n",
       "      <td>3133428916</td>\n",
       "      <td>0.0</td>\n",
       "      <td>0.0</td>\n",
       "      <td>0.0</td>\n",
       "      <td>0.0</td>\n",
       "      <td>0.0</td>\n",
       "      <td>0.000</td>\n",
       "      <td>0.000</td>\n",
       "      <td>0.000</td>\n",
       "      <td>0.000</td>\n",
       "      <td>...</td>\n",
       "      <td>0.077</td>\n",
       "      <td>0.356</td>\n",
       "      <td>0.000</td>\n",
       "      <td>0.000</td>\n",
       "      <td>0.000</td>\n",
       "      <td>0.000</td>\n",
       "      <td>0.172</td>\n",
       "      <td>0.000</td>\n",
       "      <td>0.041</td>\n",
       "      <td>609.00</td>\n",
       "    </tr>\n",
       "    <tr>\n",
       "      <th>4</th>\n",
       "      <td>3119268553</td>\n",
       "      <td>0.0</td>\n",
       "      <td>0.0</td>\n",
       "      <td>0.0</td>\n",
       "      <td>0.0</td>\n",
       "      <td>0.0</td>\n",
       "      <td>0.000</td>\n",
       "      <td>0.000</td>\n",
       "      <td>0.000</td>\n",
       "      <td>0.000</td>\n",
       "      <td>...</td>\n",
       "      <td>0.000</td>\n",
       "      <td>0.000</td>\n",
       "      <td>0.000</td>\n",
       "      <td>0.000</td>\n",
       "      <td>0.000</td>\n",
       "      <td>0.000</td>\n",
       "      <td>0.000</td>\n",
       "      <td>0.000</td>\n",
       "      <td>0.000</td>\n",
       "      <td>0.00</td>\n",
       "    </tr>\n",
       "  </tbody>\n",
       "</table>\n",
       "<p>5 rows × 26 columns</p>\n",
       "</div>"
      ],
      "text/plain": [
       "   MINING_DW_SUBSCR_NO  VOICE_HOUR_0_TIME  VOICE_HOUR_1_TIME  \\\n",
       "0           8134330931                0.0                0.0   \n",
       "1           2118544651                0.0                0.0   \n",
       "2          10000337216                0.0                0.0   \n",
       "3           3133428916                0.0                0.0   \n",
       "4           3119268553                0.0                0.0   \n",
       "\n",
       "   VOICE_HOUR_2_TIME  VOICE_HOUR_3_TIME  VOICE_HOUR_4_TIME  VOICE_HOUR_5_TIME  \\\n",
       "0                0.0                0.0                0.0              0.000   \n",
       "1                0.0                0.0                0.0              0.000   \n",
       "2                0.0                0.0                0.0              0.003   \n",
       "3                0.0                0.0                0.0              0.000   \n",
       "4                0.0                0.0                0.0              0.000   \n",
       "\n",
       "   VOICE_HOUR_6_TIME  VOICE_HOUR_7_TIME  VOICE_HOUR_8_TIME        ...          \\\n",
       "0              0.000              0.005              0.001        ...           \n",
       "1              0.000              0.000              0.000        ...           \n",
       "2              0.007              0.001              0.018        ...           \n",
       "3              0.000              0.000              0.000        ...           \n",
       "4              0.000              0.000              0.000        ...           \n",
       "\n",
       "   VOICE_HOUR_15_TIME  VOICE_HOUR_16_TIME  VOICE_HOUR_17_TIME  \\\n",
       "0               0.070               0.082               0.038   \n",
       "1               0.000               0.000               0.000   \n",
       "2               0.070               0.017               0.032   \n",
       "3               0.077               0.356               0.000   \n",
       "4               0.000               0.000               0.000   \n",
       "\n",
       "   VOICE_HOUR_18_TIME  VOICE_HOUR_19_TIME  VOICE_HOUR_20_TIME  \\\n",
       "0               0.053               0.163               0.004   \n",
       "1               0.000               1.000               0.000   \n",
       "2               0.044               0.083               0.059   \n",
       "3               0.000               0.000               0.000   \n",
       "4               0.000               0.000               0.000   \n",
       "\n",
       "   VOICE_HOUR_21_TIME  VOICE_HOUR_22_TIME  VOICE_HOUR_23_TIME  \\\n",
       "0               0.042               0.019               0.001   \n",
       "1               0.000               0.000               0.000   \n",
       "2               0.096               0.000               0.000   \n",
       "3               0.172               0.000               0.041   \n",
       "4               0.000               0.000               0.000   \n",
       "\n",
       "   VOICE_MONTHLY_SUM  \n",
       "0           31177.95  \n",
       "1              36.00  \n",
       "2            8613.03  \n",
       "3             609.00  \n",
       "4               0.00  \n",
       "\n",
       "[5 rows x 26 columns]"
      ]
     },
     "execution_count": 46,
     "metadata": {},
     "output_type": "execute_result"
    }
   ],
   "source": [
    "result = result.fillna(0)\n",
    "result = result.round(3)\n",
    "result.head()"
   ]
  },
  {
   "cell_type": "markdown",
   "metadata": {},
   "source": [
    "# VOICE WEEK relative"
   ]
  },
  {
   "cell_type": "code",
   "execution_count": 47,
   "metadata": {},
   "outputs": [
    {
     "name": "stdout",
     "output_type": "stream",
     "text": [
      "VOICE_HOUR_MON_TIME\n",
      "VOICE_HOUR_TUE_TIME\n",
      "VOICE_HOUR_WED_TIME\n",
      "VOICE_HOUR_THU_TIME\n",
      "VOICE_HOUR_FRI_TIME\n",
      "VOICE_HOUR_SAT_TIME\n",
      "VOICE_HOUR_SUN_TIME\n"
     ]
    }
   ],
   "source": [
    "temp_result = pd.DataFrame() \n",
    "temp_result[\"MINING_DW_SUBSCR_NO\"] = df[\"MINING_DW_SUBSCR_NO\"]\n",
    "time_week = [\"MON\", \"TUE\", \"WED\", \"THU\", \"FRI\", \"SAT\", \"SUN\"]\n",
    "\n",
    "for i in time_week:\n",
    "    col_name = \"VOICE_\" + \"HOUR_\" + str(i) + \"_TIME\"\n",
    "    print(col_name)\n",
    "    temp_result[col_name] = 0\n",
    "    for m_ in [\"_MO_\", \"_MT_\"]:\n",
    "        temp_result[col_name] += df[\"VOICE\"+  m_  + str(i) + \"_TIME\"]\n",
    "        "
   ]
  },
  {
   "cell_type": "code",
   "execution_count": 48,
   "metadata": {},
   "outputs": [
    {
     "data": {
      "text/html": [
       "<div>\n",
       "<style>\n",
       "    .dataframe thead tr:only-child th {\n",
       "        text-align: right;\n",
       "    }\n",
       "\n",
       "    .dataframe thead th {\n",
       "        text-align: left;\n",
       "    }\n",
       "\n",
       "    .dataframe tbody tr th {\n",
       "        vertical-align: top;\n",
       "    }\n",
       "</style>\n",
       "<table border=\"1\" class=\"dataframe\">\n",
       "  <thead>\n",
       "    <tr style=\"text-align: right;\">\n",
       "      <th></th>\n",
       "      <th>MINING_DW_SUBSCR_NO</th>\n",
       "      <th>VOICE_HOUR_MON_TIME</th>\n",
       "      <th>VOICE_HOUR_TUE_TIME</th>\n",
       "      <th>VOICE_HOUR_WED_TIME</th>\n",
       "      <th>VOICE_HOUR_THU_TIME</th>\n",
       "      <th>VOICE_HOUR_FRI_TIME</th>\n",
       "      <th>VOICE_HOUR_SAT_TIME</th>\n",
       "      <th>VOICE_HOUR_SUN_TIME</th>\n",
       "    </tr>\n",
       "  </thead>\n",
       "  <tbody>\n",
       "    <tr>\n",
       "      <th>0</th>\n",
       "      <td>8134330931</td>\n",
       "      <td>2370.0</td>\n",
       "      <td>5347.0</td>\n",
       "      <td>8512.0</td>\n",
       "      <td>4076.0</td>\n",
       "      <td>3807.0</td>\n",
       "      <td>5266.0</td>\n",
       "      <td>1800.0</td>\n",
       "    </tr>\n",
       "    <tr>\n",
       "      <th>1</th>\n",
       "      <td>2118544651</td>\n",
       "      <td>0.0</td>\n",
       "      <td>0.0</td>\n",
       "      <td>0.0</td>\n",
       "      <td>0.0</td>\n",
       "      <td>0.0</td>\n",
       "      <td>36.0</td>\n",
       "      <td>0.0</td>\n",
       "    </tr>\n",
       "    <tr>\n",
       "      <th>2</th>\n",
       "      <td>10000337216</td>\n",
       "      <td>1075.0</td>\n",
       "      <td>1675.0</td>\n",
       "      <td>1394.0</td>\n",
       "      <td>478.0</td>\n",
       "      <td>1579.0</td>\n",
       "      <td>1385.0</td>\n",
       "      <td>1027.0</td>\n",
       "    </tr>\n",
       "    <tr>\n",
       "      <th>3</th>\n",
       "      <td>3133428916</td>\n",
       "      <td>10.0</td>\n",
       "      <td>110.0</td>\n",
       "      <td>357.0</td>\n",
       "      <td>0.0</td>\n",
       "      <td>58.0</td>\n",
       "      <td>52.0</td>\n",
       "      <td>22.0</td>\n",
       "    </tr>\n",
       "    <tr>\n",
       "      <th>4</th>\n",
       "      <td>3119268553</td>\n",
       "      <td>0.0</td>\n",
       "      <td>0.0</td>\n",
       "      <td>0.0</td>\n",
       "      <td>0.0</td>\n",
       "      <td>0.0</td>\n",
       "      <td>0.0</td>\n",
       "      <td>0.0</td>\n",
       "    </tr>\n",
       "  </tbody>\n",
       "</table>\n",
       "</div>"
      ],
      "text/plain": [
       "   MINING_DW_SUBSCR_NO  VOICE_HOUR_MON_TIME  VOICE_HOUR_TUE_TIME  \\\n",
       "0           8134330931               2370.0               5347.0   \n",
       "1           2118544651                  0.0                  0.0   \n",
       "2          10000337216               1075.0               1675.0   \n",
       "3           3133428916                 10.0                110.0   \n",
       "4           3119268553                  0.0                  0.0   \n",
       "\n",
       "   VOICE_HOUR_WED_TIME  VOICE_HOUR_THU_TIME  VOICE_HOUR_FRI_TIME  \\\n",
       "0               8512.0               4076.0               3807.0   \n",
       "1                  0.0                  0.0                  0.0   \n",
       "2               1394.0                478.0               1579.0   \n",
       "3                357.0                  0.0                 58.0   \n",
       "4                  0.0                  0.0                  0.0   \n",
       "\n",
       "   VOICE_HOUR_SAT_TIME  VOICE_HOUR_SUN_TIME  \n",
       "0               5266.0               1800.0  \n",
       "1                 36.0                  0.0  \n",
       "2               1385.0               1027.0  \n",
       "3                 52.0                 22.0  \n",
       "4                  0.0                  0.0  "
      ]
     },
     "execution_count": 48,
     "metadata": {},
     "output_type": "execute_result"
    }
   ],
   "source": [
    "temp_result.head()"
   ]
  },
  {
   "cell_type": "code",
   "execution_count": 49,
   "metadata": {
    "collapsed": true
   },
   "outputs": [],
   "source": [
    "# sum \n",
    "temp_result[\"temp_sum\"] = 0\n",
    "for i in temp_result.columns[:-1]:\n",
    "    if(i !=  \"MINING_DW_SUBSCR_NO\"):\n",
    "        temp_result[\"temp_sum\"] += temp_result[i]"
   ]
  },
  {
   "cell_type": "code",
   "execution_count": 50,
   "metadata": {
    "collapsed": true
   },
   "outputs": [],
   "source": [
    "# get day normalize\n",
    "for i in temp_result.columns[:-1]:\n",
    "    if(i !=  \"MINING_DW_SUBSCR_NO\"):\n",
    "        result[i] = temp_result[i] / temp_result[\"temp_sum\"]"
   ]
  },
  {
   "cell_type": "markdown",
   "metadata": {},
   "source": [
    "# Dormant and TENURE check"
   ]
  },
  {
   "cell_type": "code",
   "execution_count": 51,
   "metadata": {
    "collapsed": true
   },
   "outputs": [],
   "source": [
    "path = \"D:/NEW_DATA_FULL_2017_7_4/\"\n",
    "# path = \"C:/Users/VIPLAB/Downloads/Spark_data/\"\n",
    "# path = \"./kid/\"\n",
    "filename1 = \"MDS_SINGLESIM_APRIL_DORMANT_AGE_TENURE_COMPLETED\"\n",
    "relative_filename1 = path + filename1 + \".txt\""
   ]
  },
  {
   "cell_type": "code",
   "execution_count": 52,
   "metadata": {},
   "outputs": [
    {
     "name": "stdout",
     "output_type": "stream",
     "text": [
      "time for read csv: 1.29\n"
     ]
    }
   ],
   "source": [
    "filter_df = read_csv(relative_filename1)\n",
    "filter_df = filter_df[(filter_df[\"DORMANT_MONTH_CNT_MKT\"] == 0) & (filter_df[\"TENURE_SCV\"] >= 3)] "
   ]
  },
  {
   "cell_type": "code",
   "execution_count": 53,
   "metadata": {},
   "outputs": [
    {
     "data": {
      "text/plain": [
       "2342968"
      ]
     },
     "execution_count": 53,
     "metadata": {},
     "output_type": "execute_result"
    }
   ],
   "source": [
    "len(filter_df)"
   ]
  },
  {
   "cell_type": "code",
   "execution_count": 54,
   "metadata": {},
   "outputs": [],
   "source": [
    "filter_result_df = result[result['MINING_DW_SUBSCR_NO'].isin(filter_df['MINING_DW_SUBSCR_NO'])]"
   ]
  },
  {
   "cell_type": "code",
   "execution_count": 55,
   "metadata": {},
   "outputs": [
    {
     "data": {
      "text/plain": [
       "2342968"
      ]
     },
     "execution_count": 55,
     "metadata": {},
     "output_type": "execute_result"
    }
   ],
   "source": [
    "len(filter_result_df)"
   ]
  },
  {
   "cell_type": "code",
   "execution_count": 56,
   "metadata": {},
   "outputs": [
    {
     "data": {
      "text/html": [
       "<div>\n",
       "<style>\n",
       "    .dataframe thead tr:only-child th {\n",
       "        text-align: right;\n",
       "    }\n",
       "\n",
       "    .dataframe thead th {\n",
       "        text-align: left;\n",
       "    }\n",
       "\n",
       "    .dataframe tbody tr th {\n",
       "        vertical-align: top;\n",
       "    }\n",
       "</style>\n",
       "<table border=\"1\" class=\"dataframe\">\n",
       "  <thead>\n",
       "    <tr style=\"text-align: right;\">\n",
       "      <th></th>\n",
       "      <th>MINING_DW_SUBSCR_NO</th>\n",
       "      <th>VOICE_HOUR_0_TIME</th>\n",
       "      <th>VOICE_HOUR_1_TIME</th>\n",
       "      <th>VOICE_HOUR_2_TIME</th>\n",
       "      <th>VOICE_HOUR_3_TIME</th>\n",
       "      <th>VOICE_HOUR_4_TIME</th>\n",
       "      <th>VOICE_HOUR_5_TIME</th>\n",
       "      <th>VOICE_HOUR_6_TIME</th>\n",
       "      <th>VOICE_HOUR_7_TIME</th>\n",
       "      <th>VOICE_HOUR_8_TIME</th>\n",
       "      <th>...</th>\n",
       "      <th>VOICE_HOUR_22_TIME</th>\n",
       "      <th>VOICE_HOUR_23_TIME</th>\n",
       "      <th>VOICE_MONTHLY_SUM</th>\n",
       "      <th>VOICE_HOUR_MON_TIME</th>\n",
       "      <th>VOICE_HOUR_TUE_TIME</th>\n",
       "      <th>VOICE_HOUR_WED_TIME</th>\n",
       "      <th>VOICE_HOUR_THU_TIME</th>\n",
       "      <th>VOICE_HOUR_FRI_TIME</th>\n",
       "      <th>VOICE_HOUR_SAT_TIME</th>\n",
       "      <th>VOICE_HOUR_SUN_TIME</th>\n",
       "    </tr>\n",
       "  </thead>\n",
       "  <tbody>\n",
       "    <tr>\n",
       "      <th>0</th>\n",
       "      <td>8134330931</td>\n",
       "      <td>0.0</td>\n",
       "      <td>0.0</td>\n",
       "      <td>0.0</td>\n",
       "      <td>0.0</td>\n",
       "      <td>0.0</td>\n",
       "      <td>0.000</td>\n",
       "      <td>0.000</td>\n",
       "      <td>0.005</td>\n",
       "      <td>0.001</td>\n",
       "      <td>...</td>\n",
       "      <td>0.019</td>\n",
       "      <td>0.001</td>\n",
       "      <td>31177.95</td>\n",
       "      <td>0.076015</td>\n",
       "      <td>0.171499</td>\n",
       "      <td>0.273013</td>\n",
       "      <td>0.130733</td>\n",
       "      <td>0.122105</td>\n",
       "      <td>0.168901</td>\n",
       "      <td>0.057733</td>\n",
       "    </tr>\n",
       "    <tr>\n",
       "      <th>1</th>\n",
       "      <td>2118544651</td>\n",
       "      <td>0.0</td>\n",
       "      <td>0.0</td>\n",
       "      <td>0.0</td>\n",
       "      <td>0.0</td>\n",
       "      <td>0.0</td>\n",
       "      <td>0.000</td>\n",
       "      <td>0.000</td>\n",
       "      <td>0.000</td>\n",
       "      <td>0.000</td>\n",
       "      <td>...</td>\n",
       "      <td>0.000</td>\n",
       "      <td>0.000</td>\n",
       "      <td>36.00</td>\n",
       "      <td>0.000000</td>\n",
       "      <td>0.000000</td>\n",
       "      <td>0.000000</td>\n",
       "      <td>0.000000</td>\n",
       "      <td>0.000000</td>\n",
       "      <td>1.000000</td>\n",
       "      <td>0.000000</td>\n",
       "    </tr>\n",
       "    <tr>\n",
       "      <th>2</th>\n",
       "      <td>10000337216</td>\n",
       "      <td>0.0</td>\n",
       "      <td>0.0</td>\n",
       "      <td>0.0</td>\n",
       "      <td>0.0</td>\n",
       "      <td>0.0</td>\n",
       "      <td>0.003</td>\n",
       "      <td>0.007</td>\n",
       "      <td>0.001</td>\n",
       "      <td>0.018</td>\n",
       "      <td>...</td>\n",
       "      <td>0.000</td>\n",
       "      <td>0.000</td>\n",
       "      <td>8613.03</td>\n",
       "      <td>0.124811</td>\n",
       "      <td>0.194473</td>\n",
       "      <td>0.161848</td>\n",
       "      <td>0.055498</td>\n",
       "      <td>0.183328</td>\n",
       "      <td>0.160803</td>\n",
       "      <td>0.119238</td>\n",
       "    </tr>\n",
       "    <tr>\n",
       "      <th>3</th>\n",
       "      <td>3133428916</td>\n",
       "      <td>0.0</td>\n",
       "      <td>0.0</td>\n",
       "      <td>0.0</td>\n",
       "      <td>0.0</td>\n",
       "      <td>0.0</td>\n",
       "      <td>0.000</td>\n",
       "      <td>0.000</td>\n",
       "      <td>0.000</td>\n",
       "      <td>0.000</td>\n",
       "      <td>...</td>\n",
       "      <td>0.000</td>\n",
       "      <td>0.041</td>\n",
       "      <td>609.00</td>\n",
       "      <td>0.016420</td>\n",
       "      <td>0.180624</td>\n",
       "      <td>0.586207</td>\n",
       "      <td>0.000000</td>\n",
       "      <td>0.095238</td>\n",
       "      <td>0.085386</td>\n",
       "      <td>0.036125</td>\n",
       "    </tr>\n",
       "    <tr>\n",
       "      <th>5</th>\n",
       "      <td>3135493626</td>\n",
       "      <td>0.0</td>\n",
       "      <td>0.0</td>\n",
       "      <td>0.0</td>\n",
       "      <td>0.0</td>\n",
       "      <td>0.0</td>\n",
       "      <td>0.000</td>\n",
       "      <td>0.000</td>\n",
       "      <td>0.000</td>\n",
       "      <td>0.000</td>\n",
       "      <td>...</td>\n",
       "      <td>0.285</td>\n",
       "      <td>0.000</td>\n",
       "      <td>239.01</td>\n",
       "      <td>0.138075</td>\n",
       "      <td>0.000000</td>\n",
       "      <td>0.041841</td>\n",
       "      <td>0.476987</td>\n",
       "      <td>0.000000</td>\n",
       "      <td>0.284519</td>\n",
       "      <td>0.058577</td>\n",
       "    </tr>\n",
       "  </tbody>\n",
       "</table>\n",
       "<p>5 rows × 33 columns</p>\n",
       "</div>"
      ],
      "text/plain": [
       "   MINING_DW_SUBSCR_NO  VOICE_HOUR_0_TIME  VOICE_HOUR_1_TIME  \\\n",
       "0           8134330931                0.0                0.0   \n",
       "1           2118544651                0.0                0.0   \n",
       "2          10000337216                0.0                0.0   \n",
       "3           3133428916                0.0                0.0   \n",
       "5           3135493626                0.0                0.0   \n",
       "\n",
       "   VOICE_HOUR_2_TIME  VOICE_HOUR_3_TIME  VOICE_HOUR_4_TIME  VOICE_HOUR_5_TIME  \\\n",
       "0                0.0                0.0                0.0              0.000   \n",
       "1                0.0                0.0                0.0              0.000   \n",
       "2                0.0                0.0                0.0              0.003   \n",
       "3                0.0                0.0                0.0              0.000   \n",
       "5                0.0                0.0                0.0              0.000   \n",
       "\n",
       "   VOICE_HOUR_6_TIME  VOICE_HOUR_7_TIME  VOICE_HOUR_8_TIME  \\\n",
       "0              0.000              0.005              0.001   \n",
       "1              0.000              0.000              0.000   \n",
       "2              0.007              0.001              0.018   \n",
       "3              0.000              0.000              0.000   \n",
       "5              0.000              0.000              0.000   \n",
       "\n",
       "          ...           VOICE_HOUR_22_TIME  VOICE_HOUR_23_TIME  \\\n",
       "0         ...                        0.019               0.001   \n",
       "1         ...                        0.000               0.000   \n",
       "2         ...                        0.000               0.000   \n",
       "3         ...                        0.000               0.041   \n",
       "5         ...                        0.285               0.000   \n",
       "\n",
       "   VOICE_MONTHLY_SUM  VOICE_HOUR_MON_TIME  VOICE_HOUR_TUE_TIME  \\\n",
       "0           31177.95             0.076015             0.171499   \n",
       "1              36.00             0.000000             0.000000   \n",
       "2            8613.03             0.124811             0.194473   \n",
       "3             609.00             0.016420             0.180624   \n",
       "5             239.01             0.138075             0.000000   \n",
       "\n",
       "   VOICE_HOUR_WED_TIME  VOICE_HOUR_THU_TIME  VOICE_HOUR_FRI_TIME  \\\n",
       "0             0.273013             0.130733             0.122105   \n",
       "1             0.000000             0.000000             0.000000   \n",
       "2             0.161848             0.055498             0.183328   \n",
       "3             0.586207             0.000000             0.095238   \n",
       "5             0.041841             0.476987             0.000000   \n",
       "\n",
       "   VOICE_HOUR_SAT_TIME  VOICE_HOUR_SUN_TIME  \n",
       "0             0.168901             0.057733  \n",
       "1             1.000000             0.000000  \n",
       "2             0.160803             0.119238  \n",
       "3             0.085386             0.036125  \n",
       "5             0.284519             0.058577  \n",
       "\n",
       "[5 rows x 33 columns]"
      ]
     },
     "execution_count": 56,
     "metadata": {},
     "output_type": "execute_result"
    }
   ],
   "source": [
    "filter_result_df.head()"
   ]
  },
  {
   "cell_type": "code",
   "execution_count": 59,
   "metadata": {},
   "outputs": [],
   "source": [
    "customer_df = pd.read_csv(relative_filename1, error_bad_lines=False, usecols =  ['MINING_DW_SUBSCR_NO'])"
   ]
  },
  {
   "cell_type": "code",
   "execution_count": 60,
   "metadata": {},
   "outputs": [
    {
     "data": {
      "text/plain": [
       "2596797"
      ]
     },
     "execution_count": 60,
     "metadata": {},
     "output_type": "execute_result"
    }
   ],
   "source": [
    "len(customer_df)"
   ]
  },
  {
   "cell_type": "code",
   "execution_count": 61,
   "metadata": {
    "collapsed": true
   },
   "outputs": [],
   "source": [
    "result = pd.merge(customer_df, filter_result_df, on='MINING_DW_SUBSCR_NO', how='left')\n"
   ]
  },
  {
   "cell_type": "code",
   "execution_count": 80,
   "metadata": {
    "collapsed": true
   },
   "outputs": [],
   "source": [
    "result = result.fillna(0)\n",
    "result = result.round(3)"
   ]
  },
  {
   "cell_type": "code",
   "execution_count": 81,
   "metadata": {},
   "outputs": [
    {
     "data": {
      "text/plain": [
       "2596797"
      ]
     },
     "execution_count": 81,
     "metadata": {},
     "output_type": "execute_result"
    }
   ],
   "source": [
    "len(result)"
   ]
  },
  {
   "cell_type": "markdown",
   "metadata": {},
   "source": [
    "# check successful filter"
   ]
  },
  {
   "cell_type": "code",
   "execution_count": 82,
   "metadata": {
    "collapsed": true
   },
   "outputs": [],
   "source": [
    "test_df = result[~result['MINING_DW_SUBSCR_NO'].isin(filter_df['MINING_DW_SUBSCR_NO'])]"
   ]
  },
  {
   "cell_type": "code",
   "execution_count": 83,
   "metadata": {},
   "outputs": [
    {
     "data": {
      "text/plain": [
       "253829"
      ]
     },
     "execution_count": 83,
     "metadata": {},
     "output_type": "execute_result"
    }
   ],
   "source": [
    "len(test_df)"
   ]
  },
  {
   "cell_type": "code",
   "execution_count": 84,
   "metadata": {},
   "outputs": [
    {
     "data": {
      "text/html": [
       "<div>\n",
       "<style>\n",
       "    .dataframe thead tr:only-child th {\n",
       "        text-align: right;\n",
       "    }\n",
       "\n",
       "    .dataframe thead th {\n",
       "        text-align: left;\n",
       "    }\n",
       "\n",
       "    .dataframe tbody tr th {\n",
       "        vertical-align: top;\n",
       "    }\n",
       "</style>\n",
       "<table border=\"1\" class=\"dataframe\">\n",
       "  <thead>\n",
       "    <tr style=\"text-align: right;\">\n",
       "      <th></th>\n",
       "      <th>MINING_DW_SUBSCR_NO</th>\n",
       "      <th>VOICE_HOUR_0_TIME</th>\n",
       "      <th>VOICE_HOUR_1_TIME</th>\n",
       "      <th>VOICE_HOUR_2_TIME</th>\n",
       "      <th>VOICE_HOUR_3_TIME</th>\n",
       "      <th>VOICE_HOUR_4_TIME</th>\n",
       "      <th>VOICE_HOUR_5_TIME</th>\n",
       "      <th>VOICE_HOUR_6_TIME</th>\n",
       "      <th>VOICE_HOUR_7_TIME</th>\n",
       "      <th>VOICE_HOUR_8_TIME</th>\n",
       "      <th>...</th>\n",
       "      <th>VOICE_HOUR_22_TIME</th>\n",
       "      <th>VOICE_HOUR_23_TIME</th>\n",
       "      <th>VOICE_MONTHLY_SUM</th>\n",
       "      <th>VOICE_HOUR_MON_TIME</th>\n",
       "      <th>VOICE_HOUR_TUE_TIME</th>\n",
       "      <th>VOICE_HOUR_WED_TIME</th>\n",
       "      <th>VOICE_HOUR_THU_TIME</th>\n",
       "      <th>VOICE_HOUR_FRI_TIME</th>\n",
       "      <th>VOICE_HOUR_SAT_TIME</th>\n",
       "      <th>VOICE_HOUR_SUN_TIME</th>\n",
       "    </tr>\n",
       "  </thead>\n",
       "  <tbody>\n",
       "    <tr>\n",
       "      <th>4</th>\n",
       "      <td>3119268553</td>\n",
       "      <td>0.0</td>\n",
       "      <td>0.0</td>\n",
       "      <td>0.0</td>\n",
       "      <td>0.0</td>\n",
       "      <td>0.0</td>\n",
       "      <td>0.0</td>\n",
       "      <td>0.0</td>\n",
       "      <td>0.0</td>\n",
       "      <td>0.0</td>\n",
       "      <td>...</td>\n",
       "      <td>0.0</td>\n",
       "      <td>0.0</td>\n",
       "      <td>0.0</td>\n",
       "      <td>0.0</td>\n",
       "      <td>0.0</td>\n",
       "      <td>0.0</td>\n",
       "      <td>0.0</td>\n",
       "      <td>0.0</td>\n",
       "      <td>0.0</td>\n",
       "      <td>0.0</td>\n",
       "    </tr>\n",
       "    <tr>\n",
       "      <th>9</th>\n",
       "      <td>3118052877</td>\n",
       "      <td>0.0</td>\n",
       "      <td>0.0</td>\n",
       "      <td>0.0</td>\n",
       "      <td>0.0</td>\n",
       "      <td>0.0</td>\n",
       "      <td>0.0</td>\n",
       "      <td>0.0</td>\n",
       "      <td>0.0</td>\n",
       "      <td>0.0</td>\n",
       "      <td>...</td>\n",
       "      <td>0.0</td>\n",
       "      <td>0.0</td>\n",
       "      <td>0.0</td>\n",
       "      <td>0.0</td>\n",
       "      <td>0.0</td>\n",
       "      <td>0.0</td>\n",
       "      <td>0.0</td>\n",
       "      <td>0.0</td>\n",
       "      <td>0.0</td>\n",
       "      <td>0.0</td>\n",
       "    </tr>\n",
       "    <tr>\n",
       "      <th>16</th>\n",
       "      <td>10001380244</td>\n",
       "      <td>0.0</td>\n",
       "      <td>0.0</td>\n",
       "      <td>0.0</td>\n",
       "      <td>0.0</td>\n",
       "      <td>0.0</td>\n",
       "      <td>0.0</td>\n",
       "      <td>0.0</td>\n",
       "      <td>0.0</td>\n",
       "      <td>0.0</td>\n",
       "      <td>...</td>\n",
       "      <td>0.0</td>\n",
       "      <td>0.0</td>\n",
       "      <td>0.0</td>\n",
       "      <td>0.0</td>\n",
       "      <td>0.0</td>\n",
       "      <td>0.0</td>\n",
       "      <td>0.0</td>\n",
       "      <td>0.0</td>\n",
       "      <td>0.0</td>\n",
       "      <td>0.0</td>\n",
       "    </tr>\n",
       "    <tr>\n",
       "      <th>19</th>\n",
       "      <td>10001441351</td>\n",
       "      <td>0.0</td>\n",
       "      <td>0.0</td>\n",
       "      <td>0.0</td>\n",
       "      <td>0.0</td>\n",
       "      <td>0.0</td>\n",
       "      <td>0.0</td>\n",
       "      <td>0.0</td>\n",
       "      <td>0.0</td>\n",
       "      <td>0.0</td>\n",
       "      <td>...</td>\n",
       "      <td>0.0</td>\n",
       "      <td>0.0</td>\n",
       "      <td>0.0</td>\n",
       "      <td>0.0</td>\n",
       "      <td>0.0</td>\n",
       "      <td>0.0</td>\n",
       "      <td>0.0</td>\n",
       "      <td>0.0</td>\n",
       "      <td>0.0</td>\n",
       "      <td>0.0</td>\n",
       "    </tr>\n",
       "    <tr>\n",
       "      <th>23</th>\n",
       "      <td>10001169113</td>\n",
       "      <td>0.0</td>\n",
       "      <td>0.0</td>\n",
       "      <td>0.0</td>\n",
       "      <td>0.0</td>\n",
       "      <td>0.0</td>\n",
       "      <td>0.0</td>\n",
       "      <td>0.0</td>\n",
       "      <td>0.0</td>\n",
       "      <td>0.0</td>\n",
       "      <td>...</td>\n",
       "      <td>0.0</td>\n",
       "      <td>0.0</td>\n",
       "      <td>0.0</td>\n",
       "      <td>0.0</td>\n",
       "      <td>0.0</td>\n",
       "      <td>0.0</td>\n",
       "      <td>0.0</td>\n",
       "      <td>0.0</td>\n",
       "      <td>0.0</td>\n",
       "      <td>0.0</td>\n",
       "    </tr>\n",
       "  </tbody>\n",
       "</table>\n",
       "<p>5 rows × 33 columns</p>\n",
       "</div>"
      ],
      "text/plain": [
       "    MINING_DW_SUBSCR_NO  VOICE_HOUR_0_TIME  VOICE_HOUR_1_TIME  \\\n",
       "4            3119268553                0.0                0.0   \n",
       "9            3118052877                0.0                0.0   \n",
       "16          10001380244                0.0                0.0   \n",
       "19          10001441351                0.0                0.0   \n",
       "23          10001169113                0.0                0.0   \n",
       "\n",
       "    VOICE_HOUR_2_TIME  VOICE_HOUR_3_TIME  VOICE_HOUR_4_TIME  \\\n",
       "4                 0.0                0.0                0.0   \n",
       "9                 0.0                0.0                0.0   \n",
       "16                0.0                0.0                0.0   \n",
       "19                0.0                0.0                0.0   \n",
       "23                0.0                0.0                0.0   \n",
       "\n",
       "    VOICE_HOUR_5_TIME  VOICE_HOUR_6_TIME  VOICE_HOUR_7_TIME  \\\n",
       "4                 0.0                0.0                0.0   \n",
       "9                 0.0                0.0                0.0   \n",
       "16                0.0                0.0                0.0   \n",
       "19                0.0                0.0                0.0   \n",
       "23                0.0                0.0                0.0   \n",
       "\n",
       "    VOICE_HOUR_8_TIME         ...           VOICE_HOUR_22_TIME  \\\n",
       "4                 0.0         ...                          0.0   \n",
       "9                 0.0         ...                          0.0   \n",
       "16                0.0         ...                          0.0   \n",
       "19                0.0         ...                          0.0   \n",
       "23                0.0         ...                          0.0   \n",
       "\n",
       "    VOICE_HOUR_23_TIME  VOICE_MONTHLY_SUM  VOICE_HOUR_MON_TIME  \\\n",
       "4                  0.0                0.0                  0.0   \n",
       "9                  0.0                0.0                  0.0   \n",
       "16                 0.0                0.0                  0.0   \n",
       "19                 0.0                0.0                  0.0   \n",
       "23                 0.0                0.0                  0.0   \n",
       "\n",
       "    VOICE_HOUR_TUE_TIME  VOICE_HOUR_WED_TIME  VOICE_HOUR_THU_TIME  \\\n",
       "4                   0.0                  0.0                  0.0   \n",
       "9                   0.0                  0.0                  0.0   \n",
       "16                  0.0                  0.0                  0.0   \n",
       "19                  0.0                  0.0                  0.0   \n",
       "23                  0.0                  0.0                  0.0   \n",
       "\n",
       "    VOICE_HOUR_FRI_TIME  VOICE_HOUR_SAT_TIME  VOICE_HOUR_SUN_TIME  \n",
       "4                   0.0                  0.0                  0.0  \n",
       "9                   0.0                  0.0                  0.0  \n",
       "16                  0.0                  0.0                  0.0  \n",
       "19                  0.0                  0.0                  0.0  \n",
       "23                  0.0                  0.0                  0.0  \n",
       "\n",
       "[5 rows x 33 columns]"
      ]
     },
     "execution_count": 84,
     "metadata": {},
     "output_type": "execute_result"
    }
   ],
   "source": [
    "test_df.head()"
   ]
  },
  {
   "cell_type": "code",
   "execution_count": 85,
   "metadata": {},
   "outputs": [
    {
     "name": "stdout",
     "output_type": "stream",
     "text": [
      "col = MINING_DW_SUBSCR_NO  max_value = 10001702626\n",
      "col = VOICE_HOUR_0_TIME  max_value = 0.0\n",
      "col = VOICE_HOUR_1_TIME  max_value = 0.0\n",
      "col = VOICE_HOUR_2_TIME  max_value = 0.0\n",
      "col = VOICE_HOUR_3_TIME  max_value = 0.0\n",
      "col = VOICE_HOUR_4_TIME  max_value = 0.0\n",
      "col = VOICE_HOUR_5_TIME  max_value = 0.0\n",
      "col = VOICE_HOUR_6_TIME  max_value = 0.0\n",
      "col = VOICE_HOUR_7_TIME  max_value = 0.0\n",
      "col = VOICE_HOUR_8_TIME  max_value = 0.0\n",
      "col = VOICE_HOUR_9_TIME  max_value = 0.0\n",
      "col = VOICE_HOUR_10_TIME  max_value = 0.0\n",
      "col = VOICE_HOUR_11_TIME  max_value = 0.0\n",
      "col = VOICE_HOUR_12_TIME  max_value = 0.0\n",
      "col = VOICE_HOUR_13_TIME  max_value = 0.0\n",
      "col = VOICE_HOUR_14_TIME  max_value = 0.0\n",
      "col = VOICE_HOUR_15_TIME  max_value = 0.0\n",
      "col = VOICE_HOUR_16_TIME  max_value = 0.0\n",
      "col = VOICE_HOUR_17_TIME  max_value = 0.0\n",
      "col = VOICE_HOUR_18_TIME  max_value = 0.0\n",
      "col = VOICE_HOUR_19_TIME  max_value = 0.0\n",
      "col = VOICE_HOUR_20_TIME  max_value = 0.0\n",
      "col = VOICE_HOUR_21_TIME  max_value = 0.0\n",
      "col = VOICE_HOUR_22_TIME  max_value = 0.0\n",
      "col = VOICE_HOUR_23_TIME  max_value = 0.0\n",
      "col = VOICE_MONTHLY_SUM  max_value = 0.0\n",
      "col = VOICE_HOUR_MON_TIME  max_value = 0.0\n",
      "col = VOICE_HOUR_TUE_TIME  max_value = 0.0\n",
      "col = VOICE_HOUR_WED_TIME  max_value = 0.0\n",
      "col = VOICE_HOUR_THU_TIME  max_value = 0.0\n",
      "col = VOICE_HOUR_FRI_TIME  max_value = 0.0\n",
      "col = VOICE_HOUR_SAT_TIME  max_value = 0.0\n",
      "col = VOICE_HOUR_SUN_TIME  max_value = 0.0\n"
     ]
    }
   ],
   "source": [
    "for col in test_df.columns:\n",
    "    print(\"col =\", col, \" max_value =\", max(test_df[col]))"
   ]
  },
  {
   "cell_type": "code",
   "execution_count": 86,
   "metadata": {},
   "outputs": [
    {
     "name": "stdout",
     "output_type": "stream",
     "text": [
      "time for output csv file: 53.19\n"
     ]
    }
   ],
   "source": [
    "save_dataframe(result, out_path +  \"voice_24_7_total_filter\")"
   ]
  },
  {
   "cell_type": "markdown",
   "metadata": {},
   "source": [
    "# DNA relative"
   ]
  },
  {
   "cell_type": "code",
   "execution_count": 80,
   "metadata": {
    "collapsed": true
   },
   "outputs": [],
   "source": [
    "# week\n",
    "temp_result = pd.DataFrame() \n",
    "temp_result[\"MINING_DW_SUBSCR_NO\"] = df[\"MINING_DW_SUBSCR_NO\"]\n",
    "time_week = [\"Mon\", \"Tue\", \"Wed\", \"Thu\", \"Fri\", \"Sat\", \"Sun\"]\n",
    "for i in df.columns:\n",
    "    if( \"DNA_\" in i and any(list(map(lambda x: True if x in i else False, time_week)))):\n",
    "        temp_result[i] = df[i]\n"
   ]
  },
  {
   "cell_type": "code",
   "execution_count": 81,
   "metadata": {
    "collapsed": true
   },
   "outputs": [],
   "source": [
    "# sum \n",
    "temp_result[\"temp_sum\"] = 0\n",
    "for i in temp_result.columns[:-1]:\n",
    "    if(i !=  \"MINING_DW_SUBSCR_NO\"):\n",
    "        temp_result[\"temp_sum\"] += temp_result[i]\n",
    "# get hour normalize\n",
    "for i in temp_result.columns[:-1]:\n",
    "    if(i !=  \"MINING_DW_SUBSCR_NO\"):\n",
    "        result[i] = temp_result[i] / temp_result[\"temp_sum\"]"
   ]
  },
  {
   "cell_type": "code",
   "execution_count": 82,
   "metadata": {
    "collapsed": true
   },
   "outputs": [],
   "source": [
    "# 24hr\n",
    "temp_result = pd.DataFrame() \n",
    "temp_result[\"MINING_DW_SUBSCR_NO\"] = df[\"MINING_DW_SUBSCR_NO\"]\n",
    "time_week = [\"Mon\", \"Tue\", \"Wed\", \"Thu\", \"Fri\", \"Sat\", \"Sun\"]\n",
    "for i in df.columns:\n",
    "    if( \"DNA_\" in i and not(any(list(map(lambda x: True if x in i else False, time_week))))):\n",
    "        temp_result[i] = df[i]\n",
    "# sum \n",
    "temp_result[\"temp_sum\"] = 0\n",
    "for i in temp_result.columns[:-1]:\n",
    "    if(i !=  \"MINING_DW_SUBSCR_NO\"):\n",
    "        temp_result[\"temp_sum\"] += temp_result[i]\n",
    "# get hour normalize\n",
    "for i in temp_result.columns[:-1]:\n",
    "    if(i !=  \"MINING_DW_SUBSCR_NO\"):\n",
    "        result[i] = temp_result[i] / temp_result[\"temp_sum\"]"
   ]
  },
  {
   "cell_type": "code",
   "execution_count": 83,
   "metadata": {},
   "outputs": [
    {
     "data": {
      "text/html": [
       "<div>\n",
       "<style>\n",
       "    .dataframe thead tr:only-child th {\n",
       "        text-align: right;\n",
       "    }\n",
       "\n",
       "    .dataframe thead th {\n",
       "        text-align: left;\n",
       "    }\n",
       "\n",
       "    .dataframe tbody tr th {\n",
       "        vertical-align: top;\n",
       "    }\n",
       "</style>\n",
       "<table border=\"1\" class=\"dataframe\">\n",
       "  <thead>\n",
       "    <tr style=\"text-align: right;\">\n",
       "      <th></th>\n",
       "      <th>MINING_DW_SUBSCR_NO</th>\n",
       "      <th>VOICE_HOUR_0_TIME</th>\n",
       "      <th>VOICE_HOUR_1_TIME</th>\n",
       "      <th>VOICE_HOUR_2_TIME</th>\n",
       "      <th>VOICE_HOUR_3_TIME</th>\n",
       "      <th>VOICE_HOUR_4_TIME</th>\n",
       "      <th>VOICE_HOUR_5_TIME</th>\n",
       "      <th>VOICE_HOUR_6_TIME</th>\n",
       "      <th>VOICE_HOUR_7_TIME</th>\n",
       "      <th>VOICE_HOUR_8_TIME</th>\n",
       "      <th>...</th>\n",
       "      <th>DNA_HOUR_14_CNT</th>\n",
       "      <th>DNA_HOUR_15_CNT</th>\n",
       "      <th>DNA_HOUR_16_CNT</th>\n",
       "      <th>DNA_HOUR_17_CNT</th>\n",
       "      <th>DNA_HOUR_18_CNT</th>\n",
       "      <th>DNA_HOUR_19_CNT</th>\n",
       "      <th>DNA_HOUR_20_CNT</th>\n",
       "      <th>DNA_HOUR_21_CNT</th>\n",
       "      <th>DNA_HOUR_22_CNT</th>\n",
       "      <th>DNA_HOUR_23_CNT</th>\n",
       "    </tr>\n",
       "  </thead>\n",
       "  <tbody>\n",
       "    <tr>\n",
       "      <th>0</th>\n",
       "      <td>10000000005</td>\n",
       "      <td>0.0</td>\n",
       "      <td>0.0</td>\n",
       "      <td>0.0</td>\n",
       "      <td>0.0</td>\n",
       "      <td>0.0</td>\n",
       "      <td>0.0</td>\n",
       "      <td>0.032405</td>\n",
       "      <td>0.015794</td>\n",
       "      <td>0.006153</td>\n",
       "      <td>...</td>\n",
       "      <td>NaN</td>\n",
       "      <td>NaN</td>\n",
       "      <td>NaN</td>\n",
       "      <td>NaN</td>\n",
       "      <td>NaN</td>\n",
       "      <td>NaN</td>\n",
       "      <td>NaN</td>\n",
       "      <td>NaN</td>\n",
       "      <td>NaN</td>\n",
       "      <td>NaN</td>\n",
       "    </tr>\n",
       "    <tr>\n",
       "      <th>1</th>\n",
       "      <td>10000000006</td>\n",
       "      <td>0.0</td>\n",
       "      <td>0.0</td>\n",
       "      <td>0.0</td>\n",
       "      <td>0.0</td>\n",
       "      <td>0.0</td>\n",
       "      <td>0.0</td>\n",
       "      <td>0.000000</td>\n",
       "      <td>0.000000</td>\n",
       "      <td>0.000000</td>\n",
       "      <td>...</td>\n",
       "      <td>NaN</td>\n",
       "      <td>NaN</td>\n",
       "      <td>NaN</td>\n",
       "      <td>NaN</td>\n",
       "      <td>NaN</td>\n",
       "      <td>NaN</td>\n",
       "      <td>NaN</td>\n",
       "      <td>NaN</td>\n",
       "      <td>NaN</td>\n",
       "      <td>NaN</td>\n",
       "    </tr>\n",
       "    <tr>\n",
       "      <th>2</th>\n",
       "      <td>10000000008</td>\n",
       "      <td>0.0</td>\n",
       "      <td>0.0</td>\n",
       "      <td>0.0</td>\n",
       "      <td>0.0</td>\n",
       "      <td>0.0</td>\n",
       "      <td>0.0</td>\n",
       "      <td>0.000000</td>\n",
       "      <td>0.000000</td>\n",
       "      <td>0.472528</td>\n",
       "      <td>...</td>\n",
       "      <td>0.043602</td>\n",
       "      <td>0.058308</td>\n",
       "      <td>0.047730</td>\n",
       "      <td>0.059856</td>\n",
       "      <td>0.054180</td>\n",
       "      <td>0.040506</td>\n",
       "      <td>0.049278</td>\n",
       "      <td>0.047472</td>\n",
       "      <td>0.033540</td>\n",
       "      <td>0.037410</td>\n",
       "    </tr>\n",
       "    <tr>\n",
       "      <th>3</th>\n",
       "      <td>10000000013</td>\n",
       "      <td>0.0</td>\n",
       "      <td>0.0</td>\n",
       "      <td>0.0</td>\n",
       "      <td>0.0</td>\n",
       "      <td>0.0</td>\n",
       "      <td>0.0</td>\n",
       "      <td>0.027713</td>\n",
       "      <td>0.031868</td>\n",
       "      <td>0.000000</td>\n",
       "      <td>...</td>\n",
       "      <td>0.016345</td>\n",
       "      <td>0.016982</td>\n",
       "      <td>0.018467</td>\n",
       "      <td>0.018467</td>\n",
       "      <td>0.031840</td>\n",
       "      <td>0.048185</td>\n",
       "      <td>0.305668</td>\n",
       "      <td>0.139673</td>\n",
       "      <td>0.023986</td>\n",
       "      <td>0.042029</td>\n",
       "    </tr>\n",
       "    <tr>\n",
       "      <th>4</th>\n",
       "      <td>10000000020</td>\n",
       "      <td>0.0</td>\n",
       "      <td>0.0</td>\n",
       "      <td>0.0</td>\n",
       "      <td>0.0</td>\n",
       "      <td>0.0</td>\n",
       "      <td>0.0</td>\n",
       "      <td>0.000000</td>\n",
       "      <td>0.000000</td>\n",
       "      <td>0.000000</td>\n",
       "      <td>...</td>\n",
       "      <td>0.066007</td>\n",
       "      <td>0.091309</td>\n",
       "      <td>0.037404</td>\n",
       "      <td>0.124312</td>\n",
       "      <td>0.141914</td>\n",
       "      <td>0.009901</td>\n",
       "      <td>0.068207</td>\n",
       "      <td>0.052805</td>\n",
       "      <td>0.014301</td>\n",
       "      <td>0.007701</td>\n",
       "    </tr>\n",
       "  </tbody>\n",
       "</table>\n",
       "<p>5 rows × 63 columns</p>\n",
       "</div>"
      ],
      "text/plain": [
       "   MINING_DW_SUBSCR_NO  VOICE_HOUR_0_TIME  VOICE_HOUR_1_TIME  \\\n",
       "0          10000000005                0.0                0.0   \n",
       "1          10000000006                0.0                0.0   \n",
       "2          10000000008                0.0                0.0   \n",
       "3          10000000013                0.0                0.0   \n",
       "4          10000000020                0.0                0.0   \n",
       "\n",
       "   VOICE_HOUR_2_TIME  VOICE_HOUR_3_TIME  VOICE_HOUR_4_TIME  VOICE_HOUR_5_TIME  \\\n",
       "0                0.0                0.0                0.0                0.0   \n",
       "1                0.0                0.0                0.0                0.0   \n",
       "2                0.0                0.0                0.0                0.0   \n",
       "3                0.0                0.0                0.0                0.0   \n",
       "4                0.0                0.0                0.0                0.0   \n",
       "\n",
       "   VOICE_HOUR_6_TIME  VOICE_HOUR_7_TIME  VOICE_HOUR_8_TIME       ...         \\\n",
       "0           0.032405           0.015794           0.006153       ...          \n",
       "1           0.000000           0.000000           0.000000       ...          \n",
       "2           0.000000           0.000000           0.472528       ...          \n",
       "3           0.027713           0.031868           0.000000       ...          \n",
       "4           0.000000           0.000000           0.000000       ...          \n",
       "\n",
       "   DNA_HOUR_14_CNT  DNA_HOUR_15_CNT  DNA_HOUR_16_CNT  DNA_HOUR_17_CNT  \\\n",
       "0              NaN              NaN              NaN              NaN   \n",
       "1              NaN              NaN              NaN              NaN   \n",
       "2         0.043602         0.058308         0.047730         0.059856   \n",
       "3         0.016345         0.016982         0.018467         0.018467   \n",
       "4         0.066007         0.091309         0.037404         0.124312   \n",
       "\n",
       "   DNA_HOUR_18_CNT  DNA_HOUR_19_CNT  DNA_HOUR_20_CNT  DNA_HOUR_21_CNT  \\\n",
       "0              NaN              NaN              NaN              NaN   \n",
       "1              NaN              NaN              NaN              NaN   \n",
       "2         0.054180         0.040506         0.049278         0.047472   \n",
       "3         0.031840         0.048185         0.305668         0.139673   \n",
       "4         0.141914         0.009901         0.068207         0.052805   \n",
       "\n",
       "   DNA_HOUR_22_CNT  DNA_HOUR_23_CNT  \n",
       "0              NaN              NaN  \n",
       "1              NaN              NaN  \n",
       "2         0.033540         0.037410  \n",
       "3         0.023986         0.042029  \n",
       "4         0.014301         0.007701  \n",
       "\n",
       "[5 rows x 63 columns]"
      ]
     },
     "execution_count": 83,
     "metadata": {},
     "output_type": "execute_result"
    }
   ],
   "source": [
    "result.head()"
   ]
  },
  {
   "cell_type": "code",
   "execution_count": 85,
   "metadata": {},
   "outputs": [
    {
     "data": {
      "text/plain": [
       "['MINING_DW_SUBSCR_NO',\n",
       " 'VOICE_HOUR_0_TIME',\n",
       " 'VOICE_HOUR_1_TIME',\n",
       " 'VOICE_HOUR_2_TIME',\n",
       " 'VOICE_HOUR_3_TIME',\n",
       " 'VOICE_HOUR_4_TIME',\n",
       " 'VOICE_HOUR_5_TIME',\n",
       " 'VOICE_HOUR_6_TIME',\n",
       " 'VOICE_HOUR_7_TIME',\n",
       " 'VOICE_HOUR_8_TIME',\n",
       " 'VOICE_HOUR_9_TIME',\n",
       " 'VOICE_HOUR_10_TIME',\n",
       " 'VOICE_HOUR_11_TIME',\n",
       " 'VOICE_HOUR_12_TIME',\n",
       " 'VOICE_HOUR_13_TIME',\n",
       " 'VOICE_HOUR_14_TIME',\n",
       " 'VOICE_HOUR_15_TIME',\n",
       " 'VOICE_HOUR_16_TIME',\n",
       " 'VOICE_HOUR_17_TIME',\n",
       " 'VOICE_HOUR_18_TIME',\n",
       " 'VOICE_HOUR_19_TIME',\n",
       " 'VOICE_HOUR_20_TIME',\n",
       " 'VOICE_HOUR_21_TIME',\n",
       " 'VOICE_HOUR_22_TIME',\n",
       " 'VOICE_HOUR_23_TIME',\n",
       " 'VOICE_HOUR_MON_TIME',\n",
       " 'VOICE_HOUR_TUE_TIME',\n",
       " 'VOICE_HOUR_WED_TIME',\n",
       " 'VOICE_HOUR_THU_TIME',\n",
       " 'VOICE_HOUR_FRI_TIME',\n",
       " 'VOICE_HOUR_SAT_TIME',\n",
       " 'VOICE_HOUR_SUN_TIME',\n",
       " 'DNA_Monday',\n",
       " 'DNA_Tuesday',\n",
       " 'DNA_Wednesday',\n",
       " 'DNA_Thursday',\n",
       " 'DNA_Friday',\n",
       " 'DNA_Saturday',\n",
       " 'DNA_Sunday',\n",
       " 'DNA_HOUR_0_CNT',\n",
       " 'DNA_HOUR_1_CNT',\n",
       " 'DNA_HOUR_2_CNT',\n",
       " 'DNA_HOUR_3_CNT',\n",
       " 'DNA_HOUR_4_CNT',\n",
       " 'DNA_HOUR_5_CNT',\n",
       " 'DNA_HOUR_6_CNT',\n",
       " 'DNA_HOUR_7_CNT',\n",
       " 'DNA_HOUR_8_CNT',\n",
       " 'DNA_HOUR_9_CNT',\n",
       " 'DNA_HOUR_10_CNT',\n",
       " 'DNA_HOUR_11_CNT',\n",
       " 'DNA_HOUR_12_CNT',\n",
       " 'DNA_HOUR_13_CNT',\n",
       " 'DNA_HOUR_14_CNT',\n",
       " 'DNA_HOUR_15_CNT',\n",
       " 'DNA_HOUR_16_CNT',\n",
       " 'DNA_HOUR_17_CNT',\n",
       " 'DNA_HOUR_18_CNT',\n",
       " 'DNA_HOUR_19_CNT',\n",
       " 'DNA_HOUR_20_CNT',\n",
       " 'DNA_HOUR_21_CNT',\n",
       " 'DNA_HOUR_22_CNT',\n",
       " 'DNA_HOUR_23_CNT']"
      ]
     },
     "execution_count": 85,
     "metadata": {},
     "output_type": "execute_result"
    }
   ],
   "source": [
    "list(result)"
   ]
  },
  {
   "cell_type": "markdown",
   "metadata": {},
   "source": [
    "# merge and filter"
   ]
  },
  {
   "cell_type": "code",
   "execution_count": 86,
   "metadata": {},
   "outputs": [
    {
     "data": {
      "text/plain": [
       "731317"
      ]
     },
     "execution_count": 86,
     "metadata": {},
     "output_type": "execute_result"
    }
   ],
   "source": [
    "filter_df = temp_result[ temp_result[\"temp_sum\"] < 1]\n",
    "len(filter_df)"
   ]
  },
  {
   "cell_type": "code",
   "execution_count": 94,
   "metadata": {},
   "outputs": [
    {
     "data": {
      "text/html": [
       "<div>\n",
       "<style>\n",
       "    .dataframe thead tr:only-child th {\n",
       "        text-align: right;\n",
       "    }\n",
       "\n",
       "    .dataframe thead th {\n",
       "        text-align: left;\n",
       "    }\n",
       "\n",
       "    .dataframe tbody tr th {\n",
       "        vertical-align: top;\n",
       "    }\n",
       "</style>\n",
       "<table border=\"1\" class=\"dataframe\">\n",
       "  <thead>\n",
       "    <tr style=\"text-align: right;\">\n",
       "      <th></th>\n",
       "      <th>MINING_DW_SUBSCR_NO</th>\n",
       "      <th>DNA_HOUR_0_CNT</th>\n",
       "      <th>DNA_HOUR_1_CNT</th>\n",
       "      <th>DNA_HOUR_2_CNT</th>\n",
       "      <th>DNA_HOUR_3_CNT</th>\n",
       "      <th>DNA_HOUR_4_CNT</th>\n",
       "      <th>DNA_HOUR_5_CNT</th>\n",
       "      <th>DNA_HOUR_6_CNT</th>\n",
       "      <th>DNA_HOUR_7_CNT</th>\n",
       "      <th>DNA_HOUR_8_CNT</th>\n",
       "      <th>...</th>\n",
       "      <th>DNA_HOUR_15_CNT</th>\n",
       "      <th>DNA_HOUR_16_CNT</th>\n",
       "      <th>DNA_HOUR_17_CNT</th>\n",
       "      <th>DNA_HOUR_18_CNT</th>\n",
       "      <th>DNA_HOUR_19_CNT</th>\n",
       "      <th>DNA_HOUR_20_CNT</th>\n",
       "      <th>DNA_HOUR_21_CNT</th>\n",
       "      <th>DNA_HOUR_22_CNT</th>\n",
       "      <th>DNA_HOUR_23_CNT</th>\n",
       "      <th>temp_sum</th>\n",
       "    </tr>\n",
       "  </thead>\n",
       "  <tbody>\n",
       "    <tr>\n",
       "      <th>0</th>\n",
       "      <td>10000000005</td>\n",
       "      <td>0.0</td>\n",
       "      <td>0.0</td>\n",
       "      <td>0.0</td>\n",
       "      <td>0.0</td>\n",
       "      <td>0.0</td>\n",
       "      <td>0.0</td>\n",
       "      <td>0.0</td>\n",
       "      <td>0.0</td>\n",
       "      <td>0.0</td>\n",
       "      <td>...</td>\n",
       "      <td>0.0</td>\n",
       "      <td>0.0</td>\n",
       "      <td>0.0</td>\n",
       "      <td>0.0</td>\n",
       "      <td>0.0</td>\n",
       "      <td>0.0</td>\n",
       "      <td>0.0</td>\n",
       "      <td>0.0</td>\n",
       "      <td>0.0</td>\n",
       "      <td>0.0</td>\n",
       "    </tr>\n",
       "    <tr>\n",
       "      <th>1</th>\n",
       "      <td>10000000006</td>\n",
       "      <td>0.0</td>\n",
       "      <td>0.0</td>\n",
       "      <td>0.0</td>\n",
       "      <td>0.0</td>\n",
       "      <td>0.0</td>\n",
       "      <td>0.0</td>\n",
       "      <td>0.0</td>\n",
       "      <td>0.0</td>\n",
       "      <td>0.0</td>\n",
       "      <td>...</td>\n",
       "      <td>0.0</td>\n",
       "      <td>0.0</td>\n",
       "      <td>0.0</td>\n",
       "      <td>0.0</td>\n",
       "      <td>0.0</td>\n",
       "      <td>0.0</td>\n",
       "      <td>0.0</td>\n",
       "      <td>0.0</td>\n",
       "      <td>0.0</td>\n",
       "      <td>0.0</td>\n",
       "    </tr>\n",
       "    <tr>\n",
       "      <th>10</th>\n",
       "      <td>10000000045</td>\n",
       "      <td>0.0</td>\n",
       "      <td>0.0</td>\n",
       "      <td>0.0</td>\n",
       "      <td>0.0</td>\n",
       "      <td>0.0</td>\n",
       "      <td>0.0</td>\n",
       "      <td>0.0</td>\n",
       "      <td>0.0</td>\n",
       "      <td>0.0</td>\n",
       "      <td>...</td>\n",
       "      <td>0.0</td>\n",
       "      <td>0.0</td>\n",
       "      <td>0.0</td>\n",
       "      <td>0.0</td>\n",
       "      <td>0.0</td>\n",
       "      <td>0.0</td>\n",
       "      <td>0.0</td>\n",
       "      <td>0.0</td>\n",
       "      <td>0.0</td>\n",
       "      <td>0.0</td>\n",
       "    </tr>\n",
       "    <tr>\n",
       "      <th>15</th>\n",
       "      <td>10000000054</td>\n",
       "      <td>0.0</td>\n",
       "      <td>0.0</td>\n",
       "      <td>0.0</td>\n",
       "      <td>0.0</td>\n",
       "      <td>0.0</td>\n",
       "      <td>0.0</td>\n",
       "      <td>0.0</td>\n",
       "      <td>0.0</td>\n",
       "      <td>0.0</td>\n",
       "      <td>...</td>\n",
       "      <td>0.0</td>\n",
       "      <td>0.0</td>\n",
       "      <td>0.0</td>\n",
       "      <td>0.0</td>\n",
       "      <td>0.0</td>\n",
       "      <td>0.0</td>\n",
       "      <td>0.0</td>\n",
       "      <td>0.0</td>\n",
       "      <td>0.0</td>\n",
       "      <td>0.0</td>\n",
       "    </tr>\n",
       "    <tr>\n",
       "      <th>25</th>\n",
       "      <td>10000000068</td>\n",
       "      <td>0.0</td>\n",
       "      <td>0.0</td>\n",
       "      <td>0.0</td>\n",
       "      <td>0.0</td>\n",
       "      <td>0.0</td>\n",
       "      <td>0.0</td>\n",
       "      <td>0.0</td>\n",
       "      <td>0.0</td>\n",
       "      <td>0.0</td>\n",
       "      <td>...</td>\n",
       "      <td>0.0</td>\n",
       "      <td>0.0</td>\n",
       "      <td>0.0</td>\n",
       "      <td>0.0</td>\n",
       "      <td>0.0</td>\n",
       "      <td>0.0</td>\n",
       "      <td>0.0</td>\n",
       "      <td>0.0</td>\n",
       "      <td>0.0</td>\n",
       "      <td>0.0</td>\n",
       "    </tr>\n",
       "  </tbody>\n",
       "</table>\n",
       "<p>5 rows × 26 columns</p>\n",
       "</div>"
      ],
      "text/plain": [
       "    MINING_DW_SUBSCR_NO  DNA_HOUR_0_CNT  DNA_HOUR_1_CNT  DNA_HOUR_2_CNT  \\\n",
       "0           10000000005             0.0             0.0             0.0   \n",
       "1           10000000006             0.0             0.0             0.0   \n",
       "10          10000000045             0.0             0.0             0.0   \n",
       "15          10000000054             0.0             0.0             0.0   \n",
       "25          10000000068             0.0             0.0             0.0   \n",
       "\n",
       "    DNA_HOUR_3_CNT  DNA_HOUR_4_CNT  DNA_HOUR_5_CNT  DNA_HOUR_6_CNT  \\\n",
       "0              0.0             0.0             0.0             0.0   \n",
       "1              0.0             0.0             0.0             0.0   \n",
       "10             0.0             0.0             0.0             0.0   \n",
       "15             0.0             0.0             0.0             0.0   \n",
       "25             0.0             0.0             0.0             0.0   \n",
       "\n",
       "    DNA_HOUR_7_CNT  DNA_HOUR_8_CNT    ...     DNA_HOUR_15_CNT  \\\n",
       "0              0.0             0.0    ...                 0.0   \n",
       "1              0.0             0.0    ...                 0.0   \n",
       "10             0.0             0.0    ...                 0.0   \n",
       "15             0.0             0.0    ...                 0.0   \n",
       "25             0.0             0.0    ...                 0.0   \n",
       "\n",
       "    DNA_HOUR_16_CNT  DNA_HOUR_17_CNT  DNA_HOUR_18_CNT  DNA_HOUR_19_CNT  \\\n",
       "0               0.0              0.0              0.0              0.0   \n",
       "1               0.0              0.0              0.0              0.0   \n",
       "10              0.0              0.0              0.0              0.0   \n",
       "15              0.0              0.0              0.0              0.0   \n",
       "25              0.0              0.0              0.0              0.0   \n",
       "\n",
       "    DNA_HOUR_20_CNT  DNA_HOUR_21_CNT  DNA_HOUR_22_CNT  DNA_HOUR_23_CNT  \\\n",
       "0               0.0              0.0              0.0              0.0   \n",
       "1               0.0              0.0              0.0              0.0   \n",
       "10              0.0              0.0              0.0              0.0   \n",
       "15              0.0              0.0              0.0              0.0   \n",
       "25              0.0              0.0              0.0              0.0   \n",
       "\n",
       "    temp_sum  \n",
       "0        0.0  \n",
       "1        0.0  \n",
       "10       0.0  \n",
       "15       0.0  \n",
       "25       0.0  \n",
       "\n",
       "[5 rows x 26 columns]"
      ]
     },
     "execution_count": 94,
     "metadata": {},
     "output_type": "execute_result"
    }
   ],
   "source": [
    "filter_df.head()"
   ]
  },
  {
   "cell_type": "code",
   "execution_count": 95,
   "metadata": {
    "collapsed": true
   },
   "outputs": [],
   "source": [
    "for index, row in result.iterrows():\n",
    "    r_id = row[\"MINING_DW_SUBSCR_NO\"]\n",
    "    if(r_id in filter_df[\"MINING_DW_SUBSCR_NO\"]):\n",
    "        for i in result.columns:\n",
    "            if(\"DNA_\" in i):\n",
    "                result.set_value(index, i, 0)\n",
    "                #row[i] = 0\n",
    "                #result.loc[result.index[r_id]] = row\n",
    "                #result.loc[r_id][i] = 0\n",
    "                #result.iloc[index:index+1, result.columns.get_loc(i)] = 0\n"
   ]
  },
  {
   "cell_type": "code",
   "execution_count": 96,
   "metadata": {
    "collapsed": true
   },
   "outputs": [],
   "source": [
    "result = result.fillna(0)"
   ]
  },
  {
   "cell_type": "markdown",
   "metadata": {},
   "source": [
    "# save unnormalize data"
   ]
  },
  {
   "cell_type": "code",
   "execution_count": 102,
   "metadata": {
    "collapsed": true
   },
   "outputs": [],
   "source": [
    "path = \"./\"\n",
    "filename = \"DNA_KMEANS_RESULT_ID_NEW.csv\"\n",
    "# TAG K MEAN RESULT\n",
    "KMEANS_RESULT_ID_FILE = path + filename\n",
    "result = process_csv_kmean_result(KMEANS_RESULT_ID_FILE, result)\n"
   ]
  },
  {
   "cell_type": "code",
   "execution_count": 103,
   "metadata": {
    "collapsed": true
   },
   "outputs": [],
   "source": [
    "result = result.fillna(0)"
   ]
  },
  {
   "cell_type": "code",
   "execution_count": 104,
   "metadata": {},
   "outputs": [
    {
     "data": {
      "text/plain": [
       "2596797"
      ]
     },
     "execution_count": 104,
     "metadata": {},
     "output_type": "execute_result"
    }
   ],
   "source": [
    "len(result)"
   ]
  },
  {
   "cell_type": "code",
   "execution_count": 105,
   "metadata": {},
   "outputs": [
    {
     "data": {
      "text/plain": [
       "407597"
      ]
     },
     "execution_count": 105,
     "metadata": {},
     "output_type": "execute_result"
    }
   ],
   "source": [
    "len(result[result[\"Groups\"] == '1'])"
   ]
  },
  {
   "cell_type": "code",
   "execution_count": 106,
   "metadata": {
    "collapsed": true
   },
   "outputs": [],
   "source": [
    "path = \"./kmean_label/\"\n",
    "filename = \"label_K8__all_max_min_0625_voice\"\n",
    "FILE = path + filename + \".npy\"\n",
    "labels_ = np.load(FILE)\n",
    "result['label'] = labels_\n",
    "# TAG K MEAN RESULT\n",
    "for index, row in result.iterrows():\n",
    "#     r_id = row[\"MINING_DW_SUBSCR_NO\"]\n",
    "    if(row[\"label\"] == 0):\n",
    "        for i in result.columns[1:]:\n",
    "            if(not \"DNA_\" in i):\n",
    "                result.set_value(index, i, 0)\n"
   ]
  },
  {
   "cell_type": "code",
   "execution_count": 107,
   "metadata": {},
   "outputs": [
    {
     "name": "stdout",
     "output_type": "stream",
     "text": [
      "time for output csv file: 117.40\n"
     ]
    }
   ],
   "source": [
    "result = result.drop(\"label\", 1)\n",
    "save_dataframe(result, out_path +  \"non_normalize_48_cols\")"
   ]
  },
  {
   "cell_type": "code",
   "execution_count": null,
   "metadata": {
    "collapsed": true
   },
   "outputs": [],
   "source": []
  },
  {
   "cell_type": "markdown",
   "metadata": {},
   "source": [
    "# normalize"
   ]
  },
  {
   "cell_type": "code",
   "execution_count": 108,
   "metadata": {
    "collapsed": true
   },
   "outputs": [],
   "source": [
    "normalize_result = pd.DataFrame() \n",
    "normalize_result[\"MINING_DW_SUBSCR_NO\"] = df[\"MINING_DW_SUBSCR_NO\"]"
   ]
  },
  {
   "cell_type": "markdown",
   "metadata": {},
   "source": [
    "# VOICE_workday/holiday_time_avg = MO TIME + MT TIME"
   ]
  },
  {
   "cell_type": "code",
   "execution_count": 109,
   "metadata": {
    "collapsed": true,
    "scrolled": false
   },
   "outputs": [],
   "source": [
    "week_dict = {\n",
    "    \"VOICE_workday_time\" : [\"VOICE_HOUR_MON_TIME\", \"VOICE_HOUR_TUE_TIME\", \"VOICE_HOUR_WED_TIME\", \"VOICE_HOUR_THU_TIME\", \"VOICE_HOUR_FRI_TIME\"],\n",
    "    \"VOICE_holiday_time\" : [\"VOICE_HOUR_SAT_TIME\", \"VOICE_HOUR_SUN_TIME\"]\n",
    "            }\n",
    "\n",
    "for key, col_list in week_dict.items():\n",
    "    normalize_result[key] = 0\n",
    "    for col in col_list:\n",
    "        normalize_result[key] += result[col]\n",
    "    normalize_result[key] /= len(col_list)\n",
    "week_dict = {\n",
    "    \"DNA_workday_cnt\" : [\"DNA_Monday\", \"DNA_Tuesday\", \"DNA_Wednesday\", \"DNA_Thursday\", \"DNA_Friday\"],\n",
    "    \"DNA_holiday_cnt\" : [\"DNA_Saturday\", \"DNA_Sunday\"]\n",
    "            }  \n",
    "for key, col_list in week_dict.items():\n",
    "    normalize_result[key] = 0\n",
    "    for col in col_list:\n",
    "        normalize_result[key] += result[col]\n",
    "    normalize_result[key] /= len(col_list)"
   ]
  },
  {
   "cell_type": "markdown",
   "metadata": {},
   "source": [
    "# SEGMETS HOUR TIME = PICK HOURS' TIME / HOURS' COUNT"
   ]
  },
  {
   "cell_type": "code",
   "execution_count": 110,
   "metadata": {},
   "outputs": [
    {
     "name": "stdout",
     "output_type": "stream",
     "text": [
      "hour(7~11)_time\n",
      "VOICE_ HOUR_7_TIME\n",
      "VOICE_ HOUR_8_TIME\n",
      "VOICE_ HOUR_9_TIME\n",
      "VOICE_ HOUR_10_TIME\n",
      "VOICE_ HOUR_11_TIME\n",
      "hour(12~13)_time\n",
      "VOICE_ HOUR_12_TIME\n",
      "VOICE_ HOUR_13_TIME\n",
      "hour(14~19)_time\n",
      "VOICE_ HOUR_14_TIME\n",
      "VOICE_ HOUR_15_TIME\n",
      "VOICE_ HOUR_16_TIME\n",
      "VOICE_ HOUR_17_TIME\n",
      "VOICE_ HOUR_18_TIME\n",
      "VOICE_ HOUR_19_TIME\n",
      "hour(20~3)_time\n",
      "VOICE_ HOUR_20_TIME\n",
      "VOICE_ HOUR_21_TIME\n",
      "VOICE_ HOUR_22_TIME\n",
      "VOICE_ HOUR_23_TIME\n",
      "VOICE_ HOUR_0_TIME\n",
      "VOICE_ HOUR_1_TIME\n",
      "VOICE_ HOUR_2_TIME\n",
      "VOICE_ HOUR_3_TIME\n",
      "hour(4~6)_time\n",
      "VOICE_ HOUR_4_TIME\n",
      "VOICE_ HOUR_5_TIME\n",
      "VOICE_ HOUR_6_TIME\n",
      "DNA_hour(7~11)_CNT\n",
      "DNA_7_CNT\n",
      "DNA_8_CNT\n",
      "DNA_9_CNT\n",
      "DNA_10_CNT\n",
      "DNA_11_CNT\n",
      "DNA_hour(12~13)_CNT\n",
      "DNA_12_CNT\n",
      "DNA_13_CNT\n",
      "DNA_hour(14~19)_CNT\n",
      "DNA_14_CNT\n",
      "DNA_15_CNT\n",
      "DNA_16_CNT\n",
      "DNA_17_CNT\n",
      "DNA_18_CNT\n",
      "DNA_19_CNT\n",
      "DNA_hour(20~3)_CNT\n",
      "DNA_20_CNT\n",
      "DNA_21_CNT\n",
      "DNA_22_CNT\n",
      "DNA_23_CNT\n",
      "DNA_0_CNT\n",
      "DNA_1_CNT\n",
      "DNA_2_CNT\n",
      "DNA_3_CNT\n",
      "DNA_hour(4~6)_CNT\n",
      "DNA_4_CNT\n",
      "DNA_5_CNT\n",
      "DNA_6_CNT\n"
     ]
    }
   ],
   "source": [
    "range_dict = {\"hour(7~11)\" : range(7,11+1), \"hour(12~13)\" : range(12,13+1), \"hour(14~19)\" : range(14,19+1), \"hour(20~3)\" : [20, 21, 22, 23, 0, 1, 2, 3], \"hour(4~6)\" : range(4,6 + 1)}\n",
    "for key, time_list in range_dict.items():\n",
    "    col_name = key +  \"_time\"\n",
    "    print(col_name)\n",
    "    normalize_result[col_name] = 0\n",
    "    for i in time_list:\n",
    "        print(\"VOICE_ \" + \"HOUR_\" + str(i) + \"_TIME\")\n",
    "        normalize_result[col_name] += result[\"VOICE_HOUR_\" + str(i) + \"_TIME\"]\n",
    "    normalize_result[col_name] = normalize_result[col_name] / len(time_list)\n",
    "for key, time_list in range_dict.items():\n",
    "    col_name = \"DNA_\" + key +  \"_CNT\"\n",
    "    print(col_name)\n",
    "    normalize_result[col_name] = 0\n",
    "    for i in time_list:\n",
    "        print(\"DNA_\" + str(i) + \"_CNT\")\n",
    "    \n",
    "        normalize_result[col_name] += result[\"DNA_HOUR_\" + str(i) + \"_CNT\"]\n",
    "    normalize_result[col_name] = normalize_result[col_name] / len(time_list)\n"
   ]
  },
  {
   "cell_type": "code",
   "execution_count": 111,
   "metadata": {
    "collapsed": true
   },
   "outputs": [],
   "source": [
    "# telegram_list = [\"FET\", \"TWM\", \"CHM\", \"APT\", \"TSC\", \"PSTN\"]\n",
    "\n",
    "# for telegram in telegram_list:\n",
    "#     result[telegram + \"_time\"] = df[\"MOC_\" + telegram + \"_DUR\"] + df[\"MTC_\" + telegram + \"_DUR\"]\n",
    "#     result[telegram + \"_cnt\"] = df[\"MOC_\" + telegram + \"_CNT\"] + df[\"MTC_\" + telegram + \"_CNT\"]\n",
    "\n",
    "    "
   ]
  },
  {
   "cell_type": "code",
   "execution_count": 112,
   "metadata": {
    "collapsed": true
   },
   "outputs": [],
   "source": [
    "# mo_mt_list = [\"MOC\", \"MTC\"]\n",
    "# for i in mo_mt_list:\n",
    "#     df[i+ \"_CNT\"] = df[i+ \"_CNT\"].apply(lambda x: x if x > 0 else 1)    \n",
    "#     result[i + \"_time_avg\"] =  df[i + \"_DUR\"] /  df[i+ \"_CNT\"]\n",
    "# result[\"MO/MT_CNT\"] = df[\"MOC_CNT\"] / df[\"MTC_CNT\"]"
   ]
  },
  {
   "cell_type": "code",
   "execution_count": 113,
   "metadata": {
    "collapsed": true
   },
   "outputs": [],
   "source": [
    "path = \"./kmean_label/\"\n",
    "filename = \"label_K8__all_max_min_0625_voice\"\n",
    "FILE = path + filename + \".npy\"\n",
    "labels_ = np.load(FILE)\n",
    "normalize_result['label'] = labels_\n",
    "normalize_result = normalize_result.fillna(0)\n",
    "# TAG K MEAN RESULT\n",
    "path = \"./\"\n",
    "filename = \"DNA_KMEANS_RESULT_ID_NEW.csv\"\n",
    "# TAG K MEAN RESULT\n",
    "KMEANS_RESULT_ID_FILE = path + filename\n",
    "normalize_result = process_csv_kmean_result(KMEANS_RESULT_ID_FILE, normalize_result)\n"
   ]
  },
  {
   "cell_type": "code",
   "execution_count": 119,
   "metadata": {},
   "outputs": [
    {
     "data": {
      "text/plain": [
       "69527"
      ]
     },
     "execution_count": 119,
     "metadata": {},
     "output_type": "execute_result"
    }
   ],
   "source": [
    "len(normalize_result[normalize_result[\"Groups\"] == '1'])"
   ]
  },
  {
   "cell_type": "code",
   "execution_count": 115,
   "metadata": {
    "collapsed": true
   },
   "outputs": [],
   "source": [
    "for index, row in normalize_result.iterrows():\n",
    "#     r_id = row[\"MINING_DW_SUBSCR_NO\"]\n",
    "    if(row[\"label\"] == 0):\n",
    "        for i in normalize_result.columns[1:]:\n",
    "            if(not \"DNA_\" in i):\n",
    "                normalize_result.set_value(index, i, 0)"
   ]
  },
  {
   "cell_type": "code",
   "execution_count": 116,
   "metadata": {},
   "outputs": [
    {
     "name": "stdout",
     "output_type": "stream",
     "text": [
      "time for output csv file: 29.59\n"
     ]
    }
   ],
   "source": [
    "normalize_result = normalize_result.drop(\"label\", 1)\n",
    "save_dataframe(normalize_result, out_path +  \"table_with_kid_all\")"
   ]
  },
  {
   "cell_type": "code",
   "execution_count": 117,
   "metadata": {
    "collapsed": true
   },
   "outputs": [],
   "source": [
    "split_list = [\"1\", \"2\", \"3\", \"4\", \"5\", \"6\", \"7\", \"8\", \"seldom\", \"None\" ]\n"
   ]
  },
  {
   "cell_type": "code",
   "execution_count": 118,
   "metadata": {},
   "outputs": [
    {
     "name": "stdout",
     "output_type": "stream",
     "text": [
      "time for output csv file: 1.29\n",
      "time for output csv file: 0.57\n",
      "time for output csv file: 0.35\n",
      "time for output csv file: 0.37\n",
      "time for output csv file: 0.31\n",
      "time for output csv file: 0.47\n",
      "time for output csv file: 0.52\n",
      "time for output csv file: 1.56\n",
      "time for output csv file: 0.93\n",
      "time for output csv file: 1.13\n"
     ]
    }
   ],
   "source": [
    "for kid in split_list:\n",
    "    temp_df = normalize_result[normalize_result[\"Groups\"] == kid]\n",
    "    temp_df = temp_df.drop(\"Groups\", 1)\n",
    "    \n",
    "    save_dataframe(temp_df, out_path + \"table_with_kid_\" + kid)"
   ]
  },
  {
   "cell_type": "code",
   "execution_count": null,
   "metadata": {
    "collapsed": true
   },
   "outputs": [],
   "source": []
  },
  {
   "cell_type": "code",
   "execution_count": null,
   "metadata": {
    "collapsed": true
   },
   "outputs": [],
   "source": []
  },
  {
   "cell_type": "code",
   "execution_count": null,
   "metadata": {
    "collapsed": true
   },
   "outputs": [],
   "source": []
  },
  {
   "cell_type": "code",
   "execution_count": null,
   "metadata": {
    "collapsed": true
   },
   "outputs": [],
   "source": []
  },
  {
   "cell_type": "code",
   "execution_count": null,
   "metadata": {
    "collapsed": true
   },
   "outputs": [],
   "source": []
  },
  {
   "cell_type": "code",
   "execution_count": 64,
   "metadata": {
    "collapsed": true
   },
   "outputs": [],
   "source": [
    "path = \"./\"\n",
    "filename = \"DNA_KMEANS_RESULT_ID_NEW.csv\"\n",
    "# TAG K MEAN RESULT\n",
    "KMEANS_RESULT_ID_FILE = path + filename\n",
    "df = df.drop(\"Groups\", 1)\n",
    "\n",
    "df = process_csv_kmean_result(KMEANS_RESULT_ID_FILE, df)"
   ]
  },
  {
   "cell_type": "code",
   "execution_count": 65,
   "metadata": {},
   "outputs": [
    {
     "data": {
      "text/plain": [
       "407597"
      ]
     },
     "execution_count": 65,
     "metadata": {},
     "output_type": "execute_result"
    }
   ],
   "source": [
    "len(df[df[\"Groups\"] == '1'])"
   ]
  },
  {
   "cell_type": "code",
   "execution_count": 66,
   "metadata": {
    "collapsed": true
   },
   "outputs": [],
   "source": [
    "path = \"./\"\n",
    "filename = \"DNA_KMEANS_RESULT_ID_NEW.csv\"\n",
    "# TAG K MEAN RESULT\n",
    "KMEANS_RESULT_ID_FILE = path + filename\n",
    "result = df.drop(\"Groups\", 1)\n",
    "\n",
    "result = process_csv_kmean_result(KMEANS_RESULT_ID_FILE, result)"
   ]
  },
  {
   "cell_type": "code",
   "execution_count": 67,
   "metadata": {},
   "outputs": [
    {
     "data": {
      "text/plain": [
       "407597"
      ]
     },
     "execution_count": 67,
     "metadata": {},
     "output_type": "execute_result"
    }
   ],
   "source": [
    "len(result[result[\"Groups\"] == '1'])"
   ]
  },
  {
   "cell_type": "code",
   "execution_count": null,
   "metadata": {
    "collapsed": true
   },
   "outputs": [],
   "source": []
  }
 ],
 "metadata": {
  "kernelspec": {
   "display_name": "Python 3",
   "language": "python",
   "name": "python3"
  },
  "language_info": {
   "codemirror_mode": {
    "name": "ipython",
    "version": 3
   },
   "file_extension": ".py",
   "mimetype": "text/x-python",
   "name": "python",
   "nbconvert_exporter": "python",
   "pygments_lexer": "ipython3",
   "version": "3.6.1"
  }
 },
 "nbformat": 4,
 "nbformat_minor": 2
}
