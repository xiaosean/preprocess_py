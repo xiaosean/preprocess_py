{
 "cells": [
  {
   "cell_type": "code",
   "execution_count": 1,
   "metadata": {
    "collapsed": true
   },
   "outputs": [],
   "source": [
    "import os.path\n",
    "import numpy as np\n",
    "import pandas as pd\n",
    "from time import time\n",
    "import dask.dataframe as dd\n",
    "from sklearn.cluster import KMeans\n",
    "import bcolz\n",
    "from pandas.computation import expressions as expr"
   ]
  },
  {
   "cell_type": "code",
   "execution_count": 2,
   "metadata": {
    "collapsed": true
   },
   "outputs": [],
   "source": [
    "def bcolz_setting():\n",
    "\t# Global settings for bcolz and pandas (for experimenting, modify some of the lines below)\n",
    "\tbcolz.defaults.cparams['cname'] = 'blosclz'\n",
    "\tbcolz.defaults.cparams['clevel'] = 1\n",
    "\tbcolz.defaults.eval_vm = \"numexpr\"\n",
    "\tbcolz.blosc_set_nthreads(4)\n",
    "\tbcolz.numexpr.set_num_threads(4)\n",
    "\texpr.set_use_numexpr(True)\n"
   ]
  },
  {
   "cell_type": "code",
   "execution_count": 3,
   "metadata": {},
   "outputs": [
    {
     "name": "stdout",
     "output_type": "stream",
     "text": [
      "-=-=-=-=-=-=-=-=-=-=-=-=-=-=-=-=-=-=-=-=-=-=-=-=-=-=-=-=-=-=-=-=-=-=-=-=-=-=\n",
      "bcolz version:     1.1.2\n",
      "NumPy version:     1.12.1\n",
      "Blosc version:     1.11.2 ($Date:: 2017-01-27 #$)\n",
      "Blosc compressors: ['blosclz', 'lz4', 'lz4hc', 'snappy', 'zlib', 'zstd']\n",
      "Numexpr version:   2.6.2\n",
      "Dask version:      0.14.3\n",
      "Python version:    3.6.1 |Anaconda 4.4.0 (64-bit)| (default, May 11 2017, 13:25:24) [MSC v.1900 64 bit (AMD64)]\n",
      "Byte-ordering:     little\n",
      "Detected cores:    8\n",
      "-=-=-=-=-=-=-=-=-=-=-=-=-=-=-=-=-=-=-=-=-=-=-=-=-=-=-=-=-=-=-=-=-=-=-=-=-=-=\n"
     ]
    },
    {
     "name": "stderr",
     "output_type": "stream",
     "text": [
      "C:\\Users\\VIPLAB\\AppData\\Local\\conda\\conda\\envs\\py36\\lib\\site-packages\\ipykernel_launcher.py:8: FutureWarning: pandas.computation.expressions.set_use_numexpr is deprecated and will be removed in a future version.\n",
      "you can toggle usage of numexpr via pandas.get_option('compute.use_numexpr')\n",
      "  \n"
     ]
    }
   ],
   "source": [
    "bcolz.print_versions()\n",
    "bcolz_setting()"
   ]
  },
  {
   "cell_type": "code",
   "execution_count": null,
   "metadata": {
    "collapsed": true
   },
   "outputs": [],
   "source": [
    "# set configure\n",
    "path = \"./\"\n",
    "filename = \"mds_mly_minus20160901\"\n",
    "relative_filename = path + filename + \".csv\"\n",
    "# out_filename = \"mds_mly_minus20160901\"\n",
    "# after the numeric_st_idx's number will be tranform to int64\n",
    "numeric_st_idx = 2\n",
    "n_clusters = 5"
   ]
  },
  {
   "cell_type": "code",
   "execution_count": null,
   "metadata": {
    "collapsed": true
   },
   "outputs": [],
   "source": [
    "# read revise csv file and print cost time\n",
    "t0 = time()\n",
    "df = pd.read_csv(relative_filename, error_bad_lines=False)\n",
    "print(\"time for read csv: %.2f\" % (time()-t0))"
   ]
  },
  {
   "cell_type": "code",
   "execution_count": null,
   "metadata": {
    "collapsed": true
   },
   "outputs": [],
   "source": [
    "df.info()"
   ]
  },
  {
   "cell_type": "code",
   "execution_count": null,
   "metadata": {
    "collapsed": true
   },
   "outputs": [],
   "source": [
    "# Create the dataframe\n",
    "# http://jcrist.github.io/dask-sklearn-part-3.html\n",
    "# cols = df.columns[2:]\n",
    "t0 = time()\n",
    "# dask_df no columns slice, so u should do it in here, use usecols argument.\n",
    "dask_df = dd.read_csv(relative_filename,\n",
    "#                  usecols=cols,\n",
    "                 blocksize=int(128e6),\n",
    "                 storage_options=dict(anon=True))\n",
    "print(\"time for read csv: %.2f\" % (time()-t0))"
   ]
  },
  {
   "cell_type": "code",
   "execution_count": null,
   "metadata": {
    "collapsed": true
   },
   "outputs": [],
   "source": [
    "dask_df.info()"
   ]
  },
  {
   "cell_type": "code",
   "execution_count": null,
   "metadata": {
    "collapsed": true
   },
   "outputs": [],
   "source": [
    "t0 = time()\n",
    "kmeans = KMeans(n_clusters=n_clusters).fit(df[df.columns[2:]])\n",
    "print(\"time for k mean csv: %.2f \" % (time()-t0))"
   ]
  },
  {
   "cell_type": "code",
   "execution_count": null,
   "metadata": {
    "collapsed": true
   },
   "outputs": [],
   "source": [
    "dask_df.head()"
   ]
  },
  {
   "cell_type": "code",
   "execution_count": null,
   "metadata": {
    "collapsed": true
   },
   "outputs": [],
   "source": [
    "t0 = time()\n",
    "kmeans = KMeans(n_clusters=n_clusters).fit(dask_df)\n",
    "print(\"time for k mean csv: %.2f \" % (time()-t0))"
   ]
  },
  {
   "cell_type": "code",
   "execution_count": 88,
   "metadata": {
    "scrolled": true
   },
   "outputs": [
    {
     "name": "stdout",
     "output_type": "stream",
     "text": [
      "time for ctable conversion: 0.14\n"
     ]
    }
   ],
   "source": [
    "t0 = time()\n",
    "bcolz_df = bcolz.ctable.fromdataframe(df, names = list(df.columns[2:]))\n",
    "print(\"time for ctable conversion: %.2f\" % (time()-t0))"
   ]
  },
  {
   "cell_type": "code",
   "execution_count": 89,
   "metadata": {},
   "outputs": [
    {
     "data": {
      "text/plain": [
       "carray((1878076,), int64)\n",
       "  nbytes := 14.33 MB; cbytes := 4.13 MB; ratio: 3.47\n",
       "  cparams := cparams(clevel=1, shuffle=1, cname='blosclz', quantize=0)\n",
       "  chunklen := 65536; chunksize: 524288; blocksize: 16384\n",
       "[ 53 125 260 ...,  52 357  83]"
      ]
     },
     "execution_count": 89,
     "metadata": {},
     "output_type": "execute_result"
    }
   ],
   "source": [
    "bcolz_df[\"MO_OFFNET_DUR\"]"
   ]
  },
  {
   "cell_type": "code",
   "execution_count": 91,
   "metadata": {},
   "outputs": [
    {
     "name": "stdout",
     "output_type": "stream",
     "text": [
      "time for k mean csv: 133.06 \n"
     ]
    }
   ],
   "source": [
    "t0 = time()\n",
    "kmeans = KMeans(n_clusters=n_clusters).fit(bcolz_df)\n",
    "print(\"time for k mean csv: %.2f \" % (time()-t0))"
   ]
  },
  {
   "cell_type": "code",
   "execution_count": null,
   "metadata": {
    "collapsed": true
   },
   "outputs": [],
   "source": [
    "del pd"
   ]
  }
 ],
 "metadata": {
  "kernelspec": {
   "display_name": "Python 3",
   "language": "python",
   "name": "python3"
  },
  "language_info": {
   "codemirror_mode": {
    "name": "ipython",
    "version": 3
   },
   "file_extension": ".py",
   "mimetype": "text/x-python",
   "name": "python",
   "nbconvert_exporter": "python",
   "pygments_lexer": "ipython3",
   "version": "3.6.1"
  }
 },
 "nbformat": 4,
 "nbformat_minor": 2
}
